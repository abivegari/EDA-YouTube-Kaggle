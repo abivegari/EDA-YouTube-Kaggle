{
 "cells": [
  {
   "cell_type": "markdown",
   "metadata": {},
   "source": [
    "# EDA Datasets Youtube"
   ]
  },
  {
   "cell_type": "markdown",
   "metadata": {},
   "source": [
    "## Datasets Yang Digunakan\n",
    "</br></br>\n",
    "Datasets yang digunakan adalah datasets video Youtube yang bersumber dari Kaggle dengan link sebagai berikut : <br>https://www.kaggle.com/datasnaek/youtube-new\n",
    "\n",
    "Datasets tersebut adalah \n",
    "\n",
    "\n",
    "Datasets yang digunakan dalam eksplorasi dibatasi menjadi 3 wilayah/region Canada (CA), Great Britain (GB), dan United States (US).\n",
    "\n",
    "\n",
    "Jenis dari datasets dari ketiga region tersebut adalah sama yaitu : <b>\n",
    " - Data video dengan format .csv <br>\n",
    " - Data kategori dengan format .json</b>"
   ]
  },
  {
   "cell_type": "markdown",
   "metadata": {},
   "source": [
    "## Import library dan load datasets\n",
    "Import library <b>Pandas</b> dan library lain yang diperlukan untuk membaca datasets .csv dan .json. <br/><br/>\n",
    "Datasets yang diload adalah sebagai berikut : <b>\n",
    "- CA_category_id.json\n",
    "- CAvideos.csv\n",
    "- GB_category_id.json\n",
    "- GBvideos.csv\n",
    "- US_category_id.json\n",
    "- USvideos.csv </b>\n",
    "\n",
    "Datasets tersebut diubah menjadi dataframe terlebih dahulu dengan library Pandas agar dapat diolah."
   ]
  },
  {
   "cell_type": "code",
   "execution_count": null,
   "metadata": {
    "scrolled": true
   },
   "outputs": [],
   "source": [
    "#Import library\n",
    "import pandas as pd\n",
    "import json as js\n",
    "from pandas.io.json import json_normalize\n",
    "\n",
    "#import matplotlib\n",
    "import matplotlib.pyplot as plt\n",
    "\n",
    "import numpy as np\n",
    "\n",
    "# import seaborn\n",
    "import seaborn as sns\n",
    "%matplotlib inline\n",
    "\n",
    "#load datasets CA\n",
    "dfCAvideos = pd.read_csv(\"datasets/CAvideos.csv\")\n",
    "with open(\"datasets/CA_category_id.json\") as file:    \n",
    "    jsCAcategory = js.load(file)\n",
    "\n",
    "#Load datasets GB\n",
    "dfGBvideos = pd.read_csv(\"datasets/GBvideos.csv\")\n",
    "with open(\"datasets/GB_category_id.json\") as file:    \n",
    "    jsGBcategory = js.load(file)\n",
    "    \n",
    "#Load datasets US\n",
    "dfUSvideos = pd.read_csv(\"datasets/USvideos.csv\")\n",
    "with open(\"datasets/US_category_id.json\") as file:    \n",
    "    jsUScategory = js.load(file)\n",
    "\n",
    "# set option agar float dapat ditampilkan seluruhnya\n",
    "pd.set_option('float_format', '{:f}'.format)"
   ]
  },
  {
   "cell_type": "code",
   "execution_count": null,
   "metadata": {},
   "outputs": [],
   "source": [
    "dfCAvideos.dtypes"
   ]
  },
  {
   "cell_type": "markdown",
   "metadata": {},
   "source": [
    "## Dataset Video\n",
    "Dataset video adalah dataset video YouTube yang terdiri dari kolom sebagai berikut :\n",
    " - <b>video_id</b> (ID Video) </br>\n",
    " - <b>trending_date</b> (Tanggal Trending) </br>\n",
    " - <b>title</b> (Judul Video) </br>\n",
    " - <b>channel_title</b> (Nama Channel)</br>\n",
    " - <b>category_id</b> (ID Kategori) </br>\n",
    " - <b>publish_time</b> (Tanggal Upload) <br>\n",
    " - <b>tags</b> (Tag-tag) </br>\n",
    " - <b>views</b> (Jumlah Penonton) </br>\n",
    " - <b>likes</b> (Jumlah yang Menyukai Video) </br>\n",
    " - <b>dislikes</b> (Jumlah yang Tidak Menyukai Video) </br>\n",
    " - <b>comment_count</b> (Jumlah Komentar) </br>\n",
    " - <b>thumbnail_link</b> (Link Thumbnail) </br>\n",
    " - <b>comments_disabled</b> (Status Kolom Komentar) </br>\n",
    " - <b>ratings_disabled</b> (Status Rating) </br>\n",
    " - <b>video_error_or_removed</b> (Status Video Error/Dihapus) </br>\n",
    " - <b>description</b> (Deskripsi Video)\n",
    " \n",
    "Dataset video dari 3 region adalah sebagai berikut :\n",
    "- CAvideos.csv (dataset video region Canada)\n",
    "- GBvideos.csv (dataset video region Great Britain)\n",
    "- USvideos.csv (dataset video region United States)\n",
    "\n",
    "Karena ke-3nya berformat .csv maka dapat diubah menjadi dataframe dengan sintaks pd.read_csv seperti yang dilakukan di cell sebelumnya."
   ]
  },
  {
   "cell_type": "markdown",
   "metadata": {},
   "source": [
    "### Data Video Region Canada\n",
    "Berikut adalah data video dari region Canada :"
   ]
  },
  {
   "cell_type": "code",
   "execution_count": null,
   "metadata": {},
   "outputs": [],
   "source": [
    "dfCAvideos.head()"
   ]
  },
  {
   "cell_type": "code",
   "execution_count": null,
   "metadata": {},
   "outputs": [],
   "source": [
    "dfCAvideos.shape"
   ]
  },
  {
   "cell_type": "markdown",
   "metadata": {},
   "source": [
    "Berdasarkan pengecekan data video dari region Canada memiliki dimensi <b>40881 baris x 16 kolom</b>."
   ]
  },
  {
   "cell_type": "markdown",
   "metadata": {},
   "source": [
    "### Data Video Region Great Britain\n",
    "Berikut adalah data video dari region Great Britain :"
   ]
  },
  {
   "cell_type": "code",
   "execution_count": null,
   "metadata": {},
   "outputs": [],
   "source": [
    "dfGBvideos.head()"
   ]
  },
  {
   "cell_type": "code",
   "execution_count": null,
   "metadata": {},
   "outputs": [],
   "source": [
    "dfGBvideos.shape"
   ]
  },
  {
   "cell_type": "markdown",
   "metadata": {},
   "source": [
    "Berdasarkan pengecekan data video dari region Great Britain memiliki dimensi <b>38916 baris x 16 kolom</b>."
   ]
  },
  {
   "cell_type": "markdown",
   "metadata": {},
   "source": [
    "### Data Video Region Great Britain\n",
    "Berikut adalah data video dari region Great Britain :"
   ]
  },
  {
   "cell_type": "code",
   "execution_count": null,
   "metadata": {},
   "outputs": [],
   "source": [
    "dfUSvideos.head()"
   ]
  },
  {
   "cell_type": "code",
   "execution_count": null,
   "metadata": {},
   "outputs": [],
   "source": [
    "dfUSvideos.shape"
   ]
  },
  {
   "cell_type": "markdown",
   "metadata": {},
   "source": [
    "Berdasarkan pengecekan data video dari region United States memiliki dimensi <b>40849 baris x 16 kolom</b>."
   ]
  },
  {
   "cell_type": "markdown",
   "metadata": {},
   "source": [
    "<b>------------------------------------------------------------------------------------------------------------------------------------------------------------------------------------------------------------------</b>"
   ]
  },
  {
   "cell_type": "markdown",
   "metadata": {},
   "source": [
    "<b>------------------------------------------------------------------------------------------------------------------------------------------------------------------------------------------------------------------</b>"
   ]
  },
  {
   "cell_type": "markdown",
   "metadata": {},
   "source": [
    "## Dataset Kategori\n",
    "Dataset kategori adalah dataset kategori video di Youtube.\n",
    "\n",
    "Dataset kategori dari 3 region tersebut adalah :\n",
    "- CA_category_id.json (dataset kategori video region Canada)\n",
    "- GB_category_id.json (dataset kategori video region Great Britain)\n",
    "- US_category_id.json (dataset kategori video region United States)\n",
    "\n",
    "Karena dataset berformat .json maka perlu dilakukan transformasi untuk mengubahnya menjadi dataframe."
   ]
  },
  {
   "cell_type": "markdown",
   "metadata": {},
   "source": [
    "Mari melihat isi dari file kategori .json dari region Canada sebagai contoh."
   ]
  },
  {
   "cell_type": "code",
   "execution_count": null,
   "metadata": {},
   "outputs": [],
   "source": [
    "jsCAcategory"
   ]
  },
  {
   "cell_type": "markdown",
   "metadata": {},
   "source": [
    "Berdasarkan pengecekan tersebut, dataset kategori memiliki susunan sebagai berikut :\n",
    " - kind<br>\n",
    " - etag<br>\n",
    " - id<br>\n",
    " - items<br>\n",
    " - snippet<br>\n",
    " - title<br>\n",
    " - assignable<br>\n",
    "\n",
    "Kemudian ditemukan bahwa items adalah suatu list yang berisi kind, etag, id, snippet, title dan assignable."
   ]
  },
  {
   "cell_type": "markdown",
   "metadata": {},
   "source": [
    "### Mentransformasi data kategori JSON menjadi dataframe\n",
    "Untuk keperluan analisis, yang dibutuhkan di sini adalah id kategori dan title / nama kategori. Maka 2 hal tersebut yang akan diekstrak kemudian dimasukkan ke dalam dataframe."
   ]
  },
  {
   "cell_type": "markdown",
   "metadata": {},
   "source": [
    "#### Normalisasi list items di data kategori\n",
    "Karena yang dibutuhkan adalah id dan title di dalam list items, maka items harus dinormalisasi dengan menggunakan sintaks <b>json_normalize()</b>.\n",
    "Dengan json_normalize, Pandas dapat mengambil objek JSON yang bersarang dan mengubahnya menjadi dataframe."
   ]
  },
  {
   "cell_type": "code",
   "execution_count": null,
   "metadata": {},
   "outputs": [],
   "source": [
    "jsCAcatitem = json_normalize(jsCAcategory['items'])\n",
    "jsGBcatitem = json_normalize(jsGBcategory['items'])\n",
    "jsUScatitem = json_normalize(jsUScategory['items'])"
   ]
  },
  {
   "cell_type": "markdown",
   "metadata": {},
   "source": [
    "Mari ambil contoh items yang telah dinormalisasi dari data kategori region Canada"
   ]
  },
  {
   "cell_type": "code",
   "execution_count": null,
   "metadata": {},
   "outputs": [],
   "source": [
    "jsCAcatitem"
   ]
  },
  {
   "cell_type": "markdown",
   "metadata": {},
   "source": [
    "#### Memasukkan isi dari items ke dalam dataframe\n",
    "items dari semua dataset kategori dari ke-3 region dimasukkan menjadi dataframe agar mudah untuk dikelola"
   ]
  },
  {
   "cell_type": "code",
   "execution_count": null,
   "metadata": {},
   "outputs": [],
   "source": [
    "dfCAcategory = jsCAcatitem\n",
    "dfGBcategory = jsGBcatitem\n",
    "dfUScategory = jsUScatitem"
   ]
  },
  {
   "cell_type": "markdown",
   "metadata": {},
   "source": [
    "### Mentransformasi Data kategori Menjadi ID dan Nama Kategori Saja\n",
    "ID dan nama category/snippet title dibutuhkan untuk dimerge dengan dataframe video. Maka harus dilakukan drop pada kolom yang tidak diperlukan pada dataframe."
   ]
  },
  {
   "cell_type": "code",
   "execution_count": null,
   "metadata": {},
   "outputs": [],
   "source": [
    "dfCAcategory1 = dfCAcategory.drop(['etag','kind','snippet.assignable','snippet.channelId'], axis=1)\n",
    "dfGBcategory1 = dfGBcategory.drop(['etag','kind','snippet.assignable','snippet.channelId'], axis=1)\n",
    "dfUScategory1 = dfUScategory.drop(['etag','kind','snippet.assignable','snippet.channelId'], axis=1)"
   ]
  },
  {
   "cell_type": "code",
   "execution_count": null,
   "metadata": {},
   "outputs": [],
   "source": [
    "dfCAcategory1"
   ]
  },
  {
   "cell_type": "markdown",
   "metadata": {},
   "source": [
    "kolom snippet.title direname menjadi title agar tidak membingungkan."
   ]
  },
  {
   "cell_type": "code",
   "execution_count": null,
   "metadata": {},
   "outputs": [],
   "source": [
    "dfCAcategory1.rename(columns={'snippet.title': 'category'}, inplace=True)\n",
    "dfGBcategory1.rename(columns={'snippet.title': 'category'}, inplace=True)\n",
    "dfUScategory1.rename(columns={'snippet.title': 'category'}, inplace=True)"
   ]
  },
  {
   "cell_type": "markdown",
   "metadata": {},
   "source": [
    "### Data Kategori Video Region Canada\n",
    "Berikut adalah data kategori video region Canada setelah diubah menjadi dataframe :"
   ]
  },
  {
   "cell_type": "code",
   "execution_count": null,
   "metadata": {},
   "outputs": [],
   "source": [
    "dfCAcategory1"
   ]
  },
  {
   "cell_type": "code",
   "execution_count": null,
   "metadata": {},
   "outputs": [],
   "source": [
    "dfCAcategory1.shape"
   ]
  },
  {
   "cell_type": "markdown",
   "metadata": {},
   "source": [
    "Berdasarkan pengecekan data kategori region Canada memiliki dimensi <b>31 baris x 2 kolom</b>."
   ]
  },
  {
   "cell_type": "markdown",
   "metadata": {},
   "source": [
    "### Data Kategori Video Region Great Britain\n",
    "Berikut adalah data kategori video region Great Britain setelah diubah menjadi dataframe :"
   ]
  },
  {
   "cell_type": "code",
   "execution_count": null,
   "metadata": {},
   "outputs": [],
   "source": [
    "dfGBcategory1"
   ]
  },
  {
   "cell_type": "code",
   "execution_count": null,
   "metadata": {},
   "outputs": [],
   "source": [
    "dfGBcategory1.shape"
   ]
  },
  {
   "cell_type": "markdown",
   "metadata": {},
   "source": [
    "Berdasarkan pengecekan data kategori region Great Britain memiliki dimensi <b>31 baris x 2 kolom</b>."
   ]
  },
  {
   "cell_type": "markdown",
   "metadata": {},
   "source": [
    "### Data Kategori Video Region United States\n",
    "Berikut adalah data kategori video region Great Britain setelah diubah menjadi dataframe :"
   ]
  },
  {
   "cell_type": "code",
   "execution_count": null,
   "metadata": {},
   "outputs": [],
   "source": [
    "dfUScategory1"
   ]
  },
  {
   "cell_type": "code",
   "execution_count": null,
   "metadata": {},
   "outputs": [],
   "source": [
    "dfUScategory1.shape"
   ]
  },
  {
   "cell_type": "markdown",
   "metadata": {},
   "source": [
    "Berdasarkan pengecekan data kategori region Canada memiliki dimensi <b>31 baris x 2 kolom</b>."
   ]
  },
  {
   "cell_type": "markdown",
   "metadata": {},
   "source": [
    "### Persamaan & Perbedaan Data Kategori dari 3 region\n",
    "Berdasarkan pengecekan dataframe kategori region Canada dan Great Britain adalah identik, sedangkan dataframe kategori dari United States berbeda dari keduanya."
   ]
  },
  {
   "cell_type": "code",
   "execution_count": null,
   "metadata": {},
   "outputs": [],
   "source": [
    "dfCAcategory1.equals(dfGBcategory1)"
   ]
  },
  {
   "cell_type": "code",
   "execution_count": null,
   "metadata": {},
   "outputs": [],
   "source": [
    "dfGBcategory1.equals(dfUScategory1)"
   ]
  },
  {
   "cell_type": "code",
   "execution_count": null,
   "metadata": {},
   "outputs": [],
   "source": [
    "dfCek = pd.concat([dfCAcategory1,dfGBcategory1,dfUScategory1]).drop_duplicates(keep=False)\n",
    "dfCek"
   ]
  },
  {
   "cell_type": "markdown",
   "metadata": {},
   "source": [
    "Perbedaan yang didapatkan dengan melakukan concat adalah dataframe kategori United States memiliki satu title tambahan yaitu \"Nonprofits & Activism\" pada index ke-16.\n",
    "\n",
    "Maka dari itu diputuskan bahwa data kategori dari 3 region ini <b>di-merge menjadi 1 dataframe</b> saja dengan pd.merge(x,y) dengan keterangan sebagai berikut :\n",
    "- x = dataframe kategori US\n",
    "- y = dataframe kategori CA"
   ]
  },
  {
   "cell_type": "markdown",
   "metadata": {},
   "source": [
    "### Merge Data Kategori"
   ]
  },
  {
   "cell_type": "code",
   "execution_count": null,
   "metadata": {
    "scrolled": true
   },
   "outputs": [],
   "source": [
    "#merge\n",
    "dfCategory = pd.merge(dfCAcategory1,dfUScategory1, how=\"right\")\n",
    "\n",
    "dfCategory"
   ]
  },
  {
   "cell_type": "markdown",
   "metadata": {},
   "source": [
    "Dataframe 3 region disatukan menjadi dataframe <b>dfCategory</b>."
   ]
  },
  {
   "cell_type": "markdown",
   "metadata": {},
   "source": [
    "### Sortir Data Kategori"
   ]
  },
  {
   "cell_type": "markdown",
   "metadata": {},
   "source": [
    "Setelah dilakukan merge, didapatkan bahwa \"id\" tidak berurutan. Maka dari itu dilakukan sorting/sortir dengan .sort_values(). Tetapi agar dapat disortir, kolom \"id\" harus di-state terlebih dahulu bahwa data di kolom tersebut bertipe integer. Setelah, \"id\" disortir, perlu dilakukan pengindeksan ulang agar index menjadi berurutan kembali.\n",
    "\n",
    "Berikut adalah <b>Data Kategori Utama</b> :"
   ]
  },
  {
   "cell_type": "code",
   "execution_count": null,
   "metadata": {},
   "outputs": [],
   "source": [
    "#Menstate kolom id sebagai data bertipe integer agar dapat disortir\n",
    "dfCategory['id'] = dfCategory['id'].astype('int')\n",
    "\n",
    "#Sortir\n",
    "dfCategory.sort_values(\"id\", ascending=True, inplace=True)\n",
    "\n",
    "#Pengindexan ulang\n",
    "dfCategory = dfCategory.reset_index(drop=True)\n",
    "\n",
    "print(\"\")\n",
    "print(\"DATA KATEGORI UTAMA\")\n",
    "\n",
    "dfCategory"
   ]
  },
  {
   "cell_type": "code",
   "execution_count": null,
   "metadata": {},
   "outputs": [],
   "source": [
    "dfCategory.shape"
   ]
  },
  {
   "cell_type": "markdown",
   "metadata": {},
   "source": [
    "Berdasarkan pengecekan data kategori memiliki dimensi <b>32 baris x 2 kolom</b>"
   ]
  },
  {
   "cell_type": "markdown",
   "metadata": {},
   "source": [
    "## Statistik Dari Setiap Kategori di Data Video\n",
    "Kita perlu mengetahui statistik berikut untuk setiap kategori :\n",
    "#### 1. Data tertinggi, terendah, dan rata-rata viewer\n",
    "#### 2. Data tertinggi, terendah, dan rata-rata likes\n",
    "#### 3. Data tertinggi, terendah, dan rata-rata dislikes\n",
    "#### 5. Data tertinggi, terendah, dan rata-rata jumlah komentar"
   ]
  },
  {
   "cell_type": "markdown",
   "metadata": {},
   "source": [
    "### Pertama kita perlu mengetahui kategori apa yang ada pada masing-masing region berdasarkan data video"
   ]
  },
  {
   "cell_type": "code",
   "execution_count": null,
   "metadata": {},
   "outputs": [],
   "source": [
    "# drop kolom yang tidak perlu\n",
    "dfCA = dfCAvideos.drop(['trending_date','channel_title','publish_time','tags','thumbnail_link','comments_disabled','ratings_disabled','video_error_or_removed','description'], axis=1)\n",
    "dfGB = dfGBvideos.drop(['trending_date','channel_title','publish_time','tags','thumbnail_link','comments_disabled','ratings_disabled','video_error_or_removed','description'], axis=1)\n",
    "dfUS = dfUSvideos.drop(['trending_date','channel_title','publish_time','tags','thumbnail_link','comments_disabled','ratings_disabled','video_error_or_removed','description'], axis=1)"
   ]
  },
  {
   "cell_type": "code",
   "execution_count": null,
   "metadata": {},
   "outputs": [],
   "source": [
    "# mengelompokan berdasarkan id kategori\n",
    "gCAvideo = dfCA.groupby('category_id')\n",
    "gGBvideo = dfGB.groupby('category_id')\n",
    "gUSvideo = dfUS.groupby('category_id')"
   ]
  },
  {
   "cell_type": "markdown",
   "metadata": {},
   "source": [
    "#### Menemukan value unique pada id kategori region Canada\n",
    "Kategori yang ada pada data video region Canada adalah kategori dengan ID :\n",
    " 1, 2, 10, 15, 17, 19, 20, 22, 23, 24, 25, 26, 27, 28, 29, 30, 43"
   ]
  },
  {
   "cell_type": "code",
   "execution_count": null,
   "metadata": {},
   "outputs": [],
   "source": [
    "# menemukan value yang unik pada id kategori region canada\n",
    "dfCA.category_id.unique()\n",
    "\n",
    "a = dfCA.category_id.unique()\n",
    "a.sort(axis=0)\n",
    "a"
   ]
  },
  {
   "cell_type": "markdown",
   "metadata": {},
   "source": [
    "#### ID Kategori yang tidak ada di region Canada adalah sebagai berikut :"
   ]
  },
  {
   "cell_type": "code",
   "execution_count": null,
   "metadata": {},
   "outputs": [],
   "source": [
    "sCat_ca = pd.Series(a)\n",
    "\n",
    "print (pd.concat([dfCategory['id'],sCat_ca]).drop_duplicates(keep=False).to_string(index=False))"
   ]
  },
  {
   "cell_type": "markdown",
   "metadata": {},
   "source": [
    "#### Menemukan value unique pada id kategori region Great Britain\n",
    "Kategori yang ada pada data video region Great Britain adalah kategori dengan ID :\n",
    " 1, 2, 10, 15, 17, 19, 20, 22, 23, 24, 25, 26, 27, 28, 29, 30, 43"
   ]
  },
  {
   "cell_type": "code",
   "execution_count": null,
   "metadata": {},
   "outputs": [],
   "source": [
    "# menemukan value yang unik pada id kategori region great britain\n",
    "dfGB.category_id.unique()\n",
    "\n",
    "b = dfGB.category_id.unique()\n",
    "b.sort(axis=0)\n",
    "b"
   ]
  },
  {
   "cell_type": "markdown",
   "metadata": {},
   "source": [
    "#### Kategori yang tidak ada di region Great Britain adalah sebagai berikut :"
   ]
  },
  {
   "cell_type": "code",
   "execution_count": null,
   "metadata": {},
   "outputs": [],
   "source": [
    "sCat_gb = pd.Series(b)\n",
    "\n",
    "print (pd.concat([dfCategory['id'],sCat_gb]).drop_duplicates(keep=False).to_string(index=False))"
   ]
  },
  {
   "cell_type": "markdown",
   "metadata": {},
   "source": [
    "#### Menemukan value unique pada id kategori region United States\n",
    "Kategori yang ada pada data video region United States adalah kategori dengan ID :\n",
    " 1, 2, 10, 15, 17, 19, 20, 22, 23, 24, 25, 26, 27, 28, 29, 30, 43"
   ]
  },
  {
   "cell_type": "code",
   "execution_count": null,
   "metadata": {},
   "outputs": [],
   "source": [
    "# menemukan value yang unik pada id kategori region us\n",
    "dfUS.category_id.unique()\n",
    "\n",
    "c = dfUS.category_id.unique()\n",
    "c.sort(axis=0)\n",
    "c"
   ]
  },
  {
   "cell_type": "markdown",
   "metadata": {},
   "source": [
    "#### Kategori yang tidak ada di region United States adalah sebagai berikut :"
   ]
  },
  {
   "cell_type": "code",
   "execution_count": null,
   "metadata": {},
   "outputs": [],
   "source": [
    "sCat_us = pd.Series(c)\n",
    "\n",
    "print (pd.concat([dfCategory['id'],sCat_us]).drop_duplicates(keep=False).to_string(index=False))"
   ]
  },
  {
   "cell_type": "code",
   "execution_count": null,
   "metadata": {},
   "outputs": [],
   "source": [
    "# membuat data list dari array\n",
    "data_cat_ca = {'id': dfCA.category_id.unique()}\n",
    "data_cat_gb = {'id': dfGB.category_id.unique()} \n",
    "data_cat_us = {'id': dfUS.category_id.unique()} \n",
    "\n",
    "# memasukan data kategori ke dataframe\n",
    "dfCAcat = pd.DataFrame(data_cat_ca)\n",
    "dfGBcat = pd.DataFrame(data_cat_gb)\n",
    "dfUScat = pd.DataFrame(data_cat_us)"
   ]
  },
  {
   "cell_type": "code",
   "execution_count": null,
   "metadata": {},
   "outputs": [],
   "source": [
    "# melakukan merge data kategori canada dengan dataframe kategori utama\n",
    "dfCAcat1 = pd.merge(dfCategory,dfCAcat)\n",
    "print(\"\")\n",
    "print(\"DATA KATEGORI DI CANADA\")\n",
    "dfCAcat1"
   ]
  },
  {
   "cell_type": "code",
   "execution_count": null,
   "metadata": {},
   "outputs": [],
   "source": [
    "# melakukan merge data kategori great britain dengan dataframe kategori utama\n",
    "dfGBcat1 = pd.merge(dfCategory,dfGBcat)\n",
    "print(\"\")\n",
    "print(\"DATA KATEGORI DI GREAT BRITAIN\")\n",
    "dfGBcat1"
   ]
  },
  {
   "cell_type": "code",
   "execution_count": null,
   "metadata": {},
   "outputs": [],
   "source": [
    "# melakukan merge data kategori united states dengan dataframe kategori utama\n",
    "dfUScat1 = pd.merge(dfCategory,dfUScat)\n",
    "print(\"\")\n",
    "print(\"DATA KATEGORI DI UNITED STATES\")\n",
    "dfUScat1"
   ]
  },
  {
   "cell_type": "code",
   "execution_count": null,
   "metadata": {},
   "outputs": [],
   "source": [
    "dfGBcat1.equals(dfUScat1)"
   ]
  },
  {
   "cell_type": "code",
   "execution_count": null,
   "metadata": {},
   "outputs": [],
   "source": [
    "dfGBcat1.equals(dfCAcat1)"
   ]
  },
  {
   "cell_type": "markdown",
   "metadata": {},
   "source": [
    "### Ditemukan bahwa kategori video yang ada di data video Great Britain dan United States adalah identik, yaitu :\n",
    "- 1\t(Film & Animation)\n",
    "- 2\t(Autos & Vehicles)\n",
    "- 10 (Music)\n",
    "- 15 (Pets & Animals)\n",
    "- 17 (Sports)\n",
    "- 19 (Travel & Events)\n",
    "- 20 (Gaming)\n",
    "- 22 (People & Blogs)\n",
    "- 23 (Comedy)\n",
    "- 24 (Entertainment)\n",
    "- 25 (News & Politics)\n",
    "- 26 (Howto & Style)\n",
    "- 27 (Education)\n",
    "- 28 (Science & Technology)\n",
    "- 29 (Nonprofits & Activism)\n",
    "- 43 (Shows)\n",
    "\n",
    "### Sedangkan data video Canada memiliki 1 kategori yang berbeda dari Great Britain dan United States, yaitu :\n",
    "- 30 (Movies)"
   ]
  },
  {
   "cell_type": "markdown",
   "metadata": {},
   "source": [
    "## Statistik Data Video Region Canada\n",
    "Di sini kita akan menemukan statistik data video dari region Canada menggunakan list <b>gCAvideo</b>.<br/>\n",
    "Untuk menemukan rata-rata digunakan fungsi <b>.max()</b> pada data grup id kategori yang diinginkan. Untuk menemukan value tertinggi digunakan <b>.max()</b> dan untuk menemukan value terkecil digunakan <b>.min()</b>"
   ]
  },
  {
   "cell_type": "markdown",
   "metadata": {},
   "source": [
    "#### 1A. Data Viewer Canada"
   ]
  },
  {
   "cell_type": "code",
   "execution_count": null,
   "metadata": {},
   "outputs": [],
   "source": [
    "# memasukkan data ke dalam list\n",
    "data_view_ca = {\n",
    "    \n",
    "    # a adalah hasil sorting array saat menemukan value yang unique dari id kategori data video region Canada\n",
    "    'id' : a,\n",
    "    #penonton tertinggi\n",
    "    'highest_views':[gCAvideo.get_group(items)['views'].max() for items in dfCAcat1['id']],\n",
    "    \n",
    "    #penonton terendah\n",
    "    'lowest_views':[gCAvideo.get_group(items)['views'].min() for items in dfCAcat1['id']],\n",
    "    \n",
    "    #penonton rata-rata\n",
    "    'average_views':[gCAvideo.get_group(items)['views'].mean() for items in dfCAcat1['id']]}\n",
    "\n",
    "dfViewCA = pd.DataFrame(data_view_ca)"
   ]
  },
  {
   "cell_type": "code",
   "execution_count": null,
   "metadata": {
    "scrolled": true
   },
   "outputs": [],
   "source": [
    "dfViewCA = pd.merge(dfCAcat1,dfViewCA,on=\"id\")\n",
    "\n",
    "print(\"\")\n",
    "print(\"DATA VIEWER SETIAP KATEGORI DI REGION CANADA\")\n",
    "dfViewCA"
   ]
  },
  {
   "cell_type": "markdown",
   "metadata": {},
   "source": [
    "#### Berikut adalah data jumlah viewer berbentuk series dari setiap id kategori"
   ]
  },
  {
   "cell_type": "code",
   "execution_count": null,
   "metadata": {},
   "outputs": [],
   "source": [
    "data_view_ca_test = {\n",
    "    \n",
    "    # a adalah hasil sorting array saat menemukan value yang unique dari id kategori data video region Canada\n",
    "    'id' : a,\n",
    "    #penonton tertinggi\n",
    "    'viewer':[gCAvideo.get_group(items)['views'].values for items in dfCAcat1['id']]\n",
    "}\n",
    "\n",
    "dfViewCAtest = pd.DataFrame(data_view_ca_test)\n",
    "dfViewCAtest"
   ]
  },
  {
   "cell_type": "markdown",
   "metadata": {},
   "source": [
    "#### Berikut adalah bentuk boxplotting dari salah satu kategori dengan id 29. Terlihat outlier terlalu jauh, sehingga tidak enak untuk dilihat"
   ]
  },
  {
   "cell_type": "code",
   "execution_count": null,
   "metadata": {},
   "outputs": [],
   "source": [
    "plt.boxplot(gCAvideo.get_group(29)['views'].values)"
   ]
  },
  {
   "cell_type": "markdown",
   "metadata": {},
   "source": [
    "### Absolute Value Viewer Canada"
   ]
  },
  {
   "cell_type": "markdown",
   "metadata": {},
   "source": [
    "Berikut adalah data jumlah viewer region Canada apabila divisualisasikan dengan boxplot. Karena data terlalu beragam, outliernya terlalu tinggi dan tidak dapat dilihat dengan baik."
   ]
  },
  {
   "cell_type": "code",
   "execution_count": null,
   "metadata": {},
   "outputs": [],
   "source": [
    "# list jumlah views wilayah Canada berdasarkan array a\n",
    "data_view_ca_boxplot = [gCAvideo.get_group(items)['views'].values for items in a]"
   ]
  },
  {
   "cell_type": "code",
   "execution_count": null,
   "metadata": {},
   "outputs": [],
   "source": [
    "fig = plt.figure(1, figsize=(15, 100))\n",
    "\n",
    "# membuat axes\n",
    "ax = fig.add_subplot(111)\n",
    "\n",
    "# boxplot\n",
    "ax.boxplot(data_view_ca_boxplot)\n",
    "\n",
    "# penamaan x tick berdasarkan array a (id kategori wilayah Canada)\n",
    "ax.set_xticklabels(a)\n",
    "\n",
    "# penamaan judul\n",
    "plt.title(\"DATA VIEWER WILAYAH CANADA\", fontsize=14)\n",
    "\n",
    "# penamaan label\n",
    "plt.xlabel(\"ID Kategori\", fontsize=14)\n",
    "plt.ylabel(\"Jumlah Viewer\", fontsize=14)"
   ]
  },
  {
   "cell_type": "markdown",
   "metadata": {},
   "source": [
    "#### 2A. Data Likes Video di Canada"
   ]
  },
  {
   "cell_type": "code",
   "execution_count": null,
   "metadata": {},
   "outputs": [],
   "source": [
    "# memasukkan data ke dalam list\n",
    "data_likes_ca = {\n",
    "    \n",
    "    # a adalah hasil sorting array saat menemukan value yang unique dari id kategori data video region Canada\n",
    "    'id' : a,\n",
    "    'highest_likes':[gCAvideo.get_group(items)['likes'].max() for items in dfCAcat1['id']],\n",
    "    'lowest_likes':[gCAvideo.get_group(items)['likes'].min() for items in dfCAcat1['id']],\n",
    "    'average_likes':[gCAvideo.get_group(items)['likes'].mean() for items in dfCAcat1['id']\n",
    "                   ]}\n",
    "\n",
    "dfLikesCA = pd.DataFrame(data_likes_ca)"
   ]
  },
  {
   "cell_type": "code",
   "execution_count": null,
   "metadata": {},
   "outputs": [],
   "source": [
    "dfLikesCA = pd.merge(dfCAcat1,dfLikesCA,on=\"id\")\n",
    "\n",
    "print(\"\")\n",
    "print(\"DATA LIKES SETIAP KATEGORI DI REGION CANADA\")\n",
    "dfLikesCA"
   ]
  },
  {
   "cell_type": "markdown",
   "metadata": {},
   "source": [
    "#### 3A. Data Dislikes Video di Canada"
   ]
  },
  {
   "cell_type": "code",
   "execution_count": null,
   "metadata": {},
   "outputs": [],
   "source": [
    "# memasukkan data ke dalam list\n",
    "data_dislikes_ca = {\n",
    "    \n",
    "    # a adalah hasil sorting array saat menemukan value yang unique dari id kategori data video region Canada\n",
    "    'id' : a,\n",
    "    'highest_dislikes':[gCAvideo.get_group(items)['dislikes'].max() for items in dfCAcat1['id']],\n",
    "    'lowest_dislikes':[gCAvideo.get_group(items)['dislikes'].min() for items in dfCAcat1['id']],\n",
    "    'average_dislikes':[gCAvideo.get_group(items)['dislikes'].mean() for items in dfCAcat1['id']\n",
    "                   ]}\n",
    "\n",
    "dfDislikesCA = pd.DataFrame(data_dislikes_ca)"
   ]
  },
  {
   "cell_type": "code",
   "execution_count": null,
   "metadata": {},
   "outputs": [],
   "source": [
    "dfDislikesCA = pd.merge(dfCAcat1,dfDislikesCA,on=\"id\")\n",
    "\n",
    "print(\"\")\n",
    "print(\"DATA DISLIKES SETIAP KATEGORI DI REGION CANADA\")\n",
    "dfDislikesCA"
   ]
  },
  {
   "cell_type": "markdown",
   "metadata": {},
   "source": [
    "#### 4A. Data Jumlah Komentar Video di Canada"
   ]
  },
  {
   "cell_type": "code",
   "execution_count": null,
   "metadata": {},
   "outputs": [],
   "source": [
    "# memasukkan data ke dalam list\n",
    "data_comments_ca = {\n",
    "    \n",
    "    # a adalah hasil sorting array saat menemukan value yang unique dari id kategori data video region Canada\n",
    "    'id' : a,\n",
    "    'highest_comments':[gCAvideo.get_group(items)['comment_count'].max() for items in dfCAcat1['id']],\n",
    "    'lowest_comments':[gCAvideo.get_group(items)['comment_count'].min() for items in dfCAcat1['id']],\n",
    "    'average_comments':[gCAvideo.get_group(items)['comment_count'].mean() for items in dfCAcat1['id']\n",
    "                   ]}\n",
    "\n",
    "dfCommentsCA = pd.DataFrame(data_comments_ca)"
   ]
  },
  {
   "cell_type": "code",
   "execution_count": null,
   "metadata": {},
   "outputs": [],
   "source": [
    "dfCommentsCA = pd.merge(dfCAcat1,dfCommentsCA,on=\"id\")\n",
    "\n",
    "print(\"\")\n",
    "print(\"DATA COMMENTS SETIAP KATEGORI DI REGION CANADA\")\n",
    "dfCommentsCA"
   ]
  },
  {
   "cell_type": "markdown",
   "metadata": {},
   "source": [
    "## Statistik Data Video Region Great Britain\n",
    "Di sini kita akan menemukan statistik data video dari region Great Britain menggunakan list <b>gGBvideo</b>.<br/>\n",
    "Untuk menemukan rata-rata digunakan fungsi <b>.max()</b> pada data grup id kategori yang diinginkan. Untuk menemukan value tertinggi digunakan <b>.max()</b> dan untuk menemukan value terkecil digunakan <b>.min()</b>\n",
    "\n",
    "Perbedaan data video di Great Britain adalah tidak ada kategori 30 / Movies seperti pada data Canada."
   ]
  },
  {
   "cell_type": "markdown",
   "metadata": {},
   "source": [
    "#### 1B. Data Viewer Great Britain"
   ]
  },
  {
   "cell_type": "code",
   "execution_count": null,
   "metadata": {},
   "outputs": [],
   "source": [
    "# memasukkan data ke dalam list\n",
    "data_view_gb = {\n",
    "    \n",
    "    # b adalah hasil sorting array saat menemukan value yang unique dari id kategori data video region Great Britain\n",
    "    'id' : b,\n",
    "    'highest_views':[gGBvideo.get_group(items)['views'].max() for items in dfGBcat1['id']],\n",
    "    'lowest_views':[gGBvideo.get_group(items)['views'].min() for items in dfGBcat1['id']],\n",
    "    'average_views':[gGBvideo.get_group(items)['views'].mean() for items in dfGBcat1['id']\n",
    "                   ]}\n",
    "\n",
    "dfViewGB = pd.DataFrame(data_view_gb)"
   ]
  },
  {
   "cell_type": "code",
   "execution_count": null,
   "metadata": {},
   "outputs": [],
   "source": [
    "dfViewGB = pd.merge(dfGBcat1,dfViewGB,on=\"id\")\n",
    "\n",
    "print(\"\")\n",
    "print(\"DATA VIEWER SETIAP KATEGORI DI REGION GREAT BRITAIN\")\n",
    "dfViewGB"
   ]
  },
  {
   "cell_type": "markdown",
   "metadata": {},
   "source": [
    "#### 2B. Data Likes Video di Great Britain"
   ]
  },
  {
   "cell_type": "code",
   "execution_count": null,
   "metadata": {},
   "outputs": [],
   "source": [
    "# memasukkan data ke dalam list\n",
    "data_likes_gb = {\n",
    "    \n",
    "    # b adalah hasil sorting array saat menemukan value yang unique dari id kategori data video region Great Britain\n",
    "    'id' : b,\n",
    "    'highest_likes':[gGBvideo.get_group(items)['likes'].max() for items in dfGBcat1['id']],\n",
    "    'lowest_likes':[gGBvideo.get_group(items)['likes'].min() for items in dfGBcat1['id']],\n",
    "    'average_likes':[gGBvideo.get_group(items)['likes'].mean() for items in dfGBcat1['id']\n",
    "                   ]}\n",
    "\n",
    "dfLikesGB = pd.DataFrame(data_likes_gb)"
   ]
  },
  {
   "cell_type": "code",
   "execution_count": null,
   "metadata": {},
   "outputs": [],
   "source": [
    "dfLikesGB = pd.merge(dfGBcat1,dfLikesGB,on=\"id\")\n",
    "\n",
    "print(\"\")\n",
    "print(\"DATA LIKES SETIAP KATEGORI DI REGION GREAT BRITAIN\")\n",
    "dfLikesGB"
   ]
  },
  {
   "cell_type": "markdown",
   "metadata": {},
   "source": [
    "#### 3B. Data Disikes Video di Great Britain"
   ]
  },
  {
   "cell_type": "code",
   "execution_count": null,
   "metadata": {},
   "outputs": [],
   "source": [
    "# memasukkan data ke dalam list\n",
    "data_dislikes_gb = {\n",
    "    \n",
    "    # a adalah hasil sorting array saat menemukan value yang unique dari id kategori data video region Great Britain\n",
    "    'id' : b,\n",
    "    'highest_dislikes':[gGBvideo.get_group(items)['dislikes'].max() for items in dfGBcat1['id']],\n",
    "    'lowest_dislikes':[gGBvideo.get_group(items)['dislikes'].min() for items in dfGBcat1['id']],\n",
    "    'average_dislikes':[gGBvideo.get_group(items)['dislikes'].mean() for items in dfGBcat1['id']\n",
    "                   ]}\n",
    "\n",
    "dfDislikesGB = pd.DataFrame(data_dislikes_gb)"
   ]
  },
  {
   "cell_type": "code",
   "execution_count": null,
   "metadata": {},
   "outputs": [],
   "source": [
    "dfDislikesGB = pd.merge(dfGBcat1,dfDislikesGB,on=\"id\")\n",
    "\n",
    "print(\"\")\n",
    "print(\"DATA DISLIKES SETIAP KATEGORI DI REGION GREAT BRITAIN\")\n",
    "dfDislikesGB"
   ]
  },
  {
   "cell_type": "markdown",
   "metadata": {},
   "source": [
    "#### 4B. Data Comments Video di Great Britain"
   ]
  },
  {
   "cell_type": "code",
   "execution_count": null,
   "metadata": {},
   "outputs": [],
   "source": [
    "# memasukkan data ke dalam list\n",
    "data_comments_gb = {\n",
    "    \n",
    "    # b adalah hasil sorting array saat menemukan value yang unique dari id kategori data video region Great Britain\n",
    "    'id' : b,\n",
    "    'highest_comments':[gGBvideo.get_group(items)['comment_count'].max() for items in dfGBcat1['id']],\n",
    "    'lowest_comments':[gGBvideo.get_group(items)['comment_count'].min() for items in dfGBcat1['id']],   \n",
    "    'average_comments':[gGBvideo.get_group(items)['comment_count'].mean() for items in dfGBcat1['id']\n",
    "                   ]}\n",
    "\n",
    "dfCommentsGB = pd.DataFrame(data_comments_gb)"
   ]
  },
  {
   "cell_type": "code",
   "execution_count": null,
   "metadata": {},
   "outputs": [],
   "source": [
    "dfCommentsGB = pd.merge(dfGBcat1,dfCommentsGB,on=\"id\")\n",
    "\n",
    "print(\"\")\n",
    "print(\"DATA COMMENTS SETIAP KATEGORI DI REGION GREAT BRITAIN\")\n",
    "dfCommentsGB"
   ]
  },
  {
   "cell_type": "markdown",
   "metadata": {},
   "source": [
    "## Statistik Data Video Region United States\n",
    "Di sini kita akan menemukan statistik data video dari region United States menggunakan list <b>gUSvideo</b>.<br/>\n",
    "Untuk menemukan rata-rata digunakan fungsi <b>.max()</b> pada data grup id kategori yang diinginkan. Untuk menemukan value tertinggi digunakan <b>.max()</b> dan untuk menemukan value terkecil digunakan <b>.min()</b>\n",
    "\n",
    "Perbedaan data video di United States adalah tidak ada kategori 30 / Movies seperti pada data Canada."
   ]
  },
  {
   "cell_type": "markdown",
   "metadata": {},
   "source": [
    "#### 1C. Data Viewer United States"
   ]
  },
  {
   "cell_type": "code",
   "execution_count": null,
   "metadata": {},
   "outputs": [],
   "source": [
    "# memasukkan data ke dalam list\n",
    "data_view_us = {\n",
    "    \n",
    "    # c adalah hasil sorting array saat menemukan value yang unique dari id kategori data video region United States\n",
    "    'id' : c,\n",
    "    'highest_views':[gUSvideo.get_group(items)['views'].max() for items in dfUScat1['id']],\n",
    "    'lowest_views':[gUSvideo.get_group(items)['views'].min() for items in dfUScat1['id']],\n",
    "    'average_views':[gUSvideo.get_group(items)['views'].mean() for items in dfUScat1['id']\n",
    "                   ]}\n",
    "\n",
    "dfViewUS = pd.DataFrame(data_view_us)"
   ]
  },
  {
   "cell_type": "code",
   "execution_count": null,
   "metadata": {},
   "outputs": [],
   "source": [
    "dfViewUS = pd.merge(dfUScat1,dfViewUS,on=\"id\")\n",
    "\n",
    "print(\"\")\n",
    "print(\"DATA VIEWER SETIAP KATEGORI DI REGION UNITED STATES\")\n",
    "dfViewUS"
   ]
  },
  {
   "cell_type": "markdown",
   "metadata": {},
   "source": [
    "#### 2C. Data Likes United States"
   ]
  },
  {
   "cell_type": "code",
   "execution_count": null,
   "metadata": {},
   "outputs": [],
   "source": [
    "# memasukkan data ke dalam list\n",
    "data_likes_us = {\n",
    "    \n",
    "    # c adalah hasil sorting array saat menemukan value yang unique dari id kategori data video region United States\n",
    "    'id' : c,\n",
    "    'highest_likes':[gUSvideo.get_group(items)['likes'].max() for items in dfUScat1['id']],  \n",
    "    'lowest_likes':[gUSvideo.get_group(items)['likes'].min() for items in dfUScat1['id']],  \n",
    "    'average_likes':[gUSvideo.get_group(items)['likes'].mean() for items in dfUScat1['id']\n",
    "                   ]}\n",
    "\n",
    "dfLikesUS = pd.DataFrame(data_likes_us)"
   ]
  },
  {
   "cell_type": "code",
   "execution_count": null,
   "metadata": {},
   "outputs": [],
   "source": [
    "dfLikesUS = pd.merge(dfUScat1,dfLikesUS,on=\"id\")\n",
    "\n",
    "print(\"\")\n",
    "print(\"DATA LIKES SETIAP KATEGORI DI REGION UNITED STATES\")\n",
    "dfLikesUS"
   ]
  },
  {
   "cell_type": "markdown",
   "metadata": {},
   "source": [
    "#### 3C. Data Dislikes United States"
   ]
  },
  {
   "cell_type": "code",
   "execution_count": null,
   "metadata": {},
   "outputs": [],
   "source": [
    "# memasukkan data ke dalam list\n",
    "data_dislikes_us = {\n",
    "    \n",
    "    # c adalah hasil sorting array saat menemukan value yang unique dari id kategori data video region United States\n",
    "    'id' : c,\n",
    "    'highest_dislikes':[gUSvideo.get_group(items)['dislikes'].max() for items in dfUScat1['id']],    \n",
    "    'lowest_dislikes':[gUSvideo.get_group(items)['dislikes'].min() for items in dfUScat1['id']],\n",
    "    'average_dislikes':[gUSvideo.get_group(items)['dislikes'].mean() for items in dfUScat1['id']\n",
    "                   ]}\n",
    "\n",
    "dfDislikesUS = pd.DataFrame(data_dislikes_us)"
   ]
  },
  {
   "cell_type": "code",
   "execution_count": null,
   "metadata": {},
   "outputs": [],
   "source": [
    "dfDislikesUS = pd.merge(dfUScat1,dfDislikesUS,on=\"id\")\n",
    "\n",
    "print(\"\")\n",
    "print(\"DATA DILIKES SETIAP KATEGORI DI REGION UNITED STATES\")\n",
    "dfDislikesUS"
   ]
  },
  {
   "cell_type": "markdown",
   "metadata": {},
   "source": [
    "#### 4C. Data Comments United States"
   ]
  },
  {
   "cell_type": "code",
   "execution_count": null,
   "metadata": {},
   "outputs": [],
   "source": [
    "# memasukkan data ke dalam list\n",
    "data_comments_us = {\n",
    "    \n",
    "    # c adalah hasil sorting array saat menemukan value yang unique dari id kategori data video region United States\n",
    "    'id' : c,\n",
    "    'highest_comments':[gUSvideo.get_group(items)['comment_count'].max() for items in dfUScat1['id']], \n",
    "    'lowest_comments':[gUSvideo.get_group(items)['comment_count'].min() for items in dfUScat1['id']],   \n",
    "    'average_comments':[gUSvideo.get_group(items)['comment_count'].mean() for items in dfUScat1['id']\n",
    "                   ]}\n",
    "\n",
    "dfCommentsUS = pd.DataFrame(data_comments_us)"
   ]
  },
  {
   "cell_type": "code",
   "execution_count": null,
   "metadata": {},
   "outputs": [],
   "source": [
    "dfCommentsUS = pd.merge(dfUScat1,dfCommentsUS,on=\"id\")\n",
    "\n",
    "print(\"\")\n",
    "print(\"DATA COMMENTS SETIAP KATEGORI DI REGION UNITED STATES\")\n",
    "dfCommentsUS"
   ]
  },
  {
   "cell_type": "markdown",
   "metadata": {},
   "source": [
    "## Boxplotting Relative Value\n",
    "Karena melakukan boxplotting terhadap absolute value untuk jumlah views, likes, dislikes, dan comments tidak dapat dilihat dengan baik karena data terlalu diverse. Maka diputuskan untuk melakukan boxplotting likes, dislikes, dan comments terhadap views untuk setiap video kemudian dikalikan 100 agar range value terjaga mulai dari 0 hingga 100.\n",
    "\n",
    "\n",
    "<b>Operasinya adalah sebagai sebagai berikut :<br/>\n",
    "- Jumlah Likes / Jumlah Views * 100<br/>\n",
    "- Jumlah Dislikes / Jumlah Views * 100<br/>\n",
    "- Jumlah Comments / Jumlah Views * 100<br/></b>"
   ]
  },
  {
   "cell_type": "markdown",
   "metadata": {},
   "source": [
    "Untuk itu maka dataframe video <b>(dfCA, dfGB, dfUS)</b> perlu dimodifikasi dengan menambahkan kolom baru dari setiap operasi yang dilakukan"
   ]
  },
  {
   "cell_type": "code",
   "execution_count": null,
   "metadata": {},
   "outputs": [],
   "source": [
    "# Menambah kolom likes/views\n",
    "dfCA['likes/views(%)'] = dfCA['likes']/dfCA['views']*100\n",
    "dfGB['likes/views(%)'] = dfGB['likes']/dfGB['views']*100\n",
    "dfUS['likes/views(%)'] = dfUS['likes']/dfUS['views']*100"
   ]
  },
  {
   "cell_type": "code",
   "execution_count": null,
   "metadata": {},
   "outputs": [],
   "source": [
    "# Menambah kolom dislikes/views\n",
    "dfCA['dislikes/views(%)'] = dfCA['dislikes']/dfCA['views']*100\n",
    "dfGB['dislikes/views(%)'] = dfGB['dislikes']/dfGB['views']*100\n",
    "dfUS['dislikes/views(%)'] = dfUS['dislikes']/dfUS['views']*100"
   ]
  },
  {
   "cell_type": "code",
   "execution_count": null,
   "metadata": {},
   "outputs": [],
   "source": [
    "# Menambah kolom comments/views\n",
    "dfCA['comments/views(%)'] = dfCA['comment_count']/dfCA['views']*100\n",
    "dfGB['comments/views(%)'] = dfGB['comment_count']/dfGB['views']*100\n",
    "dfUS['comments/views(%)'] = dfUS['comment_count']/dfUS['views']*100"
   ]
  },
  {
   "cell_type": "markdown",
   "metadata": {},
   "source": [
    "Berikut adalah data video Canada setelah dimodifikasi. Dataframe ditambah kolom sebagai berikut :\n",
    "<b>\n",
    "- likes/views\n",
    "- dislikes/views\n",
    "- comments/views\n",
    "</b>\n",
    "semua dalam persen (%)"
   ]
  },
  {
   "cell_type": "code",
   "execution_count": null,
   "metadata": {},
   "outputs": [],
   "source": [
    "dfCA.head()"
   ]
  },
  {
   "cell_type": "markdown",
   "metadata": {},
   "source": [
    "Karena data video telah dimodifikasi, maka pengelompokan ulang berdasarkan id kategori perlu dilakukan kembali"
   ]
  },
  {
   "cell_type": "code",
   "execution_count": null,
   "metadata": {},
   "outputs": [],
   "source": [
    "gCAvideo = dfCA.groupby('category_id')\n",
    "gGBvideo = dfGB.groupby('category_id')\n",
    "gUSvideo = dfUS.groupby('category_id')"
   ]
  },
  {
   "cell_type": "markdown",
   "metadata": {},
   "source": [
    "### 1. Boxplotting Region Canada"
   ]
  },
  {
   "cell_type": "markdown",
   "metadata": {},
   "source": [
    "#### Berikut adalah hasil boxplot jumlah likes terhadap jumlah views di Canada"
   ]
  },
  {
   "cell_type": "code",
   "execution_count": null,
   "metadata": {},
   "outputs": [],
   "source": [
    "data_relative_views_ca = {\n",
    "    \n",
    "    # a adalah hasil sorting array saat menemukan value yang unique dari id kategori data video region Canada\n",
    "    'id' : a,\n",
    "    'category' : [i for i in dfCAcat1['category']],\n",
    "    'likes/views(%)': [gCAvideo.get_group(items)['likes/views(%)'].values for items in dfCAcat1['id']],\n",
    "    'dislikes/views(%)': [gCAvideo.get_group(items)['dislikes/views(%)'].values for items in dfCAcat1['id']],\n",
    "    'comments/views(%)': [gCAvideo.get_group(items)['comments/views(%)'].values for items in dfCAcat1['id']]\n",
    "}\n",
    "\n",
    "dfRelativeViewsCA = pd.DataFrame(data_relative_views_ca)\n",
    "dfRelativeViewsCA"
   ]
  },
  {
   "cell_type": "code",
   "execution_count": null,
   "metadata": {},
   "outputs": [],
   "source": [
    "fig = plt.figure(1, figsize=(10, 20))\n",
    "\n",
    "# membuat axes\n",
    "ax = fig.add_subplot(111)\n",
    "\n",
    "# boxplot\n",
    "ax.boxplot(dfRelativeViewsCA['likes/views(%)'].values)\n",
    "\n",
    "# penamaan x tick\n",
    "ax.set_xticklabels(dfRelativeViewsCA['category'], rotation='vertical')\n",
    "\n",
    "# penamaan judul\n",
    "plt.title(\"DATA LIKES/VIEWS WILAYAH CANADA\", fontsize=14)\n",
    "\n",
    "# penamaan label\n",
    "plt.xlabel(\"KATEGORI\", fontsize=14)\n",
    "plt.ylabel(\"LIKES/VIEWS\", fontsize=14)"
   ]
  },
  {
   "cell_type": "code",
   "execution_count": null,
   "metadata": {},
   "outputs": [],
   "source": [
    "fig = plt.figure(1, figsize=(10, 20))\n",
    "\n",
    "# membuat axes\n",
    "ax = fig.add_subplot(111)\n",
    "\n",
    "# boxplot\n",
    "ax.boxplot(dfRelativeViewsCA['dislikes/views(%)'].values)\n",
    "\n",
    "# penamaan x tick\n",
    "ax.set_xticklabels(dfRelativeViewsCA['category'], rotation='vertical')\n",
    "\n",
    "# penamaan judul\n",
    "plt.title(\"DATA DISLIKES/VIEWS WILAYAH CANADA\", fontsize=14)\n",
    "\n",
    "# penamaan label\n",
    "plt.xlabel(\"KATEGORI\", fontsize=14)\n",
    "plt.ylabel(\"DISLIKES/VIEWS\", fontsize=14)"
   ]
  },
  {
   "cell_type": "code",
   "execution_count": null,
   "metadata": {},
   "outputs": [],
   "source": [
    "fig = plt.figure(1, figsize=(10, 20))\n",
    "\n",
    "# membuat axes\n",
    "ax = fig.add_subplot(111)\n",
    "\n",
    "# boxplot\n",
    "ax.boxplot(dfRelativeViewsCA['comments/views(%)'].values)\n",
    "\n",
    "# penamaan x tick\n",
    "ax.set_xticklabels(dfRelativeViewsCA['category'], rotation='vertical')\n",
    "\n",
    "# penamaan judul\n",
    "plt.title(\"DATA COMMENTS/VIEWS WILAYAH CANADA\", fontsize=14)\n",
    "\n",
    "# penamaan label\n",
    "plt.xlabel(\"KATEGORI\", fontsize=14)\n",
    "plt.ylabel(\"COMMENTS/VIEWS\", fontsize=14)"
   ]
  },
  {
   "cell_type": "markdown",
   "metadata": {},
   "source": [
    "### 2. Boxplotting Region Great Britain"
   ]
  },
  {
   "cell_type": "code",
   "execution_count": null,
   "metadata": {},
   "outputs": [],
   "source": [
    "data_relative_views_gb = {\n",
    "    \n",
    "    # b adalah hasil sorting array saat menemukan value yang unique dari id kategori data video region Great Britain\n",
    "    'id' : b,\n",
    "    'category' : [i for i in dfGBcat1['category']],\n",
    "    'likes/views(%)': [gGBvideo.get_group(items)['likes/views(%)'].values for items in dfGBcat1['id']],\n",
    "    'dislikes/views(%)': [gGBvideo.get_group(items)['dislikes/views(%)'].values for items in dfGBcat1['id']],\n",
    "    'comments/views(%)': [gGBvideo.get_group(items)['comments/views(%)'].values for items in dfGBcat1['id']]\n",
    "}\n",
    "\n",
    "dfRelativeViewsGB = pd.DataFrame(data_relative_views_gb)\n",
    "dfRelativeViewsGB"
   ]
  },
  {
   "cell_type": "code",
   "execution_count": null,
   "metadata": {},
   "outputs": [],
   "source": [
    "fig = plt.figure(1, figsize=(10, 20))\n",
    "\n",
    "# membuat axes\n",
    "ax = fig.add_subplot(111)\n",
    "\n",
    "# boxplot\n",
    "ax.boxplot(dfRelativeViewsGB['likes/views(%)'].values)\n",
    "\n",
    "# penamaan x tick\n",
    "ax.set_xticklabels(dfRelativeViewsGB['category'], rotation='vertical')\n",
    "\n",
    "# penamaan judul\n",
    "plt.title(\"DATA LIKES/VIEWS WILAYAH GREAT BRITAIN\", fontsize=14)\n",
    "\n",
    "# penamaan label\n",
    "plt.xlabel(\"KATEGORI\", fontsize=14)\n",
    "plt.ylabel(\"LIKES/VIEWS\", fontsize=14)"
   ]
  },
  {
   "cell_type": "code",
   "execution_count": null,
   "metadata": {},
   "outputs": [],
   "source": [
    "fig = plt.figure(1, figsize=(10, 20))\n",
    "\n",
    "# membuat axes\n",
    "ax = fig.add_subplot(111)\n",
    "\n",
    "# boxplot\n",
    "ax.boxplot(dfRelativeViewsGB['dislikes/views(%)'].values)\n",
    "\n",
    "# penamaan x tick\n",
    "ax.set_xticklabels(dfRelativeViewsGB['category'], rotation='vertical')\n",
    "\n",
    "# penamaan judul\n",
    "plt.title(\"DATA DISLIKES/VIEWS WILAYAH GREAT BRITAIN\", fontsize=14)\n",
    "\n",
    "# penamaan label\n",
    "plt.xlabel(\"KATEGORI\", fontsize=14)\n",
    "plt.ylabel(\"LIKES/VIEWS\", fontsize=14)"
   ]
  },
  {
   "cell_type": "code",
   "execution_count": null,
   "metadata": {},
   "outputs": [],
   "source": [
    "fig = plt.figure(1, figsize=(10, 20))\n",
    "\n",
    "# membuat axes\n",
    "ax = fig.add_subplot(111)\n",
    "\n",
    "# boxplot\n",
    "ax.boxplot(dfRelativeViewsGB['comments/views(%)'].values)\n",
    "\n",
    "# penamaan x tick\n",
    "ax.set_xticklabels(dfRelativeViewsGB['category'], rotation='vertical')\n",
    "\n",
    "# penamaan judul\n",
    "plt.title(\"DATA COMMENTS/VIEWS WILAYAH GREAT BRITAIN\", fontsize=14)\n",
    "\n",
    "# penamaan label\n",
    "plt.xlabel(\"KATEGORI\", fontsize=14)\n",
    "plt.ylabel(\"COMMENTS/VIEWS\", fontsize=14)"
   ]
  },
  {
   "cell_type": "markdown",
   "metadata": {},
   "source": [
    "### 3. Boxplotting Region United States"
   ]
  },
  {
   "cell_type": "code",
   "execution_count": null,
   "metadata": {},
   "outputs": [],
   "source": [
    "data_relative_views_us = {\n",
    "    \n",
    "    # c adalah hasil sorting array saat menemukan value yang unique dari id kategori data video region United States\n",
    "    'id' : c,\n",
    "    'category' : [i for i in dfUScat1['category']],\n",
    "    'likes/views(%)': [gUSvideo.get_group(items)['likes/views(%)'].values for items in dfUScat1['id']],\n",
    "    'dislikes/views(%)': [gUSvideo.get_group(items)['dislikes/views(%)'].values for items in dfUScat1['id']],\n",
    "    'comments/views(%)': [gUSvideo.get_group(items)['comments/views(%)'].values for items in dfUScat1['id']]\n",
    "}\n",
    "\n",
    "dfRelativeViewsUS = pd.DataFrame(data_relative_views_us)\n",
    "dfRelativeViewsUS"
   ]
  },
  {
   "cell_type": "code",
   "execution_count": null,
   "metadata": {},
   "outputs": [],
   "source": [
    "fig = plt.figure(1, figsize=(10, 20))\n",
    "\n",
    "# membuat axes\n",
    "ax = fig.add_subplot(111)\n",
    "\n",
    "# boxplot\n",
    "ax.boxplot(dfRelativeViewsUS['likes/views(%)'].values)\n",
    "\n",
    "# penamaan x tick\n",
    "ax.set_xticklabels(dfRelativeViewsUS['category'], rotation='vertical')\n",
    "\n",
    "# penamaan judul\n",
    "plt.title(\"DATA LIKES/VIEWS WILAYAH UNITED STATES\", fontsize=14)\n",
    "\n",
    "# penamaan label\n",
    "plt.xlabel(\"KATEGORI\", fontsize=14)\n",
    "plt.ylabel(\"LIKES/VIEWS\", fontsize=14)"
   ]
  },
  {
   "cell_type": "code",
   "execution_count": null,
   "metadata": {},
   "outputs": [],
   "source": [
    "fig = plt.figure(1, figsize=(10, 20))\n",
    "\n",
    "# membuat axes\n",
    "ax = fig.add_subplot(111)\n",
    "\n",
    "# boxplot\n",
    "ax.boxplot(dfRelativeViewsUS['dislikes/views(%)'].values)\n",
    "\n",
    "# penamaan x tick\n",
    "ax.set_xticklabels(dfRelativeViewsUS['category'], rotation='vertical')\n",
    "\n",
    "# penamaan judul\n",
    "plt.title(\"DATA DISLIKES/VIEWS WILAYAH UNITED STATES\", fontsize=14)\n",
    "\n",
    "# penamaan label\n",
    "plt.xlabel(\"KATEGORI\", fontsize=14)\n",
    "plt.ylabel(\"DISLIKES/VIEWS\", fontsize=14)"
   ]
  },
  {
   "cell_type": "code",
   "execution_count": null,
   "metadata": {},
   "outputs": [],
   "source": [
    "fig = plt.figure(1, figsize=(10, 20))\n",
    "\n",
    "# membuat axes\n",
    "ax = fig.add_subplot(111)\n",
    "\n",
    "# boxplot\n",
    "ax.boxplot(dfRelativeViewsUS['comments/views(%)'].values)\n",
    "\n",
    "# penamaan x tick\n",
    "ax.set_xticklabels(dfRelativeViewsUS['category'], rotation='vertical')\n",
    "\n",
    "# penamaan judul\n",
    "plt.title(\"DATA COMMENTS/VIEWS WILAYAH UNITED STATES\", fontsize=14)\n",
    "\n",
    "# penamaan label\n",
    "plt.xlabel(\"KATEGORI\", fontsize=14)\n",
    "plt.ylabel(\"COMMENTS/VIEWS\", fontsize=14)"
   ]
  },
  {
   "cell_type": "markdown",
   "metadata": {},
   "source": [
    "## Top 5 Kategori Video Terbanyak Yang Diupload"
   ]
  },
  {
   "cell_type": "markdown",
   "metadata": {},
   "source": [
    "Untuk mencari 5 kategori video terbanyak yang diupload berdasarkan masing-masing wilayah, maka dataframe baru yang menampilkan berapa banyak video yang diupload berdasarkan kategori perlu untuk dibuat."
   ]
  },
  {
   "cell_type": "code",
   "execution_count": null,
   "metadata": {},
   "outputs": [],
   "source": [
    "data_upload_category_ca = {\n",
    "    \n",
    "    # a adalah hasil sorting array saat menemukan value yang unique dari id kategori data video region Canada\n",
    "    'id' : a,\n",
    "    'category' : [i for i in dfCAcat1['category']],\n",
    "    'upload_count': [gCAvideo.get_group(items)['category_id'].count() for items in dfCAcat1['id']]\n",
    "}\n",
    "\n",
    "dfCatUploadUS = pd.DataFrame(data_upload_category_ca)\n",
    "\n",
    "print(\"DATA UPLOAD BERDASARKAN KATEGORI CANADA\")\n",
    "dfCatUploadUS"
   ]
  },
  {
   "cell_type": "code",
   "execution_count": null,
   "metadata": {},
   "outputs": [],
   "source": []
  },
  {
   "cell_type": "markdown",
   "metadata": {},
   "source": [
    "####"
   ]
  },
  {
   "cell_type": "markdown",
   "metadata": {},
   "source": [
    "####"
   ]
  },
  {
   "cell_type": "markdown",
   "metadata": {},
   "source": [
    "####"
   ]
  }
 ],
 "metadata": {
  "kernelspec": {
   "display_name": "Python 3",
   "language": "python",
   "name": "python3"
  },
  "language_info": {
   "codemirror_mode": {
    "name": "ipython",
    "version": 3
   },
   "file_extension": ".py",
   "mimetype": "text/x-python",
   "name": "python",
   "nbconvert_exporter": "python",
   "pygments_lexer": "ipython3",
   "version": "3.7.3"
  }
 },
 "nbformat": 4,
 "nbformat_minor": 2
}
