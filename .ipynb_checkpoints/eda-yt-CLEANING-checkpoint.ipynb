{
 "cells": [
  {
   "cell_type": "markdown",
   "metadata": {},
   "source": [
    "# EDA Datasets Youtube"
   ]
  },
  {
   "cell_type": "markdown",
   "metadata": {},
   "source": [
    "## Datasets Yang Digunakan\n",
    "</br></br>\n",
    "Datasets yang digunakan adalah datasets video Youtube yang bersumber dari Kaggle dengan link sebagai berikut : <br>https://www.kaggle.com/datasnaek/youtube-new yang diupload oleh Mitchell J.\n",
    "\n",
    "Datasets ini mencakup 200+ data video yang dianggap mengalami 'daily trending' per harinya oleh YouTube yang diambil sejak -. \n",
    "\n",
    "Untuk menentukan trending tidaknya video, YouTube menggunakan berbagai kombinasi faktor seperti berapa jumlah view, jumlah share, jumlah komentar, jumlah likes, dan lain sebagainya. Tetapi perlu digarisbawahi bahwa menurut majalah ternama Variety dengan link artikel sebagai berikut http://variety.com/2017/digital/news/youtube-2017-top-trending-videos-music-videos-1202631416/ <b>video yang dianggap mengalami trend oleh YouTube bukanlah video yang memiliki viewer terbanyak</b>.\n",
    "\n",
    "Datasets tersebut diambil dengan menggunakan YouTube API dari sourcecode yang berasal dari link sebagai berikut :\n",
    "https://github.com/DataSnaek/Trending-YouTube-Scraper\n",
    "\n",
    "Datasets yang digunakan dalam eksplorasi dibatasi menjadi 3 wilayah/region Canada (CA), Great Britain (GB), dan United States (US).\n",
    "\n",
    "\n",
    "Jenis dari datasets dari ketiga region tersebut adalah sama yaitu : <b>\n",
    " - Data video dengan format .csv <br>\n",
    " - Data kategori dengan format .json</b>"
   ]
  },
  {
   "cell_type": "markdown",
   "metadata": {},
   "source": [
    "## Import library dan load datasets\n",
    "Import library <b>Pandas</b> dan library lain yang diperlukan untuk membaca datasets .csv dan .json. <br/><br/>\n",
    "Datasets yang diload adalah sebagai berikut : <b>\n",
    "- CA_category_id.json\n",
    "- CAvideos.csv\n",
    "- GB_category_id.json\n",
    "- GBvideos.csv\n",
    "- US_category_id.json\n",
    "- USvideos.csv </b>\n",
    "\n",
    "Datasets tersebut diubah menjadi dataframe terlebih dahulu dengan library Pandas agar dapat diolah."
   ]
  },
  {
   "cell_type": "code",
   "execution_count": 1,
   "metadata": {
    "scrolled": true
   },
   "outputs": [],
   "source": [
    "#Import library\n",
    "import pandas as pd\n",
    "import json as js\n",
    "from pandas.io.json import json_normalize\n",
    "\n",
    "#import matplotlib\n",
    "import matplotlib.pyplot as plt\n",
    "\n",
    "import numpy as np\n",
    "\n",
    "# import seaborn\n",
    "import seaborn as sns\n",
    "%matplotlib inline"
   ]
  },
  {
   "cell_type": "code",
   "execution_count": 2,
   "metadata": {},
   "outputs": [],
   "source": [
    "#load datasets CA\n",
    "dfCAvideos = pd.read_csv(\"datasets/CAvideos.csv\")\n",
    "with open(\"datasets/CA_category_id.json\") as file:    \n",
    "    jsCAcategory = js.load(file)\n",
    "\n",
    "#Load datasets GB\n",
    "dfGBvideos = pd.read_csv(\"datasets/GBvideos.csv\")\n",
    "with open(\"datasets/GB_category_id.json\") as file:    \n",
    "    jsGBcategory = js.load(file)\n",
    "    \n",
    "#Load datasets US\n",
    "dfUSvideos = pd.read_csv(\"datasets/USvideos.csv\")\n",
    "with open(\"datasets/US_category_id.json\") as file:    \n",
    "    jsUScategory = js.load(file)\n",
    "\n",
    "# set option agar float dapat ditampilkan seluruhnya\n",
    "pd.set_option('float_format', '{:f}'.format)"
   ]
  },
  {
   "cell_type": "code",
   "execution_count": 3,
   "metadata": {},
   "outputs": [
    {
     "data": {
      "text/plain": [
       "video_id                  object\n",
       "trending_date             object\n",
       "title                     object\n",
       "channel_title             object\n",
       "category_id                int64\n",
       "publish_time              object\n",
       "tags                      object\n",
       "views                      int64\n",
       "likes                      int64\n",
       "dislikes                   int64\n",
       "comment_count              int64\n",
       "thumbnail_link            object\n",
       "comments_disabled           bool\n",
       "ratings_disabled            bool\n",
       "video_error_or_removed      bool\n",
       "description               object\n",
       "dtype: object"
      ]
     },
     "execution_count": 3,
     "metadata": {},
     "output_type": "execute_result"
    }
   ],
   "source": [
    "dfCAvideos.dtypes"
   ]
  },
  {
   "cell_type": "code",
   "execution_count": 4,
   "metadata": {},
   "outputs": [
    {
     "data": {
      "text/plain": [
       "video_id                  object\n",
       "trending_date             object\n",
       "title                     object\n",
       "channel_title             object\n",
       "category_id                int64\n",
       "publish_time              object\n",
       "tags                      object\n",
       "views                      int64\n",
       "likes                      int64\n",
       "dislikes                   int64\n",
       "comment_count              int64\n",
       "thumbnail_link            object\n",
       "comments_disabled           bool\n",
       "ratings_disabled            bool\n",
       "video_error_or_removed      bool\n",
       "description               object\n",
       "dtype: object"
      ]
     },
     "execution_count": 4,
     "metadata": {},
     "output_type": "execute_result"
    }
   ],
   "source": [
    "dfGBvideos.dtypes"
   ]
  },
  {
   "cell_type": "code",
   "execution_count": 5,
   "metadata": {},
   "outputs": [
    {
     "data": {
      "text/plain": [
       "video_id                  object\n",
       "trending_date             object\n",
       "title                     object\n",
       "channel_title             object\n",
       "category_id                int64\n",
       "publish_time              object\n",
       "tags                      object\n",
       "views                      int64\n",
       "likes                      int64\n",
       "dislikes                   int64\n",
       "comment_count              int64\n",
       "thumbnail_link            object\n",
       "comments_disabled           bool\n",
       "ratings_disabled            bool\n",
       "video_error_or_removed      bool\n",
       "description               object\n",
       "dtype: object"
      ]
     },
     "execution_count": 5,
     "metadata": {},
     "output_type": "execute_result"
    }
   ],
   "source": [
    "dfUSvideos.dtypes"
   ]
  },
  {
   "cell_type": "markdown",
   "metadata": {},
   "source": [
    "## Dataset Video\n",
    "Dataset video adalah dataset video YouTube yang terdiri dari kolom sebagai berikut :\n",
    " - <b>video_id</b> (ID Video) </br>\n",
    " - <b>trending_date</b> (Tanggal Trending) </br>\n",
    " - <b>title</b> (Judul Video) </br>\n",
    " - <b>channel_title</b> (Nama Channel)</br>\n",
    " - <b>category_id</b> (ID Kategori) </br>\n",
    " - <b>publish_time</b> (Tanggal Upload) <br>\n",
    " - <b>tags</b> (Tag-tag) </br>\n",
    " - <b>views</b> (Jumlah Penonton) </br>\n",
    " - <b>likes</b> (Jumlah yang Menyukai Video) </br>\n",
    " - <b>dislikes</b> (Jumlah yang Tidak Menyukai Video) </br>\n",
    " - <b>comment_count</b> (Jumlah Komentar) </br>\n",
    " - <b>thumbnail_link</b> (Link Thumbnail) </br>\n",
    " - <b>comments_disabled</b> (Status Kolom Komentar) </br>\n",
    " - <b>ratings_disabled</b> (Status Rating) </br>\n",
    " - <b>video_error_or_removed</b> (Status Video Error/Dihapus) </br>\n",
    " - <b>description</b> (Deskripsi Video)\n",
    " \n",
    "Dataset video dari 3 region adalah sebagai berikut :\n",
    "- CAvideos.csv (dataset video region Canada)\n",
    "- GBvideos.csv (dataset video region Great Britain)\n",
    "- USvideos.csv (dataset video region United States)\n",
    "\n",
    "Karena ke-3nya berformat .csv maka dapat diubah menjadi dataframe dengan sintaks pd.read_csv seperti yang dilakukan di cell sebelumnya."
   ]
  },
  {
   "cell_type": "markdown",
   "metadata": {},
   "source": [
    "#### Karena kolom trending_date pada semua data video adalah string dengan format year.month.day (contoh : 17.11.14), maka objek dari kolom tersebut perlu diubah menjadi bentuk datetime"
   ]
  },
  {
   "cell_type": "code",
   "execution_count": 6,
   "metadata": {},
   "outputs": [],
   "source": [
    "dfCAvideos['trending_date'] =  pd.to_datetime(dfCAvideos['trending_date'], format='%y.%d.%m')\n",
    "dfGBvideos['trending_date'] =  pd.to_datetime(dfGBvideos['trending_date'], format='%y.%d.%m')\n",
    "dfUSvideos['trending_date'] =  pd.to_datetime(dfUSvideos['trending_date'], format='%y.%d.%m')"
   ]
  },
  {
   "cell_type": "markdown",
   "metadata": {},
   "source": [
    "### Data Video Region Canada\n",
    "Berikut adalah data video dari region Canada :"
   ]
  },
  {
   "cell_type": "code",
   "execution_count": 7,
   "metadata": {
    "scrolled": false
   },
   "outputs": [
    {
     "data": {
      "text/html": [
       "<div>\n",
       "<style scoped>\n",
       "    .dataframe tbody tr th:only-of-type {\n",
       "        vertical-align: middle;\n",
       "    }\n",
       "\n",
       "    .dataframe tbody tr th {\n",
       "        vertical-align: top;\n",
       "    }\n",
       "\n",
       "    .dataframe thead th {\n",
       "        text-align: right;\n",
       "    }\n",
       "</style>\n",
       "<table border=\"1\" class=\"dataframe\">\n",
       "  <thead>\n",
       "    <tr style=\"text-align: right;\">\n",
       "      <th></th>\n",
       "      <th>video_id</th>\n",
       "      <th>trending_date</th>\n",
       "      <th>title</th>\n",
       "      <th>channel_title</th>\n",
       "      <th>category_id</th>\n",
       "      <th>publish_time</th>\n",
       "      <th>tags</th>\n",
       "      <th>views</th>\n",
       "      <th>likes</th>\n",
       "      <th>dislikes</th>\n",
       "      <th>comment_count</th>\n",
       "      <th>thumbnail_link</th>\n",
       "      <th>comments_disabled</th>\n",
       "      <th>ratings_disabled</th>\n",
       "      <th>video_error_or_removed</th>\n",
       "      <th>description</th>\n",
       "    </tr>\n",
       "  </thead>\n",
       "  <tbody>\n",
       "    <tr>\n",
       "      <td>0</td>\n",
       "      <td>n1WpP7iowLc</td>\n",
       "      <td>2017-11-14</td>\n",
       "      <td>Eminem - Walk On Water (Audio) ft. Beyoncé</td>\n",
       "      <td>EminemVEVO</td>\n",
       "      <td>10</td>\n",
       "      <td>2017-11-10T17:00:03.000Z</td>\n",
       "      <td>Eminem|\"Walk\"|\"On\"|\"Water\"|\"Aftermath/Shady/In...</td>\n",
       "      <td>17158579</td>\n",
       "      <td>787425</td>\n",
       "      <td>43420</td>\n",
       "      <td>125882</td>\n",
       "      <td>https://i.ytimg.com/vi/n1WpP7iowLc/default.jpg</td>\n",
       "      <td>False</td>\n",
       "      <td>False</td>\n",
       "      <td>False</td>\n",
       "      <td>Eminem's new track Walk on Water ft. Beyoncé i...</td>\n",
       "    </tr>\n",
       "    <tr>\n",
       "      <td>1</td>\n",
       "      <td>0dBIkQ4Mz1M</td>\n",
       "      <td>2017-11-14</td>\n",
       "      <td>PLUSH - Bad Unboxing Fan Mail</td>\n",
       "      <td>iDubbbzTV</td>\n",
       "      <td>23</td>\n",
       "      <td>2017-11-13T17:00:00.000Z</td>\n",
       "      <td>plush|\"bad unboxing\"|\"unboxing\"|\"fan mail\"|\"id...</td>\n",
       "      <td>1014651</td>\n",
       "      <td>127794</td>\n",
       "      <td>1688</td>\n",
       "      <td>13030</td>\n",
       "      <td>https://i.ytimg.com/vi/0dBIkQ4Mz1M/default.jpg</td>\n",
       "      <td>False</td>\n",
       "      <td>False</td>\n",
       "      <td>False</td>\n",
       "      <td>STill got a lot of packages. Probably will las...</td>\n",
       "    </tr>\n",
       "    <tr>\n",
       "      <td>2</td>\n",
       "      <td>5qpjK5DgCt4</td>\n",
       "      <td>2017-11-14</td>\n",
       "      <td>Racist Superman | Rudy Mancuso, King Bach &amp; Le...</td>\n",
       "      <td>Rudy Mancuso</td>\n",
       "      <td>23</td>\n",
       "      <td>2017-11-12T19:05:24.000Z</td>\n",
       "      <td>racist superman|\"rudy\"|\"mancuso\"|\"king\"|\"bach\"...</td>\n",
       "      <td>3191434</td>\n",
       "      <td>146035</td>\n",
       "      <td>5339</td>\n",
       "      <td>8181</td>\n",
       "      <td>https://i.ytimg.com/vi/5qpjK5DgCt4/default.jpg</td>\n",
       "      <td>False</td>\n",
       "      <td>False</td>\n",
       "      <td>False</td>\n",
       "      <td>WATCH MY PREVIOUS VIDEO ▶ \\n\\nSUBSCRIBE ► http...</td>\n",
       "    </tr>\n",
       "    <tr>\n",
       "      <td>3</td>\n",
       "      <td>d380meD0W0M</td>\n",
       "      <td>2017-11-14</td>\n",
       "      <td>I Dare You: GOING BALD!?</td>\n",
       "      <td>nigahiga</td>\n",
       "      <td>24</td>\n",
       "      <td>2017-11-12T18:01:41.000Z</td>\n",
       "      <td>ryan|\"higa\"|\"higatv\"|\"nigahiga\"|\"i dare you\"|\"...</td>\n",
       "      <td>2095828</td>\n",
       "      <td>132239</td>\n",
       "      <td>1989</td>\n",
       "      <td>17518</td>\n",
       "      <td>https://i.ytimg.com/vi/d380meD0W0M/default.jpg</td>\n",
       "      <td>False</td>\n",
       "      <td>False</td>\n",
       "      <td>False</td>\n",
       "      <td>I know it's been a while since we did this sho...</td>\n",
       "    </tr>\n",
       "    <tr>\n",
       "      <td>4</td>\n",
       "      <td>2Vv-BfVoq4g</td>\n",
       "      <td>2017-11-14</td>\n",
       "      <td>Ed Sheeran - Perfect (Official Music Video)</td>\n",
       "      <td>Ed Sheeran</td>\n",
       "      <td>10</td>\n",
       "      <td>2017-11-09T11:04:14.000Z</td>\n",
       "      <td>edsheeran|\"ed sheeran\"|\"acoustic\"|\"live\"|\"cove...</td>\n",
       "      <td>33523622</td>\n",
       "      <td>1634130</td>\n",
       "      <td>21082</td>\n",
       "      <td>85067</td>\n",
       "      <td>https://i.ytimg.com/vi/2Vv-BfVoq4g/default.jpg</td>\n",
       "      <td>False</td>\n",
       "      <td>False</td>\n",
       "      <td>False</td>\n",
       "      <td>🎧: https://ad.gt/yt-perfect\\n💰: https://atlant...</td>\n",
       "    </tr>\n",
       "  </tbody>\n",
       "</table>\n",
       "</div>"
      ],
      "text/plain": [
       "      video_id trending_date  \\\n",
       "0  n1WpP7iowLc    2017-11-14   \n",
       "1  0dBIkQ4Mz1M    2017-11-14   \n",
       "2  5qpjK5DgCt4    2017-11-14   \n",
       "3  d380meD0W0M    2017-11-14   \n",
       "4  2Vv-BfVoq4g    2017-11-14   \n",
       "\n",
       "                                               title channel_title  \\\n",
       "0         Eminem - Walk On Water (Audio) ft. Beyoncé    EminemVEVO   \n",
       "1                      PLUSH - Bad Unboxing Fan Mail     iDubbbzTV   \n",
       "2  Racist Superman | Rudy Mancuso, King Bach & Le...  Rudy Mancuso   \n",
       "3                           I Dare You: GOING BALD!?      nigahiga   \n",
       "4        Ed Sheeran - Perfect (Official Music Video)    Ed Sheeran   \n",
       "\n",
       "   category_id              publish_time  \\\n",
       "0           10  2017-11-10T17:00:03.000Z   \n",
       "1           23  2017-11-13T17:00:00.000Z   \n",
       "2           23  2017-11-12T19:05:24.000Z   \n",
       "3           24  2017-11-12T18:01:41.000Z   \n",
       "4           10  2017-11-09T11:04:14.000Z   \n",
       "\n",
       "                                                tags     views    likes  \\\n",
       "0  Eminem|\"Walk\"|\"On\"|\"Water\"|\"Aftermath/Shady/In...  17158579   787425   \n",
       "1  plush|\"bad unboxing\"|\"unboxing\"|\"fan mail\"|\"id...   1014651   127794   \n",
       "2  racist superman|\"rudy\"|\"mancuso\"|\"king\"|\"bach\"...   3191434   146035   \n",
       "3  ryan|\"higa\"|\"higatv\"|\"nigahiga\"|\"i dare you\"|\"...   2095828   132239   \n",
       "4  edsheeran|\"ed sheeran\"|\"acoustic\"|\"live\"|\"cove...  33523622  1634130   \n",
       "\n",
       "   dislikes  comment_count                                  thumbnail_link  \\\n",
       "0     43420         125882  https://i.ytimg.com/vi/n1WpP7iowLc/default.jpg   \n",
       "1      1688          13030  https://i.ytimg.com/vi/0dBIkQ4Mz1M/default.jpg   \n",
       "2      5339           8181  https://i.ytimg.com/vi/5qpjK5DgCt4/default.jpg   \n",
       "3      1989          17518  https://i.ytimg.com/vi/d380meD0W0M/default.jpg   \n",
       "4     21082          85067  https://i.ytimg.com/vi/2Vv-BfVoq4g/default.jpg   \n",
       "\n",
       "   comments_disabled  ratings_disabled  video_error_or_removed  \\\n",
       "0              False             False                   False   \n",
       "1              False             False                   False   \n",
       "2              False             False                   False   \n",
       "3              False             False                   False   \n",
       "4              False             False                   False   \n",
       "\n",
       "                                         description  \n",
       "0  Eminem's new track Walk on Water ft. Beyoncé i...  \n",
       "1  STill got a lot of packages. Probably will las...  \n",
       "2  WATCH MY PREVIOUS VIDEO ▶ \\n\\nSUBSCRIBE ► http...  \n",
       "3  I know it's been a while since we did this sho...  \n",
       "4  🎧: https://ad.gt/yt-perfect\\n💰: https://atlant...  "
      ]
     },
     "execution_count": 7,
     "metadata": {},
     "output_type": "execute_result"
    }
   ],
   "source": [
    "dfCAvideos.head()"
   ]
  },
  {
   "cell_type": "code",
   "execution_count": 8,
   "metadata": {},
   "outputs": [
    {
     "data": {
      "text/plain": [
       "(40881, 16)"
      ]
     },
     "execution_count": 8,
     "metadata": {},
     "output_type": "execute_result"
    }
   ],
   "source": [
    "dfCAvideos.shape"
   ]
  },
  {
   "cell_type": "markdown",
   "metadata": {},
   "source": [
    "Berdasarkan pengecekan data video dari region Canada memiliki dimensi <b>40881 baris x 16 kolom</b>."
   ]
  },
  {
   "cell_type": "markdown",
   "metadata": {},
   "source": [
    "### Data Video Region Great Britain\n",
    "Berikut adalah data video dari region Great Britain :"
   ]
  },
  {
   "cell_type": "code",
   "execution_count": 9,
   "metadata": {},
   "outputs": [
    {
     "data": {
      "text/html": [
       "<div>\n",
       "<style scoped>\n",
       "    .dataframe tbody tr th:only-of-type {\n",
       "        vertical-align: middle;\n",
       "    }\n",
       "\n",
       "    .dataframe tbody tr th {\n",
       "        vertical-align: top;\n",
       "    }\n",
       "\n",
       "    .dataframe thead th {\n",
       "        text-align: right;\n",
       "    }\n",
       "</style>\n",
       "<table border=\"1\" class=\"dataframe\">\n",
       "  <thead>\n",
       "    <tr style=\"text-align: right;\">\n",
       "      <th></th>\n",
       "      <th>video_id</th>\n",
       "      <th>trending_date</th>\n",
       "      <th>title</th>\n",
       "      <th>channel_title</th>\n",
       "      <th>category_id</th>\n",
       "      <th>publish_time</th>\n",
       "      <th>tags</th>\n",
       "      <th>views</th>\n",
       "      <th>likes</th>\n",
       "      <th>dislikes</th>\n",
       "      <th>comment_count</th>\n",
       "      <th>thumbnail_link</th>\n",
       "      <th>comments_disabled</th>\n",
       "      <th>ratings_disabled</th>\n",
       "      <th>video_error_or_removed</th>\n",
       "      <th>description</th>\n",
       "    </tr>\n",
       "  </thead>\n",
       "  <tbody>\n",
       "    <tr>\n",
       "      <td>0</td>\n",
       "      <td>Jw1Y-zhQURU</td>\n",
       "      <td>2017-11-14</td>\n",
       "      <td>John Lewis Christmas Ad 2017 - #MozTheMonster</td>\n",
       "      <td>John Lewis</td>\n",
       "      <td>26</td>\n",
       "      <td>2017-11-10T07:38:29.000Z</td>\n",
       "      <td>christmas|\"john lewis christmas\"|\"john lewis\"|...</td>\n",
       "      <td>7224515</td>\n",
       "      <td>55681</td>\n",
       "      <td>10247</td>\n",
       "      <td>9479</td>\n",
       "      <td>https://i.ytimg.com/vi/Jw1Y-zhQURU/default.jpg</td>\n",
       "      <td>False</td>\n",
       "      <td>False</td>\n",
       "      <td>False</td>\n",
       "      <td>Click here to continue the story and make your...</td>\n",
       "    </tr>\n",
       "    <tr>\n",
       "      <td>1</td>\n",
       "      <td>3s1rvMFUweQ</td>\n",
       "      <td>2017-11-14</td>\n",
       "      <td>Taylor Swift: …Ready for It? (Live) - SNL</td>\n",
       "      <td>Saturday Night Live</td>\n",
       "      <td>24</td>\n",
       "      <td>2017-11-12T06:24:44.000Z</td>\n",
       "      <td>SNL|\"Saturday Night Live\"|\"SNL Season 43\"|\"Epi...</td>\n",
       "      <td>1053632</td>\n",
       "      <td>25561</td>\n",
       "      <td>2294</td>\n",
       "      <td>2757</td>\n",
       "      <td>https://i.ytimg.com/vi/3s1rvMFUweQ/default.jpg</td>\n",
       "      <td>False</td>\n",
       "      <td>False</td>\n",
       "      <td>False</td>\n",
       "      <td>Musical guest Taylor Swift performs …Ready for...</td>\n",
       "    </tr>\n",
       "    <tr>\n",
       "      <td>2</td>\n",
       "      <td>n1WpP7iowLc</td>\n",
       "      <td>2017-11-14</td>\n",
       "      <td>Eminem - Walk On Water (Audio) ft. Beyoncé</td>\n",
       "      <td>EminemVEVO</td>\n",
       "      <td>10</td>\n",
       "      <td>2017-11-10T17:00:03.000Z</td>\n",
       "      <td>Eminem|\"Walk\"|\"On\"|\"Water\"|\"Aftermath/Shady/In...</td>\n",
       "      <td>17158579</td>\n",
       "      <td>787420</td>\n",
       "      <td>43420</td>\n",
       "      <td>125882</td>\n",
       "      <td>https://i.ytimg.com/vi/n1WpP7iowLc/default.jpg</td>\n",
       "      <td>False</td>\n",
       "      <td>False</td>\n",
       "      <td>False</td>\n",
       "      <td>Eminem's new track Walk on Water ft. Beyoncé i...</td>\n",
       "    </tr>\n",
       "    <tr>\n",
       "      <td>3</td>\n",
       "      <td>PUTEiSjKwJU</td>\n",
       "      <td>2017-11-14</td>\n",
       "      <td>Goals from Salford City vs Class of 92 and Fri...</td>\n",
       "      <td>Salford City Football Club</td>\n",
       "      <td>17</td>\n",
       "      <td>2017-11-13T02:30:38.000Z</td>\n",
       "      <td>Salford City FC|\"Salford City\"|\"Salford\"|\"Clas...</td>\n",
       "      <td>27833</td>\n",
       "      <td>193</td>\n",
       "      <td>12</td>\n",
       "      <td>37</td>\n",
       "      <td>https://i.ytimg.com/vi/PUTEiSjKwJU/default.jpg</td>\n",
       "      <td>False</td>\n",
       "      <td>False</td>\n",
       "      <td>False</td>\n",
       "      <td>Salford drew 4-4 against the Class of 92 and F...</td>\n",
       "    </tr>\n",
       "    <tr>\n",
       "      <td>4</td>\n",
       "      <td>rHwDegptbI4</td>\n",
       "      <td>2017-11-14</td>\n",
       "      <td>Dashcam captures truck's near miss with child ...</td>\n",
       "      <td>Cute Girl Videos</td>\n",
       "      <td>25</td>\n",
       "      <td>2017-11-13T01:45:13.000Z</td>\n",
       "      <td>[none]</td>\n",
       "      <td>9815</td>\n",
       "      <td>30</td>\n",
       "      <td>2</td>\n",
       "      <td>30</td>\n",
       "      <td>https://i.ytimg.com/vi/rHwDegptbI4/default.jpg</td>\n",
       "      <td>False</td>\n",
       "      <td>False</td>\n",
       "      <td>False</td>\n",
       "      <td>Dashcam captures truck's near miss with child ...</td>\n",
       "    </tr>\n",
       "  </tbody>\n",
       "</table>\n",
       "</div>"
      ],
      "text/plain": [
       "      video_id trending_date  \\\n",
       "0  Jw1Y-zhQURU    2017-11-14   \n",
       "1  3s1rvMFUweQ    2017-11-14   \n",
       "2  n1WpP7iowLc    2017-11-14   \n",
       "3  PUTEiSjKwJU    2017-11-14   \n",
       "4  rHwDegptbI4    2017-11-14   \n",
       "\n",
       "                                               title  \\\n",
       "0      John Lewis Christmas Ad 2017 - #MozTheMonster   \n",
       "1          Taylor Swift: …Ready for It? (Live) - SNL   \n",
       "2         Eminem - Walk On Water (Audio) ft. Beyoncé   \n",
       "3  Goals from Salford City vs Class of 92 and Fri...   \n",
       "4  Dashcam captures truck's near miss with child ...   \n",
       "\n",
       "                channel_title  category_id              publish_time  \\\n",
       "0                  John Lewis           26  2017-11-10T07:38:29.000Z   \n",
       "1         Saturday Night Live           24  2017-11-12T06:24:44.000Z   \n",
       "2                  EminemVEVO           10  2017-11-10T17:00:03.000Z   \n",
       "3  Salford City Football Club           17  2017-11-13T02:30:38.000Z   \n",
       "4            Cute Girl Videos           25  2017-11-13T01:45:13.000Z   \n",
       "\n",
       "                                                tags     views   likes  \\\n",
       "0  christmas|\"john lewis christmas\"|\"john lewis\"|...   7224515   55681   \n",
       "1  SNL|\"Saturday Night Live\"|\"SNL Season 43\"|\"Epi...   1053632   25561   \n",
       "2  Eminem|\"Walk\"|\"On\"|\"Water\"|\"Aftermath/Shady/In...  17158579  787420   \n",
       "3  Salford City FC|\"Salford City\"|\"Salford\"|\"Clas...     27833     193   \n",
       "4                                             [none]      9815      30   \n",
       "\n",
       "   dislikes  comment_count                                  thumbnail_link  \\\n",
       "0     10247           9479  https://i.ytimg.com/vi/Jw1Y-zhQURU/default.jpg   \n",
       "1      2294           2757  https://i.ytimg.com/vi/3s1rvMFUweQ/default.jpg   \n",
       "2     43420         125882  https://i.ytimg.com/vi/n1WpP7iowLc/default.jpg   \n",
       "3        12             37  https://i.ytimg.com/vi/PUTEiSjKwJU/default.jpg   \n",
       "4         2             30  https://i.ytimg.com/vi/rHwDegptbI4/default.jpg   \n",
       "\n",
       "   comments_disabled  ratings_disabled  video_error_or_removed  \\\n",
       "0              False             False                   False   \n",
       "1              False             False                   False   \n",
       "2              False             False                   False   \n",
       "3              False             False                   False   \n",
       "4              False             False                   False   \n",
       "\n",
       "                                         description  \n",
       "0  Click here to continue the story and make your...  \n",
       "1  Musical guest Taylor Swift performs …Ready for...  \n",
       "2  Eminem's new track Walk on Water ft. Beyoncé i...  \n",
       "3  Salford drew 4-4 against the Class of 92 and F...  \n",
       "4  Dashcam captures truck's near miss with child ...  "
      ]
     },
     "execution_count": 9,
     "metadata": {},
     "output_type": "execute_result"
    }
   ],
   "source": [
    "dfGBvideos.head()"
   ]
  },
  {
   "cell_type": "code",
   "execution_count": 10,
   "metadata": {},
   "outputs": [
    {
     "data": {
      "text/plain": [
       "(38916, 16)"
      ]
     },
     "execution_count": 10,
     "metadata": {},
     "output_type": "execute_result"
    }
   ],
   "source": [
    "dfGBvideos.shape"
   ]
  },
  {
   "cell_type": "markdown",
   "metadata": {},
   "source": [
    "Berdasarkan pengecekan data video dari region Great Britain memiliki dimensi <b>38916 baris x 16 kolom</b>."
   ]
  },
  {
   "cell_type": "markdown",
   "metadata": {},
   "source": [
    "### Data Video Region Great Britain\n",
    "Berikut adalah data video dari region Great Britain :"
   ]
  },
  {
   "cell_type": "code",
   "execution_count": 11,
   "metadata": {},
   "outputs": [
    {
     "data": {
      "text/html": [
       "<div>\n",
       "<style scoped>\n",
       "    .dataframe tbody tr th:only-of-type {\n",
       "        vertical-align: middle;\n",
       "    }\n",
       "\n",
       "    .dataframe tbody tr th {\n",
       "        vertical-align: top;\n",
       "    }\n",
       "\n",
       "    .dataframe thead th {\n",
       "        text-align: right;\n",
       "    }\n",
       "</style>\n",
       "<table border=\"1\" class=\"dataframe\">\n",
       "  <thead>\n",
       "    <tr style=\"text-align: right;\">\n",
       "      <th></th>\n",
       "      <th>video_id</th>\n",
       "      <th>trending_date</th>\n",
       "      <th>title</th>\n",
       "      <th>channel_title</th>\n",
       "      <th>category_id</th>\n",
       "      <th>publish_time</th>\n",
       "      <th>tags</th>\n",
       "      <th>views</th>\n",
       "      <th>likes</th>\n",
       "      <th>dislikes</th>\n",
       "      <th>comment_count</th>\n",
       "      <th>thumbnail_link</th>\n",
       "      <th>comments_disabled</th>\n",
       "      <th>ratings_disabled</th>\n",
       "      <th>video_error_or_removed</th>\n",
       "      <th>description</th>\n",
       "    </tr>\n",
       "  </thead>\n",
       "  <tbody>\n",
       "    <tr>\n",
       "      <td>0</td>\n",
       "      <td>2kyS6SvSYSE</td>\n",
       "      <td>2017-11-14</td>\n",
       "      <td>WE WANT TO TALK ABOUT OUR MARRIAGE</td>\n",
       "      <td>CaseyNeistat</td>\n",
       "      <td>22</td>\n",
       "      <td>2017-11-13T17:13:01.000Z</td>\n",
       "      <td>SHANtell martin</td>\n",
       "      <td>748374</td>\n",
       "      <td>57527</td>\n",
       "      <td>2966</td>\n",
       "      <td>15954</td>\n",
       "      <td>https://i.ytimg.com/vi/2kyS6SvSYSE/default.jpg</td>\n",
       "      <td>False</td>\n",
       "      <td>False</td>\n",
       "      <td>False</td>\n",
       "      <td>SHANTELL'S CHANNEL - https://www.youtube.com/s...</td>\n",
       "    </tr>\n",
       "    <tr>\n",
       "      <td>1</td>\n",
       "      <td>1ZAPwfrtAFY</td>\n",
       "      <td>2017-11-14</td>\n",
       "      <td>The Trump Presidency: Last Week Tonight with J...</td>\n",
       "      <td>LastWeekTonight</td>\n",
       "      <td>24</td>\n",
       "      <td>2017-11-13T07:30:00.000Z</td>\n",
       "      <td>last week tonight trump presidency|\"last week ...</td>\n",
       "      <td>2418783</td>\n",
       "      <td>97185</td>\n",
       "      <td>6146</td>\n",
       "      <td>12703</td>\n",
       "      <td>https://i.ytimg.com/vi/1ZAPwfrtAFY/default.jpg</td>\n",
       "      <td>False</td>\n",
       "      <td>False</td>\n",
       "      <td>False</td>\n",
       "      <td>One year after the presidential election, John...</td>\n",
       "    </tr>\n",
       "    <tr>\n",
       "      <td>2</td>\n",
       "      <td>5qpjK5DgCt4</td>\n",
       "      <td>2017-11-14</td>\n",
       "      <td>Racist Superman | Rudy Mancuso, King Bach &amp; Le...</td>\n",
       "      <td>Rudy Mancuso</td>\n",
       "      <td>23</td>\n",
       "      <td>2017-11-12T19:05:24.000Z</td>\n",
       "      <td>racist superman|\"rudy\"|\"mancuso\"|\"king\"|\"bach\"...</td>\n",
       "      <td>3191434</td>\n",
       "      <td>146033</td>\n",
       "      <td>5339</td>\n",
       "      <td>8181</td>\n",
       "      <td>https://i.ytimg.com/vi/5qpjK5DgCt4/default.jpg</td>\n",
       "      <td>False</td>\n",
       "      <td>False</td>\n",
       "      <td>False</td>\n",
       "      <td>WATCH MY PREVIOUS VIDEO ▶ \\n\\nSUBSCRIBE ► http...</td>\n",
       "    </tr>\n",
       "    <tr>\n",
       "      <td>3</td>\n",
       "      <td>puqaWrEC7tY</td>\n",
       "      <td>2017-11-14</td>\n",
       "      <td>Nickelback Lyrics: Real or Fake?</td>\n",
       "      <td>Good Mythical Morning</td>\n",
       "      <td>24</td>\n",
       "      <td>2017-11-13T11:00:04.000Z</td>\n",
       "      <td>rhett and link|\"gmm\"|\"good mythical morning\"|\"...</td>\n",
       "      <td>343168</td>\n",
       "      <td>10172</td>\n",
       "      <td>666</td>\n",
       "      <td>2146</td>\n",
       "      <td>https://i.ytimg.com/vi/puqaWrEC7tY/default.jpg</td>\n",
       "      <td>False</td>\n",
       "      <td>False</td>\n",
       "      <td>False</td>\n",
       "      <td>Today we find out if Link is a Nickelback amat...</td>\n",
       "    </tr>\n",
       "    <tr>\n",
       "      <td>4</td>\n",
       "      <td>d380meD0W0M</td>\n",
       "      <td>2017-11-14</td>\n",
       "      <td>I Dare You: GOING BALD!?</td>\n",
       "      <td>nigahiga</td>\n",
       "      <td>24</td>\n",
       "      <td>2017-11-12T18:01:41.000Z</td>\n",
       "      <td>ryan|\"higa\"|\"higatv\"|\"nigahiga\"|\"i dare you\"|\"...</td>\n",
       "      <td>2095731</td>\n",
       "      <td>132235</td>\n",
       "      <td>1989</td>\n",
       "      <td>17518</td>\n",
       "      <td>https://i.ytimg.com/vi/d380meD0W0M/default.jpg</td>\n",
       "      <td>False</td>\n",
       "      <td>False</td>\n",
       "      <td>False</td>\n",
       "      <td>I know it's been a while since we did this sho...</td>\n",
       "    </tr>\n",
       "  </tbody>\n",
       "</table>\n",
       "</div>"
      ],
      "text/plain": [
       "      video_id trending_date  \\\n",
       "0  2kyS6SvSYSE    2017-11-14   \n",
       "1  1ZAPwfrtAFY    2017-11-14   \n",
       "2  5qpjK5DgCt4    2017-11-14   \n",
       "3  puqaWrEC7tY    2017-11-14   \n",
       "4  d380meD0W0M    2017-11-14   \n",
       "\n",
       "                                               title          channel_title  \\\n",
       "0                 WE WANT TO TALK ABOUT OUR MARRIAGE           CaseyNeistat   \n",
       "1  The Trump Presidency: Last Week Tonight with J...        LastWeekTonight   \n",
       "2  Racist Superman | Rudy Mancuso, King Bach & Le...           Rudy Mancuso   \n",
       "3                   Nickelback Lyrics: Real or Fake?  Good Mythical Morning   \n",
       "4                           I Dare You: GOING BALD!?               nigahiga   \n",
       "\n",
       "   category_id              publish_time  \\\n",
       "0           22  2017-11-13T17:13:01.000Z   \n",
       "1           24  2017-11-13T07:30:00.000Z   \n",
       "2           23  2017-11-12T19:05:24.000Z   \n",
       "3           24  2017-11-13T11:00:04.000Z   \n",
       "4           24  2017-11-12T18:01:41.000Z   \n",
       "\n",
       "                                                tags    views   likes  \\\n",
       "0                                    SHANtell martin   748374   57527   \n",
       "1  last week tonight trump presidency|\"last week ...  2418783   97185   \n",
       "2  racist superman|\"rudy\"|\"mancuso\"|\"king\"|\"bach\"...  3191434  146033   \n",
       "3  rhett and link|\"gmm\"|\"good mythical morning\"|\"...   343168   10172   \n",
       "4  ryan|\"higa\"|\"higatv\"|\"nigahiga\"|\"i dare you\"|\"...  2095731  132235   \n",
       "\n",
       "   dislikes  comment_count                                  thumbnail_link  \\\n",
       "0      2966          15954  https://i.ytimg.com/vi/2kyS6SvSYSE/default.jpg   \n",
       "1      6146          12703  https://i.ytimg.com/vi/1ZAPwfrtAFY/default.jpg   \n",
       "2      5339           8181  https://i.ytimg.com/vi/5qpjK5DgCt4/default.jpg   \n",
       "3       666           2146  https://i.ytimg.com/vi/puqaWrEC7tY/default.jpg   \n",
       "4      1989          17518  https://i.ytimg.com/vi/d380meD0W0M/default.jpg   \n",
       "\n",
       "   comments_disabled  ratings_disabled  video_error_or_removed  \\\n",
       "0              False             False                   False   \n",
       "1              False             False                   False   \n",
       "2              False             False                   False   \n",
       "3              False             False                   False   \n",
       "4              False             False                   False   \n",
       "\n",
       "                                         description  \n",
       "0  SHANTELL'S CHANNEL - https://www.youtube.com/s...  \n",
       "1  One year after the presidential election, John...  \n",
       "2  WATCH MY PREVIOUS VIDEO ▶ \\n\\nSUBSCRIBE ► http...  \n",
       "3  Today we find out if Link is a Nickelback amat...  \n",
       "4  I know it's been a while since we did this sho...  "
      ]
     },
     "execution_count": 11,
     "metadata": {},
     "output_type": "execute_result"
    }
   ],
   "source": [
    "dfUSvideos.head()"
   ]
  },
  {
   "cell_type": "code",
   "execution_count": 12,
   "metadata": {},
   "outputs": [
    {
     "data": {
      "text/plain": [
       "(40949, 16)"
      ]
     },
     "execution_count": 12,
     "metadata": {},
     "output_type": "execute_result"
    }
   ],
   "source": [
    "dfUSvideos.shape"
   ]
  },
  {
   "cell_type": "markdown",
   "metadata": {},
   "source": [
    "Berdasarkan pengecekan data video dari region United States memiliki dimensi <b>40849 baris x 16 kolom</b>."
   ]
  },
  {
   "cell_type": "markdown",
   "metadata": {},
   "source": [
    "### Menemukan Jumlah Video Yang Trending Per Hari"
   ]
  },
  {
   "cell_type": "markdown",
   "metadata": {},
   "source": [
    "Dilakukan gruping berdasarkan trending_date terlebih dahulu, kemudian dilakukan count untuk mengetahui berapa row data dalam satu hari trending_date"
   ]
  },
  {
   "cell_type": "code",
   "execution_count": 13,
   "metadata": {},
   "outputs": [
    {
     "data": {
      "text/html": [
       "<div>\n",
       "<style scoped>\n",
       "    .dataframe tbody tr th:only-of-type {\n",
       "        vertical-align: middle;\n",
       "    }\n",
       "\n",
       "    .dataframe tbody tr th {\n",
       "        vertical-align: top;\n",
       "    }\n",
       "\n",
       "    .dataframe thead th {\n",
       "        text-align: right;\n",
       "    }\n",
       "</style>\n",
       "<table border=\"1\" class=\"dataframe\">\n",
       "  <thead>\n",
       "    <tr style=\"text-align: right;\">\n",
       "      <th></th>\n",
       "      <th>trending_date</th>\n",
       "      <th>video_id</th>\n",
       "      <th>title</th>\n",
       "      <th>channel_title</th>\n",
       "      <th>category_id</th>\n",
       "      <th>publish_time</th>\n",
       "      <th>tags</th>\n",
       "      <th>views</th>\n",
       "      <th>likes</th>\n",
       "      <th>dislikes</th>\n",
       "      <th>comment_count</th>\n",
       "      <th>thumbnail_link</th>\n",
       "      <th>comments_disabled</th>\n",
       "      <th>ratings_disabled</th>\n",
       "      <th>video_error_or_removed</th>\n",
       "      <th>description</th>\n",
       "    </tr>\n",
       "  </thead>\n",
       "  <tbody>\n",
       "    <tr>\n",
       "      <td>0</td>\n",
       "      <td>2017-11-14</td>\n",
       "      <td>200</td>\n",
       "      <td>200</td>\n",
       "      <td>200</td>\n",
       "      <td>200</td>\n",
       "      <td>200</td>\n",
       "      <td>200</td>\n",
       "      <td>200</td>\n",
       "      <td>200</td>\n",
       "      <td>200</td>\n",
       "      <td>200</td>\n",
       "      <td>200</td>\n",
       "      <td>200</td>\n",
       "      <td>200</td>\n",
       "      <td>200</td>\n",
       "      <td>194</td>\n",
       "    </tr>\n",
       "    <tr>\n",
       "      <td>1</td>\n",
       "      <td>2017-11-15</td>\n",
       "      <td>200</td>\n",
       "      <td>200</td>\n",
       "      <td>200</td>\n",
       "      <td>200</td>\n",
       "      <td>200</td>\n",
       "      <td>200</td>\n",
       "      <td>200</td>\n",
       "      <td>200</td>\n",
       "      <td>200</td>\n",
       "      <td>200</td>\n",
       "      <td>200</td>\n",
       "      <td>200</td>\n",
       "      <td>200</td>\n",
       "      <td>200</td>\n",
       "      <td>197</td>\n",
       "    </tr>\n",
       "    <tr>\n",
       "      <td>2</td>\n",
       "      <td>2017-11-16</td>\n",
       "      <td>200</td>\n",
       "      <td>200</td>\n",
       "      <td>200</td>\n",
       "      <td>200</td>\n",
       "      <td>200</td>\n",
       "      <td>200</td>\n",
       "      <td>200</td>\n",
       "      <td>200</td>\n",
       "      <td>200</td>\n",
       "      <td>200</td>\n",
       "      <td>200</td>\n",
       "      <td>200</td>\n",
       "      <td>200</td>\n",
       "      <td>200</td>\n",
       "      <td>193</td>\n",
       "    </tr>\n",
       "    <tr>\n",
       "      <td>3</td>\n",
       "      <td>2017-11-17</td>\n",
       "      <td>200</td>\n",
       "      <td>200</td>\n",
       "      <td>200</td>\n",
       "      <td>200</td>\n",
       "      <td>200</td>\n",
       "      <td>200</td>\n",
       "      <td>200</td>\n",
       "      <td>200</td>\n",
       "      <td>200</td>\n",
       "      <td>200</td>\n",
       "      <td>200</td>\n",
       "      <td>200</td>\n",
       "      <td>200</td>\n",
       "      <td>200</td>\n",
       "      <td>197</td>\n",
       "    </tr>\n",
       "    <tr>\n",
       "      <td>4</td>\n",
       "      <td>2017-11-18</td>\n",
       "      <td>200</td>\n",
       "      <td>200</td>\n",
       "      <td>200</td>\n",
       "      <td>200</td>\n",
       "      <td>200</td>\n",
       "      <td>200</td>\n",
       "      <td>200</td>\n",
       "      <td>200</td>\n",
       "      <td>200</td>\n",
       "      <td>200</td>\n",
       "      <td>200</td>\n",
       "      <td>200</td>\n",
       "      <td>200</td>\n",
       "      <td>200</td>\n",
       "      <td>193</td>\n",
       "    </tr>\n",
       "  </tbody>\n",
       "</table>\n",
       "</div>"
      ],
      "text/plain": [
       "  trending_date  video_id  title  channel_title  category_id  publish_time  \\\n",
       "0    2017-11-14       200    200            200          200           200   \n",
       "1    2017-11-15       200    200            200          200           200   \n",
       "2    2017-11-16       200    200            200          200           200   \n",
       "3    2017-11-17       200    200            200          200           200   \n",
       "4    2017-11-18       200    200            200          200           200   \n",
       "\n",
       "   tags  views  likes  dislikes  comment_count  thumbnail_link  \\\n",
       "0   200    200    200       200            200             200   \n",
       "1   200    200    200       200            200             200   \n",
       "2   200    200    200       200            200             200   \n",
       "3   200    200    200       200            200             200   \n",
       "4   200    200    200       200            200             200   \n",
       "\n",
       "   comments_disabled  ratings_disabled  video_error_or_removed  description  \n",
       "0                200               200                     200          194  \n",
       "1                200               200                     200          197  \n",
       "2                200               200                     200          193  \n",
       "3                200               200                     200          197  \n",
       "4                200               200                     200          193  "
      ]
     },
     "execution_count": 13,
     "metadata": {},
     "output_type": "execute_result"
    }
   ],
   "source": [
    "#membuat dataframe baru dengan count yang menghitung berapa row data muncul berdasarkan trending_date pada datasets df videos\n",
    "dfCAPerDay = pd.DataFrame(dfCAvideos.groupby('trending_date').count().reset_index())\n",
    "dfGBPerDay = pd.DataFrame(dfGBvideos.groupby('trending_date').count().reset_index())\n",
    "dfUSPerDay = pd.DataFrame(dfUSvideos.groupby('trending_date').count().reset_index())\n",
    "\n",
    "dfCAPerDay.head()"
   ]
  },
  {
   "cell_type": "code",
   "execution_count": 14,
   "metadata": {},
   "outputs": [
    {
     "data": {
      "text/html": [
       "<div>\n",
       "<style scoped>\n",
       "    .dataframe tbody tr th:only-of-type {\n",
       "        vertical-align: middle;\n",
       "    }\n",
       "\n",
       "    .dataframe tbody tr th {\n",
       "        vertical-align: top;\n",
       "    }\n",
       "\n",
       "    .dataframe thead th {\n",
       "        text-align: right;\n",
       "    }\n",
       "</style>\n",
       "<table border=\"1\" class=\"dataframe\">\n",
       "  <thead>\n",
       "    <tr style=\"text-align: right;\">\n",
       "      <th></th>\n",
       "      <th>trending_date</th>\n",
       "      <th>counter</th>\n",
       "    </tr>\n",
       "  </thead>\n",
       "  <tbody>\n",
       "    <tr>\n",
       "      <td>0</td>\n",
       "      <td>2017-11-14</td>\n",
       "      <td>200</td>\n",
       "    </tr>\n",
       "    <tr>\n",
       "      <td>1</td>\n",
       "      <td>2017-11-15</td>\n",
       "      <td>200</td>\n",
       "    </tr>\n",
       "    <tr>\n",
       "      <td>2</td>\n",
       "      <td>2017-11-16</td>\n",
       "      <td>200</td>\n",
       "    </tr>\n",
       "    <tr>\n",
       "      <td>3</td>\n",
       "      <td>2017-11-17</td>\n",
       "      <td>200</td>\n",
       "    </tr>\n",
       "    <tr>\n",
       "      <td>4</td>\n",
       "      <td>2017-11-18</td>\n",
       "      <td>200</td>\n",
       "    </tr>\n",
       "  </tbody>\n",
       "</table>\n",
       "</div>"
      ],
      "text/plain": [
       "  trending_date  counter\n",
       "0    2017-11-14      200\n",
       "1    2017-11-15      200\n",
       "2    2017-11-16      200\n",
       "3    2017-11-17      200\n",
       "4    2017-11-18      200"
      ]
     },
     "execution_count": 14,
     "metadata": {},
     "output_type": "execute_result"
    }
   ],
   "source": [
    "#dilakukan filtering karena hanya membutuhkan 2 kolom saja\n",
    "dfCAPerDay = dfCAPerDay.filter(['trending_date', 'video_id'])\n",
    "dfGBPerDay = dfCAPerDay.filter(['trending_date', 'video_id'])\n",
    "dfUSPerDay = dfCAPerDay.filter(['trending_date', 'video_id'])\n",
    "\n",
    "#rename kolom menjadi counter\n",
    "dfCAPerDay.columns = ['trending_date', 'counter']\n",
    "dfGBPerDay.columns = ['trending_date', 'counter']\n",
    "dfUSPerDay.columns = ['trending_date', 'counter']\n",
    "\n",
    "dfCAPerDay.head(5)"
   ]
  },
  {
   "cell_type": "markdown",
   "metadata": {},
   "source": [
    "#### Jumlah Video Per Hari Canada"
   ]
  },
  {
   "cell_type": "code",
   "execution_count": 15,
   "metadata": {},
   "outputs": [
    {
     "data": {
      "text/plain": [
       "171"
      ]
     },
     "execution_count": 15,
     "metadata": {},
     "output_type": "execute_result"
    }
   ],
   "source": [
    "dfCAPerDay[\"counter\"].min()"
   ]
  },
  {
   "cell_type": "code",
   "execution_count": 16,
   "metadata": {},
   "outputs": [
    {
     "data": {
      "text/plain": [
       "200"
      ]
     },
     "execution_count": 16,
     "metadata": {},
     "output_type": "execute_result"
    }
   ],
   "source": [
    "dfCAPerDay[\"counter\"].max()"
   ]
  },
  {
   "cell_type": "code",
   "execution_count": 17,
   "metadata": {},
   "outputs": [
    {
     "data": {
      "text/plain": [
       "199.41951219512194"
      ]
     },
     "execution_count": 17,
     "metadata": {},
     "output_type": "execute_result"
    }
   ],
   "source": [
    "dfCAPerDay[\"counter\"].mean()"
   ]
  },
  {
   "cell_type": "markdown",
   "metadata": {},
   "source": [
    "#### Jumlah Video Per Hari Great Britain"
   ]
  },
  {
   "cell_type": "code",
   "execution_count": 18,
   "metadata": {},
   "outputs": [
    {
     "data": {
      "text/plain": [
       "171"
      ]
     },
     "execution_count": 18,
     "metadata": {},
     "output_type": "execute_result"
    }
   ],
   "source": [
    "dfGBPerDay[\"counter\"].min()"
   ]
  },
  {
   "cell_type": "code",
   "execution_count": 19,
   "metadata": {},
   "outputs": [
    {
     "data": {
      "text/plain": [
       "200"
      ]
     },
     "execution_count": 19,
     "metadata": {},
     "output_type": "execute_result"
    }
   ],
   "source": [
    "dfGBPerDay[\"counter\"].max()"
   ]
  },
  {
   "cell_type": "code",
   "execution_count": 20,
   "metadata": {},
   "outputs": [
    {
     "data": {
      "text/plain": [
       "199.41951219512194"
      ]
     },
     "execution_count": 20,
     "metadata": {},
     "output_type": "execute_result"
    }
   ],
   "source": [
    "dfGBPerDay[\"counter\"].mean()"
   ]
  },
  {
   "cell_type": "markdown",
   "metadata": {},
   "source": [
    "#### Jumlah Video Per Hari United States"
   ]
  },
  {
   "cell_type": "code",
   "execution_count": 21,
   "metadata": {},
   "outputs": [
    {
     "data": {
      "text/plain": [
       "171"
      ]
     },
     "execution_count": 21,
     "metadata": {},
     "output_type": "execute_result"
    }
   ],
   "source": [
    "dfUSPerDay[\"counter\"].min()"
   ]
  },
  {
   "cell_type": "code",
   "execution_count": 22,
   "metadata": {},
   "outputs": [
    {
     "data": {
      "text/plain": [
       "200"
      ]
     },
     "execution_count": 22,
     "metadata": {},
     "output_type": "execute_result"
    }
   ],
   "source": [
    "dfUSPerDay[\"counter\"].max()"
   ]
  },
  {
   "cell_type": "code",
   "execution_count": 23,
   "metadata": {},
   "outputs": [
    {
     "data": {
      "text/plain": [
       "199.41951219512194"
      ]
     },
     "execution_count": 23,
     "metadata": {},
     "output_type": "execute_result"
    }
   ],
   "source": [
    "dfUSPerDay[\"counter\"].mean()"
   ]
  },
  {
   "cell_type": "markdown",
   "metadata": {},
   "source": [
    "### Jumlah Hari Masing-masing Region"
   ]
  },
  {
   "cell_type": "markdown",
   "metadata": {},
   "source": [
    "CA"
   ]
  },
  {
   "cell_type": "code",
   "execution_count": 24,
   "metadata": {},
   "outputs": [
    {
     "data": {
      "text/plain": [
       "(205, 2)"
      ]
     },
     "execution_count": 24,
     "metadata": {},
     "output_type": "execute_result"
    }
   ],
   "source": [
    "dfCAPerDay.shape"
   ]
  },
  {
   "cell_type": "code",
   "execution_count": 25,
   "metadata": {},
   "outputs": [
    {
     "data": {
      "text/plain": [
       "Timestamp('2017-11-14 00:00:00')"
      ]
     },
     "execution_count": 25,
     "metadata": {},
     "output_type": "execute_result"
    }
   ],
   "source": [
    "dfCAPerDay['trending_date'].min()"
   ]
  },
  {
   "cell_type": "code",
   "execution_count": 26,
   "metadata": {},
   "outputs": [
    {
     "data": {
      "text/plain": [
       "Timestamp('2018-06-14 00:00:00')"
      ]
     },
     "execution_count": 26,
     "metadata": {},
     "output_type": "execute_result"
    }
   ],
   "source": [
    "dfCAPerDay['trending_date'].max()"
   ]
  },
  {
   "cell_type": "markdown",
   "metadata": {},
   "source": [
    "GB"
   ]
  },
  {
   "cell_type": "code",
   "execution_count": 27,
   "metadata": {},
   "outputs": [
    {
     "data": {
      "text/plain": [
       "(205, 2)"
      ]
     },
     "execution_count": 27,
     "metadata": {},
     "output_type": "execute_result"
    }
   ],
   "source": [
    "dfGBPerDay.shape"
   ]
  },
  {
   "cell_type": "code",
   "execution_count": 28,
   "metadata": {},
   "outputs": [
    {
     "data": {
      "text/plain": [
       "Timestamp('2017-11-14 00:00:00')"
      ]
     },
     "execution_count": 28,
     "metadata": {},
     "output_type": "execute_result"
    }
   ],
   "source": [
    "dfGBPerDay['trending_date'].min()"
   ]
  },
  {
   "cell_type": "markdown",
   "metadata": {},
   "source": [
    "US"
   ]
  },
  {
   "cell_type": "code",
   "execution_count": 29,
   "metadata": {},
   "outputs": [
    {
     "data": {
      "text/plain": [
       "(205, 2)"
      ]
     },
     "execution_count": 29,
     "metadata": {},
     "output_type": "execute_result"
    }
   ],
   "source": [
    "dfUSPerDay.shape"
   ]
  },
  {
   "cell_type": "code",
   "execution_count": 30,
   "metadata": {},
   "outputs": [
    {
     "data": {
      "text/plain": [
       "Timestamp('2017-11-14 00:00:00')"
      ]
     },
     "execution_count": 30,
     "metadata": {},
     "output_type": "execute_result"
    }
   ],
   "source": [
    "dfUSPerDay['trending_date'].min()"
   ]
  },
  {
   "cell_type": "code",
   "execution_count": 31,
   "metadata": {},
   "outputs": [
    {
     "data": {
      "text/plain": [
       "Timestamp('2018-06-14 00:00:00')"
      ]
     },
     "execution_count": 31,
     "metadata": {},
     "output_type": "execute_result"
    }
   ],
   "source": [
    "dfCAPerDay['trending_date'].max()"
   ]
  },
  {
   "cell_type": "markdown",
   "metadata": {},
   "source": [
    "<b>------------------------------------------------------------------------------------------------------------------------------------------------------------------------------------------------------------------------------------------------------------------------------------------------------------------------------------------------------------------------------------------------------------------------------------</b>"
   ]
  },
  {
   "cell_type": "markdown",
   "metadata": {},
   "source": [
    "## Dataset Kategori\n",
    "Dataset kategori adalah dataset kategori video di Youtube.\n",
    "\n",
    "Dataset kategori dari 3 region tersebut adalah :\n",
    "- CA_category_id.json (dataset kategori video region Canada)\n",
    "- GB_category_id.json (dataset kategori video region Great Britain)\n",
    "- US_category_id.json (dataset kategori video region United States)\n",
    "\n",
    "Karena dataset berformat .json maka perlu dilakukan transformasi untuk mengubahnya menjadi dataframe."
   ]
  },
  {
   "cell_type": "markdown",
   "metadata": {},
   "source": [
    "Mari melihat isi dari file kategori .json dari region Canada sebagai contoh."
   ]
  },
  {
   "cell_type": "code",
   "execution_count": 32,
   "metadata": {},
   "outputs": [
    {
     "data": {
      "text/plain": [
       "{'kind': 'youtube#videoCategoryListResponse',\n",
       " 'etag': '\"ld9biNPKjAjgjV7EZ4EKeEGrhao/1v2mrzYSYG6onNLt2qTj13hkQZk\"',\n",
       " 'items': [{'kind': 'youtube#videoCategory',\n",
       "   'etag': '\"ld9biNPKjAjgjV7EZ4EKeEGrhao/Xy1mB4_yLrHy_BmKmPBggty2mZQ\"',\n",
       "   'id': '1',\n",
       "   'snippet': {'channelId': 'UCBR8-60-B28hp2BmDPdntcQ',\n",
       "    'title': 'Film & Animation',\n",
       "    'assignable': True}},\n",
       "  {'kind': 'youtube#videoCategory',\n",
       "   'etag': '\"ld9biNPKjAjgjV7EZ4EKeEGrhao/UZ1oLIIz2dxIhO45ZTFR3a3NyTA\"',\n",
       "   'id': '2',\n",
       "   'snippet': {'channelId': 'UCBR8-60-B28hp2BmDPdntcQ',\n",
       "    'title': 'Autos & Vehicles',\n",
       "    'assignable': True}},\n",
       "  {'kind': 'youtube#videoCategory',\n",
       "   'etag': '\"ld9biNPKjAjgjV7EZ4EKeEGrhao/nqRIq97-xe5XRZTxbknKFVe5Lmg\"',\n",
       "   'id': '10',\n",
       "   'snippet': {'channelId': 'UCBR8-60-B28hp2BmDPdntcQ',\n",
       "    'title': 'Music',\n",
       "    'assignable': True}},\n",
       "  {'kind': 'youtube#videoCategory',\n",
       "   'etag': '\"ld9biNPKjAjgjV7EZ4EKeEGrhao/HwXKamM1Q20q9BN-oBJavSGkfDI\"',\n",
       "   'id': '15',\n",
       "   'snippet': {'channelId': 'UCBR8-60-B28hp2BmDPdntcQ',\n",
       "    'title': 'Pets & Animals',\n",
       "    'assignable': True}},\n",
       "  {'kind': 'youtube#videoCategory',\n",
       "   'etag': '\"ld9biNPKjAjgjV7EZ4EKeEGrhao/9GQMSRjrZdHeb1OEM1XVQ9zbGec\"',\n",
       "   'id': '17',\n",
       "   'snippet': {'channelId': 'UCBR8-60-B28hp2BmDPdntcQ',\n",
       "    'title': 'Sports',\n",
       "    'assignable': True}},\n",
       "  {'kind': 'youtube#videoCategory',\n",
       "   'etag': '\"ld9biNPKjAjgjV7EZ4EKeEGrhao/FJwVpGCVZ1yiJrqZbpqe68Sy_OE\"',\n",
       "   'id': '18',\n",
       "   'snippet': {'channelId': 'UCBR8-60-B28hp2BmDPdntcQ',\n",
       "    'title': 'Short Movies',\n",
       "    'assignable': False}},\n",
       "  {'kind': 'youtube#videoCategory',\n",
       "   'etag': '\"ld9biNPKjAjgjV7EZ4EKeEGrhao/M-3iD9dwK7YJCafRf_DkLN8CouA\"',\n",
       "   'id': '19',\n",
       "   'snippet': {'channelId': 'UCBR8-60-B28hp2BmDPdntcQ',\n",
       "    'title': 'Travel & Events',\n",
       "    'assignable': True}},\n",
       "  {'kind': 'youtube#videoCategory',\n",
       "   'etag': '\"ld9biNPKjAjgjV7EZ4EKeEGrhao/WmA0qYEfjWsAoyJFSw2zinhn2wM\"',\n",
       "   'id': '20',\n",
       "   'snippet': {'channelId': 'UCBR8-60-B28hp2BmDPdntcQ',\n",
       "    'title': 'Gaming',\n",
       "    'assignable': True}},\n",
       "  {'kind': 'youtube#videoCategory',\n",
       "   'etag': '\"ld9biNPKjAjgjV7EZ4EKeEGrhao/EapFaGYG7K0StIXVf8aba249tdM\"',\n",
       "   'id': '21',\n",
       "   'snippet': {'channelId': 'UCBR8-60-B28hp2BmDPdntcQ',\n",
       "    'title': 'Videoblogging',\n",
       "    'assignable': False}},\n",
       "  {'kind': 'youtube#videoCategory',\n",
       "   'etag': '\"ld9biNPKjAjgjV7EZ4EKeEGrhao/xId8RX7vRN8rqkbYZbNIytUQDRo\"',\n",
       "   'id': '22',\n",
       "   'snippet': {'channelId': 'UCBR8-60-B28hp2BmDPdntcQ',\n",
       "    'title': 'People & Blogs',\n",
       "    'assignable': True}},\n",
       "  {'kind': 'youtube#videoCategory',\n",
       "   'etag': '\"ld9biNPKjAjgjV7EZ4EKeEGrhao/G9LHzQmx44rX2S5yaga_Aqtwz8M\"',\n",
       "   'id': '23',\n",
       "   'snippet': {'channelId': 'UCBR8-60-B28hp2BmDPdntcQ',\n",
       "    'title': 'Comedy',\n",
       "    'assignable': True}},\n",
       "  {'kind': 'youtube#videoCategory',\n",
       "   'etag': '\"ld9biNPKjAjgjV7EZ4EKeEGrhao/UVB9oxX2Bvqa_w_y3vXSLVK5E_s\"',\n",
       "   'id': '24',\n",
       "   'snippet': {'channelId': 'UCBR8-60-B28hp2BmDPdntcQ',\n",
       "    'title': 'Entertainment',\n",
       "    'assignable': True}},\n",
       "  {'kind': 'youtube#videoCategory',\n",
       "   'etag': '\"ld9biNPKjAjgjV7EZ4EKeEGrhao/QiLK0ZIrFoORdk_g2l_XR_ECjDc\"',\n",
       "   'id': '25',\n",
       "   'snippet': {'channelId': 'UCBR8-60-B28hp2BmDPdntcQ',\n",
       "    'title': 'News & Politics',\n",
       "    'assignable': True}},\n",
       "  {'kind': 'youtube#videoCategory',\n",
       "   'etag': '\"ld9biNPKjAjgjV7EZ4EKeEGrhao/r6Ck6Z0_L0rG37VJQR200SGNA_w\"',\n",
       "   'id': '26',\n",
       "   'snippet': {'channelId': 'UCBR8-60-B28hp2BmDPdntcQ',\n",
       "    'title': 'Howto & Style',\n",
       "    'assignable': True}},\n",
       "  {'kind': 'youtube#videoCategory',\n",
       "   'etag': '\"ld9biNPKjAjgjV7EZ4EKeEGrhao/EoYkczo9I3RCf96RveKTOgOPkUM\"',\n",
       "   'id': '27',\n",
       "   'snippet': {'channelId': 'UCBR8-60-B28hp2BmDPdntcQ',\n",
       "    'title': 'Education',\n",
       "    'assignable': True}},\n",
       "  {'kind': 'youtube#videoCategory',\n",
       "   'etag': '\"ld9biNPKjAjgjV7EZ4EKeEGrhao/w5HjcTD82G_XA3xBctS30zS-JpQ\"',\n",
       "   'id': '28',\n",
       "   'snippet': {'channelId': 'UCBR8-60-B28hp2BmDPdntcQ',\n",
       "    'title': 'Science & Technology',\n",
       "    'assignable': True}},\n",
       "  {'kind': 'youtube#videoCategory',\n",
       "   'etag': '\"ld9biNPKjAjgjV7EZ4EKeEGrhao/lL7uWDr_071CHxifjYG1tJrp4Uo\"',\n",
       "   'id': '30',\n",
       "   'snippet': {'channelId': 'UCBR8-60-B28hp2BmDPdntcQ',\n",
       "    'title': 'Movies',\n",
       "    'assignable': False}},\n",
       "  {'kind': 'youtube#videoCategory',\n",
       "   'etag': '\"ld9biNPKjAjgjV7EZ4EKeEGrhao/WnuVfjO-PyFLO7NTRQIbrGE62nk\"',\n",
       "   'id': '31',\n",
       "   'snippet': {'channelId': 'UCBR8-60-B28hp2BmDPdntcQ',\n",
       "    'title': 'Anime/Animation',\n",
       "    'assignable': False}},\n",
       "  {'kind': 'youtube#videoCategory',\n",
       "   'etag': '\"ld9biNPKjAjgjV7EZ4EKeEGrhao/ctpH2hGA_UZ3volJT_FTlOg9M00\"',\n",
       "   'id': '32',\n",
       "   'snippet': {'channelId': 'UCBR8-60-B28hp2BmDPdntcQ',\n",
       "    'title': 'Action/Adventure',\n",
       "    'assignable': False}},\n",
       "  {'kind': 'youtube#videoCategory',\n",
       "   'etag': '\"ld9biNPKjAjgjV7EZ4EKeEGrhao/L0kR3-g1BAo5UD1PLVbQ7LkkDtQ\"',\n",
       "   'id': '33',\n",
       "   'snippet': {'channelId': 'UCBR8-60-B28hp2BmDPdntcQ',\n",
       "    'title': 'Classics',\n",
       "    'assignable': False}},\n",
       "  {'kind': 'youtube#videoCategory',\n",
       "   'etag': '\"ld9biNPKjAjgjV7EZ4EKeEGrhao/pUZOAC_s9sfiwar639qr_wAB-aI\"',\n",
       "   'id': '34',\n",
       "   'snippet': {'channelId': 'UCBR8-60-B28hp2BmDPdntcQ',\n",
       "    'title': 'Comedy',\n",
       "    'assignable': False}},\n",
       "  {'kind': 'youtube#videoCategory',\n",
       "   'etag': '\"ld9biNPKjAjgjV7EZ4EKeEGrhao/Xb5JLhtyNRN3AQq021Ds-OV50Jk\"',\n",
       "   'id': '35',\n",
       "   'snippet': {'channelId': 'UCBR8-60-B28hp2BmDPdntcQ',\n",
       "    'title': 'Documentary',\n",
       "    'assignable': False}},\n",
       "  {'kind': 'youtube#videoCategory',\n",
       "   'etag': '\"ld9biNPKjAjgjV7EZ4EKeEGrhao/u8WXzF4HIhtEi805__sqjuA4lEk\"',\n",
       "   'id': '36',\n",
       "   'snippet': {'channelId': 'UCBR8-60-B28hp2BmDPdntcQ',\n",
       "    'title': 'Drama',\n",
       "    'assignable': False}},\n",
       "  {'kind': 'youtube#videoCategory',\n",
       "   'etag': '\"ld9biNPKjAjgjV7EZ4EKeEGrhao/D04PP4Gr7wc4IV_O9G66Z4A8KWQ\"',\n",
       "   'id': '37',\n",
       "   'snippet': {'channelId': 'UCBR8-60-B28hp2BmDPdntcQ',\n",
       "    'title': 'Family',\n",
       "    'assignable': False}},\n",
       "  {'kind': 'youtube#videoCategory',\n",
       "   'etag': '\"ld9biNPKjAjgjV7EZ4EKeEGrhao/i5-_AceGXQCEEMWU0V8CcQm_vLQ\"',\n",
       "   'id': '38',\n",
       "   'snippet': {'channelId': 'UCBR8-60-B28hp2BmDPdntcQ',\n",
       "    'title': 'Foreign',\n",
       "    'assignable': False}},\n",
       "  {'kind': 'youtube#videoCategory',\n",
       "   'etag': '\"ld9biNPKjAjgjV7EZ4EKeEGrhao/rtlxd0zOixA9QHdIZB26-St5qgQ\"',\n",
       "   'id': '39',\n",
       "   'snippet': {'channelId': 'UCBR8-60-B28hp2BmDPdntcQ',\n",
       "    'title': 'Horror',\n",
       "    'assignable': False}},\n",
       "  {'kind': 'youtube#videoCategory',\n",
       "   'etag': '\"ld9biNPKjAjgjV7EZ4EKeEGrhao/N1TrDFLRppxZgBowCJfJCvh0Dpg\"',\n",
       "   'id': '40',\n",
       "   'snippet': {'channelId': 'UCBR8-60-B28hp2BmDPdntcQ',\n",
       "    'title': 'Sci-Fi/Fantasy',\n",
       "    'assignable': False}},\n",
       "  {'kind': 'youtube#videoCategory',\n",
       "   'etag': '\"ld9biNPKjAjgjV7EZ4EKeEGrhao/7UMGi6zRySqXopr_rv4sZq6Za2E\"',\n",
       "   'id': '41',\n",
       "   'snippet': {'channelId': 'UCBR8-60-B28hp2BmDPdntcQ',\n",
       "    'title': 'Thriller',\n",
       "    'assignable': False}},\n",
       "  {'kind': 'youtube#videoCategory',\n",
       "   'etag': '\"ld9biNPKjAjgjV7EZ4EKeEGrhao/RScXhi324h8usyIetreAVb-uKeM\"',\n",
       "   'id': '42',\n",
       "   'snippet': {'channelId': 'UCBR8-60-B28hp2BmDPdntcQ',\n",
       "    'title': 'Shorts',\n",
       "    'assignable': False}},\n",
       "  {'kind': 'youtube#videoCategory',\n",
       "   'etag': '\"ld9biNPKjAjgjV7EZ4EKeEGrhao/0n9MJVCDLpA8q7aiGVrFsuFsd0A\"',\n",
       "   'id': '43',\n",
       "   'snippet': {'channelId': 'UCBR8-60-B28hp2BmDPdntcQ',\n",
       "    'title': 'Shows',\n",
       "    'assignable': False}},\n",
       "  {'kind': 'youtube#videoCategory',\n",
       "   'etag': '\"ld9biNPKjAjgjV7EZ4EKeEGrhao/x5NxSf5fz8hn4loSN4rvhwzD_pY\"',\n",
       "   'id': '44',\n",
       "   'snippet': {'channelId': 'UCBR8-60-B28hp2BmDPdntcQ',\n",
       "    'title': 'Trailers',\n",
       "    'assignable': False}}]}"
      ]
     },
     "execution_count": 32,
     "metadata": {},
     "output_type": "execute_result"
    }
   ],
   "source": [
    "jsCAcategory"
   ]
  },
  {
   "cell_type": "markdown",
   "metadata": {},
   "source": [
    "Berdasarkan pengecekan tersebut, dataset kategori memiliki susunan sebagai berikut :\n",
    " - kind<br>\n",
    " - etag<br>\n",
    " - id<br>\n",
    " - items<br>\n",
    " - snippet<br>\n",
    " - title<br>\n",
    " - assignable<br>\n",
    "\n",
    "Kemudian ditemukan bahwa items adalah suatu list yang berisi kind, etag, id, snippet, title dan assignable."
   ]
  },
  {
   "cell_type": "markdown",
   "metadata": {},
   "source": [
    "### Mentransformasi data kategori JSON menjadi dataframe\n",
    "Untuk keperluan analisis, yang dibutuhkan di sini adalah id kategori dan title / nama kategori. Maka 2 hal tersebut yang akan diekstrak kemudian dimasukkan ke dalam dataframe."
   ]
  },
  {
   "cell_type": "markdown",
   "metadata": {},
   "source": [
    "#### Normalisasi list items di data kategori\n",
    "Karena yang dibutuhkan adalah id dan title di dalam list items, maka items harus dinormalisasi dengan menggunakan sintaks <b>json_normalize()</b>.\n",
    "Dengan json_normalize, Pandas dapat mengambil objek JSON yang bersarang dan mengubahnya menjadi dataframe."
   ]
  },
  {
   "cell_type": "code",
   "execution_count": 33,
   "metadata": {},
   "outputs": [],
   "source": [
    "jsCAcatitem = json_normalize(jsCAcategory['items'])\n",
    "jsGBcatitem = json_normalize(jsGBcategory['items'])\n",
    "jsUScatitem = json_normalize(jsUScategory['items'])"
   ]
  },
  {
   "cell_type": "markdown",
   "metadata": {},
   "source": [
    "Mari ambil contoh items yang telah dinormalisasi dari data kategori region Canada"
   ]
  },
  {
   "cell_type": "code",
   "execution_count": 34,
   "metadata": {},
   "outputs": [
    {
     "data": {
      "text/html": [
       "<div>\n",
       "<style scoped>\n",
       "    .dataframe tbody tr th:only-of-type {\n",
       "        vertical-align: middle;\n",
       "    }\n",
       "\n",
       "    .dataframe tbody tr th {\n",
       "        vertical-align: top;\n",
       "    }\n",
       "\n",
       "    .dataframe thead th {\n",
       "        text-align: right;\n",
       "    }\n",
       "</style>\n",
       "<table border=\"1\" class=\"dataframe\">\n",
       "  <thead>\n",
       "    <tr style=\"text-align: right;\">\n",
       "      <th></th>\n",
       "      <th>kind</th>\n",
       "      <th>etag</th>\n",
       "      <th>id</th>\n",
       "      <th>snippet.channelId</th>\n",
       "      <th>snippet.title</th>\n",
       "      <th>snippet.assignable</th>\n",
       "    </tr>\n",
       "  </thead>\n",
       "  <tbody>\n",
       "    <tr>\n",
       "      <td>0</td>\n",
       "      <td>youtube#videoCategory</td>\n",
       "      <td>\"ld9biNPKjAjgjV7EZ4EKeEGrhao/Xy1mB4_yLrHy_BmKm...</td>\n",
       "      <td>1</td>\n",
       "      <td>UCBR8-60-B28hp2BmDPdntcQ</td>\n",
       "      <td>Film &amp; Animation</td>\n",
       "      <td>True</td>\n",
       "    </tr>\n",
       "    <tr>\n",
       "      <td>1</td>\n",
       "      <td>youtube#videoCategory</td>\n",
       "      <td>\"ld9biNPKjAjgjV7EZ4EKeEGrhao/UZ1oLIIz2dxIhO45Z...</td>\n",
       "      <td>2</td>\n",
       "      <td>UCBR8-60-B28hp2BmDPdntcQ</td>\n",
       "      <td>Autos &amp; Vehicles</td>\n",
       "      <td>True</td>\n",
       "    </tr>\n",
       "    <tr>\n",
       "      <td>2</td>\n",
       "      <td>youtube#videoCategory</td>\n",
       "      <td>\"ld9biNPKjAjgjV7EZ4EKeEGrhao/nqRIq97-xe5XRZTxb...</td>\n",
       "      <td>10</td>\n",
       "      <td>UCBR8-60-B28hp2BmDPdntcQ</td>\n",
       "      <td>Music</td>\n",
       "      <td>True</td>\n",
       "    </tr>\n",
       "    <tr>\n",
       "      <td>3</td>\n",
       "      <td>youtube#videoCategory</td>\n",
       "      <td>\"ld9biNPKjAjgjV7EZ4EKeEGrhao/HwXKamM1Q20q9BN-o...</td>\n",
       "      <td>15</td>\n",
       "      <td>UCBR8-60-B28hp2BmDPdntcQ</td>\n",
       "      <td>Pets &amp; Animals</td>\n",
       "      <td>True</td>\n",
       "    </tr>\n",
       "    <tr>\n",
       "      <td>4</td>\n",
       "      <td>youtube#videoCategory</td>\n",
       "      <td>\"ld9biNPKjAjgjV7EZ4EKeEGrhao/9GQMSRjrZdHeb1OEM...</td>\n",
       "      <td>17</td>\n",
       "      <td>UCBR8-60-B28hp2BmDPdntcQ</td>\n",
       "      <td>Sports</td>\n",
       "      <td>True</td>\n",
       "    </tr>\n",
       "  </tbody>\n",
       "</table>\n",
       "</div>"
      ],
      "text/plain": [
       "                    kind                                               etag  \\\n",
       "0  youtube#videoCategory  \"ld9biNPKjAjgjV7EZ4EKeEGrhao/Xy1mB4_yLrHy_BmKm...   \n",
       "1  youtube#videoCategory  \"ld9biNPKjAjgjV7EZ4EKeEGrhao/UZ1oLIIz2dxIhO45Z...   \n",
       "2  youtube#videoCategory  \"ld9biNPKjAjgjV7EZ4EKeEGrhao/nqRIq97-xe5XRZTxb...   \n",
       "3  youtube#videoCategory  \"ld9biNPKjAjgjV7EZ4EKeEGrhao/HwXKamM1Q20q9BN-o...   \n",
       "4  youtube#videoCategory  \"ld9biNPKjAjgjV7EZ4EKeEGrhao/9GQMSRjrZdHeb1OEM...   \n",
       "\n",
       "   id         snippet.channelId     snippet.title  snippet.assignable  \n",
       "0   1  UCBR8-60-B28hp2BmDPdntcQ  Film & Animation                True  \n",
       "1   2  UCBR8-60-B28hp2BmDPdntcQ  Autos & Vehicles                True  \n",
       "2  10  UCBR8-60-B28hp2BmDPdntcQ             Music                True  \n",
       "3  15  UCBR8-60-B28hp2BmDPdntcQ    Pets & Animals                True  \n",
       "4  17  UCBR8-60-B28hp2BmDPdntcQ            Sports                True  "
      ]
     },
     "execution_count": 34,
     "metadata": {},
     "output_type": "execute_result"
    }
   ],
   "source": [
    "jsCAcatitem.head()"
   ]
  },
  {
   "cell_type": "markdown",
   "metadata": {},
   "source": [
    "#### Memasukkan isi dari items ke dalam dataframe\n",
    "items dari semua dataset kategori dari ke-3 region dimasukkan menjadi dataframe agar mudah untuk dikelola"
   ]
  },
  {
   "cell_type": "code",
   "execution_count": 35,
   "metadata": {},
   "outputs": [],
   "source": [
    "dfCAcategory = jsCAcatitem\n",
    "dfGBcategory = jsGBcatitem\n",
    "dfUScategory = jsUScatitem"
   ]
  },
  {
   "cell_type": "markdown",
   "metadata": {},
   "source": [
    "<b>------------------------------------------------------------------------------------------------------------------------------------------------------------------------------------------------------------------</b>"
   ]
  },
  {
   "cell_type": "markdown",
   "metadata": {},
   "source": [
    "### Mentransformasi Data kategori Menjadi ID dan Nama Kategori Saja\n",
    "ID dan nama category/snippet title dibutuhkan untuk dimerge dengan dataframe video. Maka harus dilakukan drop pada kolom yang tidak diperlukan pada dataframe."
   ]
  },
  {
   "cell_type": "code",
   "execution_count": 36,
   "metadata": {},
   "outputs": [],
   "source": [
    "dfCAcategory1 = dfCAcategory.drop(['etag','kind','snippet.assignable','snippet.channelId'], axis=1)\n",
    "dfGBcategory1 = dfGBcategory.drop(['etag','kind','snippet.assignable','snippet.channelId'], axis=1)\n",
    "dfUScategory1 = dfUScategory.drop(['etag','kind','snippet.assignable','snippet.channelId'], axis=1)"
   ]
  },
  {
   "cell_type": "code",
   "execution_count": 37,
   "metadata": {},
   "outputs": [
    {
     "data": {
      "text/html": [
       "<div>\n",
       "<style scoped>\n",
       "    .dataframe tbody tr th:only-of-type {\n",
       "        vertical-align: middle;\n",
       "    }\n",
       "\n",
       "    .dataframe tbody tr th {\n",
       "        vertical-align: top;\n",
       "    }\n",
       "\n",
       "    .dataframe thead th {\n",
       "        text-align: right;\n",
       "    }\n",
       "</style>\n",
       "<table border=\"1\" class=\"dataframe\">\n",
       "  <thead>\n",
       "    <tr style=\"text-align: right;\">\n",
       "      <th></th>\n",
       "      <th>id</th>\n",
       "      <th>snippet.title</th>\n",
       "    </tr>\n",
       "  </thead>\n",
       "  <tbody>\n",
       "    <tr>\n",
       "      <td>0</td>\n",
       "      <td>1</td>\n",
       "      <td>Film &amp; Animation</td>\n",
       "    </tr>\n",
       "    <tr>\n",
       "      <td>1</td>\n",
       "      <td>2</td>\n",
       "      <td>Autos &amp; Vehicles</td>\n",
       "    </tr>\n",
       "    <tr>\n",
       "      <td>2</td>\n",
       "      <td>10</td>\n",
       "      <td>Music</td>\n",
       "    </tr>\n",
       "    <tr>\n",
       "      <td>3</td>\n",
       "      <td>15</td>\n",
       "      <td>Pets &amp; Animals</td>\n",
       "    </tr>\n",
       "    <tr>\n",
       "      <td>4</td>\n",
       "      <td>17</td>\n",
       "      <td>Sports</td>\n",
       "    </tr>\n",
       "  </tbody>\n",
       "</table>\n",
       "</div>"
      ],
      "text/plain": [
       "   id     snippet.title\n",
       "0   1  Film & Animation\n",
       "1   2  Autos & Vehicles\n",
       "2  10             Music\n",
       "3  15    Pets & Animals\n",
       "4  17            Sports"
      ]
     },
     "execution_count": 37,
     "metadata": {},
     "output_type": "execute_result"
    }
   ],
   "source": [
    "dfCAcategory1.head()"
   ]
  },
  {
   "cell_type": "markdown",
   "metadata": {},
   "source": [
    "kolom snippet.title direname menjadi title agar tidak membingungkan."
   ]
  },
  {
   "cell_type": "code",
   "execution_count": 38,
   "metadata": {},
   "outputs": [],
   "source": [
    "dfCAcategory1.rename(columns={'snippet.title': 'category'}, inplace=True)\n",
    "dfGBcategory1.rename(columns={'snippet.title': 'category'}, inplace=True)\n",
    "dfUScategory1.rename(columns={'snippet.title': 'category'}, inplace=True)"
   ]
  },
  {
   "cell_type": "markdown",
   "metadata": {},
   "source": [
    "### Data Kategori Video Region Canada\n",
    "Berikut adalah data kategori video region Canada setelah diubah menjadi dataframe :"
   ]
  },
  {
   "cell_type": "code",
   "execution_count": 39,
   "metadata": {},
   "outputs": [
    {
     "data": {
      "text/html": [
       "<div>\n",
       "<style scoped>\n",
       "    .dataframe tbody tr th:only-of-type {\n",
       "        vertical-align: middle;\n",
       "    }\n",
       "\n",
       "    .dataframe tbody tr th {\n",
       "        vertical-align: top;\n",
       "    }\n",
       "\n",
       "    .dataframe thead th {\n",
       "        text-align: right;\n",
       "    }\n",
       "</style>\n",
       "<table border=\"1\" class=\"dataframe\">\n",
       "  <thead>\n",
       "    <tr style=\"text-align: right;\">\n",
       "      <th></th>\n",
       "      <th>id</th>\n",
       "      <th>category</th>\n",
       "    </tr>\n",
       "  </thead>\n",
       "  <tbody>\n",
       "    <tr>\n",
       "      <td>0</td>\n",
       "      <td>1</td>\n",
       "      <td>Film &amp; Animation</td>\n",
       "    </tr>\n",
       "    <tr>\n",
       "      <td>1</td>\n",
       "      <td>2</td>\n",
       "      <td>Autos &amp; Vehicles</td>\n",
       "    </tr>\n",
       "    <tr>\n",
       "      <td>2</td>\n",
       "      <td>10</td>\n",
       "      <td>Music</td>\n",
       "    </tr>\n",
       "    <tr>\n",
       "      <td>3</td>\n",
       "      <td>15</td>\n",
       "      <td>Pets &amp; Animals</td>\n",
       "    </tr>\n",
       "    <tr>\n",
       "      <td>4</td>\n",
       "      <td>17</td>\n",
       "      <td>Sports</td>\n",
       "    </tr>\n",
       "    <tr>\n",
       "      <td>5</td>\n",
       "      <td>18</td>\n",
       "      <td>Short Movies</td>\n",
       "    </tr>\n",
       "    <tr>\n",
       "      <td>6</td>\n",
       "      <td>19</td>\n",
       "      <td>Travel &amp; Events</td>\n",
       "    </tr>\n",
       "    <tr>\n",
       "      <td>7</td>\n",
       "      <td>20</td>\n",
       "      <td>Gaming</td>\n",
       "    </tr>\n",
       "    <tr>\n",
       "      <td>8</td>\n",
       "      <td>21</td>\n",
       "      <td>Videoblogging</td>\n",
       "    </tr>\n",
       "    <tr>\n",
       "      <td>9</td>\n",
       "      <td>22</td>\n",
       "      <td>People &amp; Blogs</td>\n",
       "    </tr>\n",
       "    <tr>\n",
       "      <td>10</td>\n",
       "      <td>23</td>\n",
       "      <td>Comedy</td>\n",
       "    </tr>\n",
       "    <tr>\n",
       "      <td>11</td>\n",
       "      <td>24</td>\n",
       "      <td>Entertainment</td>\n",
       "    </tr>\n",
       "    <tr>\n",
       "      <td>12</td>\n",
       "      <td>25</td>\n",
       "      <td>News &amp; Politics</td>\n",
       "    </tr>\n",
       "    <tr>\n",
       "      <td>13</td>\n",
       "      <td>26</td>\n",
       "      <td>Howto &amp; Style</td>\n",
       "    </tr>\n",
       "    <tr>\n",
       "      <td>14</td>\n",
       "      <td>27</td>\n",
       "      <td>Education</td>\n",
       "    </tr>\n",
       "    <tr>\n",
       "      <td>15</td>\n",
       "      <td>28</td>\n",
       "      <td>Science &amp; Technology</td>\n",
       "    </tr>\n",
       "    <tr>\n",
       "      <td>16</td>\n",
       "      <td>30</td>\n",
       "      <td>Movies</td>\n",
       "    </tr>\n",
       "    <tr>\n",
       "      <td>17</td>\n",
       "      <td>31</td>\n",
       "      <td>Anime/Animation</td>\n",
       "    </tr>\n",
       "    <tr>\n",
       "      <td>18</td>\n",
       "      <td>32</td>\n",
       "      <td>Action/Adventure</td>\n",
       "    </tr>\n",
       "    <tr>\n",
       "      <td>19</td>\n",
       "      <td>33</td>\n",
       "      <td>Classics</td>\n",
       "    </tr>\n",
       "    <tr>\n",
       "      <td>20</td>\n",
       "      <td>34</td>\n",
       "      <td>Comedy</td>\n",
       "    </tr>\n",
       "    <tr>\n",
       "      <td>21</td>\n",
       "      <td>35</td>\n",
       "      <td>Documentary</td>\n",
       "    </tr>\n",
       "    <tr>\n",
       "      <td>22</td>\n",
       "      <td>36</td>\n",
       "      <td>Drama</td>\n",
       "    </tr>\n",
       "    <tr>\n",
       "      <td>23</td>\n",
       "      <td>37</td>\n",
       "      <td>Family</td>\n",
       "    </tr>\n",
       "    <tr>\n",
       "      <td>24</td>\n",
       "      <td>38</td>\n",
       "      <td>Foreign</td>\n",
       "    </tr>\n",
       "    <tr>\n",
       "      <td>25</td>\n",
       "      <td>39</td>\n",
       "      <td>Horror</td>\n",
       "    </tr>\n",
       "    <tr>\n",
       "      <td>26</td>\n",
       "      <td>40</td>\n",
       "      <td>Sci-Fi/Fantasy</td>\n",
       "    </tr>\n",
       "    <tr>\n",
       "      <td>27</td>\n",
       "      <td>41</td>\n",
       "      <td>Thriller</td>\n",
       "    </tr>\n",
       "    <tr>\n",
       "      <td>28</td>\n",
       "      <td>42</td>\n",
       "      <td>Shorts</td>\n",
       "    </tr>\n",
       "    <tr>\n",
       "      <td>29</td>\n",
       "      <td>43</td>\n",
       "      <td>Shows</td>\n",
       "    </tr>\n",
       "    <tr>\n",
       "      <td>30</td>\n",
       "      <td>44</td>\n",
       "      <td>Trailers</td>\n",
       "    </tr>\n",
       "  </tbody>\n",
       "</table>\n",
       "</div>"
      ],
      "text/plain": [
       "    id              category\n",
       "0    1      Film & Animation\n",
       "1    2      Autos & Vehicles\n",
       "2   10                 Music\n",
       "3   15        Pets & Animals\n",
       "4   17                Sports\n",
       "5   18          Short Movies\n",
       "6   19       Travel & Events\n",
       "7   20                Gaming\n",
       "8   21         Videoblogging\n",
       "9   22        People & Blogs\n",
       "10  23                Comedy\n",
       "11  24         Entertainment\n",
       "12  25       News & Politics\n",
       "13  26         Howto & Style\n",
       "14  27             Education\n",
       "15  28  Science & Technology\n",
       "16  30                Movies\n",
       "17  31       Anime/Animation\n",
       "18  32      Action/Adventure\n",
       "19  33              Classics\n",
       "20  34                Comedy\n",
       "21  35           Documentary\n",
       "22  36                 Drama\n",
       "23  37                Family\n",
       "24  38               Foreign\n",
       "25  39                Horror\n",
       "26  40        Sci-Fi/Fantasy\n",
       "27  41              Thriller\n",
       "28  42                Shorts\n",
       "29  43                 Shows\n",
       "30  44              Trailers"
      ]
     },
     "execution_count": 39,
     "metadata": {},
     "output_type": "execute_result"
    }
   ],
   "source": [
    "dfCAcategory1"
   ]
  },
  {
   "cell_type": "code",
   "execution_count": 40,
   "metadata": {},
   "outputs": [
    {
     "data": {
      "text/plain": [
       "(31, 2)"
      ]
     },
     "execution_count": 40,
     "metadata": {},
     "output_type": "execute_result"
    }
   ],
   "source": [
    "dfCAcategory1.shape"
   ]
  },
  {
   "cell_type": "markdown",
   "metadata": {},
   "source": [
    "Berdasarkan pengecekan data kategori region Canada memiliki dimensi <b>31 baris x 2 kolom</b>."
   ]
  },
  {
   "cell_type": "markdown",
   "metadata": {},
   "source": [
    "### Data Kategori Video Region Great Britain\n",
    "Berikut adalah data kategori video region Great Britain setelah diubah menjadi dataframe :"
   ]
  },
  {
   "cell_type": "code",
   "execution_count": 41,
   "metadata": {},
   "outputs": [
    {
     "data": {
      "text/html": [
       "<div>\n",
       "<style scoped>\n",
       "    .dataframe tbody tr th:only-of-type {\n",
       "        vertical-align: middle;\n",
       "    }\n",
       "\n",
       "    .dataframe tbody tr th {\n",
       "        vertical-align: top;\n",
       "    }\n",
       "\n",
       "    .dataframe thead th {\n",
       "        text-align: right;\n",
       "    }\n",
       "</style>\n",
       "<table border=\"1\" class=\"dataframe\">\n",
       "  <thead>\n",
       "    <tr style=\"text-align: right;\">\n",
       "      <th></th>\n",
       "      <th>id</th>\n",
       "      <th>category</th>\n",
       "    </tr>\n",
       "  </thead>\n",
       "  <tbody>\n",
       "    <tr>\n",
       "      <td>0</td>\n",
       "      <td>1</td>\n",
       "      <td>Film &amp; Animation</td>\n",
       "    </tr>\n",
       "    <tr>\n",
       "      <td>1</td>\n",
       "      <td>2</td>\n",
       "      <td>Autos &amp; Vehicles</td>\n",
       "    </tr>\n",
       "    <tr>\n",
       "      <td>2</td>\n",
       "      <td>10</td>\n",
       "      <td>Music</td>\n",
       "    </tr>\n",
       "    <tr>\n",
       "      <td>3</td>\n",
       "      <td>15</td>\n",
       "      <td>Pets &amp; Animals</td>\n",
       "    </tr>\n",
       "    <tr>\n",
       "      <td>4</td>\n",
       "      <td>17</td>\n",
       "      <td>Sports</td>\n",
       "    </tr>\n",
       "    <tr>\n",
       "      <td>5</td>\n",
       "      <td>18</td>\n",
       "      <td>Short Movies</td>\n",
       "    </tr>\n",
       "    <tr>\n",
       "      <td>6</td>\n",
       "      <td>19</td>\n",
       "      <td>Travel &amp; Events</td>\n",
       "    </tr>\n",
       "    <tr>\n",
       "      <td>7</td>\n",
       "      <td>20</td>\n",
       "      <td>Gaming</td>\n",
       "    </tr>\n",
       "    <tr>\n",
       "      <td>8</td>\n",
       "      <td>21</td>\n",
       "      <td>Videoblogging</td>\n",
       "    </tr>\n",
       "    <tr>\n",
       "      <td>9</td>\n",
       "      <td>22</td>\n",
       "      <td>People &amp; Blogs</td>\n",
       "    </tr>\n",
       "    <tr>\n",
       "      <td>10</td>\n",
       "      <td>23</td>\n",
       "      <td>Comedy</td>\n",
       "    </tr>\n",
       "    <tr>\n",
       "      <td>11</td>\n",
       "      <td>24</td>\n",
       "      <td>Entertainment</td>\n",
       "    </tr>\n",
       "    <tr>\n",
       "      <td>12</td>\n",
       "      <td>25</td>\n",
       "      <td>News &amp; Politics</td>\n",
       "    </tr>\n",
       "    <tr>\n",
       "      <td>13</td>\n",
       "      <td>26</td>\n",
       "      <td>Howto &amp; Style</td>\n",
       "    </tr>\n",
       "    <tr>\n",
       "      <td>14</td>\n",
       "      <td>27</td>\n",
       "      <td>Education</td>\n",
       "    </tr>\n",
       "    <tr>\n",
       "      <td>15</td>\n",
       "      <td>28</td>\n",
       "      <td>Science &amp; Technology</td>\n",
       "    </tr>\n",
       "    <tr>\n",
       "      <td>16</td>\n",
       "      <td>30</td>\n",
       "      <td>Movies</td>\n",
       "    </tr>\n",
       "    <tr>\n",
       "      <td>17</td>\n",
       "      <td>31</td>\n",
       "      <td>Anime/Animation</td>\n",
       "    </tr>\n",
       "    <tr>\n",
       "      <td>18</td>\n",
       "      <td>32</td>\n",
       "      <td>Action/Adventure</td>\n",
       "    </tr>\n",
       "    <tr>\n",
       "      <td>19</td>\n",
       "      <td>33</td>\n",
       "      <td>Classics</td>\n",
       "    </tr>\n",
       "    <tr>\n",
       "      <td>20</td>\n",
       "      <td>34</td>\n",
       "      <td>Comedy</td>\n",
       "    </tr>\n",
       "    <tr>\n",
       "      <td>21</td>\n",
       "      <td>35</td>\n",
       "      <td>Documentary</td>\n",
       "    </tr>\n",
       "    <tr>\n",
       "      <td>22</td>\n",
       "      <td>36</td>\n",
       "      <td>Drama</td>\n",
       "    </tr>\n",
       "    <tr>\n",
       "      <td>23</td>\n",
       "      <td>37</td>\n",
       "      <td>Family</td>\n",
       "    </tr>\n",
       "    <tr>\n",
       "      <td>24</td>\n",
       "      <td>38</td>\n",
       "      <td>Foreign</td>\n",
       "    </tr>\n",
       "    <tr>\n",
       "      <td>25</td>\n",
       "      <td>39</td>\n",
       "      <td>Horror</td>\n",
       "    </tr>\n",
       "    <tr>\n",
       "      <td>26</td>\n",
       "      <td>40</td>\n",
       "      <td>Sci-Fi/Fantasy</td>\n",
       "    </tr>\n",
       "    <tr>\n",
       "      <td>27</td>\n",
       "      <td>41</td>\n",
       "      <td>Thriller</td>\n",
       "    </tr>\n",
       "    <tr>\n",
       "      <td>28</td>\n",
       "      <td>42</td>\n",
       "      <td>Shorts</td>\n",
       "    </tr>\n",
       "    <tr>\n",
       "      <td>29</td>\n",
       "      <td>43</td>\n",
       "      <td>Shows</td>\n",
       "    </tr>\n",
       "    <tr>\n",
       "      <td>30</td>\n",
       "      <td>44</td>\n",
       "      <td>Trailers</td>\n",
       "    </tr>\n",
       "  </tbody>\n",
       "</table>\n",
       "</div>"
      ],
      "text/plain": [
       "    id              category\n",
       "0    1      Film & Animation\n",
       "1    2      Autos & Vehicles\n",
       "2   10                 Music\n",
       "3   15        Pets & Animals\n",
       "4   17                Sports\n",
       "5   18          Short Movies\n",
       "6   19       Travel & Events\n",
       "7   20                Gaming\n",
       "8   21         Videoblogging\n",
       "9   22        People & Blogs\n",
       "10  23                Comedy\n",
       "11  24         Entertainment\n",
       "12  25       News & Politics\n",
       "13  26         Howto & Style\n",
       "14  27             Education\n",
       "15  28  Science & Technology\n",
       "16  30                Movies\n",
       "17  31       Anime/Animation\n",
       "18  32      Action/Adventure\n",
       "19  33              Classics\n",
       "20  34                Comedy\n",
       "21  35           Documentary\n",
       "22  36                 Drama\n",
       "23  37                Family\n",
       "24  38               Foreign\n",
       "25  39                Horror\n",
       "26  40        Sci-Fi/Fantasy\n",
       "27  41              Thriller\n",
       "28  42                Shorts\n",
       "29  43                 Shows\n",
       "30  44              Trailers"
      ]
     },
     "execution_count": 41,
     "metadata": {},
     "output_type": "execute_result"
    }
   ],
   "source": [
    "dfGBcategory1"
   ]
  },
  {
   "cell_type": "code",
   "execution_count": 42,
   "metadata": {},
   "outputs": [
    {
     "data": {
      "text/plain": [
       "(31, 2)"
      ]
     },
     "execution_count": 42,
     "metadata": {},
     "output_type": "execute_result"
    }
   ],
   "source": [
    "dfGBcategory1.shape"
   ]
  },
  {
   "cell_type": "markdown",
   "metadata": {},
   "source": [
    "Berdasarkan pengecekan data kategori region Great Britain memiliki dimensi <b>31 baris x 2 kolom</b>."
   ]
  },
  {
   "cell_type": "markdown",
   "metadata": {},
   "source": [
    "### Data Kategori Video Region United States\n",
    "Berikut adalah data kategori video region Great Britain setelah diubah menjadi dataframe :"
   ]
  },
  {
   "cell_type": "code",
   "execution_count": 43,
   "metadata": {},
   "outputs": [
    {
     "data": {
      "text/html": [
       "<div>\n",
       "<style scoped>\n",
       "    .dataframe tbody tr th:only-of-type {\n",
       "        vertical-align: middle;\n",
       "    }\n",
       "\n",
       "    .dataframe tbody tr th {\n",
       "        vertical-align: top;\n",
       "    }\n",
       "\n",
       "    .dataframe thead th {\n",
       "        text-align: right;\n",
       "    }\n",
       "</style>\n",
       "<table border=\"1\" class=\"dataframe\">\n",
       "  <thead>\n",
       "    <tr style=\"text-align: right;\">\n",
       "      <th></th>\n",
       "      <th>id</th>\n",
       "      <th>category</th>\n",
       "    </tr>\n",
       "  </thead>\n",
       "  <tbody>\n",
       "    <tr>\n",
       "      <td>0</td>\n",
       "      <td>1</td>\n",
       "      <td>Film &amp; Animation</td>\n",
       "    </tr>\n",
       "    <tr>\n",
       "      <td>1</td>\n",
       "      <td>2</td>\n",
       "      <td>Autos &amp; Vehicles</td>\n",
       "    </tr>\n",
       "    <tr>\n",
       "      <td>2</td>\n",
       "      <td>10</td>\n",
       "      <td>Music</td>\n",
       "    </tr>\n",
       "    <tr>\n",
       "      <td>3</td>\n",
       "      <td>15</td>\n",
       "      <td>Pets &amp; Animals</td>\n",
       "    </tr>\n",
       "    <tr>\n",
       "      <td>4</td>\n",
       "      <td>17</td>\n",
       "      <td>Sports</td>\n",
       "    </tr>\n",
       "    <tr>\n",
       "      <td>5</td>\n",
       "      <td>18</td>\n",
       "      <td>Short Movies</td>\n",
       "    </tr>\n",
       "    <tr>\n",
       "      <td>6</td>\n",
       "      <td>19</td>\n",
       "      <td>Travel &amp; Events</td>\n",
       "    </tr>\n",
       "    <tr>\n",
       "      <td>7</td>\n",
       "      <td>20</td>\n",
       "      <td>Gaming</td>\n",
       "    </tr>\n",
       "    <tr>\n",
       "      <td>8</td>\n",
       "      <td>21</td>\n",
       "      <td>Videoblogging</td>\n",
       "    </tr>\n",
       "    <tr>\n",
       "      <td>9</td>\n",
       "      <td>22</td>\n",
       "      <td>People &amp; Blogs</td>\n",
       "    </tr>\n",
       "    <tr>\n",
       "      <td>10</td>\n",
       "      <td>23</td>\n",
       "      <td>Comedy</td>\n",
       "    </tr>\n",
       "    <tr>\n",
       "      <td>11</td>\n",
       "      <td>24</td>\n",
       "      <td>Entertainment</td>\n",
       "    </tr>\n",
       "    <tr>\n",
       "      <td>12</td>\n",
       "      <td>25</td>\n",
       "      <td>News &amp; Politics</td>\n",
       "    </tr>\n",
       "    <tr>\n",
       "      <td>13</td>\n",
       "      <td>26</td>\n",
       "      <td>Howto &amp; Style</td>\n",
       "    </tr>\n",
       "    <tr>\n",
       "      <td>14</td>\n",
       "      <td>27</td>\n",
       "      <td>Education</td>\n",
       "    </tr>\n",
       "    <tr>\n",
       "      <td>15</td>\n",
       "      <td>28</td>\n",
       "      <td>Science &amp; Technology</td>\n",
       "    </tr>\n",
       "    <tr>\n",
       "      <td>16</td>\n",
       "      <td>29</td>\n",
       "      <td>Nonprofits &amp; Activism</td>\n",
       "    </tr>\n",
       "    <tr>\n",
       "      <td>17</td>\n",
       "      <td>30</td>\n",
       "      <td>Movies</td>\n",
       "    </tr>\n",
       "    <tr>\n",
       "      <td>18</td>\n",
       "      <td>31</td>\n",
       "      <td>Anime/Animation</td>\n",
       "    </tr>\n",
       "    <tr>\n",
       "      <td>19</td>\n",
       "      <td>32</td>\n",
       "      <td>Action/Adventure</td>\n",
       "    </tr>\n",
       "    <tr>\n",
       "      <td>20</td>\n",
       "      <td>33</td>\n",
       "      <td>Classics</td>\n",
       "    </tr>\n",
       "    <tr>\n",
       "      <td>21</td>\n",
       "      <td>34</td>\n",
       "      <td>Comedy</td>\n",
       "    </tr>\n",
       "    <tr>\n",
       "      <td>22</td>\n",
       "      <td>35</td>\n",
       "      <td>Documentary</td>\n",
       "    </tr>\n",
       "    <tr>\n",
       "      <td>23</td>\n",
       "      <td>36</td>\n",
       "      <td>Drama</td>\n",
       "    </tr>\n",
       "    <tr>\n",
       "      <td>24</td>\n",
       "      <td>37</td>\n",
       "      <td>Family</td>\n",
       "    </tr>\n",
       "    <tr>\n",
       "      <td>25</td>\n",
       "      <td>38</td>\n",
       "      <td>Foreign</td>\n",
       "    </tr>\n",
       "    <tr>\n",
       "      <td>26</td>\n",
       "      <td>39</td>\n",
       "      <td>Horror</td>\n",
       "    </tr>\n",
       "    <tr>\n",
       "      <td>27</td>\n",
       "      <td>40</td>\n",
       "      <td>Sci-Fi/Fantasy</td>\n",
       "    </tr>\n",
       "    <tr>\n",
       "      <td>28</td>\n",
       "      <td>41</td>\n",
       "      <td>Thriller</td>\n",
       "    </tr>\n",
       "    <tr>\n",
       "      <td>29</td>\n",
       "      <td>42</td>\n",
       "      <td>Shorts</td>\n",
       "    </tr>\n",
       "    <tr>\n",
       "      <td>30</td>\n",
       "      <td>43</td>\n",
       "      <td>Shows</td>\n",
       "    </tr>\n",
       "    <tr>\n",
       "      <td>31</td>\n",
       "      <td>44</td>\n",
       "      <td>Trailers</td>\n",
       "    </tr>\n",
       "  </tbody>\n",
       "</table>\n",
       "</div>"
      ],
      "text/plain": [
       "    id               category\n",
       "0    1       Film & Animation\n",
       "1    2       Autos & Vehicles\n",
       "2   10                  Music\n",
       "3   15         Pets & Animals\n",
       "4   17                 Sports\n",
       "5   18           Short Movies\n",
       "6   19        Travel & Events\n",
       "7   20                 Gaming\n",
       "8   21          Videoblogging\n",
       "9   22         People & Blogs\n",
       "10  23                 Comedy\n",
       "11  24          Entertainment\n",
       "12  25        News & Politics\n",
       "13  26          Howto & Style\n",
       "14  27              Education\n",
       "15  28   Science & Technology\n",
       "16  29  Nonprofits & Activism\n",
       "17  30                 Movies\n",
       "18  31        Anime/Animation\n",
       "19  32       Action/Adventure\n",
       "20  33               Classics\n",
       "21  34                 Comedy\n",
       "22  35            Documentary\n",
       "23  36                  Drama\n",
       "24  37                 Family\n",
       "25  38                Foreign\n",
       "26  39                 Horror\n",
       "27  40         Sci-Fi/Fantasy\n",
       "28  41               Thriller\n",
       "29  42                 Shorts\n",
       "30  43                  Shows\n",
       "31  44               Trailers"
      ]
     },
     "execution_count": 43,
     "metadata": {},
     "output_type": "execute_result"
    }
   ],
   "source": [
    "dfUScategory1"
   ]
  },
  {
   "cell_type": "code",
   "execution_count": 44,
   "metadata": {},
   "outputs": [
    {
     "data": {
      "text/plain": [
       "(32, 2)"
      ]
     },
     "execution_count": 44,
     "metadata": {},
     "output_type": "execute_result"
    }
   ],
   "source": [
    "dfUScategory1.shape"
   ]
  },
  {
   "cell_type": "markdown",
   "metadata": {},
   "source": [
    "<b>------------------------------------------------------------------------------------------------------------------------------------------------------------------------------------------------------------------</b>"
   ]
  },
  {
   "cell_type": "markdown",
   "metadata": {},
   "source": [
    "Berdasarkan pengecekan data kategori region Canada memiliki dimensi <b>31 baris x 2 kolom</b>."
   ]
  },
  {
   "cell_type": "markdown",
   "metadata": {},
   "source": [
    "### Persamaan & Perbedaan Data Kategori dari 3 region\n",
    "Berdasarkan pengecekan dataframe kategori region Canada dan Great Britain adalah identik, sedangkan dataframe kategori dari United States berbeda dari keduanya."
   ]
  },
  {
   "cell_type": "code",
   "execution_count": 45,
   "metadata": {},
   "outputs": [
    {
     "data": {
      "text/plain": [
       "True"
      ]
     },
     "execution_count": 45,
     "metadata": {},
     "output_type": "execute_result"
    }
   ],
   "source": [
    "dfCAcategory1.equals(dfGBcategory1)"
   ]
  },
  {
   "cell_type": "code",
   "execution_count": 46,
   "metadata": {},
   "outputs": [
    {
     "data": {
      "text/plain": [
       "False"
      ]
     },
     "execution_count": 46,
     "metadata": {},
     "output_type": "execute_result"
    }
   ],
   "source": [
    "dfGBcategory1.equals(dfUScategory1)"
   ]
  },
  {
   "cell_type": "code",
   "execution_count": 47,
   "metadata": {},
   "outputs": [
    {
     "data": {
      "text/html": [
       "<div>\n",
       "<style scoped>\n",
       "    .dataframe tbody tr th:only-of-type {\n",
       "        vertical-align: middle;\n",
       "    }\n",
       "\n",
       "    .dataframe tbody tr th {\n",
       "        vertical-align: top;\n",
       "    }\n",
       "\n",
       "    .dataframe thead th {\n",
       "        text-align: right;\n",
       "    }\n",
       "</style>\n",
       "<table border=\"1\" class=\"dataframe\">\n",
       "  <thead>\n",
       "    <tr style=\"text-align: right;\">\n",
       "      <th></th>\n",
       "      <th>id</th>\n",
       "      <th>category</th>\n",
       "    </tr>\n",
       "  </thead>\n",
       "  <tbody>\n",
       "    <tr>\n",
       "      <td>16</td>\n",
       "      <td>29</td>\n",
       "      <td>Nonprofits &amp; Activism</td>\n",
       "    </tr>\n",
       "  </tbody>\n",
       "</table>\n",
       "</div>"
      ],
      "text/plain": [
       "    id               category\n",
       "16  29  Nonprofits & Activism"
      ]
     },
     "execution_count": 47,
     "metadata": {},
     "output_type": "execute_result"
    }
   ],
   "source": [
    "dfCek = pd.concat([dfCAcategory1,dfGBcategory1,dfUScategory1]).drop_duplicates(keep=False)\n",
    "dfCek"
   ]
  },
  {
   "cell_type": "markdown",
   "metadata": {},
   "source": [
    "Perbedaan yang didapatkan dengan melakukan concat adalah dataframe kategori United States memiliki satu title tambahan yaitu \"Nonprofits & Activism\" pada index ke-16.\n",
    "\n",
    "Maka dari itu diputuskan bahwa data kategori dari 3 region ini <b>di-merge menjadi 1 dataframe</b> saja dengan pd.merge(x,y) dengan keterangan sebagai berikut :\n",
    "- x = dataframe kategori US\n",
    "- y = dataframe kategori CA"
   ]
  },
  {
   "cell_type": "markdown",
   "metadata": {},
   "source": [
    "<b>------------------------------------------------------------------------------------------------------------------------------------------------------------------------------------------------------------------</b>"
   ]
  },
  {
   "cell_type": "markdown",
   "metadata": {},
   "source": [
    "### Merge Data Kategori"
   ]
  },
  {
   "cell_type": "code",
   "execution_count": 48,
   "metadata": {
    "scrolled": true
   },
   "outputs": [],
   "source": [
    "#merge\n",
    "dfCategory = pd.merge(dfCAcategory1,dfUScategory1, how=\"right\")"
   ]
  },
  {
   "cell_type": "markdown",
   "metadata": {},
   "source": [
    "Dataframe 3 region disatukan menjadi dataframe <b>dfCategory</b>."
   ]
  },
  {
   "cell_type": "markdown",
   "metadata": {},
   "source": [
    "<b>------------------------------------------------------------------------------------------------------------------------------------------------------------------------------------------------------------------</b>"
   ]
  },
  {
   "cell_type": "markdown",
   "metadata": {},
   "source": [
    "### Sortir Data Kategori"
   ]
  },
  {
   "cell_type": "markdown",
   "metadata": {},
   "source": [
    "Setelah dilakukan merge, didapatkan bahwa \"id\" tidak berurutan. Maka dari itu dilakukan sorting/sortir dengan .sort_values(). Tetapi agar dapat disortir, kolom \"id\" harus di-state terlebih dahulu bahwa data di kolom tersebut bertipe integer. Setelah, \"id\" disortir, perlu dilakukan pengindeksan ulang agar index menjadi berurutan kembali.\n",
    "\n",
    "Berikut adalah <b>Data Kategori Utama</b> :"
   ]
  },
  {
   "cell_type": "code",
   "execution_count": 49,
   "metadata": {},
   "outputs": [
    {
     "name": "stdout",
     "output_type": "stream",
     "text": [
      "\n",
      "DATA KATEGORI UTAMA\n"
     ]
    },
    {
     "data": {
      "text/html": [
       "<div>\n",
       "<style scoped>\n",
       "    .dataframe tbody tr th:only-of-type {\n",
       "        vertical-align: middle;\n",
       "    }\n",
       "\n",
       "    .dataframe tbody tr th {\n",
       "        vertical-align: top;\n",
       "    }\n",
       "\n",
       "    .dataframe thead th {\n",
       "        text-align: right;\n",
       "    }\n",
       "</style>\n",
       "<table border=\"1\" class=\"dataframe\">\n",
       "  <thead>\n",
       "    <tr style=\"text-align: right;\">\n",
       "      <th></th>\n",
       "      <th>id</th>\n",
       "      <th>category</th>\n",
       "    </tr>\n",
       "  </thead>\n",
       "  <tbody>\n",
       "    <tr>\n",
       "      <td>0</td>\n",
       "      <td>1</td>\n",
       "      <td>Film &amp; Animation</td>\n",
       "    </tr>\n",
       "    <tr>\n",
       "      <td>1</td>\n",
       "      <td>2</td>\n",
       "      <td>Autos &amp; Vehicles</td>\n",
       "    </tr>\n",
       "    <tr>\n",
       "      <td>2</td>\n",
       "      <td>10</td>\n",
       "      <td>Music</td>\n",
       "    </tr>\n",
       "    <tr>\n",
       "      <td>3</td>\n",
       "      <td>15</td>\n",
       "      <td>Pets &amp; Animals</td>\n",
       "    </tr>\n",
       "    <tr>\n",
       "      <td>4</td>\n",
       "      <td>17</td>\n",
       "      <td>Sports</td>\n",
       "    </tr>\n",
       "    <tr>\n",
       "      <td>5</td>\n",
       "      <td>18</td>\n",
       "      <td>Short Movies</td>\n",
       "    </tr>\n",
       "    <tr>\n",
       "      <td>6</td>\n",
       "      <td>19</td>\n",
       "      <td>Travel &amp; Events</td>\n",
       "    </tr>\n",
       "    <tr>\n",
       "      <td>7</td>\n",
       "      <td>20</td>\n",
       "      <td>Gaming</td>\n",
       "    </tr>\n",
       "    <tr>\n",
       "      <td>8</td>\n",
       "      <td>21</td>\n",
       "      <td>Videoblogging</td>\n",
       "    </tr>\n",
       "    <tr>\n",
       "      <td>9</td>\n",
       "      <td>22</td>\n",
       "      <td>People &amp; Blogs</td>\n",
       "    </tr>\n",
       "    <tr>\n",
       "      <td>10</td>\n",
       "      <td>23</td>\n",
       "      <td>Comedy</td>\n",
       "    </tr>\n",
       "    <tr>\n",
       "      <td>11</td>\n",
       "      <td>24</td>\n",
       "      <td>Entertainment</td>\n",
       "    </tr>\n",
       "    <tr>\n",
       "      <td>12</td>\n",
       "      <td>25</td>\n",
       "      <td>News &amp; Politics</td>\n",
       "    </tr>\n",
       "    <tr>\n",
       "      <td>13</td>\n",
       "      <td>26</td>\n",
       "      <td>Howto &amp; Style</td>\n",
       "    </tr>\n",
       "    <tr>\n",
       "      <td>14</td>\n",
       "      <td>27</td>\n",
       "      <td>Education</td>\n",
       "    </tr>\n",
       "    <tr>\n",
       "      <td>15</td>\n",
       "      <td>28</td>\n",
       "      <td>Science &amp; Technology</td>\n",
       "    </tr>\n",
       "    <tr>\n",
       "      <td>16</td>\n",
       "      <td>29</td>\n",
       "      <td>Nonprofits &amp; Activism</td>\n",
       "    </tr>\n",
       "    <tr>\n",
       "      <td>17</td>\n",
       "      <td>30</td>\n",
       "      <td>Movies</td>\n",
       "    </tr>\n",
       "    <tr>\n",
       "      <td>18</td>\n",
       "      <td>31</td>\n",
       "      <td>Anime/Animation</td>\n",
       "    </tr>\n",
       "    <tr>\n",
       "      <td>19</td>\n",
       "      <td>32</td>\n",
       "      <td>Action/Adventure</td>\n",
       "    </tr>\n",
       "    <tr>\n",
       "      <td>20</td>\n",
       "      <td>33</td>\n",
       "      <td>Classics</td>\n",
       "    </tr>\n",
       "    <tr>\n",
       "      <td>21</td>\n",
       "      <td>34</td>\n",
       "      <td>Comedy</td>\n",
       "    </tr>\n",
       "    <tr>\n",
       "      <td>22</td>\n",
       "      <td>35</td>\n",
       "      <td>Documentary</td>\n",
       "    </tr>\n",
       "    <tr>\n",
       "      <td>23</td>\n",
       "      <td>36</td>\n",
       "      <td>Drama</td>\n",
       "    </tr>\n",
       "    <tr>\n",
       "      <td>24</td>\n",
       "      <td>37</td>\n",
       "      <td>Family</td>\n",
       "    </tr>\n",
       "    <tr>\n",
       "      <td>25</td>\n",
       "      <td>38</td>\n",
       "      <td>Foreign</td>\n",
       "    </tr>\n",
       "    <tr>\n",
       "      <td>26</td>\n",
       "      <td>39</td>\n",
       "      <td>Horror</td>\n",
       "    </tr>\n",
       "    <tr>\n",
       "      <td>27</td>\n",
       "      <td>40</td>\n",
       "      <td>Sci-Fi/Fantasy</td>\n",
       "    </tr>\n",
       "    <tr>\n",
       "      <td>28</td>\n",
       "      <td>41</td>\n",
       "      <td>Thriller</td>\n",
       "    </tr>\n",
       "    <tr>\n",
       "      <td>29</td>\n",
       "      <td>42</td>\n",
       "      <td>Shorts</td>\n",
       "    </tr>\n",
       "    <tr>\n",
       "      <td>30</td>\n",
       "      <td>43</td>\n",
       "      <td>Shows</td>\n",
       "    </tr>\n",
       "    <tr>\n",
       "      <td>31</td>\n",
       "      <td>44</td>\n",
       "      <td>Trailers</td>\n",
       "    </tr>\n",
       "  </tbody>\n",
       "</table>\n",
       "</div>"
      ],
      "text/plain": [
       "    id               category\n",
       "0    1       Film & Animation\n",
       "1    2       Autos & Vehicles\n",
       "2   10                  Music\n",
       "3   15         Pets & Animals\n",
       "4   17                 Sports\n",
       "5   18           Short Movies\n",
       "6   19        Travel & Events\n",
       "7   20                 Gaming\n",
       "8   21          Videoblogging\n",
       "9   22         People & Blogs\n",
       "10  23                 Comedy\n",
       "11  24          Entertainment\n",
       "12  25        News & Politics\n",
       "13  26          Howto & Style\n",
       "14  27              Education\n",
       "15  28   Science & Technology\n",
       "16  29  Nonprofits & Activism\n",
       "17  30                 Movies\n",
       "18  31        Anime/Animation\n",
       "19  32       Action/Adventure\n",
       "20  33               Classics\n",
       "21  34                 Comedy\n",
       "22  35            Documentary\n",
       "23  36                  Drama\n",
       "24  37                 Family\n",
       "25  38                Foreign\n",
       "26  39                 Horror\n",
       "27  40         Sci-Fi/Fantasy\n",
       "28  41               Thriller\n",
       "29  42                 Shorts\n",
       "30  43                  Shows\n",
       "31  44               Trailers"
      ]
     },
     "execution_count": 49,
     "metadata": {},
     "output_type": "execute_result"
    }
   ],
   "source": [
    "#Menstate kolom id sebagai data bertipe integer agar dapat disortir\n",
    "dfCategory['id'] = dfCategory['id'].astype('int')\n",
    "\n",
    "#Sortir\n",
    "dfCategory.sort_values(\"id\", ascending=True, inplace=True)\n",
    "\n",
    "#Pengindexan ulang\n",
    "dfCategory = dfCategory.reset_index(drop=True)\n",
    "\n",
    "print(\"\")\n",
    "print(\"DATA KATEGORI UTAMA\")\n",
    "\n",
    "dfCategory"
   ]
  },
  {
   "cell_type": "code",
   "execution_count": 50,
   "metadata": {},
   "outputs": [
    {
     "data": {
      "text/plain": [
       "(32, 2)"
      ]
     },
     "execution_count": 50,
     "metadata": {},
     "output_type": "execute_result"
    }
   ],
   "source": [
    "dfCategory.shape"
   ]
  },
  {
   "cell_type": "markdown",
   "metadata": {},
   "source": [
    "Berdasarkan pengecekan data kategori memiliki dimensi <b>32 baris x 2 kolom</b>"
   ]
  },
  {
   "cell_type": "markdown",
   "metadata": {},
   "source": [
    "<b>------------------------------------------------------------------------------------------------------------------------------------------------------------------------------------------------------------------------------------------------------------------------------------------------------------------------------------------------------------------------------------------------------------------------------------</b>"
   ]
  },
  {
   "cell_type": "markdown",
   "metadata": {},
   "source": [
    "## Membuat Ulang Data Kategori Sesuai Dengan Kategori Yang Ditemukan di Dataframe Videos"
   ]
  },
  {
   "cell_type": "code",
   "execution_count": 51,
   "metadata": {},
   "outputs": [],
   "source": [
    "# drop kolom yang tidak perlu\n",
    "\n",
    "#Canada\n",
    "dfCA = dfCAvideos.drop([\n",
    "    'trending_date','channel_title','publish_time','tags','thumbnail_link','comments_disabled','ratings_disabled',\n",
    "  'video_error_or_removed','description'], axis=1)\n",
    "\n",
    "#Great Britain\n",
    "dfGB = dfGBvideos.drop([\n",
    "    'trending_date','channel_title','publish_time','tags','thumbnail_link','comments_disabled','ratings_disabled',\n",
    "  'video_error_or_removed','description'], axis=1)\n",
    "\n",
    "#United States\n",
    "dfUS = dfUSvideos.drop([\n",
    "    'trending_date','channel_title','publish_time','tags','thumbnail_link','comments_disabled','ratings_disabled',\n",
    "    'video_error_or_removed','description'], axis=1)"
   ]
  },
  {
   "cell_type": "code",
   "execution_count": 52,
   "metadata": {},
   "outputs": [],
   "source": [
    "# mengelompokan berdasarkan id kategori\n",
    "gCAvideo = dfCA.groupby('category_id')\n",
    "gGBvideo = dfGB.groupby('category_id')\n",
    "gUSvideo = dfUS.groupby('category_id')"
   ]
  },
  {
   "cell_type": "markdown",
   "metadata": {},
   "source": [
    "#### Menemukan value unique pada id kategori region Canada\n",
    "Kategori yang ada pada data video region Canada adalah kategori dengan ID :\n",
    " 1, 2, 10, 15, 17, 19, 20, 22, 23, 24, 25, 26, 27, 28, 29, 30, 43"
   ]
  },
  {
   "cell_type": "code",
   "execution_count": 53,
   "metadata": {},
   "outputs": [
    {
     "data": {
      "text/plain": [
       "array([ 1,  2, 10, 15, 17, 19, 20, 22, 23, 24, 25, 26, 27, 28, 29, 30, 43],\n",
       "      dtype=int64)"
      ]
     },
     "execution_count": 53,
     "metadata": {},
     "output_type": "execute_result"
    }
   ],
   "source": [
    "# menemukan value yang unik pada id kategori region canada\n",
    "dfCA.category_id.unique()\n",
    "\n",
    "a = dfCA.category_id.unique()\n",
    "a.sort(axis=0)\n",
    "a"
   ]
  },
  {
   "cell_type": "markdown",
   "metadata": {},
   "source": [
    "#### ID Kategori yang tidak ada di region Canada adalah sebagai berikut :"
   ]
  },
  {
   "cell_type": "code",
   "execution_count": 54,
   "metadata": {},
   "outputs": [
    {
     "name": "stdout",
     "output_type": "stream",
     "text": [
      " 18\n",
      " 21\n",
      " 31\n",
      " 32\n",
      " 33\n",
      " 34\n",
      " 35\n",
      " 36\n",
      " 37\n",
      " 38\n",
      " 39\n",
      " 40\n",
      " 41\n",
      " 42\n",
      " 44\n"
     ]
    }
   ],
   "source": [
    "sCat_ca = pd.Series(a)\n",
    "\n",
    "print (pd.concat([dfCategory['id'],sCat_ca]).drop_duplicates(keep=False).to_string(index=False))"
   ]
  },
  {
   "cell_type": "markdown",
   "metadata": {},
   "source": [
    "#### Menemukan value unique pada id kategori region Great Britain\n",
    "Kategori yang ada pada data video region Great Britain adalah kategori dengan ID :\n",
    " 1, 2, 10, 15, 17, 19, 20, 22, 23, 24, 25, 26, 27, 28, 29, 30, 43"
   ]
  },
  {
   "cell_type": "code",
   "execution_count": 55,
   "metadata": {},
   "outputs": [
    {
     "data": {
      "text/plain": [
       "array([ 1,  2, 10, 15, 17, 19, 20, 22, 23, 24, 25, 26, 27, 28, 29, 43],\n",
       "      dtype=int64)"
      ]
     },
     "execution_count": 55,
     "metadata": {},
     "output_type": "execute_result"
    }
   ],
   "source": [
    "# menemukan value yang unik pada id kategori region great britain\n",
    "dfGB.category_id.unique()\n",
    "\n",
    "b = dfGB.category_id.unique()\n",
    "b.sort(axis=0)\n",
    "b"
   ]
  },
  {
   "cell_type": "markdown",
   "metadata": {},
   "source": [
    "#### Kategori yang tidak ada di region Great Britain adalah sebagai berikut :"
   ]
  },
  {
   "cell_type": "code",
   "execution_count": 56,
   "metadata": {},
   "outputs": [
    {
     "name": "stdout",
     "output_type": "stream",
     "text": [
      " 18\n",
      " 21\n",
      " 30\n",
      " 31\n",
      " 32\n",
      " 33\n",
      " 34\n",
      " 35\n",
      " 36\n",
      " 37\n",
      " 38\n",
      " 39\n",
      " 40\n",
      " 41\n",
      " 42\n",
      " 44\n"
     ]
    }
   ],
   "source": [
    "sCat_gb = pd.Series(b)\n",
    "\n",
    "print (pd.concat([dfCategory['id'],sCat_gb]).drop_duplicates(keep=False).to_string(index=False))"
   ]
  },
  {
   "cell_type": "markdown",
   "metadata": {},
   "source": [
    "#### Menemukan value unique pada id kategori region United States\n",
    "Kategori yang ada pada data video region United States adalah kategori dengan ID :\n",
    " 1, 2, 10, 15, 17, 19, 20, 22, 23, 24, 25, 26, 27, 28, 29, 30, 43"
   ]
  },
  {
   "cell_type": "code",
   "execution_count": 57,
   "metadata": {},
   "outputs": [
    {
     "data": {
      "text/plain": [
       "array([ 1,  2, 10, 15, 17, 19, 20, 22, 23, 24, 25, 26, 27, 28, 29, 43],\n",
       "      dtype=int64)"
      ]
     },
     "execution_count": 57,
     "metadata": {},
     "output_type": "execute_result"
    }
   ],
   "source": [
    "# menemukan value yang unik pada id kategori region us\n",
    "dfUS.category_id.unique()\n",
    "\n",
    "c = dfUS.category_id.unique()\n",
    "c.sort(axis=0)\n",
    "c"
   ]
  },
  {
   "cell_type": "markdown",
   "metadata": {},
   "source": [
    "#### Kategori yang tidak ada di region United States adalah sebagai berikut :"
   ]
  },
  {
   "cell_type": "code",
   "execution_count": 58,
   "metadata": {},
   "outputs": [
    {
     "name": "stdout",
     "output_type": "stream",
     "text": [
      " 18\n",
      " 21\n",
      " 30\n",
      " 31\n",
      " 32\n",
      " 33\n",
      " 34\n",
      " 35\n",
      " 36\n",
      " 37\n",
      " 38\n",
      " 39\n",
      " 40\n",
      " 41\n",
      " 42\n",
      " 44\n"
     ]
    }
   ],
   "source": [
    "sCat_us = pd.Series(c)\n",
    "\n",
    "print (pd.concat([dfCategory['id'],sCat_us]).drop_duplicates(keep=False).to_string(index=False))"
   ]
  },
  {
   "cell_type": "code",
   "execution_count": 59,
   "metadata": {},
   "outputs": [],
   "source": [
    "# membuat data list dari array\n",
    "data_cat_ca = {'id': dfCA.category_id.unique()}\n",
    "data_cat_gb = {'id': dfGB.category_id.unique()} \n",
    "data_cat_us = {'id': dfUS.category_id.unique()} \n",
    "\n",
    "# memasukan data kategori ke dataframe\n",
    "dfCAcat = pd.DataFrame(data_cat_ca)\n",
    "dfGBcat = pd.DataFrame(data_cat_gb)\n",
    "dfUScat = pd.DataFrame(data_cat_us)"
   ]
  },
  {
   "cell_type": "code",
   "execution_count": 60,
   "metadata": {},
   "outputs": [
    {
     "name": "stdout",
     "output_type": "stream",
     "text": [
      "\n",
      "DATA KATEGORI DI CANADA\n"
     ]
    },
    {
     "data": {
      "text/html": [
       "<div>\n",
       "<style scoped>\n",
       "    .dataframe tbody tr th:only-of-type {\n",
       "        vertical-align: middle;\n",
       "    }\n",
       "\n",
       "    .dataframe tbody tr th {\n",
       "        vertical-align: top;\n",
       "    }\n",
       "\n",
       "    .dataframe thead th {\n",
       "        text-align: right;\n",
       "    }\n",
       "</style>\n",
       "<table border=\"1\" class=\"dataframe\">\n",
       "  <thead>\n",
       "    <tr style=\"text-align: right;\">\n",
       "      <th></th>\n",
       "      <th>id</th>\n",
       "      <th>category</th>\n",
       "    </tr>\n",
       "  </thead>\n",
       "  <tbody>\n",
       "    <tr>\n",
       "      <td>0</td>\n",
       "      <td>1</td>\n",
       "      <td>Film &amp; Animation</td>\n",
       "    </tr>\n",
       "    <tr>\n",
       "      <td>1</td>\n",
       "      <td>2</td>\n",
       "      <td>Autos &amp; Vehicles</td>\n",
       "    </tr>\n",
       "    <tr>\n",
       "      <td>2</td>\n",
       "      <td>10</td>\n",
       "      <td>Music</td>\n",
       "    </tr>\n",
       "    <tr>\n",
       "      <td>3</td>\n",
       "      <td>15</td>\n",
       "      <td>Pets &amp; Animals</td>\n",
       "    </tr>\n",
       "    <tr>\n",
       "      <td>4</td>\n",
       "      <td>17</td>\n",
       "      <td>Sports</td>\n",
       "    </tr>\n",
       "    <tr>\n",
       "      <td>5</td>\n",
       "      <td>19</td>\n",
       "      <td>Travel &amp; Events</td>\n",
       "    </tr>\n",
       "    <tr>\n",
       "      <td>6</td>\n",
       "      <td>20</td>\n",
       "      <td>Gaming</td>\n",
       "    </tr>\n",
       "    <tr>\n",
       "      <td>7</td>\n",
       "      <td>22</td>\n",
       "      <td>People &amp; Blogs</td>\n",
       "    </tr>\n",
       "    <tr>\n",
       "      <td>8</td>\n",
       "      <td>23</td>\n",
       "      <td>Comedy</td>\n",
       "    </tr>\n",
       "    <tr>\n",
       "      <td>9</td>\n",
       "      <td>24</td>\n",
       "      <td>Entertainment</td>\n",
       "    </tr>\n",
       "    <tr>\n",
       "      <td>10</td>\n",
       "      <td>25</td>\n",
       "      <td>News &amp; Politics</td>\n",
       "    </tr>\n",
       "    <tr>\n",
       "      <td>11</td>\n",
       "      <td>26</td>\n",
       "      <td>Howto &amp; Style</td>\n",
       "    </tr>\n",
       "    <tr>\n",
       "      <td>12</td>\n",
       "      <td>27</td>\n",
       "      <td>Education</td>\n",
       "    </tr>\n",
       "    <tr>\n",
       "      <td>13</td>\n",
       "      <td>28</td>\n",
       "      <td>Science &amp; Technology</td>\n",
       "    </tr>\n",
       "    <tr>\n",
       "      <td>14</td>\n",
       "      <td>29</td>\n",
       "      <td>Nonprofits &amp; Activism</td>\n",
       "    </tr>\n",
       "    <tr>\n",
       "      <td>15</td>\n",
       "      <td>30</td>\n",
       "      <td>Movies</td>\n",
       "    </tr>\n",
       "    <tr>\n",
       "      <td>16</td>\n",
       "      <td>43</td>\n",
       "      <td>Shows</td>\n",
       "    </tr>\n",
       "  </tbody>\n",
       "</table>\n",
       "</div>"
      ],
      "text/plain": [
       "    id               category\n",
       "0    1       Film & Animation\n",
       "1    2       Autos & Vehicles\n",
       "2   10                  Music\n",
       "3   15         Pets & Animals\n",
       "4   17                 Sports\n",
       "5   19        Travel & Events\n",
       "6   20                 Gaming\n",
       "7   22         People & Blogs\n",
       "8   23                 Comedy\n",
       "9   24          Entertainment\n",
       "10  25        News & Politics\n",
       "11  26          Howto & Style\n",
       "12  27              Education\n",
       "13  28   Science & Technology\n",
       "14  29  Nonprofits & Activism\n",
       "15  30                 Movies\n",
       "16  43                  Shows"
      ]
     },
     "execution_count": 60,
     "metadata": {},
     "output_type": "execute_result"
    }
   ],
   "source": [
    "# melakukan merge data kategori canada dengan dataframe kategori utama\n",
    "dfCAcat1 = pd.merge(dfCategory,dfCAcat)\n",
    "print(\"\")\n",
    "print(\"DATA KATEGORI DI CANADA\")\n",
    "dfCAcat1"
   ]
  },
  {
   "cell_type": "code",
   "execution_count": 61,
   "metadata": {},
   "outputs": [
    {
     "name": "stdout",
     "output_type": "stream",
     "text": [
      "\n",
      "DATA KATEGORI DI GREAT BRITAIN\n"
     ]
    },
    {
     "data": {
      "text/html": [
       "<div>\n",
       "<style scoped>\n",
       "    .dataframe tbody tr th:only-of-type {\n",
       "        vertical-align: middle;\n",
       "    }\n",
       "\n",
       "    .dataframe tbody tr th {\n",
       "        vertical-align: top;\n",
       "    }\n",
       "\n",
       "    .dataframe thead th {\n",
       "        text-align: right;\n",
       "    }\n",
       "</style>\n",
       "<table border=\"1\" class=\"dataframe\">\n",
       "  <thead>\n",
       "    <tr style=\"text-align: right;\">\n",
       "      <th></th>\n",
       "      <th>id</th>\n",
       "      <th>category</th>\n",
       "    </tr>\n",
       "  </thead>\n",
       "  <tbody>\n",
       "    <tr>\n",
       "      <td>0</td>\n",
       "      <td>1</td>\n",
       "      <td>Film &amp; Animation</td>\n",
       "    </tr>\n",
       "    <tr>\n",
       "      <td>1</td>\n",
       "      <td>2</td>\n",
       "      <td>Autos &amp; Vehicles</td>\n",
       "    </tr>\n",
       "    <tr>\n",
       "      <td>2</td>\n",
       "      <td>10</td>\n",
       "      <td>Music</td>\n",
       "    </tr>\n",
       "    <tr>\n",
       "      <td>3</td>\n",
       "      <td>15</td>\n",
       "      <td>Pets &amp; Animals</td>\n",
       "    </tr>\n",
       "    <tr>\n",
       "      <td>4</td>\n",
       "      <td>17</td>\n",
       "      <td>Sports</td>\n",
       "    </tr>\n",
       "    <tr>\n",
       "      <td>5</td>\n",
       "      <td>19</td>\n",
       "      <td>Travel &amp; Events</td>\n",
       "    </tr>\n",
       "    <tr>\n",
       "      <td>6</td>\n",
       "      <td>20</td>\n",
       "      <td>Gaming</td>\n",
       "    </tr>\n",
       "    <tr>\n",
       "      <td>7</td>\n",
       "      <td>22</td>\n",
       "      <td>People &amp; Blogs</td>\n",
       "    </tr>\n",
       "    <tr>\n",
       "      <td>8</td>\n",
       "      <td>23</td>\n",
       "      <td>Comedy</td>\n",
       "    </tr>\n",
       "    <tr>\n",
       "      <td>9</td>\n",
       "      <td>24</td>\n",
       "      <td>Entertainment</td>\n",
       "    </tr>\n",
       "    <tr>\n",
       "      <td>10</td>\n",
       "      <td>25</td>\n",
       "      <td>News &amp; Politics</td>\n",
       "    </tr>\n",
       "    <tr>\n",
       "      <td>11</td>\n",
       "      <td>26</td>\n",
       "      <td>Howto &amp; Style</td>\n",
       "    </tr>\n",
       "    <tr>\n",
       "      <td>12</td>\n",
       "      <td>27</td>\n",
       "      <td>Education</td>\n",
       "    </tr>\n",
       "    <tr>\n",
       "      <td>13</td>\n",
       "      <td>28</td>\n",
       "      <td>Science &amp; Technology</td>\n",
       "    </tr>\n",
       "    <tr>\n",
       "      <td>14</td>\n",
       "      <td>29</td>\n",
       "      <td>Nonprofits &amp; Activism</td>\n",
       "    </tr>\n",
       "    <tr>\n",
       "      <td>15</td>\n",
       "      <td>43</td>\n",
       "      <td>Shows</td>\n",
       "    </tr>\n",
       "  </tbody>\n",
       "</table>\n",
       "</div>"
      ],
      "text/plain": [
       "    id               category\n",
       "0    1       Film & Animation\n",
       "1    2       Autos & Vehicles\n",
       "2   10                  Music\n",
       "3   15         Pets & Animals\n",
       "4   17                 Sports\n",
       "5   19        Travel & Events\n",
       "6   20                 Gaming\n",
       "7   22         People & Blogs\n",
       "8   23                 Comedy\n",
       "9   24          Entertainment\n",
       "10  25        News & Politics\n",
       "11  26          Howto & Style\n",
       "12  27              Education\n",
       "13  28   Science & Technology\n",
       "14  29  Nonprofits & Activism\n",
       "15  43                  Shows"
      ]
     },
     "execution_count": 61,
     "metadata": {},
     "output_type": "execute_result"
    }
   ],
   "source": [
    "# melakukan merge data kategori great britain dengan dataframe kategori utama\n",
    "dfGBcat1 = pd.merge(dfCategory,dfGBcat)\n",
    "print(\"\")\n",
    "print(\"DATA KATEGORI DI GREAT BRITAIN\")\n",
    "dfGBcat1"
   ]
  },
  {
   "cell_type": "code",
   "execution_count": 62,
   "metadata": {},
   "outputs": [
    {
     "name": "stdout",
     "output_type": "stream",
     "text": [
      "\n",
      "DATA KATEGORI DI UNITED STATES\n"
     ]
    },
    {
     "data": {
      "text/html": [
       "<div>\n",
       "<style scoped>\n",
       "    .dataframe tbody tr th:only-of-type {\n",
       "        vertical-align: middle;\n",
       "    }\n",
       "\n",
       "    .dataframe tbody tr th {\n",
       "        vertical-align: top;\n",
       "    }\n",
       "\n",
       "    .dataframe thead th {\n",
       "        text-align: right;\n",
       "    }\n",
       "</style>\n",
       "<table border=\"1\" class=\"dataframe\">\n",
       "  <thead>\n",
       "    <tr style=\"text-align: right;\">\n",
       "      <th></th>\n",
       "      <th>id</th>\n",
       "      <th>category</th>\n",
       "    </tr>\n",
       "  </thead>\n",
       "  <tbody>\n",
       "    <tr>\n",
       "      <td>0</td>\n",
       "      <td>1</td>\n",
       "      <td>Film &amp; Animation</td>\n",
       "    </tr>\n",
       "    <tr>\n",
       "      <td>1</td>\n",
       "      <td>2</td>\n",
       "      <td>Autos &amp; Vehicles</td>\n",
       "    </tr>\n",
       "    <tr>\n",
       "      <td>2</td>\n",
       "      <td>10</td>\n",
       "      <td>Music</td>\n",
       "    </tr>\n",
       "    <tr>\n",
       "      <td>3</td>\n",
       "      <td>15</td>\n",
       "      <td>Pets &amp; Animals</td>\n",
       "    </tr>\n",
       "    <tr>\n",
       "      <td>4</td>\n",
       "      <td>17</td>\n",
       "      <td>Sports</td>\n",
       "    </tr>\n",
       "    <tr>\n",
       "      <td>5</td>\n",
       "      <td>19</td>\n",
       "      <td>Travel &amp; Events</td>\n",
       "    </tr>\n",
       "    <tr>\n",
       "      <td>6</td>\n",
       "      <td>20</td>\n",
       "      <td>Gaming</td>\n",
       "    </tr>\n",
       "    <tr>\n",
       "      <td>7</td>\n",
       "      <td>22</td>\n",
       "      <td>People &amp; Blogs</td>\n",
       "    </tr>\n",
       "    <tr>\n",
       "      <td>8</td>\n",
       "      <td>23</td>\n",
       "      <td>Comedy</td>\n",
       "    </tr>\n",
       "    <tr>\n",
       "      <td>9</td>\n",
       "      <td>24</td>\n",
       "      <td>Entertainment</td>\n",
       "    </tr>\n",
       "    <tr>\n",
       "      <td>10</td>\n",
       "      <td>25</td>\n",
       "      <td>News &amp; Politics</td>\n",
       "    </tr>\n",
       "    <tr>\n",
       "      <td>11</td>\n",
       "      <td>26</td>\n",
       "      <td>Howto &amp; Style</td>\n",
       "    </tr>\n",
       "    <tr>\n",
       "      <td>12</td>\n",
       "      <td>27</td>\n",
       "      <td>Education</td>\n",
       "    </tr>\n",
       "    <tr>\n",
       "      <td>13</td>\n",
       "      <td>28</td>\n",
       "      <td>Science &amp; Technology</td>\n",
       "    </tr>\n",
       "    <tr>\n",
       "      <td>14</td>\n",
       "      <td>29</td>\n",
       "      <td>Nonprofits &amp; Activism</td>\n",
       "    </tr>\n",
       "    <tr>\n",
       "      <td>15</td>\n",
       "      <td>43</td>\n",
       "      <td>Shows</td>\n",
       "    </tr>\n",
       "  </tbody>\n",
       "</table>\n",
       "</div>"
      ],
      "text/plain": [
       "    id               category\n",
       "0    1       Film & Animation\n",
       "1    2       Autos & Vehicles\n",
       "2   10                  Music\n",
       "3   15         Pets & Animals\n",
       "4   17                 Sports\n",
       "5   19        Travel & Events\n",
       "6   20                 Gaming\n",
       "7   22         People & Blogs\n",
       "8   23                 Comedy\n",
       "9   24          Entertainment\n",
       "10  25        News & Politics\n",
       "11  26          Howto & Style\n",
       "12  27              Education\n",
       "13  28   Science & Technology\n",
       "14  29  Nonprofits & Activism\n",
       "15  43                  Shows"
      ]
     },
     "execution_count": 62,
     "metadata": {},
     "output_type": "execute_result"
    }
   ],
   "source": [
    "# melakukan merge data kategori united states dengan dataframe kategori utama\n",
    "dfUScat1 = pd.merge(dfCategory,dfUScat)\n",
    "print(\"\")\n",
    "print(\"DATA KATEGORI DI UNITED STATES\")\n",
    "dfUScat1"
   ]
  },
  {
   "cell_type": "code",
   "execution_count": 63,
   "metadata": {},
   "outputs": [
    {
     "data": {
      "text/plain": [
       "True"
      ]
     },
     "execution_count": 63,
     "metadata": {},
     "output_type": "execute_result"
    }
   ],
   "source": [
    "dfGBcat1.equals(dfUScat1)"
   ]
  },
  {
   "cell_type": "code",
   "execution_count": 64,
   "metadata": {},
   "outputs": [
    {
     "data": {
      "text/plain": [
       "False"
      ]
     },
     "execution_count": 64,
     "metadata": {},
     "output_type": "execute_result"
    }
   ],
   "source": [
    "dfGBcat1.equals(dfCAcat1)"
   ]
  },
  {
   "cell_type": "markdown",
   "metadata": {},
   "source": [
    "### Ditemukan bahwa kategori video yang ada di data video Great Britain dan United States adalah identik, yaitu :\n",
    "- 1\t(Film & Animation)\n",
    "- 2\t(Autos & Vehicles)\n",
    "- 10 (Music)\n",
    "- 15 (Pets & Animals)\n",
    "- 17 (Sports)\n",
    "- 19 (Travel & Events)\n",
    "- 20 (Gaming)\n",
    "- 22 (People & Blogs)\n",
    "- 23 (Comedy)\n",
    "- 24 (Entertainment)\n",
    "- 25 (News & Politics)\n",
    "- 26 (Howto & Style)\n",
    "- 27 (Education)\n",
    "- 28 (Science & Technology)\n",
    "- 29 (Nonprofits & Activism)\n",
    "- 43 (Shows)\n",
    "\n",
    "### Sedangkan data video Canada memiliki 1 kategori yang berbeda dari Great Britain dan United States, yaitu :\n",
    "- 30 (Movies)"
   ]
  },
  {
   "cell_type": "markdown",
   "metadata": {},
   "source": [
    "<b>------------------------------------------------------------------------------------------------------------------------------------------------------------------------------------------------------------------------------------------------------------------------------------------------------------------------------------------------------------------------------------------------------------------------------------</b>"
   ]
  },
  {
   "cell_type": "markdown",
   "metadata": {},
   "source": [
    "Pada tahap ini eksplorasi tiap negara akan dilakukan 3 notebook terpisah untuk memudahkan eksplorasi ke depannya.\n",
    "Maka dari itu dataframe video di mana kolom trending date telah dibentuk ulang menjadi datetime serta kategori keseluruhan dan dataframe kategori setiap negara yang telah dibentuk ulang berdasarkan kategori yang memang ditemukan di dataframe video masing-masing negara perlu di-ekspor dengan format .csv agar dapat digunakan di notebook yang berbeda."
   ]
  },
  {
   "cell_type": "code",
   "execution_count": 65,
   "metadata": {},
   "outputs": [],
   "source": [
    "#Videos\n",
    "dfCAvideos.to_csv(r'datasets\\CAVideos-fixed.csv')\n",
    "dfGBvideos.to_csv(r'datasets\\GBVideos-fixed.csv')\n",
    "dfUSvideos.to_csv(r'datasets\\USVideos-fixed.csv')\n",
    "\n",
    "#Categories\n",
    "dfCategory.to_csv(r'datasets\\Categories.csv')\n",
    "dfCAcat1.to_csv(r'datasets\\CACategories.csv')\n",
    "dfGBcat1.to_csv(r'datasets\\GBCategories.csv')\n",
    "dfUScat1.to_csv(r'datasets\\USCategories.csv')"
   ]
  }
 ],
 "metadata": {
  "kernelspec": {
   "display_name": "Python 3",
   "language": "python",
   "name": "python3"
  },
  "language_info": {
   "codemirror_mode": {
    "name": "ipython",
    "version": 3
   },
   "file_extension": ".py",
   "mimetype": "text/x-python",
   "name": "python",
   "nbconvert_exporter": "python",
   "pygments_lexer": "ipython3",
   "version": "3.7.4"
  }
 },
 "nbformat": 4,
 "nbformat_minor": 2
}
