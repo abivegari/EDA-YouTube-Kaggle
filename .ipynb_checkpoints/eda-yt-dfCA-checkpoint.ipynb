{
 "cells": [
  {
   "cell_type": "code",
   "execution_count": 1,
   "metadata": {
    "scrolled": true
   },
   "outputs": [],
   "source": [
    "#Import library\n",
    "import pandas as pd\n",
    "import json as js\n",
    "from pandas.io.json import json_normalize\n",
    "\n",
    "#import matplotlib\n",
    "import matplotlib.pyplot as plt\n",
    "\n",
    "#import numpy\n",
    "import numpy as np\n",
    "\n",
    "# import seaborn\n",
    "import seaborn as sns\n",
    "%matplotlib inline\n",
    "\n",
    "#import stats\n",
    "from scipy import stats"
   ]
  },
  {
   "cell_type": "code",
   "execution_count": 2,
   "metadata": {},
   "outputs": [],
   "source": [
    "#load datasets CA\n",
    "dfCAvideos = pd.read_csv(\"datasets/CAVideos.csv\")\n",
    "dfCAcategory = pd.read_csv(\"datasets/CAcategories.csv\")\n",
    "\n",
    "# set option agar float dapat ditampilkan seluruhnya\n",
    "pd.set_option('float_format', '{:f}'.format)"
   ]
  },
  {
   "cell_type": "markdown",
   "metadata": {},
   "source": [
    "## DATA VIDEO REGION CANADA\n",
    "Berikut adalah data video dari region Canada :"
   ]
  },
  {
   "cell_type": "code",
   "execution_count": 3,
   "metadata": {},
   "outputs": [
    {
     "data": {
      "text/plain": [
       "video_id                  object\n",
       "trending_date             object\n",
       "title                     object\n",
       "channel_title             object\n",
       "category_id                int64\n",
       "publish_time              object\n",
       "tags                      object\n",
       "views                      int64\n",
       "likes                      int64\n",
       "dislikes                   int64\n",
       "comment_count              int64\n",
       "thumbnail_link            object\n",
       "comments_disabled           bool\n",
       "ratings_disabled            bool\n",
       "video_error_or_removed      bool\n",
       "description               object\n",
       "dtype: object"
      ]
     },
     "execution_count": 3,
     "metadata": {},
     "output_type": "execute_result"
    }
   ],
   "source": [
    "dfCAvideos.dtypes"
   ]
  },
  {
   "cell_type": "markdown",
   "metadata": {},
   "source": [
    "#### Karena kolom trending_date pada semua data video adalah string dengan format year.month.day (contoh : 17.11.14), maka objek dari kolom tersebut perlu diubah menjadi bentuk datetime"
   ]
  },
  {
   "cell_type": "code",
   "execution_count": 4,
   "metadata": {},
   "outputs": [],
   "source": [
    "dfCAvideos['trending_date'] =  pd.to_datetime(dfCAvideos['trending_date'], format='%y.%d.%m')"
   ]
  },
  {
   "cell_type": "code",
   "execution_count": 5,
   "metadata": {
    "scrolled": false
   },
   "outputs": [
    {
     "data": {
      "text/html": [
       "<div>\n",
       "<style scoped>\n",
       "    .dataframe tbody tr th:only-of-type {\n",
       "        vertical-align: middle;\n",
       "    }\n",
       "\n",
       "    .dataframe tbody tr th {\n",
       "        vertical-align: top;\n",
       "    }\n",
       "\n",
       "    .dataframe thead th {\n",
       "        text-align: right;\n",
       "    }\n",
       "</style>\n",
       "<table border=\"1\" class=\"dataframe\">\n",
       "  <thead>\n",
       "    <tr style=\"text-align: right;\">\n",
       "      <th></th>\n",
       "      <th>video_id</th>\n",
       "      <th>trending_date</th>\n",
       "      <th>title</th>\n",
       "      <th>channel_title</th>\n",
       "      <th>category_id</th>\n",
       "      <th>publish_time</th>\n",
       "      <th>tags</th>\n",
       "      <th>views</th>\n",
       "      <th>likes</th>\n",
       "      <th>dislikes</th>\n",
       "      <th>comment_count</th>\n",
       "      <th>thumbnail_link</th>\n",
       "      <th>comments_disabled</th>\n",
       "      <th>ratings_disabled</th>\n",
       "      <th>video_error_or_removed</th>\n",
       "      <th>description</th>\n",
       "    </tr>\n",
       "  </thead>\n",
       "  <tbody>\n",
       "    <tr>\n",
       "      <td>0</td>\n",
       "      <td>n1WpP7iowLc</td>\n",
       "      <td>2017-11-14</td>\n",
       "      <td>Eminem - Walk On Water (Audio) ft. Beyoncé</td>\n",
       "      <td>EminemVEVO</td>\n",
       "      <td>10</td>\n",
       "      <td>2017-11-10T17:00:03.000Z</td>\n",
       "      <td>Eminem|\"Walk\"|\"On\"|\"Water\"|\"Aftermath/Shady/In...</td>\n",
       "      <td>17158579</td>\n",
       "      <td>787425</td>\n",
       "      <td>43420</td>\n",
       "      <td>125882</td>\n",
       "      <td>https://i.ytimg.com/vi/n1WpP7iowLc/default.jpg</td>\n",
       "      <td>False</td>\n",
       "      <td>False</td>\n",
       "      <td>False</td>\n",
       "      <td>Eminem's new track Walk on Water ft. Beyoncé i...</td>\n",
       "    </tr>\n",
       "    <tr>\n",
       "      <td>1</td>\n",
       "      <td>0dBIkQ4Mz1M</td>\n",
       "      <td>2017-11-14</td>\n",
       "      <td>PLUSH - Bad Unboxing Fan Mail</td>\n",
       "      <td>iDubbbzTV</td>\n",
       "      <td>23</td>\n",
       "      <td>2017-11-13T17:00:00.000Z</td>\n",
       "      <td>plush|\"bad unboxing\"|\"unboxing\"|\"fan mail\"|\"id...</td>\n",
       "      <td>1014651</td>\n",
       "      <td>127794</td>\n",
       "      <td>1688</td>\n",
       "      <td>13030</td>\n",
       "      <td>https://i.ytimg.com/vi/0dBIkQ4Mz1M/default.jpg</td>\n",
       "      <td>False</td>\n",
       "      <td>False</td>\n",
       "      <td>False</td>\n",
       "      <td>STill got a lot of packages. Probably will las...</td>\n",
       "    </tr>\n",
       "    <tr>\n",
       "      <td>2</td>\n",
       "      <td>5qpjK5DgCt4</td>\n",
       "      <td>2017-11-14</td>\n",
       "      <td>Racist Superman | Rudy Mancuso, King Bach &amp; Le...</td>\n",
       "      <td>Rudy Mancuso</td>\n",
       "      <td>23</td>\n",
       "      <td>2017-11-12T19:05:24.000Z</td>\n",
       "      <td>racist superman|\"rudy\"|\"mancuso\"|\"king\"|\"bach\"...</td>\n",
       "      <td>3191434</td>\n",
       "      <td>146035</td>\n",
       "      <td>5339</td>\n",
       "      <td>8181</td>\n",
       "      <td>https://i.ytimg.com/vi/5qpjK5DgCt4/default.jpg</td>\n",
       "      <td>False</td>\n",
       "      <td>False</td>\n",
       "      <td>False</td>\n",
       "      <td>WATCH MY PREVIOUS VIDEO ▶ \\n\\nSUBSCRIBE ► http...</td>\n",
       "    </tr>\n",
       "    <tr>\n",
       "      <td>3</td>\n",
       "      <td>d380meD0W0M</td>\n",
       "      <td>2017-11-14</td>\n",
       "      <td>I Dare You: GOING BALD!?</td>\n",
       "      <td>nigahiga</td>\n",
       "      <td>24</td>\n",
       "      <td>2017-11-12T18:01:41.000Z</td>\n",
       "      <td>ryan|\"higa\"|\"higatv\"|\"nigahiga\"|\"i dare you\"|\"...</td>\n",
       "      <td>2095828</td>\n",
       "      <td>132239</td>\n",
       "      <td>1989</td>\n",
       "      <td>17518</td>\n",
       "      <td>https://i.ytimg.com/vi/d380meD0W0M/default.jpg</td>\n",
       "      <td>False</td>\n",
       "      <td>False</td>\n",
       "      <td>False</td>\n",
       "      <td>I know it's been a while since we did this sho...</td>\n",
       "    </tr>\n",
       "    <tr>\n",
       "      <td>4</td>\n",
       "      <td>2Vv-BfVoq4g</td>\n",
       "      <td>2017-11-14</td>\n",
       "      <td>Ed Sheeran - Perfect (Official Music Video)</td>\n",
       "      <td>Ed Sheeran</td>\n",
       "      <td>10</td>\n",
       "      <td>2017-11-09T11:04:14.000Z</td>\n",
       "      <td>edsheeran|\"ed sheeran\"|\"acoustic\"|\"live\"|\"cove...</td>\n",
       "      <td>33523622</td>\n",
       "      <td>1634130</td>\n",
       "      <td>21082</td>\n",
       "      <td>85067</td>\n",
       "      <td>https://i.ytimg.com/vi/2Vv-BfVoq4g/default.jpg</td>\n",
       "      <td>False</td>\n",
       "      <td>False</td>\n",
       "      <td>False</td>\n",
       "      <td>🎧: https://ad.gt/yt-perfect\\n💰: https://atlant...</td>\n",
       "    </tr>\n",
       "  </tbody>\n",
       "</table>\n",
       "</div>"
      ],
      "text/plain": [
       "      video_id trending_date  \\\n",
       "0  n1WpP7iowLc    2017-11-14   \n",
       "1  0dBIkQ4Mz1M    2017-11-14   \n",
       "2  5qpjK5DgCt4    2017-11-14   \n",
       "3  d380meD0W0M    2017-11-14   \n",
       "4  2Vv-BfVoq4g    2017-11-14   \n",
       "\n",
       "                                               title channel_title  \\\n",
       "0         Eminem - Walk On Water (Audio) ft. Beyoncé    EminemVEVO   \n",
       "1                      PLUSH - Bad Unboxing Fan Mail     iDubbbzTV   \n",
       "2  Racist Superman | Rudy Mancuso, King Bach & Le...  Rudy Mancuso   \n",
       "3                           I Dare You: GOING BALD!?      nigahiga   \n",
       "4        Ed Sheeran - Perfect (Official Music Video)    Ed Sheeran   \n",
       "\n",
       "   category_id              publish_time  \\\n",
       "0           10  2017-11-10T17:00:03.000Z   \n",
       "1           23  2017-11-13T17:00:00.000Z   \n",
       "2           23  2017-11-12T19:05:24.000Z   \n",
       "3           24  2017-11-12T18:01:41.000Z   \n",
       "4           10  2017-11-09T11:04:14.000Z   \n",
       "\n",
       "                                                tags     views    likes  \\\n",
       "0  Eminem|\"Walk\"|\"On\"|\"Water\"|\"Aftermath/Shady/In...  17158579   787425   \n",
       "1  plush|\"bad unboxing\"|\"unboxing\"|\"fan mail\"|\"id...   1014651   127794   \n",
       "2  racist superman|\"rudy\"|\"mancuso\"|\"king\"|\"bach\"...   3191434   146035   \n",
       "3  ryan|\"higa\"|\"higatv\"|\"nigahiga\"|\"i dare you\"|\"...   2095828   132239   \n",
       "4  edsheeran|\"ed sheeran\"|\"acoustic\"|\"live\"|\"cove...  33523622  1634130   \n",
       "\n",
       "   dislikes  comment_count                                  thumbnail_link  \\\n",
       "0     43420         125882  https://i.ytimg.com/vi/n1WpP7iowLc/default.jpg   \n",
       "1      1688          13030  https://i.ytimg.com/vi/0dBIkQ4Mz1M/default.jpg   \n",
       "2      5339           8181  https://i.ytimg.com/vi/5qpjK5DgCt4/default.jpg   \n",
       "3      1989          17518  https://i.ytimg.com/vi/d380meD0W0M/default.jpg   \n",
       "4     21082          85067  https://i.ytimg.com/vi/2Vv-BfVoq4g/default.jpg   \n",
       "\n",
       "   comments_disabled  ratings_disabled  video_error_or_removed  \\\n",
       "0              False             False                   False   \n",
       "1              False             False                   False   \n",
       "2              False             False                   False   \n",
       "3              False             False                   False   \n",
       "4              False             False                   False   \n",
       "\n",
       "                                         description  \n",
       "0  Eminem's new track Walk on Water ft. Beyoncé i...  \n",
       "1  STill got a lot of packages. Probably will las...  \n",
       "2  WATCH MY PREVIOUS VIDEO ▶ \\n\\nSUBSCRIBE ► http...  \n",
       "3  I know it's been a while since we did this sho...  \n",
       "4  🎧: https://ad.gt/yt-perfect\\n💰: https://atlant...  "
      ]
     },
     "execution_count": 5,
     "metadata": {},
     "output_type": "execute_result"
    }
   ],
   "source": [
    "dfCAvideos.head()"
   ]
  },
  {
   "cell_type": "code",
   "execution_count": 6,
   "metadata": {},
   "outputs": [
    {
     "data": {
      "text/plain": [
       "(40881, 16)"
      ]
     },
     "execution_count": 6,
     "metadata": {},
     "output_type": "execute_result"
    }
   ],
   "source": [
    "dfCAvideos.shape"
   ]
  },
  {
   "cell_type": "markdown",
   "metadata": {},
   "source": [
    "Berdasarkan pengecekan data video dari region Canada memiliki dimensi <b>40881 baris x 16 kolom</b>."
   ]
  },
  {
   "cell_type": "markdown",
   "metadata": {},
   "source": [
    "## DATA KATEGORI VIDEO REGION CANADA\n",
    "Berikut adalah data kategori video region Canada setelah diubah menjadi dataframe :"
   ]
  },
  {
   "cell_type": "code",
   "execution_count": 7,
   "metadata": {},
   "outputs": [
    {
     "data": {
      "text/html": [
       "<div>\n",
       "<style scoped>\n",
       "    .dataframe tbody tr th:only-of-type {\n",
       "        vertical-align: middle;\n",
       "    }\n",
       "\n",
       "    .dataframe tbody tr th {\n",
       "        vertical-align: top;\n",
       "    }\n",
       "\n",
       "    .dataframe thead th {\n",
       "        text-align: right;\n",
       "    }\n",
       "</style>\n",
       "<table border=\"1\" class=\"dataframe\">\n",
       "  <thead>\n",
       "    <tr style=\"text-align: right;\">\n",
       "      <th></th>\n",
       "      <th>id</th>\n",
       "      <th>category</th>\n",
       "    </tr>\n",
       "  </thead>\n",
       "  <tbody>\n",
       "    <tr>\n",
       "      <td>0</td>\n",
       "      <td>1</td>\n",
       "      <td>Film &amp; Animation</td>\n",
       "    </tr>\n",
       "    <tr>\n",
       "      <td>1</td>\n",
       "      <td>2</td>\n",
       "      <td>Autos &amp; Vehicles</td>\n",
       "    </tr>\n",
       "    <tr>\n",
       "      <td>2</td>\n",
       "      <td>10</td>\n",
       "      <td>Music</td>\n",
       "    </tr>\n",
       "    <tr>\n",
       "      <td>3</td>\n",
       "      <td>15</td>\n",
       "      <td>Pets &amp; Animals</td>\n",
       "    </tr>\n",
       "    <tr>\n",
       "      <td>4</td>\n",
       "      <td>17</td>\n",
       "      <td>Sports</td>\n",
       "    </tr>\n",
       "    <tr>\n",
       "      <td>5</td>\n",
       "      <td>19</td>\n",
       "      <td>Travel &amp; Events</td>\n",
       "    </tr>\n",
       "    <tr>\n",
       "      <td>6</td>\n",
       "      <td>20</td>\n",
       "      <td>Gaming</td>\n",
       "    </tr>\n",
       "    <tr>\n",
       "      <td>7</td>\n",
       "      <td>22</td>\n",
       "      <td>People &amp; Blogs</td>\n",
       "    </tr>\n",
       "    <tr>\n",
       "      <td>8</td>\n",
       "      <td>23</td>\n",
       "      <td>Comedy</td>\n",
       "    </tr>\n",
       "    <tr>\n",
       "      <td>9</td>\n",
       "      <td>24</td>\n",
       "      <td>Entertainment</td>\n",
       "    </tr>\n",
       "    <tr>\n",
       "      <td>10</td>\n",
       "      <td>25</td>\n",
       "      <td>News &amp; Politics</td>\n",
       "    </tr>\n",
       "    <tr>\n",
       "      <td>11</td>\n",
       "      <td>26</td>\n",
       "      <td>Howto &amp; Style</td>\n",
       "    </tr>\n",
       "    <tr>\n",
       "      <td>12</td>\n",
       "      <td>27</td>\n",
       "      <td>Education</td>\n",
       "    </tr>\n",
       "    <tr>\n",
       "      <td>13</td>\n",
       "      <td>28</td>\n",
       "      <td>Science &amp; Technology</td>\n",
       "    </tr>\n",
       "    <tr>\n",
       "      <td>14</td>\n",
       "      <td>29</td>\n",
       "      <td>Nonprofits &amp; Activism</td>\n",
       "    </tr>\n",
       "    <tr>\n",
       "      <td>15</td>\n",
       "      <td>30</td>\n",
       "      <td>Movies</td>\n",
       "    </tr>\n",
       "    <tr>\n",
       "      <td>16</td>\n",
       "      <td>43</td>\n",
       "      <td>Shows</td>\n",
       "    </tr>\n",
       "  </tbody>\n",
       "</table>\n",
       "</div>"
      ],
      "text/plain": [
       "    id               category\n",
       "0    1       Film & Animation\n",
       "1    2       Autos & Vehicles\n",
       "2   10                  Music\n",
       "3   15         Pets & Animals\n",
       "4   17                 Sports\n",
       "5   19        Travel & Events\n",
       "6   20                 Gaming\n",
       "7   22         People & Blogs\n",
       "8   23                 Comedy\n",
       "9   24          Entertainment\n",
       "10  25        News & Politics\n",
       "11  26          Howto & Style\n",
       "12  27              Education\n",
       "13  28   Science & Technology\n",
       "14  29  Nonprofits & Activism\n",
       "15  30                 Movies\n",
       "16  43                  Shows"
      ]
     },
     "execution_count": 7,
     "metadata": {},
     "output_type": "execute_result"
    }
   ],
   "source": [
    "dfCAcategory"
   ]
  },
  {
   "cell_type": "code",
   "execution_count": 8,
   "metadata": {},
   "outputs": [
    {
     "data": {
      "text/plain": [
       "(17, 2)"
      ]
     },
     "execution_count": 8,
     "metadata": {},
     "output_type": "execute_result"
    }
   ],
   "source": [
    "dfCAcategory.shape"
   ]
  },
  {
   "cell_type": "markdown",
   "metadata": {},
   "source": [
    "Berdasarkan pengecekan data kategori region Canada memiliki dimensi <b>31 baris x 2 kolom</b>."
   ]
  },
  {
   "cell_type": "markdown",
   "metadata": {},
   "source": [
    "<b>------------------------------------------------------------------------------------------------------------------------------------------------------------------------------------------------------------------------------------------------------------------------------------------------------------------------------------------------------------------------------------------------------------------------------------</b>"
   ]
  },
  {
   "cell_type": "markdown",
   "metadata": {},
   "source": [
    "## A. STATISTIK DARI SETIAP KATEGORI YANG TERDAPAT DI DATAFRAME VIDEOS CANADA\n",
    "Kita perlu mengetahui statistik berikut untuk setiap kategori :\n",
    "#### 1. Data tertinggi, terendah, dan rata-rata viewer\n",
    "#### 2. Data tertinggi, terendah, dan rata-rata likes\n",
    "#### 3. Data tertinggi, terendah, dan rata-rata dislikes\n",
    "#### 5. Data tertinggi, terendah, dan rata-rata jumlah komentar"
   ]
  },
  {
   "cell_type": "markdown",
   "metadata": {},
   "source": [
    "Di sini kita akan menemukan statistik data video dari region Canada menggunakan list <b>gCAvideo</b> yang mana adalah list di mana video kelompokkan berdasarkan id kategori.<br/>\n",
    "\n",
    "Untuk menemukan rata-rata digunakan fungsi <b>.max()</b> pada data grup id kategori yang diinginkan. Untuk menemukan value tertinggi digunakan <b>.max()</b> dan untuk menemukan value terkecil digunakan <b>.min()</b>"
   ]
  },
  {
   "cell_type": "code",
   "execution_count": 9,
   "metadata": {},
   "outputs": [
    {
     "data": {
      "text/plain": [
       "array([ 1,  2, 10, 15, 17, 19, 20, 22, 23, 24, 25, 26, 27, 28, 29, 30, 43],\n",
       "      dtype=int64)"
      ]
     },
     "execution_count": 9,
     "metadata": {},
     "output_type": "execute_result"
    }
   ],
   "source": [
    "# mengelompokan berdasarkan id kategori\n",
    "gCAvideo = dfCAvideos.groupby('category_id')\n",
    "\n",
    "# memasukkan id kategori ke dalam bentuk array untuk digunakan dalam eksplorasi\n",
    "a = dfCAvideos.category_id.unique()\n",
    "a.sort(axis=0)\n",
    "a"
   ]
  },
  {
   "cell_type": "markdown",
   "metadata": {},
   "source": [
    "### 1A. Data tertinggi, terendah, dan rata-rata viewer Canada"
   ]
  },
  {
   "cell_type": "code",
   "execution_count": 10,
   "metadata": {},
   "outputs": [],
   "source": [
    "# memasukkan data ke dalam list\n",
    "data_view_ca = {\n",
    "    \n",
    "    # a adalah hasil sorting array saat menemukan value yang unique dari id kategori data video region Canada\n",
    "    'id' : a,\n",
    "    #penonton tertinggi\n",
    "    'highest_views':[gCAvideo.get_group(items)['views'].max() for items in dfCAcategory['id']],\n",
    "    \n",
    "    #penonton terendah\n",
    "    'lowest_views':[gCAvideo.get_group(items)['views'].min() for items in dfCAcategory['id']],\n",
    "    \n",
    "    #penonton rata-rata\n",
    "    'average_views':[gCAvideo.get_group(items)['views'].mean() for items in dfCAcategory['id']]}\n",
    "\n",
    "dfViewCA = pd.DataFrame(data_view_ca)"
   ]
  },
  {
   "cell_type": "code",
   "execution_count": 11,
   "metadata": {
    "scrolled": true
   },
   "outputs": [
    {
     "name": "stdout",
     "output_type": "stream",
     "text": [
      "\n",
      "DATA VIEWER SETIAP KATEGORI DI REGION CANADA\n"
     ]
    },
    {
     "data": {
      "text/html": [
       "<div>\n",
       "<style scoped>\n",
       "    .dataframe tbody tr th:only-of-type {\n",
       "        vertical-align: middle;\n",
       "    }\n",
       "\n",
       "    .dataframe tbody tr th {\n",
       "        vertical-align: top;\n",
       "    }\n",
       "\n",
       "    .dataframe thead th {\n",
       "        text-align: right;\n",
       "    }\n",
       "</style>\n",
       "<table border=\"1\" class=\"dataframe\">\n",
       "  <thead>\n",
       "    <tr style=\"text-align: right;\">\n",
       "      <th></th>\n",
       "      <th>id</th>\n",
       "      <th>category</th>\n",
       "      <th>highest_views</th>\n",
       "      <th>lowest_views</th>\n",
       "      <th>average_views</th>\n",
       "    </tr>\n",
       "  </thead>\n",
       "  <tbody>\n",
       "    <tr>\n",
       "      <td>0</td>\n",
       "      <td>1</td>\n",
       "      <td>Film &amp; Animation</td>\n",
       "      <td>27696924</td>\n",
       "      <td>2274</td>\n",
       "      <td>1426728.565049</td>\n",
       "    </tr>\n",
       "    <tr>\n",
       "      <td>1</td>\n",
       "      <td>2</td>\n",
       "      <td>Autos &amp; Vehicles</td>\n",
       "      <td>11004698</td>\n",
       "      <td>3059</td>\n",
       "      <td>566759.416431</td>\n",
       "    </tr>\n",
       "    <tr>\n",
       "      <td>2</td>\n",
       "      <td>10</td>\n",
       "      <td>Music</td>\n",
       "      <td>98938809</td>\n",
       "      <td>3201</td>\n",
       "      <td>3532524.844278</td>\n",
       "    </tr>\n",
       "    <tr>\n",
       "      <td>3</td>\n",
       "      <td>15</td>\n",
       "      <td>Pets &amp; Animals</td>\n",
       "      <td>5954189</td>\n",
       "      <td>8171</td>\n",
       "      <td>638461.173442</td>\n",
       "    </tr>\n",
       "    <tr>\n",
       "      <td>4</td>\n",
       "      <td>17</td>\n",
       "      <td>Sports</td>\n",
       "      <td>24117244</td>\n",
       "      <td>1023</td>\n",
       "      <td>1075583.849300</td>\n",
       "    </tr>\n",
       "    <tr>\n",
       "      <td>5</td>\n",
       "      <td>19</td>\n",
       "      <td>Travel &amp; Events</td>\n",
       "      <td>4169455</td>\n",
       "      <td>3144</td>\n",
       "      <td>366701.408163</td>\n",
       "    </tr>\n",
       "    <tr>\n",
       "      <td>6</td>\n",
       "      <td>20</td>\n",
       "      <td>Gaming</td>\n",
       "      <td>14589314</td>\n",
       "      <td>3494</td>\n",
       "      <td>923759.215030</td>\n",
       "    </tr>\n",
       "    <tr>\n",
       "      <td>7</td>\n",
       "      <td>22</td>\n",
       "      <td>People &amp; Blogs</td>\n",
       "      <td>51243149</td>\n",
       "      <td>1187</td>\n",
       "      <td>786413.623873</td>\n",
       "    </tr>\n",
       "    <tr>\n",
       "      <td>8</td>\n",
       "      <td>23</td>\n",
       "      <td>Comedy</td>\n",
       "      <td>14228882</td>\n",
       "      <td>1295</td>\n",
       "      <td>982888.625762</td>\n",
       "    </tr>\n",
       "    <tr>\n",
       "      <td>9</td>\n",
       "      <td>24</td>\n",
       "      <td>Entertainment</td>\n",
       "      <td>137843120</td>\n",
       "      <td>733</td>\n",
       "      <td>1016371.683072</td>\n",
       "    </tr>\n",
       "    <tr>\n",
       "      <td>10</td>\n",
       "      <td>25</td>\n",
       "      <td>News &amp; Politics</td>\n",
       "      <td>11510500</td>\n",
       "      <td>1000</td>\n",
       "      <td>388220.736475</td>\n",
       "    </tr>\n",
       "    <tr>\n",
       "      <td>11</td>\n",
       "      <td>26</td>\n",
       "      <td>Howto &amp; Style</td>\n",
       "      <td>35696481</td>\n",
       "      <td>3564</td>\n",
       "      <td>782683.911809</td>\n",
       "    </tr>\n",
       "    <tr>\n",
       "      <td>12</td>\n",
       "      <td>27</td>\n",
       "      <td>Education</td>\n",
       "      <td>12100921</td>\n",
       "      <td>1141</td>\n",
       "      <td>536602.767911</td>\n",
       "    </tr>\n",
       "    <tr>\n",
       "      <td>13</td>\n",
       "      <td>28</td>\n",
       "      <td>Science &amp; Technology</td>\n",
       "      <td>36778884</td>\n",
       "      <td>3933</td>\n",
       "      <td>1233844.520346</td>\n",
       "    </tr>\n",
       "    <tr>\n",
       "      <td>14</td>\n",
       "      <td>29</td>\n",
       "      <td>Nonprofits &amp; Activism</td>\n",
       "      <td>22387656</td>\n",
       "      <td>1898</td>\n",
       "      <td>1562184.094595</td>\n",
       "    </tr>\n",
       "    <tr>\n",
       "      <td>15</td>\n",
       "      <td>30</td>\n",
       "      <td>Movies</td>\n",
       "      <td>5661965</td>\n",
       "      <td>225528</td>\n",
       "      <td>2853415.000000</td>\n",
       "    </tr>\n",
       "    <tr>\n",
       "      <td>16</td>\n",
       "      <td>43</td>\n",
       "      <td>Shows</td>\n",
       "      <td>1386464</td>\n",
       "      <td>42240</td>\n",
       "      <td>577012.161290</td>\n",
       "    </tr>\n",
       "  </tbody>\n",
       "</table>\n",
       "</div>"
      ],
      "text/plain": [
       "    id               category  highest_views  lowest_views  average_views\n",
       "0    1       Film & Animation       27696924          2274 1426728.565049\n",
       "1    2       Autos & Vehicles       11004698          3059  566759.416431\n",
       "2   10                  Music       98938809          3201 3532524.844278\n",
       "3   15         Pets & Animals        5954189          8171  638461.173442\n",
       "4   17                 Sports       24117244          1023 1075583.849300\n",
       "5   19        Travel & Events        4169455          3144  366701.408163\n",
       "6   20                 Gaming       14589314          3494  923759.215030\n",
       "7   22         People & Blogs       51243149          1187  786413.623873\n",
       "8   23                 Comedy       14228882          1295  982888.625762\n",
       "9   24          Entertainment      137843120           733 1016371.683072\n",
       "10  25        News & Politics       11510500          1000  388220.736475\n",
       "11  26          Howto & Style       35696481          3564  782683.911809\n",
       "12  27              Education       12100921          1141  536602.767911\n",
       "13  28   Science & Technology       36778884          3933 1233844.520346\n",
       "14  29  Nonprofits & Activism       22387656          1898 1562184.094595\n",
       "15  30                 Movies        5661965        225528 2853415.000000\n",
       "16  43                  Shows        1386464         42240  577012.161290"
      ]
     },
     "execution_count": 11,
     "metadata": {},
     "output_type": "execute_result"
    }
   ],
   "source": [
    "dfViewCA = pd.merge(dfCAcategory,dfViewCA,on=\"id\")\n",
    "\n",
    "print(\"\")\n",
    "print(\"DATA VIEWER SETIAP KATEGORI DI REGION CANADA\")\n",
    "dfViewCA"
   ]
  },
  {
   "cell_type": "markdown",
   "metadata": {},
   "source": [
    "### 2A. Data tertinggi, terendah, dan rata-rata likes Canada"
   ]
  },
  {
   "cell_type": "code",
   "execution_count": 12,
   "metadata": {},
   "outputs": [],
   "source": [
    "# memasukkan data ke dalam list\n",
    "data_likes_ca = {\n",
    "    \n",
    "    # a adalah hasil sorting array saat menemukan value yang unique dari id kategori data video region Canada\n",
    "    'id' : a,\n",
    "    'highest_likes':[gCAvideo.get_group(items)['likes'].max() for items in dfCAcategory['id']],\n",
    "    'lowest_likes':[gCAvideo.get_group(items)['likes'].min() for items in dfCAcategory['id']],\n",
    "    'average_likes':[gCAvideo.get_group(items)['likes'].mean() for items in dfCAcategory['id']\n",
    "                   ]}\n",
    "\n",
    "dfLikesCA = pd.DataFrame(data_likes_ca)"
   ]
  },
  {
   "cell_type": "code",
   "execution_count": 13,
   "metadata": {},
   "outputs": [
    {
     "name": "stdout",
     "output_type": "stream",
     "text": [
      "\n",
      "DATA LIKES SETIAP KATEGORI DI REGION CANADA\n"
     ]
    },
    {
     "data": {
      "text/html": [
       "<div>\n",
       "<style scoped>\n",
       "    .dataframe tbody tr th:only-of-type {\n",
       "        vertical-align: middle;\n",
       "    }\n",
       "\n",
       "    .dataframe tbody tr th {\n",
       "        vertical-align: top;\n",
       "    }\n",
       "\n",
       "    .dataframe thead th {\n",
       "        text-align: right;\n",
       "    }\n",
       "</style>\n",
       "<table border=\"1\" class=\"dataframe\">\n",
       "  <thead>\n",
       "    <tr style=\"text-align: right;\">\n",
       "      <th></th>\n",
       "      <th>id</th>\n",
       "      <th>category</th>\n",
       "      <th>highest_likes</th>\n",
       "      <th>lowest_likes</th>\n",
       "      <th>average_likes</th>\n",
       "    </tr>\n",
       "  </thead>\n",
       "  <tbody>\n",
       "    <tr>\n",
       "      <td>0</td>\n",
       "      <td>1</td>\n",
       "      <td>Film &amp; Animation</td>\n",
       "      <td>532660</td>\n",
       "      <td>0</td>\n",
       "      <td>37767.962621</td>\n",
       "    </tr>\n",
       "    <tr>\n",
       "      <td>1</td>\n",
       "      <td>2</td>\n",
       "      <td>Autos &amp; Vehicles</td>\n",
       "      <td>86125</td>\n",
       "      <td>40</td>\n",
       "      <td>13405.422096</td>\n",
       "    </tr>\n",
       "    <tr>\n",
       "      <td>2</td>\n",
       "      <td>10</td>\n",
       "      <td>Music</td>\n",
       "      <td>5053338</td>\n",
       "      <td>0</td>\n",
       "      <td>151285.856339</td>\n",
       "    </tr>\n",
       "    <tr>\n",
       "      <td>3</td>\n",
       "      <td>15</td>\n",
       "      <td>Pets &amp; Animals</td>\n",
       "      <td>193092</td>\n",
       "      <td>215</td>\n",
       "      <td>23931.533875</td>\n",
       "    </tr>\n",
       "    <tr>\n",
       "      <td>4</td>\n",
       "      <td>17</td>\n",
       "      <td>Sports</td>\n",
       "      <td>926660</td>\n",
       "      <td>0</td>\n",
       "      <td>21330.972013</td>\n",
       "    </tr>\n",
       "    <tr>\n",
       "      <td>5</td>\n",
       "      <td>19</td>\n",
       "      <td>Travel &amp; Events</td>\n",
       "      <td>135057</td>\n",
       "      <td>4</td>\n",
       "      <td>9568.658163</td>\n",
       "    </tr>\n",
       "    <tr>\n",
       "      <td>6</td>\n",
       "      <td>20</td>\n",
       "      <td>Gaming</td>\n",
       "      <td>340240</td>\n",
       "      <td>0</td>\n",
       "      <td>38487.017857</td>\n",
       "    </tr>\n",
       "    <tr>\n",
       "      <td>7</td>\n",
       "      <td>22</td>\n",
       "      <td>People &amp; Blogs</td>\n",
       "      <td>1967910</td>\n",
       "      <td>0</td>\n",
       "      <td>25673.219001</td>\n",
       "    </tr>\n",
       "    <tr>\n",
       "      <td>8</td>\n",
       "      <td>23</td>\n",
       "      <td>Comedy</td>\n",
       "      <td>831516</td>\n",
       "      <td>4</td>\n",
       "      <td>51960.422475</td>\n",
       "    </tr>\n",
       "    <tr>\n",
       "      <td>9</td>\n",
       "      <td>24</td>\n",
       "      <td>Entertainment</td>\n",
       "      <td>3014479</td>\n",
       "      <td>0</td>\n",
       "      <td>28789.341536</td>\n",
       "    </tr>\n",
       "    <tr>\n",
       "      <td>10</td>\n",
       "      <td>25</td>\n",
       "      <td>News &amp; Politics</td>\n",
       "      <td>552150</td>\n",
       "      <td>0</td>\n",
       "      <td>7863.682135</td>\n",
       "    </tr>\n",
       "    <tr>\n",
       "      <td>11</td>\n",
       "      <td>26</td>\n",
       "      <td>Howto &amp; Style</td>\n",
       "      <td>443219</td>\n",
       "      <td>0</td>\n",
       "      <td>25502.293971</td>\n",
       "    </tr>\n",
       "    <tr>\n",
       "      <td>12</td>\n",
       "      <td>27</td>\n",
       "      <td>Education</td>\n",
       "      <td>282663</td>\n",
       "      <td>0</td>\n",
       "      <td>21162.867810</td>\n",
       "    </tr>\n",
       "    <tr>\n",
       "      <td>13</td>\n",
       "      <td>28</td>\n",
       "      <td>Science &amp; Technology</td>\n",
       "      <td>521873</td>\n",
       "      <td>0</td>\n",
       "      <td>37068.916017</td>\n",
       "    </tr>\n",
       "    <tr>\n",
       "      <td>14</td>\n",
       "      <td>29</td>\n",
       "      <td>Nonprofits &amp; Activism</td>\n",
       "      <td>1919980</td>\n",
       "      <td>0</td>\n",
       "      <td>138413.689189</td>\n",
       "    </tr>\n",
       "    <tr>\n",
       "      <td>15</td>\n",
       "      <td>30</td>\n",
       "      <td>Movies</td>\n",
       "      <td>67232</td>\n",
       "      <td>9336</td>\n",
       "      <td>42150.833333</td>\n",
       "    </tr>\n",
       "    <tr>\n",
       "      <td>16</td>\n",
       "      <td>43</td>\n",
       "      <td>Shows</td>\n",
       "      <td>25196</td>\n",
       "      <td>122</td>\n",
       "      <td>4752.120968</td>\n",
       "    </tr>\n",
       "  </tbody>\n",
       "</table>\n",
       "</div>"
      ],
      "text/plain": [
       "    id               category  highest_likes  lowest_likes  average_likes\n",
       "0    1       Film & Animation         532660             0   37767.962621\n",
       "1    2       Autos & Vehicles          86125            40   13405.422096\n",
       "2   10                  Music        5053338             0  151285.856339\n",
       "3   15         Pets & Animals         193092           215   23931.533875\n",
       "4   17                 Sports         926660             0   21330.972013\n",
       "5   19        Travel & Events         135057             4    9568.658163\n",
       "6   20                 Gaming         340240             0   38487.017857\n",
       "7   22         People & Blogs        1967910             0   25673.219001\n",
       "8   23                 Comedy         831516             4   51960.422475\n",
       "9   24          Entertainment        3014479             0   28789.341536\n",
       "10  25        News & Politics         552150             0    7863.682135\n",
       "11  26          Howto & Style         443219             0   25502.293971\n",
       "12  27              Education         282663             0   21162.867810\n",
       "13  28   Science & Technology         521873             0   37068.916017\n",
       "14  29  Nonprofits & Activism        1919980             0  138413.689189\n",
       "15  30                 Movies          67232          9336   42150.833333\n",
       "16  43                  Shows          25196           122    4752.120968"
      ]
     },
     "execution_count": 13,
     "metadata": {},
     "output_type": "execute_result"
    }
   ],
   "source": [
    "dfLikesCA = pd.merge(dfCAcategory,dfLikesCA,on=\"id\")\n",
    "\n",
    "print(\"\")\n",
    "print(\"DATA LIKES SETIAP KATEGORI DI REGION CANADA\")\n",
    "dfLikesCA"
   ]
  },
  {
   "cell_type": "markdown",
   "metadata": {},
   "source": [
    "### 3B. Data tertinggi, terendah, dan rata-rata dislikes Canada"
   ]
  },
  {
   "cell_type": "code",
   "execution_count": 14,
   "metadata": {},
   "outputs": [],
   "source": [
    "# memasukkan data ke dalam list\n",
    "data_dislikes_ca = {\n",
    "    \n",
    "    # a adalah hasil sorting array saat menemukan value yang unique dari id kategori data video region Canada\n",
    "    'id' : a,\n",
    "    'highest_dislikes':[gCAvideo.get_group(items)['dislikes'].max() for items in dfCAcategory['id']],\n",
    "    'lowest_dislikes':[gCAvideo.get_group(items)['dislikes'].min() for items in dfCAcategory['id']],\n",
    "    'average_dislikes':[gCAvideo.get_group(items)['dislikes'].mean() for items in dfCAcategory['id']\n",
    "                   ]}\n",
    "\n",
    "dfDislikesCA = pd.DataFrame(data_dislikes_ca)"
   ]
  },
  {
   "cell_type": "code",
   "execution_count": 15,
   "metadata": {},
   "outputs": [
    {
     "name": "stdout",
     "output_type": "stream",
     "text": [
      "\n",
      "DATA DISLIKES SETIAP KATEGORI DI REGION CANADA\n"
     ]
    },
    {
     "data": {
      "text/html": [
       "<div>\n",
       "<style scoped>\n",
       "    .dataframe tbody tr th:only-of-type {\n",
       "        vertical-align: middle;\n",
       "    }\n",
       "\n",
       "    .dataframe tbody tr th {\n",
       "        vertical-align: top;\n",
       "    }\n",
       "\n",
       "    .dataframe thead th {\n",
       "        text-align: right;\n",
       "    }\n",
       "</style>\n",
       "<table border=\"1\" class=\"dataframe\">\n",
       "  <thead>\n",
       "    <tr style=\"text-align: right;\">\n",
       "      <th></th>\n",
       "      <th>id</th>\n",
       "      <th>category</th>\n",
       "      <th>highest_dislikes</th>\n",
       "      <th>lowest_dislikes</th>\n",
       "      <th>average_dislikes</th>\n",
       "    </tr>\n",
       "  </thead>\n",
       "  <tbody>\n",
       "    <tr>\n",
       "      <td>0</td>\n",
       "      <td>1</td>\n",
       "      <td>Film &amp; Animation</td>\n",
       "      <td>60025</td>\n",
       "      <td>0</td>\n",
       "      <td>1510.319903</td>\n",
       "    </tr>\n",
       "    <tr>\n",
       "      <td>1</td>\n",
       "      <td>2</td>\n",
       "      <td>Autos &amp; Vehicles</td>\n",
       "      <td>12290</td>\n",
       "      <td>1</td>\n",
       "      <td>560.271955</td>\n",
       "    </tr>\n",
       "    <tr>\n",
       "      <td>2</td>\n",
       "      <td>10</td>\n",
       "      <td>Music</td>\n",
       "      <td>165854</td>\n",
       "      <td>0</td>\n",
       "      <td>5922.859823</td>\n",
       "    </tr>\n",
       "    <tr>\n",
       "      <td>3</td>\n",
       "      <td>15</td>\n",
       "      <td>Pets &amp; Animals</td>\n",
       "      <td>7732</td>\n",
       "      <td>5</td>\n",
       "      <td>501.363144</td>\n",
       "    </tr>\n",
       "    <tr>\n",
       "      <td>4</td>\n",
       "      <td>17</td>\n",
       "      <td>Sports</td>\n",
       "      <td>164693</td>\n",
       "      <td>0</td>\n",
       "      <td>1179.177969</td>\n",
       "    </tr>\n",
       "    <tr>\n",
       "      <td>5</td>\n",
       "      <td>19</td>\n",
       "      <td>Travel &amp; Events</td>\n",
       "      <td>7688</td>\n",
       "      <td>0</td>\n",
       "      <td>331.278061</td>\n",
       "    </tr>\n",
       "    <tr>\n",
       "      <td>6</td>\n",
       "      <td>20</td>\n",
       "      <td>Gaming</td>\n",
       "      <td>174645</td>\n",
       "      <td>0</td>\n",
       "      <td>1820.596726</td>\n",
       "    </tr>\n",
       "    <tr>\n",
       "      <td>7</td>\n",
       "      <td>22</td>\n",
       "      <td>People &amp; Blogs</td>\n",
       "      <td>504340</td>\n",
       "      <td>0</td>\n",
       "      <td>2309.572716</td>\n",
       "    </tr>\n",
       "    <tr>\n",
       "      <td>8</td>\n",
       "      <td>23</td>\n",
       "      <td>Comedy</td>\n",
       "      <td>43698</td>\n",
       "      <td>0</td>\n",
       "      <td>1423.937185</td>\n",
       "    </tr>\n",
       "    <tr>\n",
       "      <td>9</td>\n",
       "      <td>24</td>\n",
       "      <td>Entertainment</td>\n",
       "      <td>1602383</td>\n",
       "      <td>0</td>\n",
       "      <td>1917.447253</td>\n",
       "    </tr>\n",
       "    <tr>\n",
       "      <td>10</td>\n",
       "      <td>25</td>\n",
       "      <td>News &amp; Politics</td>\n",
       "      <td>126649</td>\n",
       "      <td>0</td>\n",
       "      <td>784.813898</td>\n",
       "    </tr>\n",
       "    <tr>\n",
       "      <td>11</td>\n",
       "      <td>26</td>\n",
       "      <td>Howto &amp; Style</td>\n",
       "      <td>48163</td>\n",
       "      <td>0</td>\n",
       "      <td>862.242152</td>\n",
       "    </tr>\n",
       "    <tr>\n",
       "      <td>12</td>\n",
       "      <td>27</td>\n",
       "      <td>Education</td>\n",
       "      <td>13561</td>\n",
       "      <td>0</td>\n",
       "      <td>800.653885</td>\n",
       "    </tr>\n",
       "    <tr>\n",
       "      <td>13</td>\n",
       "      <td>28</td>\n",
       "      <td>Science &amp; Technology</td>\n",
       "      <td>45910</td>\n",
       "      <td>0</td>\n",
       "      <td>1550.781818</td>\n",
       "    </tr>\n",
       "    <tr>\n",
       "      <td>14</td>\n",
       "      <td>29</td>\n",
       "      <td>Nonprofits &amp; Activism</td>\n",
       "      <td>461660</td>\n",
       "      <td>0</td>\n",
       "      <td>31429.824324</td>\n",
       "    </tr>\n",
       "    <tr>\n",
       "      <td>15</td>\n",
       "      <td>30</td>\n",
       "      <td>Movies</td>\n",
       "      <td>3784</td>\n",
       "      <td>222</td>\n",
       "      <td>2046.666667</td>\n",
       "    </tr>\n",
       "    <tr>\n",
       "      <td>16</td>\n",
       "      <td>43</td>\n",
       "      <td>Shows</td>\n",
       "      <td>2864</td>\n",
       "      <td>38</td>\n",
       "      <td>971.258065</td>\n",
       "    </tr>\n",
       "  </tbody>\n",
       "</table>\n",
       "</div>"
      ],
      "text/plain": [
       "    id               category  highest_dislikes  lowest_dislikes  \\\n",
       "0    1       Film & Animation             60025                0   \n",
       "1    2       Autos & Vehicles             12290                1   \n",
       "2   10                  Music            165854                0   \n",
       "3   15         Pets & Animals              7732                5   \n",
       "4   17                 Sports            164693                0   \n",
       "5   19        Travel & Events              7688                0   \n",
       "6   20                 Gaming            174645                0   \n",
       "7   22         People & Blogs            504340                0   \n",
       "8   23                 Comedy             43698                0   \n",
       "9   24          Entertainment           1602383                0   \n",
       "10  25        News & Politics            126649                0   \n",
       "11  26          Howto & Style             48163                0   \n",
       "12  27              Education             13561                0   \n",
       "13  28   Science & Technology             45910                0   \n",
       "14  29  Nonprofits & Activism            461660                0   \n",
       "15  30                 Movies              3784              222   \n",
       "16  43                  Shows              2864               38   \n",
       "\n",
       "    average_dislikes  \n",
       "0        1510.319903  \n",
       "1         560.271955  \n",
       "2        5922.859823  \n",
       "3         501.363144  \n",
       "4        1179.177969  \n",
       "5         331.278061  \n",
       "6        1820.596726  \n",
       "7        2309.572716  \n",
       "8        1423.937185  \n",
       "9        1917.447253  \n",
       "10        784.813898  \n",
       "11        862.242152  \n",
       "12        800.653885  \n",
       "13       1550.781818  \n",
       "14      31429.824324  \n",
       "15       2046.666667  \n",
       "16        971.258065  "
      ]
     },
     "execution_count": 15,
     "metadata": {},
     "output_type": "execute_result"
    }
   ],
   "source": [
    "dfDislikesCA = pd.merge(dfCAcategory,dfDislikesCA,on=\"id\")\n",
    "\n",
    "print(\"\")\n",
    "print(\"DATA DISLIKES SETIAP KATEGORI DI REGION CANADA\")\n",
    "dfDislikesCA"
   ]
  },
  {
   "cell_type": "markdown",
   "metadata": {},
   "source": [
    "### 4B. Data tertinggi, terendah, dan rata-rata jumlah komentar Canada"
   ]
  },
  {
   "cell_type": "code",
   "execution_count": 16,
   "metadata": {},
   "outputs": [],
   "source": [
    "# memasukkan data ke dalam list\n",
    "data_comments_ca = {\n",
    "    # a adalah hasil sorting array saat menemukan value yang unique dari id kategori data video region Canada\n",
    "    'id' : a,\n",
    "    'highest_comments':[gCAvideo.get_group(items)['comment_count'].max() for items in dfCAcategory['id']],\n",
    "    'lowest_comments':[gCAvideo.get_group(items)['comment_count'].min() for items in dfCAcategory['id']],\n",
    "    'average_comments':[gCAvideo.get_group(items)['comment_count'].mean() for items in dfCAcategory['id']\n",
    "                   ]}\n",
    "\n",
    "dfCommentsCA = pd.DataFrame(data_comments_ca)"
   ]
  },
  {
   "cell_type": "code",
   "execution_count": 17,
   "metadata": {},
   "outputs": [
    {
     "name": "stdout",
     "output_type": "stream",
     "text": [
      "\n",
      "DATA COMMENTS SETIAP KATEGORI DI REGION CANADA\n"
     ]
    },
    {
     "data": {
      "text/html": [
       "<div>\n",
       "<style scoped>\n",
       "    .dataframe tbody tr th:only-of-type {\n",
       "        vertical-align: middle;\n",
       "    }\n",
       "\n",
       "    .dataframe tbody tr th {\n",
       "        vertical-align: top;\n",
       "    }\n",
       "\n",
       "    .dataframe thead th {\n",
       "        text-align: right;\n",
       "    }\n",
       "</style>\n",
       "<table border=\"1\" class=\"dataframe\">\n",
       "  <thead>\n",
       "    <tr style=\"text-align: right;\">\n",
       "      <th></th>\n",
       "      <th>id</th>\n",
       "      <th>category</th>\n",
       "      <th>highest_comments</th>\n",
       "      <th>lowest_comments</th>\n",
       "      <th>average_comments</th>\n",
       "    </tr>\n",
       "  </thead>\n",
       "  <tbody>\n",
       "    <tr>\n",
       "      <td>0</td>\n",
       "      <td>1</td>\n",
       "      <td>Film &amp; Animation</td>\n",
       "      <td>105587</td>\n",
       "      <td>0</td>\n",
       "      <td>4896.394660</td>\n",
       "    </tr>\n",
       "    <tr>\n",
       "      <td>1</td>\n",
       "      <td>2</td>\n",
       "      <td>Autos &amp; Vehicles</td>\n",
       "      <td>29574</td>\n",
       "      <td>0</td>\n",
       "      <td>2878.719547</td>\n",
       "    </tr>\n",
       "    <tr>\n",
       "      <td>2</td>\n",
       "      <td>10</td>\n",
       "      <td>Music</td>\n",
       "      <td>1114800</td>\n",
       "      <td>0</td>\n",
       "      <td>14053.940499</td>\n",
       "    </tr>\n",
       "    <tr>\n",
       "      <td>3</td>\n",
       "      <td>15</td>\n",
       "      <td>Pets &amp; Animals</td>\n",
       "      <td>45306</td>\n",
       "      <td>0</td>\n",
       "      <td>4941.837398</td>\n",
       "    </tr>\n",
       "    <tr>\n",
       "      <td>4</td>\n",
       "      <td>17</td>\n",
       "      <td>Sports</td>\n",
       "      <td>63560</td>\n",
       "      <td>0</td>\n",
       "      <td>2748.956584</td>\n",
       "    </tr>\n",
       "    <tr>\n",
       "      <td>5</td>\n",
       "      <td>19</td>\n",
       "      <td>Travel &amp; Events</td>\n",
       "      <td>13612</td>\n",
       "      <td>0</td>\n",
       "      <td>1556.002551</td>\n",
       "    </tr>\n",
       "    <tr>\n",
       "      <td>6</td>\n",
       "      <td>20</td>\n",
       "      <td>Gaming</td>\n",
       "      <td>122659</td>\n",
       "      <td>0</td>\n",
       "      <td>7191.136161</td>\n",
       "    </tr>\n",
       "    <tr>\n",
       "      <td>7</td>\n",
       "      <td>22</td>\n",
       "      <td>People &amp; Blogs</td>\n",
       "      <td>349112</td>\n",
       "      <td>0</td>\n",
       "      <td>4097.003898</td>\n",
       "    </tr>\n",
       "    <tr>\n",
       "      <td>8</td>\n",
       "      <td>23</td>\n",
       "      <td>Comedy</td>\n",
       "      <td>83116</td>\n",
       "      <td>0</td>\n",
       "      <td>5205.082428</td>\n",
       "    </tr>\n",
       "    <tr>\n",
       "      <td>9</td>\n",
       "      <td>24</td>\n",
       "      <td>Entertainment</td>\n",
       "      <td>827755</td>\n",
       "      <td>0</td>\n",
       "      <td>4112.187644</td>\n",
       "    </tr>\n",
       "    <tr>\n",
       "      <td>10</td>\n",
       "      <td>25</td>\n",
       "      <td>News &amp; Politics</td>\n",
       "      <td>64291</td>\n",
       "      <td>0</td>\n",
       "      <td>2226.445780</td>\n",
       "    </tr>\n",
       "    <tr>\n",
       "      <td>11</td>\n",
       "      <td>26</td>\n",
       "      <td>Howto &amp; Style</td>\n",
       "      <td>285909</td>\n",
       "      <td>0</td>\n",
       "      <td>4156.909317</td>\n",
       "    </tr>\n",
       "    <tr>\n",
       "      <td>12</td>\n",
       "      <td>27</td>\n",
       "      <td>Education</td>\n",
       "      <td>88591</td>\n",
       "      <td>0</td>\n",
       "      <td>2995.374369</td>\n",
       "    </tr>\n",
       "    <tr>\n",
       "      <td>13</td>\n",
       "      <td>28</td>\n",
       "      <td>Science &amp; Technology</td>\n",
       "      <td>162654</td>\n",
       "      <td>0</td>\n",
       "      <td>6241.748052</td>\n",
       "    </tr>\n",
       "    <tr>\n",
       "      <td>14</td>\n",
       "      <td>29</td>\n",
       "      <td>Nonprofits &amp; Activism</td>\n",
       "      <td>625010</td>\n",
       "      <td>0</td>\n",
       "      <td>43547.851351</td>\n",
       "    </tr>\n",
       "    <tr>\n",
       "      <td>15</td>\n",
       "      <td>30</td>\n",
       "      <td>Movies</td>\n",
       "      <td>3851</td>\n",
       "      <td>438</td>\n",
       "      <td>2329.833333</td>\n",
       "    </tr>\n",
       "    <tr>\n",
       "      <td>16</td>\n",
       "      <td>43</td>\n",
       "      <td>Shows</td>\n",
       "      <td>3628</td>\n",
       "      <td>27</td>\n",
       "      <td>622.927419</td>\n",
       "    </tr>\n",
       "  </tbody>\n",
       "</table>\n",
       "</div>"
      ],
      "text/plain": [
       "    id               category  highest_comments  lowest_comments  \\\n",
       "0    1       Film & Animation            105587                0   \n",
       "1    2       Autos & Vehicles             29574                0   \n",
       "2   10                  Music           1114800                0   \n",
       "3   15         Pets & Animals             45306                0   \n",
       "4   17                 Sports             63560                0   \n",
       "5   19        Travel & Events             13612                0   \n",
       "6   20                 Gaming            122659                0   \n",
       "7   22         People & Blogs            349112                0   \n",
       "8   23                 Comedy             83116                0   \n",
       "9   24          Entertainment            827755                0   \n",
       "10  25        News & Politics             64291                0   \n",
       "11  26          Howto & Style            285909                0   \n",
       "12  27              Education             88591                0   \n",
       "13  28   Science & Technology            162654                0   \n",
       "14  29  Nonprofits & Activism            625010                0   \n",
       "15  30                 Movies              3851              438   \n",
       "16  43                  Shows              3628               27   \n",
       "\n",
       "    average_comments  \n",
       "0        4896.394660  \n",
       "1        2878.719547  \n",
       "2       14053.940499  \n",
       "3        4941.837398  \n",
       "4        2748.956584  \n",
       "5        1556.002551  \n",
       "6        7191.136161  \n",
       "7        4097.003898  \n",
       "8        5205.082428  \n",
       "9        4112.187644  \n",
       "10       2226.445780  \n",
       "11       4156.909317  \n",
       "12       2995.374369  \n",
       "13       6241.748052  \n",
       "14      43547.851351  \n",
       "15       2329.833333  \n",
       "16        622.927419  "
      ]
     },
     "execution_count": 17,
     "metadata": {},
     "output_type": "execute_result"
    }
   ],
   "source": [
    "dfCommentsCA = pd.merge(dfCAcategory,dfCommentsCA,on=\"id\")\n",
    "\n",
    "print(\"\")\n",
    "print(\"DATA COMMENTS SETIAP KATEGORI DI REGION CANADA\")\n",
    "dfCommentsCA"
   ]
  },
  {
   "cell_type": "markdown",
   "metadata": {},
   "source": [
    "<b>------------------------------------------------------------------------------------------------------------------------------------------------------------------------------------------------------------------------------------------------------------------------------------------------------------------------------------------------------------------------------------------------------------------------------------</b>"
   ]
  },
  {
   "cell_type": "markdown",
   "metadata": {},
   "source": [
    "## B. BOXPLOTTING ABSOLUTE VALUE BERDASARKAN KATEGORI DATA VIDEO CANADA"
   ]
  },
  {
   "cell_type": "markdown",
   "metadata": {},
   "source": [
    "Berikut adalah data jumlah viewer region Canada apabila divisualisasikan dengan boxplot. Karena data terlalu beragam, outliernya terlalu tinggi dan tidak dapat dilihat dengan baik."
   ]
  },
  {
   "cell_type": "markdown",
   "metadata": {},
   "source": [
    "### 1B. Boxplotting Absolute Value Viewer Berdasarkan Kategori Data Video Canada"
   ]
  },
  {
   "cell_type": "code",
   "execution_count": 18,
   "metadata": {},
   "outputs": [],
   "source": [
    "# list jumlah views wilayah Canada berdasarkan array a\n",
    "data_view_ca_boxplot = [gCAvideo.get_group(items)['views'].values for items in a]"
   ]
  },
  {
   "cell_type": "code",
   "execution_count": 19,
   "metadata": {},
   "outputs": [
    {
     "data": {
      "text/plain": [
       "Text(0, 0.5, 'Jumlah Viewer')"
      ]
     },
     "execution_count": 19,
     "metadata": {},
     "output_type": "execute_result"
    },
    {
     "data": {
      "image/png": "[encoded data removed]",
      "text/plain": [
       "<Figure size 1080x1080 with 1 Axes>"
      ]
     },
     "metadata": {
      "needs_background": "light"
     },
     "output_type": "display_data"
    }
   ],
   "source": [
    "fig = plt.figure(1, figsize=(15, 15))\n",
    "\n",
    "# membuat axes\n",
    "ax = fig.add_subplot(111)\n",
    "\n",
    "# boxplot\n",
    "ax.boxplot(data_view_ca_boxplot)\n",
    "\n",
    "# penamaan x tick berdasarkan id kategori Canada\n",
    "ax.set_xticklabels(dfCAcategory['category'], rotation='vertical')\n",
    "\n",
    "# penamaan judul\n",
    "plt.title(\"ABSOLUTE VALUE VIEWER WILAYAH CANADA\", fontsize=14)\n",
    "\n",
    "# penamaan label\n",
    "plt.xlabel(\"ID Kategori\", fontsize=14)\n",
    "plt.ylabel(\"Jumlah Viewer\", fontsize=14)"
   ]
  },
  {
   "cell_type": "markdown",
   "metadata": {},
   "source": [
    "Karena setelah dilakukan boxplotting outlier terlihat terlalu banyak maka diputuskan untuk dicoba dilakukan outlier removal dengan metode z-score dan IQR pada salah satu kategori yaitu Entertainment yang mana ada di urutan 9 pada array a."
   ]
  },
  {
   "cell_type": "markdown",
   "metadata": {},
   "source": [
    "#### Testing Z-Score Viewer Salah Satu Kategori Video Canada Yaitu Entertainment"
   ]
  },
  {
   "cell_type": "code",
   "execution_count": 20,
   "metadata": {},
   "outputs": [
    {
     "data": {
      "text/html": [
       "<div>\n",
       "<style scoped>\n",
       "    .dataframe tbody tr th:only-of-type {\n",
       "        vertical-align: middle;\n",
       "    }\n",
       "\n",
       "    .dataframe tbody tr th {\n",
       "        vertical-align: top;\n",
       "    }\n",
       "\n",
       "    .dataframe thead th {\n",
       "        text-align: right;\n",
       "    }\n",
       "</style>\n",
       "<table border=\"1\" class=\"dataframe\">\n",
       "  <thead>\n",
       "    <tr style=\"text-align: right;\">\n",
       "      <th></th>\n",
       "      <th>id</th>\n",
       "      <th>viewer</th>\n",
       "    </tr>\n",
       "  </thead>\n",
       "  <tbody>\n",
       "    <tr>\n",
       "      <td>0</td>\n",
       "      <td>1</td>\n",
       "      <td>[158815, 308568, 1096327, 458964, 2736733, 264...</td>\n",
       "    </tr>\n",
       "    <tr>\n",
       "      <td>1</td>\n",
       "      <td>2</td>\n",
       "      <td>[116820, 374640, 19646, 214480, 37857, 166458,...</td>\n",
       "    </tr>\n",
       "    <tr>\n",
       "      <td>2</td>\n",
       "      <td>10</td>\n",
       "      <td>[17158579, 33523622, 5068229, 5718766, 178447,...</td>\n",
       "    </tr>\n",
       "    <tr>\n",
       "      <td>3</td>\n",
       "      <td>15</td>\n",
       "      <td>[207532, 152118, 128316, 195715, 132315, 17897...</td>\n",
       "    </tr>\n",
       "    <tr>\n",
       "      <td>4</td>\n",
       "      <td>17</td>\n",
       "      <td>[36311, 28992, 788935, 33167, 439507, 166818, ...</td>\n",
       "    </tr>\n",
       "    <tr>\n",
       "      <td>5</td>\n",
       "      <td>19</td>\n",
       "      <td>[325851, 141148, 161971, 212040, 148993, 57158...</td>\n",
       "    </tr>\n",
       "    <tr>\n",
       "      <td>6</td>\n",
       "      <td>20</td>\n",
       "      <td>[925222, 191353, 274190, 1788176, 282743, 3756...</td>\n",
       "    </tr>\n",
       "    <tr>\n",
       "      <td>7</td>\n",
       "      <td>22</td>\n",
       "      <td>[748374, 505161, 1531218, 3905245, 4204818, 92...</td>\n",
       "    </tr>\n",
       "    <tr>\n",
       "      <td>8</td>\n",
       "      <td>23</td>\n",
       "      <td>[1014651, 3191434, 2987945, 557883, 524623, 36...</td>\n",
       "    </tr>\n",
       "    <tr>\n",
       "      <td>9</td>\n",
       "      <td>24</td>\n",
       "      <td>[2095828, 4477587, 960747, 1496225, 343168, 54...</td>\n",
       "    </tr>\n",
       "    <tr>\n",
       "      <td>10</td>\n",
       "      <td>25</td>\n",
       "      <td>[1309699, 200264, 234983, 11636, 13433, 116344...</td>\n",
       "    </tr>\n",
       "    <tr>\n",
       "      <td>11</td>\n",
       "      <td>26</td>\n",
       "      <td>[3153224, 1637172, 33032, 140099, 721270, 5494...</td>\n",
       "    </tr>\n",
       "    <tr>\n",
       "      <td>12</td>\n",
       "      <td>27</td>\n",
       "      <td>[223871, 275669, 1388115, 419965, 246591, 4842...</td>\n",
       "    </tr>\n",
       "    <tr>\n",
       "      <td>13</td>\n",
       "      <td>28</td>\n",
       "      <td>[817732, 786155, 119180, 2742984, 27910, 18364...</td>\n",
       "    </tr>\n",
       "    <tr>\n",
       "      <td>14</td>\n",
       "      <td>29</td>\n",
       "      <td>[286231, 2253298, 311936, 1898, 2510664, 10700...</td>\n",
       "    </tr>\n",
       "    <tr>\n",
       "      <td>15</td>\n",
       "      <td>30</td>\n",
       "      <td>[225528, 781977, 2289027, 3523444, 4638549, 56...</td>\n",
       "    </tr>\n",
       "    <tr>\n",
       "      <td>16</td>\n",
       "      <td>43</td>\n",
       "      <td>[591632, 437979, 467088, 416189, 487929, 41323...</td>\n",
       "    </tr>\n",
       "  </tbody>\n",
       "</table>\n",
       "</div>"
      ],
      "text/plain": [
       "    id                                             viewer\n",
       "0    1  [158815, 308568, 1096327, 458964, 2736733, 264...\n",
       "1    2  [116820, 374640, 19646, 214480, 37857, 166458,...\n",
       "2   10  [17158579, 33523622, 5068229, 5718766, 178447,...\n",
       "3   15  [207532, 152118, 128316, 195715, 132315, 17897...\n",
       "4   17  [36311, 28992, 788935, 33167, 439507, 166818, ...\n",
       "5   19  [325851, 141148, 161971, 212040, 148993, 57158...\n",
       "6   20  [925222, 191353, 274190, 1788176, 282743, 3756...\n",
       "7   22  [748374, 505161, 1531218, 3905245, 4204818, 92...\n",
       "8   23  [1014651, 3191434, 2987945, 557883, 524623, 36...\n",
       "9   24  [2095828, 4477587, 960747, 1496225, 343168, 54...\n",
       "10  25  [1309699, 200264, 234983, 11636, 13433, 116344...\n",
       "11  26  [3153224, 1637172, 33032, 140099, 721270, 5494...\n",
       "12  27  [223871, 275669, 1388115, 419965, 246591, 4842...\n",
       "13  28  [817732, 786155, 119180, 2742984, 27910, 18364...\n",
       "14  29  [286231, 2253298, 311936, 1898, 2510664, 10700...\n",
       "15  30  [225528, 781977, 2289027, 3523444, 4638549, 56...\n",
       "16  43  [591632, 437979, 467088, 416189, 487929, 41323..."
      ]
     },
     "execution_count": 20,
     "metadata": {},
     "output_type": "execute_result"
    }
   ],
   "source": [
    "data_view_ca_test = {\n",
    "    \n",
    "    # a adalah hasil sorting array saat menemukan value yang unique dari id kategori data video region Canada\n",
    "    'id' : a,\n",
    "    #penonton tertinggi\n",
    "    'viewer':[gCAvideo.get_group(items)['views'].values for items in dfCAcategory['id']]\n",
    "}\n",
    "\n",
    "dfViewCAtest = pd.DataFrame(data_view_ca_test)\n",
    "dfViewCAtest"
   ]
  },
  {
   "cell_type": "code",
   "execution_count": 21,
   "metadata": {},
   "outputs": [],
   "source": [
    "data_ent_ca_view = {\n",
    "    'viewer' : dfViewCAtest.loc[9, 'viewer'],\n",
    "    'z-score' : stats.zscore(dfViewCAtest.loc[9, 'viewer'])\n",
    "}\n",
    "\n",
    "dfEntertainViewTest = pd.DataFrame(data_ent_ca_view)"
   ]
  },
  {
   "cell_type": "code",
   "execution_count": 22,
   "metadata": {},
   "outputs": [
    {
     "data": {
      "text/html": [
       "<div>\n",
       "<style scoped>\n",
       "    .dataframe tbody tr th:only-of-type {\n",
       "        vertical-align: middle;\n",
       "    }\n",
       "\n",
       "    .dataframe tbody tr th {\n",
       "        vertical-align: top;\n",
       "    }\n",
       "\n",
       "    .dataframe thead th {\n",
       "        text-align: right;\n",
       "    }\n",
       "</style>\n",
       "<table border=\"1\" class=\"dataframe\">\n",
       "  <thead>\n",
       "    <tr style=\"text-align: right;\">\n",
       "      <th></th>\n",
       "      <th>viewer</th>\n",
       "      <th>z-score</th>\n",
       "    </tr>\n",
       "  </thead>\n",
       "  <tbody>\n",
       "    <tr>\n",
       "      <td>0</td>\n",
       "      <td>2095828</td>\n",
       "      <td>0.291247</td>\n",
       "    </tr>\n",
       "    <tr>\n",
       "      <td>1</td>\n",
       "      <td>4477587</td>\n",
       "      <td>0.933867</td>\n",
       "    </tr>\n",
       "    <tr>\n",
       "      <td>2</td>\n",
       "      <td>960747</td>\n",
       "      <td>-0.015008</td>\n",
       "    </tr>\n",
       "    <tr>\n",
       "      <td>3</td>\n",
       "      <td>1496225</td>\n",
       "      <td>0.129469</td>\n",
       "    </tr>\n",
       "    <tr>\n",
       "      <td>4</td>\n",
       "      <td>343168</td>\n",
       "      <td>-0.181636</td>\n",
       "    </tr>\n",
       "    <tr>\n",
       "      <td>...</td>\n",
       "      <td>...</td>\n",
       "      <td>...</td>\n",
       "    </tr>\n",
       "    <tr>\n",
       "      <td>13446</td>\n",
       "      <td>774509</td>\n",
       "      <td>-0.065257</td>\n",
       "    </tr>\n",
       "    <tr>\n",
       "      <td>13447</td>\n",
       "      <td>201847</td>\n",
       "      <td>-0.219766</td>\n",
       "    </tr>\n",
       "    <tr>\n",
       "      <td>13448</td>\n",
       "      <td>80685</td>\n",
       "      <td>-0.252457</td>\n",
       "    </tr>\n",
       "    <tr>\n",
       "      <td>13449</td>\n",
       "      <td>103339</td>\n",
       "      <td>-0.246344</td>\n",
       "    </tr>\n",
       "    <tr>\n",
       "      <td>13450</td>\n",
       "      <td>107392</td>\n",
       "      <td>-0.245251</td>\n",
       "    </tr>\n",
       "  </tbody>\n",
       "</table>\n",
       "<p>13343 rows × 2 columns</p>\n",
       "</div>"
      ],
      "text/plain": [
       "        viewer   z-score\n",
       "0      2095828  0.291247\n",
       "1      4477587  0.933867\n",
       "2       960747 -0.015008\n",
       "3      1496225  0.129469\n",
       "4       343168 -0.181636\n",
       "...        ...       ...\n",
       "13446   774509 -0.065257\n",
       "13447   201847 -0.219766\n",
       "13448    80685 -0.252457\n",
       "13449   103339 -0.246344\n",
       "13450   107392 -0.245251\n",
       "\n",
       "[13343 rows x 2 columns]"
      ]
     },
     "execution_count": 22,
     "metadata": {},
     "output_type": "execute_result"
    }
   ],
   "source": [
    "# Membuat Dataframe Baru yang telah difilter tanpa outlier\n",
    "dfEntertainViewTestz = dfEntertainViewTest[dfEntertainViewTest['z-score'] < 3]\n",
    "\n",
    "dfEntertainViewTestz"
   ]
  },
  {
   "cell_type": "code",
   "execution_count": 23,
   "metadata": {},
   "outputs": [
    {
     "data": {
      "text/plain": [
       "Text(0, 0.5, 'Jumlah Views')"
      ]
     },
     "execution_count": 23,
     "metadata": {},
     "output_type": "execute_result"
    },
    {
     "data": {
      "image/png": "[encoded data removed]",
      "text/plain": [
       "<Figure size 360x360 with 1 Axes>"
      ]
     },
     "metadata": {
      "needs_background": "light"
     },
     "output_type": "display_data"
    }
   ],
   "source": [
    "fig = plt.figure(1, figsize=(5, 5))\n",
    "\n",
    "# membuat axes\n",
    "ax = fig.add_subplot(111)\n",
    "\n",
    "# boxplot\n",
    "ax.boxplot(dfEntertainViewTestz['viewer'].values)\n",
    "\n",
    "# ax.set_ylim(0,1000)\n",
    "ax.set_xticklabels(\"\")\n",
    "\n",
    "# penamaan judul\n",
    "plt.title(\"TESTING BOXPLOT VIEWERS KATEGORI ENTERTAINMENT CANADA SETELAH OUTLIER REMOVAL DENGAN Z-SCORE\", fontsize=14)\n",
    "\n",
    "plt.ylabel(\"Jumlah Views\", fontsize=14)"
   ]
  },
  {
   "cell_type": "markdown",
   "metadata": {},
   "source": [
    "Setelah dilakukan outlier removal dengan Z-Score masih terlihat bahwa outlier dianggap masih terlalu banyak hingga sulit untuk dibaca, maka diputuskan untuk mencoba dilakukan outlier removal dengan IQR"
   ]
  },
  {
   "cell_type": "markdown",
   "metadata": {},
   "source": [
    "Step untuk mendeteksi outlier salah satunya adalah dengan menemukan range bawah dan atas dari suatu data dengan cara berikut :\n",
    "1. Mengurutkan data dari nilai terendah\n",
    "2. Menghitung Q1 (kuartil 1)\n",
    "3. Menghitung Q3 (kuartil 3)\n",
    "4. Menghitung IQR = (Q3 - Q1)\n",
    "5. Menemukan range bawah data = Q1 -(1.5 * IQR)\n",
    "6. Menemukan range atas data = Q3 + (1.5 * IQR)"
   ]
  },
  {
   "cell_type": "code",
   "execution_count": 24,
   "metadata": {},
   "outputs": [
    {
     "name": "stdout",
     "output_type": "stream",
     "text": [
      "IQR Ent Canada\n",
      "IQR = 679164.0\n",
      "Lower = -872197.5\n",
      "Upper = 1844458.5\n"
     ]
    }
   ],
   "source": [
    "Q1_test_ent_CA = dfEntertainViewTest.viewer.quantile(0.25)\n",
    "Q3_test_ent_CA = dfEntertainViewTest.viewer.quantile(0.75)\n",
    "IQR_test_ent_CA = Q3_test_ent_CA - Q1_test_ent_CA\n",
    "lower_test_ent_CA = Q1_test_ent_CA  - (1.5 * IQR_test_ent_CA)\n",
    "upper_test_ent_CA =  Q3_test_ent_CA + (1.5 * IQR_test_ent_CA)\n",
    "\n",
    "print(\"IQR Ent Canada\")\n",
    "print(\"IQR =\", IQR_test_ent_CA)\n",
    "print(\"Lower =\", lower_test_ent_CA)\n",
    "print(\"Upper =\", upper_test_ent_CA)"
   ]
  },
  {
   "cell_type": "code",
   "execution_count": 25,
   "metadata": {},
   "outputs": [],
   "source": [
    "dfEntertainViewTest_IQRView = dfEntertainViewTest[(dfEntertainViewTest.viewer < upper_test_ent_CA) & (dfEntertainViewTest.viewer > lower_test_ent_CA)]"
   ]
  },
  {
   "cell_type": "code",
   "execution_count": 26,
   "metadata": {},
   "outputs": [
    {
     "data": {
      "text/plain": [
       "Text(0, 0.5, 'Jumlah Views')"
      ]
     },
     "execution_count": 26,
     "metadata": {},
     "output_type": "execute_result"
    },
    {
     "data": {
      "image/png": "[encoded data removed]",
      "text/plain": [
       "<Figure size 360x360 with 1 Axes>"
      ]
     },
     "metadata": {
      "needs_background": "light"
     },
     "output_type": "display_data"
    }
   ],
   "source": [
    "fig = plt.figure(1, figsize=(5, 5))\n",
    "\n",
    "# membuat axes\n",
    "ax = fig.add_subplot(111)\n",
    "\n",
    "# boxplot\n",
    "ax.boxplot(dfEntertainViewTest_IQRView['viewer'].values)\n",
    "\n",
    "# ax.set_ylim(0,1000)\n",
    "ax.set_xticklabels(\"\")\n",
    "\n",
    "# penamaan judul\n",
    "plt.title(\"BOXPLOT VIEWERS KATEGORI ENTERTAINMENT CANADA SETELAH OUTLIER REMOVAL DENGAN IQR\", fontsize=14)\n",
    "\n",
    "plt.ylabel(\"Jumlah Views\", fontsize=14)"
   ]
  },
  {
   "cell_type": "markdown",
   "metadata": {},
   "source": [
    "Setelah dilakukan outlier removal dengan IQR masih terlihat bahwa outlier masih cukup sulit untuk dibaca, di sini akhirnya diputuskan untuk <b>menampilkan boxplot tanpa outlier</b>."
   ]
  },
  {
   "cell_type": "code",
   "execution_count": 27,
   "metadata": {},
   "outputs": [
    {
     "data": {
      "text/plain": [
       "Text(0, 0.5, 'Jumlah Viewer')"
      ]
     },
     "execution_count": 27,
     "metadata": {},
     "output_type": "execute_result"
    },
    {
     "data": {
      "image/png": "[encoded data removed]",
      "text/plain": [
       "<Figure size 1080x1080 with 1 Axes>"
      ]
     },
     "metadata": {
      "needs_background": "light"
     },
     "output_type": "display_data"
    }
   ],
   "source": [
    "fig = plt.figure(1, figsize=(15, 15))\n",
    "\n",
    "# membuat axes\n",
    "ax = fig.add_subplot(111)\n",
    "\n",
    "# boxplot\n",
    "ax.boxplot(data_view_ca_boxplot, showfliers=False)\n",
    "\n",
    "# penamaan x tick berdasarkan id kategori Canada\n",
    "ax.set_xticklabels(dfCAcategory['category'], rotation='vertical')\n",
    "\n",
    "# penamaan judul\n",
    "plt.title(\"ABSOLUTE VALUE VIEWER WILAYAH CANADA\", fontsize=14)\n",
    "\n",
    "# penamaan label\n",
    "plt.xlabel(\"ID Kategori\", fontsize=14)\n",
    "plt.ylabel(\"Jumlah Viewer\", fontsize=14)"
   ]
  },
  {
   "cell_type": "markdown",
   "metadata": {},
   "source": [
    "### 2B. Boxplotting Absolute Value Likes Berdasarkan Kategori Data Video Canada"
   ]
  },
  {
   "cell_type": "code",
   "execution_count": 28,
   "metadata": {},
   "outputs": [],
   "source": [
    "# list jumlah views wilayah Canada berdasarkan array a\n",
    "data_likes_ca_boxplot = [gCAvideo.get_group(items)['likes'].values for items in a]"
   ]
  },
  {
   "cell_type": "code",
   "execution_count": 29,
   "metadata": {},
   "outputs": [
    {
     "data": {
      "text/plain": [
       "Text(0, 0.5, 'Jumlah Viewer')"
      ]
     },
     "execution_count": 29,
     "metadata": {},
     "output_type": "execute_result"
    },
    {
     "data": {
      "image/png": "[encoded data removed]",
      "text/plain": [
       "<Figure size 1080x1080 with 1 Axes>"
      ]
     },
     "metadata": {
      "needs_background": "light"
     },
     "output_type": "display_data"
    }
   ],
   "source": [
    "fig = plt.figure(1, figsize=(15, 15))\n",
    "\n",
    "# membuat axes\n",
    "ax = fig.add_subplot(111)\n",
    "\n",
    "# boxplot\n",
    "ax.boxplot(data_likes_ca_boxplot, showfliers=False)\n",
    "\n",
    "# penamaan x tick berdasarkan id kategori Canada\n",
    "ax.set_xticklabels(dfCAcategory['category'], rotation='vertical')\n",
    "\n",
    "# penamaan judul\n",
    "plt.title(\"ABSOLUTE VALUE LIKES WILAYAH CANADA\", fontsize=14)\n",
    "\n",
    "# penamaan label\n",
    "plt.xlabel(\"ID Kategori\", fontsize=14)\n",
    "plt.ylabel(\"Jumlah Viewer\", fontsize=14)"
   ]
  },
  {
   "cell_type": "markdown",
   "metadata": {},
   "source": [
    "### 3B. Boxplotting Absolute Value Dislikes Berdasarkan Kategori Data Video Canada"
   ]
  },
  {
   "cell_type": "code",
   "execution_count": 30,
   "metadata": {},
   "outputs": [],
   "source": [
    "# list jumlah views wilayah Canada berdasarkan array a\n",
    "data_dislikes_ca_boxplot = [gCAvideo.get_group(items)['dislikes'].values for items in a]"
   ]
  },
  {
   "cell_type": "code",
   "execution_count": 31,
   "metadata": {},
   "outputs": [
    {
     "data": {
      "text/plain": [
       "Text(0, 0.5, 'Jumlah Viewer')"
      ]
     },
     "execution_count": 31,
     "metadata": {},
     "output_type": "execute_result"
    },
    {
     "data": {
      "image/png": "[encoded data removed]",
      "text/plain": [
       "<Figure size 1080x1080 with 1 Axes>"
      ]
     },
     "metadata": {
      "needs_background": "light"
     },
     "output_type": "display_data"
    }
   ],
   "source": [
    "fig = plt.figure(1, figsize=(15, 15))\n",
    "\n",
    "# membuat axes\n",
    "ax = fig.add_subplot(111)\n",
    "\n",
    "# boxplot\n",
    "ax.boxplot(data_view_ca_boxplot, showfliers=False)\n",
    "\n",
    "# penamaan x tick berdasarkan id kategori Canada\n",
    "ax.set_xticklabels(dfCAcategory['category'], rotation='vertical')\n",
    "\n",
    "# penamaan judul\n",
    "plt.title(\"ABSOLUTE VALUE DISLIKES WILAYAH CANADA\", fontsize=14)\n",
    "\n",
    "# penamaan label\n",
    "plt.xlabel(\"ID Kategori\", fontsize=14)\n",
    "plt.ylabel(\"Jumlah Viewer\", fontsize=14)"
   ]
  },
  {
   "cell_type": "markdown",
   "metadata": {},
   "source": [
    "### 4B. Boxplotting Absolute Value Jumlah Komentar Berdasarkan Kategori Data Video Canada"
   ]
  },
  {
   "cell_type": "code",
   "execution_count": 32,
   "metadata": {},
   "outputs": [],
   "source": [
    "# list jumlah views wilayah Canada berdasarkan array a\n",
    "data_view_ca_boxplot = [gCAvideo.get_group(items)['views'].values for items in a]"
   ]
  },
  {
   "cell_type": "code",
   "execution_count": 33,
   "metadata": {},
   "outputs": [
    {
     "data": {
      "text/plain": [
       "Text(0, 0.5, 'Jumlah Viewer')"
      ]
     },
     "execution_count": 33,
     "metadata": {},
     "output_type": "execute_result"
    },
    {
     "data": {
      "image/png": "[encoded data removed]",
      "text/plain": [
       "<Figure size 1080x1080 with 1 Axes>"
      ]
     },
     "metadata": {
      "needs_background": "light"
     },
     "output_type": "display_data"
    }
   ],
   "source": [
    "fig = plt.figure(1, figsize=(15, 15))\n",
    "\n",
    "# membuat axes\n",
    "ax = fig.add_subplot(111)\n",
    "\n",
    "# boxplot\n",
    "ax.boxplot(data_view_ca_boxplot, showfliers=False)\n",
    "\n",
    "# penamaan x tick berdasarkan id kategori Canada\n",
    "ax.set_xticklabels(dfCAcategory['category'], rotation='vertical')\n",
    "\n",
    "# penamaan judul\n",
    "plt.title(\"ABSOLUTE VALUE COMMENTS WILAYAH CANADA\", fontsize=14)\n",
    "\n",
    "# penamaan label\n",
    "plt.xlabel(\"ID Kategori\", fontsize=14)\n",
    "plt.ylabel(\"Jumlah Viewer\", fontsize=14)"
   ]
  },
  {
   "cell_type": "markdown",
   "metadata": {},
   "source": [
    "<b>------------------------------------------------------------------------------------------------------------------------------------------------------------------------------------------------------------------------------------------------------------------------------------------------------------------------------------------------------------------------------------------------------------------------------------</b>"
   ]
  },
  {
   "cell_type": "markdown",
   "metadata": {},
   "source": [
    "## C. BOXPLOTTING RELATIVE VALUE BERDASARKAN KATEGORI DATA VIDEO CANADA\n",
    "Karena melakukan boxplotting terhadap absolute value untuk jumlah views, likes, dislikes, dan comments tidak dapat dilihat dengan baik karena data terlalu diverse. Maka diputuskan untuk melakukan boxplotting likes, dislikes, dan comments terhadap views untuk setiap video kemudian dikalikan 100 agar range value terjaga mulai dari 0 hingga 100.\n",
    "\n",
    "\n",
    "<b>Operasinya adalah sebagai sebagai berikut :<br/>\n",
    "- Jumlah Likes / Jumlah Views * 100<br/>\n",
    "- Jumlah Dislikes / Jumlah Views * 100<br/>\n",
    "- Jumlah Comments / Jumlah Views * 100<br/></b>"
   ]
  },
  {
   "cell_type": "markdown",
   "metadata": {},
   "source": [
    "Untuk itu maka dataframe video perlu dimodifikasi dengan menghapus kolom yang tidak diperlukan dan menambahkan kolom baru dari setiap operasi yang dilakukan"
   ]
  },
  {
   "cell_type": "code",
   "execution_count": 34,
   "metadata": {},
   "outputs": [],
   "source": [
    "# drop kolom yang tidak perlu\n",
    "dfCA = dfCAvideos.drop([\n",
    "    'trending_date','channel_title','publish_time','tags','thumbnail_link','comments_disabled','ratings_disabled',\n",
    "  'video_error_or_removed','description'], axis=1)"
   ]
  },
  {
   "cell_type": "code",
   "execution_count": 35,
   "metadata": {},
   "outputs": [],
   "source": [
    "# Menambah kolom likes/views\n",
    "dfCA['likes/views(%)'] = dfCA['likes']/dfCA['views']*100"
   ]
  },
  {
   "cell_type": "code",
   "execution_count": 36,
   "metadata": {},
   "outputs": [],
   "source": [
    "# Menambah kolom dislikes/views\n",
    "dfCA['dislikes/views(%)'] = dfCA['dislikes']/dfCA['views']*100"
   ]
  },
  {
   "cell_type": "code",
   "execution_count": 37,
   "metadata": {},
   "outputs": [],
   "source": [
    "# Menambah kolom comments/views\n",
    "dfCA['comments/views(%)'] = dfCA['comment_count']/dfCA['views']*100"
   ]
  },
  {
   "cell_type": "markdown",
   "metadata": {},
   "source": [
    "Berikut adalah data video Canada setelah dimodifikasi. Dataframe ditambah kolom sebagai berikut :\n",
    "<b>\n",
    "- likes/views\n",
    "- dislikes/views\n",
    "- comments/views\n",
    "</b>\n",
    "semua dalam persen (%)"
   ]
  },
  {
   "cell_type": "code",
   "execution_count": 38,
   "metadata": {},
   "outputs": [
    {
     "data": {
      "text/html": [
       "<div>\n",
       "<style scoped>\n",
       "    .dataframe tbody tr th:only-of-type {\n",
       "        vertical-align: middle;\n",
       "    }\n",
       "\n",
       "    .dataframe tbody tr th {\n",
       "        vertical-align: top;\n",
       "    }\n",
       "\n",
       "    .dataframe thead th {\n",
       "        text-align: right;\n",
       "    }\n",
       "</style>\n",
       "<table border=\"1\" class=\"dataframe\">\n",
       "  <thead>\n",
       "    <tr style=\"text-align: right;\">\n",
       "      <th></th>\n",
       "      <th>video_id</th>\n",
       "      <th>title</th>\n",
       "      <th>category_id</th>\n",
       "      <th>views</th>\n",
       "      <th>likes</th>\n",
       "      <th>dislikes</th>\n",
       "      <th>comment_count</th>\n",
       "      <th>likes/views(%)</th>\n",
       "      <th>dislikes/views(%)</th>\n",
       "      <th>comments/views(%)</th>\n",
       "    </tr>\n",
       "  </thead>\n",
       "  <tbody>\n",
       "    <tr>\n",
       "      <td>0</td>\n",
       "      <td>n1WpP7iowLc</td>\n",
       "      <td>Eminem - Walk On Water (Audio) ft. Beyoncé</td>\n",
       "      <td>10</td>\n",
       "      <td>17158579</td>\n",
       "      <td>787425</td>\n",
       "      <td>43420</td>\n",
       "      <td>125882</td>\n",
       "      <td>4.589104</td>\n",
       "      <td>0.253051</td>\n",
       "      <td>0.733639</td>\n",
       "    </tr>\n",
       "    <tr>\n",
       "      <td>1</td>\n",
       "      <td>0dBIkQ4Mz1M</td>\n",
       "      <td>PLUSH - Bad Unboxing Fan Mail</td>\n",
       "      <td>23</td>\n",
       "      <td>1014651</td>\n",
       "      <td>127794</td>\n",
       "      <td>1688</td>\n",
       "      <td>13030</td>\n",
       "      <td>12.594873</td>\n",
       "      <td>0.166363</td>\n",
       "      <td>1.284185</td>\n",
       "    </tr>\n",
       "    <tr>\n",
       "      <td>2</td>\n",
       "      <td>5qpjK5DgCt4</td>\n",
       "      <td>Racist Superman | Rudy Mancuso, King Bach &amp; Le...</td>\n",
       "      <td>23</td>\n",
       "      <td>3191434</td>\n",
       "      <td>146035</td>\n",
       "      <td>5339</td>\n",
       "      <td>8181</td>\n",
       "      <td>4.575843</td>\n",
       "      <td>0.167292</td>\n",
       "      <td>0.256342</td>\n",
       "    </tr>\n",
       "    <tr>\n",
       "      <td>3</td>\n",
       "      <td>d380meD0W0M</td>\n",
       "      <td>I Dare You: GOING BALD!?</td>\n",
       "      <td>24</td>\n",
       "      <td>2095828</td>\n",
       "      <td>132239</td>\n",
       "      <td>1989</td>\n",
       "      <td>17518</td>\n",
       "      <td>6.309630</td>\n",
       "      <td>0.094903</td>\n",
       "      <td>0.835851</td>\n",
       "    </tr>\n",
       "    <tr>\n",
       "      <td>4</td>\n",
       "      <td>2Vv-BfVoq4g</td>\n",
       "      <td>Ed Sheeran - Perfect (Official Music Video)</td>\n",
       "      <td>10</td>\n",
       "      <td>33523622</td>\n",
       "      <td>1634130</td>\n",
       "      <td>21082</td>\n",
       "      <td>85067</td>\n",
       "      <td>4.874563</td>\n",
       "      <td>0.062887</td>\n",
       "      <td>0.253752</td>\n",
       "    </tr>\n",
       "  </tbody>\n",
       "</table>\n",
       "</div>"
      ],
      "text/plain": [
       "      video_id                                              title  \\\n",
       "0  n1WpP7iowLc         Eminem - Walk On Water (Audio) ft. Beyoncé   \n",
       "1  0dBIkQ4Mz1M                      PLUSH - Bad Unboxing Fan Mail   \n",
       "2  5qpjK5DgCt4  Racist Superman | Rudy Mancuso, King Bach & Le...   \n",
       "3  d380meD0W0M                           I Dare You: GOING BALD!?   \n",
       "4  2Vv-BfVoq4g        Ed Sheeran - Perfect (Official Music Video)   \n",
       "\n",
       "   category_id     views    likes  dislikes  comment_count  likes/views(%)  \\\n",
       "0           10  17158579   787425     43420         125882        4.589104   \n",
       "1           23   1014651   127794      1688          13030       12.594873   \n",
       "2           23   3191434   146035      5339           8181        4.575843   \n",
       "3           24   2095828   132239      1989          17518        6.309630   \n",
       "4           10  33523622  1634130     21082          85067        4.874563   \n",
       "\n",
       "   dislikes/views(%)  comments/views(%)  \n",
       "0           0.253051           0.733639  \n",
       "1           0.166363           1.284185  \n",
       "2           0.167292           0.256342  \n",
       "3           0.094903           0.835851  \n",
       "4           0.062887           0.253752  "
      ]
     },
     "execution_count": 38,
     "metadata": {},
     "output_type": "execute_result"
    }
   ],
   "source": [
    "dfCA.head()"
   ]
  },
  {
   "cell_type": "markdown",
   "metadata": {},
   "source": [
    "Karena data video telah dimodifikasi, maka pengelompokan ulang berdasarkan id kategori perlu dilakukan kembali"
   ]
  },
  {
   "cell_type": "code",
   "execution_count": 39,
   "metadata": {},
   "outputs": [],
   "source": [
    "gCAvideo = dfCA.groupby('category_id')"
   ]
  },
  {
   "cell_type": "code",
   "execution_count": 40,
   "metadata": {},
   "outputs": [
    {
     "data": {
      "text/html": [
       "<div>\n",
       "<style scoped>\n",
       "    .dataframe tbody tr th:only-of-type {\n",
       "        vertical-align: middle;\n",
       "    }\n",
       "\n",
       "    .dataframe tbody tr th {\n",
       "        vertical-align: top;\n",
       "    }\n",
       "\n",
       "    .dataframe thead th {\n",
       "        text-align: right;\n",
       "    }\n",
       "</style>\n",
       "<table border=\"1\" class=\"dataframe\">\n",
       "  <thead>\n",
       "    <tr style=\"text-align: right;\">\n",
       "      <th></th>\n",
       "      <th>id</th>\n",
       "      <th>category</th>\n",
       "      <th>likes/views(%)</th>\n",
       "      <th>dislikes/views(%)</th>\n",
       "      <th>comments/views(%)</th>\n",
       "    </tr>\n",
       "  </thead>\n",
       "  <tbody>\n",
       "    <tr>\n",
       "      <td>0</td>\n",
       "      <td>1</td>\n",
       "      <td>Film &amp; Animation</td>\n",
       "      <td>[0.13726663098573813, 6.332801845946437, 3.098...</td>\n",
       "      <td>[0.01888990334666121, 0.022685437245599026, 0....</td>\n",
       "      <td>[0.11711740074929951, 0.1604184490938788, 0.08...</td>\n",
       "    </tr>\n",
       "    <tr>\n",
       "      <td>1</td>\n",
       "      <td>2</td>\n",
       "      <td>Autos &amp; Vehicles</td>\n",
       "      <td>[1.2865947611710324, 4.631379457612642, 0.8093...</td>\n",
       "      <td>[0.11898647491867831, 0.1150437753576767, 0.07...</td>\n",
       "      <td>[0.9125149803115904, 0.9595878710228486, 0.269...</td>\n",
       "    </tr>\n",
       "    <tr>\n",
       "      <td>2</td>\n",
       "      <td>10</td>\n",
       "      <td>Music</td>\n",
       "      <td>[4.589103794667379, 4.874562778449178, 5.20094...</td>\n",
       "      <td>[0.25305125791593813, 0.06288699950142619, 0.1...</td>\n",
       "      <td>[0.733638840372504, 0.25375241374574625, 0.571...</td>\n",
       "    </tr>\n",
       "    <tr>\n",
       "      <td>3</td>\n",
       "      <td>15</td>\n",
       "      <td>Pets &amp; Animals</td>\n",
       "      <td>[3.6008904650849027, 6.338500374709108, 4.6541...</td>\n",
       "      <td>[0.11853593662664072, 0.08480258746499428, 0.1...</td>\n",
       "      <td>[1.0215292099531639, 4.006757911621241, 1.5968...</td>\n",
       "    </tr>\n",
       "    <tr>\n",
       "      <td>4</td>\n",
       "      <td>17</td>\n",
       "      <td>Sports</td>\n",
       "      <td>[0.7628542315000963, 4.859961368653422, 1.9691...</td>\n",
       "      <td>[0.07711161906860181, 0.031043046357615896, 0....</td>\n",
       "      <td>[0.035801823138993695, 0.6484547461368654, 0.3...</td>\n",
       "    </tr>\n",
       "    <tr>\n",
       "      <td>5</td>\n",
       "      <td>19</td>\n",
       "      <td>Travel &amp; Events</td>\n",
       "      <td>[2.761384804711356, 1.1767789837617253, 3.7846...</td>\n",
       "      <td>[0.05677441530024459, 0.04959333465582226, 0.1...</td>\n",
       "      <td>[0.3903624662806006, 0.1672003854110579, 0.559...</td>\n",
       "    </tr>\n",
       "    <tr>\n",
       "      <td>6</td>\n",
       "      <td>20</td>\n",
       "      <td>Gaming</td>\n",
       "      <td>[9.188713627648283, 1.7282195732494394, 2.2987...</td>\n",
       "      <td>[0.05944519261323228, 0.044420521235622124, 0....</td>\n",
       "      <td>[0.4650775705722519, 0.27906539223320254, 0.13...</td>\n",
       "    </tr>\n",
       "    <tr>\n",
       "      <td>7</td>\n",
       "      <td>22</td>\n",
       "      <td>People &amp; Blogs</td>\n",
       "      <td>[7.687867296298374, 0.8185509174302845, 3.5240...</td>\n",
       "      <td>[0.3964595242485709, 0.19320573045029207, 0.11...</td>\n",
       "      <td>[2.1324899047802304, 0.29376772949614083, 0.27...</td>\n",
       "    </tr>\n",
       "    <tr>\n",
       "      <td>8</td>\n",
       "      <td>23</td>\n",
       "      <td>Comedy</td>\n",
       "      <td>[12.594872522670356, 4.575842708951525, 6.2740...</td>\n",
       "      <td>[0.16636262123626744, 0.1672915686177436, 0.32...</td>\n",
       "      <td>[1.2841853997088655, 0.2563424466869752, 0.891...</td>\n",
       "    </tr>\n",
       "    <tr>\n",
       "      <td>9</td>\n",
       "      <td>24</td>\n",
       "      <td>Entertainment</td>\n",
       "      <td>[6.309630370431162, 6.540062761482915, 3.31096...</td>\n",
       "      <td>[0.09490282599526297, 0.0920808462236468, 0.06...</td>\n",
       "      <td>[0.8358510335771828, 0.8127368602776451, 0.555...</td>\n",
       "    </tr>\n",
       "    <tr>\n",
       "      <td>10</td>\n",
       "      <td>25</td>\n",
       "      <td>News &amp; Politics</td>\n",
       "      <td>[7.922049264754725, 1.4715575440418647, 1.0034...</td>\n",
       "      <td>[0.3522183341363168, 0.15829105580633565, 0.05...</td>\n",
       "      <td>[0.9271595992667017, 1.1589701593896056, 0.146...</td>\n",
       "    </tr>\n",
       "    <tr>\n",
       "      <td>11</td>\n",
       "      <td>26</td>\n",
       "      <td>Howto &amp; Style</td>\n",
       "      <td>[0.9022828698500329, 6.155675762839824, 6.4876...</td>\n",
       "      <td>[0.0724655146605506, 0.06040904681975992, 1.00...</td>\n",
       "      <td>[0.10503535429135387, 1.1584610535728683, 0.97...</td>\n",
       "    </tr>\n",
       "    <tr>\n",
       "      <td>12</td>\n",
       "      <td>27</td>\n",
       "      <td>Education</td>\n",
       "      <td>[3.7619879305492896, 4.754252382386123, 1.2519...</td>\n",
       "      <td>[0.0853169905883299, 0.11499298071237607, 0.49...</td>\n",
       "      <td>[0.5422765789226832, 0.43421639720099103, 0.10...</td>\n",
       "    </tr>\n",
       "    <tr>\n",
       "      <td>13</td>\n",
       "      <td>28</td>\n",
       "      <td>Science &amp; Technology</td>\n",
       "      <td>[2.8937353558378542, 4.722478391665766, 8.1918...</td>\n",
       "      <td>[0.09514119540387314, 0.11384523408233746, 0.4...</td>\n",
       "      <td>[0.4196974069744122, 0.7747835986542094, 1.203...</td>\n",
       "    </tr>\n",
       "    <tr>\n",
       "      <td>14</td>\n",
       "      <td>29</td>\n",
       "      <td>Nonprofits &amp; Activism</td>\n",
       "      <td>[0.8839014642019907, 0.20556535353956734, 0.84...</td>\n",
       "      <td>[0.39373792496270493, 0.004615456987935018, 0....</td>\n",
       "      <td>[1.1316034950791494, 0.041361595314956125, 1.1...</td>\n",
       "    </tr>\n",
       "    <tr>\n",
       "      <td>15</td>\n",
       "      <td>30</td>\n",
       "      <td>Movies</td>\n",
       "      <td>[4.139619027349154, 2.8168347662399276, 1.8264...</td>\n",
       "      <td>[0.09843567095881664, 0.10013082226203583, 0.0...</td>\n",
       "      <td>[0.1942109183782058, 0.14015757496703868, 0.09...</td>\n",
       "    </tr>\n",
       "    <tr>\n",
       "      <td>16</td>\n",
       "      <td>43</td>\n",
       "      <td>Shows</td>\n",
       "      <td>[0.5461165048543689, 2.0062605741371162, 1.975...</td>\n",
       "      <td>[0.22429483192254646, 0.06552825592094598, 0.0...</td>\n",
       "      <td>[0.17409470752089137, 0.36896746191027424, 0.2...</td>\n",
       "    </tr>\n",
       "  </tbody>\n",
       "</table>\n",
       "</div>"
      ],
      "text/plain": [
       "    id               category  \\\n",
       "0    1       Film & Animation   \n",
       "1    2       Autos & Vehicles   \n",
       "2   10                  Music   \n",
       "3   15         Pets & Animals   \n",
       "4   17                 Sports   \n",
       "5   19        Travel & Events   \n",
       "6   20                 Gaming   \n",
       "7   22         People & Blogs   \n",
       "8   23                 Comedy   \n",
       "9   24          Entertainment   \n",
       "10  25        News & Politics   \n",
       "11  26          Howto & Style   \n",
       "12  27              Education   \n",
       "13  28   Science & Technology   \n",
       "14  29  Nonprofits & Activism   \n",
       "15  30                 Movies   \n",
       "16  43                  Shows   \n",
       "\n",
       "                                       likes/views(%)  \\\n",
       "0   [0.13726663098573813, 6.332801845946437, 3.098...   \n",
       "1   [1.2865947611710324, 4.631379457612642, 0.8093...   \n",
       "2   [4.589103794667379, 4.874562778449178, 5.20094...   \n",
       "3   [3.6008904650849027, 6.338500374709108, 4.6541...   \n",
       "4   [0.7628542315000963, 4.859961368653422, 1.9691...   \n",
       "5   [2.761384804711356, 1.1767789837617253, 3.7846...   \n",
       "6   [9.188713627648283, 1.7282195732494394, 2.2987...   \n",
       "7   [7.687867296298374, 0.8185509174302845, 3.5240...   \n",
       "8   [12.594872522670356, 4.575842708951525, 6.2740...   \n",
       "9   [6.309630370431162, 6.540062761482915, 3.31096...   \n",
       "10  [7.922049264754725, 1.4715575440418647, 1.0034...   \n",
       "11  [0.9022828698500329, 6.155675762839824, 6.4876...   \n",
       "12  [3.7619879305492896, 4.754252382386123, 1.2519...   \n",
       "13  [2.8937353558378542, 4.722478391665766, 8.1918...   \n",
       "14  [0.8839014642019907, 0.20556535353956734, 0.84...   \n",
       "15  [4.139619027349154, 2.8168347662399276, 1.8264...   \n",
       "16  [0.5461165048543689, 2.0062605741371162, 1.975...   \n",
       "\n",
       "                                    dislikes/views(%)  \\\n",
       "0   [0.01888990334666121, 0.022685437245599026, 0....   \n",
       "1   [0.11898647491867831, 0.1150437753576767, 0.07...   \n",
       "2   [0.25305125791593813, 0.06288699950142619, 0.1...   \n",
       "3   [0.11853593662664072, 0.08480258746499428, 0.1...   \n",
       "4   [0.07711161906860181, 0.031043046357615896, 0....   \n",
       "5   [0.05677441530024459, 0.04959333465582226, 0.1...   \n",
       "6   [0.05944519261323228, 0.044420521235622124, 0....   \n",
       "7   [0.3964595242485709, 0.19320573045029207, 0.11...   \n",
       "8   [0.16636262123626744, 0.1672915686177436, 0.32...   \n",
       "9   [0.09490282599526297, 0.0920808462236468, 0.06...   \n",
       "10  [0.3522183341363168, 0.15829105580633565, 0.05...   \n",
       "11  [0.0724655146605506, 0.06040904681975992, 1.00...   \n",
       "12  [0.0853169905883299, 0.11499298071237607, 0.49...   \n",
       "13  [0.09514119540387314, 0.11384523408233746, 0.4...   \n",
       "14  [0.39373792496270493, 0.004615456987935018, 0....   \n",
       "15  [0.09843567095881664, 0.10013082226203583, 0.0...   \n",
       "16  [0.22429483192254646, 0.06552825592094598, 0.0...   \n",
       "\n",
       "                                    comments/views(%)  \n",
       "0   [0.11711740074929951, 0.1604184490938788, 0.08...  \n",
       "1   [0.9125149803115904, 0.9595878710228486, 0.269...  \n",
       "2   [0.733638840372504, 0.25375241374574625, 0.571...  \n",
       "3   [1.0215292099531639, 4.006757911621241, 1.5968...  \n",
       "4   [0.035801823138993695, 0.6484547461368654, 0.3...  \n",
       "5   [0.3903624662806006, 0.1672003854110579, 0.559...  \n",
       "6   [0.4650775705722519, 0.27906539223320254, 0.13...  \n",
       "7   [2.1324899047802304, 0.29376772949614083, 0.27...  \n",
       "8   [1.2841853997088655, 0.2563424466869752, 0.891...  \n",
       "9   [0.8358510335771828, 0.8127368602776451, 0.555...  \n",
       "10  [0.9271595992667017, 1.1589701593896056, 0.146...  \n",
       "11  [0.10503535429135387, 1.1584610535728683, 0.97...  \n",
       "12  [0.5422765789226832, 0.43421639720099103, 0.10...  \n",
       "13  [0.4196974069744122, 0.7747835986542094, 1.203...  \n",
       "14  [1.1316034950791494, 0.041361595314956125, 1.1...  \n",
       "15  [0.1942109183782058, 0.14015757496703868, 0.09...  \n",
       "16  [0.17409470752089137, 0.36896746191027424, 0.2...  "
      ]
     },
     "execution_count": 40,
     "metadata": {},
     "output_type": "execute_result"
    }
   ],
   "source": [
    "data_relative_views_ca = {\n",
    "    \n",
    "    # a adalah hasil sorting array saat menemukan value yang unique dari id kategori data video region Canada\n",
    "    'id' : a,\n",
    "    'category' : [i for i in dfCAcategory['category']],\n",
    "    'likes/views(%)': [gCAvideo.get_group(items)['likes/views(%)'].values for items in dfCAcategory['id']],\n",
    "    'dislikes/views(%)': [gCAvideo.get_group(items)['dislikes/views(%)'].values for items in dfCAcategory['id']],\n",
    "    'comments/views(%)': [gCAvideo.get_group(items)['comments/views(%)'].values for items in dfCAcategory['id']]\n",
    "}\n",
    "\n",
    "dfRelativeViewsCA = pd.DataFrame(data_relative_views_ca)\n",
    "dfRelativeViewsCA"
   ]
  },
  {
   "cell_type": "markdown",
   "metadata": {},
   "source": [
    "### 1C. Boxplotting Relative Value Likes/Views Data Video Canada"
   ]
  },
  {
   "cell_type": "markdown",
   "metadata": {},
   "source": [
    "#### Berikut adalah hasil boxplot jumlah likes terhadap jumlah views di Canada"
   ]
  },
  {
   "cell_type": "code",
   "execution_count": 41,
   "metadata": {},
   "outputs": [
    {
     "data": {
      "text/plain": [
       "Text(0, 0.5, 'LIKES/VIEWS')"
      ]
     },
     "execution_count": 41,
     "metadata": {},
     "output_type": "execute_result"
    },
    {
     "data": {
      "image/png": "[encoded data removed]",
      "text/plain": [
       "<Figure size 1080x1080 with 1 Axes>"
      ]
     },
     "metadata": {
      "needs_background": "light"
     },
     "output_type": "display_data"
    }
   ],
   "source": [
    "fig = plt.figure(1, figsize=(15, 15))\n",
    "\n",
    "# membuat axes\n",
    "ax = fig.add_subplot(111)\n",
    "\n",
    "# boxplot\n",
    "ax.boxplot(dfRelativeViewsCA['likes/views(%)'].values, showfliers=False)\n",
    "\n",
    "# penamaan x tick\n",
    "ax.set_xticklabels(dfRelativeViewsCA['category'], rotation='vertical')\n",
    "\n",
    "# penamaan judul\n",
    "plt.title(\"RELATIVE VALUE LIKES/VIEWS WILAYAH CANADA\", fontsize=14)\n",
    "\n",
    "# penamaan label\n",
    "plt.xlabel(\"KATEGORI\", fontsize=14)\n",
    "plt.ylabel(\"LIKES/VIEWS\", fontsize=14)"
   ]
  },
  {
   "cell_type": "markdown",
   "metadata": {},
   "source": [
    "### 2C. Boxplotting Relative Value Dislikes/Views Data Video Canada"
   ]
  },
  {
   "cell_type": "markdown",
   "metadata": {},
   "source": [
    "#### Berikut adalah hasil boxplot jumlah dislikes terhadap jumlah views di Canada"
   ]
  },
  {
   "cell_type": "code",
   "execution_count": 42,
   "metadata": {},
   "outputs": [
    {
     "data": {
      "text/plain": [
       "Text(0, 0.5, 'DISLIKES/VIEWS')"
      ]
     },
     "execution_count": 42,
     "metadata": {},
     "output_type": "execute_result"
    },
    {
     "data": {
      "image/png": "[encoded data removed]",
      "text/plain": [
       "<Figure size 1080x1080 with 1 Axes>"
      ]
     },
     "metadata": {
      "needs_background": "light"
     },
     "output_type": "display_data"
    }
   ],
   "source": [
    "fig = plt.figure(1, figsize=(15, 15))\n",
    "\n",
    "# membuat axes\n",
    "ax = fig.add_subplot(111)\n",
    "\n",
    "# boxplot\n",
    "ax.boxplot(dfRelativeViewsCA['dislikes/views(%)'].values, showfliers=False)\n",
    "\n",
    "# penamaan x tick\n",
    "ax.set_xticklabels(dfRelativeViewsCA['category'], rotation='vertical')\n",
    "\n",
    "# penamaan judul\n",
    "plt.title(\"RELATIVE VALUE DISLIKES/VIEWS WILAYAH CANADA\", fontsize=14)\n",
    "\n",
    "# penamaan label\n",
    "plt.xlabel(\"KATEGORI\", fontsize=14)\n",
    "plt.ylabel(\"DISLIKES/VIEWS\", fontsize=14)"
   ]
  },
  {
   "cell_type": "code",
   "execution_count": 43,
   "metadata": {},
   "outputs": [
    {
     "data": {
      "text/plain": [
       "Text(0, 0.5, 'COMMENTS/VIEWS')"
      ]
     },
     "execution_count": 43,
     "metadata": {},
     "output_type": "execute_result"
    },
    {
     "data": {
      "image/png": "[encoded data removed]",
      "text/plain": [
       "<Figure size 1080x1080 with 1 Axes>"
      ]
     },
     "metadata": {
      "needs_background": "light"
     },
     "output_type": "display_data"
    }
   ],
   "source": [
    "fig = plt.figure(1, figsize=(15, 15))\n",
    "\n",
    "# membuat axes\n",
    "ax = fig.add_subplot(111)\n",
    "\n",
    "# boxplot\n",
    "ax.boxplot(dfRelativeViewsCA['comments/views(%)'].values, showfliers=False)\n",
    "\n",
    "# penamaan x tick\n",
    "ax.set_xticklabels(dfRelativeViewsCA['category'], rotation='vertical')\n",
    "\n",
    "# penamaan judul\n",
    "plt.title(\"RELATIVE VALUE COMMENTS/VIEWS WILAYAH CANADA\", fontsize=14)\n",
    "\n",
    "# penamaan label\n",
    "plt.xlabel(\"KATEGORI\", fontsize=14)\n",
    "plt.ylabel(\"COMMENTS/VIEWS\", fontsize=14)"
   ]
  },
  {
   "cell_type": "markdown",
   "metadata": {},
   "source": [
    "<b>------------------------------------------------------------------------------------------------------------------------------------------------------------------------------------------------------------------------------------------------------------------------------------------------------------------------------------------------------------------------------------------------------------------------------------------------------------------------------------------------------------------------------------------------------------------------------------------------------------------------------------------------------------------------------------------------------------------------------------------------------------------------------------------------------------------------------------------------------------------------------------------------------------------------------------------------------------------------------------------------------------------------------------------------------------------------------------------------------------------------------------------------------------------------------------------------------------------------------------------------------------------------------------------------------------</b></b>"
   ]
  },
  {
   "cell_type": "markdown",
   "metadata": {},
   "source": [
    "## MENCARI PENYEBAB FIRST TRENDING DI CANADA"
   ]
  },
  {
   "cell_type": "markdown",
   "metadata": {},
   "source": [
    "Di sini masing-masing datasets dari setiap region ditransform ulang dengan hanya mencantumkan data video pada saat pertama kali video tersebut mengalami trend"
   ]
  },
  {
   "cell_type": "markdown",
   "metadata": {},
   "source": [
    "Dataframe baru dibuat dari masing-masing datasets dengan <b>grouping by video_id</b> lalu digunakan <b>loc</b> untuk melokasikan data berdasarkan index, lalu yang dicari adalah trending_date pertama kali, <b>maka dicari index terkecil dari masing-masing video_id berdasarkan trending_datenya dengan menggunakan idxmin()</b>"
   ]
  },
  {
   "cell_type": "code",
   "execution_count": 44,
   "metadata": {},
   "outputs": [],
   "source": [
    "dfCAvideosFirstTrend = dfCAvideos.loc[dfCAvideos.groupby('video_id')['trending_date'].idxmin()][['video_id','trending_date','title','channel_title','category_id','publish_time','tags','views','likes','dislikes','comment_count']]"
   ]
  },
  {
   "cell_type": "markdown",
   "metadata": {},
   "source": [
    "### Sorting"
   ]
  },
  {
   "cell_type": "markdown",
   "metadata": {},
   "source": [
    "Dilakukan reindex untuk masing-masing dataframe berdasarkan video_id dan trending_date nya"
   ]
  },
  {
   "cell_type": "code",
   "execution_count": 45,
   "metadata": {},
   "outputs": [],
   "source": [
    "dfCAvideosFirstTrend = dfCAvideosFirstTrend.sort_values(by=['video_id','trending_date']).reset_index(drop=True)"
   ]
  },
  {
   "cell_type": "markdown",
   "metadata": {},
   "source": [
    "#### DATA VIDEO FIRST TREND CANADA"
   ]
  },
  {
   "cell_type": "markdown",
   "metadata": {},
   "source": [
    "Berikut adalah contoh dataframe video Canada setelah dimodifikasi dengan hanya menampilkan data-data video saat pertama kali masuk trending"
   ]
  },
  {
   "cell_type": "code",
   "execution_count": 46,
   "metadata": {},
   "outputs": [
    {
     "data": {
      "text/html": [
       "<div>\n",
       "<style scoped>\n",
       "    .dataframe tbody tr th:only-of-type {\n",
       "        vertical-align: middle;\n",
       "    }\n",
       "\n",
       "    .dataframe tbody tr th {\n",
       "        vertical-align: top;\n",
       "    }\n",
       "\n",
       "    .dataframe thead th {\n",
       "        text-align: right;\n",
       "    }\n",
       "</style>\n",
       "<table border=\"1\" class=\"dataframe\">\n",
       "  <thead>\n",
       "    <tr style=\"text-align: right;\">\n",
       "      <th></th>\n",
       "      <th>video_id</th>\n",
       "      <th>trending_date</th>\n",
       "      <th>title</th>\n",
       "      <th>channel_title</th>\n",
       "      <th>category_id</th>\n",
       "      <th>publish_time</th>\n",
       "      <th>tags</th>\n",
       "      <th>views</th>\n",
       "      <th>likes</th>\n",
       "      <th>dislikes</th>\n",
       "      <th>comment_count</th>\n",
       "    </tr>\n",
       "  </thead>\n",
       "  <tbody>\n",
       "    <tr>\n",
       "      <td>0</td>\n",
       "      <td>--45ws7CEN0</td>\n",
       "      <td>2018-06-12</td>\n",
       "      <td>PlayStation E3 2018 Showcase | English</td>\n",
       "      <td>PlayStation Europe</td>\n",
       "      <td>20</td>\n",
       "      <td>2018-06-12T03:11:18.000Z</td>\n",
       "      <td>playstation|\"playstation 4\"|\"playstation europ...</td>\n",
       "      <td>309197</td>\n",
       "      <td>3837</td>\n",
       "      <td>516</td>\n",
       "      <td>278</td>\n",
       "    </tr>\n",
       "    <tr>\n",
       "      <td>1</td>\n",
       "      <td>--7vNbh4UNA</td>\n",
       "      <td>2018-04-14</td>\n",
       "      <td>Responding to ALL The Outrage, Ridiculous H3H3...</td>\n",
       "      <td>Philip DeFranco</td>\n",
       "      <td>25</td>\n",
       "      <td>2018-04-13T19:00:00.000Z</td>\n",
       "      <td>Elizabeth Hurley|\"Instagram\"|\"Outrage\"|\"scanda...</td>\n",
       "      <td>1082647</td>\n",
       "      <td>52114</td>\n",
       "      <td>1284</td>\n",
       "      <td>10602</td>\n",
       "    </tr>\n",
       "    <tr>\n",
       "      <td>2</td>\n",
       "      <td>--MtKsH5oBY</td>\n",
       "      <td>2018-06-01</td>\n",
       "      <td>صحفي بين سبورت يكشف تفاصيل و كواليس استقالة زي...</td>\n",
       "      <td>RedsTech</td>\n",
       "      <td>17</td>\n",
       "      <td>2018-05-31T12:40:46.000Z</td>\n",
       "      <td>RedsTech|\"bein sports\"|\"ريال مدريد\"|\"real madr...</td>\n",
       "      <td>511042</td>\n",
       "      <td>3517</td>\n",
       "      <td>372</td>\n",
       "      <td>767</td>\n",
       "    </tr>\n",
       "    <tr>\n",
       "      <td>3</td>\n",
       "      <td>--YgtVuvWGo</td>\n",
       "      <td>2018-05-20</td>\n",
       "      <td>Jessie Reyez - Body Count</td>\n",
       "      <td>JessieReyezVEVO</td>\n",
       "      <td>10</td>\n",
       "      <td>2018-05-18T04:00:00.000Z</td>\n",
       "      <td>Jessie|\"Reyez\"|\"Body\"|\"Count\"|\"Island\"|\"Records\"</td>\n",
       "      <td>362391</td>\n",
       "      <td>21547</td>\n",
       "      <td>356</td>\n",
       "      <td>955</td>\n",
       "    </tr>\n",
       "    <tr>\n",
       "      <td>4</td>\n",
       "      <td>--iJShLChIc</td>\n",
       "      <td>2018-05-01</td>\n",
       "      <td>Undisputed | Will LeBron James carry the Cavs ...</td>\n",
       "      <td>THSports 2</td>\n",
       "      <td>17</td>\n",
       "      <td>2018-04-30T16:02:26.000Z</td>\n",
       "      <td>[none]</td>\n",
       "      <td>54691</td>\n",
       "      <td>153</td>\n",
       "      <td>134</td>\n",
       "      <td>254</td>\n",
       "    </tr>\n",
       "  </tbody>\n",
       "</table>\n",
       "</div>"
      ],
      "text/plain": [
       "      video_id trending_date  \\\n",
       "0  --45ws7CEN0    2018-06-12   \n",
       "1  --7vNbh4UNA    2018-04-14   \n",
       "2  --MtKsH5oBY    2018-06-01   \n",
       "3  --YgtVuvWGo    2018-05-20   \n",
       "4  --iJShLChIc    2018-05-01   \n",
       "\n",
       "                                               title       channel_title  \\\n",
       "0             PlayStation E3 2018 Showcase | English  PlayStation Europe   \n",
       "1  Responding to ALL The Outrage, Ridiculous H3H3...     Philip DeFranco   \n",
       "2  صحفي بين سبورت يكشف تفاصيل و كواليس استقالة زي...            RedsTech   \n",
       "3                          Jessie Reyez - Body Count     JessieReyezVEVO   \n",
       "4  Undisputed | Will LeBron James carry the Cavs ...          THSports 2   \n",
       "\n",
       "   category_id              publish_time  \\\n",
       "0           20  2018-06-12T03:11:18.000Z   \n",
       "1           25  2018-04-13T19:00:00.000Z   \n",
       "2           17  2018-05-31T12:40:46.000Z   \n",
       "3           10  2018-05-18T04:00:00.000Z   \n",
       "4           17  2018-04-30T16:02:26.000Z   \n",
       "\n",
       "                                                tags    views  likes  \\\n",
       "0  playstation|\"playstation 4\"|\"playstation europ...   309197   3837   \n",
       "1  Elizabeth Hurley|\"Instagram\"|\"Outrage\"|\"scanda...  1082647  52114   \n",
       "2  RedsTech|\"bein sports\"|\"ريال مدريد\"|\"real madr...   511042   3517   \n",
       "3   Jessie|\"Reyez\"|\"Body\"|\"Count\"|\"Island\"|\"Records\"   362391  21547   \n",
       "4                                             [none]    54691    153   \n",
       "\n",
       "   dislikes  comment_count  \n",
       "0       516            278  \n",
       "1      1284          10602  \n",
       "2       372            767  \n",
       "3       356            955  \n",
       "4       134            254  "
      ]
     },
     "execution_count": 46,
     "metadata": {},
     "output_type": "execute_result"
    }
   ],
   "source": [
    "dfCAvideosFirstTrend.head()"
   ]
  },
  {
   "cell_type": "markdown",
   "metadata": {},
   "source": [
    "### Boxplotting Viewer Data Video First Trend Canada"
   ]
  },
  {
   "cell_type": "code",
   "execution_count": 47,
   "metadata": {},
   "outputs": [
    {
     "data": {
      "text/plain": [
       "Text(0, 0.5, 'Jumlah Views')"
      ]
     },
     "execution_count": 47,
     "metadata": {},
     "output_type": "execute_result"
    },
    {
     "data": {
      "image/png": "[encoded data removed]",
      "text/plain": [
       "<Figure size 360x360 with 1 Axes>"
      ]
     },
     "metadata": {
      "needs_background": "light"
     },
     "output_type": "display_data"
    }
   ],
   "source": [
    "fig = plt.figure(1, figsize=(5, 5))\n",
    "\n",
    "# membuat axes\n",
    "ax = fig.add_subplot(111)\n",
    "\n",
    "# boxplot\n",
    "ax.boxplot(dfCAvideosFirstTrend['views'].values)\n",
    "\n",
    "# ax.set_ylim(0,1000)\n",
    "ax.set_xticklabels(\"\")\n",
    "\n",
    "# penamaan judul\n",
    "plt.title(\"BOXPLOT VIEWERS REGION CANADA\", fontsize=14)\n",
    "\n",
    "plt.ylabel(\"Jumlah Views\", fontsize=14)"
   ]
  },
  {
   "cell_type": "markdown",
   "metadata": {},
   "source": [
    "## Testing Z-Score Viewer Data Video First Trend Canada"
   ]
  },
  {
   "cell_type": "code",
   "execution_count": 48,
   "metadata": {
    "scrolled": true
   },
   "outputs": [
    {
     "data": {
      "text/html": [
       "<div>\n",
       "<style scoped>\n",
       "    .dataframe tbody tr th:only-of-type {\n",
       "        vertical-align: middle;\n",
       "    }\n",
       "\n",
       "    .dataframe tbody tr th {\n",
       "        vertical-align: top;\n",
       "    }\n",
       "\n",
       "    .dataframe thead th {\n",
       "        text-align: right;\n",
       "    }\n",
       "</style>\n",
       "<table border=\"1\" class=\"dataframe\">\n",
       "  <thead>\n",
       "    <tr style=\"text-align: right;\">\n",
       "      <th></th>\n",
       "      <th>video_id</th>\n",
       "      <th>trending_date</th>\n",
       "      <th>title</th>\n",
       "      <th>channel_title</th>\n",
       "      <th>category_id</th>\n",
       "      <th>publish_time</th>\n",
       "      <th>tags</th>\n",
       "      <th>views</th>\n",
       "      <th>likes</th>\n",
       "      <th>dislikes</th>\n",
       "      <th>comment_count</th>\n",
       "      <th>views_zscore</th>\n",
       "    </tr>\n",
       "  </thead>\n",
       "  <tbody>\n",
       "    <tr>\n",
       "      <td>0</td>\n",
       "      <td>--45ws7CEN0</td>\n",
       "      <td>2018-06-12</td>\n",
       "      <td>PlayStation E3 2018 Showcase | English</td>\n",
       "      <td>PlayStation Europe</td>\n",
       "      <td>20</td>\n",
       "      <td>2018-06-12T03:11:18.000Z</td>\n",
       "      <td>playstation|\"playstation 4\"|\"playstation europ...</td>\n",
       "      <td>309197</td>\n",
       "      <td>3837</td>\n",
       "      <td>516</td>\n",
       "      <td>278</td>\n",
       "      <td>-0.158711</td>\n",
       "    </tr>\n",
       "    <tr>\n",
       "      <td>1</td>\n",
       "      <td>--7vNbh4UNA</td>\n",
       "      <td>2018-04-14</td>\n",
       "      <td>Responding to ALL The Outrage, Ridiculous H3H3...</td>\n",
       "      <td>Philip DeFranco</td>\n",
       "      <td>25</td>\n",
       "      <td>2018-04-13T19:00:00.000Z</td>\n",
       "      <td>Elizabeth Hurley|\"Instagram\"|\"Outrage\"|\"scanda...</td>\n",
       "      <td>1082647</td>\n",
       "      <td>52114</td>\n",
       "      <td>1284</td>\n",
       "      <td>10602</td>\n",
       "      <td>0.535388</td>\n",
       "    </tr>\n",
       "    <tr>\n",
       "      <td>2</td>\n",
       "      <td>--MtKsH5oBY</td>\n",
       "      <td>2018-06-01</td>\n",
       "      <td>صحفي بين سبورت يكشف تفاصيل و كواليس استقالة زي...</td>\n",
       "      <td>RedsTech</td>\n",
       "      <td>17</td>\n",
       "      <td>2018-05-31T12:40:46.000Z</td>\n",
       "      <td>RedsTech|\"bein sports\"|\"ريال مدريد\"|\"real madr...</td>\n",
       "      <td>511042</td>\n",
       "      <td>3517</td>\n",
       "      <td>372</td>\n",
       "      <td>767</td>\n",
       "      <td>0.022426</td>\n",
       "    </tr>\n",
       "    <tr>\n",
       "      <td>3</td>\n",
       "      <td>--YgtVuvWGo</td>\n",
       "      <td>2018-05-20</td>\n",
       "      <td>Jessie Reyez - Body Count</td>\n",
       "      <td>JessieReyezVEVO</td>\n",
       "      <td>10</td>\n",
       "      <td>2018-05-18T04:00:00.000Z</td>\n",
       "      <td>Jessie|\"Reyez\"|\"Body\"|\"Count\"|\"Island\"|\"Records\"</td>\n",
       "      <td>362391</td>\n",
       "      <td>21547</td>\n",
       "      <td>356</td>\n",
       "      <td>955</td>\n",
       "      <td>-0.110974</td>\n",
       "    </tr>\n",
       "    <tr>\n",
       "      <td>4</td>\n",
       "      <td>--iJShLChIc</td>\n",
       "      <td>2018-05-01</td>\n",
       "      <td>Undisputed | Will LeBron James carry the Cavs ...</td>\n",
       "      <td>THSports 2</td>\n",
       "      <td>17</td>\n",
       "      <td>2018-04-30T16:02:26.000Z</td>\n",
       "      <td>[none]</td>\n",
       "      <td>54691</td>\n",
       "      <td>153</td>\n",
       "      <td>134</td>\n",
       "      <td>254</td>\n",
       "      <td>-0.387106</td>\n",
       "    </tr>\n",
       "    <tr>\n",
       "      <td>...</td>\n",
       "      <td>...</td>\n",
       "      <td>...</td>\n",
       "      <td>...</td>\n",
       "      <td>...</td>\n",
       "      <td>...</td>\n",
       "      <td>...</td>\n",
       "      <td>...</td>\n",
       "      <td>...</td>\n",
       "      <td>...</td>\n",
       "      <td>...</td>\n",
       "      <td>...</td>\n",
       "      <td>...</td>\n",
       "    </tr>\n",
       "    <tr>\n",
       "      <td>24422</td>\n",
       "      <td>zz2vrPorALM</td>\n",
       "      <td>2018-04-23</td>\n",
       "      <td>Most Hilarious Tweets Of 2018</td>\n",
       "      <td>Reaction Time</td>\n",
       "      <td>24</td>\n",
       "      <td>2018-04-22T19:15:01.000Z</td>\n",
       "      <td>reaction time|\"reaction\"|\"time\"|\"reactiontime\"...</td>\n",
       "      <td>215621</td>\n",
       "      <td>11897</td>\n",
       "      <td>139</td>\n",
       "      <td>1526</td>\n",
       "      <td>-0.242686</td>\n",
       "    </tr>\n",
       "    <tr>\n",
       "      <td>24423</td>\n",
       "      <td>zzCQbYn4U74</td>\n",
       "      <td>2018-03-08</td>\n",
       "      <td>James Corden Challenges LAFC To Soccer Match</td>\n",
       "      <td>The Late Late Show with James Corden</td>\n",
       "      <td>24</td>\n",
       "      <td>2018-03-07T06:52:43.000Z</td>\n",
       "      <td>The Late Late Show|\"Late Late Show\"|\"James Cor...</td>\n",
       "      <td>387442</td>\n",
       "      <td>7771</td>\n",
       "      <td>205</td>\n",
       "      <td>450</td>\n",
       "      <td>-0.088493</td>\n",
       "    </tr>\n",
       "    <tr>\n",
       "      <td>24424</td>\n",
       "      <td>zzO3J_pp9vc</td>\n",
       "      <td>2018-05-09</td>\n",
       "      <td>Parada (Full Song) Jass Manak Ft. Byg Byrd | N...</td>\n",
       "      <td>Akash Paul</td>\n",
       "      <td>10</td>\n",
       "      <td>2018-05-07T16:46:51.000Z</td>\n",
       "      <td>[none]</td>\n",
       "      <td>69142</td>\n",
       "      <td>2957</td>\n",
       "      <td>35</td>\n",
       "      <td>177</td>\n",
       "      <td>-0.374137</td>\n",
       "    </tr>\n",
       "    <tr>\n",
       "      <td>24425</td>\n",
       "      <td>zzVFyVNgtsc</td>\n",
       "      <td>2018-05-04</td>\n",
       "      <td>Our World in 2018: DISTURBING VIDEO!</td>\n",
       "      <td>Jason A</td>\n",
       "      <td>25</td>\n",
       "      <td>2018-05-04T01:00:20.000Z</td>\n",
       "      <td>jason a|\"news\"|\"2018\"</td>\n",
       "      <td>51768</td>\n",
       "      <td>2537</td>\n",
       "      <td>98</td>\n",
       "      <td>1409</td>\n",
       "      <td>-0.389729</td>\n",
       "    </tr>\n",
       "    <tr>\n",
       "      <td>24426</td>\n",
       "      <td>zzjNCiCqiOs</td>\n",
       "      <td>2017-12-26</td>\n",
       "      <td>the hell hole</td>\n",
       "      <td>westsidewillz</td>\n",
       "      <td>28</td>\n",
       "      <td>2010-01-24T09:21:55.000Z</td>\n",
       "      <td>hell|\"hole\"|\"dirtbikes\"|\"moto\"|\"hill\"|\"climbs\"...</td>\n",
       "      <td>585626</td>\n",
       "      <td>4225</td>\n",
       "      <td>627</td>\n",
       "      <td>241</td>\n",
       "      <td>0.089358</td>\n",
       "    </tr>\n",
       "  </tbody>\n",
       "</table>\n",
       "<p>24119 rows × 12 columns</p>\n",
       "</div>"
      ],
      "text/plain": [
       "          video_id trending_date  \\\n",
       "0      --45ws7CEN0    2018-06-12   \n",
       "1      --7vNbh4UNA    2018-04-14   \n",
       "2      --MtKsH5oBY    2018-06-01   \n",
       "3      --YgtVuvWGo    2018-05-20   \n",
       "4      --iJShLChIc    2018-05-01   \n",
       "...            ...           ...   \n",
       "24422  zz2vrPorALM    2018-04-23   \n",
       "24423  zzCQbYn4U74    2018-03-08   \n",
       "24424  zzO3J_pp9vc    2018-05-09   \n",
       "24425  zzVFyVNgtsc    2018-05-04   \n",
       "24426  zzjNCiCqiOs    2017-12-26   \n",
       "\n",
       "                                                   title  \\\n",
       "0                 PlayStation E3 2018 Showcase | English   \n",
       "1      Responding to ALL The Outrage, Ridiculous H3H3...   \n",
       "2      صحفي بين سبورت يكشف تفاصيل و كواليس استقالة زي...   \n",
       "3                              Jessie Reyez - Body Count   \n",
       "4      Undisputed | Will LeBron James carry the Cavs ...   \n",
       "...                                                  ...   \n",
       "24422                      Most Hilarious Tweets Of 2018   \n",
       "24423       James Corden Challenges LAFC To Soccer Match   \n",
       "24424  Parada (Full Song) Jass Manak Ft. Byg Byrd | N...   \n",
       "24425               Our World in 2018: DISTURBING VIDEO!   \n",
       "24426                                      the hell hole   \n",
       "\n",
       "                              channel_title  category_id  \\\n",
       "0                        PlayStation Europe           20   \n",
       "1                           Philip DeFranco           25   \n",
       "2                                  RedsTech           17   \n",
       "3                           JessieReyezVEVO           10   \n",
       "4                                THSports 2           17   \n",
       "...                                     ...          ...   \n",
       "24422                         Reaction Time           24   \n",
       "24423  The Late Late Show with James Corden           24   \n",
       "24424                            Akash Paul           10   \n",
       "24425                               Jason A           25   \n",
       "24426                         westsidewillz           28   \n",
       "\n",
       "                   publish_time  \\\n",
       "0      2018-06-12T03:11:18.000Z   \n",
       "1      2018-04-13T19:00:00.000Z   \n",
       "2      2018-05-31T12:40:46.000Z   \n",
       "3      2018-05-18T04:00:00.000Z   \n",
       "4      2018-04-30T16:02:26.000Z   \n",
       "...                         ...   \n",
       "24422  2018-04-22T19:15:01.000Z   \n",
       "24423  2018-03-07T06:52:43.000Z   \n",
       "24424  2018-05-07T16:46:51.000Z   \n",
       "24425  2018-05-04T01:00:20.000Z   \n",
       "24426  2010-01-24T09:21:55.000Z   \n",
       "\n",
       "                                                    tags    views  likes  \\\n",
       "0      playstation|\"playstation 4\"|\"playstation europ...   309197   3837   \n",
       "1      Elizabeth Hurley|\"Instagram\"|\"Outrage\"|\"scanda...  1082647  52114   \n",
       "2      RedsTech|\"bein sports\"|\"ريال مدريد\"|\"real madr...   511042   3517   \n",
       "3       Jessie|\"Reyez\"|\"Body\"|\"Count\"|\"Island\"|\"Records\"   362391  21547   \n",
       "4                                                 [none]    54691    153   \n",
       "...                                                  ...      ...    ...   \n",
       "24422  reaction time|\"reaction\"|\"time\"|\"reactiontime\"...   215621  11897   \n",
       "24423  The Late Late Show|\"Late Late Show\"|\"James Cor...   387442   7771   \n",
       "24424                                             [none]    69142   2957   \n",
       "24425                              jason a|\"news\"|\"2018\"    51768   2537   \n",
       "24426  hell|\"hole\"|\"dirtbikes\"|\"moto\"|\"hill\"|\"climbs\"...   585626   4225   \n",
       "\n",
       "       dislikes  comment_count  views_zscore  \n",
       "0           516            278     -0.158711  \n",
       "1          1284          10602      0.535388  \n",
       "2           372            767      0.022426  \n",
       "3           356            955     -0.110974  \n",
       "4           134            254     -0.387106  \n",
       "...         ...            ...           ...  \n",
       "24422       139           1526     -0.242686  \n",
       "24423       205            450     -0.088493  \n",
       "24424        35            177     -0.374137  \n",
       "24425        98           1409     -0.389729  \n",
       "24426       627            241      0.089358  \n",
       "\n",
       "[24119 rows x 12 columns]"
      ]
     },
     "execution_count": 48,
     "metadata": {},
     "output_type": "execute_result"
    }
   ],
   "source": [
    "# Membuat Kolom Z-Score Untuk Viewer\n",
    "dfCAvideosFirstTrend['views_zscore'] = (dfCAvideosFirstTrend.views - dfCAvideosFirstTrend.views.mean())/dfCAvideosFirstTrend.views.std(ddof=0)\n",
    "\n",
    "# Membuat Dataframe Baru yang telah difilter tanpa outlier\n",
    "dfCAvideosFirstTrend_zView = dfCAvideosFirstTrend[dfCAvideosFirstTrend.views_zscore < 3]\n",
    "\n",
    "dfCAvideosFirstTrend_zView"
   ]
  },
  {
   "cell_type": "code",
   "execution_count": 49,
   "metadata": {},
   "outputs": [
    {
     "data": {
      "text/plain": [
       "Text(0, 0.5, 'Jumlah Views')"
      ]
     },
     "execution_count": 49,
     "metadata": {},
     "output_type": "execute_result"
    },
    {
     "data": {
      "image/png": "[encoded data removed]",
      "text/plain": [
       "<Figure size 360x360 with 1 Axes>"
      ]
     },
     "metadata": {
      "needs_background": "light"
     },
     "output_type": "display_data"
    }
   ],
   "source": [
    "fig = plt.figure(1, figsize=(5, 5))\n",
    "\n",
    "# membuat axes\n",
    "ax = fig.add_subplot(111)\n",
    "\n",
    "# boxplot\n",
    "ax.boxplot(dfCAvideosFirstTrend_zView['views'].values)\n",
    "\n",
    "# ax.set_ylim(0,1000)\n",
    "ax.set_xticklabels(\"\")\n",
    "\n",
    "# penamaan judul\n",
    "plt.title(\"BOXPLOT VIEWERS REGION CANADA SETELAH OUTLIER REMOVAL DENGAN Z-SCORE\", fontsize=14)\n",
    "\n",
    "plt.ylabel(\"Jumlah Views\", fontsize=14)"
   ]
  },
  {
   "cell_type": "markdown",
   "metadata": {},
   "source": [
    "## Testing IQR Viewer Data Video First Trend Canada\n",
    "Step untuk mendeteksi outlier salah satunya adalah dengan menemukan range bawah dan atas dari suatu data dengan cara berikut :\n",
    "1. Mengurutkan data dari nilai terendah\n",
    "2. Menghitung Q1 (kuartil 1)\n",
    "3. Menghitung Q3 (kuartil 3)\n",
    "4. Menghitung IQR = (Q3 - Q1)\n",
    "5. Menemukan range bawah data = Q1 -(1.5 * IQR)\n",
    "6. Menemukan range atas data = Q3 + (1.5 * IQR)"
   ]
  },
  {
   "cell_type": "markdown",
   "metadata": {},
   "source": [
    "1. Mengurutkan data dari yang terendah"
   ]
  },
  {
   "cell_type": "code",
   "execution_count": 50,
   "metadata": {},
   "outputs": [],
   "source": [
    "dfCAvideosFirstTrendSortViews = dfCAvideosFirstTrend.sort_values(by=['views'])"
   ]
  },
  {
   "cell_type": "markdown",
   "metadata": {},
   "source": [
    "2. Menghitung Q1 (kuartil 1)"
   ]
  },
  {
   "cell_type": "code",
   "execution_count": 51,
   "metadata": {},
   "outputs": [],
   "source": [
    "Q1_CAFirstTrendView = dfCAvideosFirstTrendSortViews.views.quantile(0.25)"
   ]
  },
  {
   "cell_type": "markdown",
   "metadata": {},
   "source": [
    "3. Menghitung Q3 (kuartil 3)"
   ]
  },
  {
   "cell_type": "code",
   "execution_count": 52,
   "metadata": {},
   "outputs": [],
   "source": [
    "Q3_CAFirstTrendView = dfCAvideosFirstTrendSortViews.views.quantile(0.75)"
   ]
  },
  {
   "cell_type": "markdown",
   "metadata": {},
   "source": [
    "4. Menghitung IQR = (Q3 - Q1)"
   ]
  },
  {
   "cell_type": "code",
   "execution_count": 53,
   "metadata": {},
   "outputs": [],
   "source": [
    "IQR_CAFirstTrendView = Q3_CAFirstTrendView - Q1_CAFirstTrendView"
   ]
  },
  {
   "cell_type": "markdown",
   "metadata": {},
   "source": [
    "5. Menemukan range bawah data = Q1 -(1.5 * IQR)"
   ]
  },
  {
   "cell_type": "code",
   "execution_count": 54,
   "metadata": {},
   "outputs": [],
   "source": [
    "lower_CAFirstTrendView = Q1_CAFirstTrendView - (1.5 * IQR_CAFirstTrendView)"
   ]
  },
  {
   "cell_type": "markdown",
   "metadata": {},
   "source": [
    "6. Menemukan range atas data = Q3 + (1.5 * IQR)"
   ]
  },
  {
   "cell_type": "code",
   "execution_count": 55,
   "metadata": {},
   "outputs": [],
   "source": [
    "upper_CAFirstTrendView =  Q3_CAFirstTrendView + (1.5 * IQR_CAFirstTrendView)"
   ]
  },
  {
   "cell_type": "markdown",
   "metadata": {},
   "source": [
    "<b>Berikut adalah hasil perhitungan yang telah dilakukan di atas</b>"
   ]
  },
  {
   "cell_type": "code",
   "execution_count": 56,
   "metadata": {},
   "outputs": [
    {
     "name": "stdout",
     "output_type": "stream",
     "text": [
      "IQR Canada\n",
      "IQR = 397652.5\n",
      "Lower = -501248.75\n",
      "Upper = 1089361.25\n"
     ]
    }
   ],
   "source": [
    "print(\"IQR Canada\")\n",
    "print(\"IQR =\", IQR_CAFirstTrendView)\n",
    "print(\"Lower =\", lower_CAFirstTrendView)\n",
    "print(\"Upper =\", upper_CAFirstTrendView)"
   ]
  },
  {
   "cell_type": "code",
   "execution_count": 57,
   "metadata": {},
   "outputs": [],
   "source": [
    "dfCAvideosFirstTrend_IQRView = dfCAvideosFirstTrendSortViews[(dfCAvideosFirstTrendSortViews.views < upper_CAFirstTrendView) & (dfCAvideosFirstTrendSortViews.views > lower_CAFirstTrendView)]"
   ]
  },
  {
   "cell_type": "code",
   "execution_count": 58,
   "metadata": {},
   "outputs": [
    {
     "data": {
      "text/plain": [
       "Text(0, 0.5, 'Jumlah Views')"
      ]
     },
     "execution_count": 58,
     "metadata": {},
     "output_type": "execute_result"
    },
    {
     "data": {
      "image/png": "[encoded data removed]",
      "text/plain": [
       "<Figure size 360x360 with 1 Axes>"
      ]
     },
     "metadata": {
      "needs_background": "light"
     },
     "output_type": "display_data"
    }
   ],
   "source": [
    "fig = plt.figure(1, figsize=(5, 5))\n",
    "\n",
    "# membuat axes\n",
    "ax = fig.add_subplot(111)\n",
    "\n",
    "# boxplot\n",
    "ax.boxplot(dfCAvideosFirstTrend_IQRView['views'].values)\n",
    "\n",
    "# ax.set_ylim(0,1000)\n",
    "ax.set_xticklabels(\"\")\n",
    "\n",
    "# penamaan judul\n",
    "plt.title(\"BOXPLOT VIEWERS REGION CANADA SETELAH OUTLIER REMOVAL DENGAN IQR\", fontsize=14)\n",
    "\n",
    "plt.ylabel(\"Jumlah Views\", fontsize=14)"
   ]
  },
  {
   "cell_type": "markdown",
   "metadata": {},
   "source": [
    "Di sini coba dilakukan boxplotting tanpa menampilkan outlier"
   ]
  },
  {
   "cell_type": "code",
   "execution_count": 59,
   "metadata": {},
   "outputs": [
    {
     "data": {
      "text/plain": [
       "Text(0, 0.5, 'Jumlah Views')"
      ]
     },
     "execution_count": 59,
     "metadata": {},
     "output_type": "execute_result"
    },
    {
     "data": {
      "image/png": "[encoded data removed]",
      "text/plain": [
       "<Figure size 360x360 with 1 Axes>"
      ]
     },
     "metadata": {
      "needs_background": "light"
     },
     "output_type": "display_data"
    }
   ],
   "source": [
    "fig = plt.figure(1, figsize=(5, 5))\n",
    "\n",
    "# membuat axes\n",
    "ax = fig.add_subplot(111)\n",
    "\n",
    "# boxplot\n",
    "ax.boxplot(dfCAvideosFirstTrend_IQRView['views'].values, showfliers=False)\n",
    "\n",
    "# ax.set_ylim(0,1000)\n",
    "ax.set_xticklabels(\"\")\n",
    "\n",
    "# penamaan judul\n",
    "plt.title(\"BOXPLOT VIEWERS REGION CANADA SETELAH OUTLIER REMOVAL DENGAN IQR\", fontsize=14)\n",
    "\n",
    "plt.ylabel(\"Jumlah Views\", fontsize=14)"
   ]
  },
  {
   "cell_type": "code",
   "execution_count": 60,
   "metadata": {},
   "outputs": [
    {
     "data": {
      "text/plain": [
       "Text(0, 0.5, 'Jumlah Views')"
      ]
     },
     "execution_count": 60,
     "metadata": {},
     "output_type": "execute_result"
    },
    {
     "data": {
      "image/png": "[encoded data removed]",
      "text/plain": [
       "<Figure size 360x360 with 1 Axes>"
      ]
     },
     "metadata": {
      "needs_background": "light"
     },
     "output_type": "display_data"
    }
   ],
   "source": [
    "fig = plt.figure(1, figsize=(5, 5))\n",
    "\n",
    "# membuat axes\n",
    "ax = fig.add_subplot(111)\n",
    "\n",
    "# boxplot\n",
    "ax.boxplot(dfCAvideosFirstTrend['views'].values, showfliers=False)\n",
    "\n",
    "# ax.set_ylim(0,1000)\n",
    "ax.set_xticklabels(\"\")\n",
    "\n",
    "# penamaan judul\n",
    "plt.title(\"BOXPLOT VIEWERS REGION CANADA TANPA REMOVAL DENGAN IQR\", fontsize=14)\n",
    "\n",
    "plt.ylabel(\"Jumlah Views\", fontsize=14)"
   ]
  },
  {
   "cell_type": "markdown",
   "metadata": {},
   "source": [
    "## STATISTIK DARI SETIAP KATEGORI YANG TERDAPAT DI DATAFRAME FIRST TREND VIDEO CANADA"
   ]
  },
  {
   "cell_type": "code",
   "execution_count": 61,
   "metadata": {},
   "outputs": [],
   "source": [
    "# mengelompokan ulang dataframe videosFirstTrend berdasarkan id kategori\n",
    "gCAVideoFtrend = dfCAvideosFirstTrend.groupby('category_id')"
   ]
  },
  {
   "cell_type": "markdown",
   "metadata": {},
   "source": [
    "Membuat dataframe baru yang memiliki kolom id, category yang diambil dari dfCAcategory, dan views yang diambil dari hasil pengelompokkan berdasarkan category_id"
   ]
  },
  {
   "cell_type": "code",
   "execution_count": 62,
   "metadata": {},
   "outputs": [
    {
     "data": {
      "text/html": [
       "<div>\n",
       "<style scoped>\n",
       "    .dataframe tbody tr th:only-of-type {\n",
       "        vertical-align: middle;\n",
       "    }\n",
       "\n",
       "    .dataframe tbody tr th {\n",
       "        vertical-align: top;\n",
       "    }\n",
       "\n",
       "    .dataframe thead th {\n",
       "        text-align: right;\n",
       "    }\n",
       "</style>\n",
       "<table border=\"1\" class=\"dataframe\">\n",
       "  <thead>\n",
       "    <tr style=\"text-align: right;\">\n",
       "      <th></th>\n",
       "      <th>id</th>\n",
       "      <th>category</th>\n",
       "      <th>views</th>\n",
       "    </tr>\n",
       "  </thead>\n",
       "  <tbody>\n",
       "    <tr>\n",
       "      <td>0</td>\n",
       "      <td>1</td>\n",
       "      <td>Film &amp; Animation</td>\n",
       "      <td>[342238, 321826, 98540, 404274, 42482, 1045258...</td>\n",
       "    </tr>\n",
       "    <tr>\n",
       "      <td>1</td>\n",
       "      <td>2</td>\n",
       "      <td>Autos &amp; Vehicles</td>\n",
       "      <td>[706350, 462474, 277998, 310539, 510470, 5879,...</td>\n",
       "    </tr>\n",
       "    <tr>\n",
       "      <td>2</td>\n",
       "      <td>10</td>\n",
       "      <td>Music</td>\n",
       "      <td>[362391, 410690, 341665, 8384, 371306, 950417,...</td>\n",
       "    </tr>\n",
       "    <tr>\n",
       "      <td>3</td>\n",
       "      <td>15</td>\n",
       "      <td>Pets &amp; Animals</td>\n",
       "      <td>[908989, 223604, 375923, 294098, 227584, 16323...</td>\n",
       "    </tr>\n",
       "    <tr>\n",
       "      <td>4</td>\n",
       "      <td>17</td>\n",
       "      <td>Sports</td>\n",
       "      <td>[511042, 54691, 504279, 509656, 1650461, 10508...</td>\n",
       "    </tr>\n",
       "    <tr>\n",
       "      <td>5</td>\n",
       "      <td>19</td>\n",
       "      <td>Travel &amp; Events</td>\n",
       "      <td>[317624, 258561, 127547, 264184, 282717, 18816...</td>\n",
       "    </tr>\n",
       "    <tr>\n",
       "      <td>6</td>\n",
       "      <td>20</td>\n",
       "      <td>Gaming</td>\n",
       "      <td>[309197, 421374, 108654, 212112, 1330559, 1741...</td>\n",
       "    </tr>\n",
       "    <tr>\n",
       "      <td>7</td>\n",
       "      <td>22</td>\n",
       "      <td>People &amp; Blogs</td>\n",
       "      <td>[18467, 36887, 544748, 513127, 106827, 85830, ...</td>\n",
       "    </tr>\n",
       "    <tr>\n",
       "      <td>8</td>\n",
       "      <td>23</td>\n",
       "      <td>Comedy</td>\n",
       "      <td>[1006049, 153229, 1986594, 518719, 745341, 157...</td>\n",
       "    </tr>\n",
       "    <tr>\n",
       "      <td>9</td>\n",
       "      <td>24</td>\n",
       "      <td>Entertainment</td>\n",
       "      <td>[219401, 85782, 43056, 98160, 18484, 90340, 21...</td>\n",
       "    </tr>\n",
       "    <tr>\n",
       "      <td>10</td>\n",
       "      <td>25</td>\n",
       "      <td>News &amp; Politics</td>\n",
       "      <td>[1082647, 133631, 6070, 147706, 261731, 230360...</td>\n",
       "    </tr>\n",
       "    <tr>\n",
       "      <td>11</td>\n",
       "      <td>26</td>\n",
       "      <td>Howto &amp; Style</td>\n",
       "      <td>[36336, 307747, 176966, 268936, 34501, 49108, ...</td>\n",
       "    </tr>\n",
       "    <tr>\n",
       "      <td>12</td>\n",
       "      <td>27</td>\n",
       "      <td>Education</td>\n",
       "      <td>[57494, 507781, 538214, 405089, 82360, 539370,...</td>\n",
       "    </tr>\n",
       "    <tr>\n",
       "      <td>13</td>\n",
       "      <td>28</td>\n",
       "      <td>Science &amp; Technology</td>\n",
       "      <td>[127185, 451489, 891416, 765436, 730145, 64305...</td>\n",
       "    </tr>\n",
       "    <tr>\n",
       "      <td>14</td>\n",
       "      <td>29</td>\n",
       "      <td>Nonprofits &amp; Activism</td>\n",
       "      <td>[114996, 286231, 27097, 21475, 17505, 1271329,...</td>\n",
       "    </tr>\n",
       "    <tr>\n",
       "      <td>15</td>\n",
       "      <td>30</td>\n",
       "      <td>Movies</td>\n",
       "      <td>[225528]</td>\n",
       "    </tr>\n",
       "    <tr>\n",
       "      <td>16</td>\n",
       "      <td>43</td>\n",
       "      <td>Shows</td>\n",
       "      <td>[610214, 503232, 997580, 511645, 261418, 61380...</td>\n",
       "    </tr>\n",
       "  </tbody>\n",
       "</table>\n",
       "</div>"
      ],
      "text/plain": [
       "    id               category  \\\n",
       "0    1       Film & Animation   \n",
       "1    2       Autos & Vehicles   \n",
       "2   10                  Music   \n",
       "3   15         Pets & Animals   \n",
       "4   17                 Sports   \n",
       "5   19        Travel & Events   \n",
       "6   20                 Gaming   \n",
       "7   22         People & Blogs   \n",
       "8   23                 Comedy   \n",
       "9   24          Entertainment   \n",
       "10  25        News & Politics   \n",
       "11  26          Howto & Style   \n",
       "12  27              Education   \n",
       "13  28   Science & Technology   \n",
       "14  29  Nonprofits & Activism   \n",
       "15  30                 Movies   \n",
       "16  43                  Shows   \n",
       "\n",
       "                                                views  \n",
       "0   [342238, 321826, 98540, 404274, 42482, 1045258...  \n",
       "1   [706350, 462474, 277998, 310539, 510470, 5879,...  \n",
       "2   [362391, 410690, 341665, 8384, 371306, 950417,...  \n",
       "3   [908989, 223604, 375923, 294098, 227584, 16323...  \n",
       "4   [511042, 54691, 504279, 509656, 1650461, 10508...  \n",
       "5   [317624, 258561, 127547, 264184, 282717, 18816...  \n",
       "6   [309197, 421374, 108654, 212112, 1330559, 1741...  \n",
       "7   [18467, 36887, 544748, 513127, 106827, 85830, ...  \n",
       "8   [1006049, 153229, 1986594, 518719, 745341, 157...  \n",
       "9   [219401, 85782, 43056, 98160, 18484, 90340, 21...  \n",
       "10  [1082647, 133631, 6070, 147706, 261731, 230360...  \n",
       "11  [36336, 307747, 176966, 268936, 34501, 49108, ...  \n",
       "12  [57494, 507781, 538214, 405089, 82360, 539370,...  \n",
       "13  [127185, 451489, 891416, 765436, 730145, 64305...  \n",
       "14  [114996, 286231, 27097, 21475, 17505, 1271329,...  \n",
       "15                                           [225528]  \n",
       "16  [610214, 503232, 997580, 511645, 261418, 61380...  "
      ]
     },
     "execution_count": 62,
     "metadata": {},
     "output_type": "execute_result"
    }
   ],
   "source": [
    "data_ftrend_views_ca = {\n",
    "    \n",
    "    # a adalah hasil sorting array saat menemukan value yang unique dari id kategori data video region Canada\n",
    "    'id' : a,\n",
    "    'category' : [i for i in dfCAcategory['category']],\n",
    "    'views': [gCAVideoFtrend.get_group(items)['views'].values for items in dfCAcategory['id']]\n",
    "}\n",
    "\n",
    "dfFtrendViewsCA = pd.DataFrame(data_ftrend_views_ca)\n",
    "dfFtrendViewsCA"
   ]
  },
  {
   "cell_type": "code",
   "execution_count": 63,
   "metadata": {},
   "outputs": [
    {
     "data": {
      "text/plain": [
       "Text(0, 0.5, 'VIEWS')"
      ]
     },
     "execution_count": 63,
     "metadata": {},
     "output_type": "execute_result"
    },
    {
     "data": {
      "image/png": "[encoded data removed]",
      "text/plain": [
       "<Figure size 1080x1080 with 1 Axes>"
      ]
     },
     "metadata": {
      "needs_background": "light"
     },
     "output_type": "display_data"
    }
   ],
   "source": [
    "fig = plt.figure(1, figsize=(15, 15))\n",
    "\n",
    "# membuat axes\n",
    "ax = fig.add_subplot(111)\n",
    "\n",
    "# boxplot\n",
    "ax.boxplot(dfFtrendViewsCA['views'].values, showfliers = False)\n",
    "\n",
    "# penamaan x tick\n",
    "ax.set_xticklabels(dfFtrendViewsCA['category'], rotation='vertical')\n",
    "\n",
    "# penamaan judul\n",
    "plt.title(\"DATA JUMLAH VIEW BERDASARKAN KATEGORI DATA VIDEO FIRST TREND CANADA\", fontsize=14)\n",
    "\n",
    "# penamaan label\n",
    "plt.xlabel(\"KATEGORI\", fontsize=14)\n",
    "plt.ylabel(\"VIEWS\", fontsize=14)"
   ]
  },
  {
   "cell_type": "markdown",
   "metadata": {},
   "source": [
    "##  D. BOXPLOTTING RELATIVE VALUE DATA VIDEO FIRST TREND CANADA\n",
    "Karena melakukan boxplotting terhadap absolute value untuk jumlah views, likes, dislikes, dan comments tidak dapat dilihat dengan baik karena data terlalu diverse. Maka diputuskan untuk melakukan boxplotting likes, dislikes, dan comments terhadap views untuk setiap video kemudian dikalikan 100 agar range value terjaga mulai dari 0 hingga 100."
   ]
  },
  {
   "cell_type": "code",
   "execution_count": 64,
   "metadata": {},
   "outputs": [],
   "source": [
    "# Menambah kolom likes/views\n",
    "dfCAvideosFirstTrend['likes/views(%)'] = dfCAvideosFirstTrend['likes']/dfCAvideosFirstTrend['views']*100"
   ]
  },
  {
   "cell_type": "code",
   "execution_count": 65,
   "metadata": {},
   "outputs": [],
   "source": [
    "# Menambah kolom dislikes/views\n",
    "dfCAvideosFirstTrend['dislikes/views(%)'] = dfCAvideosFirstTrend['dislikes']/dfCAvideosFirstTrend['views']*100"
   ]
  },
  {
   "cell_type": "code",
   "execution_count": 66,
   "metadata": {},
   "outputs": [],
   "source": [
    "# Menambah kolom comments/views\n",
    "dfCAvideosFirstTrend['comments/views(%)'] = dfCAvideosFirstTrend['comment_count']/dfCAvideosFirstTrend['views']*100"
   ]
  },
  {
   "cell_type": "markdown",
   "metadata": {},
   "source": [
    "### 1D. Plotting Likes/Views % First Trend Canada"
   ]
  },
  {
   "cell_type": "code",
   "execution_count": 67,
   "metadata": {},
   "outputs": [
    {
     "data": {
      "text/plain": [
       "Text(0, 0.5, 'LIKES TERHADAP VIEWS')"
      ]
     },
     "execution_count": 67,
     "metadata": {},
     "output_type": "execute_result"
    },
    {
     "data": {
      "image/png": "[encoded data removed]",
      "text/plain": [
       "<Figure size 360x360 with 1 Axes>"
      ]
     },
     "metadata": {
      "needs_background": "light"
     },
     "output_type": "display_data"
    }
   ],
   "source": [
    "fig = plt.figure(1, figsize=(5, 5))\n",
    "\n",
    "# membuat axes\n",
    "ax = fig.add_subplot(111)\n",
    "\n",
    "# boxplot\n",
    "ax.boxplot(dfCAvideosFirstTrend['likes/views(%)'].values, showfliers = False)\n",
    "\n",
    "# ax.set_ylim(0,1000)\n",
    "ax.set_xticklabels(\"\")\n",
    "\n",
    "# penamaan judul\n",
    "plt.title(\"BOXPLOT LIKES TERHADAP VIEWS REGION CANADA\", fontsize=14)\n",
    "\n",
    "plt.ylabel(\"LIKES TERHADAP VIEWS\", fontsize=14)"
   ]
  },
  {
   "cell_type": "markdown",
   "metadata": {},
   "source": [
    "### 2D. Plotting Disikes/Views % First Trend Canada"
   ]
  },
  {
   "cell_type": "code",
   "execution_count": 68,
   "metadata": {},
   "outputs": [
    {
     "data": {
      "text/plain": [
       "Text(0, 0.5, 'DISLIKES TERHADAP VIEWS')"
      ]
     },
     "execution_count": 68,
     "metadata": {},
     "output_type": "execute_result"
    },
    {
     "data": {
      "image/png": "[encoded data removed]",
      "text/plain": [
       "<Figure size 360x360 with 1 Axes>"
      ]
     },
     "metadata": {
      "needs_background": "light"
     },
     "output_type": "display_data"
    }
   ],
   "source": [
    "fig = plt.figure(1, figsize=(5, 5))\n",
    "\n",
    "# membuat axes\n",
    "ax = fig.add_subplot(111)\n",
    "\n",
    "# boxplot\n",
    "ax.boxplot(dfCAvideosFirstTrend['dislikes/views(%)'].values, showfliers = False)\n",
    "\n",
    "#ax.set_ylim(0,100)\n",
    "ax.set_xticklabels(\"\")\n",
    "\n",
    "# penamaan judul\n",
    "plt.title(\"BOXPLOT DISLIKES TERHADAP VIEWS REGION CANADA\", fontsize=14)\n",
    "\n",
    "plt.ylabel(\"DISLIKES TERHADAP VIEWS\", fontsize=14)"
   ]
  },
  {
   "cell_type": "markdown",
   "metadata": {},
   "source": [
    "### 3D. Plotting Comments/Views % First Trend"
   ]
  },
  {
   "cell_type": "code",
   "execution_count": 69,
   "metadata": {},
   "outputs": [
    {
     "data": {
      "text/plain": [
       "Text(0, 0.5, 'COMMENTS TERHADAP VIEWS')"
      ]
     },
     "execution_count": 69,
     "metadata": {},
     "output_type": "execute_result"
    },
    {
     "data": {
      "image/png": "[encoded data removed]",
      "text/plain": [
       "<Figure size 360x360 with 1 Axes>"
      ]
     },
     "metadata": {
      "needs_background": "light"
     },
     "output_type": "display_data"
    }
   ],
   "source": [
    "fig = plt.figure(1, figsize=(5, 5))\n",
    "\n",
    "# membuat axes\n",
    "ax = fig.add_subplot(111)\n",
    "\n",
    "# boxplot\n",
    "ax.boxplot(dfCAvideosFirstTrend['comments/views(%)'].values, showfliers = False)\n",
    "\n",
    "#ax.set_ylim(0,100)\n",
    "ax.set_xticklabels(\"\")\n",
    "\n",
    "# penamaan judul\n",
    "plt.title(\"BOXPLOT COMMENTS TERHADAP VIEWS REGION CANADA\", fontsize=14)\n",
    "\n",
    "plt.ylabel(\"COMMENTS TERHADAP VIEWS\", fontsize=14)"
   ]
  },
  {
   "cell_type": "markdown",
   "metadata": {},
   "source": [
    "## Testing Z-Score DF ZView"
   ]
  },
  {
   "cell_type": "code",
   "execution_count": 70,
   "metadata": {},
   "outputs": [
    {
     "name": "stderr",
     "output_type": "stream",
     "text": [
      "C:\\Users\\Abi\\Anaconda3\\lib\\site-packages\\ipykernel_launcher.py:2: SettingWithCopyWarning: \n",
      "A value is trying to be set on a copy of a slice from a DataFrame.\n",
      "Try using .loc[row_indexer,col_indexer] = value instead\n",
      "\n",
      "See the caveats in the documentation: http://pandas.pydata.org/pandas-docs/stable/user_guide/indexing.html#returning-a-view-versus-a-copy\n",
      "  \n"
     ]
    },
    {
     "data": {
      "text/html": [
       "<div>\n",
       "<style scoped>\n",
       "    .dataframe tbody tr th:only-of-type {\n",
       "        vertical-align: middle;\n",
       "    }\n",
       "\n",
       "    .dataframe tbody tr th {\n",
       "        vertical-align: top;\n",
       "    }\n",
       "\n",
       "    .dataframe thead th {\n",
       "        text-align: right;\n",
       "    }\n",
       "</style>\n",
       "<table border=\"1\" class=\"dataframe\">\n",
       "  <thead>\n",
       "    <tr style=\"text-align: right;\">\n",
       "      <th></th>\n",
       "      <th>video_id</th>\n",
       "      <th>trending_date</th>\n",
       "      <th>title</th>\n",
       "      <th>channel_title</th>\n",
       "      <th>category_id</th>\n",
       "      <th>publish_time</th>\n",
       "      <th>tags</th>\n",
       "      <th>views</th>\n",
       "      <th>likes</th>\n",
       "      <th>dislikes</th>\n",
       "      <th>comment_count</th>\n",
       "      <th>views_zscore</th>\n",
       "      <th>likes/views(%)</th>\n",
       "    </tr>\n",
       "  </thead>\n",
       "  <tbody>\n",
       "    <tr>\n",
       "      <td>0</td>\n",
       "      <td>--45ws7CEN0</td>\n",
       "      <td>2018-06-12</td>\n",
       "      <td>PlayStation E3 2018 Showcase | English</td>\n",
       "      <td>PlayStation Europe</td>\n",
       "      <td>20</td>\n",
       "      <td>2018-06-12T03:11:18.000Z</td>\n",
       "      <td>playstation|\"playstation 4\"|\"playstation europ...</td>\n",
       "      <td>309197</td>\n",
       "      <td>3837</td>\n",
       "      <td>516</td>\n",
       "      <td>278</td>\n",
       "      <td>-0.158711</td>\n",
       "      <td>1.240956</td>\n",
       "    </tr>\n",
       "    <tr>\n",
       "      <td>1</td>\n",
       "      <td>--7vNbh4UNA</td>\n",
       "      <td>2018-04-14</td>\n",
       "      <td>Responding to ALL The Outrage, Ridiculous H3H3...</td>\n",
       "      <td>Philip DeFranco</td>\n",
       "      <td>25</td>\n",
       "      <td>2018-04-13T19:00:00.000Z</td>\n",
       "      <td>Elizabeth Hurley|\"Instagram\"|\"Outrage\"|\"scanda...</td>\n",
       "      <td>1082647</td>\n",
       "      <td>52114</td>\n",
       "      <td>1284</td>\n",
       "      <td>10602</td>\n",
       "      <td>0.535388</td>\n",
       "      <td>4.813573</td>\n",
       "    </tr>\n",
       "    <tr>\n",
       "      <td>2</td>\n",
       "      <td>--MtKsH5oBY</td>\n",
       "      <td>2018-06-01</td>\n",
       "      <td>صحفي بين سبورت يكشف تفاصيل و كواليس استقالة زي...</td>\n",
       "      <td>RedsTech</td>\n",
       "      <td>17</td>\n",
       "      <td>2018-05-31T12:40:46.000Z</td>\n",
       "      <td>RedsTech|\"bein sports\"|\"ريال مدريد\"|\"real madr...</td>\n",
       "      <td>511042</td>\n",
       "      <td>3517</td>\n",
       "      <td>372</td>\n",
       "      <td>767</td>\n",
       "      <td>0.022426</td>\n",
       "      <td>0.688202</td>\n",
       "    </tr>\n",
       "    <tr>\n",
       "      <td>3</td>\n",
       "      <td>--YgtVuvWGo</td>\n",
       "      <td>2018-05-20</td>\n",
       "      <td>Jessie Reyez - Body Count</td>\n",
       "      <td>JessieReyezVEVO</td>\n",
       "      <td>10</td>\n",
       "      <td>2018-05-18T04:00:00.000Z</td>\n",
       "      <td>Jessie|\"Reyez\"|\"Body\"|\"Count\"|\"Island\"|\"Records\"</td>\n",
       "      <td>362391</td>\n",
       "      <td>21547</td>\n",
       "      <td>356</td>\n",
       "      <td>955</td>\n",
       "      <td>-0.110974</td>\n",
       "      <td>5.945788</td>\n",
       "    </tr>\n",
       "    <tr>\n",
       "      <td>4</td>\n",
       "      <td>--iJShLChIc</td>\n",
       "      <td>2018-05-01</td>\n",
       "      <td>Undisputed | Will LeBron James carry the Cavs ...</td>\n",
       "      <td>THSports 2</td>\n",
       "      <td>17</td>\n",
       "      <td>2018-04-30T16:02:26.000Z</td>\n",
       "      <td>[none]</td>\n",
       "      <td>54691</td>\n",
       "      <td>153</td>\n",
       "      <td>134</td>\n",
       "      <td>254</td>\n",
       "      <td>-0.387106</td>\n",
       "      <td>0.279754</td>\n",
       "    </tr>\n",
       "    <tr>\n",
       "      <td>...</td>\n",
       "      <td>...</td>\n",
       "      <td>...</td>\n",
       "      <td>...</td>\n",
       "      <td>...</td>\n",
       "      <td>...</td>\n",
       "      <td>...</td>\n",
       "      <td>...</td>\n",
       "      <td>...</td>\n",
       "      <td>...</td>\n",
       "      <td>...</td>\n",
       "      <td>...</td>\n",
       "      <td>...</td>\n",
       "      <td>...</td>\n",
       "    </tr>\n",
       "    <tr>\n",
       "      <td>24422</td>\n",
       "      <td>zz2vrPorALM</td>\n",
       "      <td>2018-04-23</td>\n",
       "      <td>Most Hilarious Tweets Of 2018</td>\n",
       "      <td>Reaction Time</td>\n",
       "      <td>24</td>\n",
       "      <td>2018-04-22T19:15:01.000Z</td>\n",
       "      <td>reaction time|\"reaction\"|\"time\"|\"reactiontime\"...</td>\n",
       "      <td>215621</td>\n",
       "      <td>11897</td>\n",
       "      <td>139</td>\n",
       "      <td>1526</td>\n",
       "      <td>-0.242686</td>\n",
       "      <td>5.517552</td>\n",
       "    </tr>\n",
       "    <tr>\n",
       "      <td>24423</td>\n",
       "      <td>zzCQbYn4U74</td>\n",
       "      <td>2018-03-08</td>\n",
       "      <td>James Corden Challenges LAFC To Soccer Match</td>\n",
       "      <td>The Late Late Show with James Corden</td>\n",
       "      <td>24</td>\n",
       "      <td>2018-03-07T06:52:43.000Z</td>\n",
       "      <td>The Late Late Show|\"Late Late Show\"|\"James Cor...</td>\n",
       "      <td>387442</td>\n",
       "      <td>7771</td>\n",
       "      <td>205</td>\n",
       "      <td>450</td>\n",
       "      <td>-0.088493</td>\n",
       "      <td>2.005720</td>\n",
       "    </tr>\n",
       "    <tr>\n",
       "      <td>24424</td>\n",
       "      <td>zzO3J_pp9vc</td>\n",
       "      <td>2018-05-09</td>\n",
       "      <td>Parada (Full Song) Jass Manak Ft. Byg Byrd | N...</td>\n",
       "      <td>Akash Paul</td>\n",
       "      <td>10</td>\n",
       "      <td>2018-05-07T16:46:51.000Z</td>\n",
       "      <td>[none]</td>\n",
       "      <td>69142</td>\n",
       "      <td>2957</td>\n",
       "      <td>35</td>\n",
       "      <td>177</td>\n",
       "      <td>-0.374137</td>\n",
       "      <td>4.276706</td>\n",
       "    </tr>\n",
       "    <tr>\n",
       "      <td>24425</td>\n",
       "      <td>zzVFyVNgtsc</td>\n",
       "      <td>2018-05-04</td>\n",
       "      <td>Our World in 2018: DISTURBING VIDEO!</td>\n",
       "      <td>Jason A</td>\n",
       "      <td>25</td>\n",
       "      <td>2018-05-04T01:00:20.000Z</td>\n",
       "      <td>jason a|\"news\"|\"2018\"</td>\n",
       "      <td>51768</td>\n",
       "      <td>2537</td>\n",
       "      <td>98</td>\n",
       "      <td>1409</td>\n",
       "      <td>-0.389729</td>\n",
       "      <td>4.900711</td>\n",
       "    </tr>\n",
       "    <tr>\n",
       "      <td>24426</td>\n",
       "      <td>zzjNCiCqiOs</td>\n",
       "      <td>2017-12-26</td>\n",
       "      <td>the hell hole</td>\n",
       "      <td>westsidewillz</td>\n",
       "      <td>28</td>\n",
       "      <td>2010-01-24T09:21:55.000Z</td>\n",
       "      <td>hell|\"hole\"|\"dirtbikes\"|\"moto\"|\"hill\"|\"climbs\"...</td>\n",
       "      <td>585626</td>\n",
       "      <td>4225</td>\n",
       "      <td>627</td>\n",
       "      <td>241</td>\n",
       "      <td>0.089358</td>\n",
       "      <td>0.721450</td>\n",
       "    </tr>\n",
       "  </tbody>\n",
       "</table>\n",
       "<p>24119 rows × 13 columns</p>\n",
       "</div>"
      ],
      "text/plain": [
       "          video_id trending_date  \\\n",
       "0      --45ws7CEN0    2018-06-12   \n",
       "1      --7vNbh4UNA    2018-04-14   \n",
       "2      --MtKsH5oBY    2018-06-01   \n",
       "3      --YgtVuvWGo    2018-05-20   \n",
       "4      --iJShLChIc    2018-05-01   \n",
       "...            ...           ...   \n",
       "24422  zz2vrPorALM    2018-04-23   \n",
       "24423  zzCQbYn4U74    2018-03-08   \n",
       "24424  zzO3J_pp9vc    2018-05-09   \n",
       "24425  zzVFyVNgtsc    2018-05-04   \n",
       "24426  zzjNCiCqiOs    2017-12-26   \n",
       "\n",
       "                                                   title  \\\n",
       "0                 PlayStation E3 2018 Showcase | English   \n",
       "1      Responding to ALL The Outrage, Ridiculous H3H3...   \n",
       "2      صحفي بين سبورت يكشف تفاصيل و كواليس استقالة زي...   \n",
       "3                              Jessie Reyez - Body Count   \n",
       "4      Undisputed | Will LeBron James carry the Cavs ...   \n",
       "...                                                  ...   \n",
       "24422                      Most Hilarious Tweets Of 2018   \n",
       "24423       James Corden Challenges LAFC To Soccer Match   \n",
       "24424  Parada (Full Song) Jass Manak Ft. Byg Byrd | N...   \n",
       "24425               Our World in 2018: DISTURBING VIDEO!   \n",
       "24426                                      the hell hole   \n",
       "\n",
       "                              channel_title  category_id  \\\n",
       "0                        PlayStation Europe           20   \n",
       "1                           Philip DeFranco           25   \n",
       "2                                  RedsTech           17   \n",
       "3                           JessieReyezVEVO           10   \n",
       "4                                THSports 2           17   \n",
       "...                                     ...          ...   \n",
       "24422                         Reaction Time           24   \n",
       "24423  The Late Late Show with James Corden           24   \n",
       "24424                            Akash Paul           10   \n",
       "24425                               Jason A           25   \n",
       "24426                         westsidewillz           28   \n",
       "\n",
       "                   publish_time  \\\n",
       "0      2018-06-12T03:11:18.000Z   \n",
       "1      2018-04-13T19:00:00.000Z   \n",
       "2      2018-05-31T12:40:46.000Z   \n",
       "3      2018-05-18T04:00:00.000Z   \n",
       "4      2018-04-30T16:02:26.000Z   \n",
       "...                         ...   \n",
       "24422  2018-04-22T19:15:01.000Z   \n",
       "24423  2018-03-07T06:52:43.000Z   \n",
       "24424  2018-05-07T16:46:51.000Z   \n",
       "24425  2018-05-04T01:00:20.000Z   \n",
       "24426  2010-01-24T09:21:55.000Z   \n",
       "\n",
       "                                                    tags    views  likes  \\\n",
       "0      playstation|\"playstation 4\"|\"playstation europ...   309197   3837   \n",
       "1      Elizabeth Hurley|\"Instagram\"|\"Outrage\"|\"scanda...  1082647  52114   \n",
       "2      RedsTech|\"bein sports\"|\"ريال مدريد\"|\"real madr...   511042   3517   \n",
       "3       Jessie|\"Reyez\"|\"Body\"|\"Count\"|\"Island\"|\"Records\"   362391  21547   \n",
       "4                                                 [none]    54691    153   \n",
       "...                                                  ...      ...    ...   \n",
       "24422  reaction time|\"reaction\"|\"time\"|\"reactiontime\"...   215621  11897   \n",
       "24423  The Late Late Show|\"Late Late Show\"|\"James Cor...   387442   7771   \n",
       "24424                                             [none]    69142   2957   \n",
       "24425                              jason a|\"news\"|\"2018\"    51768   2537   \n",
       "24426  hell|\"hole\"|\"dirtbikes\"|\"moto\"|\"hill\"|\"climbs\"...   585626   4225   \n",
       "\n",
       "       dislikes  comment_count  views_zscore  likes/views(%)  \n",
       "0           516            278     -0.158711        1.240956  \n",
       "1          1284          10602      0.535388        4.813573  \n",
       "2           372            767      0.022426        0.688202  \n",
       "3           356            955     -0.110974        5.945788  \n",
       "4           134            254     -0.387106        0.279754  \n",
       "...         ...            ...           ...             ...  \n",
       "24422       139           1526     -0.242686        5.517552  \n",
       "24423       205            450     -0.088493        2.005720  \n",
       "24424        35            177     -0.374137        4.276706  \n",
       "24425        98           1409     -0.389729        4.900711  \n",
       "24426       627            241      0.089358        0.721450  \n",
       "\n",
       "[24119 rows x 13 columns]"
      ]
     },
     "execution_count": 70,
     "metadata": {},
     "output_type": "execute_result"
    }
   ],
   "source": [
    "# Menambah kolom likes/views\n",
    "dfCAvideosFirstTrend_zView['likes/views(%)'] = dfCAvideosFirstTrend_zView['likes']/dfCAvideosFirstTrend_zView['views']*100\n",
    "\n",
    "dfCAvideosFirstTrend_zView"
   ]
  },
  {
   "cell_type": "code",
   "execution_count": 71,
   "metadata": {},
   "outputs": [
    {
     "data": {
      "text/plain": [
       "Text(0, 0.5, 'LIKES TERHADAP VIEWS')"
      ]
     },
     "execution_count": 71,
     "metadata": {},
     "output_type": "execute_result"
    },
    {
     "data": {
      "image/png": "[encoded data removed]",
      "text/plain": [
       "<Figure size 360x360 with 1 Axes>"
      ]
     },
     "metadata": {
      "needs_background": "light"
     },
     "output_type": "display_data"
    }
   ],
   "source": [
    "fig = plt.figure(1, figsize=(5, 5))\n",
    "\n",
    "# membuat axes\n",
    "ax = fig.add_subplot(111)\n",
    "\n",
    "# boxplot\n",
    "ax.boxplot(dfCAvideosFirstTrend_zView['likes/views(%)'].values)\n",
    "\n",
    "# ax.set_ylim(0,1000)\n",
    "ax.set_xticklabels(\"\")\n",
    "\n",
    "# penamaan judul\n",
    "plt.title(\"BOXPLOT LIKES TERHADAP VIEWS REGION CANADA\", fontsize=14)\n",
    "\n",
    "plt.ylabel(\"LIKES TERHADAP VIEWS\", fontsize=14)"
   ]
  },
  {
   "cell_type": "code",
   "execution_count": 72,
   "metadata": {},
   "outputs": [
    {
     "data": {
      "text/html": [
       "<div>\n",
       "<style scoped>\n",
       "    .dataframe tbody tr th:only-of-type {\n",
       "        vertical-align: middle;\n",
       "    }\n",
       "\n",
       "    .dataframe tbody tr th {\n",
       "        vertical-align: top;\n",
       "    }\n",
       "\n",
       "    .dataframe thead th {\n",
       "        text-align: right;\n",
       "    }\n",
       "</style>\n",
       "<table border=\"1\" class=\"dataframe\">\n",
       "  <thead>\n",
       "    <tr style=\"text-align: right;\">\n",
       "      <th></th>\n",
       "      <th>video_id</th>\n",
       "      <th>trending_date</th>\n",
       "      <th>title</th>\n",
       "      <th>channel_title</th>\n",
       "      <th>category_id</th>\n",
       "      <th>publish_time</th>\n",
       "      <th>tags</th>\n",
       "      <th>views</th>\n",
       "      <th>likes</th>\n",
       "      <th>dislikes</th>\n",
       "      <th>comment_count</th>\n",
       "      <th>views_zscore</th>\n",
       "      <th>likes/views(%)</th>\n",
       "      <th>dislikes/views(%)</th>\n",
       "      <th>comments/views(%)</th>\n",
       "      <th>likes/views_zscore</th>\n",
       "    </tr>\n",
       "  </thead>\n",
       "  <tbody>\n",
       "    <tr>\n",
       "      <td>0</td>\n",
       "      <td>--45ws7CEN0</td>\n",
       "      <td>2018-06-12</td>\n",
       "      <td>PlayStation E3 2018 Showcase | English</td>\n",
       "      <td>PlayStation Europe</td>\n",
       "      <td>20</td>\n",
       "      <td>2018-06-12T03:11:18.000Z</td>\n",
       "      <td>playstation|\"playstation 4\"|\"playstation europ...</td>\n",
       "      <td>309197</td>\n",
       "      <td>3837</td>\n",
       "      <td>516</td>\n",
       "      <td>278</td>\n",
       "      <td>-0.158711</td>\n",
       "      <td>1.240956</td>\n",
       "      <td>0.166884</td>\n",
       "      <td>0.089910</td>\n",
       "      <td>-0.653043</td>\n",
       "    </tr>\n",
       "    <tr>\n",
       "      <td>1</td>\n",
       "      <td>--7vNbh4UNA</td>\n",
       "      <td>2018-04-14</td>\n",
       "      <td>Responding to ALL The Outrage, Ridiculous H3H3...</td>\n",
       "      <td>Philip DeFranco</td>\n",
       "      <td>25</td>\n",
       "      <td>2018-04-13T19:00:00.000Z</td>\n",
       "      <td>Elizabeth Hurley|\"Instagram\"|\"Outrage\"|\"scanda...</td>\n",
       "      <td>1082647</td>\n",
       "      <td>52114</td>\n",
       "      <td>1284</td>\n",
       "      <td>10602</td>\n",
       "      <td>0.535388</td>\n",
       "      <td>4.813573</td>\n",
       "      <td>0.118598</td>\n",
       "      <td>0.979267</td>\n",
       "      <td>0.411027</td>\n",
       "    </tr>\n",
       "    <tr>\n",
       "      <td>2</td>\n",
       "      <td>--MtKsH5oBY</td>\n",
       "      <td>2018-06-01</td>\n",
       "      <td>صحفي بين سبورت يكشف تفاصيل و كواليس استقالة زي...</td>\n",
       "      <td>RedsTech</td>\n",
       "      <td>17</td>\n",
       "      <td>2018-05-31T12:40:46.000Z</td>\n",
       "      <td>RedsTech|\"bein sports\"|\"ريال مدريد\"|\"real madr...</td>\n",
       "      <td>511042</td>\n",
       "      <td>3517</td>\n",
       "      <td>372</td>\n",
       "      <td>767</td>\n",
       "      <td>0.022426</td>\n",
       "      <td>0.688202</td>\n",
       "      <td>0.072792</td>\n",
       "      <td>0.150086</td>\n",
       "      <td>-0.817675</td>\n",
       "    </tr>\n",
       "    <tr>\n",
       "      <td>3</td>\n",
       "      <td>--YgtVuvWGo</td>\n",
       "      <td>2018-05-20</td>\n",
       "      <td>Jessie Reyez - Body Count</td>\n",
       "      <td>JessieReyezVEVO</td>\n",
       "      <td>10</td>\n",
       "      <td>2018-05-18T04:00:00.000Z</td>\n",
       "      <td>Jessie|\"Reyez\"|\"Body\"|\"Count\"|\"Island\"|\"Records\"</td>\n",
       "      <td>362391</td>\n",
       "      <td>21547</td>\n",
       "      <td>356</td>\n",
       "      <td>955</td>\n",
       "      <td>-0.110974</td>\n",
       "      <td>5.945788</td>\n",
       "      <td>0.098236</td>\n",
       "      <td>0.263528</td>\n",
       "      <td>0.748246</td>\n",
       "    </tr>\n",
       "    <tr>\n",
       "      <td>4</td>\n",
       "      <td>--iJShLChIc</td>\n",
       "      <td>2018-05-01</td>\n",
       "      <td>Undisputed | Will LeBron James carry the Cavs ...</td>\n",
       "      <td>THSports 2</td>\n",
       "      <td>17</td>\n",
       "      <td>2018-04-30T16:02:26.000Z</td>\n",
       "      <td>[none]</td>\n",
       "      <td>54691</td>\n",
       "      <td>153</td>\n",
       "      <td>134</td>\n",
       "      <td>254</td>\n",
       "      <td>-0.387106</td>\n",
       "      <td>0.279754</td>\n",
       "      <td>0.245013</td>\n",
       "      <td>0.464427</td>\n",
       "      <td>-0.939328</td>\n",
       "    </tr>\n",
       "    <tr>\n",
       "      <td>...</td>\n",
       "      <td>...</td>\n",
       "      <td>...</td>\n",
       "      <td>...</td>\n",
       "      <td>...</td>\n",
       "      <td>...</td>\n",
       "      <td>...</td>\n",
       "      <td>...</td>\n",
       "      <td>...</td>\n",
       "      <td>...</td>\n",
       "      <td>...</td>\n",
       "      <td>...</td>\n",
       "      <td>...</td>\n",
       "      <td>...</td>\n",
       "      <td>...</td>\n",
       "      <td>...</td>\n",
       "      <td>...</td>\n",
       "    </tr>\n",
       "    <tr>\n",
       "      <td>24422</td>\n",
       "      <td>zz2vrPorALM</td>\n",
       "      <td>2018-04-23</td>\n",
       "      <td>Most Hilarious Tweets Of 2018</td>\n",
       "      <td>Reaction Time</td>\n",
       "      <td>24</td>\n",
       "      <td>2018-04-22T19:15:01.000Z</td>\n",
       "      <td>reaction time|\"reaction\"|\"time\"|\"reactiontime\"...</td>\n",
       "      <td>215621</td>\n",
       "      <td>11897</td>\n",
       "      <td>139</td>\n",
       "      <td>1526</td>\n",
       "      <td>-0.242686</td>\n",
       "      <td>5.517552</td>\n",
       "      <td>0.064465</td>\n",
       "      <td>0.707723</td>\n",
       "      <td>0.620700</td>\n",
       "    </tr>\n",
       "    <tr>\n",
       "      <td>24423</td>\n",
       "      <td>zzCQbYn4U74</td>\n",
       "      <td>2018-03-08</td>\n",
       "      <td>James Corden Challenges LAFC To Soccer Match</td>\n",
       "      <td>The Late Late Show with James Corden</td>\n",
       "      <td>24</td>\n",
       "      <td>2018-03-07T06:52:43.000Z</td>\n",
       "      <td>The Late Late Show|\"Late Late Show\"|\"James Cor...</td>\n",
       "      <td>387442</td>\n",
       "      <td>7771</td>\n",
       "      <td>205</td>\n",
       "      <td>450</td>\n",
       "      <td>-0.088493</td>\n",
       "      <td>2.005720</td>\n",
       "      <td>0.052911</td>\n",
       "      <td>0.116146</td>\n",
       "      <td>-0.425265</td>\n",
       "    </tr>\n",
       "    <tr>\n",
       "      <td>24424</td>\n",
       "      <td>zzO3J_pp9vc</td>\n",
       "      <td>2018-05-09</td>\n",
       "      <td>Parada (Full Song) Jass Manak Ft. Byg Byrd | N...</td>\n",
       "      <td>Akash Paul</td>\n",
       "      <td>10</td>\n",
       "      <td>2018-05-07T16:46:51.000Z</td>\n",
       "      <td>[none]</td>\n",
       "      <td>69142</td>\n",
       "      <td>2957</td>\n",
       "      <td>35</td>\n",
       "      <td>177</td>\n",
       "      <td>-0.374137</td>\n",
       "      <td>4.276706</td>\n",
       "      <td>0.050620</td>\n",
       "      <td>0.255995</td>\n",
       "      <td>0.251126</td>\n",
       "    </tr>\n",
       "    <tr>\n",
       "      <td>24425</td>\n",
       "      <td>zzVFyVNgtsc</td>\n",
       "      <td>2018-05-04</td>\n",
       "      <td>Our World in 2018: DISTURBING VIDEO!</td>\n",
       "      <td>Jason A</td>\n",
       "      <td>25</td>\n",
       "      <td>2018-05-04T01:00:20.000Z</td>\n",
       "      <td>jason a|\"news\"|\"2018\"</td>\n",
       "      <td>51768</td>\n",
       "      <td>2537</td>\n",
       "      <td>98</td>\n",
       "      <td>1409</td>\n",
       "      <td>-0.389729</td>\n",
       "      <td>4.900711</td>\n",
       "      <td>0.189306</td>\n",
       "      <td>2.721759</td>\n",
       "      <td>0.436980</td>\n",
       "    </tr>\n",
       "    <tr>\n",
       "      <td>24426</td>\n",
       "      <td>zzjNCiCqiOs</td>\n",
       "      <td>2017-12-26</td>\n",
       "      <td>the hell hole</td>\n",
       "      <td>westsidewillz</td>\n",
       "      <td>28</td>\n",
       "      <td>2010-01-24T09:21:55.000Z</td>\n",
       "      <td>hell|\"hole\"|\"dirtbikes\"|\"moto\"|\"hill\"|\"climbs\"...</td>\n",
       "      <td>585626</td>\n",
       "      <td>4225</td>\n",
       "      <td>627</td>\n",
       "      <td>241</td>\n",
       "      <td>0.089358</td>\n",
       "      <td>0.721450</td>\n",
       "      <td>0.107065</td>\n",
       "      <td>0.041153</td>\n",
       "      <td>-0.807773</td>\n",
       "    </tr>\n",
       "  </tbody>\n",
       "</table>\n",
       "<p>24058 rows × 16 columns</p>\n",
       "</div>"
      ],
      "text/plain": [
       "          video_id trending_date  \\\n",
       "0      --45ws7CEN0    2018-06-12   \n",
       "1      --7vNbh4UNA    2018-04-14   \n",
       "2      --MtKsH5oBY    2018-06-01   \n",
       "3      --YgtVuvWGo    2018-05-20   \n",
       "4      --iJShLChIc    2018-05-01   \n",
       "...            ...           ...   \n",
       "24422  zz2vrPorALM    2018-04-23   \n",
       "24423  zzCQbYn4U74    2018-03-08   \n",
       "24424  zzO3J_pp9vc    2018-05-09   \n",
       "24425  zzVFyVNgtsc    2018-05-04   \n",
       "24426  zzjNCiCqiOs    2017-12-26   \n",
       "\n",
       "                                                   title  \\\n",
       "0                 PlayStation E3 2018 Showcase | English   \n",
       "1      Responding to ALL The Outrage, Ridiculous H3H3...   \n",
       "2      صحفي بين سبورت يكشف تفاصيل و كواليس استقالة زي...   \n",
       "3                              Jessie Reyez - Body Count   \n",
       "4      Undisputed | Will LeBron James carry the Cavs ...   \n",
       "...                                                  ...   \n",
       "24422                      Most Hilarious Tweets Of 2018   \n",
       "24423       James Corden Challenges LAFC To Soccer Match   \n",
       "24424  Parada (Full Song) Jass Manak Ft. Byg Byrd | N...   \n",
       "24425               Our World in 2018: DISTURBING VIDEO!   \n",
       "24426                                      the hell hole   \n",
       "\n",
       "                              channel_title  category_id  \\\n",
       "0                        PlayStation Europe           20   \n",
       "1                           Philip DeFranco           25   \n",
       "2                                  RedsTech           17   \n",
       "3                           JessieReyezVEVO           10   \n",
       "4                                THSports 2           17   \n",
       "...                                     ...          ...   \n",
       "24422                         Reaction Time           24   \n",
       "24423  The Late Late Show with James Corden           24   \n",
       "24424                            Akash Paul           10   \n",
       "24425                               Jason A           25   \n",
       "24426                         westsidewillz           28   \n",
       "\n",
       "                   publish_time  \\\n",
       "0      2018-06-12T03:11:18.000Z   \n",
       "1      2018-04-13T19:00:00.000Z   \n",
       "2      2018-05-31T12:40:46.000Z   \n",
       "3      2018-05-18T04:00:00.000Z   \n",
       "4      2018-04-30T16:02:26.000Z   \n",
       "...                         ...   \n",
       "24422  2018-04-22T19:15:01.000Z   \n",
       "24423  2018-03-07T06:52:43.000Z   \n",
       "24424  2018-05-07T16:46:51.000Z   \n",
       "24425  2018-05-04T01:00:20.000Z   \n",
       "24426  2010-01-24T09:21:55.000Z   \n",
       "\n",
       "                                                    tags    views  likes  \\\n",
       "0      playstation|\"playstation 4\"|\"playstation europ...   309197   3837   \n",
       "1      Elizabeth Hurley|\"Instagram\"|\"Outrage\"|\"scanda...  1082647  52114   \n",
       "2      RedsTech|\"bein sports\"|\"ريال مدريد\"|\"real madr...   511042   3517   \n",
       "3       Jessie|\"Reyez\"|\"Body\"|\"Count\"|\"Island\"|\"Records\"   362391  21547   \n",
       "4                                                 [none]    54691    153   \n",
       "...                                                  ...      ...    ...   \n",
       "24422  reaction time|\"reaction\"|\"time\"|\"reactiontime\"...   215621  11897   \n",
       "24423  The Late Late Show|\"Late Late Show\"|\"James Cor...   387442   7771   \n",
       "24424                                             [none]    69142   2957   \n",
       "24425                              jason a|\"news\"|\"2018\"    51768   2537   \n",
       "24426  hell|\"hole\"|\"dirtbikes\"|\"moto\"|\"hill\"|\"climbs\"...   585626   4225   \n",
       "\n",
       "       dislikes  comment_count  views_zscore  likes/views(%)  \\\n",
       "0           516            278     -0.158711        1.240956   \n",
       "1          1284          10602      0.535388        4.813573   \n",
       "2           372            767      0.022426        0.688202   \n",
       "3           356            955     -0.110974        5.945788   \n",
       "4           134            254     -0.387106        0.279754   \n",
       "...         ...            ...           ...             ...   \n",
       "24422       139           1526     -0.242686        5.517552   \n",
       "24423       205            450     -0.088493        2.005720   \n",
       "24424        35            177     -0.374137        4.276706   \n",
       "24425        98           1409     -0.389729        4.900711   \n",
       "24426       627            241      0.089358        0.721450   \n",
       "\n",
       "       dislikes/views(%)  comments/views(%)  likes/views_zscore  \n",
       "0               0.166884           0.089910           -0.653043  \n",
       "1               0.118598           0.979267            0.411027  \n",
       "2               0.072792           0.150086           -0.817675  \n",
       "3               0.098236           0.263528            0.748246  \n",
       "4               0.245013           0.464427           -0.939328  \n",
       "...                  ...                ...                 ...  \n",
       "24422           0.064465           0.707723            0.620700  \n",
       "24423           0.052911           0.116146           -0.425265  \n",
       "24424           0.050620           0.255995            0.251126  \n",
       "24425           0.189306           2.721759            0.436980  \n",
       "24426           0.107065           0.041153           -0.807773  \n",
       "\n",
       "[24058 rows x 16 columns]"
      ]
     },
     "execution_count": 72,
     "metadata": {},
     "output_type": "execute_result"
    }
   ],
   "source": [
    "#Z-Score Likes/Views\n",
    "dfCAvideosFirstTrend['likes/views_zscore'] = (dfCAvideosFirstTrend['likes/views(%)'] - dfCAvideosFirstTrend['likes/views(%)'].mean())/dfCAvideosFirstTrend['likes/views(%)'].std(ddof=0)\n",
    "\n",
    "dfCAvideosFirstTrend_zLikesViews = dfCAvideosFirstTrend[dfCAvideosFirstTrend['likes/views_zscore'] < 3]\n",
    "\n",
    "dfCAvideosFirstTrend_zLikesViews"
   ]
  },
  {
   "cell_type": "code",
   "execution_count": 73,
   "metadata": {},
   "outputs": [
    {
     "data": {
      "text/plain": [
       "Text(0, 0.5, 'LIKES TERHADAP VIEWS')"
      ]
     },
     "execution_count": 73,
     "metadata": {},
     "output_type": "execute_result"
    },
    {
     "data": {
      "image/png": "[encoded data removed]",
      "text/plain": [
       "<Figure size 360x360 with 1 Axes>"
      ]
     },
     "metadata": {
      "needs_background": "light"
     },
     "output_type": "display_data"
    }
   ],
   "source": [
    "fig = plt.figure(1, figsize=(5, 5))\n",
    "\n",
    "# membuat axes\n",
    "ax = fig.add_subplot(111)\n",
    "\n",
    "# boxplot\n",
    "ax.boxplot(dfCAvideosFirstTrend_zLikesViews['likes/views(%)'].values)\n",
    "\n",
    "# ax.set_ylim(0,1000)\n",
    "ax.set_xticklabels(\"\")\n",
    "\n",
    "# penamaan judul\n",
    "plt.title(\"BOXPLOT LIKES TERHADAP VIEWS REGION CANADA\", fontsize=14)\n",
    "\n",
    "plt.ylabel(\"LIKES TERHADAP VIEWS\", fontsize=14)"
   ]
  },
  {
   "cell_type": "markdown",
   "metadata": {},
   "source": [
    "<b>------------------------------------------------------------------------------------------------------------------------------------------------------------------------------------------------------------------------------------------------------------------------------------------------------------------------------------------------------------------------------------------------------------------------------------------------------------------------------------------------------------------------------------------------------------------------------------------------------------------------------------------------------------------------------------------------------------------------------------------------------------------------------------------------------------------------------------------------------------------------</b>"
   ]
  },
  {
   "cell_type": "markdown",
   "metadata": {},
   "source": [
    "## MENCARI MACAM-MACAM TOP 5"
   ]
  },
  {
   "cell_type": "markdown",
   "metadata": {},
   "source": [
    "## TOP 5 KATEGORI VIDEO TERBANYAK YANG DIUPLOAD DI CANADA"
   ]
  },
  {
   "cell_type": "markdown",
   "metadata": {},
   "source": [
    "Untuk mencari top 5 kategori video terbanyak dan terendah yang diupload berdasarkan masing-masing wilayah, maka dataframe baru yang menampilkan berapa banyak video yang diupload berdasarkan kategori perlu untuk dibuat."
   ]
  },
  {
   "cell_type": "code",
   "execution_count": 74,
   "metadata": {},
   "outputs": [
    {
     "name": "stdout",
     "output_type": "stream",
     "text": [
      "DATA UPLOAD BERDASARKAN KATEGORI CANADA\n"
     ]
    },
    {
     "data": {
      "text/html": [
       "<div>\n",
       "<style scoped>\n",
       "    .dataframe tbody tr th:only-of-type {\n",
       "        vertical-align: middle;\n",
       "    }\n",
       "\n",
       "    .dataframe tbody tr th {\n",
       "        vertical-align: top;\n",
       "    }\n",
       "\n",
       "    .dataframe thead th {\n",
       "        text-align: right;\n",
       "    }\n",
       "</style>\n",
       "<table border=\"1\" class=\"dataframe\">\n",
       "  <thead>\n",
       "    <tr style=\"text-align: right;\">\n",
       "      <th></th>\n",
       "      <th>id</th>\n",
       "      <th>category</th>\n",
       "      <th>upload_count</th>\n",
       "    </tr>\n",
       "  </thead>\n",
       "  <tbody>\n",
       "    <tr>\n",
       "      <td>0</td>\n",
       "      <td>1</td>\n",
       "      <td>Film &amp; Animation</td>\n",
       "      <td>2060</td>\n",
       "    </tr>\n",
       "    <tr>\n",
       "      <td>1</td>\n",
       "      <td>2</td>\n",
       "      <td>Autos &amp; Vehicles</td>\n",
       "      <td>353</td>\n",
       "    </tr>\n",
       "    <tr>\n",
       "      <td>2</td>\n",
       "      <td>10</td>\n",
       "      <td>Music</td>\n",
       "      <td>3731</td>\n",
       "    </tr>\n",
       "    <tr>\n",
       "      <td>3</td>\n",
       "      <td>15</td>\n",
       "      <td>Pets &amp; Animals</td>\n",
       "      <td>369</td>\n",
       "    </tr>\n",
       "    <tr>\n",
       "      <td>4</td>\n",
       "      <td>17</td>\n",
       "      <td>Sports</td>\n",
       "      <td>2787</td>\n",
       "    </tr>\n",
       "    <tr>\n",
       "      <td>5</td>\n",
       "      <td>19</td>\n",
       "      <td>Travel &amp; Events</td>\n",
       "      <td>392</td>\n",
       "    </tr>\n",
       "    <tr>\n",
       "      <td>6</td>\n",
       "      <td>20</td>\n",
       "      <td>Gaming</td>\n",
       "      <td>1344</td>\n",
       "    </tr>\n",
       "    <tr>\n",
       "      <td>7</td>\n",
       "      <td>22</td>\n",
       "      <td>People &amp; Blogs</td>\n",
       "      <td>4105</td>\n",
       "    </tr>\n",
       "    <tr>\n",
       "      <td>8</td>\n",
       "      <td>23</td>\n",
       "      <td>Comedy</td>\n",
       "      <td>3773</td>\n",
       "    </tr>\n",
       "    <tr>\n",
       "      <td>9</td>\n",
       "      <td>24</td>\n",
       "      <td>Entertainment</td>\n",
       "      <td>13451</td>\n",
       "    </tr>\n",
       "    <tr>\n",
       "      <td>10</td>\n",
       "      <td>25</td>\n",
       "      <td>News &amp; Politics</td>\n",
       "      <td>4159</td>\n",
       "    </tr>\n",
       "    <tr>\n",
       "      <td>11</td>\n",
       "      <td>26</td>\n",
       "      <td>Howto &amp; Style</td>\n",
       "      <td>2007</td>\n",
       "    </tr>\n",
       "    <tr>\n",
       "      <td>12</td>\n",
       "      <td>27</td>\n",
       "      <td>Education</td>\n",
       "      <td>991</td>\n",
       "    </tr>\n",
       "    <tr>\n",
       "      <td>13</td>\n",
       "      <td>28</td>\n",
       "      <td>Science &amp; Technology</td>\n",
       "      <td>1155</td>\n",
       "    </tr>\n",
       "    <tr>\n",
       "      <td>14</td>\n",
       "      <td>29</td>\n",
       "      <td>Nonprofits &amp; Activism</td>\n",
       "      <td>74</td>\n",
       "    </tr>\n",
       "    <tr>\n",
       "      <td>15</td>\n",
       "      <td>30</td>\n",
       "      <td>Movies</td>\n",
       "      <td>6</td>\n",
       "    </tr>\n",
       "    <tr>\n",
       "      <td>16</td>\n",
       "      <td>43</td>\n",
       "      <td>Shows</td>\n",
       "      <td>124</td>\n",
       "    </tr>\n",
       "  </tbody>\n",
       "</table>\n",
       "</div>"
      ],
      "text/plain": [
       "    id               category  upload_count\n",
       "0    1       Film & Animation          2060\n",
       "1    2       Autos & Vehicles           353\n",
       "2   10                  Music          3731\n",
       "3   15         Pets & Animals           369\n",
       "4   17                 Sports          2787\n",
       "5   19        Travel & Events           392\n",
       "6   20                 Gaming          1344\n",
       "7   22         People & Blogs          4105\n",
       "8   23                 Comedy          3773\n",
       "9   24          Entertainment         13451\n",
       "10  25        News & Politics          4159\n",
       "11  26          Howto & Style          2007\n",
       "12  27              Education           991\n",
       "13  28   Science & Technology          1155\n",
       "14  29  Nonprofits & Activism            74\n",
       "15  30                 Movies             6\n",
       "16  43                  Shows           124"
      ]
     },
     "execution_count": 74,
     "metadata": {},
     "output_type": "execute_result"
    }
   ],
   "source": [
    "data_upload_category_ca = {\n",
    "    \n",
    "    # a adalah hasil sorting array saat menemukan value yang unique dari id kategori data video region Canada\n",
    "    'id' : a,\n",
    "    'category' : [i for i in dfCAcategory['category']],\n",
    "    'upload_count': [gCAvideo.get_group(items)['category_id'].count() for items in dfCAcategory['id']]\n",
    "}\n",
    "\n",
    "dfCatUploadCA = pd.DataFrame(data_upload_category_ca)\n",
    "\n",
    "print(\"DATA UPLOAD BERDASARKAN KATEGORI CANADA\")\n",
    "dfCatUploadCA"
   ]
  },
  {
   "cell_type": "markdown",
   "metadata": {},
   "source": [
    "### 1. Top 5 Kategori Dengan Upload Tertinggi Wilayah Canada"
   ]
  },
  {
   "cell_type": "code",
   "execution_count": 75,
   "metadata": {},
   "outputs": [
    {
     "name": "stdout",
     "output_type": "stream",
     "text": [
      "TOP 5 KATEGORI DENGAN UPLOAD TERBANYAK DI CANADA\n"
     ]
    },
    {
     "data": {
      "text/html": [
       "<div>\n",
       "<style scoped>\n",
       "    .dataframe tbody tr th:only-of-type {\n",
       "        vertical-align: middle;\n",
       "    }\n",
       "\n",
       "    .dataframe tbody tr th {\n",
       "        vertical-align: top;\n",
       "    }\n",
       "\n",
       "    .dataframe thead th {\n",
       "        text-align: right;\n",
       "    }\n",
       "</style>\n",
       "<table border=\"1\" class=\"dataframe\">\n",
       "  <thead>\n",
       "    <tr style=\"text-align: right;\">\n",
       "      <th></th>\n",
       "      <th>id</th>\n",
       "      <th>category</th>\n",
       "      <th>upload_count</th>\n",
       "    </tr>\n",
       "  </thead>\n",
       "  <tbody>\n",
       "    <tr>\n",
       "      <td>1</td>\n",
       "      <td>24</td>\n",
       "      <td>Entertainment</td>\n",
       "      <td>13451</td>\n",
       "    </tr>\n",
       "    <tr>\n",
       "      <td>2</td>\n",
       "      <td>25</td>\n",
       "      <td>News &amp; Politics</td>\n",
       "      <td>4159</td>\n",
       "    </tr>\n",
       "    <tr>\n",
       "      <td>3</td>\n",
       "      <td>22</td>\n",
       "      <td>People &amp; Blogs</td>\n",
       "      <td>4105</td>\n",
       "    </tr>\n",
       "    <tr>\n",
       "      <td>4</td>\n",
       "      <td>23</td>\n",
       "      <td>Comedy</td>\n",
       "      <td>3773</td>\n",
       "    </tr>\n",
       "    <tr>\n",
       "      <td>5</td>\n",
       "      <td>10</td>\n",
       "      <td>Music</td>\n",
       "      <td>3731</td>\n",
       "    </tr>\n",
       "  </tbody>\n",
       "</table>\n",
       "</div>"
      ],
      "text/plain": [
       "   id         category  upload_count\n",
       "1  24    Entertainment         13451\n",
       "2  25  News & Politics          4159\n",
       "3  22   People & Blogs          4105\n",
       "4  23           Comedy          3773\n",
       "5  10            Music          3731"
      ]
     },
     "execution_count": 75,
     "metadata": {},
     "output_type": "execute_result"
    }
   ],
   "source": [
    "#sorting tertinggi\n",
    "top5ca_upload_high = dfCatUploadCA.nlargest(5, \"upload_count\")\n",
    "\n",
    "#reindex dari 1\n",
    "top5ca_upload_high.index = np.arange(1, len(top5ca_upload_high) + 1)\n",
    "\n",
    "\n",
    "print(\"TOP 5 KATEGORI DENGAN UPLOAD TERBANYAK DI CANADA\")\n",
    "top5ca_upload_high"
   ]
  },
  {
   "cell_type": "markdown",
   "metadata": {},
   "source": [
    "### 2. Top 5 Kategori Dengan Upload Terendah Wilayah Canada"
   ]
  },
  {
   "cell_type": "code",
   "execution_count": 76,
   "metadata": {},
   "outputs": [
    {
     "name": "stdout",
     "output_type": "stream",
     "text": [
      "TOP 5 KATEGORI DENGAN UPLOAD TERENDAH DI CANADA\n"
     ]
    },
    {
     "data": {
      "text/html": [
       "<div>\n",
       "<style scoped>\n",
       "    .dataframe tbody tr th:only-of-type {\n",
       "        vertical-align: middle;\n",
       "    }\n",
       "\n",
       "    .dataframe tbody tr th {\n",
       "        vertical-align: top;\n",
       "    }\n",
       "\n",
       "    .dataframe thead th {\n",
       "        text-align: right;\n",
       "    }\n",
       "</style>\n",
       "<table border=\"1\" class=\"dataframe\">\n",
       "  <thead>\n",
       "    <tr style=\"text-align: right;\">\n",
       "      <th></th>\n",
       "      <th>id</th>\n",
       "      <th>category</th>\n",
       "      <th>upload_count</th>\n",
       "    </tr>\n",
       "  </thead>\n",
       "  <tbody>\n",
       "    <tr>\n",
       "      <td>1</td>\n",
       "      <td>30</td>\n",
       "      <td>Movies</td>\n",
       "      <td>6</td>\n",
       "    </tr>\n",
       "    <tr>\n",
       "      <td>2</td>\n",
       "      <td>29</td>\n",
       "      <td>Nonprofits &amp; Activism</td>\n",
       "      <td>74</td>\n",
       "    </tr>\n",
       "    <tr>\n",
       "      <td>3</td>\n",
       "      <td>43</td>\n",
       "      <td>Shows</td>\n",
       "      <td>124</td>\n",
       "    </tr>\n",
       "    <tr>\n",
       "      <td>4</td>\n",
       "      <td>2</td>\n",
       "      <td>Autos &amp; Vehicles</td>\n",
       "      <td>353</td>\n",
       "    </tr>\n",
       "    <tr>\n",
       "      <td>5</td>\n",
       "      <td>15</td>\n",
       "      <td>Pets &amp; Animals</td>\n",
       "      <td>369</td>\n",
       "    </tr>\n",
       "  </tbody>\n",
       "</table>\n",
       "</div>"
      ],
      "text/plain": [
       "   id               category  upload_count\n",
       "1  30                 Movies             6\n",
       "2  29  Nonprofits & Activism            74\n",
       "3  43                  Shows           124\n",
       "4   2       Autos & Vehicles           353\n",
       "5  15         Pets & Animals           369"
      ]
     },
     "execution_count": 76,
     "metadata": {},
     "output_type": "execute_result"
    }
   ],
   "source": [
    "#sorting terendah\n",
    "top5ca_upload_low = dfCatUploadCA.sort_values('upload_count').head(5)\n",
    "\n",
    "#reindex dari 1\n",
    "top5ca_upload_low.index = np.arange(1, len(top5ca_upload_high) + 1)\n",
    "\n",
    "print(\"TOP 5 KATEGORI DENGAN UPLOAD TERENDAH DI CANADA\")\n",
    "top5ca_upload_low"
   ]
  },
  {
   "cell_type": "markdown",
   "metadata": {},
   "source": [
    "<b>------------------------------------------------------------------------------------------------------------------------------------------------------------------------------------------------------------------------------------------------------------------------------------------------------------------------------------------------------------------------------------------------------------------------------------</b>"
   ]
  },
  {
   "cell_type": "markdown",
   "metadata": {},
   "source": [
    "## TOP 5 KATEGORI BERDASARKAN AVERAGE VIEW DI CANADA"
   ]
  },
  {
   "cell_type": "markdown",
   "metadata": {},
   "source": [
    "Untuk mencari top 5 kategori video tertinggi dan terendah berdasarkan average view untuk tiap wilayah wilayah, maka dataframe baru yang menampilkan berapa average view berdasarkan kategori perlu untuk dibuat."
   ]
  },
  {
   "cell_type": "code",
   "execution_count": 77,
   "metadata": {},
   "outputs": [],
   "source": [
    "data_avgview_category_ca = {\n",
    "    \n",
    "    # a adalah hasil sorting array saat menemukan value yang unique dari id kategori data video region Canada\n",
    "    'id' : a,\n",
    "    'category' : [i for i in dfCAcategory['category']],\n",
    "    'average_views': [gCAvideo.get_group(items)['views'].mean() for items in dfCAcategory['id']]\n",
    "}\n",
    "\n",
    "dfCatAvgViewCA = pd.DataFrame(data_avgview_category_ca)"
   ]
  },
  {
   "cell_type": "markdown",
   "metadata": {},
   "source": [
    "### 1. Top 5 Kategori Dengan Average Views Tertinggi di Canada"
   ]
  },
  {
   "cell_type": "code",
   "execution_count": 78,
   "metadata": {},
   "outputs": [
    {
     "name": "stdout",
     "output_type": "stream",
     "text": [
      "TOP 5 KATEGORI DENGAN AVERAGE VIEWS TERTINGGI DI CANADA\n"
     ]
    },
    {
     "data": {
      "text/html": [
       "<div>\n",
       "<style scoped>\n",
       "    .dataframe tbody tr th:only-of-type {\n",
       "        vertical-align: middle;\n",
       "    }\n",
       "\n",
       "    .dataframe tbody tr th {\n",
       "        vertical-align: top;\n",
       "    }\n",
       "\n",
       "    .dataframe thead th {\n",
       "        text-align: right;\n",
       "    }\n",
       "</style>\n",
       "<table border=\"1\" class=\"dataframe\">\n",
       "  <thead>\n",
       "    <tr style=\"text-align: right;\">\n",
       "      <th></th>\n",
       "      <th>id</th>\n",
       "      <th>category</th>\n",
       "      <th>average_views</th>\n",
       "    </tr>\n",
       "  </thead>\n",
       "  <tbody>\n",
       "    <tr>\n",
       "      <td>1</td>\n",
       "      <td>10</td>\n",
       "      <td>Music</td>\n",
       "      <td>3532524.844278</td>\n",
       "    </tr>\n",
       "    <tr>\n",
       "      <td>2</td>\n",
       "      <td>30</td>\n",
       "      <td>Movies</td>\n",
       "      <td>2853415.000000</td>\n",
       "    </tr>\n",
       "    <tr>\n",
       "      <td>3</td>\n",
       "      <td>29</td>\n",
       "      <td>Nonprofits &amp; Activism</td>\n",
       "      <td>1562184.094595</td>\n",
       "    </tr>\n",
       "    <tr>\n",
       "      <td>4</td>\n",
       "      <td>1</td>\n",
       "      <td>Film &amp; Animation</td>\n",
       "      <td>1426728.565049</td>\n",
       "    </tr>\n",
       "    <tr>\n",
       "      <td>5</td>\n",
       "      <td>28</td>\n",
       "      <td>Science &amp; Technology</td>\n",
       "      <td>1233844.520346</td>\n",
       "    </tr>\n",
       "  </tbody>\n",
       "</table>\n",
       "</div>"
      ],
      "text/plain": [
       "   id               category  average_views\n",
       "1  10                  Music 3532524.844278\n",
       "2  30                 Movies 2853415.000000\n",
       "3  29  Nonprofits & Activism 1562184.094595\n",
       "4   1       Film & Animation 1426728.565049\n",
       "5  28   Science & Technology 1233844.520346"
      ]
     },
     "execution_count": 78,
     "metadata": {},
     "output_type": "execute_result"
    }
   ],
   "source": [
    "#sorting tertinggi\n",
    "top5ca_avgview_high = dfCatAvgViewCA.nlargest(5, \"average_views\")\n",
    "\n",
    "#reindex dari 1\n",
    "top5ca_avgview_high.index = np.arange(1, len(top5ca_avgview_high) + 1)\n",
    "\n",
    "print(\"TOP 5 KATEGORI DENGAN AVERAGE VIEWS TERTINGGI DI CANADA\")\n",
    "top5ca_avgview_high"
   ]
  },
  {
   "cell_type": "markdown",
   "metadata": {},
   "source": [
    "### 2. Top 5 Kategori Dengan Average Views Terendah di Canada"
   ]
  },
  {
   "cell_type": "code",
   "execution_count": 79,
   "metadata": {},
   "outputs": [
    {
     "name": "stdout",
     "output_type": "stream",
     "text": [
      "TOP 5 KATEGORI DENGAN AVERAGE VIEWS TERENDAH DI CANADA\n"
     ]
    },
    {
     "data": {
      "text/html": [
       "<div>\n",
       "<style scoped>\n",
       "    .dataframe tbody tr th:only-of-type {\n",
       "        vertical-align: middle;\n",
       "    }\n",
       "\n",
       "    .dataframe tbody tr th {\n",
       "        vertical-align: top;\n",
       "    }\n",
       "\n",
       "    .dataframe thead th {\n",
       "        text-align: right;\n",
       "    }\n",
       "</style>\n",
       "<table border=\"1\" class=\"dataframe\">\n",
       "  <thead>\n",
       "    <tr style=\"text-align: right;\">\n",
       "      <th></th>\n",
       "      <th>id</th>\n",
       "      <th>category</th>\n",
       "      <th>average_views</th>\n",
       "    </tr>\n",
       "  </thead>\n",
       "  <tbody>\n",
       "    <tr>\n",
       "      <td>1</td>\n",
       "      <td>19</td>\n",
       "      <td>Travel &amp; Events</td>\n",
       "      <td>366701.408163</td>\n",
       "    </tr>\n",
       "    <tr>\n",
       "      <td>2</td>\n",
       "      <td>25</td>\n",
       "      <td>News &amp; Politics</td>\n",
       "      <td>388220.736475</td>\n",
       "    </tr>\n",
       "    <tr>\n",
       "      <td>3</td>\n",
       "      <td>27</td>\n",
       "      <td>Education</td>\n",
       "      <td>536602.767911</td>\n",
       "    </tr>\n",
       "    <tr>\n",
       "      <td>4</td>\n",
       "      <td>2</td>\n",
       "      <td>Autos &amp; Vehicles</td>\n",
       "      <td>566759.416431</td>\n",
       "    </tr>\n",
       "    <tr>\n",
       "      <td>5</td>\n",
       "      <td>43</td>\n",
       "      <td>Shows</td>\n",
       "      <td>577012.161290</td>\n",
       "    </tr>\n",
       "  </tbody>\n",
       "</table>\n",
       "</div>"
      ],
      "text/plain": [
       "   id          category  average_views\n",
       "1  19   Travel & Events  366701.408163\n",
       "2  25   News & Politics  388220.736475\n",
       "3  27         Education  536602.767911\n",
       "4   2  Autos & Vehicles  566759.416431\n",
       "5  43             Shows  577012.161290"
      ]
     },
     "execution_count": 79,
     "metadata": {},
     "output_type": "execute_result"
    }
   ],
   "source": [
    "#sorting terendah\n",
    "top5ca_avgview_low = dfCatAvgViewCA.sort_values('average_views').head(5)\n",
    "\n",
    "#reindex dari 1\n",
    "top5ca_avgview_low.index = np.arange(1, len(top5ca_avgview_low) + 1)\n",
    "\n",
    "print(\"TOP 5 KATEGORI DENGAN AVERAGE VIEWS TERENDAH DI CANADA\")\n",
    "top5ca_avgview_low"
   ]
  },
  {
   "cell_type": "markdown",
   "metadata": {},
   "source": [
    "<b>------------------------------------------------------------------------------------------------------------------------------------------------------------------------------------------------------------------------------------------------------------------------------------------------------------------------------------------------------------------------------------------------------------------------------------</b>"
   ]
  },
  {
   "cell_type": "markdown",
   "metadata": {},
   "source": [
    "## TOP 5 CHANNEL DENGAN VIEWER TERBANYAK DI CANADA"
   ]
  },
  {
   "cell_type": "code",
   "execution_count": 80,
   "metadata": {},
   "outputs": [
    {
     "data": {
      "text/html": [
       "<div>\n",
       "<style scoped>\n",
       "    .dataframe tbody tr th:only-of-type {\n",
       "        vertical-align: middle;\n",
       "    }\n",
       "\n",
       "    .dataframe tbody tr th {\n",
       "        vertical-align: top;\n",
       "    }\n",
       "\n",
       "    .dataframe thead th {\n",
       "        text-align: right;\n",
       "    }\n",
       "</style>\n",
       "<table border=\"1\" class=\"dataframe\">\n",
       "  <thead>\n",
       "    <tr style=\"text-align: right;\">\n",
       "      <th></th>\n",
       "      <th>channel_title</th>\n",
       "      <th>views</th>\n",
       "    </tr>\n",
       "  </thead>\n",
       "  <tbody>\n",
       "    <tr>\n",
       "      <td>1</td>\n",
       "      <td>Marvel Entertainment</td>\n",
       "      <td>1011420205</td>\n",
       "    </tr>\n",
       "    <tr>\n",
       "      <td>2</td>\n",
       "      <td>T-Series</td>\n",
       "      <td>799114025</td>\n",
       "    </tr>\n",
       "    <tr>\n",
       "      <td>3</td>\n",
       "      <td>Dude Perfect</td>\n",
       "      <td>729916338</td>\n",
       "    </tr>\n",
       "    <tr>\n",
       "      <td>4</td>\n",
       "      <td>YouTube Spotlight</td>\n",
       "      <td>635976769</td>\n",
       "    </tr>\n",
       "    <tr>\n",
       "      <td>5</td>\n",
       "      <td>ibighit</td>\n",
       "      <td>511567918</td>\n",
       "    </tr>\n",
       "  </tbody>\n",
       "</table>\n",
       "</div>"
      ],
      "text/plain": [
       "          channel_title       views\n",
       "1  Marvel Entertainment  1011420205\n",
       "2              T-Series   799114025\n",
       "3          Dude Perfect   729916338\n",
       "4     YouTube Spotlight   635976769\n",
       "5               ibighit   511567918"
      ]
     },
     "execution_count": 80,
     "metadata": {},
     "output_type": "execute_result"
    }
   ],
   "source": [
    "#membuat dataframe baru dengan sum yang menghitung total viewer berdasarkan channel_title dalam datasets dfCAvideos\n",
    "dfChannelViewCA = dfCAvideos.groupby(['channel_title'])['views'].sum().reset_index()\n",
    "\n",
    "#melakukan sorting berdasarkan views\n",
    "dfChannelViewCA.sort_values(by=\"views\", inplace = True, ascending = False)\n",
    "\n",
    "#reset index dari 1\n",
    "dfChannelViewCA.reset_index(drop = True, inplace = True)\n",
    "dfChannelViewCA.index = dfChannelViewCA.index + 1\n",
    "\n",
    "dfChannelViewCA.head(5)"
   ]
  },
  {
   "cell_type": "markdown",
   "metadata": {},
   "source": [
    "<b>------------------------------------------------------------------------------------------------------------------------------------------------------------------------------------------------------------------------------------------------------------------------------------------------------------------------------------------------------------------------------------------------------------------------------------</b>"
   ]
  },
  {
   "cell_type": "markdown",
   "metadata": {},
   "source": [
    "## TOP 5 CHANNEL YANG PALING SERING MASUK DAILY TRENDING DI CANADA"
   ]
  },
  {
   "cell_type": "markdown",
   "metadata": {},
   "source": [
    "Untuk mencari top 5 channel yang <b>paling sering masuk</b> daily trending di tiap wilayah + berapa <b>total viewernya</b>, maka dataframe baru yang menampilkan berapa kali channel muncul di datasets videos masing-masing wilayah perlu untuk dibuat, kemudian dimerge dengan dataframe baru juga yang menampilkan berapa jumlah total viewer tiap channel yang videonya pernah masuk ke dalam daily trending."
   ]
  },
  {
   "cell_type": "code",
   "execution_count": 81,
   "metadata": {},
   "outputs": [
    {
     "data": {
      "text/html": [
       "<div>\n",
       "<style scoped>\n",
       "    .dataframe tbody tr th:only-of-type {\n",
       "        vertical-align: middle;\n",
       "    }\n",
       "\n",
       "    .dataframe tbody tr th {\n",
       "        vertical-align: top;\n",
       "    }\n",
       "\n",
       "    .dataframe thead th {\n",
       "        text-align: right;\n",
       "    }\n",
       "</style>\n",
       "<table border=\"1\" class=\"dataframe\">\n",
       "  <thead>\n",
       "    <tr style=\"text-align: right;\">\n",
       "      <th></th>\n",
       "      <th>channel_title</th>\n",
       "      <th>trending_count</th>\n",
       "    </tr>\n",
       "  </thead>\n",
       "  <tbody>\n",
       "    <tr>\n",
       "      <td>1</td>\n",
       "      <td>SET India</td>\n",
       "      <td>192</td>\n",
       "    </tr>\n",
       "    <tr>\n",
       "      <td>2</td>\n",
       "      <td>MSNBC</td>\n",
       "      <td>189</td>\n",
       "    </tr>\n",
       "    <tr>\n",
       "      <td>3</td>\n",
       "      <td>FBE</td>\n",
       "      <td>188</td>\n",
       "    </tr>\n",
       "    <tr>\n",
       "      <td>4</td>\n",
       "      <td>The Young Turks</td>\n",
       "      <td>186</td>\n",
       "    </tr>\n",
       "    <tr>\n",
       "      <td>5</td>\n",
       "      <td>REACT</td>\n",
       "      <td>183</td>\n",
       "    </tr>\n",
       "  </tbody>\n",
       "</table>\n",
       "</div>"
      ],
      "text/plain": [
       "     channel_title  trending_count\n",
       "1        SET India             192\n",
       "2            MSNBC             189\n",
       "3              FBE             188\n",
       "4  The Young Turks             186\n",
       "5            REACT             183"
      ]
     },
     "execution_count": 81,
     "metadata": {},
     "output_type": "execute_result"
    }
   ],
   "source": [
    "#membuat dataframe baru dengan value_counts yang menghitung berapa kali channel_title muncul dalam datasets dfCAvideos\n",
    "dfChannelCountCA = pd.DataFrame(dfCAvideos.channel_title.value_counts().reset_index())\n",
    "\n",
    "#reset index dari 1\n",
    "dfChannelCountCA.index = dfChannelCountCA.index + 1\n",
    "\n",
    "#rename kolom\n",
    "dfChannelCountCA.columns = ['channel_title', 'trending_count']\n",
    "\n",
    "dfChannelCountCA.head(5)"
   ]
  },
  {
   "cell_type": "code",
   "execution_count": 82,
   "metadata": {},
   "outputs": [
    {
     "name": "stdout",
     "output_type": "stream",
     "text": [
      "TOP 5 CHANNEL YANG MASUK DAILY TRENDING DI CANADA\n"
     ]
    },
    {
     "data": {
      "text/html": [
       "<div>\n",
       "<style scoped>\n",
       "    .dataframe tbody tr th:only-of-type {\n",
       "        vertical-align: middle;\n",
       "    }\n",
       "\n",
       "    .dataframe tbody tr th {\n",
       "        vertical-align: top;\n",
       "    }\n",
       "\n",
       "    .dataframe thead th {\n",
       "        text-align: right;\n",
       "    }\n",
       "</style>\n",
       "<table border=\"1\" class=\"dataframe\">\n",
       "  <thead>\n",
       "    <tr style=\"text-align: right;\">\n",
       "      <th></th>\n",
       "      <th>channel_title</th>\n",
       "      <th>trending_count</th>\n",
       "      <th>views</th>\n",
       "    </tr>\n",
       "  </thead>\n",
       "  <tbody>\n",
       "    <tr>\n",
       "      <td>1</td>\n",
       "      <td>SET India</td>\n",
       "      <td>192</td>\n",
       "      <td>30653644</td>\n",
       "    </tr>\n",
       "    <tr>\n",
       "      <td>2</td>\n",
       "      <td>MSNBC</td>\n",
       "      <td>189</td>\n",
       "      <td>46844376</td>\n",
       "    </tr>\n",
       "    <tr>\n",
       "      <td>3</td>\n",
       "      <td>FBE</td>\n",
       "      <td>188</td>\n",
       "      <td>190373991</td>\n",
       "    </tr>\n",
       "    <tr>\n",
       "      <td>4</td>\n",
       "      <td>The Young Turks</td>\n",
       "      <td>186</td>\n",
       "      <td>26839198</td>\n",
       "    </tr>\n",
       "    <tr>\n",
       "      <td>5</td>\n",
       "      <td>REACT</td>\n",
       "      <td>183</td>\n",
       "      <td>108454748</td>\n",
       "    </tr>\n",
       "  </tbody>\n",
       "</table>\n",
       "</div>"
      ],
      "text/plain": [
       "     channel_title  trending_count      views\n",
       "1        SET India             192   30653644\n",
       "2            MSNBC             189   46844376\n",
       "3              FBE             188  190373991\n",
       "4  The Young Turks             186   26839198\n",
       "5            REACT             183  108454748"
      ]
     },
     "execution_count": 82,
     "metadata": {},
     "output_type": "execute_result"
    }
   ],
   "source": [
    "#membuat dataframe baru yang merupakan hasil merge dari dfChannelCountCA dan dfChannelViewCA berdasarkan channel_title\n",
    "dfTop5ChannelCA = pd.merge(dfChannelCountCA,dfChannelViewCA, on=\"channel_title\").reset_index(drop = True)\n",
    "\n",
    "#melakukan index ulang dari angka 1\n",
    "dfTop5ChannelCA.index = dfTop5ChannelCA.index + 1      \n",
    "\n",
    "print(\"TOP 5 CHANNEL YANG MASUK DAILY TRENDING DI CANADA\")\n",
    "dfTop5ChannelCA.head(5)"
   ]
  },
  {
   "cell_type": "markdown",
   "metadata": {},
   "source": [
    "<b>------------------------------------------------------------------------------------------------------------------------------------------------------------------------------------------------------------------------------------------------------------------------------------------------------------------------------------------------------------------------------------------------------------------------------------</b>"
   ]
  },
  {
   "cell_type": "markdown",
   "metadata": {},
   "source": [
    "## TOP 5 VIDEO YANG PALING SERING MASUK DAILY TRENDING CANADA"
   ]
  },
  {
   "cell_type": "markdown",
   "metadata": {},
   "source": [
    "Untuk mencari top 5 video yang paling sering masuk daily trending di tiap wilayah wilayah, maka dataframe baru yang menampilkan berapa kali video muncul di datasets Videos tersebut perlu untuk dibuat.\n",
    "\n",
    "#### Di sini size() digunakan untuk menghitung suatu elemen pada dataframe, tetapi jika size() dikombinasikan dengan groupby() , maka size akan bertindak seperti count() yang menghitung kolom yang di-groupby-kan"
   ]
  },
  {
   "cell_type": "code",
   "execution_count": 83,
   "metadata": {},
   "outputs": [
    {
     "name": "stdout",
     "output_type": "stream",
     "text": [
      "TOP 5 VIDEO YANG MASUK DAILY TRENDING DI CANADA\n"
     ]
    },
    {
     "data": {
      "text/html": [
       "<div>\n",
       "<style scoped>\n",
       "    .dataframe tbody tr th:only-of-type {\n",
       "        vertical-align: middle;\n",
       "    }\n",
       "\n",
       "    .dataframe tbody tr th {\n",
       "        vertical-align: top;\n",
       "    }\n",
       "\n",
       "    .dataframe thead th {\n",
       "        text-align: right;\n",
       "    }\n",
       "</style>\n",
       "<table border=\"1\" class=\"dataframe\">\n",
       "  <thead>\n",
       "    <tr style=\"text-align: right;\">\n",
       "      <th></th>\n",
       "      <th>video_id</th>\n",
       "      <th>title</th>\n",
       "      <th>category_id</th>\n",
       "      <th>count</th>\n",
       "    </tr>\n",
       "  </thead>\n",
       "  <tbody>\n",
       "    <tr>\n",
       "      <td>1</td>\n",
       "      <td>VYOjWnS4cMY</td>\n",
       "      <td>Childish Gambino - This Is America (Official V...</td>\n",
       "      <td>10</td>\n",
       "      <td>8</td>\n",
       "    </tr>\n",
       "    <tr>\n",
       "      <td>2</td>\n",
       "      <td>l_lblj8Cq0o</td>\n",
       "      <td>G-Eazy - No Limit REMIX ft. A$AP Rocky, Cardi ...</td>\n",
       "      <td>10</td>\n",
       "      <td>8</td>\n",
       "    </tr>\n",
       "    <tr>\n",
       "      <td>3</td>\n",
       "      <td>UceaB4D0jpo</td>\n",
       "      <td>Post Malone - rockstar ft. 21 Savage</td>\n",
       "      <td>10</td>\n",
       "      <td>8</td>\n",
       "    </tr>\n",
       "    <tr>\n",
       "      <td>4</td>\n",
       "      <td>6ZfuNTqbHE8</td>\n",
       "      <td>Marvel Studios' Avengers: Infinity War Officia...</td>\n",
       "      <td>24</td>\n",
       "      <td>8</td>\n",
       "    </tr>\n",
       "    <tr>\n",
       "      <td>5</td>\n",
       "      <td>GOiDjiE8haM</td>\n",
       "      <td>YouTuber Back for Revenge on Dr. Phil</td>\n",
       "      <td>24</td>\n",
       "      <td>7</td>\n",
       "    </tr>\n",
       "  </tbody>\n",
       "</table>\n",
       "</div>"
      ],
      "text/plain": [
       "      video_id                                              title  \\\n",
       "1  VYOjWnS4cMY  Childish Gambino - This Is America (Official V...   \n",
       "2  l_lblj8Cq0o  G-Eazy - No Limit REMIX ft. A$AP Rocky, Cardi ...   \n",
       "3  UceaB4D0jpo               Post Malone - rockstar ft. 21 Savage   \n",
       "4  6ZfuNTqbHE8  Marvel Studios' Avengers: Infinity War Officia...   \n",
       "5  GOiDjiE8haM              YouTuber Back for Revenge on Dr. Phil   \n",
       "\n",
       "   category_id  count  \n",
       "1           10      8  \n",
       "2           10      8  \n",
       "3           10      8  \n",
       "4           24      8  \n",
       "5           24      7  "
      ]
     },
     "execution_count": 83,
     "metadata": {},
     "output_type": "execute_result"
    }
   ],
   "source": [
    "#membuat dataframe baru dengan size() yang menghitung berapa kali video_id & title muncul dalam datasets dfCAvideos\n",
    "dfTop5VideoCA = dfCAvideos.groupby([\"video_id\", \"title\",\"category_id\"]).size().reset_index(name=\"count\")\n",
    "\n",
    "#sorting berdasarkan count\n",
    "dfTop5VideoCA.sort_values(by=\"count\", inplace = True, ascending = False)\n",
    "\n",
    "#reset index dari 1\n",
    "dfTop5VideoCA.reset_index(drop = True, inplace = True)\n",
    "dfTop5VideoCA.index = dfTop5VideoCA.index + 1\n",
    "\n",
    "print(\"TOP 5 VIDEO YANG MASUK DAILY TRENDING DI CANADA\")\n",
    "dfTop5VideoCA.head(5)"
   ]
  }
 ],
 "metadata": {
  "kernelspec": {
   "display_name": "Python 3",
   "language": "python",
   "name": "python3"
  },
  "language_info": {
   "codemirror_mode": {
    "name": "ipython",
    "version": 3
   },
   "file_extension": ".py",
   "mimetype": "text/x-python",
   "name": "python",
   "nbconvert_exporter": "python",
   "pygments_lexer": "ipython3",
   "version": "3.7.4"
  }
 },
 "nbformat": 4,
 "nbformat_minor": 2
}
