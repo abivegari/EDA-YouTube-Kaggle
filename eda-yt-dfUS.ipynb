{
 "cells": [
  {
   "cell_type": "markdown",
   "metadata": {},
   "source": [
    "# EDA YOUTUBE DAILY TRENDING DATASETS UNITED STATES"
   ]
  },
  {
   "cell_type": "markdown",
   "metadata": {},
   "source": [
    "## IMPORT LIBRARY YANG DIPERLUKAN"
   ]
  },
  {
   "cell_type": "code",
   "execution_count": 1,
   "metadata": {
    "scrolled": true
   },
   "outputs": [],
   "source": [
    "# import library\n",
    "import pandas as pd\n",
    "import json as js\n",
    "from pandas.io.json import json_normalize\n",
    "\n",
    "# import matplotlib\n",
    "import matplotlib.pyplot as plt\n",
    "\n",
    "# import numpy\n",
    "import numpy as np\n",
    "\n",
    "# import seaborn\n",
    "import seaborn as sns\n",
    "%matplotlib inline\n",
    "\n",
    "# import stats\n",
    "from scipy import stats\n",
    "\n",
    "# ignore warnings\n",
    "import warnings\n",
    "warnings.simplefilter(action='ignore', category=UserWarning)"
   ]
  },
  {
   "cell_type": "code",
   "execution_count": 2,
   "metadata": {},
   "outputs": [],
   "source": [
    "# import bokeh\n",
    "from bokeh.plotting import figure, show, output_notebook, reset_output\n",
    "from bokeh.models import ColumnDataSource, BasicTickFormatter\n",
    "from bokeh.models.tools import HoverTool\n",
    "from bokeh.transform import factor_cmap\n",
    "from bokeh.palettes import Reds8, Greens8, Blues8, Oranges8"
   ]
  },
  {
   "cell_type": "code",
   "execution_count": 3,
   "metadata": {},
   "outputs": [],
   "source": [
    "# load datasets US\n",
    "dfUSvideos = pd.read_csv(\"datasets/USvideos.csv\")\n",
    "dfUScategory = pd.read_csv(\"datasets/USCategories.csv\")\n",
    "\n",
    "# set option agar float dapat ditampilkan seluruhnya\n",
    "pd.set_option('float_format', '{:f}'.format)"
   ]
  },
  {
   "cell_type": "markdown",
   "metadata": {},
   "source": [
    "## IDENTIFIKASI ATRIBUT DATA VIDEO UNITED STATES\n",
    "Berikut adalah atribut data video dari region United States :"
   ]
  },
  {
   "cell_type": "code",
   "execution_count": 4,
   "metadata": {},
   "outputs": [
    {
     "data": {
      "text/plain": [
       "video_id                  object\n",
       "trending_date             object\n",
       "title                     object\n",
       "channel_title             object\n",
       "category_id                int64\n",
       "publish_time              object\n",
       "tags                      object\n",
       "views                      int64\n",
       "likes                      int64\n",
       "dislikes                   int64\n",
       "comment_count              int64\n",
       "thumbnail_link            object\n",
       "comments_disabled           bool\n",
       "ratings_disabled            bool\n",
       "video_error_or_removed      bool\n",
       "description               object\n",
       "dtype: object"
      ]
     },
     "execution_count": 4,
     "metadata": {},
     "output_type": "execute_result"
    }
   ],
   "source": [
    "dfUSvideos.dtypes"
   ]
  },
  {
   "cell_type": "markdown",
   "metadata": {},
   "source": [
    "#### Karena kolom trending_date pada semua data video adalah string dengan format year.month.day (contoh : 17.11.14), maka objek dari kolom tersebut perlu diubah menjadi bentuk datetime"
   ]
  },
  {
   "cell_type": "code",
   "execution_count": 5,
   "metadata": {},
   "outputs": [],
   "source": [
    "dfUSvideos['trending_date'] =  pd.to_datetime(dfUSvideos['trending_date'], format='%y.%d.%m')"
   ]
  },
  {
   "cell_type": "code",
   "execution_count": 6,
   "metadata": {
    "scrolled": false
   },
   "outputs": [
    {
     "data": {
      "text/html": [
       "<div>\n",
       "<style scoped>\n",
       "    .dataframe tbody tr th:only-of-type {\n",
       "        vertical-align: middle;\n",
       "    }\n",
       "\n",
       "    .dataframe tbody tr th {\n",
       "        vertical-align: top;\n",
       "    }\n",
       "\n",
       "    .dataframe thead th {\n",
       "        text-align: right;\n",
       "    }\n",
       "</style>\n",
       "<table border=\"1\" class=\"dataframe\">\n",
       "  <thead>\n",
       "    <tr style=\"text-align: right;\">\n",
       "      <th></th>\n",
       "      <th>video_id</th>\n",
       "      <th>trending_date</th>\n",
       "      <th>title</th>\n",
       "      <th>channel_title</th>\n",
       "      <th>category_id</th>\n",
       "      <th>publish_time</th>\n",
       "      <th>tags</th>\n",
       "      <th>views</th>\n",
       "      <th>likes</th>\n",
       "      <th>dislikes</th>\n",
       "      <th>comment_count</th>\n",
       "      <th>thumbnail_link</th>\n",
       "      <th>comments_disabled</th>\n",
       "      <th>ratings_disabled</th>\n",
       "      <th>video_error_or_removed</th>\n",
       "      <th>description</th>\n",
       "    </tr>\n",
       "  </thead>\n",
       "  <tbody>\n",
       "    <tr>\n",
       "      <td>0</td>\n",
       "      <td>2kyS6SvSYSE</td>\n",
       "      <td>2017-11-14</td>\n",
       "      <td>WE WANT TO TALK ABOUT OUR MARRIAGE</td>\n",
       "      <td>CaseyNeistat</td>\n",
       "      <td>22</td>\n",
       "      <td>2017-11-13T17:13:01.000Z</td>\n",
       "      <td>SHANtell martin</td>\n",
       "      <td>748374</td>\n",
       "      <td>57527</td>\n",
       "      <td>2966</td>\n",
       "      <td>15954</td>\n",
       "      <td>https://i.ytimg.com/vi/2kyS6SvSYSE/default.jpg</td>\n",
       "      <td>False</td>\n",
       "      <td>False</td>\n",
       "      <td>False</td>\n",
       "      <td>SHANTELL'S CHANNEL - https://www.youtube.com/s...</td>\n",
       "    </tr>\n",
       "    <tr>\n",
       "      <td>1</td>\n",
       "      <td>1ZAPwfrtAFY</td>\n",
       "      <td>2017-11-14</td>\n",
       "      <td>The Trump Presidency: Last Week Tonight with J...</td>\n",
       "      <td>LastWeekTonight</td>\n",
       "      <td>24</td>\n",
       "      <td>2017-11-13T07:30:00.000Z</td>\n",
       "      <td>last week tonight trump presidency|\"last week ...</td>\n",
       "      <td>2418783</td>\n",
       "      <td>97185</td>\n",
       "      <td>6146</td>\n",
       "      <td>12703</td>\n",
       "      <td>https://i.ytimg.com/vi/1ZAPwfrtAFY/default.jpg</td>\n",
       "      <td>False</td>\n",
       "      <td>False</td>\n",
       "      <td>False</td>\n",
       "      <td>One year after the presidential election, John...</td>\n",
       "    </tr>\n",
       "    <tr>\n",
       "      <td>2</td>\n",
       "      <td>5qpjK5DgCt4</td>\n",
       "      <td>2017-11-14</td>\n",
       "      <td>Racist Superman | Rudy Mancuso, King Bach &amp; Le...</td>\n",
       "      <td>Rudy Mancuso</td>\n",
       "      <td>23</td>\n",
       "      <td>2017-11-12T19:05:24.000Z</td>\n",
       "      <td>racist superman|\"rudy\"|\"mancuso\"|\"king\"|\"bach\"...</td>\n",
       "      <td>3191434</td>\n",
       "      <td>146033</td>\n",
       "      <td>5339</td>\n",
       "      <td>8181</td>\n",
       "      <td>https://i.ytimg.com/vi/5qpjK5DgCt4/default.jpg</td>\n",
       "      <td>False</td>\n",
       "      <td>False</td>\n",
       "      <td>False</td>\n",
       "      <td>WATCH MY PREVIOUS VIDEO ▶ \\n\\nSUBSCRIBE ► http...</td>\n",
       "    </tr>\n",
       "    <tr>\n",
       "      <td>3</td>\n",
       "      <td>puqaWrEC7tY</td>\n",
       "      <td>2017-11-14</td>\n",
       "      <td>Nickelback Lyrics: Real or Fake?</td>\n",
       "      <td>Good Mythical Morning</td>\n",
       "      <td>24</td>\n",
       "      <td>2017-11-13T11:00:04.000Z</td>\n",
       "      <td>rhett and link|\"gmm\"|\"good mythical morning\"|\"...</td>\n",
       "      <td>343168</td>\n",
       "      <td>10172</td>\n",
       "      <td>666</td>\n",
       "      <td>2146</td>\n",
       "      <td>https://i.ytimg.com/vi/puqaWrEC7tY/default.jpg</td>\n",
       "      <td>False</td>\n",
       "      <td>False</td>\n",
       "      <td>False</td>\n",
       "      <td>Today we find out if Link is a Nickelback amat...</td>\n",
       "    </tr>\n",
       "    <tr>\n",
       "      <td>4</td>\n",
       "      <td>d380meD0W0M</td>\n",
       "      <td>2017-11-14</td>\n",
       "      <td>I Dare You: GOING BALD!?</td>\n",
       "      <td>nigahiga</td>\n",
       "      <td>24</td>\n",
       "      <td>2017-11-12T18:01:41.000Z</td>\n",
       "      <td>ryan|\"higa\"|\"higatv\"|\"nigahiga\"|\"i dare you\"|\"...</td>\n",
       "      <td>2095731</td>\n",
       "      <td>132235</td>\n",
       "      <td>1989</td>\n",
       "      <td>17518</td>\n",
       "      <td>https://i.ytimg.com/vi/d380meD0W0M/default.jpg</td>\n",
       "      <td>False</td>\n",
       "      <td>False</td>\n",
       "      <td>False</td>\n",
       "      <td>I know it's been a while since we did this sho...</td>\n",
       "    </tr>\n",
       "  </tbody>\n",
       "</table>\n",
       "</div>"
      ],
      "text/plain": [
       "      video_id trending_date  \\\n",
       "0  2kyS6SvSYSE    2017-11-14   \n",
       "1  1ZAPwfrtAFY    2017-11-14   \n",
       "2  5qpjK5DgCt4    2017-11-14   \n",
       "3  puqaWrEC7tY    2017-11-14   \n",
       "4  d380meD0W0M    2017-11-14   \n",
       "\n",
       "                                               title          channel_title  \\\n",
       "0                 WE WANT TO TALK ABOUT OUR MARRIAGE           CaseyNeistat   \n",
       "1  The Trump Presidency: Last Week Tonight with J...        LastWeekTonight   \n",
       "2  Racist Superman | Rudy Mancuso, King Bach & Le...           Rudy Mancuso   \n",
       "3                   Nickelback Lyrics: Real or Fake?  Good Mythical Morning   \n",
       "4                           I Dare You: GOING BALD!?               nigahiga   \n",
       "\n",
       "   category_id              publish_time  \\\n",
       "0           22  2017-11-13T17:13:01.000Z   \n",
       "1           24  2017-11-13T07:30:00.000Z   \n",
       "2           23  2017-11-12T19:05:24.000Z   \n",
       "3           24  2017-11-13T11:00:04.000Z   \n",
       "4           24  2017-11-12T18:01:41.000Z   \n",
       "\n",
       "                                                tags    views   likes  \\\n",
       "0                                    SHANtell martin   748374   57527   \n",
       "1  last week tonight trump presidency|\"last week ...  2418783   97185   \n",
       "2  racist superman|\"rudy\"|\"mancuso\"|\"king\"|\"bach\"...  3191434  146033   \n",
       "3  rhett and link|\"gmm\"|\"good mythical morning\"|\"...   343168   10172   \n",
       "4  ryan|\"higa\"|\"higatv\"|\"nigahiga\"|\"i dare you\"|\"...  2095731  132235   \n",
       "\n",
       "   dislikes  comment_count                                  thumbnail_link  \\\n",
       "0      2966          15954  https://i.ytimg.com/vi/2kyS6SvSYSE/default.jpg   \n",
       "1      6146          12703  https://i.ytimg.com/vi/1ZAPwfrtAFY/default.jpg   \n",
       "2      5339           8181  https://i.ytimg.com/vi/5qpjK5DgCt4/default.jpg   \n",
       "3       666           2146  https://i.ytimg.com/vi/puqaWrEC7tY/default.jpg   \n",
       "4      1989          17518  https://i.ytimg.com/vi/d380meD0W0M/default.jpg   \n",
       "\n",
       "   comments_disabled  ratings_disabled  video_error_or_removed  \\\n",
       "0              False             False                   False   \n",
       "1              False             False                   False   \n",
       "2              False             False                   False   \n",
       "3              False             False                   False   \n",
       "4              False             False                   False   \n",
       "\n",
       "                                         description  \n",
       "0  SHANTELL'S CHANNEL - https://www.youtube.com/s...  \n",
       "1  One year after the presidential election, John...  \n",
       "2  WATCH MY PREVIOUS VIDEO ▶ \\n\\nSUBSCRIBE ► http...  \n",
       "3  Today we find out if Link is a Nickelback amat...  \n",
       "4  I know it's been a while since we did this sho...  "
      ]
     },
     "execution_count": 6,
     "metadata": {},
     "output_type": "execute_result"
    }
   ],
   "source": [
    "dfUSvideos.head()"
   ]
  },
  {
   "cell_type": "code",
   "execution_count": 7,
   "metadata": {},
   "outputs": [
    {
     "data": {
      "text/plain": [
       "(40949, 16)"
      ]
     },
     "execution_count": 7,
     "metadata": {},
     "output_type": "execute_result"
    }
   ],
   "source": [
    "dfUSvideos.shape"
   ]
  },
  {
   "cell_type": "markdown",
   "metadata": {},
   "source": [
    "Berdasarkan pengecekan data video dari region United States memiliki dimensi <b>40881 baris x 16 kolom</b>."
   ]
  },
  {
   "cell_type": "markdown",
   "metadata": {},
   "source": [
    "## DATA KATEGORI VIDEO REGION UNITED STATES\n",
    "Berikut adalah data kategori video region United States setelah diubah menjadi dataframe :"
   ]
  },
  {
   "cell_type": "code",
   "execution_count": 8,
   "metadata": {},
   "outputs": [
    {
     "data": {
      "text/html": [
       "<div>\n",
       "<style scoped>\n",
       "    .dataframe tbody tr th:only-of-type {\n",
       "        vertical-align: middle;\n",
       "    }\n",
       "\n",
       "    .dataframe tbody tr th {\n",
       "        vertical-align: top;\n",
       "    }\n",
       "\n",
       "    .dataframe thead th {\n",
       "        text-align: right;\n",
       "    }\n",
       "</style>\n",
       "<table border=\"1\" class=\"dataframe\">\n",
       "  <thead>\n",
       "    <tr style=\"text-align: right;\">\n",
       "      <th></th>\n",
       "      <th>id</th>\n",
       "      <th>category</th>\n",
       "    </tr>\n",
       "  </thead>\n",
       "  <tbody>\n",
       "    <tr>\n",
       "      <td>0</td>\n",
       "      <td>1</td>\n",
       "      <td>Film &amp; Animation</td>\n",
       "    </tr>\n",
       "    <tr>\n",
       "      <td>1</td>\n",
       "      <td>2</td>\n",
       "      <td>Autos &amp; Vehicles</td>\n",
       "    </tr>\n",
       "    <tr>\n",
       "      <td>2</td>\n",
       "      <td>10</td>\n",
       "      <td>Music</td>\n",
       "    </tr>\n",
       "    <tr>\n",
       "      <td>3</td>\n",
       "      <td>15</td>\n",
       "      <td>Pets &amp; Animals</td>\n",
       "    </tr>\n",
       "    <tr>\n",
       "      <td>4</td>\n",
       "      <td>17</td>\n",
       "      <td>Sports</td>\n",
       "    </tr>\n",
       "    <tr>\n",
       "      <td>5</td>\n",
       "      <td>19</td>\n",
       "      <td>Travel &amp; Events</td>\n",
       "    </tr>\n",
       "    <tr>\n",
       "      <td>6</td>\n",
       "      <td>20</td>\n",
       "      <td>Gaming</td>\n",
       "    </tr>\n",
       "    <tr>\n",
       "      <td>7</td>\n",
       "      <td>22</td>\n",
       "      <td>People &amp; Blogs</td>\n",
       "    </tr>\n",
       "    <tr>\n",
       "      <td>8</td>\n",
       "      <td>23</td>\n",
       "      <td>Comedy</td>\n",
       "    </tr>\n",
       "    <tr>\n",
       "      <td>9</td>\n",
       "      <td>24</td>\n",
       "      <td>Entertainment</td>\n",
       "    </tr>\n",
       "    <tr>\n",
       "      <td>10</td>\n",
       "      <td>25</td>\n",
       "      <td>News &amp; Politics</td>\n",
       "    </tr>\n",
       "    <tr>\n",
       "      <td>11</td>\n",
       "      <td>26</td>\n",
       "      <td>Howto &amp; Style</td>\n",
       "    </tr>\n",
       "    <tr>\n",
       "      <td>12</td>\n",
       "      <td>27</td>\n",
       "      <td>Education</td>\n",
       "    </tr>\n",
       "    <tr>\n",
       "      <td>13</td>\n",
       "      <td>28</td>\n",
       "      <td>Science &amp; Technology</td>\n",
       "    </tr>\n",
       "    <tr>\n",
       "      <td>14</td>\n",
       "      <td>29</td>\n",
       "      <td>Nonprofits &amp; Activism</td>\n",
       "    </tr>\n",
       "    <tr>\n",
       "      <td>15</td>\n",
       "      <td>43</td>\n",
       "      <td>Shows</td>\n",
       "    </tr>\n",
       "  </tbody>\n",
       "</table>\n",
       "</div>"
      ],
      "text/plain": [
       "    id               category\n",
       "0    1       Film & Animation\n",
       "1    2       Autos & Vehicles\n",
       "2   10                  Music\n",
       "3   15         Pets & Animals\n",
       "4   17                 Sports\n",
       "5   19        Travel & Events\n",
       "6   20                 Gaming\n",
       "7   22         People & Blogs\n",
       "8   23                 Comedy\n",
       "9   24          Entertainment\n",
       "10  25        News & Politics\n",
       "11  26          Howto & Style\n",
       "12  27              Education\n",
       "13  28   Science & Technology\n",
       "14  29  Nonprofits & Activism\n",
       "15  43                  Shows"
      ]
     },
     "execution_count": 8,
     "metadata": {},
     "output_type": "execute_result"
    }
   ],
   "source": [
    "dfUScategory"
   ]
  },
  {
   "cell_type": "code",
   "execution_count": 9,
   "metadata": {},
   "outputs": [
    {
     "data": {
      "text/plain": [
       "(16, 2)"
      ]
     },
     "execution_count": 9,
     "metadata": {},
     "output_type": "execute_result"
    }
   ],
   "source": [
    "dfUScategory.shape"
   ]
  },
  {
   "cell_type": "markdown",
   "metadata": {},
   "source": [
    "Berdasarkan pengecekan data kategori region United States memiliki dimensi <b>31 baris x 2 kolom</b>."
   ]
  },
  {
   "cell_type": "markdown",
   "metadata": {},
   "source": [
    "<b>------------------------------------------------------------------------------------------------------------------------------------------------------------------------------------------------------------------------------------------------------------------------------------------------------------------------------------------------------------------------------------------------------------------------------------</b>"
   ]
  },
  {
   "cell_type": "markdown",
   "metadata": {},
   "source": [
    "## A. STATISTIK DARI SETIAP KATEGORI YANG TERDAPAT DI DATAFRAME VIDEOS UNITED STATES\n",
    "Kita perlu mengetahui statistik berikut untuk setiap kategori :\n",
    "#### 1. Data tertinggi, terendah, dan rata-rata viewer\n",
    "#### 2. Data tertinggi, terendah, dan rata-rata likes\n",
    "#### 3. Data tertinggi, terendah, dan rata-rata dislikes\n",
    "#### 5. Data tertinggi, terendah, dan rata-rata jumlah komentar"
   ]
  },
  {
   "cell_type": "markdown",
   "metadata": {},
   "source": [
    "Di sini kita akan menemukan statistik data video dari region United States menggunakan list <b>gUSvideo</b> yang mana adalah list di mana video kelompokkan berdasarkan id kategori.<br/>\n",
    "\n",
    "Untuk menemukan rata-rata digunakan fungsi <b>.max()</b> pada data grup id kategori yang diinginkan. Untuk menemukan value tertinggi digunakan <b>.max()</b> dan untuk menemukan value terkecil digunakan <b>.min()</b>"
   ]
  },
  {
   "cell_type": "code",
   "execution_count": 10,
   "metadata": {},
   "outputs": [
    {
     "data": {
      "text/plain": [
       "array([ 1,  2, 10, 15, 17, 19, 20, 22, 23, 24, 25, 26, 27, 28, 29, 43],\n",
       "      dtype=int64)"
      ]
     },
     "execution_count": 10,
     "metadata": {},
     "output_type": "execute_result"
    }
   ],
   "source": [
    "# mengelompokan berdasarkan id kategori\n",
    "gUSvideo = dfUSvideos.groupby('category_id')\n",
    "\n",
    "# memasukkan id kategori ke dalam bentuk array untuk digunakan dalam eksplorasi\n",
    "a = dfUSvideos.category_id.unique()\n",
    "a.sort(axis=0)\n",
    "a"
   ]
  },
  {
   "cell_type": "markdown",
   "metadata": {},
   "source": [
    "### 1A. Data tertinggi, terendah, dan rata-rata viewer United States"
   ]
  },
  {
   "cell_type": "code",
   "execution_count": 11,
   "metadata": {},
   "outputs": [],
   "source": [
    "# memasukkan data ke dalam list\n",
    "data_view_us = {\n",
    "    \n",
    "    # a adalah hasil sorting array saat menemukan value yang unique dari id kategori data video region United States\n",
    "    'id' : a,\n",
    "    #penonton tertinggi\n",
    "    'highest_views':[gUSvideo.get_group(items)['views'].max() for items in dfUScategory['id']],\n",
    "    \n",
    "    #penonton terendah\n",
    "    'lowest_views':[gUSvideo.get_group(items)['views'].min() for items in dfUScategory['id']],\n",
    "    \n",
    "    #penonton rata-rata\n",
    "    'average_views':[gUSvideo.get_group(items)['views'].mean() for items in dfUScategory['id']],\n",
    "\n",
    "    #median data\n",
    "    'median_views':[gUSvideo.get_group(items)['views'].median() for items in dfUScategory['id']\n",
    "                   ]}\n",
    "\n",
    "dfViewUS = pd.DataFrame(data_view_us)"
   ]
  },
  {
   "cell_type": "code",
   "execution_count": 12,
   "metadata": {
    "scrolled": true
   },
   "outputs": [
    {
     "name": "stdout",
     "output_type": "stream",
     "text": [
      "\n",
      "DATA VIEWER SETIAP KATEGORI DI REGION UNITED STATES\n"
     ]
    },
    {
     "data": {
      "text/html": [
       "<div>\n",
       "<style scoped>\n",
       "    .dataframe tbody tr th:only-of-type {\n",
       "        vertical-align: middle;\n",
       "    }\n",
       "\n",
       "    .dataframe tbody tr th {\n",
       "        vertical-align: top;\n",
       "    }\n",
       "\n",
       "    .dataframe thead th {\n",
       "        text-align: right;\n",
       "    }\n",
       "</style>\n",
       "<table border=\"1\" class=\"dataframe\">\n",
       "  <thead>\n",
       "    <tr style=\"text-align: right;\">\n",
       "      <th></th>\n",
       "      <th>id</th>\n",
       "      <th>category</th>\n",
       "      <th>highest_views</th>\n",
       "      <th>lowest_views</th>\n",
       "      <th>average_views</th>\n",
       "      <th>median_views</th>\n",
       "    </tr>\n",
       "  </thead>\n",
       "  <tbody>\n",
       "    <tr>\n",
       "      <td>0</td>\n",
       "      <td>1</td>\n",
       "      <td>Film &amp; Animation</td>\n",
       "      <td>54863912</td>\n",
       "      <td>943</td>\n",
       "      <td>3106250.200853</td>\n",
       "      <td>1274578.000000</td>\n",
       "    </tr>\n",
       "    <tr>\n",
       "      <td>1</td>\n",
       "      <td>2</td>\n",
       "      <td>Autos &amp; Vehicles</td>\n",
       "      <td>25244097</td>\n",
       "      <td>2860</td>\n",
       "      <td>1355965.408854</td>\n",
       "      <td>406278.000000</td>\n",
       "    </tr>\n",
       "    <tr>\n",
       "      <td>2</td>\n",
       "      <td>10</td>\n",
       "      <td>Music</td>\n",
       "      <td>225211923</td>\n",
       "      <td>1591</td>\n",
       "      <td>6201003.119592</td>\n",
       "      <td>1434128.000000</td>\n",
       "    </tr>\n",
       "    <tr>\n",
       "      <td>3</td>\n",
       "      <td>15</td>\n",
       "      <td>Pets &amp; Animals</td>\n",
       "      <td>6187457</td>\n",
       "      <td>3393</td>\n",
       "      <td>831143.466304</td>\n",
       "      <td>444501.500000</td>\n",
       "    </tr>\n",
       "    <tr>\n",
       "      <td>4</td>\n",
       "      <td>17</td>\n",
       "      <td>Sports</td>\n",
       "      <td>29090799</td>\n",
       "      <td>658</td>\n",
       "      <td>2025969.030819</td>\n",
       "      <td>559352.000000</td>\n",
       "    </tr>\n",
       "    <tr>\n",
       "      <td>5</td>\n",
       "      <td>19</td>\n",
       "      <td>Travel &amp; Events</td>\n",
       "      <td>23932421</td>\n",
       "      <td>789</td>\n",
       "      <td>854619.611940</td>\n",
       "      <td>494825.500000</td>\n",
       "    </tr>\n",
       "    <tr>\n",
       "      <td>6</td>\n",
       "      <td>20</td>\n",
       "      <td>Gaming</td>\n",
       "      <td>16935442</td>\n",
       "      <td>1237</td>\n",
       "      <td>2620830.630355</td>\n",
       "      <td>1494142.000000</td>\n",
       "    </tr>\n",
       "    <tr>\n",
       "      <td>7</td>\n",
       "      <td>22</td>\n",
       "      <td>People &amp; Blogs</td>\n",
       "      <td>56111957</td>\n",
       "      <td>884</td>\n",
       "      <td>1531835.428660</td>\n",
       "      <td>599139.000000</td>\n",
       "    </tr>\n",
       "    <tr>\n",
       "      <td>8</td>\n",
       "      <td>23</td>\n",
       "      <td>Comedy</td>\n",
       "      <td>29178096</td>\n",
       "      <td>1807</td>\n",
       "      <td>1480308.420017</td>\n",
       "      <td>980236.000000</td>\n",
       "    </tr>\n",
       "    <tr>\n",
       "      <td>9</td>\n",
       "      <td>24</td>\n",
       "      <td>Entertainment</td>\n",
       "      <td>149376127</td>\n",
       "      <td>798</td>\n",
       "      <td>2067883.199016</td>\n",
       "      <td>734704.000000</td>\n",
       "    </tr>\n",
       "    <tr>\n",
       "      <td>10</td>\n",
       "      <td>25</td>\n",
       "      <td>News &amp; Politics</td>\n",
       "      <td>10277358</td>\n",
       "      <td>549</td>\n",
       "      <td>592587.737837</td>\n",
       "      <td>244014.000000</td>\n",
       "    </tr>\n",
       "    <tr>\n",
       "      <td>11</td>\n",
       "      <td>26</td>\n",
       "      <td>Howto &amp; Style</td>\n",
       "      <td>54155921</td>\n",
       "      <td>1107</td>\n",
       "      <td>983730.116739</td>\n",
       "      <td>502783.000000</td>\n",
       "    </tr>\n",
       "    <tr>\n",
       "      <td>12</td>\n",
       "      <td>27</td>\n",
       "      <td>Education</td>\n",
       "      <td>7349435</td>\n",
       "      <td>773</td>\n",
       "      <td>712940.815217</td>\n",
       "      <td>419440.500000</td>\n",
       "    </tr>\n",
       "    <tr>\n",
       "      <td>13</td>\n",
       "      <td>28</td>\n",
       "      <td>Science &amp; Technology</td>\n",
       "      <td>42799458</td>\n",
       "      <td>983</td>\n",
       "      <td>1452626.745523</td>\n",
       "      <td>585748.000000</td>\n",
       "    </tr>\n",
       "    <tr>\n",
       "      <td>14</td>\n",
       "      <td>29</td>\n",
       "      <td>Nonprofits &amp; Activism</td>\n",
       "      <td>24286474</td>\n",
       "      <td>1456</td>\n",
       "      <td>2963884.070175</td>\n",
       "      <td>73649.000000</td>\n",
       "    </tr>\n",
       "    <tr>\n",
       "      <td>15</td>\n",
       "      <td>43</td>\n",
       "      <td>Shows</td>\n",
       "      <td>1445949</td>\n",
       "      <td>36609</td>\n",
       "      <td>903527.333333</td>\n",
       "      <td>1155692.000000</td>\n",
       "    </tr>\n",
       "  </tbody>\n",
       "</table>\n",
       "</div>"
      ],
      "text/plain": [
       "    id               category  highest_views  lowest_views  average_views  \\\n",
       "0    1       Film & Animation       54863912           943 3106250.200853   \n",
       "1    2       Autos & Vehicles       25244097          2860 1355965.408854   \n",
       "2   10                  Music      225211923          1591 6201003.119592   \n",
       "3   15         Pets & Animals        6187457          3393  831143.466304   \n",
       "4   17                 Sports       29090799           658 2025969.030819   \n",
       "5   19        Travel & Events       23932421           789  854619.611940   \n",
       "6   20                 Gaming       16935442          1237 2620830.630355   \n",
       "7   22         People & Blogs       56111957           884 1531835.428660   \n",
       "8   23                 Comedy       29178096          1807 1480308.420017   \n",
       "9   24          Entertainment      149376127           798 2067883.199016   \n",
       "10  25        News & Politics       10277358           549  592587.737837   \n",
       "11  26          Howto & Style       54155921          1107  983730.116739   \n",
       "12  27              Education        7349435           773  712940.815217   \n",
       "13  28   Science & Technology       42799458           983 1452626.745523   \n",
       "14  29  Nonprofits & Activism       24286474          1456 2963884.070175   \n",
       "15  43                  Shows        1445949         36609  903527.333333   \n",
       "\n",
       "     median_views  \n",
       "0  1274578.000000  \n",
       "1   406278.000000  \n",
       "2  1434128.000000  \n",
       "3   444501.500000  \n",
       "4   559352.000000  \n",
       "5   494825.500000  \n",
       "6  1494142.000000  \n",
       "7   599139.000000  \n",
       "8   980236.000000  \n",
       "9   734704.000000  \n",
       "10  244014.000000  \n",
       "11  502783.000000  \n",
       "12  419440.500000  \n",
       "13  585748.000000  \n",
       "14   73649.000000  \n",
       "15 1155692.000000  "
      ]
     },
     "execution_count": 12,
     "metadata": {},
     "output_type": "execute_result"
    }
   ],
   "source": [
    "dfViewUS = pd.merge(dfUScategory,dfViewUS,on=\"id\")\n",
    "\n",
    "print(\"\")\n",
    "print(\"DATA VIEWER SETIAP KATEGORI DI REGION UNITED STATES\")\n",
    "dfViewUS"
   ]
  },
  {
   "cell_type": "markdown",
   "metadata": {},
   "source": [
    "### 2A. Data tertinggi, terendah, dan rata-rata likes United States"
   ]
  },
  {
   "cell_type": "code",
   "execution_count": 13,
   "metadata": {},
   "outputs": [],
   "source": [
    "# memasukkan data ke dalam list\n",
    "data_likes_us = {\n",
    "    \n",
    "    # a adalah hasil sorting array saat menemukan value yang unique dari id kategori data video region United States\n",
    "    'id' : a,\n",
    "    'highest_likes':[gUSvideo.get_group(items)['likes'].max() for items in dfUScategory['id']],\n",
    "    'lowest_likes':[gUSvideo.get_group(items)['likes'].min() for items in dfUScategory['id']],\n",
    "    'average_likes':[gUSvideo.get_group(items)['likes'].mean() for items in dfUScategory['id']],\n",
    "    'median_likes':[gUSvideo.get_group(items)['likes'].median() for items in dfUScategory['id']\n",
    "                   ]}\n",
    "\n",
    "dfLikesUS = pd.DataFrame(data_likes_us)"
   ]
  },
  {
   "cell_type": "code",
   "execution_count": 14,
   "metadata": {},
   "outputs": [
    {
     "name": "stdout",
     "output_type": "stream",
     "text": [
      "\n",
      "DATA LIKES SETIAP KATEGORI DI REGION UNITED STATES\n"
     ]
    },
    {
     "data": {
      "text/html": [
       "<div>\n",
       "<style scoped>\n",
       "    .dataframe tbody tr th:only-of-type {\n",
       "        vertical-align: middle;\n",
       "    }\n",
       "\n",
       "    .dataframe tbody tr th {\n",
       "        vertical-align: top;\n",
       "    }\n",
       "\n",
       "    .dataframe thead th {\n",
       "        text-align: right;\n",
       "    }\n",
       "</style>\n",
       "<table border=\"1\" class=\"dataframe\">\n",
       "  <thead>\n",
       "    <tr style=\"text-align: right;\">\n",
       "      <th></th>\n",
       "      <th>id</th>\n",
       "      <th>category</th>\n",
       "      <th>highest_likes</th>\n",
       "      <th>lowest_likes</th>\n",
       "      <th>average_likes</th>\n",
       "      <th>median_likes</th>\n",
       "    </tr>\n",
       "  </thead>\n",
       "  <tbody>\n",
       "    <tr>\n",
       "      <td>0</td>\n",
       "      <td>1</td>\n",
       "      <td>Film &amp; Animation</td>\n",
       "      <td>922355</td>\n",
       "      <td>0</td>\n",
       "      <td>70787.836247</td>\n",
       "      <td>25176.000000</td>\n",
       "    </tr>\n",
       "    <tr>\n",
       "      <td>1</td>\n",
       "      <td>2</td>\n",
       "      <td>Autos &amp; Vehicles</td>\n",
       "      <td>97030</td>\n",
       "      <td>0</td>\n",
       "      <td>11056.395833</td>\n",
       "      <td>5916.000000</td>\n",
       "    </tr>\n",
       "    <tr>\n",
       "      <td>2</td>\n",
       "      <td>10</td>\n",
       "      <td>Music</td>\n",
       "      <td>5613827</td>\n",
       "      <td>0</td>\n",
       "      <td>218918.199011</td>\n",
       "      <td>62280.500000</td>\n",
       "    </tr>\n",
       "    <tr>\n",
       "      <td>3</td>\n",
       "      <td>15</td>\n",
       "      <td>Pets &amp; Animals</td>\n",
       "      <td>178243</td>\n",
       "      <td>6</td>\n",
       "      <td>21055.110870</td>\n",
       "      <td>14431.500000</td>\n",
       "    </tr>\n",
       "    <tr>\n",
       "      <td>4</td>\n",
       "      <td>17</td>\n",
       "      <td>Sports</td>\n",
       "      <td>1121217</td>\n",
       "      <td>0</td>\n",
       "      <td>45363.942502</td>\n",
       "      <td>5700.500000</td>\n",
       "    </tr>\n",
       "    <tr>\n",
       "      <td>5</td>\n",
       "      <td>19</td>\n",
       "      <td>Travel &amp; Events</td>\n",
       "      <td>42447</td>\n",
       "      <td>3</td>\n",
       "      <td>12030.462687</td>\n",
       "      <td>11634.000000</td>\n",
       "    </tr>\n",
       "    <tr>\n",
       "      <td>6</td>\n",
       "      <td>20</td>\n",
       "      <td>Gaming</td>\n",
       "      <td>444203</td>\n",
       "      <td>2</td>\n",
       "      <td>84502.183599</td>\n",
       "      <td>51057.000000</td>\n",
       "    </tr>\n",
       "    <tr>\n",
       "      <td>7</td>\n",
       "      <td>22</td>\n",
       "      <td>People &amp; Blogs</td>\n",
       "      <td>2032463</td>\n",
       "      <td>0</td>\n",
       "      <td>58135.825234</td>\n",
       "      <td>19438.000000</td>\n",
       "    </tr>\n",
       "    <tr>\n",
       "      <td>8</td>\n",
       "      <td>23</td>\n",
       "      <td>Comedy</td>\n",
       "      <td>865679</td>\n",
       "      <td>6</td>\n",
       "      <td>62582.223315</td>\n",
       "      <td>30214.000000</td>\n",
       "    </tr>\n",
       "    <tr>\n",
       "      <td>9</td>\n",
       "      <td>24</td>\n",
       "      <td>Entertainment</td>\n",
       "      <td>3093544</td>\n",
       "      <td>0</td>\n",
       "      <td>53243.325070</td>\n",
       "      <td>16234.000000</td>\n",
       "    </tr>\n",
       "    <tr>\n",
       "      <td>10</td>\n",
       "      <td>25</td>\n",
       "      <td>News &amp; Politics</td>\n",
       "      <td>163338</td>\n",
       "      <td>0</td>\n",
       "      <td>7298.364696</td>\n",
       "      <td>1920.000000</td>\n",
       "    </tr>\n",
       "    <tr>\n",
       "      <td>11</td>\n",
       "      <td>26</td>\n",
       "      <td>Howto &amp; Style</td>\n",
       "      <td>605954</td>\n",
       "      <td>0</td>\n",
       "      <td>39286.076942</td>\n",
       "      <td>21492.500000</td>\n",
       "    </tr>\n",
       "    <tr>\n",
       "      <td>12</td>\n",
       "      <td>27</td>\n",
       "      <td>Education</td>\n",
       "      <td>240989</td>\n",
       "      <td>0</td>\n",
       "      <td>29745.031401</td>\n",
       "      <td>13508.500000</td>\n",
       "    </tr>\n",
       "    <tr>\n",
       "      <td>13</td>\n",
       "      <td>28</td>\n",
       "      <td>Science &amp; Technology</td>\n",
       "      <td>564804</td>\n",
       "      <td>0</td>\n",
       "      <td>34374.276551</td>\n",
       "      <td>16328.000000</td>\n",
       "    </tr>\n",
       "    <tr>\n",
       "      <td>14</td>\n",
       "      <td>29</td>\n",
       "      <td>Nonprofits &amp; Activism</td>\n",
       "      <td>1988746</td>\n",
       "      <td>0</td>\n",
       "      <td>259923.614035</td>\n",
       "      <td>2721.000000</td>\n",
       "    </tr>\n",
       "    <tr>\n",
       "      <td>15</td>\n",
       "      <td>43</td>\n",
       "      <td>Shows</td>\n",
       "      <td>33261</td>\n",
       "      <td>810</td>\n",
       "      <td>18993.666667</td>\n",
       "      <td>21537.000000</td>\n",
       "    </tr>\n",
       "  </tbody>\n",
       "</table>\n",
       "</div>"
      ],
      "text/plain": [
       "    id               category  highest_likes  lowest_likes  average_likes  \\\n",
       "0    1       Film & Animation         922355             0   70787.836247   \n",
       "1    2       Autos & Vehicles          97030             0   11056.395833   \n",
       "2   10                  Music        5613827             0  218918.199011   \n",
       "3   15         Pets & Animals         178243             6   21055.110870   \n",
       "4   17                 Sports        1121217             0   45363.942502   \n",
       "5   19        Travel & Events          42447             3   12030.462687   \n",
       "6   20                 Gaming         444203             2   84502.183599   \n",
       "7   22         People & Blogs        2032463             0   58135.825234   \n",
       "8   23                 Comedy         865679             6   62582.223315   \n",
       "9   24          Entertainment        3093544             0   53243.325070   \n",
       "10  25        News & Politics         163338             0    7298.364696   \n",
       "11  26          Howto & Style         605954             0   39286.076942   \n",
       "12  27              Education         240989             0   29745.031401   \n",
       "13  28   Science & Technology         564804             0   34374.276551   \n",
       "14  29  Nonprofits & Activism        1988746             0  259923.614035   \n",
       "15  43                  Shows          33261           810   18993.666667   \n",
       "\n",
       "    median_likes  \n",
       "0   25176.000000  \n",
       "1    5916.000000  \n",
       "2   62280.500000  \n",
       "3   14431.500000  \n",
       "4    5700.500000  \n",
       "5   11634.000000  \n",
       "6   51057.000000  \n",
       "7   19438.000000  \n",
       "8   30214.000000  \n",
       "9   16234.000000  \n",
       "10   1920.000000  \n",
       "11  21492.500000  \n",
       "12  13508.500000  \n",
       "13  16328.000000  \n",
       "14   2721.000000  \n",
       "15  21537.000000  "
      ]
     },
     "execution_count": 14,
     "metadata": {},
     "output_type": "execute_result"
    }
   ],
   "source": [
    "dfLikesUS = pd.merge(dfUScategory,dfLikesUS,on=\"id\")\n",
    "\n",
    "print(\"\")\n",
    "print(\"DATA LIKES SETIAP KATEGORI DI REGION UNITED STATES\")\n",
    "dfLikesUS"
   ]
  },
  {
   "cell_type": "markdown",
   "metadata": {},
   "source": [
    "### 3B. Data tertinggi, terendah, dan rata-rata dislikes United States"
   ]
  },
  {
   "cell_type": "code",
   "execution_count": 15,
   "metadata": {},
   "outputs": [],
   "source": [
    "# memasukkan data ke dalam list\n",
    "data_dislikes_us = {\n",
    "    \n",
    "    # a adalah hasil sorting array saat menemukan value yang unique dari id kategori data video region United States\n",
    "    'id' : a,\n",
    "    'highest_dislikes':[gUSvideo.get_group(items)['dislikes'].max() for items in dfUScategory['id']],\n",
    "    'lowest_dislikes':[gUSvideo.get_group(items)['dislikes'].min() for items in dfUScategory['id']],\n",
    "    'average_dislikes':[gUSvideo.get_group(items)['dislikes'].mean() for items in dfUScategory['id']],\n",
    "    'median_dislikes':[gUSvideo.get_group(items)['dislikes'].median() for items in dfUScategory['id']\n",
    "                   ]}\n",
    "\n",
    "dfDislikesUS = pd.DataFrame(data_dislikes_us)"
   ]
  },
  {
   "cell_type": "code",
   "execution_count": 16,
   "metadata": {},
   "outputs": [
    {
     "name": "stdout",
     "output_type": "stream",
     "text": [
      "\n",
      "DATA DISLIKES SETIAP KATEGORI DI REGION UNITED STATES\n"
     ]
    },
    {
     "data": {
      "text/html": [
       "<div>\n",
       "<style scoped>\n",
       "    .dataframe tbody tr th:only-of-type {\n",
       "        vertical-align: middle;\n",
       "    }\n",
       "\n",
       "    .dataframe tbody tr th {\n",
       "        vertical-align: top;\n",
       "    }\n",
       "\n",
       "    .dataframe thead th {\n",
       "        text-align: right;\n",
       "    }\n",
       "</style>\n",
       "<table border=\"1\" class=\"dataframe\">\n",
       "  <thead>\n",
       "    <tr style=\"text-align: right;\">\n",
       "      <th></th>\n",
       "      <th>id</th>\n",
       "      <th>category</th>\n",
       "      <th>highest_dislikes</th>\n",
       "      <th>lowest_dislikes</th>\n",
       "      <th>average_dislikes</th>\n",
       "      <th>median_dislikes</th>\n",
       "    </tr>\n",
       "  </thead>\n",
       "  <tbody>\n",
       "    <tr>\n",
       "      <td>0</td>\n",
       "      <td>1</td>\n",
       "      <td>Film &amp; Animation</td>\n",
       "      <td>38082</td>\n",
       "      <td>0</td>\n",
       "      <td>2590.681450</td>\n",
       "      <td>1022.000000</td>\n",
       "    </tr>\n",
       "    <tr>\n",
       "      <td>1</td>\n",
       "      <td>2</td>\n",
       "      <td>Autos &amp; Vehicles</td>\n",
       "      <td>12290</td>\n",
       "      <td>0</td>\n",
       "      <td>632.838542</td>\n",
       "      <td>279.000000</td>\n",
       "    </tr>\n",
       "    <tr>\n",
       "      <td>2</td>\n",
       "      <td>10</td>\n",
       "      <td>Music</td>\n",
       "      <td>343541</td>\n",
       "      <td>0</td>\n",
       "      <td>7907.757726</td>\n",
       "      <td>1243.500000</td>\n",
       "    </tr>\n",
       "    <tr>\n",
       "      <td>3</td>\n",
       "      <td>15</td>\n",
       "      <td>Pets &amp; Animals</td>\n",
       "      <td>4899</td>\n",
       "      <td>0</td>\n",
       "      <td>573.238043</td>\n",
       "      <td>276.000000</td>\n",
       "    </tr>\n",
       "    <tr>\n",
       "      <td>4</td>\n",
       "      <td>17</td>\n",
       "      <td>Sports</td>\n",
       "      <td>176903</td>\n",
       "      <td>0</td>\n",
       "      <td>2361.339006</td>\n",
       "      <td>343.000000</td>\n",
       "    </tr>\n",
       "    <tr>\n",
       "      <td>5</td>\n",
       "      <td>19</td>\n",
       "      <td>Travel &amp; Events</td>\n",
       "      <td>9000</td>\n",
       "      <td>0</td>\n",
       "      <td>846.833333</td>\n",
       "      <td>351.000000</td>\n",
       "    </tr>\n",
       "    <tr>\n",
       "      <td>6</td>\n",
       "      <td>20</td>\n",
       "      <td>Gaming</td>\n",
       "      <td>212976</td>\n",
       "      <td>0</td>\n",
       "      <td>11241.696450</td>\n",
       "      <td>1956.000000</td>\n",
       "    </tr>\n",
       "    <tr>\n",
       "      <td>7</td>\n",
       "      <td>22</td>\n",
       "      <td>People &amp; Blogs</td>\n",
       "      <td>228426</td>\n",
       "      <td>0</td>\n",
       "      <td>3173.800935</td>\n",
       "      <td>555.500000</td>\n",
       "    </tr>\n",
       "    <tr>\n",
       "      <td>8</td>\n",
       "      <td>23</td>\n",
       "      <td>Comedy</td>\n",
       "      <td>29865</td>\n",
       "      <td>0</td>\n",
       "      <td>2091.521840</td>\n",
       "      <td>956.000000</td>\n",
       "    </tr>\n",
       "    <tr>\n",
       "      <td>9</td>\n",
       "      <td>24</td>\n",
       "      <td>Entertainment</td>\n",
       "      <td>1674420</td>\n",
       "      <td>0</td>\n",
       "      <td>4314.297772</td>\n",
       "      <td>627.000000</td>\n",
       "    </tr>\n",
       "    <tr>\n",
       "      <td>10</td>\n",
       "      <td>25</td>\n",
       "      <td>News &amp; Politics</td>\n",
       "      <td>132439</td>\n",
       "      <td>0</td>\n",
       "      <td>1680.759550</td>\n",
       "      <td>344.000000</td>\n",
       "    </tr>\n",
       "    <tr>\n",
       "      <td>11</td>\n",
       "      <td>26</td>\n",
       "      <td>Howto &amp; Style</td>\n",
       "      <td>66632</td>\n",
       "      <td>0</td>\n",
       "      <td>1320.284370</td>\n",
       "      <td>502.500000</td>\n",
       "    </tr>\n",
       "    <tr>\n",
       "      <td>12</td>\n",
       "      <td>27</td>\n",
       "      <td>Education</td>\n",
       "      <td>11270</td>\n",
       "      <td>0</td>\n",
       "      <td>816.408213</td>\n",
       "      <td>397.000000</td>\n",
       "    </tr>\n",
       "    <tr>\n",
       "      <td>13</td>\n",
       "      <td>28</td>\n",
       "      <td>Science &amp; Technology</td>\n",
       "      <td>47469</td>\n",
       "      <td>0</td>\n",
       "      <td>1894.378176</td>\n",
       "      <td>589.000000</td>\n",
       "    </tr>\n",
       "    <tr>\n",
       "      <td>14</td>\n",
       "      <td>29</td>\n",
       "      <td>Nonprofits &amp; Activism</td>\n",
       "      <td>497847</td>\n",
       "      <td>0</td>\n",
       "      <td>58076.859649</td>\n",
       "      <td>122.000000</td>\n",
       "    </tr>\n",
       "    <tr>\n",
       "      <td>15</td>\n",
       "      <td>43</td>\n",
       "      <td>Shows</td>\n",
       "      <td>616</td>\n",
       "      <td>66</td>\n",
       "      <td>429.964912</td>\n",
       "      <td>465.000000</td>\n",
       "    </tr>\n",
       "  </tbody>\n",
       "</table>\n",
       "</div>"
      ],
      "text/plain": [
       "    id               category  highest_dislikes  lowest_dislikes  \\\n",
       "0    1       Film & Animation             38082                0   \n",
       "1    2       Autos & Vehicles             12290                0   \n",
       "2   10                  Music            343541                0   \n",
       "3   15         Pets & Animals              4899                0   \n",
       "4   17                 Sports            176903                0   \n",
       "5   19        Travel & Events              9000                0   \n",
       "6   20                 Gaming            212976                0   \n",
       "7   22         People & Blogs            228426                0   \n",
       "8   23                 Comedy             29865                0   \n",
       "9   24          Entertainment           1674420                0   \n",
       "10  25        News & Politics            132439                0   \n",
       "11  26          Howto & Style             66632                0   \n",
       "12  27              Education             11270                0   \n",
       "13  28   Science & Technology             47469                0   \n",
       "14  29  Nonprofits & Activism            497847                0   \n",
       "15  43                  Shows               616               66   \n",
       "\n",
       "    average_dislikes  median_dislikes  \n",
       "0        2590.681450      1022.000000  \n",
       "1         632.838542       279.000000  \n",
       "2        7907.757726      1243.500000  \n",
       "3         573.238043       276.000000  \n",
       "4        2361.339006       343.000000  \n",
       "5         846.833333       351.000000  \n",
       "6       11241.696450      1956.000000  \n",
       "7        3173.800935       555.500000  \n",
       "8        2091.521840       956.000000  \n",
       "9        4314.297772       627.000000  \n",
       "10       1680.759550       344.000000  \n",
       "11       1320.284370       502.500000  \n",
       "12        816.408213       397.000000  \n",
       "13       1894.378176       589.000000  \n",
       "14      58076.859649       122.000000  \n",
       "15        429.964912       465.000000  "
      ]
     },
     "execution_count": 16,
     "metadata": {},
     "output_type": "execute_result"
    }
   ],
   "source": [
    "dfDislikesUS = pd.merge(dfUScategory,dfDislikesUS,on=\"id\")\n",
    "\n",
    "print(\"\")\n",
    "print(\"DATA DISLIKES SETIAP KATEGORI DI REGION UNITED STATES\")\n",
    "dfDislikesUS"
   ]
  },
  {
   "cell_type": "markdown",
   "metadata": {},
   "source": [
    "### 4B. Data tertinggi, terendah, dan rata-rata jumlah komentar United States"
   ]
  },
  {
   "cell_type": "code",
   "execution_count": 17,
   "metadata": {},
   "outputs": [],
   "source": [
    "# memasukkan data ke dalam list\n",
    "data_comments_us = {\n",
    "    # a adalah hasil sorting array saat menemukan value yang unique dari id kategori data video region United States\n",
    "    'id' : a,\n",
    "    'highest_comments':[gUSvideo.get_group(items)['comment_count'].max() for items in dfUScategory['id']],\n",
    "    'lowest_comments':[gUSvideo.get_group(items)['comment_count'].min() for items in dfUScategory['id']],\n",
    "    'average_comments':[gUSvideo.get_group(items)['comment_count'].mean() for items in dfUScategory['id']],\n",
    "    'median_comments':[gUSvideo.get_group(items)['comment_count'].median() for items in dfUScategory['id']\n",
    "                   ]}\n",
    "\n",
    "dfCommentsUS = pd.DataFrame(data_comments_us)"
   ]
  },
  {
   "cell_type": "code",
   "execution_count": 18,
   "metadata": {},
   "outputs": [
    {
     "name": "stdout",
     "output_type": "stream",
     "text": [
      "\n",
      "DATA COMMENTS SETIAP KATEGORI DI REGION UNITED STATES\n"
     ]
    },
    {
     "data": {
      "text/html": [
       "<div>\n",
       "<style scoped>\n",
       "    .dataframe tbody tr th:only-of-type {\n",
       "        vertical-align: middle;\n",
       "    }\n",
       "\n",
       "    .dataframe tbody tr th {\n",
       "        vertical-align: top;\n",
       "    }\n",
       "\n",
       "    .dataframe thead th {\n",
       "        text-align: right;\n",
       "    }\n",
       "</style>\n",
       "<table border=\"1\" class=\"dataframe\">\n",
       "  <thead>\n",
       "    <tr style=\"text-align: right;\">\n",
       "      <th></th>\n",
       "      <th>id</th>\n",
       "      <th>category</th>\n",
       "      <th>highest_comments</th>\n",
       "      <th>lowest_comments</th>\n",
       "      <th>average_comments</th>\n",
       "      <th>median_comments</th>\n",
       "    </tr>\n",
       "  </thead>\n",
       "  <tbody>\n",
       "    <tr>\n",
       "      <td>0</td>\n",
       "      <td>1</td>\n",
       "      <td>Film &amp; Animation</td>\n",
       "      <td>108849</td>\n",
       "      <td>0</td>\n",
       "      <td>7627.744136</td>\n",
       "      <td>2636.000000</td>\n",
       "    </tr>\n",
       "    <tr>\n",
       "      <td>1</td>\n",
       "      <td>2</td>\n",
       "      <td>Autos &amp; Vehicles</td>\n",
       "      <td>10591</td>\n",
       "      <td>0</td>\n",
       "      <td>2042.830729</td>\n",
       "      <td>916.000000</td>\n",
       "    </tr>\n",
       "    <tr>\n",
       "      <td>2</td>\n",
       "      <td>10</td>\n",
       "      <td>Music</td>\n",
       "      <td>1228655</td>\n",
       "      <td>0</td>\n",
       "      <td>19359.764524</td>\n",
       "      <td>3906.000000</td>\n",
       "    </tr>\n",
       "    <tr>\n",
       "      <td>3</td>\n",
       "      <td>15</td>\n",
       "      <td>Pets &amp; Animals</td>\n",
       "      <td>44063</td>\n",
       "      <td>0</td>\n",
       "      <td>2892.070652</td>\n",
       "      <td>1173.000000</td>\n",
       "    </tr>\n",
       "    <tr>\n",
       "      <td>4</td>\n",
       "      <td>17</td>\n",
       "      <td>Sports</td>\n",
       "      <td>83660</td>\n",
       "      <td>0</td>\n",
       "      <td>5148.185373</td>\n",
       "      <td>1127.500000</td>\n",
       "    </tr>\n",
       "    <tr>\n",
       "      <td>5</td>\n",
       "      <td>19</td>\n",
       "      <td>Travel &amp; Events</td>\n",
       "      <td>13631</td>\n",
       "      <td>0</td>\n",
       "      <td>2267.440299</td>\n",
       "      <td>1674.500000</td>\n",
       "    </tr>\n",
       "    <tr>\n",
       "      <td>6</td>\n",
       "      <td>20</td>\n",
       "      <td>Gaming</td>\n",
       "      <td>144795</td>\n",
       "      <td>0</td>\n",
       "      <td>18042.488372</td>\n",
       "      <td>8871.000000</td>\n",
       "    </tr>\n",
       "    <tr>\n",
       "      <td>7</td>\n",
       "      <td>22</td>\n",
       "      <td>People &amp; Blogs</td>\n",
       "      <td>383762</td>\n",
       "      <td>0</td>\n",
       "      <td>7719.013084</td>\n",
       "      <td>1678.000000</td>\n",
       "    </tr>\n",
       "    <tr>\n",
       "      <td>8</td>\n",
       "      <td>23</td>\n",
       "      <td>Comedy</td>\n",
       "      <td>81051</td>\n",
       "      <td>0</td>\n",
       "      <td>6521.718831</td>\n",
       "      <td>2604.000000</td>\n",
       "    </tr>\n",
       "    <tr>\n",
       "      <td>9</td>\n",
       "      <td>24</td>\n",
       "      <td>Entertainment</td>\n",
       "      <td>1361580</td>\n",
       "      <td>0</td>\n",
       "      <td>7383.229426</td>\n",
       "      <td>1693.500000</td>\n",
       "    </tr>\n",
       "    <tr>\n",
       "      <td>10</td>\n",
       "      <td>25</td>\n",
       "      <td>News &amp; Politics</td>\n",
       "      <td>38936</td>\n",
       "      <td>0</td>\n",
       "      <td>2428.400885</td>\n",
       "      <td>866.000000</td>\n",
       "    </tr>\n",
       "    <tr>\n",
       "      <td>11</td>\n",
       "      <td>26</td>\n",
       "      <td>Howto &amp; Style</td>\n",
       "      <td>203884</td>\n",
       "      <td>0</td>\n",
       "      <td>5583.586589</td>\n",
       "      <td>1842.000000</td>\n",
       "    </tr>\n",
       "    <tr>\n",
       "      <td>12</td>\n",
       "      <td>27</td>\n",
       "      <td>Education</td>\n",
       "      <td>28835</td>\n",
       "      <td>0</td>\n",
       "      <td>3286.378019</td>\n",
       "      <td>1466.500000</td>\n",
       "    </tr>\n",
       "    <tr>\n",
       "      <td>13</td>\n",
       "      <td>28</td>\n",
       "      <td>Science &amp; Technology</td>\n",
       "      <td>180913</td>\n",
       "      <td>0</td>\n",
       "      <td>4993.721783</td>\n",
       "      <td>1734.000000</td>\n",
       "    </tr>\n",
       "    <tr>\n",
       "      <td>14</td>\n",
       "      <td>29</td>\n",
       "      <td>Nonprofits &amp; Activism</td>\n",
       "      <td>658130</td>\n",
       "      <td>0</td>\n",
       "      <td>84364.859649</td>\n",
       "      <td>570.000000</td>\n",
       "    </tr>\n",
       "    <tr>\n",
       "      <td>15</td>\n",
       "      <td>43</td>\n",
       "      <td>Shows</td>\n",
       "      <td>2181</td>\n",
       "      <td>220</td>\n",
       "      <td>1668.719298</td>\n",
       "      <td>1648.000000</td>\n",
       "    </tr>\n",
       "  </tbody>\n",
       "</table>\n",
       "</div>"
      ],
      "text/plain": [
       "    id               category  highest_comments  lowest_comments  \\\n",
       "0    1       Film & Animation            108849                0   \n",
       "1    2       Autos & Vehicles             10591                0   \n",
       "2   10                  Music           1228655                0   \n",
       "3   15         Pets & Animals             44063                0   \n",
       "4   17                 Sports             83660                0   \n",
       "5   19        Travel & Events             13631                0   \n",
       "6   20                 Gaming            144795                0   \n",
       "7   22         People & Blogs            383762                0   \n",
       "8   23                 Comedy             81051                0   \n",
       "9   24          Entertainment           1361580                0   \n",
       "10  25        News & Politics             38936                0   \n",
       "11  26          Howto & Style            203884                0   \n",
       "12  27              Education             28835                0   \n",
       "13  28   Science & Technology            180913                0   \n",
       "14  29  Nonprofits & Activism            658130                0   \n",
       "15  43                  Shows              2181              220   \n",
       "\n",
       "    average_comments  median_comments  \n",
       "0        7627.744136      2636.000000  \n",
       "1        2042.830729       916.000000  \n",
       "2       19359.764524      3906.000000  \n",
       "3        2892.070652      1173.000000  \n",
       "4        5148.185373      1127.500000  \n",
       "5        2267.440299      1674.500000  \n",
       "6       18042.488372      8871.000000  \n",
       "7        7719.013084      1678.000000  \n",
       "8        6521.718831      2604.000000  \n",
       "9        7383.229426      1693.500000  \n",
       "10       2428.400885       866.000000  \n",
       "11       5583.586589      1842.000000  \n",
       "12       3286.378019      1466.500000  \n",
       "13       4993.721783      1734.000000  \n",
       "14      84364.859649       570.000000  \n",
       "15       1668.719298      1648.000000  "
      ]
     },
     "execution_count": 18,
     "metadata": {},
     "output_type": "execute_result"
    }
   ],
   "source": [
    "dfCommentsUS = pd.merge(dfUScategory,dfCommentsUS,on=\"id\")\n",
    "\n",
    "print(\"\")\n",
    "print(\"DATA COMMENTS SETIAP KATEGORI DI REGION UNITED STATES\")\n",
    "dfCommentsUS"
   ]
  },
  {
   "cell_type": "markdown",
   "metadata": {},
   "source": [
    "<b>------------------------------------------------------------------------------------------------------------------------------------------------------------------------------------------------------------------------------------------------------------------------------------------------------------------------------------------------------------------------------------------------------------------------------------</b>"
   ]
  },
  {
   "cell_type": "markdown",
   "metadata": {},
   "source": [
    "## B. BOXPLOTTING ABSOLUTE VALUE BERDASARKAN KATEGORI DATA VIDEO UNITED STATES"
   ]
  },
  {
   "cell_type": "markdown",
   "metadata": {},
   "source": [
    "Berikut adalah data jumlah viewer region United States apabila divisualisasikan dengan boxplot. Karena data terlalu beragam, outliernya terlalu tinggi dan tidak dapat dilihat dengan baik."
   ]
  },
  {
   "cell_type": "markdown",
   "metadata": {},
   "source": [
    "### 1B. Boxplotting Absolute Value Viewer Berdasarkan Kategori Data Video United States"
   ]
  },
  {
   "cell_type": "code",
   "execution_count": 19,
   "metadata": {},
   "outputs": [],
   "source": [
    "# list jumlah views wilayah United States berdasarkan array a\n",
    "data_view_us_boxplot = [gUSvideo.get_group(items)['views'].values for items in a]"
   ]
  },
  {
   "cell_type": "code",
   "execution_count": 20,
   "metadata": {},
   "outputs": [
    {
     "data": {
      "text/plain": [
       "Text(0, 0.5, 'Jumlah Viewer')"
      ]
     },
     "execution_count": 20,
     "metadata": {},
     "output_type": "execute_result"
    },
    {
     "data": {
      "image/png": "[encoded data removed]",
      "text/plain": [
       "<Figure size 1080x1080 with 1 Axes>"
      ]
     },
     "metadata": {
      "needs_background": "light"
     },
     "output_type": "display_data"
    }
   ],
   "source": [
    "fig = plt.figure(1, figsize=(15, 15))\n",
    "\n",
    "# membuat axes\n",
    "ax = fig.add_subplot(111)\n",
    "\n",
    "# boxplot\n",
    "ax.boxplot(data_view_us_boxplot)\n",
    "\n",
    "# penamaan x tick berdasarkan id kategori United States\n",
    "ax.set_xticklabels(dfUScategory['category'], rotation='vertical')\n",
    "\n",
    "# penamaan judul\n",
    "plt.title(\"ABSOLUTE VALUE VIEWER WILAYAH UNITED STATES\", fontsize=14)\n",
    "\n",
    "# penamaan label\n",
    "plt.xlabel(\"ID Kategori\", fontsize=14)\n",
    "plt.ylabel(\"Jumlah Viewer\", fontsize=14)"
   ]
  },
  {
   "cell_type": "markdown",
   "metadata": {},
   "source": [
    "Karena setelah dilakukan boxplotting outlier terlihat terlalu banyak maka diputuskan untuk dicoba dilakukan outlier removal dengan metode z-score dan IQR pada salah satu kategori yaitu Entertainment yang mana ada di urutan 9 pada array a."
   ]
  },
  {
   "cell_type": "markdown",
   "metadata": {},
   "source": [
    "#### Testing Z-Score Viewer Salah Satu Kategori Video United States Yaitu Entertainment"
   ]
  },
  {
   "cell_type": "code",
   "execution_count": 21,
   "metadata": {},
   "outputs": [
    {
     "data": {
      "text/html": [
       "<div>\n",
       "<style scoped>\n",
       "    .dataframe tbody tr th:only-of-type {\n",
       "        vertical-align: middle;\n",
       "    }\n",
       "\n",
       "    .dataframe tbody tr th {\n",
       "        vertical-align: top;\n",
       "    }\n",
       "\n",
       "    .dataframe thead th {\n",
       "        text-align: right;\n",
       "    }\n",
       "</style>\n",
       "<table border=\"1\" class=\"dataframe\">\n",
       "  <thead>\n",
       "    <tr style=\"text-align: right;\">\n",
       "      <th></th>\n",
       "      <th>id</th>\n",
       "      <th>viewer</th>\n",
       "    </tr>\n",
       "  </thead>\n",
       "  <tbody>\n",
       "    <tr>\n",
       "      <td>0</td>\n",
       "      <td>1</td>\n",
       "      <td>[826059, 50867, 288922, 52591, 1751064, 273673...</td>\n",
       "    </tr>\n",
       "    <tr>\n",
       "      <td>1</td>\n",
       "      <td>2</td>\n",
       "      <td>[98378, 7265, 4850, 704363, 341074, 93829, 551...</td>\n",
       "    </tr>\n",
       "    <tr>\n",
       "      <td>2</td>\n",
       "      <td>10</td>\n",
       "      <td>[687582, 17158531, 13917, 57169, 60506, 328330...</td>\n",
       "    </tr>\n",
       "    <tr>\n",
       "      <td>3</td>\n",
       "      <td>15</td>\n",
       "      <td>[207532, 45455, 284666, 426078, 46571, 279092,...</td>\n",
       "    </tr>\n",
       "    <tr>\n",
       "      <td>4</td>\n",
       "      <td>17</td>\n",
       "      <td>[81377, 945, 956169, 4569, 1044813, 162597, 18...</td>\n",
       "    </tr>\n",
       "    <tr>\n",
       "      <td>5</td>\n",
       "      <td>19</td>\n",
       "      <td>[141148, 311621, 571588, 1037561, 403564, 1118...</td>\n",
       "    </tr>\n",
       "    <tr>\n",
       "      <td>6</td>\n",
       "      <td>20</td>\n",
       "      <td>[154872, 161231, 224426, 463992, 55460, 686170...</td>\n",
       "    </tr>\n",
       "    <tr>\n",
       "      <td>7</td>\n",
       "      <td>22</td>\n",
       "      <td>[748374, 98966, 321053, 197062, 2744430, 17770...</td>\n",
       "    </tr>\n",
       "    <tr>\n",
       "      <td>8</td>\n",
       "      <td>23</td>\n",
       "      <td>[3191434, 295639, 33980, 605932, 3358068, 1482...</td>\n",
       "    </tr>\n",
       "    <tr>\n",
       "      <td>9</td>\n",
       "      <td>24</td>\n",
       "      <td>[2418783, 343168, 2095731, 2103417, 104578, 22...</td>\n",
       "    </tr>\n",
       "    <tr>\n",
       "      <td>10</td>\n",
       "      <td>25</td>\n",
       "      <td>[256426, 544770, 27943, 34785, 6473, 9132, 530...</td>\n",
       "    </tr>\n",
       "    <tr>\n",
       "      <td>11</td>\n",
       "      <td>26</td>\n",
       "      <td>[145921, 120727, 1456472, 7224515, 484185, 300...</td>\n",
       "    </tr>\n",
       "    <tr>\n",
       "      <td>12</td>\n",
       "      <td>27</td>\n",
       "      <td>[78044, 223871, 115791, 144418, 67429, 6412, 7...</td>\n",
       "    </tr>\n",
       "    <tr>\n",
       "      <td>13</td>\n",
       "      <td>28</td>\n",
       "      <td>[119180, 817732, 75752, 97007, 224019, 80705, ...</td>\n",
       "    </tr>\n",
       "    <tr>\n",
       "      <td>14</td>\n",
       "      <td>29</td>\n",
       "      <td>[1456, 1873, 2005, 2093, 1967, 2373, 2492, 705...</td>\n",
       "    </tr>\n",
       "    <tr>\n",
       "      <td>15</td>\n",
       "      <td>43</td>\n",
       "      <td>[110112, 134433, 146353, 153469, 161347, 16652...</td>\n",
       "    </tr>\n",
       "  </tbody>\n",
       "</table>\n",
       "</div>"
      ],
      "text/plain": [
       "    id                                             viewer\n",
       "0    1  [826059, 50867, 288922, 52591, 1751064, 273673...\n",
       "1    2  [98378, 7265, 4850, 704363, 341074, 93829, 551...\n",
       "2   10  [687582, 17158531, 13917, 57169, 60506, 328330...\n",
       "3   15  [207532, 45455, 284666, 426078, 46571, 279092,...\n",
       "4   17  [81377, 945, 956169, 4569, 1044813, 162597, 18...\n",
       "5   19  [141148, 311621, 571588, 1037561, 403564, 1118...\n",
       "6   20  [154872, 161231, 224426, 463992, 55460, 686170...\n",
       "7   22  [748374, 98966, 321053, 197062, 2744430, 17770...\n",
       "8   23  [3191434, 295639, 33980, 605932, 3358068, 1482...\n",
       "9   24  [2418783, 343168, 2095731, 2103417, 104578, 22...\n",
       "10  25  [256426, 544770, 27943, 34785, 6473, 9132, 530...\n",
       "11  26  [145921, 120727, 1456472, 7224515, 484185, 300...\n",
       "12  27  [78044, 223871, 115791, 144418, 67429, 6412, 7...\n",
       "13  28  [119180, 817732, 75752, 97007, 224019, 80705, ...\n",
       "14  29  [1456, 1873, 2005, 2093, 1967, 2373, 2492, 705...\n",
       "15  43  [110112, 134433, 146353, 153469, 161347, 16652..."
      ]
     },
     "execution_count": 21,
     "metadata": {},
     "output_type": "execute_result"
    }
   ],
   "source": [
    "data_view_us_test = {\n",
    "    \n",
    "    # a adalah hasil sorting array saat menemukan value yang unique dari id kategori data video region United States\n",
    "    'id' : a,\n",
    "    #penonton tertinggi\n",
    "    'viewer':[gUSvideo.get_group(items)['views'].values for items in dfUScategory['id']]\n",
    "}\n",
    "\n",
    "dfViewUStest = pd.DataFrame(data_view_us_test)\n",
    "dfViewUStest"
   ]
  },
  {
   "cell_type": "code",
   "execution_count": 22,
   "metadata": {},
   "outputs": [],
   "source": [
    "data_ent_us_view = {\n",
    "    'viewer' : dfViewUStest.loc[9, 'viewer'],\n",
    "    'z-score' : stats.zscore(dfViewUStest.loc[9, 'viewer'])\n",
    "}\n",
    "\n",
    "dfEntertainViewTest = pd.DataFrame(data_ent_us_view)"
   ]
  },
  {
   "cell_type": "code",
   "execution_count": 23,
   "metadata": {},
   "outputs": [
    {
     "data": {
      "text/html": [
       "<div>\n",
       "<style scoped>\n",
       "    .dataframe tbody tr th:only-of-type {\n",
       "        vertical-align: middle;\n",
       "    }\n",
       "\n",
       "    .dataframe tbody tr th {\n",
       "        vertical-align: top;\n",
       "    }\n",
       "\n",
       "    .dataframe thead th {\n",
       "        text-align: right;\n",
       "    }\n",
       "</style>\n",
       "<table border=\"1\" class=\"dataframe\">\n",
       "  <thead>\n",
       "    <tr style=\"text-align: right;\">\n",
       "      <th></th>\n",
       "      <th>viewer</th>\n",
       "      <th>z-score</th>\n",
       "    </tr>\n",
       "  </thead>\n",
       "  <tbody>\n",
       "    <tr>\n",
       "      <td>0</td>\n",
       "      <td>2418783</td>\n",
       "      <td>0.060337</td>\n",
       "    </tr>\n",
       "    <tr>\n",
       "      <td>1</td>\n",
       "      <td>343168</td>\n",
       "      <td>-0.296562</td>\n",
       "    </tr>\n",
       "    <tr>\n",
       "      <td>2</td>\n",
       "      <td>2095731</td>\n",
       "      <td>0.004788</td>\n",
       "    </tr>\n",
       "    <tr>\n",
       "      <td>3</td>\n",
       "      <td>2103417</td>\n",
       "      <td>0.006110</td>\n",
       "    </tr>\n",
       "    <tr>\n",
       "      <td>4</td>\n",
       "      <td>104578</td>\n",
       "      <td>-0.337587</td>\n",
       "    </tr>\n",
       "    <tr>\n",
       "      <td>...</td>\n",
       "      <td>...</td>\n",
       "      <td>...</td>\n",
       "    </tr>\n",
       "    <tr>\n",
       "      <td>9959</td>\n",
       "      <td>2003345</td>\n",
       "      <td>-0.011097</td>\n",
       "    </tr>\n",
       "    <tr>\n",
       "      <td>9960</td>\n",
       "      <td>1437051</td>\n",
       "      <td>-0.108470</td>\n",
       "    </tr>\n",
       "    <tr>\n",
       "      <td>9961</td>\n",
       "      <td>8607264</td>\n",
       "      <td>1.124435</td>\n",
       "    </tr>\n",
       "    <tr>\n",
       "      <td>9962</td>\n",
       "      <td>5564576</td>\n",
       "      <td>0.601250</td>\n",
       "    </tr>\n",
       "    <tr>\n",
       "      <td>9963</td>\n",
       "      <td>1066451</td>\n",
       "      <td>-0.172194</td>\n",
       "    </tr>\n",
       "  </tbody>\n",
       "</table>\n",
       "<p>9853 rows × 2 columns</p>\n",
       "</div>"
      ],
      "text/plain": [
       "       viewer   z-score\n",
       "0     2418783  0.060337\n",
       "1      343168 -0.296562\n",
       "2     2095731  0.004788\n",
       "3     2103417  0.006110\n",
       "4      104578 -0.337587\n",
       "...       ...       ...\n",
       "9959  2003345 -0.011097\n",
       "9960  1437051 -0.108470\n",
       "9961  8607264  1.124435\n",
       "9962  5564576  0.601250\n",
       "9963  1066451 -0.172194\n",
       "\n",
       "[9853 rows x 2 columns]"
      ]
     },
     "execution_count": 23,
     "metadata": {},
     "output_type": "execute_result"
    }
   ],
   "source": [
    "# Membuat Dataframe Baru yang telah difilter tanpa outlier\n",
    "dfEntertainViewTestz = dfEntertainViewTest[dfEntertainViewTest['z-score'] < 3]\n",
    "\n",
    "dfEntertainViewTestz"
   ]
  },
  {
   "cell_type": "code",
   "execution_count": 24,
   "metadata": {},
   "outputs": [
    {
     "data": {
      "text/plain": [
       "Text(0, 0.5, 'Jumlah Views')"
      ]
     },
     "execution_count": 24,
     "metadata": {},
     "output_type": "execute_result"
    },
    {
     "data": {
      "image/png": "[encoded data removed]",
      "text/plain": [
       "<Figure size 360x360 with 1 Axes>"
      ]
     },
     "metadata": {
      "needs_background": "light"
     },
     "output_type": "display_data"
    }
   ],
   "source": [
    "fig = plt.figure(1, figsize=(5, 5))\n",
    "\n",
    "# membuat axes\n",
    "ax = fig.add_subplot(111)\n",
    "\n",
    "# boxplot\n",
    "ax.boxplot(dfEntertainViewTestz['viewer'].values)\n",
    "\n",
    "# ax.set_ylim(0,1000)\n",
    "ax.set_xticklabels(\"\")\n",
    "\n",
    "# penamaan judul\n",
    "plt.title(\"TESTING BOXPLOT VIEWERS KATEGORI ENTERTAINMENT UNITED STATES SETELAH OUTLIER REMOVAL DENGAN Z-SCORE\", fontsize=14)\n",
    "\n",
    "plt.ylabel(\"Jumlah Views\", fontsize=14)"
   ]
  },
  {
   "cell_type": "markdown",
   "metadata": {},
   "source": [
    "Setelah dilakukan outlier removal dengan Z-Score masih terlihat bahwa outlier dianggap masih terlalu banyak hingga sulit untuk dibaca, maka diputuskan untuk mencoba dilakukan outlier removal dengan IQR"
   ]
  },
  {
   "cell_type": "markdown",
   "metadata": {},
   "source": [
    "Step untuk mendeteksi outlier salah satunya adalah dengan menemukan range bawah dan atas dari suatu data dengan cara berikut :\n",
    "1. Mengurutkan data dari nilai terendah\n",
    "2. Menghitung Q1 (kuartil 1)\n",
    "3. Menghitung Q3 (kuartil 3)\n",
    "4. Menghitung IQR = (Q3 - Q1)\n",
    "5. Menemukan range bawah data = Q1 -(1.5 * IQR)\n",
    "6. Menemukan range atas data = Q3 + (1.5 * IQR)"
   ]
  },
  {
   "cell_type": "code",
   "execution_count": 25,
   "metadata": {},
   "outputs": [
    {
     "name": "stdout",
     "output_type": "stream",
     "text": [
      "IQR Ent United States\n",
      "IQR = 1460351.5\n",
      "Lower = -1917132.5\n",
      "Upper = 3924273.5\n"
     ]
    }
   ],
   "source": [
    "Q1_test_ent_US = dfEntertainViewTest.viewer.quantile(0.25)\n",
    "Q3_test_ent_US = dfEntertainViewTest.viewer.quantile(0.75)\n",
    "IQR_test_ent_US = Q3_test_ent_US - Q1_test_ent_US\n",
    "lower_test_ent_US = Q1_test_ent_US  - (1.5 * IQR_test_ent_US)\n",
    "upper_test_ent_US =  Q3_test_ent_US + (1.5 * IQR_test_ent_US)\n",
    "\n",
    "print(\"IQR Ent United States\")\n",
    "print(\"IQR =\", IQR_test_ent_US)\n",
    "print(\"Lower =\", lower_test_ent_US)\n",
    "print(\"Upper =\", upper_test_ent_US)"
   ]
  },
  {
   "cell_type": "code",
   "execution_count": 26,
   "metadata": {},
   "outputs": [],
   "source": [
    "dfEntertainViewTest_IQRView = dfEntertainViewTest[(dfEntertainViewTest.viewer < upper_test_ent_US) & (dfEntertainViewTest.viewer > lower_test_ent_US)]"
   ]
  },
  {
   "cell_type": "code",
   "execution_count": 27,
   "metadata": {},
   "outputs": [
    {
     "data": {
      "text/plain": [
       "Text(0, 0.5, 'Jumlah Views')"
      ]
     },
     "execution_count": 27,
     "metadata": {},
     "output_type": "execute_result"
    },
    {
     "data": {
      "image/png": "[encoded data removed]",
      "text/plain": [
       "<Figure size 360x360 with 1 Axes>"
      ]
     },
     "metadata": {
      "needs_background": "light"
     },
     "output_type": "display_data"
    }
   ],
   "source": [
    "fig = plt.figure(1, figsize=(5, 5))\n",
    "\n",
    "# membuat axes\n",
    "ax = fig.add_subplot(111)\n",
    "\n",
    "# boxplot\n",
    "ax.boxplot(dfEntertainViewTest_IQRView['viewer'].values)\n",
    "\n",
    "# ax.set_ylim(0,1000)\n",
    "ax.set_xticklabels(\"\")\n",
    "\n",
    "# penamaan judul\n",
    "plt.title(\"BOXPLOT VIEWERS KATEGORI ENTERTAINMENT UNITED STATES SETELAH OUTLIER REMOVAL DENGAN IQR\", fontsize=14)\n",
    "\n",
    "plt.ylabel(\"Jumlah Views\", fontsize=14)"
   ]
  },
  {
   "cell_type": "markdown",
   "metadata": {},
   "source": [
    "Setelah dilakukan outlier removal dengan IQR masih terlihat bahwa outlier masih cukup sulit untuk dibaca, di sini akhirnya diputuskan untuk <b>menampilkan boxplot tanpa outlier</b>."
   ]
  },
  {
   "cell_type": "code",
   "execution_count": 28,
   "metadata": {},
   "outputs": [
    {
     "data": {
      "text/plain": [
       "Text(0, 0.5, 'Jumlah Viewer')"
      ]
     },
     "execution_count": 28,
     "metadata": {},
     "output_type": "execute_result"
    },
    {
     "data": {
      "image/png": "[encoded data removed]",
      "text/plain": [
       "<Figure size 1080x1080 with 1 Axes>"
      ]
     },
     "metadata": {
      "needs_background": "light"
     },
     "output_type": "display_data"
    }
   ],
   "source": [
    "fig = plt.figure(1, figsize=(15, 15))\n",
    "\n",
    "# membuat axes\n",
    "ax = fig.add_subplot(111)\n",
    "\n",
    "# boxplot\n",
    "ax.boxplot(data_view_us_boxplot, showfliers=False)\n",
    "\n",
    "# penamaan x tick berdasarkan id kategori United States\n",
    "ax.set_xticklabels(dfUScategory['category'], rotation='vertical')\n",
    "\n",
    "# penamaan judul\n",
    "plt.title(\"ABSOLUTE VALUE VIEWER WILAYAH UNITED STATES\", fontsize=14)\n",
    "\n",
    "# penamaan label\n",
    "plt.xlabel(\"ID Kategori\", fontsize=14)\n",
    "plt.ylabel(\"Jumlah Viewer\", fontsize=14)"
   ]
  },
  {
   "cell_type": "markdown",
   "metadata": {},
   "source": [
    "### 2B. Boxplotting Absolute Value Likes Berdasarkan Kategori Data Video United States"
   ]
  },
  {
   "cell_type": "code",
   "execution_count": 29,
   "metadata": {},
   "outputs": [],
   "source": [
    "# list jumlah views wilayah United States berdasarkan array a\n",
    "data_likes_us_boxplot = [gUSvideo.get_group(items)['likes'].values for items in a]"
   ]
  },
  {
   "cell_type": "code",
   "execution_count": 30,
   "metadata": {},
   "outputs": [
    {
     "data": {
      "text/plain": [
       "Text(0, 0.5, 'Jumlah Likes')"
      ]
     },
     "execution_count": 30,
     "metadata": {},
     "output_type": "execute_result"
    },
    {
     "data": {
      "image/png": "[encoded data removed]",
      "text/plain": [
       "<Figure size 1080x1080 with 1 Axes>"
      ]
     },
     "metadata": {
      "needs_background": "light"
     },
     "output_type": "display_data"
    }
   ],
   "source": [
    "fig = plt.figure(1, figsize=(15, 15))\n",
    "\n",
    "# membuat axes\n",
    "ax = fig.add_subplot(111)\n",
    "\n",
    "# boxplot\n",
    "ax.boxplot(data_likes_us_boxplot, showfliers=False)\n",
    "\n",
    "# penamaan x tick berdasarkan id kategori United States\n",
    "ax.set_xticklabels(dfUScategory['category'], rotation='vertical')\n",
    "\n",
    "# penamaan judul\n",
    "plt.title(\"ABSOLUTE VALUE LIKES WILAYAH UNITED STATES\", fontsize=14)\n",
    "\n",
    "# penamaan label\n",
    "plt.xlabel(\"ID Kategori\", fontsize=14)\n",
    "plt.ylabel(\"Jumlah Likes\", fontsize=14)"
   ]
  },
  {
   "cell_type": "markdown",
   "metadata": {},
   "source": [
    "### 3B. Boxplotting Absolute Value Dislikes Berdasarkan Kategori Data Video United States"
   ]
  },
  {
   "cell_type": "code",
   "execution_count": 31,
   "metadata": {},
   "outputs": [],
   "source": [
    "# list jumlah views wilayah United States berdasarkan array a\n",
    "data_dislikes_us_boxplot = [gUSvideo.get_group(items)['dislikes'].values for items in a]"
   ]
  },
  {
   "cell_type": "code",
   "execution_count": 32,
   "metadata": {},
   "outputs": [
    {
     "data": {
      "text/plain": [
       "Text(0, 0.5, 'Jumlah Dislikes')"
      ]
     },
     "execution_count": 32,
     "metadata": {},
     "output_type": "execute_result"
    },
    {
     "data": {
      "image/png": "[encoded data removed]",
      "text/plain": [
       "<Figure size 1080x1080 with 1 Axes>"
      ]
     },
     "metadata": {
      "needs_background": "light"
     },
     "output_type": "display_data"
    }
   ],
   "source": [
    "fig = plt.figure(1, figsize=(15, 15))\n",
    "\n",
    "# membuat axes\n",
    "ax = fig.add_subplot(111)\n",
    "\n",
    "# boxplot\n",
    "ax.boxplot(data_dislikes_us_boxplot, showfliers=False)\n",
    "\n",
    "# penamaan x tick berdasarkan id kategori United States\n",
    "ax.set_xticklabels(dfUScategory['category'], rotation='vertical')\n",
    "\n",
    "# penamaan judul\n",
    "plt.title(\"ABSOLUTE VALUE DISLIKES WILAYAH UNITED STATES\", fontsize=14)\n",
    "\n",
    "# penamaan label\n",
    "plt.xlabel(\"ID Kategori\", fontsize=14)\n",
    "plt.ylabel(\"Jumlah Dislikes\", fontsize=14)"
   ]
  },
  {
   "cell_type": "markdown",
   "metadata": {},
   "source": [
    "### 4B. Boxplotting Absolute Value Jumlah Komentar Berdasarkan Kategori Data Video United States"
   ]
  },
  {
   "cell_type": "code",
   "execution_count": 33,
   "metadata": {},
   "outputs": [
    {
     "ename": "KeyError",
     "evalue": "'comments'",
     "output_type": "error",
     "traceback": [
      "\u001b[1;31m---------------------------------------------------------------------------\u001b[0m",
      "\u001b[1;31mKeyError\u001b[0m                                  Traceback (most recent call last)",
      "\u001b[1;32m~\\Anaconda3\\lib\\site-packages\\pandas\\core\\indexes\\base.py\u001b[0m in \u001b[0;36mget_loc\u001b[1;34m(self, key, method, tolerance)\u001b[0m\n\u001b[0;32m   2896\u001b[0m             \u001b[1;32mtry\u001b[0m\u001b[1;33m:\u001b[0m\u001b[1;33m\u001b[0m\u001b[1;33m\u001b[0m\u001b[0m\n\u001b[1;32m-> 2897\u001b[1;33m                 \u001b[1;32mreturn\u001b[0m \u001b[0mself\u001b[0m\u001b[1;33m.\u001b[0m\u001b[0m_engine\u001b[0m\u001b[1;33m.\u001b[0m\u001b[0mget_loc\u001b[0m\u001b[1;33m(\u001b[0m\u001b[0mkey\u001b[0m\u001b[1;33m)\u001b[0m\u001b[1;33m\u001b[0m\u001b[1;33m\u001b[0m\u001b[0m\n\u001b[0m\u001b[0;32m   2898\u001b[0m             \u001b[1;32mexcept\u001b[0m \u001b[0mKeyError\u001b[0m\u001b[1;33m:\u001b[0m\u001b[1;33m\u001b[0m\u001b[1;33m\u001b[0m\u001b[0m\n",
      "\u001b[1;32mpandas\\_libs\\index.pyx\u001b[0m in \u001b[0;36mpandas._libs.index.IndexEngine.get_loc\u001b[1;34m()\u001b[0m\n",
      "\u001b[1;32mpandas\\_libs\\index.pyx\u001b[0m in \u001b[0;36mpandas._libs.index.IndexEngine.get_loc\u001b[1;34m()\u001b[0m\n",
      "\u001b[1;32mpandas\\_libs\\hashtable_class_helper.pxi\u001b[0m in \u001b[0;36mpandas._libs.hashtable.PyObjectHashTable.get_item\u001b[1;34m()\u001b[0m\n",
      "\u001b[1;32mpandas\\_libs\\hashtable_class_helper.pxi\u001b[0m in \u001b[0;36mpandas._libs.hashtable.PyObjectHashTable.get_item\u001b[1;34m()\u001b[0m\n",
      "\u001b[1;31mKeyError\u001b[0m: 'comments'",
      "\nDuring handling of the above exception, another exception occurred:\n",
      "\u001b[1;31mKeyError\u001b[0m                                  Traceback (most recent call last)",
      "\u001b[1;32m<ipython-input-33-80eccc25aa3a>\u001b[0m in \u001b[0;36m<module>\u001b[1;34m\u001b[0m\n\u001b[0;32m      1\u001b[0m \u001b[1;31m# list jumlah views wilayah United States berdasarkan array a\u001b[0m\u001b[1;33m\u001b[0m\u001b[1;33m\u001b[0m\u001b[1;33m\u001b[0m\u001b[0m\n\u001b[1;32m----> 2\u001b[1;33m \u001b[0mdata_comments_us_boxplot\u001b[0m \u001b[1;33m=\u001b[0m \u001b[1;33m[\u001b[0m\u001b[0mgUSvideo\u001b[0m\u001b[1;33m.\u001b[0m\u001b[0mget_group\u001b[0m\u001b[1;33m(\u001b[0m\u001b[0mitems\u001b[0m\u001b[1;33m)\u001b[0m\u001b[1;33m[\u001b[0m\u001b[1;34m'comments'\u001b[0m\u001b[1;33m]\u001b[0m\u001b[1;33m.\u001b[0m\u001b[0mvalues\u001b[0m \u001b[1;32mfor\u001b[0m \u001b[0mitems\u001b[0m \u001b[1;32min\u001b[0m \u001b[0ma\u001b[0m\u001b[1;33m]\u001b[0m\u001b[1;33m\u001b[0m\u001b[1;33m\u001b[0m\u001b[0m\n\u001b[0m",
      "\u001b[1;32m<ipython-input-33-80eccc25aa3a>\u001b[0m in \u001b[0;36m<listcomp>\u001b[1;34m(.0)\u001b[0m\n\u001b[0;32m      1\u001b[0m \u001b[1;31m# list jumlah views wilayah United States berdasarkan array a\u001b[0m\u001b[1;33m\u001b[0m\u001b[1;33m\u001b[0m\u001b[1;33m\u001b[0m\u001b[0m\n\u001b[1;32m----> 2\u001b[1;33m \u001b[0mdata_comments_us_boxplot\u001b[0m \u001b[1;33m=\u001b[0m \u001b[1;33m[\u001b[0m\u001b[0mgUSvideo\u001b[0m\u001b[1;33m.\u001b[0m\u001b[0mget_group\u001b[0m\u001b[1;33m(\u001b[0m\u001b[0mitems\u001b[0m\u001b[1;33m)\u001b[0m\u001b[1;33m[\u001b[0m\u001b[1;34m'comments'\u001b[0m\u001b[1;33m]\u001b[0m\u001b[1;33m.\u001b[0m\u001b[0mvalues\u001b[0m \u001b[1;32mfor\u001b[0m \u001b[0mitems\u001b[0m \u001b[1;32min\u001b[0m \u001b[0ma\u001b[0m\u001b[1;33m]\u001b[0m\u001b[1;33m\u001b[0m\u001b[1;33m\u001b[0m\u001b[0m\n\u001b[0m",
      "\u001b[1;32m~\\Anaconda3\\lib\\site-packages\\pandas\\core\\frame.py\u001b[0m in \u001b[0;36m__getitem__\u001b[1;34m(self, key)\u001b[0m\n\u001b[0;32m   2978\u001b[0m             \u001b[1;32mif\u001b[0m \u001b[0mself\u001b[0m\u001b[1;33m.\u001b[0m\u001b[0mcolumns\u001b[0m\u001b[1;33m.\u001b[0m\u001b[0mnlevels\u001b[0m \u001b[1;33m>\u001b[0m \u001b[1;36m1\u001b[0m\u001b[1;33m:\u001b[0m\u001b[1;33m\u001b[0m\u001b[1;33m\u001b[0m\u001b[0m\n\u001b[0;32m   2979\u001b[0m                 \u001b[1;32mreturn\u001b[0m \u001b[0mself\u001b[0m\u001b[1;33m.\u001b[0m\u001b[0m_getitem_multilevel\u001b[0m\u001b[1;33m(\u001b[0m\u001b[0mkey\u001b[0m\u001b[1;33m)\u001b[0m\u001b[1;33m\u001b[0m\u001b[1;33m\u001b[0m\u001b[0m\n\u001b[1;32m-> 2980\u001b[1;33m             \u001b[0mindexer\u001b[0m \u001b[1;33m=\u001b[0m \u001b[0mself\u001b[0m\u001b[1;33m.\u001b[0m\u001b[0mcolumns\u001b[0m\u001b[1;33m.\u001b[0m\u001b[0mget_loc\u001b[0m\u001b[1;33m(\u001b[0m\u001b[0mkey\u001b[0m\u001b[1;33m)\u001b[0m\u001b[1;33m\u001b[0m\u001b[1;33m\u001b[0m\u001b[0m\n\u001b[0m\u001b[0;32m   2981\u001b[0m             \u001b[1;32mif\u001b[0m \u001b[0mis_integer\u001b[0m\u001b[1;33m(\u001b[0m\u001b[0mindexer\u001b[0m\u001b[1;33m)\u001b[0m\u001b[1;33m:\u001b[0m\u001b[1;33m\u001b[0m\u001b[1;33m\u001b[0m\u001b[0m\n\u001b[0;32m   2982\u001b[0m                 \u001b[0mindexer\u001b[0m \u001b[1;33m=\u001b[0m \u001b[1;33m[\u001b[0m\u001b[0mindexer\u001b[0m\u001b[1;33m]\u001b[0m\u001b[1;33m\u001b[0m\u001b[1;33m\u001b[0m\u001b[0m\n",
      "\u001b[1;32m~\\Anaconda3\\lib\\site-packages\\pandas\\core\\indexes\\base.py\u001b[0m in \u001b[0;36mget_loc\u001b[1;34m(self, key, method, tolerance)\u001b[0m\n\u001b[0;32m   2897\u001b[0m                 \u001b[1;32mreturn\u001b[0m \u001b[0mself\u001b[0m\u001b[1;33m.\u001b[0m\u001b[0m_engine\u001b[0m\u001b[1;33m.\u001b[0m\u001b[0mget_loc\u001b[0m\u001b[1;33m(\u001b[0m\u001b[0mkey\u001b[0m\u001b[1;33m)\u001b[0m\u001b[1;33m\u001b[0m\u001b[1;33m\u001b[0m\u001b[0m\n\u001b[0;32m   2898\u001b[0m             \u001b[1;32mexcept\u001b[0m \u001b[0mKeyError\u001b[0m\u001b[1;33m:\u001b[0m\u001b[1;33m\u001b[0m\u001b[1;33m\u001b[0m\u001b[0m\n\u001b[1;32m-> 2899\u001b[1;33m                 \u001b[1;32mreturn\u001b[0m \u001b[0mself\u001b[0m\u001b[1;33m.\u001b[0m\u001b[0m_engine\u001b[0m\u001b[1;33m.\u001b[0m\u001b[0mget_loc\u001b[0m\u001b[1;33m(\u001b[0m\u001b[0mself\u001b[0m\u001b[1;33m.\u001b[0m\u001b[0m_maybe_cast_indexer\u001b[0m\u001b[1;33m(\u001b[0m\u001b[0mkey\u001b[0m\u001b[1;33m)\u001b[0m\u001b[1;33m)\u001b[0m\u001b[1;33m\u001b[0m\u001b[1;33m\u001b[0m\u001b[0m\n\u001b[0m\u001b[0;32m   2900\u001b[0m         \u001b[0mindexer\u001b[0m \u001b[1;33m=\u001b[0m \u001b[0mself\u001b[0m\u001b[1;33m.\u001b[0m\u001b[0mget_indexer\u001b[0m\u001b[1;33m(\u001b[0m\u001b[1;33m[\u001b[0m\u001b[0mkey\u001b[0m\u001b[1;33m]\u001b[0m\u001b[1;33m,\u001b[0m \u001b[0mmethod\u001b[0m\u001b[1;33m=\u001b[0m\u001b[0mmethod\u001b[0m\u001b[1;33m,\u001b[0m \u001b[0mtolerance\u001b[0m\u001b[1;33m=\u001b[0m\u001b[0mtolerance\u001b[0m\u001b[1;33m)\u001b[0m\u001b[1;33m\u001b[0m\u001b[1;33m\u001b[0m\u001b[0m\n\u001b[0;32m   2901\u001b[0m         \u001b[1;32mif\u001b[0m \u001b[0mindexer\u001b[0m\u001b[1;33m.\u001b[0m\u001b[0mndim\u001b[0m \u001b[1;33m>\u001b[0m \u001b[1;36m1\u001b[0m \u001b[1;32mor\u001b[0m \u001b[0mindexer\u001b[0m\u001b[1;33m.\u001b[0m\u001b[0msize\u001b[0m \u001b[1;33m>\u001b[0m \u001b[1;36m1\u001b[0m\u001b[1;33m:\u001b[0m\u001b[1;33m\u001b[0m\u001b[1;33m\u001b[0m\u001b[0m\n",
      "\u001b[1;32mpandas\\_libs\\index.pyx\u001b[0m in \u001b[0;36mpandas._libs.index.IndexEngine.get_loc\u001b[1;34m()\u001b[0m\n",
      "\u001b[1;32mpandas\\_libs\\index.pyx\u001b[0m in \u001b[0;36mpandas._libs.index.IndexEngine.get_loc\u001b[1;34m()\u001b[0m\n",
      "\u001b[1;32mpandas\\_libs\\hashtable_class_helper.pxi\u001b[0m in \u001b[0;36mpandas._libs.hashtable.PyObjectHashTable.get_item\u001b[1;34m()\u001b[0m\n",
      "\u001b[1;32mpandas\\_libs\\hashtable_class_helper.pxi\u001b[0m in \u001b[0;36mpandas._libs.hashtable.PyObjectHashTable.get_item\u001b[1;34m()\u001b[0m\n",
      "\u001b[1;31mKeyError\u001b[0m: 'comments'"
     ]
    }
   ],
   "source": [
    "# list jumlah views wilayah United States berdasarkan array a\n",
    "data_comments_us_boxplot = [gUSvideo.get_group(items)['comments'].values for items in a]"
   ]
  },
  {
   "cell_type": "code",
   "execution_count": null,
   "metadata": {},
   "outputs": [],
   "source": [
    "fig = plt.figure(1, figsize=(15, 15))\n",
    "\n",
    "# membuat axes\n",
    "ax = fig.add_subplot(111)\n",
    "\n",
    "# boxplot\n",
    "ax.boxplot(data_comments_us_boxplot, showfliers=False)\n",
    "\n",
    "# penamaan x tick berdasarkan id kategori United States\n",
    "ax.set_xticklabels(dfUScategory['category'], rotation='vertical')\n",
    "\n",
    "# penamaan judul\n",
    "plt.title(\"ABSOLUTE VALUE COMMENTS WILAYAH UNITED STATES\", fontsize=14)\n",
    "\n",
    "# penamaan label\n",
    "plt.xlabel(\"ID Kategori\", fontsize=14)\n",
    "plt.ylabel(\"Jumlah Komentar\", fontsize=14)"
   ]
  },
  {
   "cell_type": "markdown",
   "metadata": {},
   "source": [
    "<b>------------------------------------------------------------------------------------------------------------------------------------------------------------------------------------------------------------------------------------------------------------------------------------------------------------------------------------------------------------------------------------------------------------------------------------</b>"
   ]
  },
  {
   "cell_type": "markdown",
   "metadata": {},
   "source": [
    "## C. BOXPLOTTING RELATIVE VALUE BERDASARKAN KATEGORI DATA VIDEO UNITED STATES\n",
    "Karena melakukan boxplotting terhadap absolute value untuk jumlah views, likes, dislikes, dan comments tidak dapat dilihat dengan baik karena data terlalu diverse. Maka diputuskan untuk melakukan boxplotting likes, dislikes, dan comments terhadap views untuk setiap video kemudian dikalikan 100 agar range value terjaga mulai dari 0 hingga 100.\n",
    "\n",
    "\n",
    "<b>Operasinya adalah sebagai sebagai berikut :<br/>\n",
    "- Jumlah Likes / Jumlah Views * 100<br/>\n",
    "- Jumlah Dislikes / Jumlah Views * 100<br/>\n",
    "- Jumlah Comments / Jumlah Views * 100<br/></b>"
   ]
  },
  {
   "cell_type": "markdown",
   "metadata": {},
   "source": [
    "Untuk itu maka dataframe video perlu dimodifikasi dengan menghapus kolom yang tidak diperlukan dan menambahkan kolom baru dari setiap operasi yang dilakukan"
   ]
  },
  {
   "cell_type": "code",
   "execution_count": null,
   "metadata": {},
   "outputs": [],
   "source": [
    "# drop kolom yang tidak perlu\n",
    "dfUS = dfUSvideos.drop([\n",
    "    'trending_date','channel_title','publish_time','tags','thumbnail_link','comments_disabled','ratings_disabled',\n",
    "  'video_error_or_removed','description'], axis=1)"
   ]
  },
  {
   "cell_type": "code",
   "execution_count": null,
   "metadata": {},
   "outputs": [],
   "source": [
    "# Menambah kolom likes/views\n",
    "dfUS['likes/views(%)'] = dfUS['likes']/dfUS['views']*100"
   ]
  },
  {
   "cell_type": "code",
   "execution_count": null,
   "metadata": {},
   "outputs": [],
   "source": [
    "# Menambah kolom dislikes/views\n",
    "dfUS['dislikes/views(%)'] = dfUS['dislikes']/dfUS['views']*100"
   ]
  },
  {
   "cell_type": "code",
   "execution_count": null,
   "metadata": {},
   "outputs": [],
   "source": [
    "# Menambah kolom comments/views\n",
    "dfUS['comments/views(%)'] = dfUS['comment_count']/dfUS['views']*100"
   ]
  },
  {
   "cell_type": "markdown",
   "metadata": {},
   "source": [
    "Berikut adalah data video United States setelah dimodifikasi. Dataframe ditambah kolom sebagai berikut :\n",
    "<b>\n",
    "- likes/views\n",
    "- dislikes/views\n",
    "- comments/views\n",
    "</b>\n",
    "semua dalam persen (%)"
   ]
  },
  {
   "cell_type": "code",
   "execution_count": null,
   "metadata": {},
   "outputs": [],
   "source": [
    "dfUS.head()"
   ]
  },
  {
   "cell_type": "markdown",
   "metadata": {},
   "source": [
    "Karena data video telah dimodifikasi, maka pengelompokan ulang berdasarkan id kategori perlu dilakukan kembali"
   ]
  },
  {
   "cell_type": "code",
   "execution_count": null,
   "metadata": {},
   "outputs": [],
   "source": [
    "gUSvideo = dfUS.groupby('category_id')"
   ]
  },
  {
   "cell_type": "code",
   "execution_count": null,
   "metadata": {},
   "outputs": [],
   "source": [
    "data_relative_views_us = {\n",
    "    \n",
    "    # a adalah hasil sorting array saat menemukan value yang unique dari id kategori data video region United States\n",
    "    'id' : a,\n",
    "    'category' : [i for i in dfUScategory['category']],\n",
    "    'likes/views(%)': [gUSvideo.get_group(items)['likes/views(%)'].values for items in dfUScategory['id']],\n",
    "    'dislikes/views(%)': [gUSvideo.get_group(items)['dislikes/views(%)'].values for items in dfUScategory['id']],\n",
    "    'comments/views(%)': [gUSvideo.get_group(items)['comments/views(%)'].values for items in dfUScategory['id']]\n",
    "}\n",
    "\n",
    "dfRelativeViewsUS = pd.DataFrame(data_relative_views_us)\n",
    "dfRelativeViewsUS"
   ]
  },
  {
   "cell_type": "markdown",
   "metadata": {},
   "source": [
    "### 1C. Boxplotting Relative Value Likes/Views Data Video United States"
   ]
  },
  {
   "cell_type": "markdown",
   "metadata": {},
   "source": [
    "#### Berikut adalah hasil boxplot jumlah likes terhadap jumlah views di United States"
   ]
  },
  {
   "cell_type": "code",
   "execution_count": null,
   "metadata": {},
   "outputs": [],
   "source": [
    "fig = plt.figure(1, figsize=(15, 15))\n",
    "\n",
    "# membuat axes\n",
    "ax = fig.add_subplot(111)\n",
    "\n",
    "# boxplot\n",
    "ax.boxplot(dfRelativeViewsUS['likes/views(%)'].values, showfliers=False)\n",
    "\n",
    "# penamaan x tick\n",
    "ax.set_xticklabels(dfRelativeViewsUS['category'], rotation='vertical')\n",
    "\n",
    "# penamaan judul\n",
    "plt.title(\"RELATIVE VALUE LIKES/VIEWS WILAYAH UNITED STATES\", fontsize=14)\n",
    "\n",
    "# penamaan label\n",
    "plt.xlabel(\"KATEGORI\", fontsize=14)\n",
    "plt.ylabel(\"LIKES/VIEWS\", fontsize=14)"
   ]
  },
  {
   "cell_type": "markdown",
   "metadata": {},
   "source": [
    "### 2C. Boxplotting Relative Value Dislikes/Views Data Video United States"
   ]
  },
  {
   "cell_type": "markdown",
   "metadata": {},
   "source": [
    "#### Berikut adalah hasil boxplot jumlah dislikes terhadap jumlah views di United States"
   ]
  },
  {
   "cell_type": "code",
   "execution_count": null,
   "metadata": {},
   "outputs": [],
   "source": [
    "fig = plt.figure(1, figsize=(15, 15))\n",
    "\n",
    "# membuat axes\n",
    "ax = fig.add_subplot(111)\n",
    "\n",
    "# boxplot\n",
    "ax.boxplot(dfRelativeViewsUS['dislikes/views(%)'].values, showfliers=False)\n",
    "\n",
    "# penamaan x tick\n",
    "ax.set_xticklabels(dfRelativeViewsUS['category'], rotation='vertical')\n",
    "\n",
    "# penamaan judul\n",
    "plt.title(\"RELATIVE VALUE DISLIKES/VIEWS WILAYAH UNITED STATES\", fontsize=14)\n",
    "\n",
    "# penamaan label\n",
    "plt.xlabel(\"KATEGORI\", fontsize=14)\n",
    "plt.ylabel(\"DISLIKES/VIEWS\", fontsize=14)"
   ]
  },
  {
   "cell_type": "code",
   "execution_count": null,
   "metadata": {},
   "outputs": [],
   "source": [
    "fig = plt.figure(1, figsize=(15, 15))\n",
    "\n",
    "# membuat axes\n",
    "ax = fig.add_subplot(111)\n",
    "\n",
    "# boxplot\n",
    "ax.boxplot(dfRelativeViewsUS['comments/views(%)'].values, showfliers=False)\n",
    "\n",
    "# penamaan x tick\n",
    "ax.set_xticklabels(dfRelativeViewsUS['category'], rotation='vertical')\n",
    "\n",
    "# penamaan judul\n",
    "plt.title(\"RELATIVE VALUE COMMENTS/VIEWS WILAYAH UNITED STATES\", fontsize=14)\n",
    "\n",
    "# penamaan label\n",
    "plt.xlabel(\"KATEGORI\", fontsize=14)\n",
    "plt.ylabel(\"COMMENTS/VIEWS\", fontsize=14)"
   ]
  },
  {
   "cell_type": "markdown",
   "metadata": {},
   "source": [
    "<b>------------------------------------------------------------------------------------------------------------------------------------------------------------------------------------------------------------------------------------------------------------------------------------------------------------------------------------------------------------------------------------------------------------------------------------------------------------------------------------------------------------------------------------------------------------------------------------------------------------------------------------------------------------------------------------------------------------------------------------------------------------------------------------------------------------------------------------------------------------------------------------------------------------------------------------------------------------------------------------------------------------------------------------------------------------------------------------------------------------------------------------------------------------------------------------------------------------------------------------------------------------------------------------------------------------</b></b>"
   ]
  },
  {
   "cell_type": "markdown",
   "metadata": {},
   "source": [
    "## MENCARI PENYEBAB FIRST TRENDING DI UNITED STATES"
   ]
  },
  {
   "cell_type": "markdown",
   "metadata": {},
   "source": [
    "Di sini masing-masing datasets dari setiap region ditransform ulang dengan hanya mencantumkan data video pada saat pertama kali video tersebut mengalami trend"
   ]
  },
  {
   "cell_type": "markdown",
   "metadata": {},
   "source": [
    "Dataframe baru dibuat dari masing-masing datasets dengan <b>grouping by video_id</b> lalu digunakan <b>loc</b> untuk melokasikan data berdasarkan index, lalu yang dicari adalah trending_date pertama kali, <b>maka dicari index terkecil dari masing-masing video_id berdasarkan trending_datenya dengan menggunakan idxmin()</b>"
   ]
  },
  {
   "cell_type": "code",
   "execution_count": null,
   "metadata": {},
   "outputs": [],
   "source": [
    "dfUSvideosFirstTrend = dfUSvideos.loc[dfUSvideos.groupby('video_id')['trending_date'].idxmin()][['video_id','trending_date','title','channel_title','category_id','publish_time','tags','views','likes','dislikes','comment_count']]"
   ]
  },
  {
   "cell_type": "markdown",
   "metadata": {},
   "source": [
    "### Sorting"
   ]
  },
  {
   "cell_type": "markdown",
   "metadata": {},
   "source": [
    "Dilakukan reindex untuk masing-masing dataframe berdasarkan video_id dan trending_date nya"
   ]
  },
  {
   "cell_type": "code",
   "execution_count": null,
   "metadata": {},
   "outputs": [],
   "source": [
    "dfUSvideosFirstTrend = dfUSvideosFirstTrend.sort_values(by=['video_id','trending_date']).reset_index(drop=True)"
   ]
  },
  {
   "cell_type": "markdown",
   "metadata": {},
   "source": [
    "#### DATA VIDEO FIRST TREND UNITED STATES"
   ]
  },
  {
   "cell_type": "markdown",
   "metadata": {},
   "source": [
    "Berikut adalah contoh dataframe video United States setelah dimodifikasi dengan hanya menampilkan data-data video saat pertama kali masuk trending"
   ]
  },
  {
   "cell_type": "code",
   "execution_count": null,
   "metadata": {},
   "outputs": [],
   "source": [
    "dfUSvideosFirstTrend.head()"
   ]
  },
  {
   "cell_type": "markdown",
   "metadata": {},
   "source": [
    "### Boxplotting Viewer Data Video First Trend United States"
   ]
  },
  {
   "cell_type": "code",
   "execution_count": null,
   "metadata": {},
   "outputs": [],
   "source": [
    "fig = plt.figure(1, figsize=(5, 5))\n",
    "\n",
    "# membuat axes\n",
    "ax = fig.add_subplot(111)\n",
    "\n",
    "# boxplot\n",
    "ax.boxplot(dfUSvideosFirstTrend['views'].values)\n",
    "\n",
    "# ax.set_ylim(0,1000)\n",
    "ax.set_xticklabels(\"\")\n",
    "\n",
    "# penamaan judul\n",
    "plt.title(\"BOXPLOT VIEWERS REGION UNITED STATES\", fontsize=14)\n",
    "\n",
    "plt.ylabel(\"Jumlah Views\", fontsize=14)"
   ]
  },
  {
   "cell_type": "markdown",
   "metadata": {},
   "source": [
    "## Testing Z-Score Viewer Data Video First Trend United States"
   ]
  },
  {
   "cell_type": "code",
   "execution_count": null,
   "metadata": {
    "scrolled": true
   },
   "outputs": [],
   "source": [
    "# Membuat Kolom Z-Score Untuk Viewer\n",
    "dfUSvideosFirstTrend['views_zscore'] = (dfUSvideosFirstTrend.views - dfUSvideosFirstTrend.views.mean())/dfUSvideosFirstTrend.views.std(ddof=0)\n",
    "\n",
    "# Membuat Dataframe Baru yang telah difilter tanpa outlier\n",
    "dfUSvideosFirstTrend_zView = dfUSvideosFirstTrend[dfUSvideosFirstTrend.views_zscore < 3]\n",
    "\n",
    "dfUSvideosFirstTrend_zView"
   ]
  },
  {
   "cell_type": "code",
   "execution_count": null,
   "metadata": {},
   "outputs": [],
   "source": [
    "fig = plt.figure(1, figsize=(5, 5))\n",
    "\n",
    "# membuat axes\n",
    "ax = fig.add_subplot(111)\n",
    "\n",
    "# boxplot\n",
    "ax.boxplot(dfUSvideosFirstTrend_zView['views'].values)\n",
    "\n",
    "# ax.set_ylim(0,1000)\n",
    "ax.set_xticklabels(\"\")\n",
    "\n",
    "# penamaan judul\n",
    "plt.title(\"BOXPLOT VIEWERS REGION UNITED STATES SETELAH OUTLIER REMOVAL DENGAN Z-SCORE\", fontsize=14)\n",
    "\n",
    "plt.ylabel(\"Jumlah Views\", fontsize=14)"
   ]
  },
  {
   "cell_type": "markdown",
   "metadata": {},
   "source": [
    "## Testing IQR Viewer Data Video First Trend United States\n",
    "Step untuk mendeteksi outlier salah satunya adalah dengan menemukan range bawah dan atas dari suatu data dengan cara berikut :\n",
    "1. Mengurutkan data dari nilai terendah\n",
    "2. Menghitung Q1 (kuartil 1)\n",
    "3. Menghitung Q3 (kuartil 3)\n",
    "4. Menghitung IQR = (Q3 - Q1)\n",
    "5. Menemukan range bawah data = Q1 -(1.5 * IQR)\n",
    "6. Menemukan range atas data = Q3 + (1.5 * IQR)"
   ]
  },
  {
   "cell_type": "markdown",
   "metadata": {},
   "source": [
    "1. Mengurutkan data dari yang terendah"
   ]
  },
  {
   "cell_type": "code",
   "execution_count": null,
   "metadata": {},
   "outputs": [],
   "source": [
    "dfUSvideosFirstTrendSortViews = dfUSvideosFirstTrend.sort_values(by=['views'])"
   ]
  },
  {
   "cell_type": "markdown",
   "metadata": {},
   "source": [
    "2. Menghitung Q1 (kuartil 1)"
   ]
  },
  {
   "cell_type": "code",
   "execution_count": null,
   "metadata": {},
   "outputs": [],
   "source": [
    "Q1_USFirstTrendView = dfUSvideosFirstTrendSortViews.views.quantile(0.25)"
   ]
  },
  {
   "cell_type": "markdown",
   "metadata": {},
   "source": [
    "3. Menghitung Q3 (kuartil 3)"
   ]
  },
  {
   "cell_type": "code",
   "execution_count": null,
   "metadata": {},
   "outputs": [],
   "source": [
    "Q3_USFirstTrendView = dfUSvideosFirstTrendSortViews.views.quantile(0.75)"
   ]
  },
  {
   "cell_type": "markdown",
   "metadata": {},
   "source": [
    "4. Menghitung IQR = (Q3 - Q1)"
   ]
  },
  {
   "cell_type": "code",
   "execution_count": null,
   "metadata": {},
   "outputs": [],
   "source": [
    "IQR_USFirstTrendView = Q3_USFirstTrendView - Q1_USFirstTrendView"
   ]
  },
  {
   "cell_type": "markdown",
   "metadata": {},
   "source": [
    "5. Menemukan range bawah data = Q1 -(1.5 * IQR)"
   ]
  },
  {
   "cell_type": "code",
   "execution_count": null,
   "metadata": {},
   "outputs": [],
   "source": [
    "lower_USFirstTrendView = Q1_USFirstTrendView - (1.5 * IQR_USFirstTrendView)"
   ]
  },
  {
   "cell_type": "markdown",
   "metadata": {},
   "source": [
    "6. Menemukan range atas data = Q3 + (1.5 * IQR)"
   ]
  },
  {
   "cell_type": "code",
   "execution_count": null,
   "metadata": {},
   "outputs": [],
   "source": [
    "upper_USFirstTrendView =  Q3_USFirstTrendView + (1.5 * IQR_USFirstTrendView)"
   ]
  },
  {
   "cell_type": "markdown",
   "metadata": {},
   "source": [
    "<b>Berikut adalah hasil perhitungan yang telah dilakukan di atas</b>"
   ]
  },
  {
   "cell_type": "code",
   "execution_count": null,
   "metadata": {},
   "outputs": [],
   "source": [
    "print(\"IQR United States\")\n",
    "print(\"IQR =\", IQR_USFirstTrendView)\n",
    "print(\"Lower =\", lower_USFirstTrendView)\n",
    "print(\"Upper =\", upper_USFirstTrendView)"
   ]
  },
  {
   "cell_type": "code",
   "execution_count": null,
   "metadata": {},
   "outputs": [],
   "source": [
    "dfUSvideosFirstTrend_IQRView = dfUSvideosFirstTrendSortViews[(dfUSvideosFirstTrendSortViews.views < upper_USFirstTrendView) & (dfUSvideosFirstTrendSortViews.views > lower_USFirstTrendView)]"
   ]
  },
  {
   "cell_type": "code",
   "execution_count": null,
   "metadata": {},
   "outputs": [],
   "source": [
    "fig = plt.figure(1, figsize=(5, 5))\n",
    "\n",
    "# membuat axes\n",
    "ax = fig.add_subplot(111)\n",
    "\n",
    "# boxplot\n",
    "ax.boxplot(dfUSvideosFirstTrend_IQRView['views'].values)\n",
    "\n",
    "# ax.set_ylim(0,1000)\n",
    "ax.set_xticklabels(\"\")\n",
    "\n",
    "# penamaan judul\n",
    "plt.title(\"BOXPLOT VIEWERS REGION UNITED STATES SETELAH OUTLIER REMOVAL DENGAN IQR\", fontsize=14)\n",
    "\n",
    "plt.ylabel(\"Jumlah Views\", fontsize=14)"
   ]
  },
  {
   "cell_type": "markdown",
   "metadata": {},
   "source": [
    "Di sini coba dilakukan boxplotting tanpa menampilkan outlier"
   ]
  },
  {
   "cell_type": "code",
   "execution_count": null,
   "metadata": {},
   "outputs": [],
   "source": [
    "fig = plt.figure(1, figsize=(5, 5))\n",
    "\n",
    "# membuat axes\n",
    "ax = fig.add_subplot(111)\n",
    "\n",
    "# boxplot\n",
    "ax.boxplot(dfUSvideosFirstTrend_IQRView['views'].values, showfliers=False)\n",
    "\n",
    "# ax.set_ylim(0,1000)\n",
    "ax.set_xticklabels(\"\")\n",
    "\n",
    "# penamaan judul\n",
    "plt.title(\"BOXPLOT VIEWERS REGION UNITED STATES SETELAH OUTLIER REMOVAL DENGAN IQR\", fontsize=14)\n",
    "\n",
    "plt.ylabel(\"Jumlah Views\", fontsize=14)"
   ]
  },
  {
   "cell_type": "code",
   "execution_count": null,
   "metadata": {},
   "outputs": [],
   "source": [
    "fig = plt.figure(1, figsize=(5, 5))\n",
    "\n",
    "# membuat axes\n",
    "ax = fig.add_subplot(111)\n",
    "\n",
    "# boxplot\n",
    "ax.boxplot(dfUSvideosFirstTrend['views'].values, showfliers=False)\n",
    "\n",
    "# ax.set_ylim(0,1000)\n",
    "ax.set_xticklabels(\"\")\n",
    "\n",
    "# penamaan judul\n",
    "plt.title(\"BOXPLOT VIEWERS REGION UNITED STATES TANPA REMOVAL DENGAN IQR\", fontsize=14)\n",
    "\n",
    "plt.ylabel(\"Jumlah Views\", fontsize=14)"
   ]
  },
  {
   "cell_type": "markdown",
   "metadata": {},
   "source": [
    "## STATISTIK DARI SETIAP KATEGORI YANG TERDAPAT DI DATAFRAME FIRST TREND VIDEO UNITED STATES"
   ]
  },
  {
   "cell_type": "code",
   "execution_count": null,
   "metadata": {},
   "outputs": [],
   "source": [
    "# mengelompokan ulang dataframe videosFirstTrend berdasarkan id kategori\n",
    "gUSVideoFtrend = dfUSvideosFirstTrend.groupby('category_id')"
   ]
  },
  {
   "cell_type": "markdown",
   "metadata": {},
   "source": [
    "Membuat dataframe baru yang memiliki kolom id, category yang diambil dari dfUScategory, dan views yang diambil dari hasil pengelompokkan berdasarkan category_id"
   ]
  },
  {
   "cell_type": "code",
   "execution_count": null,
   "metadata": {},
   "outputs": [],
   "source": [
    "data_ftrend_views_us = {\n",
    "    \n",
    "    # a adalah hasil sorting array saat menemukan value yang unique dari id kategori data video region United States\n",
    "    'id' : a,\n",
    "    'category' : [i for i in dfUScategory['category']],\n",
    "    'views': [gUSVideoFtrend.get_group(items)['views'].values for items in dfUScategory['id']]\n",
    "}\n",
    "\n",
    "dfFtrendViewsUS = pd.DataFrame(data_ftrend_views_us)\n",
    "dfFtrendViewsUS"
   ]
  },
  {
   "cell_type": "code",
   "execution_count": null,
   "metadata": {},
   "outputs": [],
   "source": [
    "fig = plt.figure(1, figsize=(15, 15))\n",
    "\n",
    "# membuat axes\n",
    "ax = fig.add_subplot(111)\n",
    "\n",
    "# boxplot\n",
    "ax.boxplot(dfFtrendViewsUS['views'].values, showfliers = False)\n",
    "\n",
    "# penamaan x tick\n",
    "ax.set_xticklabels(dfFtrendViewsUS['category'], rotation='vertical')\n",
    "\n",
    "# penamaan judul\n",
    "plt.title(\"DATA JUMLAH VIEW BERDASARKAN KATEGORI DATA VIDEO FIRST TREND UNITED STATES\", fontsize=14)\n",
    "\n",
    "# penamaan label\n",
    "plt.xlabel(\"KATEGORI\", fontsize=14)\n",
    "plt.ylabel(\"VIEWS\", fontsize=14)"
   ]
  },
  {
   "cell_type": "markdown",
   "metadata": {},
   "source": [
    "##  D. BOXPLOTTING RELATIVE VALUE DATA VIDEO FIRST TREND UNITED STATES\n",
    "Karena melakukan boxplotting terhadap absolute value untuk jumlah views, likes, dislikes, dan comments tidak dapat dilihat dengan baik karena data terlalu diverse. Maka diputuskan untuk melakukan boxplotting likes, dislikes, dan comments terhadap views untuk setiap video kemudian dikalikan 100 agar range value terjaga mulai dari 0 hingga 100."
   ]
  },
  {
   "cell_type": "code",
   "execution_count": null,
   "metadata": {},
   "outputs": [],
   "source": [
    "# Menambah kolom likes/views\n",
    "dfUSvideosFirstTrend['likes/views(%)'] = dfUSvideosFirstTrend['likes']/dfUSvideosFirstTrend['views']*100"
   ]
  },
  {
   "cell_type": "code",
   "execution_count": null,
   "metadata": {},
   "outputs": [],
   "source": [
    "# Menambah kolom dislikes/views\n",
    "dfUSvideosFirstTrend['dislikes/views(%)'] = dfUSvideosFirstTrend['dislikes']/dfUSvideosFirstTrend['views']*100"
   ]
  },
  {
   "cell_type": "code",
   "execution_count": null,
   "metadata": {},
   "outputs": [],
   "source": [
    "# Menambah kolom comments/views\n",
    "dfUSvideosFirstTrend['comments/views(%)'] = dfUSvideosFirstTrend['comment_count']/dfUSvideosFirstTrend['views']*100"
   ]
  },
  {
   "cell_type": "markdown",
   "metadata": {},
   "source": [
    "### 1D. Plotting Likes/Views % First Trend United States"
   ]
  },
  {
   "cell_type": "code",
   "execution_count": null,
   "metadata": {},
   "outputs": [],
   "source": [
    "fig = plt.figure(1, figsize=(5, 5))\n",
    "\n",
    "# membuat axes\n",
    "ax = fig.add_subplot(111)\n",
    "\n",
    "# boxplot\n",
    "ax.boxplot(dfUSvideosFirstTrend['likes/views(%)'].values, showfliers = False)\n",
    "\n",
    "# ax.set_ylim(0,1000)\n",
    "ax.set_xticklabels(\"\")\n",
    "\n",
    "# penamaan judul\n",
    "plt.title(\"BOXPLOT LIKES TERHADAP VIEWS REGION UNITED STATES\", fontsize=14)\n",
    "\n",
    "plt.ylabel(\"LIKES TERHADAP VIEWS\", fontsize=14)"
   ]
  },
  {
   "cell_type": "markdown",
   "metadata": {},
   "source": [
    "### 2D. Plotting Disikes/Views % First Trend United States"
   ]
  },
  {
   "cell_type": "code",
   "execution_count": null,
   "metadata": {},
   "outputs": [],
   "source": [
    "fig = plt.figure(1, figsize=(5, 5))\n",
    "\n",
    "# membuat axes\n",
    "ax = fig.add_subplot(111)\n",
    "\n",
    "# boxplot\n",
    "ax.boxplot(dfUSvideosFirstTrend['dislikes/views(%)'].values, showfliers = False)\n",
    "\n",
    "#ax.set_ylim(0,100)\n",
    "ax.set_xticklabels(\"\")\n",
    "\n",
    "# penamaan judul\n",
    "plt.title(\"BOXPLOT DISLIKES TERHADAP VIEWS REGION UNITED STATES\", fontsize=14)\n",
    "\n",
    "plt.ylabel(\"DISLIKES TERHADAP VIEWS\", fontsize=14)"
   ]
  },
  {
   "cell_type": "markdown",
   "metadata": {},
   "source": [
    "### 3D. Plotting Comments/Views % First Trend"
   ]
  },
  {
   "cell_type": "code",
   "execution_count": null,
   "metadata": {},
   "outputs": [],
   "source": [
    "fig = plt.figure(1, figsize=(5, 5))\n",
    "\n",
    "# membuat axes\n",
    "ax = fig.add_subplot(111)\n",
    "\n",
    "# boxplot\n",
    "ax.boxplot(dfUSvideosFirstTrend['comments/views(%)'].values, showfliers = False)\n",
    "\n",
    "#ax.set_ylim(0,100)\n",
    "ax.set_xticklabels(\"\")\n",
    "\n",
    "# penamaan judul\n",
    "plt.title(\"BOXPLOT COMMENTS TERHADAP VIEWS REGION UNITED STATES\", fontsize=14)\n",
    "\n",
    "plt.ylabel(\"COMMENTS TERHADAP VIEWS\", fontsize=14)"
   ]
  },
  {
   "cell_type": "markdown",
   "metadata": {},
   "source": [
    "## Testing Z-Score DF ZView"
   ]
  },
  {
   "cell_type": "code",
   "execution_count": null,
   "metadata": {},
   "outputs": [],
   "source": [
    "# Menambah kolom likes/views\n",
    "dfUSvideosFirstTrend_zView['likes/views(%)'] = dfUSvideosFirstTrend_zView['likes']/dfUSvideosFirstTrend_zView['views']*100\n",
    "\n",
    "dfUSvideosFirstTrend_zView"
   ]
  },
  {
   "cell_type": "code",
   "execution_count": null,
   "metadata": {},
   "outputs": [],
   "source": [
    "fig = plt.figure(1, figsize=(5, 5))\n",
    "\n",
    "# membuat axes\n",
    "ax = fig.add_subplot(111)\n",
    "\n",
    "# boxplot\n",
    "ax.boxplot(dfUSvideosFirstTrend_zView['likes/views(%)'].values)\n",
    "\n",
    "# ax.set_ylim(0,1000)\n",
    "ax.set_xticklabels(\"\")\n",
    "\n",
    "# penamaan judul\n",
    "plt.title(\"BOXPLOT LIKES TERHADAP VIEWS REGION UNITED STATES\", fontsize=14)\n",
    "\n",
    "plt.ylabel(\"LIKES TERHADAP VIEWS\", fontsize=14)"
   ]
  },
  {
   "cell_type": "code",
   "execution_count": null,
   "metadata": {},
   "outputs": [],
   "source": [
    "#Z-Score Likes/Views\n",
    "dfUSvideosFirstTrend['likes/views_zscore'] = (dfUSvideosFirstTrend['likes/views(%)'] - dfUSvideosFirstTrend['likes/views(%)'].mean())/dfUSvideosFirstTrend['likes/views(%)'].std(ddof=0)\n",
    "\n",
    "dfUSvideosFirstTrend_zLikesViews = dfUSvideosFirstTrend[dfUSvideosFirstTrend['likes/views_zscore'] < 3]\n",
    "\n",
    "dfUSvideosFirstTrend_zLikesViews"
   ]
  },
  {
   "cell_type": "code",
   "execution_count": null,
   "metadata": {},
   "outputs": [],
   "source": [
    "fig = plt.figure(1, figsize=(5, 5))\n",
    "\n",
    "# membuat axes\n",
    "ax = fig.add_subplot(111)\n",
    "\n",
    "# boxplot\n",
    "ax.boxplot(dfUSvideosFirstTrend_zLikesViews['likes/views(%)'].values)\n",
    "\n",
    "# ax.set_ylim(0,1000)\n",
    "ax.set_xticklabels(\"\")\n",
    "\n",
    "# penamaan judul\n",
    "plt.title(\"BOXPLOT LIKES TERHADAP VIEWS REGION UNITED STATES\", fontsize=14)\n",
    "\n",
    "plt.ylabel(\"LIKES TERHADAP VIEWS\", fontsize=14)"
   ]
  },
  {
   "cell_type": "markdown",
   "metadata": {},
   "source": [
    "<b>------------------------------------------------------------------------------------------------------------------------------------------------------------------------------------------------------------------------------------------------------------------------------------------------------------------------------------------------------------------------------------------------------------------------------------------------------------------------------------------------------------------------------------------------------------------------------------------------------------------------------------------------------------------------------------------------------------------------------------------------------------------------------------------------------------------------------------------------------------------------</b>"
   ]
  },
  {
   "cell_type": "markdown",
   "metadata": {},
   "source": [
    "## MENCARI MACAM-MACAM TOP 5"
   ]
  },
  {
   "cell_type": "markdown",
   "metadata": {},
   "source": [
    "## TOP 5 KATEGORI VIDEO TERBANYAK YANG DIUPLOAD DI UNITED STATES"
   ]
  },
  {
   "cell_type": "markdown",
   "metadata": {},
   "source": [
    "Untuk mencari top 5 kategori video terbanyak dan terendah yang diupload berdasarkan masing-masing wilayah, maka dataframe baru yang menampilkan berapa banyak video yang diupload berdasarkan kategori perlu untuk dibuat."
   ]
  },
  {
   "cell_type": "code",
   "execution_count": null,
   "metadata": {},
   "outputs": [],
   "source": [
    "data_upload_category_us = {\n",
    "    \n",
    "    # a adalah hasil sorting array saat menemukan value yang unique dari id kategori data video region United States\n",
    "    'id' : a,\n",
    "    'category' : [i for i in dfUScategory['category']],\n",
    "    'upload_count': [gUSvideo.get_group(items)['category_id'].count() for items in dfUScategory['id']]\n",
    "}\n",
    "\n",
    "dfCatUploadUS = pd.DataFrame(data_upload_category_us)\n",
    "\n",
    "print(\"DATA UPLOAD BERDASARKAN KATEGORI UNITED STATES\")\n",
    "dfCatUploadUS"
   ]
  },
  {
   "cell_type": "markdown",
   "metadata": {},
   "source": [
    "### 1. Top 5 Kategori Dengan Upload Tertinggi Wilayah United States"
   ]
  },
  {
   "cell_type": "code",
   "execution_count": null,
   "metadata": {},
   "outputs": [],
   "source": [
    "#sorting tertinggi\n",
    "top5US_upload_high = dfCatUploadUS.nlargest(5, \"upload_count\")\n",
    "\n",
    "#reindex dari 1\n",
    "top5US_upload_high.index = np.arange(1, len(top5US_upload_high) + 1)\n",
    "\n",
    "\n",
    "print(\"TOP 5 KATEGORI DENGAN UPLOAD TERBANYAK DI UNITED STATES\")\n",
    "top5US_upload_high"
   ]
  },
  {
   "cell_type": "markdown",
   "metadata": {},
   "source": [
    "### 2. Top 5 Kategori Dengan Upload Terendah Wilayah United States"
   ]
  },
  {
   "cell_type": "code",
   "execution_count": null,
   "metadata": {},
   "outputs": [],
   "source": [
    "#sorting terendah\n",
    "top5US_upload_low = dfCatUploadUS.sort_values('upload_count').head(5)\n",
    "\n",
    "#reindex dari 1\n",
    "top5US_upload_low.index = np.arange(1, len(top5US_upload_high) + 1)\n",
    "\n",
    "print(\"TOP 5 KATEGORI DENGAN UPLOAD TERENDAH DI UNITED STATES\")\n",
    "top5US_upload_low"
   ]
  },
  {
   "cell_type": "markdown",
   "metadata": {},
   "source": [
    "<b>------------------------------------------------------------------------------------------------------------------------------------------------------------------------------------------------------------------------------------------------------------------------------------------------------------------------------------------------------------------------------------------------------------------------------------</b>"
   ]
  },
  {
   "cell_type": "markdown",
   "metadata": {},
   "source": [
    "## TOP 5 KATEGORI BERDASARKAN AVERAGE VIEW DI UNITED STATES"
   ]
  },
  {
   "cell_type": "markdown",
   "metadata": {},
   "source": [
    "Untuk mencari top 5 kategori video tertinggi dan terendah berdasarkan average view untuk tiap wilayah wilayah, maka dataframe baru yang menampilkan berapa average view berdasarkan kategori perlu untuk dibuat."
   ]
  },
  {
   "cell_type": "code",
   "execution_count": null,
   "metadata": {},
   "outputs": [],
   "source": [
    "data_avgview_category_us = {\n",
    "    \n",
    "    # a adalah hasil sorting array saat menemukan value yang unique dari id kategori data video region United States\n",
    "    'id' : a,\n",
    "    'category' : [i for i in dfUScategory['category']],\n",
    "    'average_views': [gUSvideo.get_group(items)['views'].mean() for items in dfUScategory['id']]\n",
    "}\n",
    "\n",
    "dfCatAvgViewUS = pd.DataFrame(data_avgview_category_us)"
   ]
  },
  {
   "cell_type": "markdown",
   "metadata": {},
   "source": [
    "### 1. Top 5 Kategori Dengan Average Views Tertinggi di United States"
   ]
  },
  {
   "cell_type": "code",
   "execution_count": null,
   "metadata": {},
   "outputs": [],
   "source": [
    "#sorting tertinggi\n",
    "top5US_avgview_high = dfCatAvgViewUS.nlargest(5, \"average_views\")\n",
    "\n",
    "#reindex dari 1\n",
    "top5US_avgview_high.index = np.arange(1, len(top5US_avgview_high) + 1)\n",
    "\n",
    "print(\"TOP 5 KATEGORI DENGAN AVERAGE VIEWS TERTINGGI DI UNITED STATES\")\n",
    "top5US_avgview_high"
   ]
  },
  {
   "cell_type": "markdown",
   "metadata": {},
   "source": [
    "### 2. Top 5 Kategori Dengan Average Views Terendah di United States"
   ]
  },
  {
   "cell_type": "code",
   "execution_count": null,
   "metadata": {},
   "outputs": [],
   "source": [
    "#sorting terendah\n",
    "top5US_avgview_low = dfCatAvgViewUS.sort_values('average_views').head(5)\n",
    "\n",
    "#reindex dari 1\n",
    "top5US_avgview_low.index = np.arange(1, len(top5US_avgview_low) + 1)\n",
    "\n",
    "print(\"TOP 5 KATEGORI DENGAN AVERAGE VIEWS TERENDAH DI UNITED STATES\")\n",
    "top5US_avgview_low"
   ]
  },
  {
   "cell_type": "markdown",
   "metadata": {},
   "source": [
    "<b>------------------------------------------------------------------------------------------------------------------------------------------------------------------------------------------------------------------------------------------------------------------------------------------------------------------------------------------------------------------------------------------------------------------------------------</b>"
   ]
  },
  {
   "cell_type": "markdown",
   "metadata": {},
   "source": [
    "## TOP 5 CHANNEL DENGAN VIEWER TERBANYAK DI UNITED STATES"
   ]
  },
  {
   "cell_type": "code",
   "execution_count": null,
   "metadata": {},
   "outputs": [],
   "source": [
    "#membuat dataframe baru dengan sum yang menghitung total viewer berdasarkan channel_title dalam datasets dfUSvideos\n",
    "dfChannelViewUS = dfUSvideos.groupby(['channel_title'])['views'].sum().reset_index()\n",
    "\n",
    "#melakukan sorting berdasarkan views\n",
    "dfChannelViewUS.sort_values(by=\"views\", inplace = True, ascending = False)\n",
    "\n",
    "#reset index dari 1\n",
    "dfChannelViewUS.reset_index(drop = True, inplace = True)\n",
    "dfChannelViewUS.index = dfChannelViewUS.index + 1\n",
    "\n",
    "dfChannelViewUS.head(5)"
   ]
  },
  {
   "cell_type": "markdown",
   "metadata": {},
   "source": [
    "<b>------------------------------------------------------------------------------------------------------------------------------------------------------------------------------------------------------------------------------------------------------------------------------------------------------------------------------------------------------------------------------------------------------------------------------------</b>"
   ]
  },
  {
   "cell_type": "markdown",
   "metadata": {},
   "source": [
    "## TOP 5 CHANNEL YANG PALING SERING MASUK DAILY TRENDING DI UNITED STATES"
   ]
  },
  {
   "cell_type": "markdown",
   "metadata": {},
   "source": [
    "Untuk mencari top 5 channel yang <b>paling sering masuk</b> daily trending di tiap wilayah + berapa <b>total viewernya</b>, maka dataframe baru yang menampilkan berapa kali channel muncul di datasets videos masing-masing wilayah perlu untuk dibuat, kemudian dimerge dengan dataframe baru juga yang menampilkan berapa jumlah total viewer tiap channel yang videonya pernah masuk ke dalam daily trending."
   ]
  },
  {
   "cell_type": "code",
   "execution_count": null,
   "metadata": {},
   "outputs": [],
   "source": [
    "#membuat dataframe baru dengan value_counts yang menghitung berapa kali channel_title muncul dalam datasets dfUSvideos\n",
    "dfChannelCountUS = pd.DataFrame(dfUSvideos.channel_title.value_counts().reset_index())\n",
    "\n",
    "#reset index dari 1\n",
    "dfChannelCountUS.index = dfChannelCountUS.index + 1\n",
    "\n",
    "#rename kolom\n",
    "dfChannelCountUS.columns = ['channel_title', 'trending_count']\n",
    "\n",
    "dfChannelCountUS.head(5)"
   ]
  },
  {
   "cell_type": "code",
   "execution_count": null,
   "metadata": {},
   "outputs": [],
   "source": [
    "#membuat dataframe baru yang merupakan hasil merge dari dfChannelCountUS dan dfChannelViewUS berdasarkan channel_title\n",
    "dfTop5ChannelUS = pd.merge(dfChannelCountUS,dfChannelViewUS, on=\"channel_title\").reset_index(drop = True)\n",
    "\n",
    "#melakukan index ulang dari angka 1\n",
    "dfTop5ChannelUS.index = dfTop5ChannelUS.index + 1      \n",
    "\n",
    "print(\"TOP 5 CHANNEL YANG MASUK DAILY TRENDING DI UNITED STATES\")\n",
    "dfTop5ChannelUS.head(5)"
   ]
  },
  {
   "cell_type": "markdown",
   "metadata": {},
   "source": [
    "<b>------------------------------------------------------------------------------------------------------------------------------------------------------------------------------------------------------------------------------------------------------------------------------------------------------------------------------------------------------------------------------------------------------------------------------------</b>"
   ]
  },
  {
   "cell_type": "markdown",
   "metadata": {},
   "source": [
    "## TOP 5 VIDEO YANG PALING SERING MASUK DAILY TRENDING UNITED STATES"
   ]
  },
  {
   "cell_type": "markdown",
   "metadata": {},
   "source": [
    "Untuk mencari top 5 video yang paling sering masuk daily trending di tiap wilayah wilayah, maka dataframe baru yang menampilkan berapa kali video muncul di datasets Videos tersebut perlu untuk dibuat.\n",
    "\n",
    "#### Di sini size() digunakan untuk menghitung suatu elemen pada dataframe, tetapi jika size() dikombinasikan dengan groupby() , maka size akan bertindak seperti count() yang menghitung kolom yang di-groupby-kan"
   ]
  },
  {
   "cell_type": "code",
   "execution_count": null,
   "metadata": {},
   "outputs": [],
   "source": [
    "#membuat dataframe baru dengan size() yang menghitung berapa kali video_id & title muncul dalam datasets dfUSvideos\n",
    "dfTop5VideoUS = dfUSvideos.groupby([\"video_id\", \"title\",\"category_id\"]).size().reset_index(name=\"count\")\n",
    "\n",
    "#sorting berdasarkan count\n",
    "dfTop5VideoUS.sort_values(by=\"count\", inplace = True, ascending = False)\n",
    "\n",
    "#reset index dari 1\n",
    "dfTop5VideoUS.reset_index(drop = True, inplace = True)\n",
    "dfTop5VideoUS.index = dfTop5VideoUS.index + 1\n",
    "\n",
    "print(\"TOP 5 VIDEO YANG MASUK DAILY TRENDING DI UNITED STATES\")\n",
    "dfTop5VideoUS.head(5)"
   ]
  }
 ],
 "metadata": {
  "kernelspec": {
   "display_name": "Python 3",
   "language": "python",
   "name": "python3"
  },
  "language_info": {
   "codemirror_mode": {
    "name": "ipython",
    "version": 3
   },
   "file_extension": ".py",
   "mimetype": "text/x-python",
   "name": "python",
   "nbconvert_exporter": "python",
   "pygments_lexer": "ipython3",
   "version": "3.7.4"
  }
 },
 "nbformat": 4,
 "nbformat_minor": 2
}
