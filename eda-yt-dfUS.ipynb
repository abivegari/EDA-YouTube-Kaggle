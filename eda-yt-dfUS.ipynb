{
 "cells": [
  {
   "cell_type": "code",
   "execution_count": 1,
   "metadata": {
    "scrolled": true
   },
   "outputs": [],
   "source": [
    "#Import library\n",
    "import pandas as pd\n",
    "import json as js\n",
    "from pandas.io.json import json_normalize\n",
    "\n",
    "#import matplotlib\n",
    "import matplotlib.pyplot as plt\n",
    "\n",
    "#import numpy\n",
    "import numpy as np\n",
    "\n",
    "# import seaborn\n",
    "import seaborn as sns\n",
    "%matplotlib inline\n",
    "\n",
    "#import stats\n",
    "from scipy import stats"
   ]
  },
  {
   "cell_type": "code",
   "execution_count": 2,
   "metadata": {},
   "outputs": [],
   "source": [
    "#load datasets US\n",
    "dfUSvideos = pd.read_csv(\"datasets/USVideos.csv\")\n",
    "dfUScategory = pd.read_csv(\"datasets/UScategories.csv\")\n",
    "\n",
    "# set option agar float dapat ditampilkan seluruhnya\n",
    "pd.set_option('float_format', '{:f}'.format)"
   ]
  },
  {
   "cell_type": "markdown",
   "metadata": {},
   "source": [
    "## DATA VIDEO REGION UNITED STATES\n",
    "Berikut adalah data video dari region United States :"
   ]
  },
  {
   "cell_type": "code",
   "execution_count": 3,
   "metadata": {},
   "outputs": [
    {
     "data": {
      "text/plain": [
       "video_id                  object\n",
       "trending_date             object\n",
       "title                     object\n",
       "channel_title             object\n",
       "category_id                int64\n",
       "publish_time              object\n",
       "tags                      object\n",
       "views                      int64\n",
       "likes                      int64\n",
       "dislikes                   int64\n",
       "comment_count              int64\n",
       "thumbnail_link            object\n",
       "comments_disabled           bool\n",
       "ratings_disabled            bool\n",
       "video_error_or_removed      bool\n",
       "description               object\n",
       "dtype: object"
      ]
     },
     "execution_count": 3,
     "metadata": {},
     "output_type": "execute_result"
    }
   ],
   "source": [
    "dfUSvideos.dtypes"
   ]
  },
  {
   "cell_type": "markdown",
   "metadata": {},
   "source": [
    "#### Karena kolom trending_date pada semua data video adalah string dengan format year.month.day (contoh : 17.11.14), maka objek dari kolom tersebut perlu diubah menjadi bentuk datetime"
   ]
  },
  {
   "cell_type": "code",
   "execution_count": 4,
   "metadata": {},
   "outputs": [],
   "source": [
    "dfUSvideos['trending_date'] =  pd.to_datetime(dfUSvideos['trending_date'], format='%y.%d.%m')"
   ]
  },
  {
   "cell_type": "code",
   "execution_count": 5,
   "metadata": {
    "scrolled": false
   },
   "outputs": [
    {
     "data": {
      "text/html": [
       "<div>\n",
       "<style scoped>\n",
       "    .dataframe tbody tr th:only-of-type {\n",
       "        vertical-align: middle;\n",
       "    }\n",
       "\n",
       "    .dataframe tbody tr th {\n",
       "        vertical-align: top;\n",
       "    }\n",
       "\n",
       "    .dataframe thead th {\n",
       "        text-align: right;\n",
       "    }\n",
       "</style>\n",
       "<table border=\"1\" class=\"dataframe\">\n",
       "  <thead>\n",
       "    <tr style=\"text-align: right;\">\n",
       "      <th></th>\n",
       "      <th>video_id</th>\n",
       "      <th>trending_date</th>\n",
       "      <th>title</th>\n",
       "      <th>channel_title</th>\n",
       "      <th>category_id</th>\n",
       "      <th>publish_time</th>\n",
       "      <th>tags</th>\n",
       "      <th>views</th>\n",
       "      <th>likes</th>\n",
       "      <th>dislikes</th>\n",
       "      <th>comment_count</th>\n",
       "      <th>thumbnail_link</th>\n",
       "      <th>comments_disabled</th>\n",
       "      <th>ratings_disabled</th>\n",
       "      <th>video_error_or_removed</th>\n",
       "      <th>description</th>\n",
       "    </tr>\n",
       "  </thead>\n",
       "  <tbody>\n",
       "    <tr>\n",
       "      <td>0</td>\n",
       "      <td>2kyS6SvSYSE</td>\n",
       "      <td>2017-11-14</td>\n",
       "      <td>WE WANT TO TALK ABOUT OUR MARRIAGE</td>\n",
       "      <td>CaseyNeistat</td>\n",
       "      <td>22</td>\n",
       "      <td>2017-11-13T17:13:01.000Z</td>\n",
       "      <td>SHANtell martin</td>\n",
       "      <td>748374</td>\n",
       "      <td>57527</td>\n",
       "      <td>2966</td>\n",
       "      <td>15954</td>\n",
       "      <td>https://i.ytimg.com/vi/2kyS6SvSYSE/default.jpg</td>\n",
       "      <td>False</td>\n",
       "      <td>False</td>\n",
       "      <td>False</td>\n",
       "      <td>SHANTELL'S CHANNEL - https://www.youtube.com/s...</td>\n",
       "    </tr>\n",
       "    <tr>\n",
       "      <td>1</td>\n",
       "      <td>1ZAPwfrtAFY</td>\n",
       "      <td>2017-11-14</td>\n",
       "      <td>The Trump Presidency: Last Week Tonight with J...</td>\n",
       "      <td>LastWeekTonight</td>\n",
       "      <td>24</td>\n",
       "      <td>2017-11-13T07:30:00.000Z</td>\n",
       "      <td>last week tonight trump presidency|\"last week ...</td>\n",
       "      <td>2418783</td>\n",
       "      <td>97185</td>\n",
       "      <td>6146</td>\n",
       "      <td>12703</td>\n",
       "      <td>https://i.ytimg.com/vi/1ZAPwfrtAFY/default.jpg</td>\n",
       "      <td>False</td>\n",
       "      <td>False</td>\n",
       "      <td>False</td>\n",
       "      <td>One year after the presidential election, John...</td>\n",
       "    </tr>\n",
       "    <tr>\n",
       "      <td>2</td>\n",
       "      <td>5qpjK5DgCt4</td>\n",
       "      <td>2017-11-14</td>\n",
       "      <td>Racist Superman | Rudy Mancuso, King Bach &amp; Le...</td>\n",
       "      <td>Rudy Mancuso</td>\n",
       "      <td>23</td>\n",
       "      <td>2017-11-12T19:05:24.000Z</td>\n",
       "      <td>racist superman|\"rudy\"|\"mancuso\"|\"king\"|\"bach\"...</td>\n",
       "      <td>3191434</td>\n",
       "      <td>146033</td>\n",
       "      <td>5339</td>\n",
       "      <td>8181</td>\n",
       "      <td>https://i.ytimg.com/vi/5qpjK5DgCt4/default.jpg</td>\n",
       "      <td>False</td>\n",
       "      <td>False</td>\n",
       "      <td>False</td>\n",
       "      <td>WATCH MY PREVIOUS VIDEO ▶ \\n\\nSUBSCRIBE ► http...</td>\n",
       "    </tr>\n",
       "    <tr>\n",
       "      <td>3</td>\n",
       "      <td>puqaWrEC7tY</td>\n",
       "      <td>2017-11-14</td>\n",
       "      <td>Nickelback Lyrics: Real or Fake?</td>\n",
       "      <td>Good Mythical Morning</td>\n",
       "      <td>24</td>\n",
       "      <td>2017-11-13T11:00:04.000Z</td>\n",
       "      <td>rhett and link|\"gmm\"|\"good mythical morning\"|\"...</td>\n",
       "      <td>343168</td>\n",
       "      <td>10172</td>\n",
       "      <td>666</td>\n",
       "      <td>2146</td>\n",
       "      <td>https://i.ytimg.com/vi/puqaWrEC7tY/default.jpg</td>\n",
       "      <td>False</td>\n",
       "      <td>False</td>\n",
       "      <td>False</td>\n",
       "      <td>Today we find out if Link is a Nickelback amat...</td>\n",
       "    </tr>\n",
       "    <tr>\n",
       "      <td>4</td>\n",
       "      <td>d380meD0W0M</td>\n",
       "      <td>2017-11-14</td>\n",
       "      <td>I Dare You: GOING BALD!?</td>\n",
       "      <td>nigahiga</td>\n",
       "      <td>24</td>\n",
       "      <td>2017-11-12T18:01:41.000Z</td>\n",
       "      <td>ryan|\"higa\"|\"higatv\"|\"nigahiga\"|\"i dare you\"|\"...</td>\n",
       "      <td>2095731</td>\n",
       "      <td>132235</td>\n",
       "      <td>1989</td>\n",
       "      <td>17518</td>\n",
       "      <td>https://i.ytimg.com/vi/d380meD0W0M/default.jpg</td>\n",
       "      <td>False</td>\n",
       "      <td>False</td>\n",
       "      <td>False</td>\n",
       "      <td>I know it's been a while since we did this sho...</td>\n",
       "    </tr>\n",
       "  </tbody>\n",
       "</table>\n",
       "</div>"
      ],
      "text/plain": [
       "      video_id trending_date  \\\n",
       "0  2kyS6SvSYSE    2017-11-14   \n",
       "1  1ZAPwfrtAFY    2017-11-14   \n",
       "2  5qpjK5DgCt4    2017-11-14   \n",
       "3  puqaWrEC7tY    2017-11-14   \n",
       "4  d380meD0W0M    2017-11-14   \n",
       "\n",
       "                                               title          channel_title  \\\n",
       "0                 WE WANT TO TALK ABOUT OUR MARRIAGE           CaseyNeistat   \n",
       "1  The Trump Presidency: Last Week Tonight with J...        LastWeekTonight   \n",
       "2  Racist Superman | Rudy Mancuso, King Bach & Le...           Rudy Mancuso   \n",
       "3                   Nickelback Lyrics: Real or Fake?  Good Mythical Morning   \n",
       "4                           I Dare You: GOING BALD!?               nigahiga   \n",
       "\n",
       "   category_id              publish_time  \\\n",
       "0           22  2017-11-13T17:13:01.000Z   \n",
       "1           24  2017-11-13T07:30:00.000Z   \n",
       "2           23  2017-11-12T19:05:24.000Z   \n",
       "3           24  2017-11-13T11:00:04.000Z   \n",
       "4           24  2017-11-12T18:01:41.000Z   \n",
       "\n",
       "                                                tags    views   likes  \\\n",
       "0                                    SHANtell martin   748374   57527   \n",
       "1  last week tonight trump presidency|\"last week ...  2418783   97185   \n",
       "2  racist superman|\"rudy\"|\"mancuso\"|\"king\"|\"bach\"...  3191434  146033   \n",
       "3  rhett and link|\"gmm\"|\"good mythical morning\"|\"...   343168   10172   \n",
       "4  ryan|\"higa\"|\"higatv\"|\"nigahiga\"|\"i dare you\"|\"...  2095731  132235   \n",
       "\n",
       "   dislikes  comment_count                                  thumbnail_link  \\\n",
       "0      2966          15954  https://i.ytimg.com/vi/2kyS6SvSYSE/default.jpg   \n",
       "1      6146          12703  https://i.ytimg.com/vi/1ZAPwfrtAFY/default.jpg   \n",
       "2      5339           8181  https://i.ytimg.com/vi/5qpjK5DgCt4/default.jpg   \n",
       "3       666           2146  https://i.ytimg.com/vi/puqaWrEC7tY/default.jpg   \n",
       "4      1989          17518  https://i.ytimg.com/vi/d380meD0W0M/default.jpg   \n",
       "\n",
       "   comments_disabled  ratings_disabled  video_error_or_removed  \\\n",
       "0              False             False                   False   \n",
       "1              False             False                   False   \n",
       "2              False             False                   False   \n",
       "3              False             False                   False   \n",
       "4              False             False                   False   \n",
       "\n",
       "                                         description  \n",
       "0  SHANTELL'S CHANNEL - https://www.youtube.com/s...  \n",
       "1  One year after the presidential election, John...  \n",
       "2  WATCH MY PREVIOUS VIDEO ▶ \\n\\nSUBSCRIBE ► http...  \n",
       "3  Today we find out if Link is a Nickelback amat...  \n",
       "4  I know it's been a while since we did this sho...  "
      ]
     },
     "execution_count": 5,
     "metadata": {},
     "output_type": "execute_result"
    }
   ],
   "source": [
    "dfUSvideos.head()"
   ]
  },
  {
   "cell_type": "code",
   "execution_count": 6,
   "metadata": {},
   "outputs": [
    {
     "data": {
      "text/plain": [
       "(40949, 16)"
      ]
     },
     "execution_count": 6,
     "metadata": {},
     "output_type": "execute_result"
    }
   ],
   "source": [
    "dfUSvideos.shape"
   ]
  },
  {
   "cell_type": "markdown",
   "metadata": {},
   "source": [
    "Berdasarkan pengecekan data video dari region United States memiliki dimensi <b>40881 baris x 16 kolom</b>."
   ]
  },
  {
   "cell_type": "markdown",
   "metadata": {},
   "source": [
    "## DATA KATEGORI VIDEO REGION UNITED STATES\n",
    "Berikut adalah data kategori video region United States setelah diubah menjadi dataframe :"
   ]
  },
  {
   "cell_type": "code",
   "execution_count": 7,
   "metadata": {},
   "outputs": [
    {
     "data": {
      "text/html": [
       "<div>\n",
       "<style scoped>\n",
       "    .dataframe tbody tr th:only-of-type {\n",
       "        vertical-align: middle;\n",
       "    }\n",
       "\n",
       "    .dataframe tbody tr th {\n",
       "        vertical-align: top;\n",
       "    }\n",
       "\n",
       "    .dataframe thead th {\n",
       "        text-align: right;\n",
       "    }\n",
       "</style>\n",
       "<table border=\"1\" class=\"dataframe\">\n",
       "  <thead>\n",
       "    <tr style=\"text-align: right;\">\n",
       "      <th></th>\n",
       "      <th>id</th>\n",
       "      <th>category</th>\n",
       "    </tr>\n",
       "  </thead>\n",
       "  <tbody>\n",
       "    <tr>\n",
       "      <td>0</td>\n",
       "      <td>1</td>\n",
       "      <td>Film &amp; Animation</td>\n",
       "    </tr>\n",
       "    <tr>\n",
       "      <td>1</td>\n",
       "      <td>2</td>\n",
       "      <td>Autos &amp; Vehicles</td>\n",
       "    </tr>\n",
       "    <tr>\n",
       "      <td>2</td>\n",
       "      <td>10</td>\n",
       "      <td>Music</td>\n",
       "    </tr>\n",
       "    <tr>\n",
       "      <td>3</td>\n",
       "      <td>15</td>\n",
       "      <td>Pets &amp; Animals</td>\n",
       "    </tr>\n",
       "    <tr>\n",
       "      <td>4</td>\n",
       "      <td>17</td>\n",
       "      <td>Sports</td>\n",
       "    </tr>\n",
       "    <tr>\n",
       "      <td>5</td>\n",
       "      <td>19</td>\n",
       "      <td>Travel &amp; Events</td>\n",
       "    </tr>\n",
       "    <tr>\n",
       "      <td>6</td>\n",
       "      <td>20</td>\n",
       "      <td>Gaming</td>\n",
       "    </tr>\n",
       "    <tr>\n",
       "      <td>7</td>\n",
       "      <td>22</td>\n",
       "      <td>People &amp; Blogs</td>\n",
       "    </tr>\n",
       "    <tr>\n",
       "      <td>8</td>\n",
       "      <td>23</td>\n",
       "      <td>Comedy</td>\n",
       "    </tr>\n",
       "    <tr>\n",
       "      <td>9</td>\n",
       "      <td>24</td>\n",
       "      <td>Entertainment</td>\n",
       "    </tr>\n",
       "    <tr>\n",
       "      <td>10</td>\n",
       "      <td>25</td>\n",
       "      <td>News &amp; Politics</td>\n",
       "    </tr>\n",
       "    <tr>\n",
       "      <td>11</td>\n",
       "      <td>26</td>\n",
       "      <td>Howto &amp; Style</td>\n",
       "    </tr>\n",
       "    <tr>\n",
       "      <td>12</td>\n",
       "      <td>27</td>\n",
       "      <td>Education</td>\n",
       "    </tr>\n",
       "    <tr>\n",
       "      <td>13</td>\n",
       "      <td>28</td>\n",
       "      <td>Science &amp; Technology</td>\n",
       "    </tr>\n",
       "    <tr>\n",
       "      <td>14</td>\n",
       "      <td>29</td>\n",
       "      <td>Nonprofits &amp; Activism</td>\n",
       "    </tr>\n",
       "    <tr>\n",
       "      <td>15</td>\n",
       "      <td>43</td>\n",
       "      <td>Shows</td>\n",
       "    </tr>\n",
       "  </tbody>\n",
       "</table>\n",
       "</div>"
      ],
      "text/plain": [
       "    id               category\n",
       "0    1       Film & Animation\n",
       "1    2       Autos & Vehicles\n",
       "2   10                  Music\n",
       "3   15         Pets & Animals\n",
       "4   17                 Sports\n",
       "5   19        Travel & Events\n",
       "6   20                 Gaming\n",
       "7   22         People & Blogs\n",
       "8   23                 Comedy\n",
       "9   24          Entertainment\n",
       "10  25        News & Politics\n",
       "11  26          Howto & Style\n",
       "12  27              Education\n",
       "13  28   Science & Technology\n",
       "14  29  Nonprofits & Activism\n",
       "15  43                  Shows"
      ]
     },
     "execution_count": 7,
     "metadata": {},
     "output_type": "execute_result"
    }
   ],
   "source": [
    "dfUScategory"
   ]
  },
  {
   "cell_type": "code",
   "execution_count": 8,
   "metadata": {},
   "outputs": [
    {
     "data": {
      "text/plain": [
       "(16, 2)"
      ]
     },
     "execution_count": 8,
     "metadata": {},
     "output_type": "execute_result"
    }
   ],
   "source": [
    "dfUScategory.shape"
   ]
  },
  {
   "cell_type": "markdown",
   "metadata": {},
   "source": [
    "Berdasarkan pengecekan data kategori region United States memiliki dimensi <b>31 baris x 2 kolom</b>."
   ]
  },
  {
   "cell_type": "markdown",
   "metadata": {},
   "source": [
    "<b>------------------------------------------------------------------------------------------------------------------------------------------------------------------------------------------------------------------------------------------------------------------------------------------------------------------------------------------------------------------------------------------------------------------------------------</b>"
   ]
  },
  {
   "cell_type": "markdown",
   "metadata": {},
   "source": [
    "## A. STATISTIK DARI SETIAP KATEGORI YANG TERDAPAT DI DATAFRAME VIDEOS UNITED STATES\n",
    "Kita perlu mengetahui statistik berikut untuk setiap kategori :\n",
    "#### 1. Data tertinggi, terendah, dan rata-rata viewer\n",
    "#### 2. Data tertinggi, terendah, dan rata-rata likes\n",
    "#### 3. Data tertinggi, terendah, dan rata-rata dislikes\n",
    "#### 5. Data tertinggi, terendah, dan rata-rata jumlah komentar"
   ]
  },
  {
   "cell_type": "markdown",
   "metadata": {},
   "source": [
    "Di sini kita akan menemukan statistik data video dari region United States menggunakan list <b>gUSvideo</b> yang mana adalah list di mana video kelompokkan berdasarkan id kategori.<br/>\n",
    "\n",
    "Untuk menemukan rata-rata digunakan fungsi <b>.max()</b> pada data grup id kategori yang diinginkan. Untuk menemukan value tertinggi digunakan <b>.max()</b> dan untuk menemukan value terkecil digunakan <b>.min()</b>"
   ]
  },
  {
   "cell_type": "code",
   "execution_count": 9,
   "metadata": {},
   "outputs": [
    {
     "data": {
      "text/plain": [
       "array([ 1,  2, 10, 15, 17, 19, 20, 22, 23, 24, 25, 26, 27, 28, 29, 43],\n",
       "      dtype=int64)"
      ]
     },
     "execution_count": 9,
     "metadata": {},
     "output_type": "execute_result"
    }
   ],
   "source": [
    "# mengelompokan berdasarkan id kategori\n",
    "gUSvideo = dfUSvideos.groupby('category_id')\n",
    "\n",
    "# memasukkan id kategori ke dalam bentuk array untuk digunakan dalam eksplorasi\n",
    "a = dfUSvideos.category_id.unique()\n",
    "a.sort(axis=0)\n",
    "a"
   ]
  },
  {
   "cell_type": "markdown",
   "metadata": {},
   "source": [
    "### 1A. Data tertinggi, terendah, dan rata-rata viewer United States"
   ]
  },
  {
   "cell_type": "code",
   "execution_count": 10,
   "metadata": {},
   "outputs": [],
   "source": [
    "# memasukkan data ke dalam list\n",
    "data_view_us = {\n",
    "    \n",
    "    # a adalah hasil sorting array saat menemukan value yang unique dari id kategori data video region United States\n",
    "    'id' : a,\n",
    "    #penonton tertinggi\n",
    "    'highest_views':[gUSvideo.get_group(items)['views'].max() for items in dfUScategory['id']],\n",
    "    \n",
    "    #penonton terendah\n",
    "    'lowest_views':[gUSvideo.get_group(items)['views'].min() for items in dfUScategory['id']],\n",
    "    \n",
    "    #penonton rata-rata\n",
    "    'average_views':[gUSvideo.get_group(items)['views'].mean() for items in dfUScategory['id']]}\n",
    "\n",
    "dfViewUS = pd.DataFrame(data_view_us)"
   ]
  },
  {
   "cell_type": "code",
   "execution_count": 11,
   "metadata": {
    "scrolled": true
   },
   "outputs": [
    {
     "name": "stdout",
     "output_type": "stream",
     "text": [
      "\n",
      "DATA VIEWER SETIAP KATEGORI DI REGION UNITED STATES\n"
     ]
    },
    {
     "data": {
      "text/html": [
       "<div>\n",
       "<style scoped>\n",
       "    .dataframe tbody tr th:only-of-type {\n",
       "        vertical-align: middle;\n",
       "    }\n",
       "\n",
       "    .dataframe tbody tr th {\n",
       "        vertical-align: top;\n",
       "    }\n",
       "\n",
       "    .dataframe thead th {\n",
       "        text-align: right;\n",
       "    }\n",
       "</style>\n",
       "<table border=\"1\" class=\"dataframe\">\n",
       "  <thead>\n",
       "    <tr style=\"text-align: right;\">\n",
       "      <th></th>\n",
       "      <th>id</th>\n",
       "      <th>category</th>\n",
       "      <th>highest_views</th>\n",
       "      <th>lowest_views</th>\n",
       "      <th>average_views</th>\n",
       "    </tr>\n",
       "  </thead>\n",
       "  <tbody>\n",
       "    <tr>\n",
       "      <td>0</td>\n",
       "      <td>1</td>\n",
       "      <td>Film &amp; Animation</td>\n",
       "      <td>54863912</td>\n",
       "      <td>943</td>\n",
       "      <td>3106250.200853</td>\n",
       "    </tr>\n",
       "    <tr>\n",
       "      <td>1</td>\n",
       "      <td>2</td>\n",
       "      <td>Autos &amp; Vehicles</td>\n",
       "      <td>25244097</td>\n",
       "      <td>2860</td>\n",
       "      <td>1355965.408854</td>\n",
       "    </tr>\n",
       "    <tr>\n",
       "      <td>2</td>\n",
       "      <td>10</td>\n",
       "      <td>Music</td>\n",
       "      <td>225211923</td>\n",
       "      <td>1591</td>\n",
       "      <td>6201003.119592</td>\n",
       "    </tr>\n",
       "    <tr>\n",
       "      <td>3</td>\n",
       "      <td>15</td>\n",
       "      <td>Pets &amp; Animals</td>\n",
       "      <td>6187457</td>\n",
       "      <td>3393</td>\n",
       "      <td>831143.466304</td>\n",
       "    </tr>\n",
       "    <tr>\n",
       "      <td>4</td>\n",
       "      <td>17</td>\n",
       "      <td>Sports</td>\n",
       "      <td>29090799</td>\n",
       "      <td>658</td>\n",
       "      <td>2025969.030819</td>\n",
       "    </tr>\n",
       "    <tr>\n",
       "      <td>5</td>\n",
       "      <td>19</td>\n",
       "      <td>Travel &amp; Events</td>\n",
       "      <td>23932421</td>\n",
       "      <td>789</td>\n",
       "      <td>854619.611940</td>\n",
       "    </tr>\n",
       "    <tr>\n",
       "      <td>6</td>\n",
       "      <td>20</td>\n",
       "      <td>Gaming</td>\n",
       "      <td>16935442</td>\n",
       "      <td>1237</td>\n",
       "      <td>2620830.630355</td>\n",
       "    </tr>\n",
       "    <tr>\n",
       "      <td>7</td>\n",
       "      <td>22</td>\n",
       "      <td>People &amp; Blogs</td>\n",
       "      <td>56111957</td>\n",
       "      <td>884</td>\n",
       "      <td>1531835.428660</td>\n",
       "    </tr>\n",
       "    <tr>\n",
       "      <td>8</td>\n",
       "      <td>23</td>\n",
       "      <td>Comedy</td>\n",
       "      <td>29178096</td>\n",
       "      <td>1807</td>\n",
       "      <td>1480308.420017</td>\n",
       "    </tr>\n",
       "    <tr>\n",
       "      <td>9</td>\n",
       "      <td>24</td>\n",
       "      <td>Entertainment</td>\n",
       "      <td>149376127</td>\n",
       "      <td>798</td>\n",
       "      <td>2067883.199016</td>\n",
       "    </tr>\n",
       "    <tr>\n",
       "      <td>10</td>\n",
       "      <td>25</td>\n",
       "      <td>News &amp; Politics</td>\n",
       "      <td>10277358</td>\n",
       "      <td>549</td>\n",
       "      <td>592587.737837</td>\n",
       "    </tr>\n",
       "    <tr>\n",
       "      <td>11</td>\n",
       "      <td>26</td>\n",
       "      <td>Howto &amp; Style</td>\n",
       "      <td>54155921</td>\n",
       "      <td>1107</td>\n",
       "      <td>983730.116739</td>\n",
       "    </tr>\n",
       "    <tr>\n",
       "      <td>12</td>\n",
       "      <td>27</td>\n",
       "      <td>Education</td>\n",
       "      <td>7349435</td>\n",
       "      <td>773</td>\n",
       "      <td>712940.815217</td>\n",
       "    </tr>\n",
       "    <tr>\n",
       "      <td>13</td>\n",
       "      <td>28</td>\n",
       "      <td>Science &amp; Technology</td>\n",
       "      <td>42799458</td>\n",
       "      <td>983</td>\n",
       "      <td>1452626.745523</td>\n",
       "    </tr>\n",
       "    <tr>\n",
       "      <td>14</td>\n",
       "      <td>29</td>\n",
       "      <td>Nonprofits &amp; Activism</td>\n",
       "      <td>24286474</td>\n",
       "      <td>1456</td>\n",
       "      <td>2963884.070175</td>\n",
       "    </tr>\n",
       "    <tr>\n",
       "      <td>15</td>\n",
       "      <td>43</td>\n",
       "      <td>Shows</td>\n",
       "      <td>1445949</td>\n",
       "      <td>36609</td>\n",
       "      <td>903527.333333</td>\n",
       "    </tr>\n",
       "  </tbody>\n",
       "</table>\n",
       "</div>"
      ],
      "text/plain": [
       "    id               category  highest_views  lowest_views  average_views\n",
       "0    1       Film & Animation       54863912           943 3106250.200853\n",
       "1    2       Autos & Vehicles       25244097          2860 1355965.408854\n",
       "2   10                  Music      225211923          1591 6201003.119592\n",
       "3   15         Pets & Animals        6187457          3393  831143.466304\n",
       "4   17                 Sports       29090799           658 2025969.030819\n",
       "5   19        Travel & Events       23932421           789  854619.611940\n",
       "6   20                 Gaming       16935442          1237 2620830.630355\n",
       "7   22         People & Blogs       56111957           884 1531835.428660\n",
       "8   23                 Comedy       29178096          1807 1480308.420017\n",
       "9   24          Entertainment      149376127           798 2067883.199016\n",
       "10  25        News & Politics       10277358           549  592587.737837\n",
       "11  26          Howto & Style       54155921          1107  983730.116739\n",
       "12  27              Education        7349435           773  712940.815217\n",
       "13  28   Science & Technology       42799458           983 1452626.745523\n",
       "14  29  Nonprofits & Activism       24286474          1456 2963884.070175\n",
       "15  43                  Shows        1445949         36609  903527.333333"
      ]
     },
     "execution_count": 11,
     "metadata": {},
     "output_type": "execute_result"
    }
   ],
   "source": [
    "dfViewUS = pd.merge(dfUScategory,dfViewUS,on=\"id\")\n",
    "\n",
    "print(\"\")\n",
    "print(\"DATA VIEWER SETIAP KATEGORI DI REGION UNITED STATES\")\n",
    "dfViewUS"
   ]
  },
  {
   "cell_type": "markdown",
   "metadata": {},
   "source": [
    "### 2A. Data tertinggi, terendah, dan rata-rata likes United States"
   ]
  },
  {
   "cell_type": "code",
   "execution_count": 12,
   "metadata": {},
   "outputs": [],
   "source": [
    "# memasukkan data ke dalam list\n",
    "data_likes_us = {\n",
    "    \n",
    "    # a adalah hasil sorting array saat menemukan value yang unique dari id kategori data video region United States\n",
    "    'id' : a,\n",
    "    'highest_likes':[gUSvideo.get_group(items)['likes'].max() for items in dfUScategory['id']],\n",
    "    'lowest_likes':[gUSvideo.get_group(items)['likes'].min() for items in dfUScategory['id']],\n",
    "    'average_likes':[gUSvideo.get_group(items)['likes'].mean() for items in dfUScategory['id']\n",
    "                   ]}\n",
    "\n",
    "dfLikesUS = pd.DataFrame(data_likes_us)"
   ]
  },
  {
   "cell_type": "code",
   "execution_count": 13,
   "metadata": {},
   "outputs": [
    {
     "name": "stdout",
     "output_type": "stream",
     "text": [
      "\n",
      "DATA LIKES SETIAP KATEGORI DI REGION UNITED STATES\n"
     ]
    },
    {
     "data": {
      "text/html": [
       "<div>\n",
       "<style scoped>\n",
       "    .dataframe tbody tr th:only-of-type {\n",
       "        vertical-align: middle;\n",
       "    }\n",
       "\n",
       "    .dataframe tbody tr th {\n",
       "        vertical-align: top;\n",
       "    }\n",
       "\n",
       "    .dataframe thead th {\n",
       "        text-align: right;\n",
       "    }\n",
       "</style>\n",
       "<table border=\"1\" class=\"dataframe\">\n",
       "  <thead>\n",
       "    <tr style=\"text-align: right;\">\n",
       "      <th></th>\n",
       "      <th>id</th>\n",
       "      <th>category</th>\n",
       "      <th>highest_likes</th>\n",
       "      <th>lowest_likes</th>\n",
       "      <th>average_likes</th>\n",
       "    </tr>\n",
       "  </thead>\n",
       "  <tbody>\n",
       "    <tr>\n",
       "      <td>0</td>\n",
       "      <td>1</td>\n",
       "      <td>Film &amp; Animation</td>\n",
       "      <td>922355</td>\n",
       "      <td>0</td>\n",
       "      <td>70787.836247</td>\n",
       "    </tr>\n",
       "    <tr>\n",
       "      <td>1</td>\n",
       "      <td>2</td>\n",
       "      <td>Autos &amp; Vehicles</td>\n",
       "      <td>97030</td>\n",
       "      <td>0</td>\n",
       "      <td>11056.395833</td>\n",
       "    </tr>\n",
       "    <tr>\n",
       "      <td>2</td>\n",
       "      <td>10</td>\n",
       "      <td>Music</td>\n",
       "      <td>5613827</td>\n",
       "      <td>0</td>\n",
       "      <td>218918.199011</td>\n",
       "    </tr>\n",
       "    <tr>\n",
       "      <td>3</td>\n",
       "      <td>15</td>\n",
       "      <td>Pets &amp; Animals</td>\n",
       "      <td>178243</td>\n",
       "      <td>6</td>\n",
       "      <td>21055.110870</td>\n",
       "    </tr>\n",
       "    <tr>\n",
       "      <td>4</td>\n",
       "      <td>17</td>\n",
       "      <td>Sports</td>\n",
       "      <td>1121217</td>\n",
       "      <td>0</td>\n",
       "      <td>45363.942502</td>\n",
       "    </tr>\n",
       "    <tr>\n",
       "      <td>5</td>\n",
       "      <td>19</td>\n",
       "      <td>Travel &amp; Events</td>\n",
       "      <td>42447</td>\n",
       "      <td>3</td>\n",
       "      <td>12030.462687</td>\n",
       "    </tr>\n",
       "    <tr>\n",
       "      <td>6</td>\n",
       "      <td>20</td>\n",
       "      <td>Gaming</td>\n",
       "      <td>444203</td>\n",
       "      <td>2</td>\n",
       "      <td>84502.183599</td>\n",
       "    </tr>\n",
       "    <tr>\n",
       "      <td>7</td>\n",
       "      <td>22</td>\n",
       "      <td>People &amp; Blogs</td>\n",
       "      <td>2032463</td>\n",
       "      <td>0</td>\n",
       "      <td>58135.825234</td>\n",
       "    </tr>\n",
       "    <tr>\n",
       "      <td>8</td>\n",
       "      <td>23</td>\n",
       "      <td>Comedy</td>\n",
       "      <td>865679</td>\n",
       "      <td>6</td>\n",
       "      <td>62582.223315</td>\n",
       "    </tr>\n",
       "    <tr>\n",
       "      <td>9</td>\n",
       "      <td>24</td>\n",
       "      <td>Entertainment</td>\n",
       "      <td>3093544</td>\n",
       "      <td>0</td>\n",
       "      <td>53243.325070</td>\n",
       "    </tr>\n",
       "    <tr>\n",
       "      <td>10</td>\n",
       "      <td>25</td>\n",
       "      <td>News &amp; Politics</td>\n",
       "      <td>163338</td>\n",
       "      <td>0</td>\n",
       "      <td>7298.364696</td>\n",
       "    </tr>\n",
       "    <tr>\n",
       "      <td>11</td>\n",
       "      <td>26</td>\n",
       "      <td>Howto &amp; Style</td>\n",
       "      <td>605954</td>\n",
       "      <td>0</td>\n",
       "      <td>39286.076942</td>\n",
       "    </tr>\n",
       "    <tr>\n",
       "      <td>12</td>\n",
       "      <td>27</td>\n",
       "      <td>Education</td>\n",
       "      <td>240989</td>\n",
       "      <td>0</td>\n",
       "      <td>29745.031401</td>\n",
       "    </tr>\n",
       "    <tr>\n",
       "      <td>13</td>\n",
       "      <td>28</td>\n",
       "      <td>Science &amp; Technology</td>\n",
       "      <td>564804</td>\n",
       "      <td>0</td>\n",
       "      <td>34374.276551</td>\n",
       "    </tr>\n",
       "    <tr>\n",
       "      <td>14</td>\n",
       "      <td>29</td>\n",
       "      <td>Nonprofits &amp; Activism</td>\n",
       "      <td>1988746</td>\n",
       "      <td>0</td>\n",
       "      <td>259923.614035</td>\n",
       "    </tr>\n",
       "    <tr>\n",
       "      <td>15</td>\n",
       "      <td>43</td>\n",
       "      <td>Shows</td>\n",
       "      <td>33261</td>\n",
       "      <td>810</td>\n",
       "      <td>18993.666667</td>\n",
       "    </tr>\n",
       "  </tbody>\n",
       "</table>\n",
       "</div>"
      ],
      "text/plain": [
       "    id               category  highest_likes  lowest_likes  average_likes\n",
       "0    1       Film & Animation         922355             0   70787.836247\n",
       "1    2       Autos & Vehicles          97030             0   11056.395833\n",
       "2   10                  Music        5613827             0  218918.199011\n",
       "3   15         Pets & Animals         178243             6   21055.110870\n",
       "4   17                 Sports        1121217             0   45363.942502\n",
       "5   19        Travel & Events          42447             3   12030.462687\n",
       "6   20                 Gaming         444203             2   84502.183599\n",
       "7   22         People & Blogs        2032463             0   58135.825234\n",
       "8   23                 Comedy         865679             6   62582.223315\n",
       "9   24          Entertainment        3093544             0   53243.325070\n",
       "10  25        News & Politics         163338             0    7298.364696\n",
       "11  26          Howto & Style         605954             0   39286.076942\n",
       "12  27              Education         240989             0   29745.031401\n",
       "13  28   Science & Technology         564804             0   34374.276551\n",
       "14  29  Nonprofits & Activism        1988746             0  259923.614035\n",
       "15  43                  Shows          33261           810   18993.666667"
      ]
     },
     "execution_count": 13,
     "metadata": {},
     "output_type": "execute_result"
    }
   ],
   "source": [
    "dfLikesUS = pd.merge(dfUScategory,dfLikesUS,on=\"id\")\n",
    "\n",
    "print(\"\")\n",
    "print(\"DATA LIKES SETIAP KATEGORI DI REGION UNITED STATES\")\n",
    "dfLikesUS"
   ]
  },
  {
   "cell_type": "markdown",
   "metadata": {},
   "source": [
    "### 3B. Data tertinggi, terendah, dan rata-rata dislikes United States"
   ]
  },
  {
   "cell_type": "code",
   "execution_count": 14,
   "metadata": {},
   "outputs": [],
   "source": [
    "# memasukkan data ke dalam list\n",
    "data_dislikes_us = {\n",
    "    \n",
    "    # a adalah hasil sorting array saat menemukan value yang unique dari id kategori data video region United States\n",
    "    'id' : a,\n",
    "    'highest_dislikes':[gUSvideo.get_group(items)['dislikes'].max() for items in dfUScategory['id']],\n",
    "    'lowest_dislikes':[gUSvideo.get_group(items)['dislikes'].min() for items in dfUScategory['id']],\n",
    "    'average_dislikes':[gUSvideo.get_group(items)['dislikes'].mean() for items in dfUScategory['id']\n",
    "                   ]}\n",
    "\n",
    "dfDislikesUS = pd.DataFrame(data_dislikes_us)"
   ]
  },
  {
   "cell_type": "code",
   "execution_count": 15,
   "metadata": {},
   "outputs": [
    {
     "name": "stdout",
     "output_type": "stream",
     "text": [
      "\n",
      "DATA DISLIKES SETIAP KATEGORI DI REGION UNITED STATES\n"
     ]
    },
    {
     "data": {
      "text/html": [
       "<div>\n",
       "<style scoped>\n",
       "    .dataframe tbody tr th:only-of-type {\n",
       "        vertical-align: middle;\n",
       "    }\n",
       "\n",
       "    .dataframe tbody tr th {\n",
       "        vertical-align: top;\n",
       "    }\n",
       "\n",
       "    .dataframe thead th {\n",
       "        text-align: right;\n",
       "    }\n",
       "</style>\n",
       "<table border=\"1\" class=\"dataframe\">\n",
       "  <thead>\n",
       "    <tr style=\"text-align: right;\">\n",
       "      <th></th>\n",
       "      <th>id</th>\n",
       "      <th>category</th>\n",
       "      <th>highest_dislikes</th>\n",
       "      <th>lowest_dislikes</th>\n",
       "      <th>average_dislikes</th>\n",
       "    </tr>\n",
       "  </thead>\n",
       "  <tbody>\n",
       "    <tr>\n",
       "      <td>0</td>\n",
       "      <td>1</td>\n",
       "      <td>Film &amp; Animation</td>\n",
       "      <td>38082</td>\n",
       "      <td>0</td>\n",
       "      <td>2590.681450</td>\n",
       "    </tr>\n",
       "    <tr>\n",
       "      <td>1</td>\n",
       "      <td>2</td>\n",
       "      <td>Autos &amp; Vehicles</td>\n",
       "      <td>12290</td>\n",
       "      <td>0</td>\n",
       "      <td>632.838542</td>\n",
       "    </tr>\n",
       "    <tr>\n",
       "      <td>2</td>\n",
       "      <td>10</td>\n",
       "      <td>Music</td>\n",
       "      <td>343541</td>\n",
       "      <td>0</td>\n",
       "      <td>7907.757726</td>\n",
       "    </tr>\n",
       "    <tr>\n",
       "      <td>3</td>\n",
       "      <td>15</td>\n",
       "      <td>Pets &amp; Animals</td>\n",
       "      <td>4899</td>\n",
       "      <td>0</td>\n",
       "      <td>573.238043</td>\n",
       "    </tr>\n",
       "    <tr>\n",
       "      <td>4</td>\n",
       "      <td>17</td>\n",
       "      <td>Sports</td>\n",
       "      <td>176903</td>\n",
       "      <td>0</td>\n",
       "      <td>2361.339006</td>\n",
       "    </tr>\n",
       "    <tr>\n",
       "      <td>5</td>\n",
       "      <td>19</td>\n",
       "      <td>Travel &amp; Events</td>\n",
       "      <td>9000</td>\n",
       "      <td>0</td>\n",
       "      <td>846.833333</td>\n",
       "    </tr>\n",
       "    <tr>\n",
       "      <td>6</td>\n",
       "      <td>20</td>\n",
       "      <td>Gaming</td>\n",
       "      <td>212976</td>\n",
       "      <td>0</td>\n",
       "      <td>11241.696450</td>\n",
       "    </tr>\n",
       "    <tr>\n",
       "      <td>7</td>\n",
       "      <td>22</td>\n",
       "      <td>People &amp; Blogs</td>\n",
       "      <td>228426</td>\n",
       "      <td>0</td>\n",
       "      <td>3173.800935</td>\n",
       "    </tr>\n",
       "    <tr>\n",
       "      <td>8</td>\n",
       "      <td>23</td>\n",
       "      <td>Comedy</td>\n",
       "      <td>29865</td>\n",
       "      <td>0</td>\n",
       "      <td>2091.521840</td>\n",
       "    </tr>\n",
       "    <tr>\n",
       "      <td>9</td>\n",
       "      <td>24</td>\n",
       "      <td>Entertainment</td>\n",
       "      <td>1674420</td>\n",
       "      <td>0</td>\n",
       "      <td>4314.297772</td>\n",
       "    </tr>\n",
       "    <tr>\n",
       "      <td>10</td>\n",
       "      <td>25</td>\n",
       "      <td>News &amp; Politics</td>\n",
       "      <td>132439</td>\n",
       "      <td>0</td>\n",
       "      <td>1680.759550</td>\n",
       "    </tr>\n",
       "    <tr>\n",
       "      <td>11</td>\n",
       "      <td>26</td>\n",
       "      <td>Howto &amp; Style</td>\n",
       "      <td>66632</td>\n",
       "      <td>0</td>\n",
       "      <td>1320.284370</td>\n",
       "    </tr>\n",
       "    <tr>\n",
       "      <td>12</td>\n",
       "      <td>27</td>\n",
       "      <td>Education</td>\n",
       "      <td>11270</td>\n",
       "      <td>0</td>\n",
       "      <td>816.408213</td>\n",
       "    </tr>\n",
       "    <tr>\n",
       "      <td>13</td>\n",
       "      <td>28</td>\n",
       "      <td>Science &amp; Technology</td>\n",
       "      <td>47469</td>\n",
       "      <td>0</td>\n",
       "      <td>1894.378176</td>\n",
       "    </tr>\n",
       "    <tr>\n",
       "      <td>14</td>\n",
       "      <td>29</td>\n",
       "      <td>Nonprofits &amp; Activism</td>\n",
       "      <td>497847</td>\n",
       "      <td>0</td>\n",
       "      <td>58076.859649</td>\n",
       "    </tr>\n",
       "    <tr>\n",
       "      <td>15</td>\n",
       "      <td>43</td>\n",
       "      <td>Shows</td>\n",
       "      <td>616</td>\n",
       "      <td>66</td>\n",
       "      <td>429.964912</td>\n",
       "    </tr>\n",
       "  </tbody>\n",
       "</table>\n",
       "</div>"
      ],
      "text/plain": [
       "    id               category  highest_dislikes  lowest_dislikes  \\\n",
       "0    1       Film & Animation             38082                0   \n",
       "1    2       Autos & Vehicles             12290                0   \n",
       "2   10                  Music            343541                0   \n",
       "3   15         Pets & Animals              4899                0   \n",
       "4   17                 Sports            176903                0   \n",
       "5   19        Travel & Events              9000                0   \n",
       "6   20                 Gaming            212976                0   \n",
       "7   22         People & Blogs            228426                0   \n",
       "8   23                 Comedy             29865                0   \n",
       "9   24          Entertainment           1674420                0   \n",
       "10  25        News & Politics            132439                0   \n",
       "11  26          Howto & Style             66632                0   \n",
       "12  27              Education             11270                0   \n",
       "13  28   Science & Technology             47469                0   \n",
       "14  29  Nonprofits & Activism            497847                0   \n",
       "15  43                  Shows               616               66   \n",
       "\n",
       "    average_dislikes  \n",
       "0        2590.681450  \n",
       "1         632.838542  \n",
       "2        7907.757726  \n",
       "3         573.238043  \n",
       "4        2361.339006  \n",
       "5         846.833333  \n",
       "6       11241.696450  \n",
       "7        3173.800935  \n",
       "8        2091.521840  \n",
       "9        4314.297772  \n",
       "10       1680.759550  \n",
       "11       1320.284370  \n",
       "12        816.408213  \n",
       "13       1894.378176  \n",
       "14      58076.859649  \n",
       "15        429.964912  "
      ]
     },
     "execution_count": 15,
     "metadata": {},
     "output_type": "execute_result"
    }
   ],
   "source": [
    "dfDislikesUS = pd.merge(dfUScategory,dfDislikesUS,on=\"id\")\n",
    "\n",
    "print(\"\")\n",
    "print(\"DATA DISLIKES SETIAP KATEGORI DI REGION UNITED STATES\")\n",
    "dfDislikesUS"
   ]
  },
  {
   "cell_type": "markdown",
   "metadata": {},
   "source": [
    "### 4B. Data tertinggi, terendah, dan rata-rata jumlah komentar United States"
   ]
  },
  {
   "cell_type": "code",
   "execution_count": 16,
   "metadata": {},
   "outputs": [],
   "source": [
    "# memasukkan data ke dalam list\n",
    "data_comments_us = {\n",
    "    # a adalah hasil sorting array saat menemukan value yang unique dari id kategori data video region United States\n",
    "    'id' : a,\n",
    "    'highest_comments':[gUSvideo.get_group(items)['comment_count'].max() for items in dfUScategory['id']],\n",
    "    'lowest_comments':[gUSvideo.get_group(items)['comment_count'].min() for items in dfUScategory['id']],\n",
    "    'average_comments':[gUSvideo.get_group(items)['comment_count'].mean() for items in dfUScategory['id']\n",
    "                   ]}\n",
    "\n",
    "dfCommentsUS = pd.DataFrame(data_comments_us)"
   ]
  },
  {
   "cell_type": "code",
   "execution_count": 17,
   "metadata": {},
   "outputs": [
    {
     "name": "stdout",
     "output_type": "stream",
     "text": [
      "\n",
      "DATA COMMENTS SETIAP KATEGORI DI REGION UNITED STATES\n"
     ]
    },
    {
     "data": {
      "text/html": [
       "<div>\n",
       "<style scoped>\n",
       "    .dataframe tbody tr th:only-of-type {\n",
       "        vertical-align: middle;\n",
       "    }\n",
       "\n",
       "    .dataframe tbody tr th {\n",
       "        vertical-align: top;\n",
       "    }\n",
       "\n",
       "    .dataframe thead th {\n",
       "        text-align: right;\n",
       "    }\n",
       "</style>\n",
       "<table border=\"1\" class=\"dataframe\">\n",
       "  <thead>\n",
       "    <tr style=\"text-align: right;\">\n",
       "      <th></th>\n",
       "      <th>id</th>\n",
       "      <th>category</th>\n",
       "      <th>highest_comments</th>\n",
       "      <th>lowest_comments</th>\n",
       "      <th>average_comments</th>\n",
       "    </tr>\n",
       "  </thead>\n",
       "  <tbody>\n",
       "    <tr>\n",
       "      <td>0</td>\n",
       "      <td>1</td>\n",
       "      <td>Film &amp; Animation</td>\n",
       "      <td>108849</td>\n",
       "      <td>0</td>\n",
       "      <td>7627.744136</td>\n",
       "    </tr>\n",
       "    <tr>\n",
       "      <td>1</td>\n",
       "      <td>2</td>\n",
       "      <td>Autos &amp; Vehicles</td>\n",
       "      <td>10591</td>\n",
       "      <td>0</td>\n",
       "      <td>2042.830729</td>\n",
       "    </tr>\n",
       "    <tr>\n",
       "      <td>2</td>\n",
       "      <td>10</td>\n",
       "      <td>Music</td>\n",
       "      <td>1228655</td>\n",
       "      <td>0</td>\n",
       "      <td>19359.764524</td>\n",
       "    </tr>\n",
       "    <tr>\n",
       "      <td>3</td>\n",
       "      <td>15</td>\n",
       "      <td>Pets &amp; Animals</td>\n",
       "      <td>44063</td>\n",
       "      <td>0</td>\n",
       "      <td>2892.070652</td>\n",
       "    </tr>\n",
       "    <tr>\n",
       "      <td>4</td>\n",
       "      <td>17</td>\n",
       "      <td>Sports</td>\n",
       "      <td>83660</td>\n",
       "      <td>0</td>\n",
       "      <td>5148.185373</td>\n",
       "    </tr>\n",
       "    <tr>\n",
       "      <td>5</td>\n",
       "      <td>19</td>\n",
       "      <td>Travel &amp; Events</td>\n",
       "      <td>13631</td>\n",
       "      <td>0</td>\n",
       "      <td>2267.440299</td>\n",
       "    </tr>\n",
       "    <tr>\n",
       "      <td>6</td>\n",
       "      <td>20</td>\n",
       "      <td>Gaming</td>\n",
       "      <td>144795</td>\n",
       "      <td>0</td>\n",
       "      <td>18042.488372</td>\n",
       "    </tr>\n",
       "    <tr>\n",
       "      <td>7</td>\n",
       "      <td>22</td>\n",
       "      <td>People &amp; Blogs</td>\n",
       "      <td>383762</td>\n",
       "      <td>0</td>\n",
       "      <td>7719.013084</td>\n",
       "    </tr>\n",
       "    <tr>\n",
       "      <td>8</td>\n",
       "      <td>23</td>\n",
       "      <td>Comedy</td>\n",
       "      <td>81051</td>\n",
       "      <td>0</td>\n",
       "      <td>6521.718831</td>\n",
       "    </tr>\n",
       "    <tr>\n",
       "      <td>9</td>\n",
       "      <td>24</td>\n",
       "      <td>Entertainment</td>\n",
       "      <td>1361580</td>\n",
       "      <td>0</td>\n",
       "      <td>7383.229426</td>\n",
       "    </tr>\n",
       "    <tr>\n",
       "      <td>10</td>\n",
       "      <td>25</td>\n",
       "      <td>News &amp; Politics</td>\n",
       "      <td>38936</td>\n",
       "      <td>0</td>\n",
       "      <td>2428.400885</td>\n",
       "    </tr>\n",
       "    <tr>\n",
       "      <td>11</td>\n",
       "      <td>26</td>\n",
       "      <td>Howto &amp; Style</td>\n",
       "      <td>203884</td>\n",
       "      <td>0</td>\n",
       "      <td>5583.586589</td>\n",
       "    </tr>\n",
       "    <tr>\n",
       "      <td>12</td>\n",
       "      <td>27</td>\n",
       "      <td>Education</td>\n",
       "      <td>28835</td>\n",
       "      <td>0</td>\n",
       "      <td>3286.378019</td>\n",
       "    </tr>\n",
       "    <tr>\n",
       "      <td>13</td>\n",
       "      <td>28</td>\n",
       "      <td>Science &amp; Technology</td>\n",
       "      <td>180913</td>\n",
       "      <td>0</td>\n",
       "      <td>4993.721783</td>\n",
       "    </tr>\n",
       "    <tr>\n",
       "      <td>14</td>\n",
       "      <td>29</td>\n",
       "      <td>Nonprofits &amp; Activism</td>\n",
       "      <td>658130</td>\n",
       "      <td>0</td>\n",
       "      <td>84364.859649</td>\n",
       "    </tr>\n",
       "    <tr>\n",
       "      <td>15</td>\n",
       "      <td>43</td>\n",
       "      <td>Shows</td>\n",
       "      <td>2181</td>\n",
       "      <td>220</td>\n",
       "      <td>1668.719298</td>\n",
       "    </tr>\n",
       "  </tbody>\n",
       "</table>\n",
       "</div>"
      ],
      "text/plain": [
       "    id               category  highest_comments  lowest_comments  \\\n",
       "0    1       Film & Animation            108849                0   \n",
       "1    2       Autos & Vehicles             10591                0   \n",
       "2   10                  Music           1228655                0   \n",
       "3   15         Pets & Animals             44063                0   \n",
       "4   17                 Sports             83660                0   \n",
       "5   19        Travel & Events             13631                0   \n",
       "6   20                 Gaming            144795                0   \n",
       "7   22         People & Blogs            383762                0   \n",
       "8   23                 Comedy             81051                0   \n",
       "9   24          Entertainment           1361580                0   \n",
       "10  25        News & Politics             38936                0   \n",
       "11  26          Howto & Style            203884                0   \n",
       "12  27              Education             28835                0   \n",
       "13  28   Science & Technology            180913                0   \n",
       "14  29  Nonprofits & Activism            658130                0   \n",
       "15  43                  Shows              2181              220   \n",
       "\n",
       "    average_comments  \n",
       "0        7627.744136  \n",
       "1        2042.830729  \n",
       "2       19359.764524  \n",
       "3        2892.070652  \n",
       "4        5148.185373  \n",
       "5        2267.440299  \n",
       "6       18042.488372  \n",
       "7        7719.013084  \n",
       "8        6521.718831  \n",
       "9        7383.229426  \n",
       "10       2428.400885  \n",
       "11       5583.586589  \n",
       "12       3286.378019  \n",
       "13       4993.721783  \n",
       "14      84364.859649  \n",
       "15       1668.719298  "
      ]
     },
     "execution_count": 17,
     "metadata": {},
     "output_type": "execute_result"
    }
   ],
   "source": [
    "dfCommentsUS = pd.merge(dfUScategory,dfCommentsUS,on=\"id\")\n",
    "\n",
    "print(\"\")\n",
    "print(\"DATA COMMENTS SETIAP KATEGORI DI REGION UNITED STATES\")\n",
    "dfCommentsUS"
   ]
  },
  {
   "cell_type": "markdown",
   "metadata": {},
   "source": [
    "<b>------------------------------------------------------------------------------------------------------------------------------------------------------------------------------------------------------------------------------------------------------------------------------------------------------------------------------------------------------------------------------------------------------------------------------------</b>"
   ]
  },
  {
   "cell_type": "markdown",
   "metadata": {},
   "source": [
    "## B. BOXPLOTTING ABSOLUTE VALUE BERDASARKAN KATEGORI DATA VIDEO UNITED STATES"
   ]
  },
  {
   "cell_type": "markdown",
   "metadata": {},
   "source": [
    "Berikut adalah data jumlah viewer region United States apabila divisualisasikan dengan boxplot. Karena data terlalu beragam, outliernya terlalu tinggi dan tidak dapat dilihat dengan baik."
   ]
  },
  {
   "cell_type": "markdown",
   "metadata": {},
   "source": [
    "### 1B. Boxplotting Absolute Value Viewer Berdasarkan Kategori Data Video United States"
   ]
  },
  {
   "cell_type": "code",
   "execution_count": 18,
   "metadata": {},
   "outputs": [],
   "source": [
    "# list jumlah views wilayah United States berdasarkan array a\n",
    "data_view_us_boxplot = [gUSvideo.get_group(items)['views'].values for items in a]"
   ]
  },
  {
   "cell_type": "code",
   "execution_count": 19,
   "metadata": {},
   "outputs": [
    {
     "data": {
      "text/plain": [
       "Text(0, 0.5, 'Jumlah Viewer')"
      ]
     },
     "execution_count": 19,
     "metadata": {},
     "output_type": "execute_result"
    },
    {
     "data": {
      "image/png": "[encoded data removed]",
      "text/plain": [
       "<Figure size 1080x1080 with 1 Axes>"
      ]
     },
     "metadata": {
      "needs_background": "light"
     },
     "output_type": "display_data"
    }
   ],
   "source": [
    "fig = plt.figure(1, figsize=(15, 15))\n",
    "\n",
    "# membuat axes\n",
    "ax = fig.add_subplot(111)\n",
    "\n",
    "# boxplot\n",
    "ax.boxplot(data_view_us_boxplot)\n",
    "\n",
    "# penamaan x tick berdasarkan id kategori United States\n",
    "ax.set_xticklabels(dfUScategory['category'], rotation='vertical')\n",
    "\n",
    "# penamaan judul\n",
    "plt.title(\"ABSOLUTE VALUE VIEWER WILAYAH UNITED STATES\", fontsize=14)\n",
    "\n",
    "# penamaan label\n",
    "plt.xlabel(\"ID Kategori\", fontsize=14)\n",
    "plt.ylabel(\"Jumlah Viewer\", fontsize=14)"
   ]
  },
  {
   "cell_type": "markdown",
   "metadata": {},
   "source": [
    "Karena setelah dilakukan boxplotting outlier terlihat terlalu banyak maka diputuskan untuk dicoba dilakukan outlier removal dengan metode z-score dan IQR pada salah satu kategori yaitu Entertainment yang mana ada di urutan 9 pada array a."
   ]
  },
  {
   "cell_type": "markdown",
   "metadata": {},
   "source": [
    "#### Testing Z-Score Viewer Salah Satu Kategori Video United States Yaitu Entertainment"
   ]
  },
  {
   "cell_type": "code",
   "execution_count": 20,
   "metadata": {},
   "outputs": [
    {
     "data": {
      "text/html": [
       "<div>\n",
       "<style scoped>\n",
       "    .dataframe tbody tr th:only-of-type {\n",
       "        vertical-align: middle;\n",
       "    }\n",
       "\n",
       "    .dataframe tbody tr th {\n",
       "        vertical-align: top;\n",
       "    }\n",
       "\n",
       "    .dataframe thead th {\n",
       "        text-align: right;\n",
       "    }\n",
       "</style>\n",
       "<table border=\"1\" class=\"dataframe\">\n",
       "  <thead>\n",
       "    <tr style=\"text-align: right;\">\n",
       "      <th></th>\n",
       "      <th>id</th>\n",
       "      <th>viewer</th>\n",
       "    </tr>\n",
       "  </thead>\n",
       "  <tbody>\n",
       "    <tr>\n",
       "      <td>0</td>\n",
       "      <td>1</td>\n",
       "      <td>[826059, 50867, 288922, 52591, 1751064, 273673...</td>\n",
       "    </tr>\n",
       "    <tr>\n",
       "      <td>1</td>\n",
       "      <td>2</td>\n",
       "      <td>[98378, 7265, 4850, 704363, 341074, 93829, 551...</td>\n",
       "    </tr>\n",
       "    <tr>\n",
       "      <td>2</td>\n",
       "      <td>10</td>\n",
       "      <td>[687582, 17158531, 13917, 57169, 60506, 328330...</td>\n",
       "    </tr>\n",
       "    <tr>\n",
       "      <td>3</td>\n",
       "      <td>15</td>\n",
       "      <td>[207532, 45455, 284666, 426078, 46571, 279092,...</td>\n",
       "    </tr>\n",
       "    <tr>\n",
       "      <td>4</td>\n",
       "      <td>17</td>\n",
       "      <td>[81377, 945, 956169, 4569, 1044813, 162597, 18...</td>\n",
       "    </tr>\n",
       "    <tr>\n",
       "      <td>5</td>\n",
       "      <td>19</td>\n",
       "      <td>[141148, 311621, 571588, 1037561, 403564, 1118...</td>\n",
       "    </tr>\n",
       "    <tr>\n",
       "      <td>6</td>\n",
       "      <td>20</td>\n",
       "      <td>[154872, 161231, 224426, 463992, 55460, 686170...</td>\n",
       "    </tr>\n",
       "    <tr>\n",
       "      <td>7</td>\n",
       "      <td>22</td>\n",
       "      <td>[748374, 98966, 321053, 197062, 2744430, 17770...</td>\n",
       "    </tr>\n",
       "    <tr>\n",
       "      <td>8</td>\n",
       "      <td>23</td>\n",
       "      <td>[3191434, 295639, 33980, 605932, 3358068, 1482...</td>\n",
       "    </tr>\n",
       "    <tr>\n",
       "      <td>9</td>\n",
       "      <td>24</td>\n",
       "      <td>[2418783, 343168, 2095731, 2103417, 104578, 22...</td>\n",
       "    </tr>\n",
       "    <tr>\n",
       "      <td>10</td>\n",
       "      <td>25</td>\n",
       "      <td>[256426, 544770, 27943, 34785, 6473, 9132, 530...</td>\n",
       "    </tr>\n",
       "    <tr>\n",
       "      <td>11</td>\n",
       "      <td>26</td>\n",
       "      <td>[145921, 120727, 1456472, 7224515, 484185, 300...</td>\n",
       "    </tr>\n",
       "    <tr>\n",
       "      <td>12</td>\n",
       "      <td>27</td>\n",
       "      <td>[78044, 223871, 115791, 144418, 67429, 6412, 7...</td>\n",
       "    </tr>\n",
       "    <tr>\n",
       "      <td>13</td>\n",
       "      <td>28</td>\n",
       "      <td>[119180, 817732, 75752, 97007, 224019, 80705, ...</td>\n",
       "    </tr>\n",
       "    <tr>\n",
       "      <td>14</td>\n",
       "      <td>29</td>\n",
       "      <td>[1456, 1873, 2005, 2093, 1967, 2373, 2492, 705...</td>\n",
       "    </tr>\n",
       "    <tr>\n",
       "      <td>15</td>\n",
       "      <td>43</td>\n",
       "      <td>[110112, 134433, 146353, 153469, 161347, 16652...</td>\n",
       "    </tr>\n",
       "  </tbody>\n",
       "</table>\n",
       "</div>"
      ],
      "text/plain": [
       "    id                                             viewer\n",
       "0    1  [826059, 50867, 288922, 52591, 1751064, 273673...\n",
       "1    2  [98378, 7265, 4850, 704363, 341074, 93829, 551...\n",
       "2   10  [687582, 17158531, 13917, 57169, 60506, 328330...\n",
       "3   15  [207532, 45455, 284666, 426078, 46571, 279092,...\n",
       "4   17  [81377, 945, 956169, 4569, 1044813, 162597, 18...\n",
       "5   19  [141148, 311621, 571588, 1037561, 403564, 1118...\n",
       "6   20  [154872, 161231, 224426, 463992, 55460, 686170...\n",
       "7   22  [748374, 98966, 321053, 197062, 2744430, 17770...\n",
       "8   23  [3191434, 295639, 33980, 605932, 3358068, 1482...\n",
       "9   24  [2418783, 343168, 2095731, 2103417, 104578, 22...\n",
       "10  25  [256426, 544770, 27943, 34785, 6473, 9132, 530...\n",
       "11  26  [145921, 120727, 1456472, 7224515, 484185, 300...\n",
       "12  27  [78044, 223871, 115791, 144418, 67429, 6412, 7...\n",
       "13  28  [119180, 817732, 75752, 97007, 224019, 80705, ...\n",
       "14  29  [1456, 1873, 2005, 2093, 1967, 2373, 2492, 705...\n",
       "15  43  [110112, 134433, 146353, 153469, 161347, 16652..."
      ]
     },
     "execution_count": 20,
     "metadata": {},
     "output_type": "execute_result"
    }
   ],
   "source": [
    "data_view_us_test = {\n",
    "    \n",
    "    # a adalah hasil sorting array saat menemukan value yang unique dari id kategori data video region United States\n",
    "    'id' : a,\n",
    "    #penonton tertinggi\n",
    "    'viewer':[gUSvideo.get_group(items)['views'].values for items in dfUScategory['id']]\n",
    "}\n",
    "\n",
    "dfViewUStest = pd.DataFrame(data_view_us_test)\n",
    "dfViewUStest"
   ]
  },
  {
   "cell_type": "code",
   "execution_count": 21,
   "metadata": {},
   "outputs": [],
   "source": [
    "data_ent_us_view = {\n",
    "    'viewer' : dfViewUStest.loc[9, 'viewer'],\n",
    "    'z-score' : stats.zscore(dfViewUStest.loc[9, 'viewer'])\n",
    "}\n",
    "\n",
    "dfEntertainViewTest = pd.DataFrame(data_ent_us_view)"
   ]
  },
  {
   "cell_type": "code",
   "execution_count": 22,
   "metadata": {},
   "outputs": [
    {
     "data": {
      "text/html": [
       "<div>\n",
       "<style scoped>\n",
       "    .dataframe tbody tr th:only-of-type {\n",
       "        vertical-align: middle;\n",
       "    }\n",
       "\n",
       "    .dataframe tbody tr th {\n",
       "        vertical-align: top;\n",
       "    }\n",
       "\n",
       "    .dataframe thead th {\n",
       "        text-align: right;\n",
       "    }\n",
       "</style>\n",
       "<table border=\"1\" class=\"dataframe\">\n",
       "  <thead>\n",
       "    <tr style=\"text-align: right;\">\n",
       "      <th></th>\n",
       "      <th>viewer</th>\n",
       "      <th>z-score</th>\n",
       "    </tr>\n",
       "  </thead>\n",
       "  <tbody>\n",
       "    <tr>\n",
       "      <td>0</td>\n",
       "      <td>2418783</td>\n",
       "      <td>0.060337</td>\n",
       "    </tr>\n",
       "    <tr>\n",
       "      <td>1</td>\n",
       "      <td>343168</td>\n",
       "      <td>-0.296562</td>\n",
       "    </tr>\n",
       "    <tr>\n",
       "      <td>2</td>\n",
       "      <td>2095731</td>\n",
       "      <td>0.004788</td>\n",
       "    </tr>\n",
       "    <tr>\n",
       "      <td>3</td>\n",
       "      <td>2103417</td>\n",
       "      <td>0.006110</td>\n",
       "    </tr>\n",
       "    <tr>\n",
       "      <td>4</td>\n",
       "      <td>104578</td>\n",
       "      <td>-0.337587</td>\n",
       "    </tr>\n",
       "    <tr>\n",
       "      <td>...</td>\n",
       "      <td>...</td>\n",
       "      <td>...</td>\n",
       "    </tr>\n",
       "    <tr>\n",
       "      <td>9959</td>\n",
       "      <td>2003345</td>\n",
       "      <td>-0.011097</td>\n",
       "    </tr>\n",
       "    <tr>\n",
       "      <td>9960</td>\n",
       "      <td>1437051</td>\n",
       "      <td>-0.108470</td>\n",
       "    </tr>\n",
       "    <tr>\n",
       "      <td>9961</td>\n",
       "      <td>8607264</td>\n",
       "      <td>1.124435</td>\n",
       "    </tr>\n",
       "    <tr>\n",
       "      <td>9962</td>\n",
       "      <td>5564576</td>\n",
       "      <td>0.601250</td>\n",
       "    </tr>\n",
       "    <tr>\n",
       "      <td>9963</td>\n",
       "      <td>1066451</td>\n",
       "      <td>-0.172194</td>\n",
       "    </tr>\n",
       "  </tbody>\n",
       "</table>\n",
       "<p>9853 rows × 2 columns</p>\n",
       "</div>"
      ],
      "text/plain": [
       "       viewer   z-score\n",
       "0     2418783  0.060337\n",
       "1      343168 -0.296562\n",
       "2     2095731  0.004788\n",
       "3     2103417  0.006110\n",
       "4      104578 -0.337587\n",
       "...       ...       ...\n",
       "9959  2003345 -0.011097\n",
       "9960  1437051 -0.108470\n",
       "9961  8607264  1.124435\n",
       "9962  5564576  0.601250\n",
       "9963  1066451 -0.172194\n",
       "\n",
       "[9853 rows x 2 columns]"
      ]
     },
     "execution_count": 22,
     "metadata": {},
     "output_type": "execute_result"
    }
   ],
   "source": [
    "# Membuat Dataframe Baru yang telah difilter tanpa outlier\n",
    "dfEntertainViewTestz = dfEntertainViewTest[dfEntertainViewTest['z-score'] < 3]\n",
    "\n",
    "dfEntertainViewTestz"
   ]
  },
  {
   "cell_type": "code",
   "execution_count": 23,
   "metadata": {},
   "outputs": [
    {
     "data": {
      "text/plain": [
       "Text(0, 0.5, 'Jumlah Views')"
      ]
     },
     "execution_count": 23,
     "metadata": {},
     "output_type": "execute_result"
    },
    {
     "data": {
      "image/png": "[encoded data removed]",
      "text/plain": [
       "<Figure size 360x360 with 1 Axes>"
      ]
     },
     "metadata": {
      "needs_background": "light"
     },
     "output_type": "display_data"
    }
   ],
   "source": [
    "fig = plt.figure(1, figsize=(5, 5))\n",
    "\n",
    "# membuat axes\n",
    "ax = fig.add_subplot(111)\n",
    "\n",
    "# boxplot\n",
    "ax.boxplot(dfEntertainViewTestz['viewer'].values)\n",
    "\n",
    "# ax.set_ylim(0,1000)\n",
    "ax.set_xticklabels(\"\")\n",
    "\n",
    "# penamaan judul\n",
    "plt.title(\"TESTING BOXPLOT VIEWERS KATEGORI ENTERTAINMENT UNITED STATES SETELAH OUTLIER REMOVAL DENGAN Z-SCORE\", fontsize=14)\n",
    "\n",
    "plt.ylabel(\"Jumlah Views\", fontsize=14)"
   ]
  },
  {
   "cell_type": "markdown",
   "metadata": {},
   "source": [
    "Setelah dilakukan outlier removal dengan Z-Score masih terlihat bahwa outlier dianggap masih terlalu banyak hingga sulit untuk dibaca, maka diputuskan untuk mencoba dilakukan outlier removal dengan IQR"
   ]
  },
  {
   "cell_type": "markdown",
   "metadata": {},
   "source": [
    "Step untuk mendeteksi outlier salah satunya adalah dengan menemukan range bawah dan atas dari suatu data dengan cara berikut :\n",
    "1. Mengurutkan data dari nilai terendah\n",
    "2. Menghitung Q1 (kuartil 1)\n",
    "3. Menghitung Q3 (kuartil 3)\n",
    "4. Menghitung IQR = (Q3 - Q1)\n",
    "5. Menemukan range bawah data = Q1 -(1.5 * IQR)\n",
    "6. Menemukan range atas data = Q3 + (1.5 * IQR)"
   ]
  },
  {
   "cell_type": "code",
   "execution_count": 24,
   "metadata": {},
   "outputs": [
    {
     "name": "stdout",
     "output_type": "stream",
     "text": [
      "IQR Ent United States\n",
      "IQR = 1460351.5\n",
      "Lower = -1917132.5\n",
      "Upper = 3924273.5\n"
     ]
    }
   ],
   "source": [
    "Q1_test_ent_US = dfEntertainViewTest.viewer.quantile(0.25)\n",
    "Q3_test_ent_US = dfEntertainViewTest.viewer.quantile(0.75)\n",
    "IQR_test_ent_US = Q3_test_ent_US - Q1_test_ent_US\n",
    "lower_test_ent_US = Q1_test_ent_US  - (1.5 * IQR_test_ent_US)\n",
    "upper_test_ent_US =  Q3_test_ent_US + (1.5 * IQR_test_ent_US)\n",
    "\n",
    "print(\"IQR Ent United States\")\n",
    "print(\"IQR =\", IQR_test_ent_US)\n",
    "print(\"Lower =\", lower_test_ent_US)\n",
    "print(\"Upper =\", upper_test_ent_US)"
   ]
  },
  {
   "cell_type": "code",
   "execution_count": 25,
   "metadata": {},
   "outputs": [],
   "source": [
    "dfEntertainViewTest_IQRView = dfEntertainViewTest[(dfEntertainViewTest.viewer < upper_test_ent_US) & (dfEntertainViewTest.viewer > lower_test_ent_US)]"
   ]
  },
  {
   "cell_type": "code",
   "execution_count": 26,
   "metadata": {},
   "outputs": [
    {
     "data": {
      "text/plain": [
       "Text(0, 0.5, 'Jumlah Views')"
      ]
     },
     "execution_count": 26,
     "metadata": {},
     "output_type": "execute_result"
    },
    {
     "data": {
      "image/png": "[encoded data removed]",
      "text/plain": [
       "<Figure size 360x360 with 1 Axes>"
      ]
     },
     "metadata": {
      "needs_background": "light"
     },
     "output_type": "display_data"
    }
   ],
   "source": [
    "fig = plt.figure(1, figsize=(5, 5))\n",
    "\n",
    "# membuat axes\n",
    "ax = fig.add_subplot(111)\n",
    "\n",
    "# boxplot\n",
    "ax.boxplot(dfEntertainViewTest_IQRView['viewer'].values)\n",
    "\n",
    "# ax.set_ylim(0,1000)\n",
    "ax.set_xticklabels(\"\")\n",
    "\n",
    "# penamaan judul\n",
    "plt.title(\"BOXPLOT VIEWERS KATEGORI ENTERTAINMENT UNITED STATES SETELAH OUTLIER REMOVAL DENGAN IQR\", fontsize=14)\n",
    "\n",
    "plt.ylabel(\"Jumlah Views\", fontsize=14)"
   ]
  },
  {
   "cell_type": "markdown",
   "metadata": {},
   "source": [
    "Setelah dilakukan outlier removal dengan IQR masih terlihat bahwa outlier masih cukup sulit untuk dibaca, di sini akhirnya diputuskan untuk <b>menampilkan boxplot tanpa outlier</b>."
   ]
  },
  {
   "cell_type": "code",
   "execution_count": 27,
   "metadata": {},
   "outputs": [
    {
     "data": {
      "text/plain": [
       "Text(0, 0.5, 'Jumlah Viewer')"
      ]
     },
     "execution_count": 27,
     "metadata": {},
     "output_type": "execute_result"
    },
    {
     "data": {
      "image/png": "[encoded data removed]",
      "text/plain": [
       "<Figure size 1080x1080 with 1 Axes>"
      ]
     },
     "metadata": {
      "needs_background": "light"
     },
     "output_type": "display_data"
    }
   ],
   "source": [
    "fig = plt.figure(1, figsize=(15, 15))\n",
    "\n",
    "# membuat axes\n",
    "ax = fig.add_subplot(111)\n",
    "\n",
    "# boxplot\n",
    "ax.boxplot(data_view_us_boxplot, showfliers=False)\n",
    "\n",
    "# penamaan x tick berdasarkan id kategori United States\n",
    "ax.set_xticklabels(dfUScategory['category'], rotation='vertical')\n",
    "\n",
    "# penamaan judul\n",
    "plt.title(\"ABSOLUTE VALUE VIEWER WILAYAH UNITED STATES\", fontsize=14)\n",
    "\n",
    "# penamaan label\n",
    "plt.xlabel(\"ID Kategori\", fontsize=14)\n",
    "plt.ylabel(\"Jumlah Viewer\", fontsize=14)"
   ]
  },
  {
   "cell_type": "markdown",
   "metadata": {},
   "source": [
    "### 2B. Boxplotting Absolute Value Likes Berdasarkan Kategori Data Video United States"
   ]
  },
  {
   "cell_type": "code",
   "execution_count": 28,
   "metadata": {},
   "outputs": [],
   "source": [
    "# list jumlah views wilayah United States berdasarkan array a\n",
    "data_likes_us_boxplot = [gUSvideo.get_group(items)['likes'].values for items in a]"
   ]
  },
  {
   "cell_type": "code",
   "execution_count": 29,
   "metadata": {},
   "outputs": [
    {
     "data": {
      "text/plain": [
       "Text(0, 0.5, 'Jumlah Viewer')"
      ]
     },
     "execution_count": 29,
     "metadata": {},
     "output_type": "execute_result"
    },
    {
     "data": {
      "image/png": "[encoded data removed]",
      "text/plain": [
       "<Figure size 1080x1080 with 1 Axes>"
      ]
     },
     "metadata": {
      "needs_background": "light"
     },
     "output_type": "display_data"
    }
   ],
   "source": [
    "fig = plt.figure(1, figsize=(15, 15))\n",
    "\n",
    "# membuat axes\n",
    "ax = fig.add_subplot(111)\n",
    "\n",
    "# boxplot\n",
    "ax.boxplot(data_likes_us_boxplot, showfliers=False)\n",
    "\n",
    "# penamaan x tick berdasarkan id kategori United States\n",
    "ax.set_xticklabels(dfUScategory['category'], rotation='vertical')\n",
    "\n",
    "# penamaan judul\n",
    "plt.title(\"ABSOLUTE VALUE LIKES WILAYAH UNITED STATES\", fontsize=14)\n",
    "\n",
    "# penamaan label\n",
    "plt.xlabel(\"ID Kategori\", fontsize=14)\n",
    "plt.ylabel(\"Jumlah Viewer\", fontsize=14)"
   ]
  },
  {
   "cell_type": "markdown",
   "metadata": {},
   "source": [
    "### 3B. Boxplotting Absolute Value Dislikes Berdasarkan Kategori Data Video United States"
   ]
  },
  {
   "cell_type": "code",
   "execution_count": 30,
   "metadata": {},
   "outputs": [],
   "source": [
    "# list jumlah views wilayah United States berdasarkan array a\n",
    "data_dislikes_us_boxplot = [gUSvideo.get_group(items)['dislikes'].values for items in a]"
   ]
  },
  {
   "cell_type": "code",
   "execution_count": 31,
   "metadata": {},
   "outputs": [
    {
     "data": {
      "text/plain": [
       "Text(0, 0.5, 'Jumlah Viewer')"
      ]
     },
     "execution_count": 31,
     "metadata": {},
     "output_type": "execute_result"
    },
    {
     "data": {
      "image/png": "[encoded data removed]",
      "text/plain": [
       "<Figure size 1080x1080 with 1 Axes>"
      ]
     },
     "metadata": {
      "needs_background": "light"
     },
     "output_type": "display_data"
    }
   ],
   "source": [
    "fig = plt.figure(1, figsize=(15, 15))\n",
    "\n",
    "# membuat axes\n",
    "ax = fig.add_subplot(111)\n",
    "\n",
    "# boxplot\n",
    "ax.boxplot(data_view_us_boxplot, showfliers=False)\n",
    "\n",
    "# penamaan x tick berdasarkan id kategori United States\n",
    "ax.set_xticklabels(dfUScategory['category'], rotation='vertical')\n",
    "\n",
    "# penamaan judul\n",
    "plt.title(\"ABSOLUTE VALUE DISLIKES WILAYAH UNITED STATES\", fontsize=14)\n",
    "\n",
    "# penamaan label\n",
    "plt.xlabel(\"ID Kategori\", fontsize=14)\n",
    "plt.ylabel(\"Jumlah Viewer\", fontsize=14)"
   ]
  },
  {
   "cell_type": "markdown",
   "metadata": {},
   "source": [
    "### 4B. Boxplotting Absolute Value Jumlah Komentar Berdasarkan Kategori Data Video United States"
   ]
  },
  {
   "cell_type": "code",
   "execution_count": 32,
   "metadata": {},
   "outputs": [],
   "source": [
    "# list jumlah views wilayah United States berdasarkan array a\n",
    "data_view_us_boxplot = [gUSvideo.get_group(items)['views'].values for items in a]"
   ]
  },
  {
   "cell_type": "code",
   "execution_count": 33,
   "metadata": {},
   "outputs": [
    {
     "data": {
      "text/plain": [
       "Text(0, 0.5, 'Jumlah Viewer')"
      ]
     },
     "execution_count": 33,
     "metadata": {},
     "output_type": "execute_result"
    },
    {
     "data": {
      "image/png": "[encoded data removed]",
      "text/plain": [
       "<Figure size 1080x1080 with 1 Axes>"
      ]
     },
     "metadata": {
      "needs_background": "light"
     },
     "output_type": "display_data"
    }
   ],
   "source": [
    "fig = plt.figure(1, figsize=(15, 15))\n",
    "\n",
    "# membuat axes\n",
    "ax = fig.add_subplot(111)\n",
    "\n",
    "# boxplot\n",
    "ax.boxplot(data_view_us_boxplot, showfliers=False)\n",
    "\n",
    "# penamaan x tick berdasarkan id kategori United States\n",
    "ax.set_xticklabels(dfUScategory['category'], rotation='vertical')\n",
    "\n",
    "# penamaan judul\n",
    "plt.title(\"ABSOLUTE VALUE COMMENTS WILAYAH UNITED STATES\", fontsize=14)\n",
    "\n",
    "# penamaan label\n",
    "plt.xlabel(\"ID Kategori\", fontsize=14)\n",
    "plt.ylabel(\"Jumlah Viewer\", fontsize=14)"
   ]
  },
  {
   "cell_type": "markdown",
   "metadata": {},
   "source": [
    "<b>------------------------------------------------------------------------------------------------------------------------------------------------------------------------------------------------------------------------------------------------------------------------------------------------------------------------------------------------------------------------------------------------------------------------------------</b>"
   ]
  },
  {
   "cell_type": "markdown",
   "metadata": {},
   "source": [
    "## C. BOXPLOTTING RELATIVE VALUE BERDASARKAN KATEGORI DATA VIDEO UNITED STATES\n",
    "Karena melakukan boxplotting terhadap absolute value untuk jumlah views, likes, dislikes, dan comments tidak dapat dilihat dengan baik karena data terlalu diverse. Maka diputuskan untuk melakukan boxplotting likes, dislikes, dan comments terhadap views untuk setiap video kemudian dikalikan 100 agar range value terjaga mulai dari 0 hingga 100.\n",
    "\n",
    "\n",
    "<b>Operasinya adalah sebagai sebagai berikut :<br/>\n",
    "- Jumlah Likes / Jumlah Views * 100<br/>\n",
    "- Jumlah Dislikes / Jumlah Views * 100<br/>\n",
    "- Jumlah Comments / Jumlah Views * 100<br/></b>"
   ]
  },
  {
   "cell_type": "markdown",
   "metadata": {},
   "source": [
    "Untuk itu maka dataframe video perlu dimodifikasi dengan menghapus kolom yang tidak diperlukan dan menambahkan kolom baru dari setiap operasi yang dilakukan"
   ]
  },
  {
   "cell_type": "code",
   "execution_count": 34,
   "metadata": {},
   "outputs": [],
   "source": [
    "# drop kolom yang tidak perlu\n",
    "dfUS = dfUSvideos.drop([\n",
    "    'trending_date','channel_title','publish_time','tags','thumbnail_link','comments_disabled','ratings_disabled',\n",
    "  'video_error_or_removed','description'], axis=1)"
   ]
  },
  {
   "cell_type": "code",
   "execution_count": 35,
   "metadata": {},
   "outputs": [],
   "source": [
    "# Menambah kolom likes/views\n",
    "dfUS['likes/views(%)'] = dfUS['likes']/dfUS['views']*100"
   ]
  },
  {
   "cell_type": "code",
   "execution_count": 36,
   "metadata": {},
   "outputs": [],
   "source": [
    "# Menambah kolom dislikes/views\n",
    "dfUS['dislikes/views(%)'] = dfUS['dislikes']/dfUS['views']*100"
   ]
  },
  {
   "cell_type": "code",
   "execution_count": 37,
   "metadata": {},
   "outputs": [],
   "source": [
    "# Menambah kolom comments/views\n",
    "dfUS['comments/views(%)'] = dfUS['comment_count']/dfUS['views']*100"
   ]
  },
  {
   "cell_type": "markdown",
   "metadata": {},
   "source": [
    "Berikut adalah data video United States setelah dimodifikasi. Dataframe ditambah kolom sebagai berikut :\n",
    "<b>\n",
    "- likes/views\n",
    "- dislikes/views\n",
    "- comments/views\n",
    "</b>\n",
    "semua dalam persen (%)"
   ]
  },
  {
   "cell_type": "code",
   "execution_count": 38,
   "metadata": {},
   "outputs": [
    {
     "data": {
      "text/html": [
       "<div>\n",
       "<style scoped>\n",
       "    .dataframe tbody tr th:only-of-type {\n",
       "        vertical-align: middle;\n",
       "    }\n",
       "\n",
       "    .dataframe tbody tr th {\n",
       "        vertical-align: top;\n",
       "    }\n",
       "\n",
       "    .dataframe thead th {\n",
       "        text-align: right;\n",
       "    }\n",
       "</style>\n",
       "<table border=\"1\" class=\"dataframe\">\n",
       "  <thead>\n",
       "    <tr style=\"text-align: right;\">\n",
       "      <th></th>\n",
       "      <th>video_id</th>\n",
       "      <th>title</th>\n",
       "      <th>category_id</th>\n",
       "      <th>views</th>\n",
       "      <th>likes</th>\n",
       "      <th>dislikes</th>\n",
       "      <th>comment_count</th>\n",
       "      <th>likes/views(%)</th>\n",
       "      <th>dislikes/views(%)</th>\n",
       "      <th>comments/views(%)</th>\n",
       "    </tr>\n",
       "  </thead>\n",
       "  <tbody>\n",
       "    <tr>\n",
       "      <td>0</td>\n",
       "      <td>2kyS6SvSYSE</td>\n",
       "      <td>WE WANT TO TALK ABOUT OUR MARRIAGE</td>\n",
       "      <td>22</td>\n",
       "      <td>748374</td>\n",
       "      <td>57527</td>\n",
       "      <td>2966</td>\n",
       "      <td>15954</td>\n",
       "      <td>7.686932</td>\n",
       "      <td>0.396326</td>\n",
       "      <td>2.131822</td>\n",
       "    </tr>\n",
       "    <tr>\n",
       "      <td>1</td>\n",
       "      <td>1ZAPwfrtAFY</td>\n",
       "      <td>The Trump Presidency: Last Week Tonight with J...</td>\n",
       "      <td>24</td>\n",
       "      <td>2418783</td>\n",
       "      <td>97185</td>\n",
       "      <td>6146</td>\n",
       "      <td>12703</td>\n",
       "      <td>4.017930</td>\n",
       "      <td>0.254095</td>\n",
       "      <td>0.525181</td>\n",
       "    </tr>\n",
       "    <tr>\n",
       "      <td>2</td>\n",
       "      <td>5qpjK5DgCt4</td>\n",
       "      <td>Racist Superman | Rudy Mancuso, King Bach &amp; Le...</td>\n",
       "      <td>23</td>\n",
       "      <td>3191434</td>\n",
       "      <td>146033</td>\n",
       "      <td>5339</td>\n",
       "      <td>8181</td>\n",
       "      <td>4.575780</td>\n",
       "      <td>0.167292</td>\n",
       "      <td>0.256342</td>\n",
       "    </tr>\n",
       "    <tr>\n",
       "      <td>3</td>\n",
       "      <td>puqaWrEC7tY</td>\n",
       "      <td>Nickelback Lyrics: Real or Fake?</td>\n",
       "      <td>24</td>\n",
       "      <td>343168</td>\n",
       "      <td>10172</td>\n",
       "      <td>666</td>\n",
       "      <td>2146</td>\n",
       "      <td>2.964146</td>\n",
       "      <td>0.194074</td>\n",
       "      <td>0.625350</td>\n",
       "    </tr>\n",
       "    <tr>\n",
       "      <td>4</td>\n",
       "      <td>d380meD0W0M</td>\n",
       "      <td>I Dare You: GOING BALD!?</td>\n",
       "      <td>24</td>\n",
       "      <td>2095731</td>\n",
       "      <td>132235</td>\n",
       "      <td>1989</td>\n",
       "      <td>17518</td>\n",
       "      <td>6.309732</td>\n",
       "      <td>0.094907</td>\n",
       "      <td>0.835890</td>\n",
       "    </tr>\n",
       "  </tbody>\n",
       "</table>\n",
       "</div>"
      ],
      "text/plain": [
       "      video_id                                              title  \\\n",
       "0  2kyS6SvSYSE                 WE WANT TO TALK ABOUT OUR MARRIAGE   \n",
       "1  1ZAPwfrtAFY  The Trump Presidency: Last Week Tonight with J...   \n",
       "2  5qpjK5DgCt4  Racist Superman | Rudy Mancuso, King Bach & Le...   \n",
       "3  puqaWrEC7tY                   Nickelback Lyrics: Real or Fake?   \n",
       "4  d380meD0W0M                           I Dare You: GOING BALD!?   \n",
       "\n",
       "   category_id    views   likes  dislikes  comment_count  likes/views(%)  \\\n",
       "0           22   748374   57527      2966          15954        7.686932   \n",
       "1           24  2418783   97185      6146          12703        4.017930   \n",
       "2           23  3191434  146033      5339           8181        4.575780   \n",
       "3           24   343168   10172       666           2146        2.964146   \n",
       "4           24  2095731  132235      1989          17518        6.309732   \n",
       "\n",
       "   dislikes/views(%)  comments/views(%)  \n",
       "0           0.396326           2.131822  \n",
       "1           0.254095           0.525181  \n",
       "2           0.167292           0.256342  \n",
       "3           0.194074           0.625350  \n",
       "4           0.094907           0.835890  "
      ]
     },
     "execution_count": 38,
     "metadata": {},
     "output_type": "execute_result"
    }
   ],
   "source": [
    "dfUS.head()"
   ]
  },
  {
   "cell_type": "markdown",
   "metadata": {},
   "source": [
    "Karena data video telah dimodifikasi, maka pengelompokan ulang berdasarkan id kategori perlu dilakukan kembali"
   ]
  },
  {
   "cell_type": "code",
   "execution_count": 39,
   "metadata": {},
   "outputs": [],
   "source": [
    "gUSvideo = dfUS.groupby('category_id')"
   ]
  },
  {
   "cell_type": "code",
   "execution_count": 40,
   "metadata": {},
   "outputs": [
    {
     "data": {
      "text/html": [
       "<div>\n",
       "<style scoped>\n",
       "    .dataframe tbody tr th:only-of-type {\n",
       "        vertical-align: middle;\n",
       "    }\n",
       "\n",
       "    .dataframe tbody tr th {\n",
       "        vertical-align: top;\n",
       "    }\n",
       "\n",
       "    .dataframe thead th {\n",
       "        text-align: right;\n",
       "    }\n",
       "</style>\n",
       "<table border=\"1\" class=\"dataframe\">\n",
       "  <thead>\n",
       "    <tr style=\"text-align: right;\">\n",
       "      <th></th>\n",
       "      <th>id</th>\n",
       "      <th>category</th>\n",
       "      <th>likes/views(%)</th>\n",
       "      <th>dislikes/views(%)</th>\n",
       "      <th>comments/views(%)</th>\n",
       "    </tr>\n",
       "  </thead>\n",
       "  <tbody>\n",
       "    <tr>\n",
       "      <td>0</td>\n",
       "      <td>1</td>\n",
       "      <td>Film &amp; Animation</td>\n",
       "      <td>[0.42890398869814383, 1.405626437572493, 2.601...</td>\n",
       "      <td>[0.014405750678825604, 0.4678868421569977, 0.2...</td>\n",
       "      <td>[0.041159287653787444, 0.4836141309689975, 0.7...</td>\n",
       "    </tr>\n",
       "    <tr>\n",
       "      <td>1</td>\n",
       "      <td>2</td>\n",
       "      <td>Autos &amp; Vehicles</td>\n",
       "      <td>[4.101526764113928, 1.2250516173434274, 0.4536...</td>\n",
       "      <td>[0.5031612758950172, 0.11011699931176876, 0.02...</td>\n",
       "      <td>[0.49401288906056234, 0.30282174810736406, 0.0...</td>\n",
       "    </tr>\n",
       "    <tr>\n",
       "      <td>2</td>\n",
       "      <td>10</td>\n",
       "      <td>Music</td>\n",
       "      <td>[16.607182852372517, 4.5890816643919, 9.470431...</td>\n",
       "      <td>[0.19386778595134835, 0.25305196581222483, 0.1...</td>\n",
       "      <td>[1.2174547908467643, 0.7336408926848109, 0.546...</td>\n",
       "    </tr>\n",
       "    <tr>\n",
       "      <td>3</td>\n",
       "      <td>15</td>\n",
       "      <td>Pets &amp; Animals</td>\n",
       "      <td>[3.6008904650849027, 5.0203497965020345, 5.759...</td>\n",
       "      <td>[0.11853593662664072, 0.07699923000769993, 0.0...</td>\n",
       "      <td>[1.0215292099531639, 0.037399626003739965, 0.3...</td>\n",
       "    </tr>\n",
       "    <tr>\n",
       "      <td>4</td>\n",
       "      <td>17</td>\n",
       "      <td>Sports</td>\n",
       "      <td>[0.8048957322093465, 0.7407407407407408, 0.210...</td>\n",
       "      <td>[0.030721211153028498, 0.5291005291005291, 0.2...</td>\n",
       "      <td>[0.21750617496344177, 0.8465608465608466, 0.15...</td>\n",
       "    </tr>\n",
       "    <tr>\n",
       "      <td>5</td>\n",
       "      <td>19</td>\n",
       "      <td>Travel &amp; Events</td>\n",
       "      <td>[1.1767789837617253, 0.7781888897089734, 0.067...</td>\n",
       "      <td>[0.04959333465582226, 0.04653088206507264, 0.0...</td>\n",
       "      <td>[0.1672003854110579, 0.14921972524316396, 0.01...</td>\n",
       "    </tr>\n",
       "    <tr>\n",
       "      <td>6</td>\n",
       "      <td>20</td>\n",
       "      <td>Gaming</td>\n",
       "      <td>[4.960870912753758, 4.839640019599209, 7.92421...</td>\n",
       "      <td>[0.10589389947827885, 0.10481855226352253, 0.1...</td>\n",
       "      <td>[1.1196342786300946, 0.9173173893357978, 1.230...</td>\n",
       "    </tr>\n",
       "    <tr>\n",
       "      <td>7</td>\n",
       "      <td>22</td>\n",
       "      <td>People &amp; Blogs</td>\n",
       "      <td>[7.686931935101968, 2.5119738091869936, 1.3863...</td>\n",
       "      <td>[0.39632590122051276, 0.1859224380090132, 0.55...</td>\n",
       "      <td>[2.131821789639939, 0.537558353373886, 0.27877...</td>\n",
       "    </tr>\n",
       "    <tr>\n",
       "      <td>8</td>\n",
       "      <td>23</td>\n",
       "      <td>Comedy</td>\n",
       "      <td>[4.575780041197781, 2.7097236832758873, 14.373...</td>\n",
       "      <td>[0.1672915686177436, 0.21580373360754165, 0.15...</td>\n",
       "      <td>[0.2563424466869752, 0.4248424598919628, 0.688...</td>\n",
       "    </tr>\n",
       "    <tr>\n",
       "      <td>9</td>\n",
       "      <td>24</td>\n",
       "      <td>Entertainment</td>\n",
       "      <td>[4.017929677858659, 2.9641458411040658, 6.3097...</td>\n",
       "      <td>[0.2540947244957485, 0.194074039537486, 0.0949...</td>\n",
       "      <td>[0.5251814652244537, 0.6253496829541216, 0.835...</td>\n",
       "    </tr>\n",
       "    <tr>\n",
       "      <td>10</td>\n",
       "      <td>25</td>\n",
       "      <td>News &amp; Politics</td>\n",
       "      <td>[4.9347570059198365, 1.4406079629935569, 0.558...</td>\n",
       "      <td>[0.5315373636058746, 0.21495309947317218, 0.12...</td>\n",
       "      <td>[0.9234632993534198, 0.7307671127264717, 0.297...</td>\n",
       "    </tr>\n",
       "    <tr>\n",
       "      <td>11</td>\n",
       "      <td>26</td>\n",
       "      <td>Howto &amp; Style</td>\n",
       "      <td>[1.1698110621500675, 7.48217051695147, 2.30042...</td>\n",
       "      <td>[0.39610474160675985, 0.18554258782211103, 0.1...</td>\n",
       "      <td>[0.4612084621130612, 1.1149121571810778, 0.148...</td>\n",
       "    </tr>\n",
       "    <tr>\n",
       "      <td>12</td>\n",
       "      <td>27</td>\n",
       "      <td>Education</td>\n",
       "      <td>[6.916611142432474, 3.761541244734691, 8.27870...</td>\n",
       "      <td>[0.06791040951258265, 0.0853169905883299, 0.06...</td>\n",
       "      <td>[0.4933114653272513, 0.5422765789226832, 2.418...</td>\n",
       "    </tr>\n",
       "    <tr>\n",
       "      <td>13</td>\n",
       "      <td>28</td>\n",
       "      <td>Science &amp; Technology</td>\n",
       "      <td>[8.191810706494378, 2.8937353558378542, 12.433...</td>\n",
       "      <td>[0.42876321530458134, 0.09514119540387314, 0.0...</td>\n",
       "      <td>[1.203222017116966, 0.4196974069744122, 1.6237...</td>\n",
       "    </tr>\n",
       "    <tr>\n",
       "      <td>14</td>\n",
       "      <td>29</td>\n",
       "      <td>Nonprofits &amp; Activism</td>\n",
       "      <td>[0.0, 0.0, 0.0, 0.0, 0.9659379766141332, 0.800...</td>\n",
       "      <td>[0.0, 0.0, 0.0, 0.0, 0.0, 0.0, 0.0401284109149...</td>\n",
       "      <td>[0.0, 0.0, 0.0, 0.0, 0.1525165226232842, 0.126...</td>\n",
       "    </tr>\n",
       "    <tr>\n",
       "      <td>15</td>\n",
       "      <td>43</td>\n",
       "      <td>Shows</td>\n",
       "      <td>[3.221265620459169, 3.0349690924103454, 2.9217...</td>\n",
       "      <td>[0.16346992153443765, 0.15026072467325732, 0.1...</td>\n",
       "      <td>[1.295045045045045, 1.2236578816213282, 1.1793...</td>\n",
       "    </tr>\n",
       "  </tbody>\n",
       "</table>\n",
       "</div>"
      ],
      "text/plain": [
       "    id               category  \\\n",
       "0    1       Film & Animation   \n",
       "1    2       Autos & Vehicles   \n",
       "2   10                  Music   \n",
       "3   15         Pets & Animals   \n",
       "4   17                 Sports   \n",
       "5   19        Travel & Events   \n",
       "6   20                 Gaming   \n",
       "7   22         People & Blogs   \n",
       "8   23                 Comedy   \n",
       "9   24          Entertainment   \n",
       "10  25        News & Politics   \n",
       "11  26          Howto & Style   \n",
       "12  27              Education   \n",
       "13  28   Science & Technology   \n",
       "14  29  Nonprofits & Activism   \n",
       "15  43                  Shows   \n",
       "\n",
       "                                       likes/views(%)  \\\n",
       "0   [0.42890398869814383, 1.405626437572493, 2.601...   \n",
       "1   [4.101526764113928, 1.2250516173434274, 0.4536...   \n",
       "2   [16.607182852372517, 4.5890816643919, 9.470431...   \n",
       "3   [3.6008904650849027, 5.0203497965020345, 5.759...   \n",
       "4   [0.8048957322093465, 0.7407407407407408, 0.210...   \n",
       "5   [1.1767789837617253, 0.7781888897089734, 0.067...   \n",
       "6   [4.960870912753758, 4.839640019599209, 7.92421...   \n",
       "7   [7.686931935101968, 2.5119738091869936, 1.3863...   \n",
       "8   [4.575780041197781, 2.7097236832758873, 14.373...   \n",
       "9   [4.017929677858659, 2.9641458411040658, 6.3097...   \n",
       "10  [4.9347570059198365, 1.4406079629935569, 0.558...   \n",
       "11  [1.1698110621500675, 7.48217051695147, 2.30042...   \n",
       "12  [6.916611142432474, 3.761541244734691, 8.27870...   \n",
       "13  [8.191810706494378, 2.8937353558378542, 12.433...   \n",
       "14  [0.0, 0.0, 0.0, 0.0, 0.9659379766141332, 0.800...   \n",
       "15  [3.221265620459169, 3.0349690924103454, 2.9217...   \n",
       "\n",
       "                                    dislikes/views(%)  \\\n",
       "0   [0.014405750678825604, 0.4678868421569977, 0.2...   \n",
       "1   [0.5031612758950172, 0.11011699931176876, 0.02...   \n",
       "2   [0.19386778595134835, 0.25305196581222483, 0.1...   \n",
       "3   [0.11853593662664072, 0.07699923000769993, 0.0...   \n",
       "4   [0.030721211153028498, 0.5291005291005291, 0.2...   \n",
       "5   [0.04959333465582226, 0.04653088206507264, 0.0...   \n",
       "6   [0.10589389947827885, 0.10481855226352253, 0.1...   \n",
       "7   [0.39632590122051276, 0.1859224380090132, 0.55...   \n",
       "8   [0.1672915686177436, 0.21580373360754165, 0.15...   \n",
       "9   [0.2540947244957485, 0.194074039537486, 0.0949...   \n",
       "10  [0.5315373636058746, 0.21495309947317218, 0.12...   \n",
       "11  [0.39610474160675985, 0.18554258782211103, 0.1...   \n",
       "12  [0.06791040951258265, 0.0853169905883299, 0.06...   \n",
       "13  [0.42876321530458134, 0.09514119540387314, 0.0...   \n",
       "14  [0.0, 0.0, 0.0, 0.0, 0.0, 0.0, 0.0401284109149...   \n",
       "15  [0.16346992153443765, 0.15026072467325732, 0.1...   \n",
       "\n",
       "                                    comments/views(%)  \n",
       "0   [0.041159287653787444, 0.4836141309689975, 0.7...  \n",
       "1   [0.49401288906056234, 0.30282174810736406, 0.0...  \n",
       "2   [1.2174547908467643, 0.7336408926848109, 0.546...  \n",
       "3   [1.0215292099531639, 0.037399626003739965, 0.3...  \n",
       "4   [0.21750617496344177, 0.8465608465608466, 0.15...  \n",
       "5   [0.1672003854110579, 0.14921972524316396, 0.01...  \n",
       "6   [1.1196342786300946, 0.9173173893357978, 1.230...  \n",
       "7   [2.131821789639939, 0.537558353373886, 0.27877...  \n",
       "8   [0.2563424466869752, 0.4248424598919628, 0.688...  \n",
       "9   [0.5251814652244537, 0.6253496829541216, 0.835...  \n",
       "10  [0.9234632993534198, 0.7307671127264717, 0.297...  \n",
       "11  [0.4612084621130612, 1.1149121571810778, 0.148...  \n",
       "12  [0.4933114653272513, 0.5422765789226832, 2.418...  \n",
       "13  [1.203222017116966, 0.4196974069744122, 1.6237...  \n",
       "14  [0.0, 0.0, 0.0, 0.0, 0.1525165226232842, 0.126...  \n",
       "15  [1.295045045045045, 1.2236578816213282, 1.1793...  "
      ]
     },
     "execution_count": 40,
     "metadata": {},
     "output_type": "execute_result"
    }
   ],
   "source": [
    "data_relative_views_us = {\n",
    "    \n",
    "    # a adalah hasil sorting array saat menemukan value yang unique dari id kategori data video region United States\n",
    "    'id' : a,\n",
    "    'category' : [i for i in dfUScategory['category']],\n",
    "    'likes/views(%)': [gUSvideo.get_group(items)['likes/views(%)'].values for items in dfUScategory['id']],\n",
    "    'dislikes/views(%)': [gUSvideo.get_group(items)['dislikes/views(%)'].values for items in dfUScategory['id']],\n",
    "    'comments/views(%)': [gUSvideo.get_group(items)['comments/views(%)'].values for items in dfUScategory['id']]\n",
    "}\n",
    "\n",
    "dfRelativeViewsUS = pd.DataFrame(data_relative_views_us)\n",
    "dfRelativeViewsUS"
   ]
  },
  {
   "cell_type": "markdown",
   "metadata": {},
   "source": [
    "### 1C. Boxplotting Relative Value Likes/Views Data Video United States"
   ]
  },
  {
   "cell_type": "markdown",
   "metadata": {},
   "source": [
    "#### Berikut adalah hasil boxplot jumlah likes terhadap jumlah views di United States"
   ]
  },
  {
   "cell_type": "code",
   "execution_count": 41,
   "metadata": {},
   "outputs": [
    {
     "data": {
      "text/plain": [
       "Text(0, 0.5, 'LIKES/VIEWS')"
      ]
     },
     "execution_count": 41,
     "metadata": {},
     "output_type": "execute_result"
    },
    {
     "data": {
      "image/png": "[encoded data removed]",
      "text/plain": [
       "<Figure size 1080x1080 with 1 Axes>"
      ]
     },
     "metadata": {
      "needs_background": "light"
     },
     "output_type": "display_data"
    }
   ],
   "source": [
    "fig = plt.figure(1, figsize=(15, 15))\n",
    "\n",
    "# membuat axes\n",
    "ax = fig.add_subplot(111)\n",
    "\n",
    "# boxplot\n",
    "ax.boxplot(dfRelativeViewsUS['likes/views(%)'].values, showfliers=False)\n",
    "\n",
    "# penamaan x tick\n",
    "ax.set_xticklabels(dfRelativeViewsUS['category'], rotation='vertical')\n",
    "\n",
    "# penamaan judul\n",
    "plt.title(\"RELATIVE VALUE LIKES/VIEWS WILAYAH UNITED STATES\", fontsize=14)\n",
    "\n",
    "# penamaan label\n",
    "plt.xlabel(\"KATEGORI\", fontsize=14)\n",
    "plt.ylabel(\"LIKES/VIEWS\", fontsize=14)"
   ]
  },
  {
   "cell_type": "markdown",
   "metadata": {},
   "source": [
    "### 2C. Boxplotting Relative Value Dislikes/Views Data Video United States"
   ]
  },
  {
   "cell_type": "markdown",
   "metadata": {},
   "source": [
    "#### Berikut adalah hasil boxplot jumlah dislikes terhadap jumlah views di United States"
   ]
  },
  {
   "cell_type": "code",
   "execution_count": 42,
   "metadata": {},
   "outputs": [
    {
     "data": {
      "text/plain": [
       "Text(0, 0.5, 'DISLIKES/VIEWS')"
      ]
     },
     "execution_count": 42,
     "metadata": {},
     "output_type": "execute_result"
    },
    {
     "data": {
      "image/png": "[encoded data removed]",
      "text/plain": [
       "<Figure size 1080x1080 with 1 Axes>"
      ]
     },
     "metadata": {
      "needs_background": "light"
     },
     "output_type": "display_data"
    }
   ],
   "source": [
    "fig = plt.figure(1, figsize=(15, 15))\n",
    "\n",
    "# membuat axes\n",
    "ax = fig.add_subplot(111)\n",
    "\n",
    "# boxplot\n",
    "ax.boxplot(dfRelativeViewsUS['dislikes/views(%)'].values, showfliers=False)\n",
    "\n",
    "# penamaan x tick\n",
    "ax.set_xticklabels(dfRelativeViewsUS['category'], rotation='vertical')\n",
    "\n",
    "# penamaan judul\n",
    "plt.title(\"RELATIVE VALUE DISLIKES/VIEWS WILAYAH UNITED STATES\", fontsize=14)\n",
    "\n",
    "# penamaan label\n",
    "plt.xlabel(\"KATEGORI\", fontsize=14)\n",
    "plt.ylabel(\"DISLIKES/VIEWS\", fontsize=14)"
   ]
  },
  {
   "cell_type": "code",
   "execution_count": 43,
   "metadata": {},
   "outputs": [
    {
     "data": {
      "text/plain": [
       "Text(0, 0.5, 'COMMENTS/VIEWS')"
      ]
     },
     "execution_count": 43,
     "metadata": {},
     "output_type": "execute_result"
    },
    {
     "data": {
      "image/png": "[encoded data removed]",
      "text/plain": [
       "<Figure size 1080x1080 with 1 Axes>"
      ]
     },
     "metadata": {
      "needs_background": "light"
     },
     "output_type": "display_data"
    }
   ],
   "source": [
    "fig = plt.figure(1, figsize=(15, 15))\n",
    "\n",
    "# membuat axes\n",
    "ax = fig.add_subplot(111)\n",
    "\n",
    "# boxplot\n",
    "ax.boxplot(dfRelativeViewsUS['comments/views(%)'].values, showfliers=False)\n",
    "\n",
    "# penamaan x tick\n",
    "ax.set_xticklabels(dfRelativeViewsUS['category'], rotation='vertical')\n",
    "\n",
    "# penamaan judul\n",
    "plt.title(\"RELATIVE VALUE COMMENTS/VIEWS WILAYAH UNITED STATES\", fontsize=14)\n",
    "\n",
    "# penamaan label\n",
    "plt.xlabel(\"KATEGORI\", fontsize=14)\n",
    "plt.ylabel(\"COMMENTS/VIEWS\", fontsize=14)"
   ]
  },
  {
   "cell_type": "markdown",
   "metadata": {},
   "source": [
    "<b>------------------------------------------------------------------------------------------------------------------------------------------------------------------------------------------------------------------------------------------------------------------------------------------------------------------------------------------------------------------------------------------------------------------------------------------------------------------------------------------------------------------------------------------------------------------------------------------------------------------------------------------------------------------------------------------------------------------------------------------------------------------------------------------------------------------------------------------------------------------------------------------------------------------------------------------------------------------------------------------------------------------------------------------------------------------------------------------------------------------------------------------------------------------------------------------------------------------------------------------------------------------------------------------------------------</b></b>"
   ]
  },
  {
   "cell_type": "markdown",
   "metadata": {},
   "source": [
    "## MENCARI PENYEBAB FIRST TRENDING DI UNITED STATES"
   ]
  },
  {
   "cell_type": "markdown",
   "metadata": {},
   "source": [
    "Di sini masing-masing datasets dari setiap region ditransform ulang dengan hanya mencantumkan data video pada saat pertama kali video tersebut mengalami trend"
   ]
  },
  {
   "cell_type": "markdown",
   "metadata": {},
   "source": [
    "Dataframe baru dibuat dari masing-masing datasets dengan <b>grouping by video_id</b> lalu digunakan <b>loc</b> untuk melokasikan data berdasarkan index, lalu yang dicari adalah trending_date pertama kali, <b>maka dicari index terkecil dari masing-masing video_id berdasarkan trending_datenya dengan menggunakan idxmin()</b>"
   ]
  },
  {
   "cell_type": "code",
   "execution_count": 44,
   "metadata": {},
   "outputs": [],
   "source": [
    "dfUSvideosFirstTrend = dfUSvideos.loc[dfUSvideos.groupby('video_id')['trending_date'].idxmin()][['video_id','trending_date','title','channel_title','category_id','publish_time','tags','views','likes','dislikes','comment_count']]"
   ]
  },
  {
   "cell_type": "markdown",
   "metadata": {},
   "source": [
    "### Sorting"
   ]
  },
  {
   "cell_type": "markdown",
   "metadata": {},
   "source": [
    "Dilakukan reindex untuk masing-masing dataframe berdasarkan video_id dan trending_date nya"
   ]
  },
  {
   "cell_type": "code",
   "execution_count": 45,
   "metadata": {},
   "outputs": [],
   "source": [
    "dfUSvideosFirstTrend = dfUSvideosFirstTrend.sort_values(by=['video_id','trending_date']).reset_index(drop=True)"
   ]
  },
  {
   "cell_type": "markdown",
   "metadata": {},
   "source": [
    "#### DATA VIDEO FIRST TREND UNITED STATES"
   ]
  },
  {
   "cell_type": "markdown",
   "metadata": {},
   "source": [
    "Berikut adalah contoh dataframe video United States setelah dimodifikasi dengan hanya menampilkan data-data video saat pertama kali masuk trending"
   ]
  },
  {
   "cell_type": "code",
   "execution_count": 46,
   "metadata": {},
   "outputs": [
    {
     "data": {
      "text/html": [
       "<div>\n",
       "<style scoped>\n",
       "    .dataframe tbody tr th:only-of-type {\n",
       "        vertical-align: middle;\n",
       "    }\n",
       "\n",
       "    .dataframe tbody tr th {\n",
       "        vertical-align: top;\n",
       "    }\n",
       "\n",
       "    .dataframe thead th {\n",
       "        text-align: right;\n",
       "    }\n",
       "</style>\n",
       "<table border=\"1\" class=\"dataframe\">\n",
       "  <thead>\n",
       "    <tr style=\"text-align: right;\">\n",
       "      <th></th>\n",
       "      <th>video_id</th>\n",
       "      <th>trending_date</th>\n",
       "      <th>title</th>\n",
       "      <th>channel_title</th>\n",
       "      <th>category_id</th>\n",
       "      <th>publish_time</th>\n",
       "      <th>tags</th>\n",
       "      <th>views</th>\n",
       "      <th>likes</th>\n",
       "      <th>dislikes</th>\n",
       "      <th>comment_count</th>\n",
       "    </tr>\n",
       "  </thead>\n",
       "  <tbody>\n",
       "    <tr>\n",
       "      <td>0</td>\n",
       "      <td>-0CMnp02rNY</td>\n",
       "      <td>2018-06-06</td>\n",
       "      <td>Mindy Kaling's Daughter Had the Perfect Reacti...</td>\n",
       "      <td>TheEllenShow</td>\n",
       "      <td>24</td>\n",
       "      <td>2018-06-04T13:00:00.000Z</td>\n",
       "      <td>ellen|\"ellen degeneres\"|\"the ellen show\"|\"elle...</td>\n",
       "      <td>475965</td>\n",
       "      <td>6531</td>\n",
       "      <td>172</td>\n",
       "      <td>271</td>\n",
       "    </tr>\n",
       "    <tr>\n",
       "      <td>1</td>\n",
       "      <td>-0NYY8cqdiQ</td>\n",
       "      <td>2018-02-01</td>\n",
       "      <td>Megan Mullally Didn't Notice the Interesting P...</td>\n",
       "      <td>TheEllenShow</td>\n",
       "      <td>24</td>\n",
       "      <td>2018-01-29T14:00:39.000Z</td>\n",
       "      <td>megan mullally|\"megan\"|\"mullally\"|\"will and gr...</td>\n",
       "      <td>563746</td>\n",
       "      <td>4429</td>\n",
       "      <td>54</td>\n",
       "      <td>94</td>\n",
       "    </tr>\n",
       "    <tr>\n",
       "      <td>2</td>\n",
       "      <td>-1Hm41N0dUs</td>\n",
       "      <td>2018-04-29</td>\n",
       "      <td>Cast of Avengers: Infinity War Draws Their Cha...</td>\n",
       "      <td>Jimmy Kimmel Live</td>\n",
       "      <td>23</td>\n",
       "      <td>2018-04-27T07:30:02.000Z</td>\n",
       "      <td>jimmy|\"jimmy kimmel\"|\"jimmy kimmel live\"|\"late...</td>\n",
       "      <td>1566807</td>\n",
       "      <td>32752</td>\n",
       "      <td>393</td>\n",
       "      <td>1490</td>\n",
       "    </tr>\n",
       "    <tr>\n",
       "      <td>3</td>\n",
       "      <td>-1yT-K3c6YI</td>\n",
       "      <td>2017-11-29</td>\n",
       "      <td>YOUTUBER QUIZ + TRUTH OR DARE W/ THE MERRELL T...</td>\n",
       "      <td>Molly Burke</td>\n",
       "      <td>22</td>\n",
       "      <td>2017-11-28T18:30:43.000Z</td>\n",
       "      <td>youtube quiz|\"youtuber quiz\"|\"truth or dare\"|\"...</td>\n",
       "      <td>129360</td>\n",
       "      <td>5214</td>\n",
       "      <td>108</td>\n",
       "      <td>516</td>\n",
       "    </tr>\n",
       "    <tr>\n",
       "      <td>4</td>\n",
       "      <td>-2RVw2_QyxQ</td>\n",
       "      <td>2017-11-14</td>\n",
       "      <td>2017 Champions Showdown: Day 3</td>\n",
       "      <td>Saint Louis Chess Club</td>\n",
       "      <td>27</td>\n",
       "      <td>2017-11-12T02:39:01.000Z</td>\n",
       "      <td>Chess|\"Saint Louis\"|\"Club\"</td>\n",
       "      <td>67429</td>\n",
       "      <td>438</td>\n",
       "      <td>23</td>\n",
       "      <td>23</td>\n",
       "    </tr>\n",
       "  </tbody>\n",
       "</table>\n",
       "</div>"
      ],
      "text/plain": [
       "      video_id trending_date  \\\n",
       "0  -0CMnp02rNY    2018-06-06   \n",
       "1  -0NYY8cqdiQ    2018-02-01   \n",
       "2  -1Hm41N0dUs    2018-04-29   \n",
       "3  -1yT-K3c6YI    2017-11-29   \n",
       "4  -2RVw2_QyxQ    2017-11-14   \n",
       "\n",
       "                                               title           channel_title  \\\n",
       "0  Mindy Kaling's Daughter Had the Perfect Reacti...            TheEllenShow   \n",
       "1  Megan Mullally Didn't Notice the Interesting P...            TheEllenShow   \n",
       "2  Cast of Avengers: Infinity War Draws Their Cha...       Jimmy Kimmel Live   \n",
       "3  YOUTUBER QUIZ + TRUTH OR DARE W/ THE MERRELL T...             Molly Burke   \n",
       "4                     2017 Champions Showdown: Day 3  Saint Louis Chess Club   \n",
       "\n",
       "   category_id              publish_time  \\\n",
       "0           24  2018-06-04T13:00:00.000Z   \n",
       "1           24  2018-01-29T14:00:39.000Z   \n",
       "2           23  2018-04-27T07:30:02.000Z   \n",
       "3           22  2017-11-28T18:30:43.000Z   \n",
       "4           27  2017-11-12T02:39:01.000Z   \n",
       "\n",
       "                                                tags    views  likes  \\\n",
       "0  ellen|\"ellen degeneres\"|\"the ellen show\"|\"elle...   475965   6531   \n",
       "1  megan mullally|\"megan\"|\"mullally\"|\"will and gr...   563746   4429   \n",
       "2  jimmy|\"jimmy kimmel\"|\"jimmy kimmel live\"|\"late...  1566807  32752   \n",
       "3  youtube quiz|\"youtuber quiz\"|\"truth or dare\"|\"...   129360   5214   \n",
       "4                         Chess|\"Saint Louis\"|\"Club\"    67429    438   \n",
       "\n",
       "   dislikes  comment_count  \n",
       "0       172            271  \n",
       "1        54             94  \n",
       "2       393           1490  \n",
       "3       108            516  \n",
       "4        23             23  "
      ]
     },
     "execution_count": 46,
     "metadata": {},
     "output_type": "execute_result"
    }
   ],
   "source": [
    "dfUSvideosFirstTrend.head()"
   ]
  },
  {
   "cell_type": "markdown",
   "metadata": {},
   "source": [
    "### Boxplotting Viewer Data Video First Trend United States"
   ]
  },
  {
   "cell_type": "code",
   "execution_count": 47,
   "metadata": {},
   "outputs": [
    {
     "data": {
      "text/plain": [
       "Text(0, 0.5, 'Jumlah Views')"
      ]
     },
     "execution_count": 47,
     "metadata": {},
     "output_type": "execute_result"
    },
    {
     "data": {
      "image/png": "[encoded data removed]",
      "text/plain": [
       "<Figure size 360x360 with 1 Axes>"
      ]
     },
     "metadata": {
      "needs_background": "light"
     },
     "output_type": "display_data"
    }
   ],
   "source": [
    "fig = plt.figure(1, figsize=(5, 5))\n",
    "\n",
    "# membuat axes\n",
    "ax = fig.add_subplot(111)\n",
    "\n",
    "# boxplot\n",
    "ax.boxplot(dfUSvideosFirstTrend['views'].values)\n",
    "\n",
    "# ax.set_ylim(0,1000)\n",
    "ax.set_xticklabels(\"\")\n",
    "\n",
    "# penamaan judul\n",
    "plt.title(\"BOXPLOT VIEWERS REGION UNITED STATES\", fontsize=14)\n",
    "\n",
    "plt.ylabel(\"Jumlah Views\", fontsize=14)"
   ]
  },
  {
   "cell_type": "markdown",
   "metadata": {},
   "source": [
    "## Testing Z-Score Viewer Data Video First Trend United States"
   ]
  },
  {
   "cell_type": "code",
   "execution_count": 48,
   "metadata": {
    "scrolled": true
   },
   "outputs": [
    {
     "data": {
      "text/html": [
       "<div>\n",
       "<style scoped>\n",
       "    .dataframe tbody tr th:only-of-type {\n",
       "        vertical-align: middle;\n",
       "    }\n",
       "\n",
       "    .dataframe tbody tr th {\n",
       "        vertical-align: top;\n",
       "    }\n",
       "\n",
       "    .dataframe thead th {\n",
       "        text-align: right;\n",
       "    }\n",
       "</style>\n",
       "<table border=\"1\" class=\"dataframe\">\n",
       "  <thead>\n",
       "    <tr style=\"text-align: right;\">\n",
       "      <th></th>\n",
       "      <th>video_id</th>\n",
       "      <th>trending_date</th>\n",
       "      <th>title</th>\n",
       "      <th>channel_title</th>\n",
       "      <th>category_id</th>\n",
       "      <th>publish_time</th>\n",
       "      <th>tags</th>\n",
       "      <th>views</th>\n",
       "      <th>likes</th>\n",
       "      <th>dislikes</th>\n",
       "      <th>comment_count</th>\n",
       "      <th>views_zscore</th>\n",
       "    </tr>\n",
       "  </thead>\n",
       "  <tbody>\n",
       "    <tr>\n",
       "      <td>0</td>\n",
       "      <td>-0CMnp02rNY</td>\n",
       "      <td>2018-06-06</td>\n",
       "      <td>Mindy Kaling's Daughter Had the Perfect Reacti...</td>\n",
       "      <td>TheEllenShow</td>\n",
       "      <td>24</td>\n",
       "      <td>2018-06-04T13:00:00.000Z</td>\n",
       "      <td>ellen|\"ellen degeneres\"|\"the ellen show\"|\"elle...</td>\n",
       "      <td>475965</td>\n",
       "      <td>6531</td>\n",
       "      <td>172</td>\n",
       "      <td>271</td>\n",
       "      <td>-0.146329</td>\n",
       "    </tr>\n",
       "    <tr>\n",
       "      <td>1</td>\n",
       "      <td>-0NYY8cqdiQ</td>\n",
       "      <td>2018-02-01</td>\n",
       "      <td>Megan Mullally Didn't Notice the Interesting P...</td>\n",
       "      <td>TheEllenShow</td>\n",
       "      <td>24</td>\n",
       "      <td>2018-01-29T14:00:39.000Z</td>\n",
       "      <td>megan mullally|\"megan\"|\"mullally\"|\"will and gr...</td>\n",
       "      <td>563746</td>\n",
       "      <td>4429</td>\n",
       "      <td>54</td>\n",
       "      <td>94</td>\n",
       "      <td>-0.100819</td>\n",
       "    </tr>\n",
       "    <tr>\n",
       "      <td>2</td>\n",
       "      <td>-1Hm41N0dUs</td>\n",
       "      <td>2018-04-29</td>\n",
       "      <td>Cast of Avengers: Infinity War Draws Their Cha...</td>\n",
       "      <td>Jimmy Kimmel Live</td>\n",
       "      <td>23</td>\n",
       "      <td>2018-04-27T07:30:02.000Z</td>\n",
       "      <td>jimmy|\"jimmy kimmel\"|\"jimmy kimmel live\"|\"late...</td>\n",
       "      <td>1566807</td>\n",
       "      <td>32752</td>\n",
       "      <td>393</td>\n",
       "      <td>1490</td>\n",
       "      <td>0.419214</td>\n",
       "    </tr>\n",
       "    <tr>\n",
       "      <td>3</td>\n",
       "      <td>-1yT-K3c6YI</td>\n",
       "      <td>2017-11-29</td>\n",
       "      <td>YOUTUBER QUIZ + TRUTH OR DARE W/ THE MERRELL T...</td>\n",
       "      <td>Molly Burke</td>\n",
       "      <td>22</td>\n",
       "      <td>2017-11-28T18:30:43.000Z</td>\n",
       "      <td>youtube quiz|\"youtuber quiz\"|\"truth or dare\"|\"...</td>\n",
       "      <td>129360</td>\n",
       "      <td>5214</td>\n",
       "      <td>108</td>\n",
       "      <td>516</td>\n",
       "      <td>-0.326025</td>\n",
       "    </tr>\n",
       "    <tr>\n",
       "      <td>4</td>\n",
       "      <td>-2RVw2_QyxQ</td>\n",
       "      <td>2017-11-14</td>\n",
       "      <td>2017 Champions Showdown: Day 3</td>\n",
       "      <td>Saint Louis Chess Club</td>\n",
       "      <td>27</td>\n",
       "      <td>2017-11-12T02:39:01.000Z</td>\n",
       "      <td>Chess|\"Saint Louis\"|\"Club\"</td>\n",
       "      <td>67429</td>\n",
       "      <td>438</td>\n",
       "      <td>23</td>\n",
       "      <td>23</td>\n",
       "      <td>-0.358132</td>\n",
       "    </tr>\n",
       "    <tr>\n",
       "      <td>...</td>\n",
       "      <td>...</td>\n",
       "      <td>...</td>\n",
       "      <td>...</td>\n",
       "      <td>...</td>\n",
       "      <td>...</td>\n",
       "      <td>...</td>\n",
       "      <td>...</td>\n",
       "      <td>...</td>\n",
       "      <td>...</td>\n",
       "      <td>...</td>\n",
       "      <td>...</td>\n",
       "      <td>...</td>\n",
       "    </tr>\n",
       "    <tr>\n",
       "      <td>6346</td>\n",
       "      <td>zwEn-ambXLw</td>\n",
       "      <td>2018-03-26</td>\n",
       "      <td>This Is Me - Cover by Shoshana Bean Featuring ...</td>\n",
       "      <td>Shoshana Bean</td>\n",
       "      <td>10</td>\n",
       "      <td>2018-03-22T08:30:07.000Z</td>\n",
       "      <td>travis wall|\"shoshana bean\"|\"greatest showman\"...</td>\n",
       "      <td>114133</td>\n",
       "      <td>4979</td>\n",
       "      <td>66</td>\n",
       "      <td>198</td>\n",
       "      <td>-0.333919</td>\n",
       "    </tr>\n",
       "    <tr>\n",
       "      <td>6347</td>\n",
       "      <td>zxUwbflE1SY</td>\n",
       "      <td>2017-11-15</td>\n",
       "      <td>100 People Hold Their Breath for as Long as Th...</td>\n",
       "      <td>Cut</td>\n",
       "      <td>24</td>\n",
       "      <td>2017-11-13T13:00:10.000Z</td>\n",
       "      <td>breath|\"hold\"|\"funny\"|\"holding breath\"|\"breath...</td>\n",
       "      <td>190669</td>\n",
       "      <td>5162</td>\n",
       "      <td>131</td>\n",
       "      <td>1151</td>\n",
       "      <td>-0.294239</td>\n",
       "    </tr>\n",
       "    <tr>\n",
       "      <td>6348</td>\n",
       "      <td>zxwfDlhJIpw</td>\n",
       "      <td>2018-05-02</td>\n",
       "      <td>kanye west / charlamagne interview</td>\n",
       "      <td>Kanye West</td>\n",
       "      <td>22</td>\n",
       "      <td>2018-05-01T15:57:06.000Z</td>\n",
       "      <td>Kanye West|\"YEEZY\"|\"Kanye\"|\"Charlamagne\"|\"The ...</td>\n",
       "      <td>3134765</td>\n",
       "      <td>88905</td>\n",
       "      <td>7526</td>\n",
       "      <td>26692</td>\n",
       "      <td>1.232116</td>\n",
       "    </tr>\n",
       "    <tr>\n",
       "      <td>6349</td>\n",
       "      <td>zy0b9e40tK8</td>\n",
       "      <td>2017-11-14</td>\n",
       "      <td>Dark | Official Trailer [HD] | Netflix</td>\n",
       "      <td>Netflix</td>\n",
       "      <td>24</td>\n",
       "      <td>2017-11-09T09:00:07.000Z</td>\n",
       "      <td>Netflix|\"Baran Bo Odar\"|\"Jantje Friese\"|\"DARK\"...</td>\n",
       "      <td>378750</td>\n",
       "      <td>5642</td>\n",
       "      <td>146</td>\n",
       "      <td>675</td>\n",
       "      <td>-0.196729</td>\n",
       "    </tr>\n",
       "    <tr>\n",
       "      <td>6350</td>\n",
       "      <td>zzQsGL_F9_c</td>\n",
       "      <td>2018-02-05</td>\n",
       "      <td>Budweiser | Beer Country | :60</td>\n",
       "      <td>Budweiser</td>\n",
       "      <td>24</td>\n",
       "      <td>2018-01-30T18:30:04.000Z</td>\n",
       "      <td>Budweiser|\"Super Bowl\"|\"Clydesdales\"|\"Bud\"|\"Th...</td>\n",
       "      <td>154206</td>\n",
       "      <td>1180</td>\n",
       "      <td>107</td>\n",
       "      <td>55</td>\n",
       "      <td>-0.313143</td>\n",
       "    </tr>\n",
       "  </tbody>\n",
       "</table>\n",
       "<p>6276 rows × 12 columns</p>\n",
       "</div>"
      ],
      "text/plain": [
       "         video_id trending_date  \\\n",
       "0     -0CMnp02rNY    2018-06-06   \n",
       "1     -0NYY8cqdiQ    2018-02-01   \n",
       "2     -1Hm41N0dUs    2018-04-29   \n",
       "3     -1yT-K3c6YI    2017-11-29   \n",
       "4     -2RVw2_QyxQ    2017-11-14   \n",
       "...           ...           ...   \n",
       "6346  zwEn-ambXLw    2018-03-26   \n",
       "6347  zxUwbflE1SY    2017-11-15   \n",
       "6348  zxwfDlhJIpw    2018-05-02   \n",
       "6349  zy0b9e40tK8    2017-11-14   \n",
       "6350  zzQsGL_F9_c    2018-02-05   \n",
       "\n",
       "                                                  title  \\\n",
       "0     Mindy Kaling's Daughter Had the Perfect Reacti...   \n",
       "1     Megan Mullally Didn't Notice the Interesting P...   \n",
       "2     Cast of Avengers: Infinity War Draws Their Cha...   \n",
       "3     YOUTUBER QUIZ + TRUTH OR DARE W/ THE MERRELL T...   \n",
       "4                        2017 Champions Showdown: Day 3   \n",
       "...                                                 ...   \n",
       "6346  This Is Me - Cover by Shoshana Bean Featuring ...   \n",
       "6347  100 People Hold Their Breath for as Long as Th...   \n",
       "6348                 kanye west / charlamagne interview   \n",
       "6349             Dark | Official Trailer [HD] | Netflix   \n",
       "6350                     Budweiser | Beer Country | :60   \n",
       "\n",
       "               channel_title  category_id              publish_time  \\\n",
       "0               TheEllenShow           24  2018-06-04T13:00:00.000Z   \n",
       "1               TheEllenShow           24  2018-01-29T14:00:39.000Z   \n",
       "2          Jimmy Kimmel Live           23  2018-04-27T07:30:02.000Z   \n",
       "3                Molly Burke           22  2017-11-28T18:30:43.000Z   \n",
       "4     Saint Louis Chess Club           27  2017-11-12T02:39:01.000Z   \n",
       "...                      ...          ...                       ...   \n",
       "6346           Shoshana Bean           10  2018-03-22T08:30:07.000Z   \n",
       "6347                     Cut           24  2017-11-13T13:00:10.000Z   \n",
       "6348              Kanye West           22  2018-05-01T15:57:06.000Z   \n",
       "6349                 Netflix           24  2017-11-09T09:00:07.000Z   \n",
       "6350               Budweiser           24  2018-01-30T18:30:04.000Z   \n",
       "\n",
       "                                                   tags    views  likes  \\\n",
       "0     ellen|\"ellen degeneres\"|\"the ellen show\"|\"elle...   475965   6531   \n",
       "1     megan mullally|\"megan\"|\"mullally\"|\"will and gr...   563746   4429   \n",
       "2     jimmy|\"jimmy kimmel\"|\"jimmy kimmel live\"|\"late...  1566807  32752   \n",
       "3     youtube quiz|\"youtuber quiz\"|\"truth or dare\"|\"...   129360   5214   \n",
       "4                            Chess|\"Saint Louis\"|\"Club\"    67429    438   \n",
       "...                                                 ...      ...    ...   \n",
       "6346  travis wall|\"shoshana bean\"|\"greatest showman\"...   114133   4979   \n",
       "6347  breath|\"hold\"|\"funny\"|\"holding breath\"|\"breath...   190669   5162   \n",
       "6348  Kanye West|\"YEEZY\"|\"Kanye\"|\"Charlamagne\"|\"The ...  3134765  88905   \n",
       "6349  Netflix|\"Baran Bo Odar\"|\"Jantje Friese\"|\"DARK\"...   378750   5642   \n",
       "6350  Budweiser|\"Super Bowl\"|\"Clydesdales\"|\"Bud\"|\"Th...   154206   1180   \n",
       "\n",
       "      dislikes  comment_count  views_zscore  \n",
       "0          172            271     -0.146329  \n",
       "1           54             94     -0.100819  \n",
       "2          393           1490      0.419214  \n",
       "3          108            516     -0.326025  \n",
       "4           23             23     -0.358132  \n",
       "...        ...            ...           ...  \n",
       "6346        66            198     -0.333919  \n",
       "6347       131           1151     -0.294239  \n",
       "6348      7526          26692      1.232116  \n",
       "6349       146            675     -0.196729  \n",
       "6350       107             55     -0.313143  \n",
       "\n",
       "[6276 rows x 12 columns]"
      ]
     },
     "execution_count": 48,
     "metadata": {},
     "output_type": "execute_result"
    }
   ],
   "source": [
    "# Membuat Kolom Z-Score Untuk Viewer\n",
    "dfUSvideosFirstTrend['views_zscore'] = (dfUSvideosFirstTrend.views - dfUSvideosFirstTrend.views.mean())/dfUSvideosFirstTrend.views.std(ddof=0)\n",
    "\n",
    "# Membuat Dataframe Baru yang telah difilter tanpa outlier\n",
    "dfUSvideosFirstTrend_zView = dfUSvideosFirstTrend[dfUSvideosFirstTrend.views_zscore < 3]\n",
    "\n",
    "dfUSvideosFirstTrend_zView"
   ]
  },
  {
   "cell_type": "code",
   "execution_count": 49,
   "metadata": {},
   "outputs": [
    {
     "data": {
      "text/plain": [
       "Text(0, 0.5, 'Jumlah Views')"
      ]
     },
     "execution_count": 49,
     "metadata": {},
     "output_type": "execute_result"
    },
    {
     "data": {
      "image/png": "[encoded data removed]",
      "text/plain": [
       "<Figure size 360x360 with 1 Axes>"
      ]
     },
     "metadata": {
      "needs_background": "light"
     },
     "output_type": "display_data"
    }
   ],
   "source": [
    "fig = plt.figure(1, figsize=(5, 5))\n",
    "\n",
    "# membuat axes\n",
    "ax = fig.add_subplot(111)\n",
    "\n",
    "# boxplot\n",
    "ax.boxplot(dfUSvideosFirstTrend_zView['views'].values)\n",
    "\n",
    "# ax.set_ylim(0,1000)\n",
    "ax.set_xticklabels(\"\")\n",
    "\n",
    "# penamaan judul\n",
    "plt.title(\"BOXPLOT VIEWERS REGION UNITED STATES SETELAH OUTLIER REMOVAL DENGAN Z-SCORE\", fontsize=14)\n",
    "\n",
    "plt.ylabel(\"Jumlah Views\", fontsize=14)"
   ]
  },
  {
   "cell_type": "markdown",
   "metadata": {},
   "source": [
    "## Testing IQR Viewer Data Video First Trend United States\n",
    "Step untuk mendeteksi outlier salah satunya adalah dengan menemukan range bawah dan atas dari suatu data dengan cara berikut :\n",
    "1. Mengurutkan data dari nilai terendah\n",
    "2. Menghitung Q1 (kuartil 1)\n",
    "3. Menghitung Q3 (kuartil 3)\n",
    "4. Menghitung IQR = (Q3 - Q1)\n",
    "5. Menemukan range bawah data = Q1 -(1.5 * IQR)\n",
    "6. Menemukan range atas data = Q3 + (1.5 * IQR)"
   ]
  },
  {
   "cell_type": "markdown",
   "metadata": {},
   "source": [
    "1. Mengurutkan data dari yang terendah"
   ]
  },
  {
   "cell_type": "code",
   "execution_count": 50,
   "metadata": {},
   "outputs": [],
   "source": [
    "dfUSvideosFirstTrendSortViews = dfUSvideosFirstTrend.sort_values(by=['views'])"
   ]
  },
  {
   "cell_type": "markdown",
   "metadata": {},
   "source": [
    "2. Menghitung Q1 (kuartil 1)"
   ]
  },
  {
   "cell_type": "code",
   "execution_count": 51,
   "metadata": {},
   "outputs": [],
   "source": [
    "Q1_USFirstTrendView = dfUSvideosFirstTrendSortViews.views.quantile(0.25)"
   ]
  },
  {
   "cell_type": "markdown",
   "metadata": {},
   "source": [
    "3. Menghitung Q3 (kuartil 3)"
   ]
  },
  {
   "cell_type": "code",
   "execution_count": 52,
   "metadata": {},
   "outputs": [],
   "source": [
    "Q3_USFirstTrendView = dfUSvideosFirstTrendSortViews.views.quantile(0.75)"
   ]
  },
  {
   "cell_type": "markdown",
   "metadata": {},
   "source": [
    "4. Menghitung IQR = (Q3 - Q1)"
   ]
  },
  {
   "cell_type": "code",
   "execution_count": 53,
   "metadata": {},
   "outputs": [],
   "source": [
    "IQR_USFirstTrendView = Q3_USFirstTrendView - Q1_USFirstTrendView"
   ]
  },
  {
   "cell_type": "markdown",
   "metadata": {},
   "source": [
    "5. Menemukan range bawah data = Q1 -(1.5 * IQR)"
   ]
  },
  {
   "cell_type": "code",
   "execution_count": 54,
   "metadata": {},
   "outputs": [],
   "source": [
    "lower_USFirstTrendView = Q1_USFirstTrendView - (1.5 * IQR_USFirstTrendView)"
   ]
  },
  {
   "cell_type": "markdown",
   "metadata": {},
   "source": [
    "6. Menemukan range atas data = Q3 + (1.5 * IQR)"
   ]
  },
  {
   "cell_type": "code",
   "execution_count": 55,
   "metadata": {},
   "outputs": [],
   "source": [
    "upper_USFirstTrendView =  Q3_USFirstTrendView + (1.5 * IQR_USFirstTrendView)"
   ]
  },
  {
   "cell_type": "markdown",
   "metadata": {},
   "source": [
    "<b>Berikut adalah hasil perhitungan yang telah dilakukan di atas</b>"
   ]
  },
  {
   "cell_type": "code",
   "execution_count": 56,
   "metadata": {},
   "outputs": [
    {
     "name": "stdout",
     "output_type": "stream",
     "text": [
      "IQR United States\n",
      "IQR = 667755.5\n",
      "Lower = -918122.25\n",
      "Upper = 1752899.75\n"
     ]
    }
   ],
   "source": [
    "print(\"IQR United States\")\n",
    "print(\"IQR =\", IQR_USFirstTrendView)\n",
    "print(\"Lower =\", lower_USFirstTrendView)\n",
    "print(\"Upper =\", upper_USFirstTrendView)"
   ]
  },
  {
   "cell_type": "code",
   "execution_count": 57,
   "metadata": {},
   "outputs": [],
   "source": [
    "dfUSvideosFirstTrend_IQRView = dfUSvideosFirstTrendSortViews[(dfUSvideosFirstTrendSortViews.views < upper_USFirstTrendView) & (dfUSvideosFirstTrendSortViews.views > lower_USFirstTrendView)]"
   ]
  },
  {
   "cell_type": "code",
   "execution_count": 58,
   "metadata": {},
   "outputs": [
    {
     "data": {
      "text/plain": [
       "Text(0, 0.5, 'Jumlah Views')"
      ]
     },
     "execution_count": 58,
     "metadata": {},
     "output_type": "execute_result"
    },
    {
     "data": {
      "image/png": "[encoded data removed]",
      "text/plain": [
       "<Figure size 360x360 with 1 Axes>"
      ]
     },
     "metadata": {
      "needs_background": "light"
     },
     "output_type": "display_data"
    }
   ],
   "source": [
    "fig = plt.figure(1, figsize=(5, 5))\n",
    "\n",
    "# membuat axes\n",
    "ax = fig.add_subplot(111)\n",
    "\n",
    "# boxplot\n",
    "ax.boxplot(dfUSvideosFirstTrend_IQRView['views'].values)\n",
    "\n",
    "# ax.set_ylim(0,1000)\n",
    "ax.set_xticklabels(\"\")\n",
    "\n",
    "# penamaan judul\n",
    "plt.title(\"BOXPLOT VIEWERS REGION UNITED STATES SETELAH OUTLIER REMOVAL DENGAN IQR\", fontsize=14)\n",
    "\n",
    "plt.ylabel(\"Jumlah Views\", fontsize=14)"
   ]
  },
  {
   "cell_type": "markdown",
   "metadata": {},
   "source": [
    "Di sini coba dilakukan boxplotting tanpa menampilkan outlier"
   ]
  },
  {
   "cell_type": "code",
   "execution_count": 59,
   "metadata": {},
   "outputs": [
    {
     "data": {
      "text/plain": [
       "Text(0, 0.5, 'Jumlah Views')"
      ]
     },
     "execution_count": 59,
     "metadata": {},
     "output_type": "execute_result"
    },
    {
     "data": {
      "image/png": "[encoded data removed]",
      "text/plain": [
       "<Figure size 360x360 with 1 Axes>"
      ]
     },
     "metadata": {
      "needs_background": "light"
     },
     "output_type": "display_data"
    }
   ],
   "source": [
    "fig = plt.figure(1, figsize=(5, 5))\n",
    "\n",
    "# membuat axes\n",
    "ax = fig.add_subplot(111)\n",
    "\n",
    "# boxplot\n",
    "ax.boxplot(dfUSvideosFirstTrend_IQRView['views'].values, showfliers=False)\n",
    "\n",
    "# ax.set_ylim(0,1000)\n",
    "ax.set_xticklabels(\"\")\n",
    "\n",
    "# penamaan judul\n",
    "plt.title(\"BOXPLOT VIEWERS REGION UNITED STATES SETELAH OUTLIER REMOVAL DENGAN IQR\", fontsize=14)\n",
    "\n",
    "plt.ylabel(\"Jumlah Views\", fontsize=14)"
   ]
  },
  {
   "cell_type": "code",
   "execution_count": 60,
   "metadata": {},
   "outputs": [
    {
     "data": {
      "text/plain": [
       "Text(0, 0.5, 'Jumlah Views')"
      ]
     },
     "execution_count": 60,
     "metadata": {},
     "output_type": "execute_result"
    },
    {
     "data": {
      "image/png": "[encoded data removed]",
      "text/plain": [
       "<Figure size 360x360 with 1 Axes>"
      ]
     },
     "metadata": {
      "needs_background": "light"
     },
     "output_type": "display_data"
    }
   ],
   "source": [
    "fig = plt.figure(1, figsize=(5, 5))\n",
    "\n",
    "# membuat axes\n",
    "ax = fig.add_subplot(111)\n",
    "\n",
    "# boxplot\n",
    "ax.boxplot(dfUSvideosFirstTrend['views'].values, showfliers=False)\n",
    "\n",
    "# ax.set_ylim(0,1000)\n",
    "ax.set_xticklabels(\"\")\n",
    "\n",
    "# penamaan judul\n",
    "plt.title(\"BOXPLOT VIEWERS REGION UNITED STATES TANPA REMOVAL DENGAN IQR\", fontsize=14)\n",
    "\n",
    "plt.ylabel(\"Jumlah Views\", fontsize=14)"
   ]
  },
  {
   "cell_type": "markdown",
   "metadata": {},
   "source": [
    "## STATISTIK DARI SETIAP KATEGORI YANG TERDAPAT DI DATAFRAME FIRST TREND VIDEO UNITED STATES"
   ]
  },
  {
   "cell_type": "code",
   "execution_count": 61,
   "metadata": {},
   "outputs": [],
   "source": [
    "# mengelompokan ulang dataframe videosFirstTrend berdasarkan id kategori\n",
    "gUSVideoFtrend = dfUSvideosFirstTrend.groupby('category_id')"
   ]
  },
  {
   "cell_type": "markdown",
   "metadata": {},
   "source": [
    "Membuat dataframe baru yang memiliki kolom id, category yang diambil dari dfUScategory, dan views yang diambil dari hasil pengelompokkan berdasarkan category_id"
   ]
  },
  {
   "cell_type": "code",
   "execution_count": 62,
   "metadata": {},
   "outputs": [
    {
     "data": {
      "text/html": [
       "<div>\n",
       "<style scoped>\n",
       "    .dataframe tbody tr th:only-of-type {\n",
       "        vertical-align: middle;\n",
       "    }\n",
       "\n",
       "    .dataframe tbody tr th {\n",
       "        vertical-align: top;\n",
       "    }\n",
       "\n",
       "    .dataframe thead th {\n",
       "        text-align: right;\n",
       "    }\n",
       "</style>\n",
       "<table border=\"1\" class=\"dataframe\">\n",
       "  <thead>\n",
       "    <tr style=\"text-align: right;\">\n",
       "      <th></th>\n",
       "      <th>id</th>\n",
       "      <th>category</th>\n",
       "      <th>views</th>\n",
       "    </tr>\n",
       "  </thead>\n",
       "  <tbody>\n",
       "    <tr>\n",
       "      <td>0</td>\n",
       "      <td>1</td>\n",
       "      <td>Film &amp; Animation</td>\n",
       "      <td>[4427381, 60262, 30690, 89872, 325769, 1613498...</td>\n",
       "    </tr>\n",
       "    <tr>\n",
       "      <td>1</td>\n",
       "      <td>2</td>\n",
       "      <td>Autos &amp; Vehicles</td>\n",
       "      <td>[83525, 29017, 10477, 206006, 6491, 33447, 967...</td>\n",
       "    </tr>\n",
       "    <tr>\n",
       "      <td>2</td>\n",
       "      <td>10</td>\n",
       "      <td>Music</td>\n",
       "      <td>[1012527, 545655, 390631, 296615, 497161, 4843...</td>\n",
       "    </tr>\n",
       "    <tr>\n",
       "      <td>3</td>\n",
       "      <td>15</td>\n",
       "      <td>Pets &amp; Animals</td>\n",
       "      <td>[908989, 566146, 45455, 98042, 532201, 31273, ...</td>\n",
       "    </tr>\n",
       "    <tr>\n",
       "      <td>4</td>\n",
       "      <td>17</td>\n",
       "      <td>Sports</td>\n",
       "      <td>[703371, 2863, 385104, 1815030, 252542, 687, 8...</td>\n",
       "    </tr>\n",
       "    <tr>\n",
       "      <td>5</td>\n",
       "      <td>19</td>\n",
       "      <td>Travel &amp; Events</td>\n",
       "      <td>[12468, 285129, 84056, 59758, 494687, 16207, 4...</td>\n",
       "    </tr>\n",
       "    <tr>\n",
       "      <td>6</td>\n",
       "      <td>20</td>\n",
       "      <td>Gaming</td>\n",
       "      <td>[48735, 476387, 2341772, 2079137, 6191, 650855...</td>\n",
       "    </tr>\n",
       "    <tr>\n",
       "      <td>7</td>\n",
       "      <td>22</td>\n",
       "      <td>People &amp; Blogs</td>\n",
       "      <td>[129360, 720476, 3438, 102560, 1331385, 430483...</td>\n",
       "    </tr>\n",
       "    <tr>\n",
       "      <td>8</td>\n",
       "      <td>23</td>\n",
       "      <td>Comedy</td>\n",
       "      <td>[1566807, 363370, 1371506, 327936, 735146, 152...</td>\n",
       "    </tr>\n",
       "    <tr>\n",
       "      <td>9</td>\n",
       "      <td>24</td>\n",
       "      <td>Entertainment</td>\n",
       "      <td>[475965, 563746, 744363, 497085, 23877, 335817...</td>\n",
       "    </tr>\n",
       "    <tr>\n",
       "      <td>10</td>\n",
       "      <td>25</td>\n",
       "      <td>News &amp; Politics</td>\n",
       "      <td>[84744, 230360, 45970, 113435, 310910, 212414,...</td>\n",
       "    </tr>\n",
       "    <tr>\n",
       "      <td>11</td>\n",
       "      <td>26</td>\n",
       "      <td>Howto &amp; Style</td>\n",
       "      <td>[249601, 484189, 345365, 799107, 127481, 14286...</td>\n",
       "    </tr>\n",
       "    <tr>\n",
       "      <td>12</td>\n",
       "      <td>27</td>\n",
       "      <td>Education</td>\n",
       "      <td>[67429, 251579, 261506, 278088, 21740, 169468,...</td>\n",
       "    </tr>\n",
       "    <tr>\n",
       "      <td>13</td>\n",
       "      <td>28</td>\n",
       "      <td>Science &amp; Technology</td>\n",
       "      <td>[296237, 106360, 994662, 96404, 765436, 643051...</td>\n",
       "    </tr>\n",
       "    <tr>\n",
       "      <td>14</td>\n",
       "      <td>29</td>\n",
       "      <td>Nonprofits &amp; Activism</td>\n",
       "      <td>[1967, 7052, 23634, 4178, 5579079, 225051, 145...</td>\n",
       "    </tr>\n",
       "    <tr>\n",
       "      <td>15</td>\n",
       "      <td>43</td>\n",
       "      <td>Shows</td>\n",
       "      <td>[657183, 36609, 765531, 110112]</td>\n",
       "    </tr>\n",
       "  </tbody>\n",
       "</table>\n",
       "</div>"
      ],
      "text/plain": [
       "    id               category  \\\n",
       "0    1       Film & Animation   \n",
       "1    2       Autos & Vehicles   \n",
       "2   10                  Music   \n",
       "3   15         Pets & Animals   \n",
       "4   17                 Sports   \n",
       "5   19        Travel & Events   \n",
       "6   20                 Gaming   \n",
       "7   22         People & Blogs   \n",
       "8   23                 Comedy   \n",
       "9   24          Entertainment   \n",
       "10  25        News & Politics   \n",
       "11  26          Howto & Style   \n",
       "12  27              Education   \n",
       "13  28   Science & Technology   \n",
       "14  29  Nonprofits & Activism   \n",
       "15  43                  Shows   \n",
       "\n",
       "                                                views  \n",
       "0   [4427381, 60262, 30690, 89872, 325769, 1613498...  \n",
       "1   [83525, 29017, 10477, 206006, 6491, 33447, 967...  \n",
       "2   [1012527, 545655, 390631, 296615, 497161, 4843...  \n",
       "3   [908989, 566146, 45455, 98042, 532201, 31273, ...  \n",
       "4   [703371, 2863, 385104, 1815030, 252542, 687, 8...  \n",
       "5   [12468, 285129, 84056, 59758, 494687, 16207, 4...  \n",
       "6   [48735, 476387, 2341772, 2079137, 6191, 650855...  \n",
       "7   [129360, 720476, 3438, 102560, 1331385, 430483...  \n",
       "8   [1566807, 363370, 1371506, 327936, 735146, 152...  \n",
       "9   [475965, 563746, 744363, 497085, 23877, 335817...  \n",
       "10  [84744, 230360, 45970, 113435, 310910, 212414,...  \n",
       "11  [249601, 484189, 345365, 799107, 127481, 14286...  \n",
       "12  [67429, 251579, 261506, 278088, 21740, 169468,...  \n",
       "13  [296237, 106360, 994662, 96404, 765436, 643051...  \n",
       "14  [1967, 7052, 23634, 4178, 5579079, 225051, 145...  \n",
       "15                    [657183, 36609, 765531, 110112]  "
      ]
     },
     "execution_count": 62,
     "metadata": {},
     "output_type": "execute_result"
    }
   ],
   "source": [
    "data_ftrend_views_us = {\n",
    "    \n",
    "    # a adalah hasil sorting array saat menemukan value yang unique dari id kategori data video region United States\n",
    "    'id' : a,\n",
    "    'category' : [i for i in dfUScategory['category']],\n",
    "    'views': [gUSVideoFtrend.get_group(items)['views'].values for items in dfUScategory['id']]\n",
    "}\n",
    "\n",
    "dfFtrendViewsUS = pd.DataFrame(data_ftrend_views_us)\n",
    "dfFtrendViewsUS"
   ]
  },
  {
   "cell_type": "code",
   "execution_count": 63,
   "metadata": {},
   "outputs": [
    {
     "data": {
      "text/plain": [
       "Text(0, 0.5, 'VIEWS')"
      ]
     },
     "execution_count": 63,
     "metadata": {},
     "output_type": "execute_result"
    },
    {
     "data": {
      "image/png": "[encoded data removed]",
      "text/plain": [
       "<Figure size 1080x1080 with 1 Axes>"
      ]
     },
     "metadata": {
      "needs_background": "light"
     },
     "output_type": "display_data"
    }
   ],
   "source": [
    "fig = plt.figure(1, figsize=(15, 15))\n",
    "\n",
    "# membuat axes\n",
    "ax = fig.add_subplot(111)\n",
    "\n",
    "# boxplot\n",
    "ax.boxplot(dfFtrendViewsUS['views'].values, showfliers = False)\n",
    "\n",
    "# penamaan x tick\n",
    "ax.set_xticklabels(dfFtrendViewsUS['category'], rotation='vertical')\n",
    "\n",
    "# penamaan judul\n",
    "plt.title(\"DATA JUMLAH VIEW BERDASARKAN KATEGORI DATA VIDEO FIRST TREND UNITED STATES\", fontsize=14)\n",
    "\n",
    "# penamaan label\n",
    "plt.xlabel(\"KATEGORI\", fontsize=14)\n",
    "plt.ylabel(\"VIEWS\", fontsize=14)"
   ]
  },
  {
   "cell_type": "markdown",
   "metadata": {},
   "source": [
    "##  D. BOXPLOTTING RELATIVE VALUE DATA VIDEO FIRST TREND UNITED STATES\n",
    "Karena melakukan boxplotting terhadap absolute value untuk jumlah views, likes, dislikes, dan comments tidak dapat dilihat dengan baik karena data terlalu diverse. Maka diputuskan untuk melakukan boxplotting likes, dislikes, dan comments terhadap views untuk setiap video kemudian dikalikan 100 agar range value terjaga mulai dari 0 hingga 100."
   ]
  },
  {
   "cell_type": "code",
   "execution_count": 64,
   "metadata": {},
   "outputs": [],
   "source": [
    "# Menambah kolom likes/views\n",
    "dfUSvideosFirstTrend['likes/views(%)'] = dfUSvideosFirstTrend['likes']/dfUSvideosFirstTrend['views']*100"
   ]
  },
  {
   "cell_type": "code",
   "execution_count": 65,
   "metadata": {},
   "outputs": [],
   "source": [
    "# Menambah kolom dislikes/views\n",
    "dfUSvideosFirstTrend['dislikes/views(%)'] = dfUSvideosFirstTrend['dislikes']/dfUSvideosFirstTrend['views']*100"
   ]
  },
  {
   "cell_type": "code",
   "execution_count": 66,
   "metadata": {},
   "outputs": [],
   "source": [
    "# Menambah kolom comments/views\n",
    "dfUSvideosFirstTrend['comments/views(%)'] = dfUSvideosFirstTrend['comment_count']/dfUSvideosFirstTrend['views']*100"
   ]
  },
  {
   "cell_type": "markdown",
   "metadata": {},
   "source": [
    "### 1D. Plotting Likes/Views % First Trend United States"
   ]
  },
  {
   "cell_type": "code",
   "execution_count": 67,
   "metadata": {},
   "outputs": [
    {
     "data": {
      "text/plain": [
       "Text(0, 0.5, 'LIKES TERHADAP VIEWS')"
      ]
     },
     "execution_count": 67,
     "metadata": {},
     "output_type": "execute_result"
    },
    {
     "data": {
      "image/png": "[encoded data removed]",
      "text/plain": [
       "<Figure size 360x360 with 1 Axes>"
      ]
     },
     "metadata": {
      "needs_background": "light"
     },
     "output_type": "display_data"
    }
   ],
   "source": [
    "fig = plt.figure(1, figsize=(5, 5))\n",
    "\n",
    "# membuat axes\n",
    "ax = fig.add_subplot(111)\n",
    "\n",
    "# boxplot\n",
    "ax.boxplot(dfUSvideosFirstTrend['likes/views(%)'].values, showfliers = False)\n",
    "\n",
    "# ax.set_ylim(0,1000)\n",
    "ax.set_xticklabels(\"\")\n",
    "\n",
    "# penamaan judul\n",
    "plt.title(\"BOXPLOT LIKES TERHADAP VIEWS REGION UNITED STATES\", fontsize=14)\n",
    "\n",
    "plt.ylabel(\"LIKES TERHADAP VIEWS\", fontsize=14)"
   ]
  },
  {
   "cell_type": "markdown",
   "metadata": {},
   "source": [
    "### 2D. Plotting Disikes/Views % First Trend United States"
   ]
  },
  {
   "cell_type": "code",
   "execution_count": 68,
   "metadata": {},
   "outputs": [
    {
     "data": {
      "text/plain": [
       "Text(0, 0.5, 'DISLIKES TERHADAP VIEWS')"
      ]
     },
     "execution_count": 68,
     "metadata": {},
     "output_type": "execute_result"
    },
    {
     "data": {
      "image/png": "[encoded data removed]",
      "text/plain": [
       "<Figure size 360x360 with 1 Axes>"
      ]
     },
     "metadata": {
      "needs_background": "light"
     },
     "output_type": "display_data"
    }
   ],
   "source": [
    "fig = plt.figure(1, figsize=(5, 5))\n",
    "\n",
    "# membuat axes\n",
    "ax = fig.add_subplot(111)\n",
    "\n",
    "# boxplot\n",
    "ax.boxplot(dfUSvideosFirstTrend['dislikes/views(%)'].values, showfliers = False)\n",
    "\n",
    "#ax.set_ylim(0,100)\n",
    "ax.set_xticklabels(\"\")\n",
    "\n",
    "# penamaan judul\n",
    "plt.title(\"BOXPLOT DISLIKES TERHADAP VIEWS REGION UNITED STATES\", fontsize=14)\n",
    "\n",
    "plt.ylabel(\"DISLIKES TERHADAP VIEWS\", fontsize=14)"
   ]
  },
  {
   "cell_type": "markdown",
   "metadata": {},
   "source": [
    "### 3D. Plotting Comments/Views % First Trend"
   ]
  },
  {
   "cell_type": "code",
   "execution_count": 69,
   "metadata": {},
   "outputs": [
    {
     "data": {
      "text/plain": [
       "Text(0, 0.5, 'COMMENTS TERHADAP VIEWS')"
      ]
     },
     "execution_count": 69,
     "metadata": {},
     "output_type": "execute_result"
    },
    {
     "data": {
      "image/png": "[encoded data removed]",
      "text/plain": [
       "<Figure size 360x360 with 1 Axes>"
      ]
     },
     "metadata": {
      "needs_background": "light"
     },
     "output_type": "display_data"
    }
   ],
   "source": [
    "fig = plt.figure(1, figsize=(5, 5))\n",
    "\n",
    "# membuat axes\n",
    "ax = fig.add_subplot(111)\n",
    "\n",
    "# boxplot\n",
    "ax.boxplot(dfUSvideosFirstTrend['comments/views(%)'].values, showfliers = False)\n",
    "\n",
    "#ax.set_ylim(0,100)\n",
    "ax.set_xticklabels(\"\")\n",
    "\n",
    "# penamaan judul\n",
    "plt.title(\"BOXPLOT COMMENTS TERHADAP VIEWS REGION UNITED STATES\", fontsize=14)\n",
    "\n",
    "plt.ylabel(\"COMMENTS TERHADAP VIEWS\", fontsize=14)"
   ]
  },
  {
   "cell_type": "markdown",
   "metadata": {},
   "source": [
    "## Testing Z-Score DF ZView"
   ]
  },
  {
   "cell_type": "code",
   "execution_count": 70,
   "metadata": {},
   "outputs": [
    {
     "name": "stderr",
     "output_type": "stream",
     "text": [
      "C:\\Users\\Abi\\Anaconda3\\lib\\site-packages\\ipykernel_launcher.py:2: SettingWithCopyWarning: \n",
      "A value is trying to be set on a copy of a slice from a DataFrame.\n",
      "Try using .loc[row_indexer,col_indexer] = value instead\n",
      "\n",
      "See the caveats in the documentation: http://pandas.pydata.org/pandas-docs/stable/user_guide/indexing.html#returning-a-view-versus-a-copy\n",
      "  \n"
     ]
    },
    {
     "data": {
      "text/html": [
       "<div>\n",
       "<style scoped>\n",
       "    .dataframe tbody tr th:only-of-type {\n",
       "        vertical-align: middle;\n",
       "    }\n",
       "\n",
       "    .dataframe tbody tr th {\n",
       "        vertical-align: top;\n",
       "    }\n",
       "\n",
       "    .dataframe thead th {\n",
       "        text-align: right;\n",
       "    }\n",
       "</style>\n",
       "<table border=\"1\" class=\"dataframe\">\n",
       "  <thead>\n",
       "    <tr style=\"text-align: right;\">\n",
       "      <th></th>\n",
       "      <th>video_id</th>\n",
       "      <th>trending_date</th>\n",
       "      <th>title</th>\n",
       "      <th>channel_title</th>\n",
       "      <th>category_id</th>\n",
       "      <th>publish_time</th>\n",
       "      <th>tags</th>\n",
       "      <th>views</th>\n",
       "      <th>likes</th>\n",
       "      <th>dislikes</th>\n",
       "      <th>comment_count</th>\n",
       "      <th>views_zscore</th>\n",
       "      <th>likes/views(%)</th>\n",
       "    </tr>\n",
       "  </thead>\n",
       "  <tbody>\n",
       "    <tr>\n",
       "      <td>0</td>\n",
       "      <td>-0CMnp02rNY</td>\n",
       "      <td>2018-06-06</td>\n",
       "      <td>Mindy Kaling's Daughter Had the Perfect Reacti...</td>\n",
       "      <td>TheEllenShow</td>\n",
       "      <td>24</td>\n",
       "      <td>2018-06-04T13:00:00.000Z</td>\n",
       "      <td>ellen|\"ellen degeneres\"|\"the ellen show\"|\"elle...</td>\n",
       "      <td>475965</td>\n",
       "      <td>6531</td>\n",
       "      <td>172</td>\n",
       "      <td>271</td>\n",
       "      <td>-0.146329</td>\n",
       "      <td>1.372160</td>\n",
       "    </tr>\n",
       "    <tr>\n",
       "      <td>1</td>\n",
       "      <td>-0NYY8cqdiQ</td>\n",
       "      <td>2018-02-01</td>\n",
       "      <td>Megan Mullally Didn't Notice the Interesting P...</td>\n",
       "      <td>TheEllenShow</td>\n",
       "      <td>24</td>\n",
       "      <td>2018-01-29T14:00:39.000Z</td>\n",
       "      <td>megan mullally|\"megan\"|\"mullally\"|\"will and gr...</td>\n",
       "      <td>563746</td>\n",
       "      <td>4429</td>\n",
       "      <td>54</td>\n",
       "      <td>94</td>\n",
       "      <td>-0.100819</td>\n",
       "      <td>0.785638</td>\n",
       "    </tr>\n",
       "    <tr>\n",
       "      <td>2</td>\n",
       "      <td>-1Hm41N0dUs</td>\n",
       "      <td>2018-04-29</td>\n",
       "      <td>Cast of Avengers: Infinity War Draws Their Cha...</td>\n",
       "      <td>Jimmy Kimmel Live</td>\n",
       "      <td>23</td>\n",
       "      <td>2018-04-27T07:30:02.000Z</td>\n",
       "      <td>jimmy|\"jimmy kimmel\"|\"jimmy kimmel live\"|\"late...</td>\n",
       "      <td>1566807</td>\n",
       "      <td>32752</td>\n",
       "      <td>393</td>\n",
       "      <td>1490</td>\n",
       "      <td>0.419214</td>\n",
       "      <td>2.090366</td>\n",
       "    </tr>\n",
       "    <tr>\n",
       "      <td>3</td>\n",
       "      <td>-1yT-K3c6YI</td>\n",
       "      <td>2017-11-29</td>\n",
       "      <td>YOUTUBER QUIZ + TRUTH OR DARE W/ THE MERRELL T...</td>\n",
       "      <td>Molly Burke</td>\n",
       "      <td>22</td>\n",
       "      <td>2017-11-28T18:30:43.000Z</td>\n",
       "      <td>youtube quiz|\"youtuber quiz\"|\"truth or dare\"|\"...</td>\n",
       "      <td>129360</td>\n",
       "      <td>5214</td>\n",
       "      <td>108</td>\n",
       "      <td>516</td>\n",
       "      <td>-0.326025</td>\n",
       "      <td>4.030612</td>\n",
       "    </tr>\n",
       "    <tr>\n",
       "      <td>4</td>\n",
       "      <td>-2RVw2_QyxQ</td>\n",
       "      <td>2017-11-14</td>\n",
       "      <td>2017 Champions Showdown: Day 3</td>\n",
       "      <td>Saint Louis Chess Club</td>\n",
       "      <td>27</td>\n",
       "      <td>2017-11-12T02:39:01.000Z</td>\n",
       "      <td>Chess|\"Saint Louis\"|\"Club\"</td>\n",
       "      <td>67429</td>\n",
       "      <td>438</td>\n",
       "      <td>23</td>\n",
       "      <td>23</td>\n",
       "      <td>-0.358132</td>\n",
       "      <td>0.649572</td>\n",
       "    </tr>\n",
       "    <tr>\n",
       "      <td>...</td>\n",
       "      <td>...</td>\n",
       "      <td>...</td>\n",
       "      <td>...</td>\n",
       "      <td>...</td>\n",
       "      <td>...</td>\n",
       "      <td>...</td>\n",
       "      <td>...</td>\n",
       "      <td>...</td>\n",
       "      <td>...</td>\n",
       "      <td>...</td>\n",
       "      <td>...</td>\n",
       "      <td>...</td>\n",
       "      <td>...</td>\n",
       "    </tr>\n",
       "    <tr>\n",
       "      <td>6346</td>\n",
       "      <td>zwEn-ambXLw</td>\n",
       "      <td>2018-03-26</td>\n",
       "      <td>This Is Me - Cover by Shoshana Bean Featuring ...</td>\n",
       "      <td>Shoshana Bean</td>\n",
       "      <td>10</td>\n",
       "      <td>2018-03-22T08:30:07.000Z</td>\n",
       "      <td>travis wall|\"shoshana bean\"|\"greatest showman\"...</td>\n",
       "      <td>114133</td>\n",
       "      <td>4979</td>\n",
       "      <td>66</td>\n",
       "      <td>198</td>\n",
       "      <td>-0.333919</td>\n",
       "      <td>4.362454</td>\n",
       "    </tr>\n",
       "    <tr>\n",
       "      <td>6347</td>\n",
       "      <td>zxUwbflE1SY</td>\n",
       "      <td>2017-11-15</td>\n",
       "      <td>100 People Hold Their Breath for as Long as Th...</td>\n",
       "      <td>Cut</td>\n",
       "      <td>24</td>\n",
       "      <td>2017-11-13T13:00:10.000Z</td>\n",
       "      <td>breath|\"hold\"|\"funny\"|\"holding breath\"|\"breath...</td>\n",
       "      <td>190669</td>\n",
       "      <td>5162</td>\n",
       "      <td>131</td>\n",
       "      <td>1151</td>\n",
       "      <td>-0.294239</td>\n",
       "      <td>2.707310</td>\n",
       "    </tr>\n",
       "    <tr>\n",
       "      <td>6348</td>\n",
       "      <td>zxwfDlhJIpw</td>\n",
       "      <td>2018-05-02</td>\n",
       "      <td>kanye west / charlamagne interview</td>\n",
       "      <td>Kanye West</td>\n",
       "      <td>22</td>\n",
       "      <td>2018-05-01T15:57:06.000Z</td>\n",
       "      <td>Kanye West|\"YEEZY\"|\"Kanye\"|\"Charlamagne\"|\"The ...</td>\n",
       "      <td>3134765</td>\n",
       "      <td>88905</td>\n",
       "      <td>7526</td>\n",
       "      <td>26692</td>\n",
       "      <td>1.232116</td>\n",
       "      <td>2.836098</td>\n",
       "    </tr>\n",
       "    <tr>\n",
       "      <td>6349</td>\n",
       "      <td>zy0b9e40tK8</td>\n",
       "      <td>2017-11-14</td>\n",
       "      <td>Dark | Official Trailer [HD] | Netflix</td>\n",
       "      <td>Netflix</td>\n",
       "      <td>24</td>\n",
       "      <td>2017-11-09T09:00:07.000Z</td>\n",
       "      <td>Netflix|\"Baran Bo Odar\"|\"Jantje Friese\"|\"DARK\"...</td>\n",
       "      <td>378750</td>\n",
       "      <td>5642</td>\n",
       "      <td>146</td>\n",
       "      <td>675</td>\n",
       "      <td>-0.196729</td>\n",
       "      <td>1.489637</td>\n",
       "    </tr>\n",
       "    <tr>\n",
       "      <td>6350</td>\n",
       "      <td>zzQsGL_F9_c</td>\n",
       "      <td>2018-02-05</td>\n",
       "      <td>Budweiser | Beer Country | :60</td>\n",
       "      <td>Budweiser</td>\n",
       "      <td>24</td>\n",
       "      <td>2018-01-30T18:30:04.000Z</td>\n",
       "      <td>Budweiser|\"Super Bowl\"|\"Clydesdales\"|\"Bud\"|\"Th...</td>\n",
       "      <td>154206</td>\n",
       "      <td>1180</td>\n",
       "      <td>107</td>\n",
       "      <td>55</td>\n",
       "      <td>-0.313143</td>\n",
       "      <td>0.765210</td>\n",
       "    </tr>\n",
       "  </tbody>\n",
       "</table>\n",
       "<p>6276 rows × 13 columns</p>\n",
       "</div>"
      ],
      "text/plain": [
       "         video_id trending_date  \\\n",
       "0     -0CMnp02rNY    2018-06-06   \n",
       "1     -0NYY8cqdiQ    2018-02-01   \n",
       "2     -1Hm41N0dUs    2018-04-29   \n",
       "3     -1yT-K3c6YI    2017-11-29   \n",
       "4     -2RVw2_QyxQ    2017-11-14   \n",
       "...           ...           ...   \n",
       "6346  zwEn-ambXLw    2018-03-26   \n",
       "6347  zxUwbflE1SY    2017-11-15   \n",
       "6348  zxwfDlhJIpw    2018-05-02   \n",
       "6349  zy0b9e40tK8    2017-11-14   \n",
       "6350  zzQsGL_F9_c    2018-02-05   \n",
       "\n",
       "                                                  title  \\\n",
       "0     Mindy Kaling's Daughter Had the Perfect Reacti...   \n",
       "1     Megan Mullally Didn't Notice the Interesting P...   \n",
       "2     Cast of Avengers: Infinity War Draws Their Cha...   \n",
       "3     YOUTUBER QUIZ + TRUTH OR DARE W/ THE MERRELL T...   \n",
       "4                        2017 Champions Showdown: Day 3   \n",
       "...                                                 ...   \n",
       "6346  This Is Me - Cover by Shoshana Bean Featuring ...   \n",
       "6347  100 People Hold Their Breath for as Long as Th...   \n",
       "6348                 kanye west / charlamagne interview   \n",
       "6349             Dark | Official Trailer [HD] | Netflix   \n",
       "6350                     Budweiser | Beer Country | :60   \n",
       "\n",
       "               channel_title  category_id              publish_time  \\\n",
       "0               TheEllenShow           24  2018-06-04T13:00:00.000Z   \n",
       "1               TheEllenShow           24  2018-01-29T14:00:39.000Z   \n",
       "2          Jimmy Kimmel Live           23  2018-04-27T07:30:02.000Z   \n",
       "3                Molly Burke           22  2017-11-28T18:30:43.000Z   \n",
       "4     Saint Louis Chess Club           27  2017-11-12T02:39:01.000Z   \n",
       "...                      ...          ...                       ...   \n",
       "6346           Shoshana Bean           10  2018-03-22T08:30:07.000Z   \n",
       "6347                     Cut           24  2017-11-13T13:00:10.000Z   \n",
       "6348              Kanye West           22  2018-05-01T15:57:06.000Z   \n",
       "6349                 Netflix           24  2017-11-09T09:00:07.000Z   \n",
       "6350               Budweiser           24  2018-01-30T18:30:04.000Z   \n",
       "\n",
       "                                                   tags    views  likes  \\\n",
       "0     ellen|\"ellen degeneres\"|\"the ellen show\"|\"elle...   475965   6531   \n",
       "1     megan mullally|\"megan\"|\"mullally\"|\"will and gr...   563746   4429   \n",
       "2     jimmy|\"jimmy kimmel\"|\"jimmy kimmel live\"|\"late...  1566807  32752   \n",
       "3     youtube quiz|\"youtuber quiz\"|\"truth or dare\"|\"...   129360   5214   \n",
       "4                            Chess|\"Saint Louis\"|\"Club\"    67429    438   \n",
       "...                                                 ...      ...    ...   \n",
       "6346  travis wall|\"shoshana bean\"|\"greatest showman\"...   114133   4979   \n",
       "6347  breath|\"hold\"|\"funny\"|\"holding breath\"|\"breath...   190669   5162   \n",
       "6348  Kanye West|\"YEEZY\"|\"Kanye\"|\"Charlamagne\"|\"The ...  3134765  88905   \n",
       "6349  Netflix|\"Baran Bo Odar\"|\"Jantje Friese\"|\"DARK\"...   378750   5642   \n",
       "6350  Budweiser|\"Super Bowl\"|\"Clydesdales\"|\"Bud\"|\"Th...   154206   1180   \n",
       "\n",
       "      dislikes  comment_count  views_zscore  likes/views(%)  \n",
       "0          172            271     -0.146329        1.372160  \n",
       "1           54             94     -0.100819        0.785638  \n",
       "2          393           1490      0.419214        2.090366  \n",
       "3          108            516     -0.326025        4.030612  \n",
       "4           23             23     -0.358132        0.649572  \n",
       "...        ...            ...           ...             ...  \n",
       "6346        66            198     -0.333919        4.362454  \n",
       "6347       131           1151     -0.294239        2.707310  \n",
       "6348      7526          26692      1.232116        2.836098  \n",
       "6349       146            675     -0.196729        1.489637  \n",
       "6350       107             55     -0.313143        0.765210  \n",
       "\n",
       "[6276 rows x 13 columns]"
      ]
     },
     "execution_count": 70,
     "metadata": {},
     "output_type": "execute_result"
    }
   ],
   "source": [
    "# Menambah kolom likes/views\n",
    "dfUSvideosFirstTrend_zView['likes/views(%)'] = dfUSvideosFirstTrend_zView['likes']/dfUSvideosFirstTrend_zView['views']*100\n",
    "\n",
    "dfUSvideosFirstTrend_zView"
   ]
  },
  {
   "cell_type": "code",
   "execution_count": 71,
   "metadata": {},
   "outputs": [
    {
     "data": {
      "text/plain": [
       "Text(0, 0.5, 'LIKES TERHADAP VIEWS')"
      ]
     },
     "execution_count": 71,
     "metadata": {},
     "output_type": "execute_result"
    },
    {
     "data": {
      "image/png": "[encoded data removed]",
      "text/plain": [
       "<Figure size 360x360 with 1 Axes>"
      ]
     },
     "metadata": {
      "needs_background": "light"
     },
     "output_type": "display_data"
    }
   ],
   "source": [
    "fig = plt.figure(1, figsize=(5, 5))\n",
    "\n",
    "# membuat axes\n",
    "ax = fig.add_subplot(111)\n",
    "\n",
    "# boxplot\n",
    "ax.boxplot(dfUSvideosFirstTrend_zView['likes/views(%)'].values)\n",
    "\n",
    "# ax.set_ylim(0,1000)\n",
    "ax.set_xticklabels(\"\")\n",
    "\n",
    "# penamaan judul\n",
    "plt.title(\"BOXPLOT LIKES TERHADAP VIEWS REGION UNITED STATES\", fontsize=14)\n",
    "\n",
    "plt.ylabel(\"LIKES TERHADAP VIEWS\", fontsize=14)"
   ]
  },
  {
   "cell_type": "code",
   "execution_count": 72,
   "metadata": {},
   "outputs": [
    {
     "data": {
      "text/html": [
       "<div>\n",
       "<style scoped>\n",
       "    .dataframe tbody tr th:only-of-type {\n",
       "        vertical-align: middle;\n",
       "    }\n",
       "\n",
       "    .dataframe tbody tr th {\n",
       "        vertical-align: top;\n",
       "    }\n",
       "\n",
       "    .dataframe thead th {\n",
       "        text-align: right;\n",
       "    }\n",
       "</style>\n",
       "<table border=\"1\" class=\"dataframe\">\n",
       "  <thead>\n",
       "    <tr style=\"text-align: right;\">\n",
       "      <th></th>\n",
       "      <th>video_id</th>\n",
       "      <th>trending_date</th>\n",
       "      <th>title</th>\n",
       "      <th>channel_title</th>\n",
       "      <th>category_id</th>\n",
       "      <th>publish_time</th>\n",
       "      <th>tags</th>\n",
       "      <th>views</th>\n",
       "      <th>likes</th>\n",
       "      <th>dislikes</th>\n",
       "      <th>comment_count</th>\n",
       "      <th>views_zscore</th>\n",
       "      <th>likes/views(%)</th>\n",
       "      <th>dislikes/views(%)</th>\n",
       "      <th>comments/views(%)</th>\n",
       "      <th>likes/views_zscore</th>\n",
       "    </tr>\n",
       "  </thead>\n",
       "  <tbody>\n",
       "    <tr>\n",
       "      <td>0</td>\n",
       "      <td>-0CMnp02rNY</td>\n",
       "      <td>2018-06-06</td>\n",
       "      <td>Mindy Kaling's Daughter Had the Perfect Reacti...</td>\n",
       "      <td>TheEllenShow</td>\n",
       "      <td>24</td>\n",
       "      <td>2018-06-04T13:00:00.000Z</td>\n",
       "      <td>ellen|\"ellen degeneres\"|\"the ellen show\"|\"elle...</td>\n",
       "      <td>475965</td>\n",
       "      <td>6531</td>\n",
       "      <td>172</td>\n",
       "      <td>271</td>\n",
       "      <td>-0.146329</td>\n",
       "      <td>1.372160</td>\n",
       "      <td>0.036137</td>\n",
       "      <td>0.056937</td>\n",
       "      <td>-0.761053</td>\n",
       "    </tr>\n",
       "    <tr>\n",
       "      <td>1</td>\n",
       "      <td>-0NYY8cqdiQ</td>\n",
       "      <td>2018-02-01</td>\n",
       "      <td>Megan Mullally Didn't Notice the Interesting P...</td>\n",
       "      <td>TheEllenShow</td>\n",
       "      <td>24</td>\n",
       "      <td>2018-01-29T14:00:39.000Z</td>\n",
       "      <td>megan mullally|\"megan\"|\"mullally\"|\"will and gr...</td>\n",
       "      <td>563746</td>\n",
       "      <td>4429</td>\n",
       "      <td>54</td>\n",
       "      <td>94</td>\n",
       "      <td>-0.100819</td>\n",
       "      <td>0.785638</td>\n",
       "      <td>0.009579</td>\n",
       "      <td>0.016674</td>\n",
       "      <td>-0.929107</td>\n",
       "    </tr>\n",
       "    <tr>\n",
       "      <td>2</td>\n",
       "      <td>-1Hm41N0dUs</td>\n",
       "      <td>2018-04-29</td>\n",
       "      <td>Cast of Avengers: Infinity War Draws Their Cha...</td>\n",
       "      <td>Jimmy Kimmel Live</td>\n",
       "      <td>23</td>\n",
       "      <td>2018-04-27T07:30:02.000Z</td>\n",
       "      <td>jimmy|\"jimmy kimmel\"|\"jimmy kimmel live\"|\"late...</td>\n",
       "      <td>1566807</td>\n",
       "      <td>32752</td>\n",
       "      <td>393</td>\n",
       "      <td>1490</td>\n",
       "      <td>0.419214</td>\n",
       "      <td>2.090366</td>\n",
       "      <td>0.025083</td>\n",
       "      <td>0.095098</td>\n",
       "      <td>-0.555267</td>\n",
       "    </tr>\n",
       "    <tr>\n",
       "      <td>3</td>\n",
       "      <td>-1yT-K3c6YI</td>\n",
       "      <td>2017-11-29</td>\n",
       "      <td>YOUTUBER QUIZ + TRUTH OR DARE W/ THE MERRELL T...</td>\n",
       "      <td>Molly Burke</td>\n",
       "      <td>22</td>\n",
       "      <td>2017-11-28T18:30:43.000Z</td>\n",
       "      <td>youtube quiz|\"youtuber quiz\"|\"truth or dare\"|\"...</td>\n",
       "      <td>129360</td>\n",
       "      <td>5214</td>\n",
       "      <td>108</td>\n",
       "      <td>516</td>\n",
       "      <td>-0.326025</td>\n",
       "      <td>4.030612</td>\n",
       "      <td>0.083488</td>\n",
       "      <td>0.398887</td>\n",
       "      <td>0.000666</td>\n",
       "    </tr>\n",
       "    <tr>\n",
       "      <td>4</td>\n",
       "      <td>-2RVw2_QyxQ</td>\n",
       "      <td>2017-11-14</td>\n",
       "      <td>2017 Champions Showdown: Day 3</td>\n",
       "      <td>Saint Louis Chess Club</td>\n",
       "      <td>27</td>\n",
       "      <td>2017-11-12T02:39:01.000Z</td>\n",
       "      <td>Chess|\"Saint Louis\"|\"Club\"</td>\n",
       "      <td>67429</td>\n",
       "      <td>438</td>\n",
       "      <td>23</td>\n",
       "      <td>23</td>\n",
       "      <td>-0.358132</td>\n",
       "      <td>0.649572</td>\n",
       "      <td>0.034110</td>\n",
       "      <td>0.034110</td>\n",
       "      <td>-0.968094</td>\n",
       "    </tr>\n",
       "    <tr>\n",
       "      <td>...</td>\n",
       "      <td>...</td>\n",
       "      <td>...</td>\n",
       "      <td>...</td>\n",
       "      <td>...</td>\n",
       "      <td>...</td>\n",
       "      <td>...</td>\n",
       "      <td>...</td>\n",
       "      <td>...</td>\n",
       "      <td>...</td>\n",
       "      <td>...</td>\n",
       "      <td>...</td>\n",
       "      <td>...</td>\n",
       "      <td>...</td>\n",
       "      <td>...</td>\n",
       "      <td>...</td>\n",
       "      <td>...</td>\n",
       "    </tr>\n",
       "    <tr>\n",
       "      <td>6346</td>\n",
       "      <td>zwEn-ambXLw</td>\n",
       "      <td>2018-03-26</td>\n",
       "      <td>This Is Me - Cover by Shoshana Bean Featuring ...</td>\n",
       "      <td>Shoshana Bean</td>\n",
       "      <td>10</td>\n",
       "      <td>2018-03-22T08:30:07.000Z</td>\n",
       "      <td>travis wall|\"shoshana bean\"|\"greatest showman\"...</td>\n",
       "      <td>114133</td>\n",
       "      <td>4979</td>\n",
       "      <td>66</td>\n",
       "      <td>198</td>\n",
       "      <td>-0.333919</td>\n",
       "      <td>4.362454</td>\n",
       "      <td>0.057827</td>\n",
       "      <td>0.173482</td>\n",
       "      <td>0.095748</td>\n",
       "    </tr>\n",
       "    <tr>\n",
       "      <td>6347</td>\n",
       "      <td>zxUwbflE1SY</td>\n",
       "      <td>2017-11-15</td>\n",
       "      <td>100 People Hold Their Breath for as Long as Th...</td>\n",
       "      <td>Cut</td>\n",
       "      <td>24</td>\n",
       "      <td>2017-11-13T13:00:10.000Z</td>\n",
       "      <td>breath|\"hold\"|\"funny\"|\"holding breath\"|\"breath...</td>\n",
       "      <td>190669</td>\n",
       "      <td>5162</td>\n",
       "      <td>131</td>\n",
       "      <td>1151</td>\n",
       "      <td>-0.294239</td>\n",
       "      <td>2.707310</td>\n",
       "      <td>0.068705</td>\n",
       "      <td>0.603664</td>\n",
       "      <td>-0.378496</td>\n",
       "    </tr>\n",
       "    <tr>\n",
       "      <td>6348</td>\n",
       "      <td>zxwfDlhJIpw</td>\n",
       "      <td>2018-05-02</td>\n",
       "      <td>kanye west / charlamagne interview</td>\n",
       "      <td>Kanye West</td>\n",
       "      <td>22</td>\n",
       "      <td>2018-05-01T15:57:06.000Z</td>\n",
       "      <td>Kanye West|\"YEEZY\"|\"Kanye\"|\"Charlamagne\"|\"The ...</td>\n",
       "      <td>3134765</td>\n",
       "      <td>88905</td>\n",
       "      <td>7526</td>\n",
       "      <td>26692</td>\n",
       "      <td>1.232116</td>\n",
       "      <td>2.836098</td>\n",
       "      <td>0.240082</td>\n",
       "      <td>0.851483</td>\n",
       "      <td>-0.341595</td>\n",
       "    </tr>\n",
       "    <tr>\n",
       "      <td>6349</td>\n",
       "      <td>zy0b9e40tK8</td>\n",
       "      <td>2017-11-14</td>\n",
       "      <td>Dark | Official Trailer [HD] | Netflix</td>\n",
       "      <td>Netflix</td>\n",
       "      <td>24</td>\n",
       "      <td>2017-11-09T09:00:07.000Z</td>\n",
       "      <td>Netflix|\"Baran Bo Odar\"|\"Jantje Friese\"|\"DARK\"...</td>\n",
       "      <td>378750</td>\n",
       "      <td>5642</td>\n",
       "      <td>146</td>\n",
       "      <td>675</td>\n",
       "      <td>-0.196729</td>\n",
       "      <td>1.489637</td>\n",
       "      <td>0.038548</td>\n",
       "      <td>0.178218</td>\n",
       "      <td>-0.727393</td>\n",
       "    </tr>\n",
       "    <tr>\n",
       "      <td>6350</td>\n",
       "      <td>zzQsGL_F9_c</td>\n",
       "      <td>2018-02-05</td>\n",
       "      <td>Budweiser | Beer Country | :60</td>\n",
       "      <td>Budweiser</td>\n",
       "      <td>24</td>\n",
       "      <td>2018-01-30T18:30:04.000Z</td>\n",
       "      <td>Budweiser|\"Super Bowl\"|\"Clydesdales\"|\"Bud\"|\"Th...</td>\n",
       "      <td>154206</td>\n",
       "      <td>1180</td>\n",
       "      <td>107</td>\n",
       "      <td>55</td>\n",
       "      <td>-0.313143</td>\n",
       "      <td>0.765210</td>\n",
       "      <td>0.069388</td>\n",
       "      <td>0.035667</td>\n",
       "      <td>-0.934960</td>\n",
       "    </tr>\n",
       "  </tbody>\n",
       "</table>\n",
       "<p>6255 rows × 16 columns</p>\n",
       "</div>"
      ],
      "text/plain": [
       "         video_id trending_date  \\\n",
       "0     -0CMnp02rNY    2018-06-06   \n",
       "1     -0NYY8cqdiQ    2018-02-01   \n",
       "2     -1Hm41N0dUs    2018-04-29   \n",
       "3     -1yT-K3c6YI    2017-11-29   \n",
       "4     -2RVw2_QyxQ    2017-11-14   \n",
       "...           ...           ...   \n",
       "6346  zwEn-ambXLw    2018-03-26   \n",
       "6347  zxUwbflE1SY    2017-11-15   \n",
       "6348  zxwfDlhJIpw    2018-05-02   \n",
       "6349  zy0b9e40tK8    2017-11-14   \n",
       "6350  zzQsGL_F9_c    2018-02-05   \n",
       "\n",
       "                                                  title  \\\n",
       "0     Mindy Kaling's Daughter Had the Perfect Reacti...   \n",
       "1     Megan Mullally Didn't Notice the Interesting P...   \n",
       "2     Cast of Avengers: Infinity War Draws Their Cha...   \n",
       "3     YOUTUBER QUIZ + TRUTH OR DARE W/ THE MERRELL T...   \n",
       "4                        2017 Champions Showdown: Day 3   \n",
       "...                                                 ...   \n",
       "6346  This Is Me - Cover by Shoshana Bean Featuring ...   \n",
       "6347  100 People Hold Their Breath for as Long as Th...   \n",
       "6348                 kanye west / charlamagne interview   \n",
       "6349             Dark | Official Trailer [HD] | Netflix   \n",
       "6350                     Budweiser | Beer Country | :60   \n",
       "\n",
       "               channel_title  category_id              publish_time  \\\n",
       "0               TheEllenShow           24  2018-06-04T13:00:00.000Z   \n",
       "1               TheEllenShow           24  2018-01-29T14:00:39.000Z   \n",
       "2          Jimmy Kimmel Live           23  2018-04-27T07:30:02.000Z   \n",
       "3                Molly Burke           22  2017-11-28T18:30:43.000Z   \n",
       "4     Saint Louis Chess Club           27  2017-11-12T02:39:01.000Z   \n",
       "...                      ...          ...                       ...   \n",
       "6346           Shoshana Bean           10  2018-03-22T08:30:07.000Z   \n",
       "6347                     Cut           24  2017-11-13T13:00:10.000Z   \n",
       "6348              Kanye West           22  2018-05-01T15:57:06.000Z   \n",
       "6349                 Netflix           24  2017-11-09T09:00:07.000Z   \n",
       "6350               Budweiser           24  2018-01-30T18:30:04.000Z   \n",
       "\n",
       "                                                   tags    views  likes  \\\n",
       "0     ellen|\"ellen degeneres\"|\"the ellen show\"|\"elle...   475965   6531   \n",
       "1     megan mullally|\"megan\"|\"mullally\"|\"will and gr...   563746   4429   \n",
       "2     jimmy|\"jimmy kimmel\"|\"jimmy kimmel live\"|\"late...  1566807  32752   \n",
       "3     youtube quiz|\"youtuber quiz\"|\"truth or dare\"|\"...   129360   5214   \n",
       "4                            Chess|\"Saint Louis\"|\"Club\"    67429    438   \n",
       "...                                                 ...      ...    ...   \n",
       "6346  travis wall|\"shoshana bean\"|\"greatest showman\"...   114133   4979   \n",
       "6347  breath|\"hold\"|\"funny\"|\"holding breath\"|\"breath...   190669   5162   \n",
       "6348  Kanye West|\"YEEZY\"|\"Kanye\"|\"Charlamagne\"|\"The ...  3134765  88905   \n",
       "6349  Netflix|\"Baran Bo Odar\"|\"Jantje Friese\"|\"DARK\"...   378750   5642   \n",
       "6350  Budweiser|\"Super Bowl\"|\"Clydesdales\"|\"Bud\"|\"Th...   154206   1180   \n",
       "\n",
       "      dislikes  comment_count  views_zscore  likes/views(%)  \\\n",
       "0          172            271     -0.146329        1.372160   \n",
       "1           54             94     -0.100819        0.785638   \n",
       "2          393           1490      0.419214        2.090366   \n",
       "3          108            516     -0.326025        4.030612   \n",
       "4           23             23     -0.358132        0.649572   \n",
       "...        ...            ...           ...             ...   \n",
       "6346        66            198     -0.333919        4.362454   \n",
       "6347       131           1151     -0.294239        2.707310   \n",
       "6348      7526          26692      1.232116        2.836098   \n",
       "6349       146            675     -0.196729        1.489637   \n",
       "6350       107             55     -0.313143        0.765210   \n",
       "\n",
       "      dislikes/views(%)  comments/views(%)  likes/views_zscore  \n",
       "0              0.036137           0.056937           -0.761053  \n",
       "1              0.009579           0.016674           -0.929107  \n",
       "2              0.025083           0.095098           -0.555267  \n",
       "3              0.083488           0.398887            0.000666  \n",
       "4              0.034110           0.034110           -0.968094  \n",
       "...                 ...                ...                 ...  \n",
       "6346           0.057827           0.173482            0.095748  \n",
       "6347           0.068705           0.603664           -0.378496  \n",
       "6348           0.240082           0.851483           -0.341595  \n",
       "6349           0.038548           0.178218           -0.727393  \n",
       "6350           0.069388           0.035667           -0.934960  \n",
       "\n",
       "[6255 rows x 16 columns]"
      ]
     },
     "execution_count": 72,
     "metadata": {},
     "output_type": "execute_result"
    }
   ],
   "source": [
    "#Z-Score Likes/Views\n",
    "dfUSvideosFirstTrend['likes/views_zscore'] = (dfUSvideosFirstTrend['likes/views(%)'] - dfUSvideosFirstTrend['likes/views(%)'].mean())/dfUSvideosFirstTrend['likes/views(%)'].std(ddof=0)\n",
    "\n",
    "dfUSvideosFirstTrend_zLikesViews = dfUSvideosFirstTrend[dfUSvideosFirstTrend['likes/views_zscore'] < 3]\n",
    "\n",
    "dfUSvideosFirstTrend_zLikesViews"
   ]
  },
  {
   "cell_type": "code",
   "execution_count": 73,
   "metadata": {},
   "outputs": [
    {
     "data": {
      "text/plain": [
       "Text(0, 0.5, 'LIKES TERHADAP VIEWS')"
      ]
     },
     "execution_count": 73,
     "metadata": {},
     "output_type": "execute_result"
    },
    {
     "data": {
      "image/png": "[encoded data removed]",
      "text/plain": [
       "<Figure size 360x360 with 1 Axes>"
      ]
     },
     "metadata": {
      "needs_background": "light"
     },
     "output_type": "display_data"
    }
   ],
   "source": [
    "fig = plt.figure(1, figsize=(5, 5))\n",
    "\n",
    "# membuat axes\n",
    "ax = fig.add_subplot(111)\n",
    "\n",
    "# boxplot\n",
    "ax.boxplot(dfUSvideosFirstTrend_zLikesViews['likes/views(%)'].values)\n",
    "\n",
    "# ax.set_ylim(0,1000)\n",
    "ax.set_xticklabels(\"\")\n",
    "\n",
    "# penamaan judul\n",
    "plt.title(\"BOXPLOT LIKES TERHADAP VIEWS REGION UNITED STATES\", fontsize=14)\n",
    "\n",
    "plt.ylabel(\"LIKES TERHADAP VIEWS\", fontsize=14)"
   ]
  },
  {
   "cell_type": "markdown",
   "metadata": {},
   "source": [
    "<b>------------------------------------------------------------------------------------------------------------------------------------------------------------------------------------------------------------------------------------------------------------------------------------------------------------------------------------------------------------------------------------------------------------------------------------------------------------------------------------------------------------------------------------------------------------------------------------------------------------------------------------------------------------------------------------------------------------------------------------------------------------------------------------------------------------------------------------------------------------------------</b>"
   ]
  },
  {
   "cell_type": "markdown",
   "metadata": {},
   "source": [
    "## MENCARI MACAM-MACAM TOP 5"
   ]
  },
  {
   "cell_type": "markdown",
   "metadata": {},
   "source": [
    "## TOP 5 KATEGORI VIDEO TERBANYAK YANG DIUPLOAD DI UNITED STATES"
   ]
  },
  {
   "cell_type": "markdown",
   "metadata": {},
   "source": [
    "Untuk mencari top 5 kategori video terbanyak dan terendah yang diupload berdasarkan masing-masing wilayah, maka dataframe baru yang menampilkan berapa banyak video yang diupload berdasarkan kategori perlu untuk dibuat."
   ]
  },
  {
   "cell_type": "code",
   "execution_count": 74,
   "metadata": {},
   "outputs": [
    {
     "name": "stdout",
     "output_type": "stream",
     "text": [
      "DATA UPLOAD BERDASARKAN KATEGORI UNITED STATES\n"
     ]
    },
    {
     "data": {
      "text/html": [
       "<div>\n",
       "<style scoped>\n",
       "    .dataframe tbody tr th:only-of-type {\n",
       "        vertical-align: middle;\n",
       "    }\n",
       "\n",
       "    .dataframe tbody tr th {\n",
       "        vertical-align: top;\n",
       "    }\n",
       "\n",
       "    .dataframe thead th {\n",
       "        text-align: right;\n",
       "    }\n",
       "</style>\n",
       "<table border=\"1\" class=\"dataframe\">\n",
       "  <thead>\n",
       "    <tr style=\"text-align: right;\">\n",
       "      <th></th>\n",
       "      <th>id</th>\n",
       "      <th>category</th>\n",
       "      <th>upload_count</th>\n",
       "    </tr>\n",
       "  </thead>\n",
       "  <tbody>\n",
       "    <tr>\n",
       "      <td>0</td>\n",
       "      <td>1</td>\n",
       "      <td>Film &amp; Animation</td>\n",
       "      <td>2345</td>\n",
       "    </tr>\n",
       "    <tr>\n",
       "      <td>1</td>\n",
       "      <td>2</td>\n",
       "      <td>Autos &amp; Vehicles</td>\n",
       "      <td>384</td>\n",
       "    </tr>\n",
       "    <tr>\n",
       "      <td>2</td>\n",
       "      <td>10</td>\n",
       "      <td>Music</td>\n",
       "      <td>6472</td>\n",
       "    </tr>\n",
       "    <tr>\n",
       "      <td>3</td>\n",
       "      <td>15</td>\n",
       "      <td>Pets &amp; Animals</td>\n",
       "      <td>920</td>\n",
       "    </tr>\n",
       "    <tr>\n",
       "      <td>4</td>\n",
       "      <td>17</td>\n",
       "      <td>Sports</td>\n",
       "      <td>2174</td>\n",
       "    </tr>\n",
       "    <tr>\n",
       "      <td>5</td>\n",
       "      <td>19</td>\n",
       "      <td>Travel &amp; Events</td>\n",
       "      <td>402</td>\n",
       "    </tr>\n",
       "    <tr>\n",
       "      <td>6</td>\n",
       "      <td>20</td>\n",
       "      <td>Gaming</td>\n",
       "      <td>817</td>\n",
       "    </tr>\n",
       "    <tr>\n",
       "      <td>7</td>\n",
       "      <td>22</td>\n",
       "      <td>People &amp; Blogs</td>\n",
       "      <td>3210</td>\n",
       "    </tr>\n",
       "    <tr>\n",
       "      <td>8</td>\n",
       "      <td>23</td>\n",
       "      <td>Comedy</td>\n",
       "      <td>3457</td>\n",
       "    </tr>\n",
       "    <tr>\n",
       "      <td>9</td>\n",
       "      <td>24</td>\n",
       "      <td>Entertainment</td>\n",
       "      <td>9964</td>\n",
       "    </tr>\n",
       "    <tr>\n",
       "      <td>10</td>\n",
       "      <td>25</td>\n",
       "      <td>News &amp; Politics</td>\n",
       "      <td>2487</td>\n",
       "    </tr>\n",
       "    <tr>\n",
       "      <td>11</td>\n",
       "      <td>26</td>\n",
       "      <td>Howto &amp; Style</td>\n",
       "      <td>4146</td>\n",
       "    </tr>\n",
       "    <tr>\n",
       "      <td>12</td>\n",
       "      <td>27</td>\n",
       "      <td>Education</td>\n",
       "      <td>1656</td>\n",
       "    </tr>\n",
       "    <tr>\n",
       "      <td>13</td>\n",
       "      <td>28</td>\n",
       "      <td>Science &amp; Technology</td>\n",
       "      <td>2401</td>\n",
       "    </tr>\n",
       "    <tr>\n",
       "      <td>14</td>\n",
       "      <td>29</td>\n",
       "      <td>Nonprofits &amp; Activism</td>\n",
       "      <td>57</td>\n",
       "    </tr>\n",
       "    <tr>\n",
       "      <td>15</td>\n",
       "      <td>43</td>\n",
       "      <td>Shows</td>\n",
       "      <td>57</td>\n",
       "    </tr>\n",
       "  </tbody>\n",
       "</table>\n",
       "</div>"
      ],
      "text/plain": [
       "    id               category  upload_count\n",
       "0    1       Film & Animation          2345\n",
       "1    2       Autos & Vehicles           384\n",
       "2   10                  Music          6472\n",
       "3   15         Pets & Animals           920\n",
       "4   17                 Sports          2174\n",
       "5   19        Travel & Events           402\n",
       "6   20                 Gaming           817\n",
       "7   22         People & Blogs          3210\n",
       "8   23                 Comedy          3457\n",
       "9   24          Entertainment          9964\n",
       "10  25        News & Politics          2487\n",
       "11  26          Howto & Style          4146\n",
       "12  27              Education          1656\n",
       "13  28   Science & Technology          2401\n",
       "14  29  Nonprofits & Activism            57\n",
       "15  43                  Shows            57"
      ]
     },
     "execution_count": 74,
     "metadata": {},
     "output_type": "execute_result"
    }
   ],
   "source": [
    "data_upload_category_us = {\n",
    "    \n",
    "    # a adalah hasil sorting array saat menemukan value yang unique dari id kategori data video region United States\n",
    "    'id' : a,\n",
    "    'category' : [i for i in dfUScategory['category']],\n",
    "    'upload_count': [gUSvideo.get_group(items)['category_id'].count() for items in dfUScategory['id']]\n",
    "}\n",
    "\n",
    "dfCatUploadUS = pd.DataFrame(data_upload_category_us)\n",
    "\n",
    "print(\"DATA UPLOAD BERDASARKAN KATEGORI UNITED STATES\")\n",
    "dfCatUploadUS"
   ]
  },
  {
   "cell_type": "markdown",
   "metadata": {},
   "source": [
    "### 1. Top 5 Kategori Dengan Upload Tertinggi Wilayah United States"
   ]
  },
  {
   "cell_type": "code",
   "execution_count": 75,
   "metadata": {},
   "outputs": [
    {
     "name": "stdout",
     "output_type": "stream",
     "text": [
      "TOP 5 KATEGORI DENGAN UPLOAD TERBANYAK DI UNITED STATES\n"
     ]
    },
    {
     "data": {
      "text/html": [
       "<div>\n",
       "<style scoped>\n",
       "    .dataframe tbody tr th:only-of-type {\n",
       "        vertical-align: middle;\n",
       "    }\n",
       "\n",
       "    .dataframe tbody tr th {\n",
       "        vertical-align: top;\n",
       "    }\n",
       "\n",
       "    .dataframe thead th {\n",
       "        text-align: right;\n",
       "    }\n",
       "</style>\n",
       "<table border=\"1\" class=\"dataframe\">\n",
       "  <thead>\n",
       "    <tr style=\"text-align: right;\">\n",
       "      <th></th>\n",
       "      <th>id</th>\n",
       "      <th>category</th>\n",
       "      <th>upload_count</th>\n",
       "    </tr>\n",
       "  </thead>\n",
       "  <tbody>\n",
       "    <tr>\n",
       "      <td>1</td>\n",
       "      <td>24</td>\n",
       "      <td>Entertainment</td>\n",
       "      <td>9964</td>\n",
       "    </tr>\n",
       "    <tr>\n",
       "      <td>2</td>\n",
       "      <td>10</td>\n",
       "      <td>Music</td>\n",
       "      <td>6472</td>\n",
       "    </tr>\n",
       "    <tr>\n",
       "      <td>3</td>\n",
       "      <td>26</td>\n",
       "      <td>Howto &amp; Style</td>\n",
       "      <td>4146</td>\n",
       "    </tr>\n",
       "    <tr>\n",
       "      <td>4</td>\n",
       "      <td>23</td>\n",
       "      <td>Comedy</td>\n",
       "      <td>3457</td>\n",
       "    </tr>\n",
       "    <tr>\n",
       "      <td>5</td>\n",
       "      <td>22</td>\n",
       "      <td>People &amp; Blogs</td>\n",
       "      <td>3210</td>\n",
       "    </tr>\n",
       "  </tbody>\n",
       "</table>\n",
       "</div>"
      ],
      "text/plain": [
       "   id        category  upload_count\n",
       "1  24   Entertainment          9964\n",
       "2  10           Music          6472\n",
       "3  26   Howto & Style          4146\n",
       "4  23          Comedy          3457\n",
       "5  22  People & Blogs          3210"
      ]
     },
     "execution_count": 75,
     "metadata": {},
     "output_type": "execute_result"
    }
   ],
   "source": [
    "#sorting tertinggi\n",
    "top5US_upload_high = dfCatUploadUS.nlargest(5, \"upload_count\")\n",
    "\n",
    "#reindex dari 1\n",
    "top5US_upload_high.index = np.arange(1, len(top5US_upload_high) + 1)\n",
    "\n",
    "\n",
    "print(\"TOP 5 KATEGORI DENGAN UPLOAD TERBANYAK DI UNITED STATES\")\n",
    "top5US_upload_high"
   ]
  },
  {
   "cell_type": "markdown",
   "metadata": {},
   "source": [
    "### 2. Top 5 Kategori Dengan Upload Terendah Wilayah United States"
   ]
  },
  {
   "cell_type": "code",
   "execution_count": 76,
   "metadata": {},
   "outputs": [
    {
     "name": "stdout",
     "output_type": "stream",
     "text": [
      "TOP 5 KATEGORI DENGAN UPLOAD TERENDAH DI UNITED STATES\n"
     ]
    },
    {
     "data": {
      "text/html": [
       "<div>\n",
       "<style scoped>\n",
       "    .dataframe tbody tr th:only-of-type {\n",
       "        vertical-align: middle;\n",
       "    }\n",
       "\n",
       "    .dataframe tbody tr th {\n",
       "        vertical-align: top;\n",
       "    }\n",
       "\n",
       "    .dataframe thead th {\n",
       "        text-align: right;\n",
       "    }\n",
       "</style>\n",
       "<table border=\"1\" class=\"dataframe\">\n",
       "  <thead>\n",
       "    <tr style=\"text-align: right;\">\n",
       "      <th></th>\n",
       "      <th>id</th>\n",
       "      <th>category</th>\n",
       "      <th>upload_count</th>\n",
       "    </tr>\n",
       "  </thead>\n",
       "  <tbody>\n",
       "    <tr>\n",
       "      <td>1</td>\n",
       "      <td>29</td>\n",
       "      <td>Nonprofits &amp; Activism</td>\n",
       "      <td>57</td>\n",
       "    </tr>\n",
       "    <tr>\n",
       "      <td>2</td>\n",
       "      <td>43</td>\n",
       "      <td>Shows</td>\n",
       "      <td>57</td>\n",
       "    </tr>\n",
       "    <tr>\n",
       "      <td>3</td>\n",
       "      <td>2</td>\n",
       "      <td>Autos &amp; Vehicles</td>\n",
       "      <td>384</td>\n",
       "    </tr>\n",
       "    <tr>\n",
       "      <td>4</td>\n",
       "      <td>19</td>\n",
       "      <td>Travel &amp; Events</td>\n",
       "      <td>402</td>\n",
       "    </tr>\n",
       "    <tr>\n",
       "      <td>5</td>\n",
       "      <td>20</td>\n",
       "      <td>Gaming</td>\n",
       "      <td>817</td>\n",
       "    </tr>\n",
       "  </tbody>\n",
       "</table>\n",
       "</div>"
      ],
      "text/plain": [
       "   id               category  upload_count\n",
       "1  29  Nonprofits & Activism            57\n",
       "2  43                  Shows            57\n",
       "3   2       Autos & Vehicles           384\n",
       "4  19        Travel & Events           402\n",
       "5  20                 Gaming           817"
      ]
     },
     "execution_count": 76,
     "metadata": {},
     "output_type": "execute_result"
    }
   ],
   "source": [
    "#sorting terendah\n",
    "top5US_upload_low = dfCatUploadUS.sort_values('upload_count').head(5)\n",
    "\n",
    "#reindex dari 1\n",
    "top5US_upload_low.index = np.arange(1, len(top5US_upload_high) + 1)\n",
    "\n",
    "print(\"TOP 5 KATEGORI DENGAN UPLOAD TERENDAH DI UNITED STATES\")\n",
    "top5US_upload_low"
   ]
  },
  {
   "cell_type": "markdown",
   "metadata": {},
   "source": [
    "<b>------------------------------------------------------------------------------------------------------------------------------------------------------------------------------------------------------------------------------------------------------------------------------------------------------------------------------------------------------------------------------------------------------------------------------------</b>"
   ]
  },
  {
   "cell_type": "markdown",
   "metadata": {},
   "source": [
    "## TOP 5 KATEGORI BERDASARKAN AVERAGE VIEW DI UNITED STATES"
   ]
  },
  {
   "cell_type": "markdown",
   "metadata": {},
   "source": [
    "Untuk mencari top 5 kategori video tertinggi dan terendah berdasarkan average view untuk tiap wilayah wilayah, maka dataframe baru yang menampilkan berapa average view berdasarkan kategori perlu untuk dibuat."
   ]
  },
  {
   "cell_type": "code",
   "execution_count": 77,
   "metadata": {},
   "outputs": [],
   "source": [
    "data_avgview_category_us = {\n",
    "    \n",
    "    # a adalah hasil sorting array saat menemukan value yang unique dari id kategori data video region United States\n",
    "    'id' : a,\n",
    "    'category' : [i for i in dfUScategory['category']],\n",
    "    'average_views': [gUSvideo.get_group(items)['views'].mean() for items in dfUScategory['id']]\n",
    "}\n",
    "\n",
    "dfCatAvgViewUS = pd.DataFrame(data_avgview_category_us)"
   ]
  },
  {
   "cell_type": "markdown",
   "metadata": {},
   "source": [
    "### 1. Top 5 Kategori Dengan Average Views Tertinggi di United States"
   ]
  },
  {
   "cell_type": "code",
   "execution_count": 78,
   "metadata": {},
   "outputs": [
    {
     "name": "stdout",
     "output_type": "stream",
     "text": [
      "TOP 5 KATEGORI DENGAN AVERAGE VIEWS TERTINGGI DI UNITED STATES\n"
     ]
    },
    {
     "data": {
      "text/html": [
       "<div>\n",
       "<style scoped>\n",
       "    .dataframe tbody tr th:only-of-type {\n",
       "        vertical-align: middle;\n",
       "    }\n",
       "\n",
       "    .dataframe tbody tr th {\n",
       "        vertical-align: top;\n",
       "    }\n",
       "\n",
       "    .dataframe thead th {\n",
       "        text-align: right;\n",
       "    }\n",
       "</style>\n",
       "<table border=\"1\" class=\"dataframe\">\n",
       "  <thead>\n",
       "    <tr style=\"text-align: right;\">\n",
       "      <th></th>\n",
       "      <th>id</th>\n",
       "      <th>category</th>\n",
       "      <th>average_views</th>\n",
       "    </tr>\n",
       "  </thead>\n",
       "  <tbody>\n",
       "    <tr>\n",
       "      <td>1</td>\n",
       "      <td>10</td>\n",
       "      <td>Music</td>\n",
       "      <td>6201003.119592</td>\n",
       "    </tr>\n",
       "    <tr>\n",
       "      <td>2</td>\n",
       "      <td>1</td>\n",
       "      <td>Film &amp; Animation</td>\n",
       "      <td>3106250.200853</td>\n",
       "    </tr>\n",
       "    <tr>\n",
       "      <td>3</td>\n",
       "      <td>29</td>\n",
       "      <td>Nonprofits &amp; Activism</td>\n",
       "      <td>2963884.070175</td>\n",
       "    </tr>\n",
       "    <tr>\n",
       "      <td>4</td>\n",
       "      <td>20</td>\n",
       "      <td>Gaming</td>\n",
       "      <td>2620830.630355</td>\n",
       "    </tr>\n",
       "    <tr>\n",
       "      <td>5</td>\n",
       "      <td>24</td>\n",
       "      <td>Entertainment</td>\n",
       "      <td>2067883.199016</td>\n",
       "    </tr>\n",
       "  </tbody>\n",
       "</table>\n",
       "</div>"
      ],
      "text/plain": [
       "   id               category  average_views\n",
       "1  10                  Music 6201003.119592\n",
       "2   1       Film & Animation 3106250.200853\n",
       "3  29  Nonprofits & Activism 2963884.070175\n",
       "4  20                 Gaming 2620830.630355\n",
       "5  24          Entertainment 2067883.199016"
      ]
     },
     "execution_count": 78,
     "metadata": {},
     "output_type": "execute_result"
    }
   ],
   "source": [
    "#sorting tertinggi\n",
    "top5US_avgview_high = dfCatAvgViewUS.nlargest(5, \"average_views\")\n",
    "\n",
    "#reindex dari 1\n",
    "top5US_avgview_high.index = np.arange(1, len(top5US_avgview_high) + 1)\n",
    "\n",
    "print(\"TOP 5 KATEGORI DENGAN AVERAGE VIEWS TERTINGGI DI UNITED STATES\")\n",
    "top5US_avgview_high"
   ]
  },
  {
   "cell_type": "markdown",
   "metadata": {},
   "source": [
    "### 2. Top 5 Kategori Dengan Average Views Terendah di United States"
   ]
  },
  {
   "cell_type": "code",
   "execution_count": 79,
   "metadata": {},
   "outputs": [
    {
     "name": "stdout",
     "output_type": "stream",
     "text": [
      "TOP 5 KATEGORI DENGAN AVERAGE VIEWS TERENDAH DI UNITED STATES\n"
     ]
    },
    {
     "data": {
      "text/html": [
       "<div>\n",
       "<style scoped>\n",
       "    .dataframe tbody tr th:only-of-type {\n",
       "        vertical-align: middle;\n",
       "    }\n",
       "\n",
       "    .dataframe tbody tr th {\n",
       "        vertical-align: top;\n",
       "    }\n",
       "\n",
       "    .dataframe thead th {\n",
       "        text-align: right;\n",
       "    }\n",
       "</style>\n",
       "<table border=\"1\" class=\"dataframe\">\n",
       "  <thead>\n",
       "    <tr style=\"text-align: right;\">\n",
       "      <th></th>\n",
       "      <th>id</th>\n",
       "      <th>category</th>\n",
       "      <th>average_views</th>\n",
       "    </tr>\n",
       "  </thead>\n",
       "  <tbody>\n",
       "    <tr>\n",
       "      <td>1</td>\n",
       "      <td>25</td>\n",
       "      <td>News &amp; Politics</td>\n",
       "      <td>592587.737837</td>\n",
       "    </tr>\n",
       "    <tr>\n",
       "      <td>2</td>\n",
       "      <td>27</td>\n",
       "      <td>Education</td>\n",
       "      <td>712940.815217</td>\n",
       "    </tr>\n",
       "    <tr>\n",
       "      <td>3</td>\n",
       "      <td>15</td>\n",
       "      <td>Pets &amp; Animals</td>\n",
       "      <td>831143.466304</td>\n",
       "    </tr>\n",
       "    <tr>\n",
       "      <td>4</td>\n",
       "      <td>19</td>\n",
       "      <td>Travel &amp; Events</td>\n",
       "      <td>854619.611940</td>\n",
       "    </tr>\n",
       "    <tr>\n",
       "      <td>5</td>\n",
       "      <td>43</td>\n",
       "      <td>Shows</td>\n",
       "      <td>903527.333333</td>\n",
       "    </tr>\n",
       "  </tbody>\n",
       "</table>\n",
       "</div>"
      ],
      "text/plain": [
       "   id         category  average_views\n",
       "1  25  News & Politics  592587.737837\n",
       "2  27        Education  712940.815217\n",
       "3  15   Pets & Animals  831143.466304\n",
       "4  19  Travel & Events  854619.611940\n",
       "5  43            Shows  903527.333333"
      ]
     },
     "execution_count": 79,
     "metadata": {},
     "output_type": "execute_result"
    }
   ],
   "source": [
    "#sorting terendah\n",
    "top5US_avgview_low = dfCatAvgViewUS.sort_values('average_views').head(5)\n",
    "\n",
    "#reindex dari 1\n",
    "top5US_avgview_low.index = np.arange(1, len(top5US_avgview_low) + 1)\n",
    "\n",
    "print(\"TOP 5 KATEGORI DENGAN AVERAGE VIEWS TERENDAH DI UNITED STATES\")\n",
    "top5US_avgview_low"
   ]
  },
  {
   "cell_type": "markdown",
   "metadata": {},
   "source": [
    "<b>------------------------------------------------------------------------------------------------------------------------------------------------------------------------------------------------------------------------------------------------------------------------------------------------------------------------------------------------------------------------------------------------------------------------------------</b>"
   ]
  },
  {
   "cell_type": "markdown",
   "metadata": {},
   "source": [
    "## TOP 5 CHANNEL DENGAN VIEWER TERBANYAK DI UNITED STATES"
   ]
  },
  {
   "cell_type": "code",
   "execution_count": 80,
   "metadata": {},
   "outputs": [
    {
     "data": {
      "text/html": [
       "<div>\n",
       "<style scoped>\n",
       "    .dataframe tbody tr th:only-of-type {\n",
       "        vertical-align: middle;\n",
       "    }\n",
       "\n",
       "    .dataframe tbody tr th {\n",
       "        vertical-align: top;\n",
       "    }\n",
       "\n",
       "    .dataframe thead th {\n",
       "        text-align: right;\n",
       "    }\n",
       "</style>\n",
       "<table border=\"1\" class=\"dataframe\">\n",
       "  <thead>\n",
       "    <tr style=\"text-align: right;\">\n",
       "      <th></th>\n",
       "      <th>channel_title</th>\n",
       "      <th>views</th>\n",
       "    </tr>\n",
       "  </thead>\n",
       "  <tbody>\n",
       "    <tr>\n",
       "      <td>1</td>\n",
       "      <td>ChildishGambinoVEVO</td>\n",
       "      <td>3758488765</td>\n",
       "    </tr>\n",
       "    <tr>\n",
       "      <td>2</td>\n",
       "      <td>ibighit</td>\n",
       "      <td>2235906679</td>\n",
       "    </tr>\n",
       "    <tr>\n",
       "      <td>3</td>\n",
       "      <td>Dude Perfect</td>\n",
       "      <td>1870085178</td>\n",
       "    </tr>\n",
       "    <tr>\n",
       "      <td>4</td>\n",
       "      <td>Marvel Entertainment</td>\n",
       "      <td>1808998971</td>\n",
       "    </tr>\n",
       "    <tr>\n",
       "      <td>5</td>\n",
       "      <td>ArianaGrandeVevo</td>\n",
       "      <td>1576959172</td>\n",
       "    </tr>\n",
       "  </tbody>\n",
       "</table>\n",
       "</div>"
      ],
      "text/plain": [
       "          channel_title       views\n",
       "1   ChildishGambinoVEVO  3758488765\n",
       "2               ibighit  2235906679\n",
       "3          Dude Perfect  1870085178\n",
       "4  Marvel Entertainment  1808998971\n",
       "5      ArianaGrandeVevo  1576959172"
      ]
     },
     "execution_count": 80,
     "metadata": {},
     "output_type": "execute_result"
    }
   ],
   "source": [
    "#membuat dataframe baru dengan sum yang menghitung total viewer berdasarkan channel_title dalam datasets dfUSvideos\n",
    "dfChannelViewUS = dfUSvideos.groupby(['channel_title'])['views'].sum().reset_index()\n",
    "\n",
    "#melakukan sorting berdasarkan views\n",
    "dfChannelViewUS.sort_values(by=\"views\", inplace = True, ascending = False)\n",
    "\n",
    "#reset index dari 1\n",
    "dfChannelViewUS.reset_index(drop = True, inplace = True)\n",
    "dfChannelViewUS.index = dfChannelViewUS.index + 1\n",
    "\n",
    "dfChannelViewUS.head(5)"
   ]
  },
  {
   "cell_type": "markdown",
   "metadata": {},
   "source": [
    "<b>------------------------------------------------------------------------------------------------------------------------------------------------------------------------------------------------------------------------------------------------------------------------------------------------------------------------------------------------------------------------------------------------------------------------------------</b>"
   ]
  },
  {
   "cell_type": "markdown",
   "metadata": {},
   "source": [
    "## TOP 5 CHANNEL YANG PALING SERING MASUK DAILY TRENDING DI UNITED STATES"
   ]
  },
  {
   "cell_type": "markdown",
   "metadata": {},
   "source": [
    "Untuk mencari top 5 channel yang <b>paling sering masuk</b> daily trending di tiap wilayah + berapa <b>total viewernya</b>, maka dataframe baru yang menampilkan berapa kali channel muncul di datasets videos masing-masing wilayah perlu untuk dibuat, kemudian dimerge dengan dataframe baru juga yang menampilkan berapa jumlah total viewer tiap channel yang videonya pernah masuk ke dalam daily trending."
   ]
  },
  {
   "cell_type": "code",
   "execution_count": 81,
   "metadata": {},
   "outputs": [
    {
     "data": {
      "text/html": [
       "<div>\n",
       "<style scoped>\n",
       "    .dataframe tbody tr th:only-of-type {\n",
       "        vertical-align: middle;\n",
       "    }\n",
       "\n",
       "    .dataframe tbody tr th {\n",
       "        vertical-align: top;\n",
       "    }\n",
       "\n",
       "    .dataframe thead th {\n",
       "        text-align: right;\n",
       "    }\n",
       "</style>\n",
       "<table border=\"1\" class=\"dataframe\">\n",
       "  <thead>\n",
       "    <tr style=\"text-align: right;\">\n",
       "      <th></th>\n",
       "      <th>channel_title</th>\n",
       "      <th>trending_count</th>\n",
       "    </tr>\n",
       "  </thead>\n",
       "  <tbody>\n",
       "    <tr>\n",
       "      <td>1</td>\n",
       "      <td>ESPN</td>\n",
       "      <td>203</td>\n",
       "    </tr>\n",
       "    <tr>\n",
       "      <td>2</td>\n",
       "      <td>The Tonight Show Starring Jimmy Fallon</td>\n",
       "      <td>197</td>\n",
       "    </tr>\n",
       "    <tr>\n",
       "      <td>3</td>\n",
       "      <td>Vox</td>\n",
       "      <td>193</td>\n",
       "    </tr>\n",
       "    <tr>\n",
       "      <td>4</td>\n",
       "      <td>TheEllenShow</td>\n",
       "      <td>193</td>\n",
       "    </tr>\n",
       "    <tr>\n",
       "      <td>5</td>\n",
       "      <td>Netflix</td>\n",
       "      <td>193</td>\n",
       "    </tr>\n",
       "  </tbody>\n",
       "</table>\n",
       "</div>"
      ],
      "text/plain": [
       "                            channel_title  trending_count\n",
       "1                                    ESPN             203\n",
       "2  The Tonight Show Starring Jimmy Fallon             197\n",
       "3                                     Vox             193\n",
       "4                            TheEllenShow             193\n",
       "5                                 Netflix             193"
      ]
     },
     "execution_count": 81,
     "metadata": {},
     "output_type": "execute_result"
    }
   ],
   "source": [
    "#membuat dataframe baru dengan value_counts yang menghitung berapa kali channel_title muncul dalam datasets dfUSvideos\n",
    "dfChannelCountUS = pd.DataFrame(dfUSvideos.channel_title.value_counts().reset_index())\n",
    "\n",
    "#reset index dari 1\n",
    "dfChannelCountUS.index = dfChannelCountUS.index + 1\n",
    "\n",
    "#rename kolom\n",
    "dfChannelCountUS.columns = ['channel_title', 'trending_count']\n",
    "\n",
    "dfChannelCountUS.head(5)"
   ]
  },
  {
   "cell_type": "code",
   "execution_count": 82,
   "metadata": {},
   "outputs": [
    {
     "name": "stdout",
     "output_type": "stream",
     "text": [
      "TOP 5 CHANNEL YANG MASUK DAILY TRENDING DI UNITED STATES\n"
     ]
    },
    {
     "data": {
      "text/html": [
       "<div>\n",
       "<style scoped>\n",
       "    .dataframe tbody tr th:only-of-type {\n",
       "        vertical-align: middle;\n",
       "    }\n",
       "\n",
       "    .dataframe tbody tr th {\n",
       "        vertical-align: top;\n",
       "    }\n",
       "\n",
       "    .dataframe thead th {\n",
       "        text-align: right;\n",
       "    }\n",
       "</style>\n",
       "<table border=\"1\" class=\"dataframe\">\n",
       "  <thead>\n",
       "    <tr style=\"text-align: right;\">\n",
       "      <th></th>\n",
       "      <th>channel_title</th>\n",
       "      <th>trending_count</th>\n",
       "      <th>views</th>\n",
       "    </tr>\n",
       "  </thead>\n",
       "  <tbody>\n",
       "    <tr>\n",
       "      <td>1</td>\n",
       "      <td>ESPN</td>\n",
       "      <td>203</td>\n",
       "      <td>105654218</td>\n",
       "    </tr>\n",
       "    <tr>\n",
       "      <td>2</td>\n",
       "      <td>The Tonight Show Starring Jimmy Fallon</td>\n",
       "      <td>197</td>\n",
       "      <td>271426383</td>\n",
       "    </tr>\n",
       "    <tr>\n",
       "      <td>3</td>\n",
       "      <td>Vox</td>\n",
       "      <td>193</td>\n",
       "      <td>122633963</td>\n",
       "    </tr>\n",
       "    <tr>\n",
       "      <td>4</td>\n",
       "      <td>TheEllenShow</td>\n",
       "      <td>193</td>\n",
       "      <td>253841999</td>\n",
       "    </tr>\n",
       "    <tr>\n",
       "      <td>5</td>\n",
       "      <td>Netflix</td>\n",
       "      <td>193</td>\n",
       "      <td>185818315</td>\n",
       "    </tr>\n",
       "  </tbody>\n",
       "</table>\n",
       "</div>"
      ],
      "text/plain": [
       "                            channel_title  trending_count      views\n",
       "1                                    ESPN             203  105654218\n",
       "2  The Tonight Show Starring Jimmy Fallon             197  271426383\n",
       "3                                     Vox             193  122633963\n",
       "4                            TheEllenShow             193  253841999\n",
       "5                                 Netflix             193  185818315"
      ]
     },
     "execution_count": 82,
     "metadata": {},
     "output_type": "execute_result"
    }
   ],
   "source": [
    "#membuat dataframe baru yang merupakan hasil merge dari dfChannelCountUS dan dfChannelViewUS berdasarkan channel_title\n",
    "dfTop5ChannelUS = pd.merge(dfChannelCountUS,dfChannelViewUS, on=\"channel_title\").reset_index(drop = True)\n",
    "\n",
    "#melakukan index ulang dari angka 1\n",
    "dfTop5ChannelUS.index = dfTop5ChannelUS.index + 1      \n",
    "\n",
    "print(\"TOP 5 CHANNEL YANG MASUK DAILY TRENDING DI UNITED STATES\")\n",
    "dfTop5ChannelUS.head(5)"
   ]
  },
  {
   "cell_type": "markdown",
   "metadata": {},
   "source": [
    "<b>------------------------------------------------------------------------------------------------------------------------------------------------------------------------------------------------------------------------------------------------------------------------------------------------------------------------------------------------------------------------------------------------------------------------------------</b>"
   ]
  },
  {
   "cell_type": "markdown",
   "metadata": {},
   "source": [
    "## TOP 5 VIDEO YANG PALING SERING MASUK DAILY TRENDING UNITED STATES"
   ]
  },
  {
   "cell_type": "markdown",
   "metadata": {},
   "source": [
    "Untuk mencari top 5 video yang paling sering masuk daily trending di tiap wilayah wilayah, maka dataframe baru yang menampilkan berapa kali video muncul di datasets Videos tersebut perlu untuk dibuat.\n",
    "\n",
    "#### Di sini size() digunakan untuk menghitung suatu elemen pada dataframe, tetapi jika size() dikombinasikan dengan groupby() , maka size akan bertindak seperti count() yang menghitung kolom yang di-groupby-kan"
   ]
  },
  {
   "cell_type": "code",
   "execution_count": 83,
   "metadata": {},
   "outputs": [
    {
     "name": "stdout",
     "output_type": "stream",
     "text": [
      "TOP 5 VIDEO YANG MASUK DAILY TRENDING DI UNITED STATES\n"
     ]
    },
    {
     "data": {
      "text/html": [
       "<div>\n",
       "<style scoped>\n",
       "    .dataframe tbody tr th:only-of-type {\n",
       "        vertical-align: middle;\n",
       "    }\n",
       "\n",
       "    .dataframe tbody tr th {\n",
       "        vertical-align: top;\n",
       "    }\n",
       "\n",
       "    .dataframe thead th {\n",
       "        text-align: right;\n",
       "    }\n",
       "</style>\n",
       "<table border=\"1\" class=\"dataframe\">\n",
       "  <thead>\n",
       "    <tr style=\"text-align: right;\">\n",
       "      <th></th>\n",
       "      <th>video_id</th>\n",
       "      <th>title</th>\n",
       "      <th>category_id</th>\n",
       "      <th>count</th>\n",
       "    </tr>\n",
       "  </thead>\n",
       "  <tbody>\n",
       "    <tr>\n",
       "      <td>1</td>\n",
       "      <td>j4KvrAUjn6c</td>\n",
       "      <td>WE MADE OUR MOM CRY...HER DREAM CAME TRUE!</td>\n",
       "      <td>24</td>\n",
       "      <td>30</td>\n",
       "    </tr>\n",
       "    <tr>\n",
       "      <td>2</td>\n",
       "      <td>iILJvqrAQ_w</td>\n",
       "      <td>Charlie Puth - BOY [Official Audio]</td>\n",
       "      <td>10</td>\n",
       "      <td>29</td>\n",
       "    </tr>\n",
       "    <tr>\n",
       "      <td>3</td>\n",
       "      <td>t4pRQ0jn23Q</td>\n",
       "      <td>YoungBoy Never Broke Again Goes Sneaker Shoppi...</td>\n",
       "      <td>24</td>\n",
       "      <td>29</td>\n",
       "    </tr>\n",
       "    <tr>\n",
       "      <td>4</td>\n",
       "      <td>r-3iathMo7o</td>\n",
       "      <td>The ULTIMATE $30,000 Gaming PC Setup</td>\n",
       "      <td>28</td>\n",
       "      <td>29</td>\n",
       "    </tr>\n",
       "    <tr>\n",
       "      <td>5</td>\n",
       "      <td>8h--kFui1JA</td>\n",
       "      <td>Sam Smith - Pray (Official Video) ft. Logic</td>\n",
       "      <td>10</td>\n",
       "      <td>29</td>\n",
       "    </tr>\n",
       "  </tbody>\n",
       "</table>\n",
       "</div>"
      ],
      "text/plain": [
       "      video_id                                              title  \\\n",
       "1  j4KvrAUjn6c         WE MADE OUR MOM CRY...HER DREAM CAME TRUE!   \n",
       "2  iILJvqrAQ_w                Charlie Puth - BOY [Official Audio]   \n",
       "3  t4pRQ0jn23Q  YoungBoy Never Broke Again Goes Sneaker Shoppi...   \n",
       "4  r-3iathMo7o               The ULTIMATE $30,000 Gaming PC Setup   \n",
       "5  8h--kFui1JA        Sam Smith - Pray (Official Video) ft. Logic   \n",
       "\n",
       "   category_id  count  \n",
       "1           24     30  \n",
       "2           10     29  \n",
       "3           24     29  \n",
       "4           28     29  \n",
       "5           10     29  "
      ]
     },
     "execution_count": 83,
     "metadata": {},
     "output_type": "execute_result"
    }
   ],
   "source": [
    "#membuat dataframe baru dengan size() yang menghitung berapa kali video_id & title muncul dalam datasets dfUSvideos\n",
    "dfTop5VideoUS = dfUSvideos.groupby([\"video_id\", \"title\",\"category_id\"]).size().reset_index(name=\"count\")\n",
    "\n",
    "#sorting berdasarkan count\n",
    "dfTop5VideoUS.sort_values(by=\"count\", inplace = True, ascending = False)\n",
    "\n",
    "#reset index dari 1\n",
    "dfTop5VideoUS.reset_index(drop = True, inplace = True)\n",
    "dfTop5VideoUS.index = dfTop5VideoUS.index + 1\n",
    "\n",
    "print(\"TOP 5 VIDEO YANG MASUK DAILY TRENDING DI UNITED STATES\")\n",
    "dfTop5VideoUS.head(5)"
   ]
  }
 ],
 "metadata": {
  "kernelspec": {
   "display_name": "Python 3",
   "language": "python",
   "name": "python3"
  },
  "language_info": {
   "codemirror_mode": {
    "name": "ipython",
    "version": 3
   },
   "file_extension": ".py",
   "mimetype": "text/x-python",
   "name": "python",
   "nbconvert_exporter": "python",
   "pygments_lexer": "ipython3",
   "version": "3.7.4"
  }
 },
 "nbformat": 4,
 "nbformat_minor": 2
}
